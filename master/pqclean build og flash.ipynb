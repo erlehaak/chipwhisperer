{
 "cells": [
  {
   "cell_type": "code",
   "execution_count": 1,
   "id": "68085a06",
   "metadata": {},
   "outputs": [
    {
     "name": "stderr",
     "output_type": "stream",
     "text": [
      "(ChipWhisperer Other WARNING|File __init__.py:69) ChipWhisperer update available! See https://chipwhisperer.readthedocs.io/en/latest/installing.html for updating instructions\n"
     ]
    }
   ],
   "source": [
    "import chipwhisperer as cw\n",
    "scope = cw.scope()\n",
    "target = cw.target(scope, cw.targets.SimpleSerial) #cw.targets.SimpleSerial can be omitted\n",
    "scope.default_setup()"
   ]
  },
  {
   "cell_type": "code",
   "execution_count": 187,
   "id": "d65fc606",
   "metadata": {},
   "outputs": [
    {
     "name": "stdout",
     "output_type": "stream",
     "text": [
      "SS_VER set to SS_VER_1_1\n",
      "make clean_objs .dep \n",
      "make[1]: Entering directory '/home/vagrant/work/projects/chipwhisperer/hardware/victims/firmware/simpleserial-kyber512-testcendring'\n",
      "SS_VER set to SS_VER_1_1\n",
      "rm -f -- simpleserial-kyber512-testcendring-CW308_STM32F3.hex\n",
      "rm -f -- simpleserial-kyber512-testcendring-CW308_STM32F3.eep\n",
      "rm -f -- simpleserial-kyber512-testcendring-CW308_STM32F3.cof\n",
      "rm -f -- simpleserial-kyber512-testcendring-CW308_STM32F3.elf\n",
      "rm -f -- simpleserial-kyber512-testcendring-CW308_STM32F3.map\n",
      "rm -f -- simpleserial-kyber512-testcendring-CW308_STM32F3.sym\n",
      "rm -f -- simpleserial-kyber512-testcendring-CW308_STM32F3.lss\n",
      "rm -f -- objdir-CW308_STM32F3/*.o\n",
      "rm -f -- objdir-CW308_STM32F3/*.lst\n",
      "rm -f -- test.s kem.s fips202.s indcpa.s randombytes.s symmetric-shake.s poly.s polyvec.s cbd.s ntt.s reduce.s verify.s simpleserial.s stm32f3_hal.s stm32f3_hal_lowlevel.s stm32f3_sysmem.s\n",
      "rm -f -- test.d kem.d fips202.d indcpa.d randombytes.d symmetric-shake.d poly.d polyvec.d cbd.d ntt.d reduce.d verify.d simpleserial.d stm32f3_hal.d stm32f3_hal_lowlevel.d stm32f3_sysmem.d\n",
      "rm -f -- test.i kem.i fips202.i indcpa.i randombytes.i symmetric-shake.i poly.i polyvec.i cbd.i ntt.i reduce.i verify.i simpleserial.i stm32f3_hal.i stm32f3_hal_lowlevel.i stm32f3_sysmem.i\n",
      "make[1]: '.dep' is up to date.\n",
      "make[1]: Leaving directory '/home/vagrant/work/projects/chipwhisperer/hardware/victims/firmware/simpleserial-kyber512-testcendring'\n",
      "make begin gccversion build sizeafter fastnote end\n",
      "make[1]: Entering directory '/home/vagrant/work/projects/chipwhisperer/hardware/victims/firmware/simpleserial-kyber512-testcendring'\n",
      "SS_VER set to SS_VER_1_1\n",
      ".\n",
      "Welcome to another exciting ChipWhisperer target build!!\n",
      "arm-none-eabi-gcc (15:8-2019-q3-1+b1) 8.3.1 20190703 (release) [gcc-8-branch revision 273027]\n",
      "Copyright (C) 2018 Free Software Foundation, Inc.\n",
      "This is free software; see the source for copying conditions.  There is NO\n",
      "warranty; not even for MERCHANTABILITY or FITNESS FOR A PARTICULAR PURPOSE.\n",
      "\n",
      ".\n",
      "Compiling C: test.c\n",
      "arm-none-eabi-gcc -c -mcpu=cortex-m4 -I. -mthumb -mfloat-abi=soft -fmessage-length=0 -ffunction-sections -gdwarf-2 -DSS_VER=SS_VER_1_1 -DSTM32F303xC -DSTM32F3 -DSTM32 -DDEBUG -DHAL_TYPE=HAL_stm32f3 -DPLATFORM=CW308_STM32F3 -DF_CPU=7372800UL -DSS_VER_2_0=2 -DSS_VER_2_1=3 -DSS_VER_1_1=1 -DSS_VER_1_0=0 -Os -funsigned-char -funsigned-bitfields -fshort-enums -Wall -Wstrict-prototypes -Wa,-adhlns=objdir-CW308_STM32F3/test.lst -I.././simpleserial/ -I.././hal -I.././hal/stm32f3 -I.././hal/stm32f3/CMSIS -I.././hal/stm32f3/CMSIS/core -I.././hal/stm32f3/CMSIS/device -I.././hal/stm32f4/Legacy -I.././crypto/ -std=gnu99  -MMD -MP -MF .dep/test.o.d test.c -o objdir-CW308_STM32F3/test.o\n"
     ]
    },
    {
     "name": "stderr",
     "output_type": "stream",
     "text": [
      "test.c: In function 'get_pk':\n",
      "test.c:40:27: warning: pointer targets in passing argument 2 of 'strncpy' differ in signedness [-Wpointer-sign]\n",
      "         strncpy(chunk, pk + i, 16); // copy chunk 96 into the chunk array\n",
      "                        ~~~^~~\n",
      "In file included from test.c:6:\n",
      "/usr/include/newlib/string.h:44:8: note: expected 'const char * restrict' but argument is of type 'unsigned char *'\n",
      " char  *strncpy (char *__restrict, const char *__restrict, size_t);\n",
      "        ^~~~~~~\n",
      "test.c:42:35: warning: pointer targets in passing argument 3 of 'simpleserial_put' differ in signedness [-Wpointer-sign]\n",
      "         simpleserial_put('p', 16, chunk);\n",
      "                                   ^~~~~\n",
      "In file included from test.c:4:\n",
      ".././simpleserial/simpleserial.h:63:6: note: expected 'uint8_t *' {aka 'unsigned char *'} but argument is of type 'char *'\n",
      " void simpleserial_put(char c, uint8_t size, uint8_t* output);\n",
      "      ^~~~~~~~~~~~~~~~\n",
      "test.c: In function 'get_full_pk':\n",
      "test.c:59:24: warning: unsigned conversion from 'int' to 'uint8_t' {aka 'unsigned char'} changes value from '800' to '32' [-Woverflow]\n",
      "  simpleserial_put('p', 800, pk);\n",
      "                        ^~~\n",
      "test.c: In function 'main':\n",
      "test.c:72:31: warning: passing argument 3 of 'simpleserial_addcmd' from incompatible pointer type [-Wincompatible-pointer-types]\n",
      "   simpleserial_addcmd('k', 0, test_keys);\n",
      "                               ^~~~~~~~~\n",
      "In file included from test.c:4:\n",
      ".././simpleserial/simpleserial.h:49:61: note: expected 'uint8_t (*)(uint8_t *, uint8_t)' {aka 'unsigned char (*)(unsigned char *, unsigned char)'} but argument is of type 'int (*)(void)'\n",
      " int simpleserial_addcmd(char c, unsigned int len, uint8_t (*fp)(uint8_t*, uint8_t));\n",
      "                                                   ~~~~~~~~~~^~~~~~~~~~~~~~~~~~~~~~\n",
      "test.c:73:31: warning: passing argument 3 of 'simpleserial_addcmd' from incompatible pointer type [-Wincompatible-pointer-types]\n",
      "   simpleserial_addcmd('p', 0, get_pk);\n",
      "                               ^~~~~~\n",
      "In file included from test.c:4:\n",
      ".././simpleserial/simpleserial.h:49:61: note: expected 'uint8_t (*)(uint8_t *, uint8_t)' {aka 'unsigned char (*)(unsigned char *, unsigned char)'} but argument is of type 'int (*)(void)'\n",
      " int simpleserial_addcmd(char c, unsigned int len, uint8_t (*fp)(uint8_t*, uint8_t));\n",
      "                                                   ~~~~~~~~~~^~~~~~~~~~~~~~~~~~~~~~\n",
      "test.c:74:31: warning: passing argument 3 of 'simpleserial_addcmd' from incompatible pointer type [-Wincompatible-pointer-types]\n",
      "   simpleserial_addcmd('r', 0, reset);\n",
      "                               ^~~~~\n",
      "In file included from test.c:4:\n",
      ".././simpleserial/simpleserial.h:49:61: note: expected 'uint8_t (*)(uint8_t *, uint8_t)' {aka 'unsigned char (*)(unsigned char *, unsigned char)'} but argument is of type 'int (*)(void)'\n",
      " int simpleserial_addcmd(char c, unsigned int len, uint8_t (*fp)(uint8_t*, uint8_t));\n",
      "                                                   ~~~~~~~~~~^~~~~~~~~~~~~~~~~~~~~~\n",
      "test.c:75:31: warning: passing argument 3 of 'simpleserial_addcmd' from incompatible pointer type [-Wincompatible-pointer-types]\n",
      "   simpleserial_addcmd('f', 0, get_full_pk);\n",
      "                               ^~~~~~~~~~~\n",
      "In file included from test.c:4:\n",
      ".././simpleserial/simpleserial.h:49:61: note: expected 'uint8_t (*)(uint8_t *, uint8_t)' {aka 'unsigned char (*)(unsigned char *, unsigned char)'} but argument is of type 'int (*)(void)'\n",
      " int simpleserial_addcmd(char c, unsigned int len, uint8_t (*fp)(uint8_t*, uint8_t));\n",
      "                                                   ~~~~~~~~~~^~~~~~~~~~~~~~~~~~~~~~\n"
     ]
    },
    {
     "name": "stdout",
     "output_type": "stream",
     "text": [
      ".\n",
      "Compiling C: kem.c\n",
      "arm-none-eabi-gcc -c -mcpu=cortex-m4 -I. -mthumb -mfloat-abi=soft -fmessage-length=0 -ffunction-sections -gdwarf-2 -DSS_VER=SS_VER_1_1 -DSTM32F303xC -DSTM32F3 -DSTM32 -DDEBUG -DHAL_TYPE=HAL_stm32f3 -DPLATFORM=CW308_STM32F3 -DF_CPU=7372800UL -DSS_VER_2_0=2 -DSS_VER_2_1=3 -DSS_VER_1_1=1 -DSS_VER_1_0=0 -Os -funsigned-char -funsigned-bitfields -fshort-enums -Wall -Wstrict-prototypes -Wa,-adhlns=objdir-CW308_STM32F3/kem.lst -I.././simpleserial/ -I.././hal -I.././hal/stm32f3 -I.././hal/stm32f3/CMSIS -I.././hal/stm32f3/CMSIS/core -I.././hal/stm32f3/CMSIS/device -I.././hal/stm32f4/Legacy -I.././crypto/ -std=gnu99  -MMD -MP -MF .dep/kem.o.d kem.c -o objdir-CW308_STM32F3/kem.o\n",
      ".\n",
      "Compiling C: fips202.c\n",
      "arm-none-eabi-gcc -c -mcpu=cortex-m4 -I. -mthumb -mfloat-abi=soft -fmessage-length=0 -ffunction-sections -gdwarf-2 -DSS_VER=SS_VER_1_1 -DSTM32F303xC -DSTM32F3 -DSTM32 -DDEBUG -DHAL_TYPE=HAL_stm32f3 -DPLATFORM=CW308_STM32F3 -DF_CPU=7372800UL -DSS_VER_2_0=2 -DSS_VER_2_1=3 -DSS_VER_1_1=1 -DSS_VER_1_0=0 -Os -funsigned-char -funsigned-bitfields -fshort-enums -Wall -Wstrict-prototypes -Wa,-adhlns=objdir-CW308_STM32F3/fips202.lst -I.././simpleserial/ -I.././hal -I.././hal/stm32f3 -I.././hal/stm32f3/CMSIS -I.././hal/stm32f3/CMSIS/core -I.././hal/stm32f3/CMSIS/device -I.././hal/stm32f4/Legacy -I.././crypto/ -std=gnu99  -MMD -MP -MF .dep/fips202.o.d fips202.c -o objdir-CW308_STM32F3/fips202.o\n",
      ".\n",
      "Compiling C: indcpa.c\n",
      "arm-none-eabi-gcc -c -mcpu=cortex-m4 -I. -mthumb -mfloat-abi=soft -fmessage-length=0 -ffunction-sections -gdwarf-2 -DSS_VER=SS_VER_1_1 -DSTM32F303xC -DSTM32F3 -DSTM32 -DDEBUG -DHAL_TYPE=HAL_stm32f3 -DPLATFORM=CW308_STM32F3 -DF_CPU=7372800UL -DSS_VER_2_0=2 -DSS_VER_2_1=3 -DSS_VER_1_1=1 -DSS_VER_1_0=0 -Os -funsigned-char -funsigned-bitfields -fshort-enums -Wall -Wstrict-prototypes -Wa,-adhlns=objdir-CW308_STM32F3/indcpa.lst -I.././simpleserial/ -I.././hal -I.././hal/stm32f3 -I.././hal/stm32f3/CMSIS -I.././hal/stm32f3/CMSIS/core -I.././hal/stm32f3/CMSIS/device -I.././hal/stm32f4/Legacy -I.././crypto/ -std=gnu99  -MMD -MP -MF .dep/indcpa.o.d indcpa.c -o objdir-CW308_STM32F3/indcpa.o\n",
      ".\n",
      "Compiling C: randombytes.c\n",
      "arm-none-eabi-gcc -c -mcpu=cortex-m4 -I. -mthumb -mfloat-abi=soft -fmessage-length=0 -ffunction-sections -gdwarf-2 -DSS_VER=SS_VER_1_1 -DSTM32F303xC -DSTM32F3 -DSTM32 -DDEBUG -DHAL_TYPE=HAL_stm32f3 -DPLATFORM=CW308_STM32F3 -DF_CPU=7372800UL -DSS_VER_2_0=2 -DSS_VER_2_1=3 -DSS_VER_1_1=1 -DSS_VER_1_0=0 -Os -funsigned-char -funsigned-bitfields -fshort-enums -Wall -Wstrict-prototypes -Wa,-adhlns=objdir-CW308_STM32F3/randombytes.lst -I.././simpleserial/ -I.././hal -I.././hal/stm32f3 -I.././hal/stm32f3/CMSIS -I.././hal/stm32f3/CMSIS/core -I.././hal/stm32f3/CMSIS/device -I.././hal/stm32f4/Legacy -I.././crypto/ -std=gnu99  -MMD -MP -MF .dep/randombytes.o.d randombytes.c -o objdir-CW308_STM32F3/randombytes.o\n"
     ]
    },
    {
     "name": "stderr",
     "output_type": "stream",
     "text": [
      "randombytes.c:38:2: warning: #warning Using a non-random randombytes [-Wcpp]\n",
      " #warning Using a non-random randombytes\n",
      "  ^~~~~~~\n"
     ]
    },
    {
     "name": "stdout",
     "output_type": "stream",
     "text": [
      ".\n",
      "Compiling C: symmetric-shake.c\n",
      "arm-none-eabi-gcc -c -mcpu=cortex-m4 -I. -mthumb -mfloat-abi=soft -fmessage-length=0 -ffunction-sections -gdwarf-2 -DSS_VER=SS_VER_1_1 -DSTM32F303xC -DSTM32F3 -DSTM32 -DDEBUG -DHAL_TYPE=HAL_stm32f3 -DPLATFORM=CW308_STM32F3 -DF_CPU=7372800UL -DSS_VER_2_0=2 -DSS_VER_2_1=3 -DSS_VER_1_1=1 -DSS_VER_1_0=0 -Os -funsigned-char -funsigned-bitfields -fshort-enums -Wall -Wstrict-prototypes -Wa,-adhlns=objdir-CW308_STM32F3/symmetric-shake.lst -I.././simpleserial/ -I.././hal -I.././hal/stm32f3 -I.././hal/stm32f3/CMSIS -I.././hal/stm32f3/CMSIS/core -I.././hal/stm32f3/CMSIS/device -I.././hal/stm32f4/Legacy -I.././crypto/ -std=gnu99  -MMD -MP -MF .dep/symmetric-shake.o.d symmetric-shake.c -o objdir-CW308_STM32F3/symmetric-shake.o\n",
      ".\n",
      "Compiling C: poly.c\n",
      "arm-none-eabi-gcc -c -mcpu=cortex-m4 -I. -mthumb -mfloat-abi=soft -fmessage-length=0 -ffunction-sections -gdwarf-2 -DSS_VER=SS_VER_1_1 -DSTM32F303xC -DSTM32F3 -DSTM32 -DDEBUG -DHAL_TYPE=HAL_stm32f3 -DPLATFORM=CW308_STM32F3 -DF_CPU=7372800UL -DSS_VER_2_0=2 -DSS_VER_2_1=3 -DSS_VER_1_1=1 -DSS_VER_1_0=0 -Os -funsigned-char -funsigned-bitfields -fshort-enums -Wall -Wstrict-prototypes -Wa,-adhlns=objdir-CW308_STM32F3/poly.lst -I.././simpleserial/ -I.././hal -I.././hal/stm32f3 -I.././hal/stm32f3/CMSIS -I.././hal/stm32f3/CMSIS/core -I.././hal/stm32f3/CMSIS/device -I.././hal/stm32f4/Legacy -I.././crypto/ -std=gnu99  -MMD -MP -MF .dep/poly.o.d poly.c -o objdir-CW308_STM32F3/poly.o\n",
      ".\n",
      "Compiling C: polyvec.c\n",
      "arm-none-eabi-gcc -c -mcpu=cortex-m4 -I. -mthumb -mfloat-abi=soft -fmessage-length=0 -ffunction-sections -gdwarf-2 -DSS_VER=SS_VER_1_1 -DSTM32F303xC -DSTM32F3 -DSTM32 -DDEBUG -DHAL_TYPE=HAL_stm32f3 -DPLATFORM=CW308_STM32F3 -DF_CPU=7372800UL -DSS_VER_2_0=2 -DSS_VER_2_1=3 -DSS_VER_1_1=1 -DSS_VER_1_0=0 -Os -funsigned-char -funsigned-bitfields -fshort-enums -Wall -Wstrict-prototypes -Wa,-adhlns=objdir-CW308_STM32F3/polyvec.lst -I.././simpleserial/ -I.././hal -I.././hal/stm32f3 -I.././hal/stm32f3/CMSIS -I.././hal/stm32f3/CMSIS/core -I.././hal/stm32f3/CMSIS/device -I.././hal/stm32f4/Legacy -I.././crypto/ -std=gnu99  -MMD -MP -MF .dep/polyvec.o.d polyvec.c -o objdir-CW308_STM32F3/polyvec.o\n",
      ".\n",
      "Compiling C: cbd.c\n",
      "arm-none-eabi-gcc -c -mcpu=cortex-m4 -I. -mthumb -mfloat-abi=soft -fmessage-length=0 -ffunction-sections -gdwarf-2 -DSS_VER=SS_VER_1_1 -DSTM32F303xC -DSTM32F3 -DSTM32 -DDEBUG -DHAL_TYPE=HAL_stm32f3 -DPLATFORM=CW308_STM32F3 -DF_CPU=7372800UL -DSS_VER_2_0=2 -DSS_VER_2_1=3 -DSS_VER_1_1=1 -DSS_VER_1_0=0 -Os -funsigned-char -funsigned-bitfields -fshort-enums -Wall -Wstrict-prototypes -Wa,-adhlns=objdir-CW308_STM32F3/cbd.lst -I.././simpleserial/ -I.././hal -I.././hal/stm32f3 -I.././hal/stm32f3/CMSIS -I.././hal/stm32f3/CMSIS/core -I.././hal/stm32f3/CMSIS/device -I.././hal/stm32f4/Legacy -I.././crypto/ -std=gnu99  -MMD -MP -MF .dep/cbd.o.d cbd.c -o objdir-CW308_STM32F3/cbd.o\n",
      ".\n",
      "Compiling C: ntt.c\n",
      "arm-none-eabi-gcc -c -mcpu=cortex-m4 -I. -mthumb -mfloat-abi=soft -fmessage-length=0 -ffunction-sections -gdwarf-2 -DSS_VER=SS_VER_1_1 -DSTM32F303xC -DSTM32F3 -DSTM32 -DDEBUG -DHAL_TYPE=HAL_stm32f3 -DPLATFORM=CW308_STM32F3 -DF_CPU=7372800UL -DSS_VER_2_0=2 -DSS_VER_2_1=3 -DSS_VER_1_1=1 -DSS_VER_1_0=0 -Os -funsigned-char -funsigned-bitfields -fshort-enums -Wall -Wstrict-prototypes -Wa,-adhlns=objdir-CW308_STM32F3/ntt.lst -I.././simpleserial/ -I.././hal -I.././hal/stm32f3 -I.././hal/stm32f3/CMSIS -I.././hal/stm32f3/CMSIS/core -I.././hal/stm32f3/CMSIS/device -I.././hal/stm32f4/Legacy -I.././crypto/ -std=gnu99  -MMD -MP -MF .dep/ntt.o.d ntt.c -o objdir-CW308_STM32F3/ntt.o\n",
      ".\n",
      "Compiling C: reduce.c\n",
      "arm-none-eabi-gcc -c -mcpu=cortex-m4 -I. -mthumb -mfloat-abi=soft -fmessage-length=0 -ffunction-sections -gdwarf-2 -DSS_VER=SS_VER_1_1 -DSTM32F303xC -DSTM32F3 -DSTM32 -DDEBUG -DHAL_TYPE=HAL_stm32f3 -DPLATFORM=CW308_STM32F3 -DF_CPU=7372800UL -DSS_VER_2_0=2 -DSS_VER_2_1=3 -DSS_VER_1_1=1 -DSS_VER_1_0=0 -Os -funsigned-char -funsigned-bitfields -fshort-enums -Wall -Wstrict-prototypes -Wa,-adhlns=objdir-CW308_STM32F3/reduce.lst -I.././simpleserial/ -I.././hal -I.././hal/stm32f3 -I.././hal/stm32f3/CMSIS -I.././hal/stm32f3/CMSIS/core -I.././hal/stm32f3/CMSIS/device -I.././hal/stm32f4/Legacy -I.././crypto/ -std=gnu99  -MMD -MP -MF .dep/reduce.o.d reduce.c -o objdir-CW308_STM32F3/reduce.o\n",
      ".\n",
      "Compiling C: verify.c\n",
      "arm-none-eabi-gcc -c -mcpu=cortex-m4 -I. -mthumb -mfloat-abi=soft -fmessage-length=0 -ffunction-sections -gdwarf-2 -DSS_VER=SS_VER_1_1 -DSTM32F303xC -DSTM32F3 -DSTM32 -DDEBUG -DHAL_TYPE=HAL_stm32f3 -DPLATFORM=CW308_STM32F3 -DF_CPU=7372800UL -DSS_VER_2_0=2 -DSS_VER_2_1=3 -DSS_VER_1_1=1 -DSS_VER_1_0=0 -Os -funsigned-char -funsigned-bitfields -fshort-enums -Wall -Wstrict-prototypes -Wa,-adhlns=objdir-CW308_STM32F3/verify.lst -I.././simpleserial/ -I.././hal -I.././hal/stm32f3 -I.././hal/stm32f3/CMSIS -I.././hal/stm32f3/CMSIS/core -I.././hal/stm32f3/CMSIS/device -I.././hal/stm32f4/Legacy -I.././crypto/ -std=gnu99  -MMD -MP -MF .dep/verify.o.d verify.c -o objdir-CW308_STM32F3/verify.o\n",
      ".\n",
      "Compiling C: .././simpleserial/simpleserial.c\n",
      "arm-none-eabi-gcc -c -mcpu=cortex-m4 -I. -mthumb -mfloat-abi=soft -fmessage-length=0 -ffunction-sections -gdwarf-2 -DSS_VER=SS_VER_1_1 -DSTM32F303xC -DSTM32F3 -DSTM32 -DDEBUG -DHAL_TYPE=HAL_stm32f3 -DPLATFORM=CW308_STM32F3 -DF_CPU=7372800UL -DSS_VER_2_0=2 -DSS_VER_2_1=3 -DSS_VER_1_1=1 -DSS_VER_1_0=0 -Os -funsigned-char -funsigned-bitfields -fshort-enums -Wall -Wstrict-prototypes -Wa,-adhlns=objdir-CW308_STM32F3/simpleserial.lst -I.././simpleserial/ -I.././hal -I.././hal/stm32f3 -I.././hal/stm32f3/CMSIS -I.././hal/stm32f3/CMSIS/core -I.././hal/stm32f3/CMSIS/device -I.././hal/stm32f4/Legacy -I.././crypto/ -std=gnu99  -MMD -MP -MF .dep/simpleserial.o.d .././simpleserial/simpleserial.c -o objdir-CW308_STM32F3/simpleserial.o\n",
      ".\n",
      "Compiling C: .././hal/stm32f3/stm32f3_hal.c\n",
      "arm-none-eabi-gcc -c -mcpu=cortex-m4 -I. -mthumb -mfloat-abi=soft -fmessage-length=0 -ffunction-sections -gdwarf-2 -DSS_VER=SS_VER_1_1 -DSTM32F303xC -DSTM32F3 -DSTM32 -DDEBUG -DHAL_TYPE=HAL_stm32f3 -DPLATFORM=CW308_STM32F3 -DF_CPU=7372800UL -DSS_VER_2_0=2 -DSS_VER_2_1=3 -DSS_VER_1_1=1 -DSS_VER_1_0=0 -Os -funsigned-char -funsigned-bitfields -fshort-enums -Wall -Wstrict-prototypes -Wa,-adhlns=objdir-CW308_STM32F3/stm32f3_hal.lst -I.././simpleserial/ -I.././hal -I.././hal/stm32f3 -I.././hal/stm32f3/CMSIS -I.././hal/stm32f3/CMSIS/core -I.././hal/stm32f3/CMSIS/device -I.././hal/stm32f4/Legacy -I.././crypto/ -std=gnu99  -MMD -MP -MF .dep/stm32f3_hal.o.d .././hal/stm32f3/stm32f3_hal.c -o objdir-CW308_STM32F3/stm32f3_hal.o\n",
      ".\n",
      "Compiling C: .././hal/stm32f3/stm32f3_hal_lowlevel.c\n",
      "arm-none-eabi-gcc -c -mcpu=cortex-m4 -I. -mthumb -mfloat-abi=soft -fmessage-length=0 -ffunction-sections -gdwarf-2 -DSS_VER=SS_VER_1_1 -DSTM32F303xC -DSTM32F3 -DSTM32 -DDEBUG -DHAL_TYPE=HAL_stm32f3 -DPLATFORM=CW308_STM32F3 -DF_CPU=7372800UL -DSS_VER_2_0=2 -DSS_VER_2_1=3 -DSS_VER_1_1=1 -DSS_VER_1_0=0 -Os -funsigned-char -funsigned-bitfields -fshort-enums -Wall -Wstrict-prototypes -Wa,-adhlns=objdir-CW308_STM32F3/stm32f3_hal_lowlevel.lst -I.././simpleserial/ -I.././hal -I.././hal/stm32f3 -I.././hal/stm32f3/CMSIS -I.././hal/stm32f3/CMSIS/core -I.././hal/stm32f3/CMSIS/device -I.././hal/stm32f4/Legacy -I.././crypto/ -std=gnu99  -MMD -MP -MF .dep/stm32f3_hal_lowlevel.o.d .././hal/stm32f3/stm32f3_hal_lowlevel.c -o objdir-CW308_STM32F3/stm32f3_hal_lowlevel.o\n",
      ".\n",
      "Compiling C: .././hal/stm32f3/stm32f3_sysmem.c\n",
      "arm-none-eabi-gcc -c -mcpu=cortex-m4 -I. -mthumb -mfloat-abi=soft -fmessage-length=0 -ffunction-sections -gdwarf-2 -DSS_VER=SS_VER_1_1 -DSTM32F303xC -DSTM32F3 -DSTM32 -DDEBUG -DHAL_TYPE=HAL_stm32f3 -DPLATFORM=CW308_STM32F3 -DF_CPU=7372800UL -DSS_VER_2_0=2 -DSS_VER_2_1=3 -DSS_VER_1_1=1 -DSS_VER_1_0=0 -Os -funsigned-char -funsigned-bitfields -fshort-enums -Wall -Wstrict-prototypes -Wa,-adhlns=objdir-CW308_STM32F3/stm32f3_sysmem.lst -I.././simpleserial/ -I.././hal -I.././hal/stm32f3 -I.././hal/stm32f3/CMSIS -I.././hal/stm32f3/CMSIS/core -I.././hal/stm32f3/CMSIS/device -I.././hal/stm32f4/Legacy -I.././crypto/ -std=gnu99  -MMD -MP -MF .dep/stm32f3_sysmem.o.d .././hal/stm32f3/stm32f3_sysmem.c -o objdir-CW308_STM32F3/stm32f3_sysmem.o\n",
      ".\n",
      "Assembling: .././hal/stm32f3/stm32f3_startup.S\n"
     ]
    },
    {
     "name": "stdout",
     "output_type": "stream",
     "text": [
      "arm-none-eabi-gcc -c -mcpu=cortex-m4 -I. -x assembler-with-cpp -mthumb -mfloat-abi=soft -fmessage-length=0 -ffunction-sections -DF_CPU=7372800 -Wa,-gstabs,-adhlns=objdir-CW308_STM32F3/stm32f3_startup.lst -I.././simpleserial/ -I.././hal -I.././hal/stm32f3 -I.././hal/stm32f3/CMSIS -I.././hal/stm32f3/CMSIS/core -I.././hal/stm32f3/CMSIS/device -I.././hal/stm32f4/Legacy -I.././crypto/ .././hal/stm32f3/stm32f3_startup.S -o objdir-CW308_STM32F3/stm32f3_startup.o\n",
      ".\n",
      "Linking: simpleserial-kyber512-testcendring-CW308_STM32F3.elf\n",
      "arm-none-eabi-gcc -mcpu=cortex-m4 -I. -mthumb -mfloat-abi=soft -fmessage-length=0 -ffunction-sections -gdwarf-2 -DSS_VER=SS_VER_1_1 -DSTM32F303xC -DSTM32F3 -DSTM32 -DDEBUG -DHAL_TYPE=HAL_stm32f3 -DPLATFORM=CW308_STM32F3 -DF_CPU=7372800UL -DSS_VER_2_0=2 -DSS_VER_2_1=3 -DSS_VER_1_1=1 -DSS_VER_1_0=0 -Os -funsigned-char -funsigned-bitfields -fshort-enums -Wall -Wstrict-prototypes -Wa,-adhlns=objdir-CW308_STM32F3/test.o -I.././simpleserial/ -I.././hal -I.././hal/stm32f3 -I.././hal/stm32f3/CMSIS -I.././hal/stm32f3/CMSIS/core -I.././hal/stm32f3/CMSIS/device -I.././hal/stm32f4/Legacy -I.././crypto/ -std=gnu99  -MMD -MP -MF .dep/simpleserial-kyber512-testcendring-CW308_STM32F3.elf.d objdir-CW308_STM32F3/test.o objdir-CW308_STM32F3/kem.o objdir-CW308_STM32F3/fips202.o objdir-CW308_STM32F3/indcpa.o objdir-CW308_STM32F3/randombytes.o objdir-CW308_STM32F3/symmetric-shake.o objdir-CW308_STM32F3/poly.o objdir-CW308_STM32F3/polyvec.o objdir-CW308_STM32F3/cbd.o objdir-CW308_STM32F3/ntt.o objdir-CW308_STM32F3/reduce.o objdir-CW308_STM32F3/verify.o objdir-CW308_STM32F3/simpleserial.o objdir-CW308_STM32F3/stm32f3_hal.o objdir-CW308_STM32F3/stm32f3_hal_lowlevel.o objdir-CW308_STM32F3/stm32f3_sysmem.o objdir-CW308_STM32F3/stm32f3_startup.o --output simpleserial-kyber512-testcendring-CW308_STM32F3.elf --specs=nano.specs --specs=nosys.specs -T .././hal/stm32f3/LinkerScript.ld -Wl,--gc-sections -lm -Wl,-Map=simpleserial-kyber512-testcendring-CW308_STM32F3.map,--cref   -lm  \n",
      ".\n",
      "Creating load file for Flash: simpleserial-kyber512-testcendring-CW308_STM32F3.hex\n",
      "arm-none-eabi-objcopy -O ihex -R .eeprom -R .fuse -R .lock -R .signature simpleserial-kyber512-testcendring-CW308_STM32F3.elf simpleserial-kyber512-testcendring-CW308_STM32F3.hex\n",
      ".\n",
      "Creating load file for Flash: simpleserial-kyber512-testcendring-CW308_STM32F3.bin\n",
      "arm-none-eabi-objcopy -O binary -R .eeprom -R .fuse -R .lock -R .signature simpleserial-kyber512-testcendring-CW308_STM32F3.elf simpleserial-kyber512-testcendring-CW308_STM32F3.bin\n",
      ".\n",
      "Creating load file for EEPROM: simpleserial-kyber512-testcendring-CW308_STM32F3.eep\n",
      "arm-none-eabi-objcopy -j .eeprom --set-section-flags=.eeprom=\"alloc,load\" \\\n",
      "--change-section-lma .eeprom=0 --no-change-warnings -O ihex simpleserial-kyber512-testcendring-CW308_STM32F3.elf simpleserial-kyber512-testcendring-CW308_STM32F3.eep || exit 0\n",
      ".\n",
      "Creating Extended Listing: simpleserial-kyber512-testcendring-CW308_STM32F3.lss\n",
      "arm-none-eabi-objdump -h -S -z simpleserial-kyber512-testcendring-CW308_STM32F3.elf > simpleserial-kyber512-testcendring-CW308_STM32F3.lss\n",
      ".\n",
      "Creating Symbol Table: simpleserial-kyber512-testcendring-CW308_STM32F3.sym\n",
      "arm-none-eabi-nm -n simpleserial-kyber512-testcendring-CW308_STM32F3.elf > simpleserial-kyber512-testcendring-CW308_STM32F3.sym\n",
      "Size after:\n",
      "   text\t   data\t    bss\t    dec\t    hex\tfilename\n",
      "  12880\t    108\t   4836\t  17824\t   45a0\tsimpleserial-kyber512-testcendring-CW308_STM32F3.elf\n",
      "+--------------------------------------------------------\n",
      "+ Default target does full rebuild each time.\n",
      "+ Specify buildtarget == allquick == to avoid full rebuild\n",
      "+--------------------------------------------------------\n",
      "+--------------------------------------------------------\n",
      "+ Built for platform CW308T: STM32F3 Target with:\n",
      "+ CRYPTO_TARGET = NONE\n",
      "+ CRYPTO_OPTIONS = AVRCRYPTOLIB\n",
      "+--------------------------------------------------------\n",
      "make[1]: Leaving directory '/home/vagrant/work/projects/chipwhisperer/hardware/victims/firmware/simpleserial-kyber512-testcendring'\n"
     ]
    }
   ],
   "source": [
    "%%bash\n",
    "cd ../hardware/victims/firmware/simpleserial-kyber512-testcendring/\n",
    "make PLATFORM=CW308_STM32F3 CRYPTO_TARGET=NONE"
   ]
  },
  {
   "cell_type": "code",
   "execution_count": 188,
   "id": "19184fe5",
   "metadata": {},
   "outputs": [
    {
     "name": "stdout",
     "output_type": "stream",
     "text": [
      "Detected known STMF32: STM32F302xB(C)/303xB(C)\n",
      "Extended erase (0x44), this can take ten seconds or more\n",
      "Attempting to program 12987 bytes at 0x8000000\n",
      "STM32F Programming flash...\n",
      "STM32F Reading flash...\n",
      "Verified flash OK, 12987 bytes\n"
     ]
    }
   ],
   "source": [
    "cw.program_target(scope, cw.programmers.STM32FProgrammer, \"../hardware/victims/firmware/simpleserial-kyber512-testcendring/simpleserial-kyber512-testcendring-CW308_STM32F3.hex\")"
   ]
  },
  {
   "cell_type": "code",
   "execution_count": 86,
   "id": "59bcd95e",
   "metadata": {},
   "outputs": [],
   "source": []
  },
  {
   "cell_type": "code",
   "execution_count": 3,
   "id": "dde6cb72",
   "metadata": {},
   "outputs": [
    {
     "name": "stderr",
     "output_type": "stream",
     "text": [
      "(ChipWhisperer Target WARNING|File SimpleSerial.py:396) Unexpected start to command: º\n"
     ]
    },
    {
     "name": "stdout",
     "output_type": "stream",
     "text": [
      "None\n"
     ]
    }
   ],
   "source": [
    "print(target.simpleserial_read('p', 96))"
   ]
  },
  {
   "cell_type": "code",
   "execution_count": 190,
   "id": "7623d770",
   "metadata": {},
   "outputs": [],
   "source": [
    "recv_msg1 = \"\""
   ]
  },
  {
   "cell_type": "code",
   "execution_count": 192,
   "id": "e64b6784",
   "metadata": {},
   "outputs": [
    {
     "name": "stdout",
     "output_type": "stream",
     "text": [
      "r000000000000000000000000000000000000000000000000000000000000000000000000000000000000000000000000\n",
      "f747B0A937A6327387E8BE5048FA2BBA08B3F6EE805386BC16D2A2717507479D7C4200917561620DBC5557563C3106656\n",
      "z00\n"
     ]
    }
   ],
   "source": [
    "recv_msg1 += target.read(timeout=0) #Skriver det som har blitt printet i target, r: før keygen, f: etter key gen, z: ack på testkeys fullført. 2 char per byte (hex)\n",
    "print(recv_msg1)"
   ]
  },
  {
   "cell_type": "code",
   "execution_count": 129,
   "id": "98d6780d",
   "metadata": {},
   "outputs": [
    {
     "name": "stdout",
     "output_type": "stream",
     "text": [
      "103\n"
     ]
    }
   ],
   "source": [
    "b = \"sadfabx\\nz0\"\n",
    "print(len('0000000000000000000000000000000000000000000000000000000000000000000000000000000000000000000000000000000'))"
   ]
  },
  {
   "cell_type": "code",
   "execution_count": 146,
   "id": "abb22dd0",
   "metadata": {},
   "outputs": [],
   "source": [
    "#Henter simpleserial versjon v1 max 64 byte, v2 maks 192 byte\n",
    "target.simpleserial_write('v', bytearray())"
   ]
  },
  {
   "cell_type": "code",
   "execution_count": 144,
   "id": "35aaacb6",
   "metadata": {},
   "outputs": [],
   "source": [
    "#Resetter counter\n",
    "target.simpleserial_write('r', bytearray())"
   ]
  },
  {
   "cell_type": "code",
   "execution_count": 191,
   "id": "05452f14",
   "metadata": {},
   "outputs": [],
   "source": [
    "#Starter test keys som kjører key gen og printer nøkkel før og etter key gen.\n",
    "target.simpleserial_write('k', bytearray())"
   ]
  },
  {
   "cell_type": "code",
   "execution_count": 147,
   "id": "e7d7beda",
   "metadata": {},
   "outputs": [],
   "source": [
    "#Printer hele public key\n",
    "target.simpleserial_write('p', bytearray())"
   ]
  },
  {
   "cell_type": "code",
   "execution_count": 126,
   "id": "83f688a7",
   "metadata": {},
   "outputs": [],
   "source": []
  },
  {
   "cell_type": "code",
   "execution_count": 193,
   "id": "f3d93a83",
   "metadata": {},
   "outputs": [
    {
     "name": "stdout",
     "output_type": "stream",
     "text": [
      "747B0A937A6327387E8BE5048FA2BBA08B3F6EE805386BC16D2A2717507479D7C4200917561620DBC5557563C3106656A396047F77945C1491EFC52A3FE29685A71005C550F06531ED446D7D139EC2131BF2944231D25F1C96A675B7348CC60CEE414C75F99A871586C971C94C31B647CA5A890B876A954F13E45B892951DF7BB2D5B5AD43684F0A597820DC6F44E8528E735EB0966DDC6602FA041256B86992157DE6A99E48850D32038AB4D0062AC7676B250DF3302424695771860BCCF626AE802422B9189E4A630D2C330FB5395AB15D86062A0116A78E7301A43524F552C8E3A3C6EBA80000000000000000000074CB32CE72C15DCC78B9F59224054F46106F201A5E32B9C1BF6093C109B5B6AA3F7ADB62B96C0A2E070927F70FEE5168D1579AD273A9FE59BCEA18630B2B8770DB0BD0A85770D05E35D025D1D85ABC946593FCAE68D300000000000000000000AB67CE026584200000000000000000001B8E1B308DD5B6C1549163A775438D03929989CC8207075909C2CA912379061BCF138C089621CE9BCF19033DF623A02BD04A2C9BB418110FC02221D5A7A3E357648EA48DD04269341B27FFDB13ED8167000000000000000000000000000000009064CF038F09FB0000000000000000008B8A850A48284FF10000000000000000BC1ACB5D8C5B81413531456BDA828DE8936BDE04A8FDDB1D20C1BCACF9510693784738AE21B253155C524DF4BC5C3607F6C9082F32C4DDB63C79A5A513D256FD2B268C424369EC4E3FAA266713A96B47256770C2AFD8C6641B9730940B60E92ECEF932738CB48A8B0F9BE08D92AB099E36BF8DE8BE07252229F309D61A526C81A7B95A4DF2F7277991C0217035F38C61C9AC2D198812552870A1E2A00C33055D4568DAE92A28B06196EC4BA3EC9103B2C3B21BC4FF89759615686ABB55A8DBADEF1378ADD86961A6BC881130B5EA056BB2121351A43D3286687C8098EACBC79332FEB6A57035A16BC92049EAAC297487DCC5A302248E51E135CDFC15B34B714420BF2AA6B22EC87567555E5FA24628779934258616BA3C93459273ACC85E2A601F097D7A17F4454A7730BAC1E623B9459492F8C0233FF2958E88F5996FE17989\n"
     ]
    }
   ],
   "source": [
    "msg = \"\"\n",
    "target.simpleserial_write('r', bytearray())\n",
    "target.read(timeout=0)\n",
    "recv_msg = \"\"\n",
    "\n",
    "while(len(msg)<1600):\n",
    "    target.simpleserial_write('p', bytearray()) \n",
    "    while(recv_msg[-5:]!='\\nz00\\n'):\n",
    "        recv_msg += target.read(timeout=0)\n",
    "\n",
    "    msg+=recv_msg[1:-5]\n",
    "    recv_msg = \"\"\n",
    "\n",
    "print(msg[:1600])"
   ]
  },
  {
   "cell_type": "code",
   "execution_count": 194,
   "id": "081f9334",
   "metadata": {},
   "outputs": [
    {
     "name": "stdout",
     "output_type": "stream",
     "text": [
      "747B0A937A6327387E8BE5048FA2BBA08B3F6EE805386BC16D2A2717507479D7C4200917561620DBC5557563C3106656A396047F77945C1491EFC52A3FE29685A71005C550F06531ED446D7D139EC2131BF2944231D25F1C96A675B7348CC60CEE414C75F99A871586C971C94C31B647CA5A890B876A954F13E45B892951DF7BB2D5B5AD43684F0A597820DC6F44E8528E735EB0966DDC6602FA041256B86992157DE6A99E48850D32038AB4D0062AC7676B250DF3302424695771860BCCF626AE802422B9189E4A630D2C330FB5395AB15D86062A0116A78E7301A43524F552C8E3A3C6EBA80000000000000000000074CB32CE72C15DCC78B9F59224054F46106F201A5E32B9C1BF6093C109B5B6AA3F7ADB62B96C0A2E070927F70FEE5168D1579AD273A9FE59BCEA18630B2B8770DB0BD0A85770D05E35D025D1D85ABC946593FCAE68D300000000000000000000AB67CE026584200000000000000000001B8E1B308DD5B6C1549163A775438D03929989CC8207075909C2CA912379061BCF138C089621CE9BCF19033DF623A02BD04A2C9BB418110FC02221D5A7A3E357648EA48DD04269341B27FFDB13ED8167000000000000000000000000000000009064CF038F09FB0000000000000000008B8A850A48284FF10000000000000000BC1ACB5D8C5B81413531456BDA828DE8936BDE04A8FDDB1D20C1BCACF9510693784738AE21B253155C524DF4BC5C3607F6C9082F32C4DDB63C79A5A513D256FD2B268C424369EC4E3FAA266713A96B47256770C2AFD8C6641B9730940B60E92ECEF932738CB48A8B0F9BE08D92AB099E36BF8DE8BE07252229F309D61A526C81A7B95A4DF2F7277991C0217035F38C61C9AC2D198812552870A1E2A00C33055D4568DAE92A28B06196EC4BA3EC9103B2C3B21BC4FF89759615686ABB55A8DBADEF1378ADD86961A6BC881130B5EA056BB2121351A43D3286687C8098EACBC79332FEB6A57035A16BC92049EAAC297487DCC5A302248E51E135CDFC15B34B714420BF2AA6B22EC87567555E5FA24628779934258616BA3C93459273ACC85E2A601F097D7A17F4454A7730BAC1E623B9459492F8C0233FF2958E88F5996FE17989\n"
     ]
    }
   ],
   "source": [
    "print(msg)"
   ]
  }
 ],
 "metadata": {
  "kernelspec": {
   "display_name": "Python 3 (ipykernel)",
   "language": "python",
   "name": "python3"
  },
  "language_info": {
   "codemirror_mode": {
    "name": "ipython",
    "version": 3
   },
   "file_extension": ".py",
   "mimetype": "text/x-python",
   "name": "python",
   "nbconvert_exporter": "python",
   "pygments_lexer": "ipython3",
   "version": "3.9.7"
  }
 },
 "nbformat": 4,
 "nbformat_minor": 5
}
