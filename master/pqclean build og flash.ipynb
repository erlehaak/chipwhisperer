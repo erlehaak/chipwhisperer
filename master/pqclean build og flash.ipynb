{
 "cells": [
  {
   "cell_type": "code",
   "execution_count": 8,
   "id": "68085a06",
   "metadata": {},
   "outputs": [],
   "source": [
    "import chipwhisperer as cw\n",
    "scope = cw.scope()\n",
    "target = cw.target(scope, cw.targets.SimpleSerial) #cw.targets.SimpleSerial can be omitted\n",
    "scope.default_setup()"
   ]
  },
  {
   "cell_type": "code",
   "execution_count": 55,
   "id": "d65fc606",
   "metadata": {},
   "outputs": [
    {
     "name": "stdout",
     "output_type": "stream",
     "text": [
      "SS_VER set to SS_VER_1_1\n",
      "make clean_objs .dep \n",
      "make[1]: Entering directory '/home/vagrant/work/projects/chipwhisperer/hardware/victims/firmware/simpleserial-kyber512-testcendring'\n",
      "SS_VER set to SS_VER_1_1\n",
      "rm -f -- simpleserial-kyber512-testcendring-CW308_STM32F3.hex\n",
      "rm -f -- simpleserial-kyber512-testcendring-CW308_STM32F3.eep\n",
      "rm -f -- simpleserial-kyber512-testcendring-CW308_STM32F3.cof\n",
      "rm -f -- simpleserial-kyber512-testcendring-CW308_STM32F3.elf\n",
      "rm -f -- simpleserial-kyber512-testcendring-CW308_STM32F3.map\n",
      "rm -f -- simpleserial-kyber512-testcendring-CW308_STM32F3.sym\n",
      "rm -f -- simpleserial-kyber512-testcendring-CW308_STM32F3.lss\n",
      "rm -f -- objdir-CW308_STM32F3/*.o\n",
      "rm -f -- objdir-CW308_STM32F3/*.lst\n",
      "rm -f -- test.s simpleserial.s stm32f3_hal.s stm32f3_hal_lowlevel.s stm32f3_sysmem.s\n",
      "rm -f -- test.d simpleserial.d stm32f3_hal.d stm32f3_hal_lowlevel.d stm32f3_sysmem.d\n",
      "rm -f -- test.i simpleserial.i stm32f3_hal.i stm32f3_hal_lowlevel.i stm32f3_sysmem.i\n",
      "make[1]: '.dep' is up to date.\n",
      "make[1]: Leaving directory '/home/vagrant/work/projects/chipwhisperer/hardware/victims/firmware/simpleserial-kyber512-testcendring'\n",
      "make begin gccversion build sizeafter fastnote end\n",
      "make[1]: Entering directory '/home/vagrant/work/projects/chipwhisperer/hardware/victims/firmware/simpleserial-kyber512-testcendring'\n",
      "SS_VER set to SS_VER_1_1\n",
      ".\n",
      "Welcome to another exciting ChipWhisperer target build!!\n",
      "arm-none-eabi-gcc (15:8-2019-q3-1+b1) 8.3.1 20190703 (release) [gcc-8-branch revision 273027]\n",
      "Copyright (C) 2018 Free Software Foundation, Inc.\n",
      "This is free software; see the source for copying conditions.  There is NO\n",
      "warranty; not even for MERCHANTABILITY or FITNESS FOR A PARTICULAR PURPOSE.\n",
      "\n",
      ".\n",
      "Compiling C: test.c\n",
      "arm-none-eabi-gcc -c -mcpu=cortex-m4 -I. -mthumb -mfloat-abi=soft -fmessage-length=0 -ffunction-sections -gdwarf-2 -DSS_VER=SS_VER_1_1 -DSTM32F303xC -DSTM32F3 -DSTM32 -DDEBUG -DHAL_TYPE=HAL_stm32f3 -DPLATFORM=CW308_STM32F3 -DF_CPU=7372800UL -DSS_VER_2_0=2 -DSS_VER_2_1=3 -DSS_VER_1_1=1 -DSS_VER_1_0=0 -Os -funsigned-char -funsigned-bitfields -fshort-enums -Wall -Wstrict-prototypes -Wa,-adhlns=objdir-CW308_STM32F3/test.lst -I.././simpleserial/ -I.././hal -I.././hal/stm32f3 -I.././hal/stm32f3/CMSIS -I.././hal/stm32f3/CMSIS/core -I.././hal/stm32f3/CMSIS/device -I.././hal/stm32f4/Legacy -I.././crypto/ -std=gnu99  -MMD -MP -MF .dep/test.o.d test.c -o objdir-CW308_STM32F3/test.o\n"
     ]
    },
    {
     "name": "stderr",
     "output_type": "stream",
     "text": [
      "test.c: In function 'test_keys':\n",
      "test.c:65:31: warning: left-hand operand of comma expression has no effect [-Wunused-value]\n",
      "   MUPQ_crypto_kem_keypair(pk+8, sk_a+8);\n",
      "                               ^\n",
      "test.c:65:31: warning: statement with no effect [-Wunused-value]\n",
      "   MUPQ_crypto_kem_keypair(pk+8, sk_a+8);\n",
      "                          ~~~~~^~~~~~~~~\n",
      "test.c:69:30: warning: left-hand operand of comma expression has no effect [-Wunused-value]\n",
      "   MUPQ_crypto_kem_enc(sendb+8, key_b+8, pk+8);\n",
      "                              ^\n",
      "test.c:69:39: warning: left-hand operand of comma expression has no effect [-Wunused-value]\n",
      "   MUPQ_crypto_kem_enc(sendb+8, key_b+8, pk+8);\n",
      "                                       ^\n",
      "test.c:69:39: warning: statement with no effect [-Wunused-value]\n",
      "   MUPQ_crypto_kem_enc(sendb+8, key_b+8, pk+8);\n",
      "                      ~~~~~~~~~~~~~~~~~^~~~~~~\n",
      "test.c:72:30: warning: left-hand operand of comma expression has no effect [-Wunused-value]\n",
      "   MUPQ_crypto_kem_dec(key_a+8, sendb+8, sk_a+8);\n",
      "                              ^\n",
      "test.c:72:39: warning: left-hand operand of comma expression has no effect [-Wunused-value]\n",
      "   MUPQ_crypto_kem_dec(key_a+8, sendb+8, sk_a+8);\n",
      "                                       ^\n",
      "test.c:72:39: warning: statement with no effect [-Wunused-value]\n",
      "   MUPQ_crypto_kem_dec(key_a+8, sendb+8, sk_a+8);\n",
      "                      ~~~~~~~~~~~~~~~~~^~~~~~~~~\n",
      "test.c: In function 'main':\n",
      "test.c:90:32: warning: passing argument 3 of 'simpleserial_addcmd' from incompatible pointer type [-Wincompatible-pointer-types]\n",
      "   simpleserial_addcmd('k', 16, test_keys);\n",
      "                                ^~~~~~~~~\n",
      "In file included from test.c:4:\n",
      ".././simpleserial/simpleserial.h:49:61: note: expected 'uint8_t (*)(uint8_t *, uint8_t)' {aka 'unsigned char (*)(unsigned char *, unsigned char)'} but argument is of type 'int (*)(void)'\n",
      " int simpleserial_addcmd(char c, unsigned int len, uint8_t (*fp)(uint8_t*, uint8_t));\n",
      "                                                   ~~~~~~~~~~^~~~~~~~~~~~~~~~~~~~~~\n",
      "At top level:\n",
      "test.c:33:13: warning: 'write_canary' defined but not used [-Wunused-function]\n",
      " static void write_canary(uint8_t *d) {\n",
      "             ^~~~~~~~~~~~\n"
     ]
    },
    {
     "name": "stdout",
     "output_type": "stream",
     "text": [
      ".\n",
      "Compiling C: .././simpleserial/simpleserial.c\n",
      "arm-none-eabi-gcc -c -mcpu=cortex-m4 -I. -mthumb -mfloat-abi=soft -fmessage-length=0 -ffunction-sections -gdwarf-2 -DSS_VER=SS_VER_1_1 -DSTM32F303xC -DSTM32F3 -DSTM32 -DDEBUG -DHAL_TYPE=HAL_stm32f3 -DPLATFORM=CW308_STM32F3 -DF_CPU=7372800UL -DSS_VER_2_0=2 -DSS_VER_2_1=3 -DSS_VER_1_1=1 -DSS_VER_1_0=0 -Os -funsigned-char -funsigned-bitfields -fshort-enums -Wall -Wstrict-prototypes -Wa,-adhlns=objdir-CW308_STM32F3/simpleserial.lst -I.././simpleserial/ -I.././hal -I.././hal/stm32f3 -I.././hal/stm32f3/CMSIS -I.././hal/stm32f3/CMSIS/core -I.././hal/stm32f3/CMSIS/device -I.././hal/stm32f4/Legacy -I.././crypto/ -std=gnu99  -MMD -MP -MF .dep/simpleserial.o.d .././simpleserial/simpleserial.c -o objdir-CW308_STM32F3/simpleserial.o\n",
      ".\n",
      "Compiling C: .././hal/stm32f3/stm32f3_hal.c\n",
      "arm-none-eabi-gcc -c -mcpu=cortex-m4 -I. -mthumb -mfloat-abi=soft -fmessage-length=0 -ffunction-sections -gdwarf-2 -DSS_VER=SS_VER_1_1 -DSTM32F303xC -DSTM32F3 -DSTM32 -DDEBUG -DHAL_TYPE=HAL_stm32f3 -DPLATFORM=CW308_STM32F3 -DF_CPU=7372800UL -DSS_VER_2_0=2 -DSS_VER_2_1=3 -DSS_VER_1_1=1 -DSS_VER_1_0=0 -Os -funsigned-char -funsigned-bitfields -fshort-enums -Wall -Wstrict-prototypes -Wa,-adhlns=objdir-CW308_STM32F3/stm32f3_hal.lst -I.././simpleserial/ -I.././hal -I.././hal/stm32f3 -I.././hal/stm32f3/CMSIS -I.././hal/stm32f3/CMSIS/core -I.././hal/stm32f3/CMSIS/device -I.././hal/stm32f4/Legacy -I.././crypto/ -std=gnu99  -MMD -MP -MF .dep/stm32f3_hal.o.d .././hal/stm32f3/stm32f3_hal.c -o objdir-CW308_STM32F3/stm32f3_hal.o\n",
      ".\n",
      "Compiling C: .././hal/stm32f3/stm32f3_hal_lowlevel.c\n",
      "arm-none-eabi-gcc -c -mcpu=cortex-m4 -I. -mthumb -mfloat-abi=soft -fmessage-length=0 -ffunction-sections -gdwarf-2 -DSS_VER=SS_VER_1_1 -DSTM32F303xC -DSTM32F3 -DSTM32 -DDEBUG -DHAL_TYPE=HAL_stm32f3 -DPLATFORM=CW308_STM32F3 -DF_CPU=7372800UL -DSS_VER_2_0=2 -DSS_VER_2_1=3 -DSS_VER_1_1=1 -DSS_VER_1_0=0 -Os -funsigned-char -funsigned-bitfields -fshort-enums -Wall -Wstrict-prototypes -Wa,-adhlns=objdir-CW308_STM32F3/stm32f3_hal_lowlevel.lst -I.././simpleserial/ -I.././hal -I.././hal/stm32f3 -I.././hal/stm32f3/CMSIS -I.././hal/stm32f3/CMSIS/core -I.././hal/stm32f3/CMSIS/device -I.././hal/stm32f4/Legacy -I.././crypto/ -std=gnu99  -MMD -MP -MF .dep/stm32f3_hal_lowlevel.o.d .././hal/stm32f3/stm32f3_hal_lowlevel.c -o objdir-CW308_STM32F3/stm32f3_hal_lowlevel.o\n",
      ".\n",
      "Compiling C: .././hal/stm32f3/stm32f3_sysmem.c\n",
      "arm-none-eabi-gcc -c -mcpu=cortex-m4 -I. -mthumb -mfloat-abi=soft -fmessage-length=0 -ffunction-sections -gdwarf-2 -DSS_VER=SS_VER_1_1 -DSTM32F303xC -DSTM32F3 -DSTM32 -DDEBUG -DHAL_TYPE=HAL_stm32f3 -DPLATFORM=CW308_STM32F3 -DF_CPU=7372800UL -DSS_VER_2_0=2 -DSS_VER_2_1=3 -DSS_VER_1_1=1 -DSS_VER_1_0=0 -Os -funsigned-char -funsigned-bitfields -fshort-enums -Wall -Wstrict-prototypes -Wa,-adhlns=objdir-CW308_STM32F3/stm32f3_sysmem.lst -I.././simpleserial/ -I.././hal -I.././hal/stm32f3 -I.././hal/stm32f3/CMSIS -I.././hal/stm32f3/CMSIS/core -I.././hal/stm32f3/CMSIS/device -I.././hal/stm32f4/Legacy -I.././crypto/ -std=gnu99  -MMD -MP -MF .dep/stm32f3_sysmem.o.d .././hal/stm32f3/stm32f3_sysmem.c -o objdir-CW308_STM32F3/stm32f3_sysmem.o\n",
      ".\n",
      "Assembling: .././hal/stm32f3/stm32f3_startup.S\n",
      "arm-none-eabi-gcc -c -mcpu=cortex-m4 -I. -x assembler-with-cpp -mthumb -mfloat-abi=soft -fmessage-length=0 -ffunction-sections -DF_CPU=7372800 -Wa,-gstabs,-adhlns=objdir-CW308_STM32F3/stm32f3_startup.lst -I.././simpleserial/ -I.././hal -I.././hal/stm32f3 -I.././hal/stm32f3/CMSIS -I.././hal/stm32f3/CMSIS/core -I.././hal/stm32f3/CMSIS/device -I.././hal/stm32f4/Legacy -I.././crypto/ .././hal/stm32f3/stm32f3_startup.S -o objdir-CW308_STM32F3/stm32f3_startup.o\n",
      ".\n",
      "Linking: simpleserial-kyber512-testcendring-CW308_STM32F3.elf\n",
      "arm-none-eabi-gcc -mcpu=cortex-m4 -I. -mthumb -mfloat-abi=soft -fmessage-length=0 -ffunction-sections -gdwarf-2 -DSS_VER=SS_VER_1_1 -DSTM32F303xC -DSTM32F3 -DSTM32 -DDEBUG -DHAL_TYPE=HAL_stm32f3 -DPLATFORM=CW308_STM32F3 -DF_CPU=7372800UL -DSS_VER_2_0=2 -DSS_VER_2_1=3 -DSS_VER_1_1=1 -DSS_VER_1_0=0 -Os -funsigned-char -funsigned-bitfields -fshort-enums -Wall -Wstrict-prototypes -Wa,-adhlns=objdir-CW308_STM32F3/test.o -I.././simpleserial/ -I.././hal -I.././hal/stm32f3 -I.././hal/stm32f3/CMSIS -I.././hal/stm32f3/CMSIS/core -I.././hal/stm32f3/CMSIS/device -I.././hal/stm32f4/Legacy -I.././crypto/ -std=gnu99  -MMD -MP -MF .dep/simpleserial-kyber512-testcendring-CW308_STM32F3.elf.d objdir-CW308_STM32F3/test.o objdir-CW308_STM32F3/simpleserial.o objdir-CW308_STM32F3/stm32f3_hal.o objdir-CW308_STM32F3/stm32f3_hal_lowlevel.o objdir-CW308_STM32F3/stm32f3_sysmem.o objdir-CW308_STM32F3/stm32f3_startup.o --output simpleserial-kyber512-testcendring-CW308_STM32F3.elf --specs=nano.specs --specs=nosys.specs -T .././hal/stm32f3/LinkerScript.ld -Wl,--gc-sections -lm -Wl,-Map=simpleserial-kyber512-testcendring-CW308_STM32F3.map,--cref   -lm  \n",
      ".\n",
      "Creating load file for Flash: simpleserial-kyber512-testcendring-CW308_STM32F3.hex\n",
      "arm-none-eabi-objcopy -O ihex -R .eeprom -R .fuse -R .lock -R .signature simpleserial-kyber512-testcendring-CW308_STM32F3.elf simpleserial-kyber512-testcendring-CW308_STM32F3.hex\n",
      ".\n",
      "Creating load file for Flash: simpleserial-kyber512-testcendring-CW308_STM32F3.bin\n",
      "arm-none-eabi-objcopy -O binary -R .eeprom -R .fuse -R .lock -R .signature simpleserial-kyber512-testcendring-CW308_STM32F3.elf simpleserial-kyber512-testcendring-CW308_STM32F3.bin\n",
      ".\n",
      "Creating load file for EEPROM: simpleserial-kyber512-testcendring-CW308_STM32F3.eep\n",
      "arm-none-eabi-objcopy -j .eeprom --set-section-flags=.eeprom=\"alloc,load\" \\\n",
      "--change-section-lma .eeprom=0 --no-change-warnings -O ihex simpleserial-kyber512-testcendring-CW308_STM32F3.elf simpleserial-kyber512-testcendring-CW308_STM32F3.eep || exit 0\n",
      ".\n",
      "Creating Extended Listing: simpleserial-kyber512-testcendring-CW308_STM32F3.lss\n",
      "arm-none-eabi-objdump -h -S -z simpleserial-kyber512-testcendring-CW308_STM32F3.elf > simpleserial-kyber512-testcendring-CW308_STM32F3.lss\n",
      ".\n",
      "Creating Symbol Table: simpleserial-kyber512-testcendring-CW308_STM32F3.sym\n",
      "arm-none-eabi-nm -n simpleserial-kyber512-testcendring-CW308_STM32F3.elf > simpleserial-kyber512-testcendring-CW308_STM32F3.sym\n",
      "Size after:\n",
      "   text\t   data\t    bss\t    dec\t    hex\tfilename\n",
      "   4948\t      8\t   1432\t   6388\t   18f4\tsimpleserial-kyber512-testcendring-CW308_STM32F3.elf\n",
      "+--------------------------------------------------------\n",
      "+ Default target does full rebuild each time.\n",
      "+ Specify buildtarget == allquick == to avoid full rebuild\n",
      "+--------------------------------------------------------\n",
      "+--------------------------------------------------------\n",
      "+ Built for platform CW308T: STM32F3 Target with:\n",
      "+ CRYPTO_TARGET = NONE\n",
      "+ CRYPTO_OPTIONS = AVRCRYPTOLIB\n",
      "+--------------------------------------------------------\n",
      "make[1]: Leaving directory '/home/vagrant/work/projects/chipwhisperer/hardware/victims/firmware/simpleserial-kyber512-testcendring'\n"
     ]
    }
   ],
   "source": [
    "%%bash\n",
    "cd ../hardware/victims/firmware/simpleserial-kyber512-testcendring/\n",
    "make PLATFORM=CW308_STM32F3 CRYPTO_TARGET=NONE"
   ]
  },
  {
   "cell_type": "code",
   "execution_count": 56,
   "id": "19184fe5",
   "metadata": {},
   "outputs": [
    {
     "name": "stdout",
     "output_type": "stream",
     "text": [
      "Detected known STMF32: STM32F302xB(C)/303xB(C)\n",
      "Extended erase (0x44), this can take ten seconds or more\n",
      "Attempting to program 4955 bytes at 0x8000000\n",
      "STM32F Programming flash...\n",
      "STM32F Reading flash...\n",
      "Verified flash OK, 4955 bytes\n"
     ]
    }
   ],
   "source": [
    "cw.program_target(scope, cw.programmers.STM32FProgrammer, \"../hardware/victims/firmware/simpleserial-kyber512-testcendring/simpleserial-kyber512-testcendring-CW308_STM32F3.hex\")"
   ]
  },
  {
   "cell_type": "code",
   "execution_count": 27,
   "id": "59bcd95e",
   "metadata": {},
   "outputs": [],
   "source": [
    "msg = bytearray([0]*16)"
   ]
  },
  {
   "cell_type": "code",
   "execution_count": 38,
   "id": "dde6cb72",
   "metadata": {},
   "outputs": [
    {
     "name": "stderr",
     "output_type": "stream",
     "text": [
      "(ChipWhisperer Target WARNING|File SimpleSerial.py:396) Unexpected start to command: \n"
     ]
    },
    {
     "name": "stdout",
     "output_type": "stream",
     "text": [
      "None\n"
     ]
    }
   ],
   "source": [
    "print(target.simpleserial_read('r', 16))"
   ]
  },
  {
   "cell_type": "code",
   "execution_count": 59,
   "id": "7623d770",
   "metadata": {},
   "outputs": [],
   "source": [
    "recv_msg = \"\""
   ]
  },
  {
   "cell_type": "code",
   "execution_count": 62,
   "id": "e64b6784",
   "metadata": {},
   "outputs": [
    {
     "name": "stdout",
     "output_type": "stream",
     "text": [
      "rE02C002010000000E02C002059020008\n",
      "fE02C002010000000E02C002059020008\n",
      "z00\n",
      "\n"
     ]
    }
   ],
   "source": [
    "recv_msg += target.read() #Skriver det som har blitt printet i target, r: før keygen, f: etter key gen, z: ack på testkeys fullført\n",
    "print(recv_msg)"
   ]
  },
  {
   "cell_type": "code",
   "execution_count": 61,
   "id": "c41f6fad",
   "metadata": {},
   "outputs": [],
   "source": [
    "#Starter test keys som kjører key gen og printer nøkkel før og etter key gen.\n",
    "target.simpleserial_write('k', msg)"
   ]
  }
 ],
 "metadata": {
  "kernelspec": {
   "display_name": "Python 3 (ipykernel)",
   "language": "python",
   "name": "python3"
  },
  "language_info": {
   "codemirror_mode": {
    "name": "ipython",
    "version": 3
   },
   "file_extension": ".py",
   "mimetype": "text/x-python",
   "name": "python",
   "nbconvert_exporter": "python",
   "pygments_lexer": "ipython3",
   "version": "3.9.7"
  }
 },
 "nbformat": 4,
 "nbformat_minor": 5
}
