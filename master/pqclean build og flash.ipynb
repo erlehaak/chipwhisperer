{
 "cells": [
  {
   "cell_type": "markdown",
   "id": "28e2b05e",
   "metadata": {},
   "source": [
    "# Importerer chipwhisperer, builder kode og sender til target"
   ]
  },
  {
   "cell_type": "code",
   "execution_count": 1,
   "id": "68085a06",
   "metadata": {
    "scrolled": true
   },
   "outputs": [
    {
     "name": "stderr",
     "output_type": "stream",
     "text": [
      "(ChipWhisperer Other WARNING|File __init__.py:69) ChipWhisperer update available! See https://chipwhisperer.readthedocs.io/en/latest/installing.html for updating instructions\n"
     ]
    }
   ],
   "source": [
    "import chipwhisperer as cw\n",
    "scope = cw.scope()\n",
    "target = cw.target(scope, cw.targets.SimpleSerial) #cw.targets.SimpleSerial can be omitted\n",
    "scope.default_setup()"
   ]
  },
  {
   "cell_type": "code",
   "execution_count": 2,
   "id": "d65fc606",
   "metadata": {
    "scrolled": true
   },
   "outputs": [
    {
     "name": "stdout",
     "output_type": "stream",
     "text": [
      "SS_VER set to SS_VER_1_1\n",
      "make clean_objs .dep \n",
      "make[1]: Entering directory '/home/vagrant/work/projects/chipwhisperer/hardware/victims/firmware/simpleserial-kyber512-testcendring'\n",
      "SS_VER set to SS_VER_1_1\n",
      "rm -f -- simpleserial-kyber512-testcendring-CW308_STM32F3.hex\n",
      "rm -f -- simpleserial-kyber512-testcendring-CW308_STM32F3.eep\n",
      "rm -f -- simpleserial-kyber512-testcendring-CW308_STM32F3.cof\n",
      "rm -f -- simpleserial-kyber512-testcendring-CW308_STM32F3.elf\n",
      "rm -f -- simpleserial-kyber512-testcendring-CW308_STM32F3.map\n",
      "rm -f -- simpleserial-kyber512-testcendring-CW308_STM32F3.sym\n",
      "rm -f -- simpleserial-kyber512-testcendring-CW308_STM32F3.lss\n",
      "rm -f -- objdir-CW308_STM32F3/*.o\n",
      "rm -f -- objdir-CW308_STM32F3/*.lst\n",
      "rm -f -- test.s kem.s fips202.s indcpa.s randombytes.s symmetric-shake.s poly.s polyvec.s cbd.s ntt.s reduce.s verify.s simpleserial.s stm32f3_hal.s stm32f3_hal_lowlevel.s stm32f3_sysmem.s\n",
      "rm -f -- test.d kem.d fips202.d indcpa.d randombytes.d symmetric-shake.d poly.d polyvec.d cbd.d ntt.d reduce.d verify.d simpleserial.d stm32f3_hal.d stm32f3_hal_lowlevel.d stm32f3_sysmem.d\n",
      "rm -f -- test.i kem.i fips202.i indcpa.i randombytes.i symmetric-shake.i poly.i polyvec.i cbd.i ntt.i reduce.i verify.i simpleserial.i stm32f3_hal.i stm32f3_hal_lowlevel.i stm32f3_sysmem.i\n",
      "make[1]: '.dep' is up to date.\n",
      "make[1]: Leaving directory '/home/vagrant/work/projects/chipwhisperer/hardware/victims/firmware/simpleserial-kyber512-testcendring'\n",
      "make begin gccversion build sizeafter fastnote end\n",
      "make[1]: Entering directory '/home/vagrant/work/projects/chipwhisperer/hardware/victims/firmware/simpleserial-kyber512-testcendring'\n",
      "SS_VER set to SS_VER_1_1\n",
      ".\n",
      "Welcome to another exciting ChipWhisperer target build!!\n",
      "arm-none-eabi-gcc (15:8-2019-q3-1+b1) 8.3.1 20190703 (release) [gcc-8-branch revision 273027]\n",
      "Copyright (C) 2018 Free Software Foundation, Inc.\n",
      "This is free software; see the source for copying conditions.  There is NO\n",
      "warranty; not even for MERCHANTABILITY or FITNESS FOR A PARTICULAR PURPOSE.\n",
      "\n",
      ".\n",
      "Compiling C: test.c\n",
      "arm-none-eabi-gcc -c -mcpu=cortex-m4 -I. -mthumb -mfloat-abi=soft -fmessage-length=0 -ffunction-sections -gdwarf-2 -DSS_VER=SS_VER_1_1 -DSTM32F303xC -DSTM32F3 -DSTM32 -DDEBUG -DHAL_TYPE=HAL_stm32f3 -DPLATFORM=CW308_STM32F3 -DF_CPU=7372800UL -DSS_VER_2_0=2 -DSS_VER_2_1=3 -DSS_VER_1_1=1 -DSS_VER_1_0=0 -Os -funsigned-char -funsigned-bitfields -fshort-enums -Wall -Wstrict-prototypes -Wa,-adhlns=objdir-CW308_STM32F3/test.lst -I.././simpleserial/ -I.././hal -I.././hal/stm32f3 -I.././hal/stm32f3/CMSIS -I.././hal/stm32f3/CMSIS/core -I.././hal/stm32f3/CMSIS/device -I.././hal/stm32f4/Legacy -I.././crypto/ -std=gnu99  -MMD -MP -MF .dep/test.o.d test.c -o objdir-CW308_STM32F3/test.o\n"
     ]
    },
    {
     "name": "stderr",
     "output_type": "stream",
     "text": [
      "test.c: In function 'encrypt':\n",
      "test.c:26:1: warning: no return statement in function returning non-void [-Wreturn-type]\n",
      " }\n",
      " ^\n",
      "test.c: In function 'decrypt':\n",
      "test.c:31:1: warning: no return statement in function returning non-void [-Wreturn-type]\n",
      " }\n",
      " ^\n",
      "test.c: In function 'get_pk':\n",
      "test.c:42:35: warning: pointer targets in passing argument 3 of 'simpleserial_put' differ in signedness [-Wpointer-sign]\n",
      "         simpleserial_put('p', 32, chunk);\n",
      "                                   ^~~~~\n",
      "In file included from test.c:4:\n",
      ".././simpleserial/simpleserial.h:63:6: note: expected 'uint8_t *' {aka 'unsigned char *'} but argument is of type 'char *'\n",
      " void simpleserial_put(char c, uint8_t size, uint8_t* output);\n",
      "      ^~~~~~~~~~~~~~~~\n",
      "test.c: In function 'get_sk':\n",
      "test.c:56:35: warning: pointer targets in passing argument 3 of 'simpleserial_put' differ in signedness [-Wpointer-sign]\n",
      "         simpleserial_put('s', 32, chunk);\n",
      "                                   ^~~~~\n",
      "In file included from test.c:4:\n",
      ".././simpleserial/simpleserial.h:63:6: note: expected 'uint8_t *' {aka 'unsigned char *'} but argument is of type 'char *'\n",
      " void simpleserial_put(char c, uint8_t size, uint8_t* output);\n",
      "      ^~~~~~~~~~~~~~~~\n",
      "test.c: In function 'get_ct':\n",
      "test.c:70:35: warning: pointer targets in passing argument 3 of 'simpleserial_put' differ in signedness [-Wpointer-sign]\n",
      "         simpleserial_put('c', 32, chunk);\n",
      "                                   ^~~~~\n",
      "In file included from test.c:4:\n",
      ".././simpleserial/simpleserial.h:63:6: note: expected 'uint8_t *' {aka 'unsigned char *'} but argument is of type 'char *'\n",
      " void simpleserial_put(char c, uint8_t size, uint8_t* output);\n",
      "      ^~~~~~~~~~~~~~~~\n",
      "test.c: In function 'get_ss_a':\n",
      "test.c:78:1: warning: no return statement in function returning non-void [-Wreturn-type]\n",
      " }\n",
      " ^\n",
      "test.c: In function 'get_ss_b':\n",
      "test.c:82:1: warning: no return statement in function returning non-void [-Wreturn-type]\n",
      " }\n",
      " ^\n",
      "test.c: In function 'main':\n",
      "test.c:110:31: warning: passing argument 3 of 'simpleserial_addcmd' from incompatible pointer type [-Wincompatible-pointer-types]\n",
      "   simpleserial_addcmd('k', 0, key_gen);\n",
      "                               ^~~~~~~\n",
      "In file included from test.c:4:\n",
      ".././simpleserial/simpleserial.h:49:61: note: expected 'uint8_t (*)(uint8_t *, uint8_t)' {aka 'unsigned char (*)(unsigned char *, unsigned char)'} but argument is of type 'int (*)(void)'\n",
      " int simpleserial_addcmd(char c, unsigned int len, uint8_t (*fp)(uint8_t*, uint8_t));\n",
      "                                                   ~~~~~~~~~~^~~~~~~~~~~~~~~~~~~~~~\n",
      "test.c:111:31: warning: passing argument 3 of 'simpleserial_addcmd' from incompatible pointer type [-Wincompatible-pointer-types]\n",
      "   simpleserial_addcmd('e', 0, encrypt);\n",
      "                               ^~~~~~~\n",
      "In file included from test.c:4:\n",
      ".././simpleserial/simpleserial.h:49:61: note: expected 'uint8_t (*)(uint8_t *, uint8_t)' {aka 'unsigned char (*)(unsigned char *, unsigned char)'} but argument is of type 'int (*)(void)'\n",
      " int simpleserial_addcmd(char c, unsigned int len, uint8_t (*fp)(uint8_t*, uint8_t));\n",
      "                                                   ~~~~~~~~~~^~~~~~~~~~~~~~~~~~~~~~\n",
      "test.c:112:31: warning: passing argument 3 of 'simpleserial_addcmd' from incompatible pointer type [-Wincompatible-pointer-types]\n",
      "   simpleserial_addcmd('d', 0, decrypt);\n",
      "                               ^~~~~~~\n",
      "In file included from test.c:4:\n",
      ".././simpleserial/simpleserial.h:49:61: note: expected 'uint8_t (*)(uint8_t *, uint8_t)' {aka 'unsigned char (*)(unsigned char *, unsigned char)'} but argument is of type 'int (*)(void)'\n",
      " int simpleserial_addcmd(char c, unsigned int len, uint8_t (*fp)(uint8_t*, uint8_t));\n",
      "                                                   ~~~~~~~~~~^~~~~~~~~~~~~~~~~~~~~~\n",
      "test.c:113:31: warning: passing argument 3 of 'simpleserial_addcmd' from incompatible pointer type [-Wincompatible-pointer-types]\n",
      "   simpleserial_addcmd('p', 0, get_pk);\n",
      "                               ^~~~~~\n",
      "In file included from test.c:4:\n",
      ".././simpleserial/simpleserial.h:49:61: note: expected 'uint8_t (*)(uint8_t *, uint8_t)' {aka 'unsigned char (*)(unsigned char *, unsigned char)'} but argument is of type 'int (*)(void)'\n",
      " int simpleserial_addcmd(char c, unsigned int len, uint8_t (*fp)(uint8_t*, uint8_t));\n",
      "                                                   ~~~~~~~~~~^~~~~~~~~~~~~~~~~~~~~~\n",
      "test.c:114:31: warning: passing argument 3 of 'simpleserial_addcmd' from incompatible pointer type [-Wincompatible-pointer-types]\n",
      "   simpleserial_addcmd('s', 0, get_sk);\n",
      "                               ^~~~~~\n",
      "In file included from test.c:4:\n",
      ".././simpleserial/simpleserial.h:49:61: note: expected 'uint8_t (*)(uint8_t *, uint8_t)' {aka 'unsigned char (*)(unsigned char *, unsigned char)'} but argument is of type 'int (*)(void)'\n",
      " int simpleserial_addcmd(char c, unsigned int len, uint8_t (*fp)(uint8_t*, uint8_t));\n",
      "                                                   ~~~~~~~~~~^~~~~~~~~~~~~~~~~~~~~~\n",
      "test.c:115:31: warning: passing argument 3 of 'simpleserial_addcmd' from incompatible pointer type [-Wincompatible-pointer-types]\n",
      "   simpleserial_addcmd('c', 0, get_ct);\n",
      "                               ^~~~~~\n",
      "In file included from test.c:4:\n",
      ".././simpleserial/simpleserial.h:49:61: note: expected 'uint8_t (*)(uint8_t *, uint8_t)' {aka 'unsigned char (*)(unsigned char *, unsigned char)'} but argument is of type 'int (*)(void)'\n",
      " int simpleserial_addcmd(char c, unsigned int len, uint8_t (*fp)(uint8_t*, uint8_t));\n",
      "                                                   ~~~~~~~~~~^~~~~~~~~~~~~~~~~~~~~~\n",
      "test.c:116:31: warning: passing argument 3 of 'simpleserial_addcmd' from incompatible pointer type [-Wincompatible-pointer-types]\n",
      "   simpleserial_addcmd('a', 0, get_ss_a);\n",
      "                               ^~~~~~~~\n",
      "In file included from test.c:4:\n",
      ".././simpleserial/simpleserial.h:49:61: note: expected 'uint8_t (*)(uint8_t *, uint8_t)' {aka 'unsigned char (*)(unsigned char *, unsigned char)'} but argument is of type 'int (*)(void)'\n",
      " int simpleserial_addcmd(char c, unsigned int len, uint8_t (*fp)(uint8_t*, uint8_t));\n",
      "                                                   ~~~~~~~~~~^~~~~~~~~~~~~~~~~~~~~~\n",
      "test.c:117:31: warning: passing argument 3 of 'simpleserial_addcmd' from incompatible pointer type [-Wincompatible-pointer-types]\n",
      "   simpleserial_addcmd('b', 0, get_ss_b);\n",
      "                               ^~~~~~~~\n",
      "In file included from test.c:4:\n",
      ".././simpleserial/simpleserial.h:49:61: note: expected 'uint8_t (*)(uint8_t *, uint8_t)' {aka 'unsigned char (*)(unsigned char *, unsigned char)'} but argument is of type 'int (*)(void)'\n",
      " int simpleserial_addcmd(char c, unsigned int len, uint8_t (*fp)(uint8_t*, uint8_t));\n",
      "                                                   ~~~~~~~~~~^~~~~~~~~~~~~~~~~~~~~~\n",
      "test.c:118:31: warning: passing argument 3 of 'simpleserial_addcmd' from incompatible pointer type [-Wincompatible-pointer-types]\n",
      "   simpleserial_addcmd('f', 0, get_255_pk);\n",
      "                               ^~~~~~~~~~\n",
      "In file included from test.c:4:\n",
      ".././simpleserial/simpleserial.h:49:61: note: expected 'uint8_t (*)(uint8_t *, uint8_t)' {aka 'unsigned char (*)(unsigned char *, unsigned char)'} but argument is of type 'int (*)(void)'\n",
      " int simpleserial_addcmd(char c, unsigned int len, uint8_t (*fp)(uint8_t*, uint8_t));\n",
      "                                                   ~~~~~~~~~~^~~~~~~~~~~~~~~~~~~~~~\n",
      "test.c:119:31: warning: passing argument 3 of 'simpleserial_addcmd' from incompatible pointer type [-Wincompatible-pointer-types]\n",
      "   simpleserial_addcmd('g', 0, get_255_sk);\n",
      "                               ^~~~~~~~~~\n",
      "In file included from test.c:4:\n",
      ".././simpleserial/simpleserial.h:49:61: note: expected 'uint8_t (*)(uint8_t *, uint8_t)' {aka 'unsigned char (*)(unsigned char *, unsigned char)'} but argument is of type 'int (*)(void)'\n",
      " int simpleserial_addcmd(char c, unsigned int len, uint8_t (*fp)(uint8_t*, uint8_t));\n",
      "                                                   ~~~~~~~~~~^~~~~~~~~~~~~~~~~~~~~~\n",
      "test.c:120:31: warning: passing argument 3 of 'simpleserial_addcmd' from incompatible pointer type [-Wincompatible-pointer-types]\n",
      "   simpleserial_addcmd('r', 0, reset);\n",
      "                               ^~~~~\n",
      "In file included from test.c:4:\n"
     ]
    },
    {
     "name": "stderr",
     "output_type": "stream",
     "text": [
      ".././simpleserial/simpleserial.h:49:61: note: expected 'uint8_t (*)(uint8_t *, uint8_t)' {aka 'unsigned char (*)(unsigned char *, unsigned char)'} but argument is of type 'int (*)(void)'\n",
      " int simpleserial_addcmd(char c, unsigned int len, uint8_t (*fp)(uint8_t*, uint8_t));\n",
      "                                                   ~~~~~~~~~~^~~~~~~~~~~~~~~~~~~~~~\n"
     ]
    },
    {
     "name": "stdout",
     "output_type": "stream",
     "text": [
      ".\n",
      "Compiling C: kem.c\n",
      "arm-none-eabi-gcc -c -mcpu=cortex-m4 -I. -mthumb -mfloat-abi=soft -fmessage-length=0 -ffunction-sections -gdwarf-2 -DSS_VER=SS_VER_1_1 -DSTM32F303xC -DSTM32F3 -DSTM32 -DDEBUG -DHAL_TYPE=HAL_stm32f3 -DPLATFORM=CW308_STM32F3 -DF_CPU=7372800UL -DSS_VER_2_0=2 -DSS_VER_2_1=3 -DSS_VER_1_1=1 -DSS_VER_1_0=0 -Os -funsigned-char -funsigned-bitfields -fshort-enums -Wall -Wstrict-prototypes -Wa,-adhlns=objdir-CW308_STM32F3/kem.lst -I.././simpleserial/ -I.././hal -I.././hal/stm32f3 -I.././hal/stm32f3/CMSIS -I.././hal/stm32f3/CMSIS/core -I.././hal/stm32f3/CMSIS/device -I.././hal/stm32f4/Legacy -I.././crypto/ -std=gnu99  -MMD -MP -MF .dep/kem.o.d kem.c -o objdir-CW308_STM32F3/kem.o\n",
      ".\n",
      "Compiling C: fips202.c\n",
      "arm-none-eabi-gcc -c -mcpu=cortex-m4 -I. -mthumb -mfloat-abi=soft -fmessage-length=0 -ffunction-sections -gdwarf-2 -DSS_VER=SS_VER_1_1 -DSTM32F303xC -DSTM32F3 -DSTM32 -DDEBUG -DHAL_TYPE=HAL_stm32f3 -DPLATFORM=CW308_STM32F3 -DF_CPU=7372800UL -DSS_VER_2_0=2 -DSS_VER_2_1=3 -DSS_VER_1_1=1 -DSS_VER_1_0=0 -Os -funsigned-char -funsigned-bitfields -fshort-enums -Wall -Wstrict-prototypes -Wa,-adhlns=objdir-CW308_STM32F3/fips202.lst -I.././simpleserial/ -I.././hal -I.././hal/stm32f3 -I.././hal/stm32f3/CMSIS -I.././hal/stm32f3/CMSIS/core -I.././hal/stm32f3/CMSIS/device -I.././hal/stm32f4/Legacy -I.././crypto/ -std=gnu99  -MMD -MP -MF .dep/fips202.o.d fips202.c -o objdir-CW308_STM32F3/fips202.o\n",
      ".\n",
      "Compiling C: indcpa.c\n",
      "arm-none-eabi-gcc -c -mcpu=cortex-m4 -I. -mthumb -mfloat-abi=soft -fmessage-length=0 -ffunction-sections -gdwarf-2 -DSS_VER=SS_VER_1_1 -DSTM32F303xC -DSTM32F3 -DSTM32 -DDEBUG -DHAL_TYPE=HAL_stm32f3 -DPLATFORM=CW308_STM32F3 -DF_CPU=7372800UL -DSS_VER_2_0=2 -DSS_VER_2_1=3 -DSS_VER_1_1=1 -DSS_VER_1_0=0 -Os -funsigned-char -funsigned-bitfields -fshort-enums -Wall -Wstrict-prototypes -Wa,-adhlns=objdir-CW308_STM32F3/indcpa.lst -I.././simpleserial/ -I.././hal -I.././hal/stm32f3 -I.././hal/stm32f3/CMSIS -I.././hal/stm32f3/CMSIS/core -I.././hal/stm32f3/CMSIS/device -I.././hal/stm32f4/Legacy -I.././crypto/ -std=gnu99  -MMD -MP -MF .dep/indcpa.o.d indcpa.c -o objdir-CW308_STM32F3/indcpa.o\n",
      ".\n",
      "Compiling C: randombytes.c\n",
      "arm-none-eabi-gcc -c -mcpu=cortex-m4 -I. -mthumb -mfloat-abi=soft -fmessage-length=0 -ffunction-sections -gdwarf-2 -DSS_VER=SS_VER_1_1 -DSTM32F303xC -DSTM32F3 -DSTM32 -DDEBUG -DHAL_TYPE=HAL_stm32f3 -DPLATFORM=CW308_STM32F3 -DF_CPU=7372800UL -DSS_VER_2_0=2 -DSS_VER_2_1=3 -DSS_VER_1_1=1 -DSS_VER_1_0=0 -Os -funsigned-char -funsigned-bitfields -fshort-enums -Wall -Wstrict-prototypes -Wa,-adhlns=objdir-CW308_STM32F3/randombytes.lst -I.././simpleserial/ -I.././hal -I.././hal/stm32f3 -I.././hal/stm32f3/CMSIS -I.././hal/stm32f3/CMSIS/core -I.././hal/stm32f3/CMSIS/device -I.././hal/stm32f4/Legacy -I.././crypto/ -std=gnu99  -MMD -MP -MF .dep/randombytes.o.d randombytes.c -o objdir-CW308_STM32F3/randombytes.o\n"
     ]
    },
    {
     "name": "stderr",
     "output_type": "stream",
     "text": [
      "randombytes.c:38:2: warning: #warning Using a non-random randombytes [-Wcpp]\n",
      " #warning Using a non-random randombytes\n",
      "  ^~~~~~~\n"
     ]
    },
    {
     "name": "stdout",
     "output_type": "stream",
     "text": [
      ".\n",
      "Compiling C: symmetric-shake.c\n",
      "arm-none-eabi-gcc -c -mcpu=cortex-m4 -I. -mthumb -mfloat-abi=soft -fmessage-length=0 -ffunction-sections -gdwarf-2 -DSS_VER=SS_VER_1_1 -DSTM32F303xC -DSTM32F3 -DSTM32 -DDEBUG -DHAL_TYPE=HAL_stm32f3 -DPLATFORM=CW308_STM32F3 -DF_CPU=7372800UL -DSS_VER_2_0=2 -DSS_VER_2_1=3 -DSS_VER_1_1=1 -DSS_VER_1_0=0 -Os -funsigned-char -funsigned-bitfields -fshort-enums -Wall -Wstrict-prototypes -Wa,-adhlns=objdir-CW308_STM32F3/symmetric-shake.lst -I.././simpleserial/ -I.././hal -I.././hal/stm32f3 -I.././hal/stm32f3/CMSIS -I.././hal/stm32f3/CMSIS/core -I.././hal/stm32f3/CMSIS/device -I.././hal/stm32f4/Legacy -I.././crypto/ -std=gnu99  -MMD -MP -MF .dep/symmetric-shake.o.d symmetric-shake.c -o objdir-CW308_STM32F3/symmetric-shake.o\n",
      ".\n",
      "Compiling C: poly.c\n",
      "arm-none-eabi-gcc -c -mcpu=cortex-m4 -I. -mthumb -mfloat-abi=soft -fmessage-length=0 -ffunction-sections -gdwarf-2 -DSS_VER=SS_VER_1_1 -DSTM32F303xC -DSTM32F3 -DSTM32 -DDEBUG -DHAL_TYPE=HAL_stm32f3 -DPLATFORM=CW308_STM32F3 -DF_CPU=7372800UL -DSS_VER_2_0=2 -DSS_VER_2_1=3 -DSS_VER_1_1=1 -DSS_VER_1_0=0 -Os -funsigned-char -funsigned-bitfields -fshort-enums -Wall -Wstrict-prototypes -Wa,-adhlns=objdir-CW308_STM32F3/poly.lst -I.././simpleserial/ -I.././hal -I.././hal/stm32f3 -I.././hal/stm32f3/CMSIS -I.././hal/stm32f3/CMSIS/core -I.././hal/stm32f3/CMSIS/device -I.././hal/stm32f4/Legacy -I.././crypto/ -std=gnu99  -MMD -MP -MF .dep/poly.o.d poly.c -o objdir-CW308_STM32F3/poly.o\n",
      ".\n",
      "Compiling C: polyvec.c\n",
      "arm-none-eabi-gcc -c -mcpu=cortex-m4 -I. -mthumb -mfloat-abi=soft -fmessage-length=0 -ffunction-sections -gdwarf-2 -DSS_VER=SS_VER_1_1 -DSTM32F303xC -DSTM32F3 -DSTM32 -DDEBUG -DHAL_TYPE=HAL_stm32f3 -DPLATFORM=CW308_STM32F3 -DF_CPU=7372800UL -DSS_VER_2_0=2 -DSS_VER_2_1=3 -DSS_VER_1_1=1 -DSS_VER_1_0=0 -Os -funsigned-char -funsigned-bitfields -fshort-enums -Wall -Wstrict-prototypes -Wa,-adhlns=objdir-CW308_STM32F3/polyvec.lst -I.././simpleserial/ -I.././hal -I.././hal/stm32f3 -I.././hal/stm32f3/CMSIS -I.././hal/stm32f3/CMSIS/core -I.././hal/stm32f3/CMSIS/device -I.././hal/stm32f4/Legacy -I.././crypto/ -std=gnu99  -MMD -MP -MF .dep/polyvec.o.d polyvec.c -o objdir-CW308_STM32F3/polyvec.o\n",
      ".\n",
      "Compiling C: cbd.c\n",
      "arm-none-eabi-gcc -c -mcpu=cortex-m4 -I. -mthumb -mfloat-abi=soft -fmessage-length=0 -ffunction-sections -gdwarf-2 -DSS_VER=SS_VER_1_1 -DSTM32F303xC -DSTM32F3 -DSTM32 -DDEBUG -DHAL_TYPE=HAL_stm32f3 -DPLATFORM=CW308_STM32F3 -DF_CPU=7372800UL -DSS_VER_2_0=2 -DSS_VER_2_1=3 -DSS_VER_1_1=1 -DSS_VER_1_0=0 -Os -funsigned-char -funsigned-bitfields -fshort-enums -Wall -Wstrict-prototypes -Wa,-adhlns=objdir-CW308_STM32F3/cbd.lst -I.././simpleserial/ -I.././hal -I.././hal/stm32f3 -I.././hal/stm32f3/CMSIS -I.././hal/stm32f3/CMSIS/core -I.././hal/stm32f3/CMSIS/device -I.././hal/stm32f4/Legacy -I.././crypto/ -std=gnu99  -MMD -MP -MF .dep/cbd.o.d cbd.c -o objdir-CW308_STM32F3/cbd.o\n",
      ".\n",
      "Compiling C: ntt.c\n",
      "arm-none-eabi-gcc -c -mcpu=cortex-m4 -I. -mthumb -mfloat-abi=soft -fmessage-length=0 -ffunction-sections -gdwarf-2 -DSS_VER=SS_VER_1_1 -DSTM32F303xC -DSTM32F3 -DSTM32 -DDEBUG -DHAL_TYPE=HAL_stm32f3 -DPLATFORM=CW308_STM32F3 -DF_CPU=7372800UL -DSS_VER_2_0=2 -DSS_VER_2_1=3 -DSS_VER_1_1=1 -DSS_VER_1_0=0 -Os -funsigned-char -funsigned-bitfields -fshort-enums -Wall -Wstrict-prototypes -Wa,-adhlns=objdir-CW308_STM32F3/ntt.lst -I.././simpleserial/ -I.././hal -I.././hal/stm32f3 -I.././hal/stm32f3/CMSIS -I.././hal/stm32f3/CMSIS/core -I.././hal/stm32f3/CMSIS/device -I.././hal/stm32f4/Legacy -I.././crypto/ -std=gnu99  -MMD -MP -MF .dep/ntt.o.d ntt.c -o objdir-CW308_STM32F3/ntt.o\n",
      ".\n",
      "Compiling C: reduce.c\n",
      "arm-none-eabi-gcc -c -mcpu=cortex-m4 -I. -mthumb -mfloat-abi=soft -fmessage-length=0 -ffunction-sections -gdwarf-2 -DSS_VER=SS_VER_1_1 -DSTM32F303xC -DSTM32F3 -DSTM32 -DDEBUG -DHAL_TYPE=HAL_stm32f3 -DPLATFORM=CW308_STM32F3 -DF_CPU=7372800UL -DSS_VER_2_0=2 -DSS_VER_2_1=3 -DSS_VER_1_1=1 -DSS_VER_1_0=0 -Os -funsigned-char -funsigned-bitfields -fshort-enums -Wall -Wstrict-prototypes -Wa,-adhlns=objdir-CW308_STM32F3/reduce.lst -I.././simpleserial/ -I.././hal -I.././hal/stm32f3 -I.././hal/stm32f3/CMSIS -I.././hal/stm32f3/CMSIS/core -I.././hal/stm32f3/CMSIS/device -I.././hal/stm32f4/Legacy -I.././crypto/ -std=gnu99  -MMD -MP -MF .dep/reduce.o.d reduce.c -o objdir-CW308_STM32F3/reduce.o\n",
      ".\n",
      "Compiling C: verify.c\n",
      "arm-none-eabi-gcc -c -mcpu=cortex-m4 -I. -mthumb -mfloat-abi=soft -fmessage-length=0 -ffunction-sections -gdwarf-2 -DSS_VER=SS_VER_1_1 -DSTM32F303xC -DSTM32F3 -DSTM32 -DDEBUG -DHAL_TYPE=HAL_stm32f3 -DPLATFORM=CW308_STM32F3 -DF_CPU=7372800UL -DSS_VER_2_0=2 -DSS_VER_2_1=3 -DSS_VER_1_1=1 -DSS_VER_1_0=0 -Os -funsigned-char -funsigned-bitfields -fshort-enums -Wall -Wstrict-prototypes -Wa,-adhlns=objdir-CW308_STM32F3/verify.lst -I.././simpleserial/ -I.././hal -I.././hal/stm32f3 -I.././hal/stm32f3/CMSIS -I.././hal/stm32f3/CMSIS/core -I.././hal/stm32f3/CMSIS/device -I.././hal/stm32f4/Legacy -I.././crypto/ -std=gnu99  -MMD -MP -MF .dep/verify.o.d verify.c -o objdir-CW308_STM32F3/verify.o\n",
      ".\n",
      "Compiling C: .././simpleserial/simpleserial.c\n",
      "arm-none-eabi-gcc -c -mcpu=cortex-m4 -I. -mthumb -mfloat-abi=soft -fmessage-length=0 -ffunction-sections -gdwarf-2 -DSS_VER=SS_VER_1_1 -DSTM32F303xC -DSTM32F3 -DSTM32 -DDEBUG -DHAL_TYPE=HAL_stm32f3 -DPLATFORM=CW308_STM32F3 -DF_CPU=7372800UL -DSS_VER_2_0=2 -DSS_VER_2_1=3 -DSS_VER_1_1=1 -DSS_VER_1_0=0 -Os -funsigned-char -funsigned-bitfields -fshort-enums -Wall -Wstrict-prototypes -Wa,-adhlns=objdir-CW308_STM32F3/simpleserial.lst -I.././simpleserial/ -I.././hal -I.././hal/stm32f3 -I.././hal/stm32f3/CMSIS -I.././hal/stm32f3/CMSIS/core -I.././hal/stm32f3/CMSIS/device -I.././hal/stm32f4/Legacy -I.././crypto/ -std=gnu99  -MMD -MP -MF .dep/simpleserial.o.d .././simpleserial/simpleserial.c -o objdir-CW308_STM32F3/simpleserial.o\n",
      ".\n",
      "Compiling C: .././hal/stm32f3/stm32f3_hal.c\n",
      "arm-none-eabi-gcc -c -mcpu=cortex-m4 -I. -mthumb -mfloat-abi=soft -fmessage-length=0 -ffunction-sections -gdwarf-2 -DSS_VER=SS_VER_1_1 -DSTM32F303xC -DSTM32F3 -DSTM32 -DDEBUG -DHAL_TYPE=HAL_stm32f3 -DPLATFORM=CW308_STM32F3 -DF_CPU=7372800UL -DSS_VER_2_0=2 -DSS_VER_2_1=3 -DSS_VER_1_1=1 -DSS_VER_1_0=0 -Os -funsigned-char -funsigned-bitfields -fshort-enums -Wall -Wstrict-prototypes -Wa,-adhlns=objdir-CW308_STM32F3/stm32f3_hal.lst -I.././simpleserial/ -I.././hal -I.././hal/stm32f3 -I.././hal/stm32f3/CMSIS -I.././hal/stm32f3/CMSIS/core -I.././hal/stm32f3/CMSIS/device -I.././hal/stm32f4/Legacy -I.././crypto/ -std=gnu99  -MMD -MP -MF .dep/stm32f3_hal.o.d .././hal/stm32f3/stm32f3_hal.c -o objdir-CW308_STM32F3/stm32f3_hal.o\n",
      ".\n",
      "Compiling C: .././hal/stm32f3/stm32f3_hal_lowlevel.c\n",
      "arm-none-eabi-gcc -c -mcpu=cortex-m4 -I. -mthumb -mfloat-abi=soft -fmessage-length=0 -ffunction-sections -gdwarf-2 -DSS_VER=SS_VER_1_1 -DSTM32F303xC -DSTM32F3 -DSTM32 -DDEBUG -DHAL_TYPE=HAL_stm32f3 -DPLATFORM=CW308_STM32F3 -DF_CPU=7372800UL -DSS_VER_2_0=2 -DSS_VER_2_1=3 -DSS_VER_1_1=1 -DSS_VER_1_0=0 -Os -funsigned-char -funsigned-bitfields -fshort-enums -Wall -Wstrict-prototypes -Wa,-adhlns=objdir-CW308_STM32F3/stm32f3_hal_lowlevel.lst -I.././simpleserial/ -I.././hal -I.././hal/stm32f3 -I.././hal/stm32f3/CMSIS -I.././hal/stm32f3/CMSIS/core -I.././hal/stm32f3/CMSIS/device -I.././hal/stm32f4/Legacy -I.././crypto/ -std=gnu99  -MMD -MP -MF .dep/stm32f3_hal_lowlevel.o.d .././hal/stm32f3/stm32f3_hal_lowlevel.c -o objdir-CW308_STM32F3/stm32f3_hal_lowlevel.o\n",
      ".\n",
      "Compiling C: .././hal/stm32f3/stm32f3_sysmem.c\n",
      "arm-none-eabi-gcc -c -mcpu=cortex-m4 -I. -mthumb -mfloat-abi=soft -fmessage-length=0 -ffunction-sections -gdwarf-2 -DSS_VER=SS_VER_1_1 -DSTM32F303xC -DSTM32F3 -DSTM32 -DDEBUG -DHAL_TYPE=HAL_stm32f3 -DPLATFORM=CW308_STM32F3 -DF_CPU=7372800UL -DSS_VER_2_0=2 -DSS_VER_2_1=3 -DSS_VER_1_1=1 -DSS_VER_1_0=0 -Os -funsigned-char -funsigned-bitfields -fshort-enums -Wall -Wstrict-prototypes -Wa,-adhlns=objdir-CW308_STM32F3/stm32f3_sysmem.lst -I.././simpleserial/ -I.././hal -I.././hal/stm32f3 -I.././hal/stm32f3/CMSIS -I.././hal/stm32f3/CMSIS/core -I.././hal/stm32f3/CMSIS/device -I.././hal/stm32f4/Legacy -I.././crypto/ -std=gnu99  -MMD -MP -MF .dep/stm32f3_sysmem.o.d .././hal/stm32f3/stm32f3_sysmem.c -o objdir-CW308_STM32F3/stm32f3_sysmem.o\n",
      ".\n",
      "Assembling: .././hal/stm32f3/stm32f3_startup.S\n"
     ]
    },
    {
     "name": "stdout",
     "output_type": "stream",
     "text": [
      "arm-none-eabi-gcc -c -mcpu=cortex-m4 -I. -x assembler-with-cpp -mthumb -mfloat-abi=soft -fmessage-length=0 -ffunction-sections -DF_CPU=7372800 -Wa,-gstabs,-adhlns=objdir-CW308_STM32F3/stm32f3_startup.lst -I.././simpleserial/ -I.././hal -I.././hal/stm32f3 -I.././hal/stm32f3/CMSIS -I.././hal/stm32f3/CMSIS/core -I.././hal/stm32f3/CMSIS/device -I.././hal/stm32f4/Legacy -I.././crypto/ .././hal/stm32f3/stm32f3_startup.S -o objdir-CW308_STM32F3/stm32f3_startup.o\n",
      ".\n",
      "Linking: simpleserial-kyber512-testcendring-CW308_STM32F3.elf\n",
      "arm-none-eabi-gcc -mcpu=cortex-m4 -I. -mthumb -mfloat-abi=soft -fmessage-length=0 -ffunction-sections -gdwarf-2 -DSS_VER=SS_VER_1_1 -DSTM32F303xC -DSTM32F3 -DSTM32 -DDEBUG -DHAL_TYPE=HAL_stm32f3 -DPLATFORM=CW308_STM32F3 -DF_CPU=7372800UL -DSS_VER_2_0=2 -DSS_VER_2_1=3 -DSS_VER_1_1=1 -DSS_VER_1_0=0 -Os -funsigned-char -funsigned-bitfields -fshort-enums -Wall -Wstrict-prototypes -Wa,-adhlns=objdir-CW308_STM32F3/test.o -I.././simpleserial/ -I.././hal -I.././hal/stm32f3 -I.././hal/stm32f3/CMSIS -I.././hal/stm32f3/CMSIS/core -I.././hal/stm32f3/CMSIS/device -I.././hal/stm32f4/Legacy -I.././crypto/ -std=gnu99  -MMD -MP -MF .dep/simpleserial-kyber512-testcendring-CW308_STM32F3.elf.d objdir-CW308_STM32F3/test.o objdir-CW308_STM32F3/kem.o objdir-CW308_STM32F3/fips202.o objdir-CW308_STM32F3/indcpa.o objdir-CW308_STM32F3/randombytes.o objdir-CW308_STM32F3/symmetric-shake.o objdir-CW308_STM32F3/poly.o objdir-CW308_STM32F3/polyvec.o objdir-CW308_STM32F3/cbd.o objdir-CW308_STM32F3/ntt.o objdir-CW308_STM32F3/reduce.o objdir-CW308_STM32F3/verify.o objdir-CW308_STM32F3/simpleserial.o objdir-CW308_STM32F3/stm32f3_hal.o objdir-CW308_STM32F3/stm32f3_hal_lowlevel.o objdir-CW308_STM32F3/stm32f3_sysmem.o objdir-CW308_STM32F3/stm32f3_startup.o --output simpleserial-kyber512-testcendring-CW308_STM32F3.elf --specs=nano.specs --specs=nosys.specs -T .././hal/stm32f3/LinkerScript.ld -Wl,--gc-sections -lm -Wl,-Map=simpleserial-kyber512-testcendring-CW308_STM32F3.map,--cref   -lm  \n",
      ".\n",
      "Creating load file for Flash: simpleserial-kyber512-testcendring-CW308_STM32F3.hex\n",
      "arm-none-eabi-objcopy -O ihex -R .eeprom -R .fuse -R .lock -R .signature simpleserial-kyber512-testcendring-CW308_STM32F3.elf simpleserial-kyber512-testcendring-CW308_STM32F3.hex\n",
      ".\n",
      "Creating load file for Flash: simpleserial-kyber512-testcendring-CW308_STM32F3.bin\n",
      "arm-none-eabi-objcopy -O binary -R .eeprom -R .fuse -R .lock -R .signature simpleserial-kyber512-testcendring-CW308_STM32F3.elf simpleserial-kyber512-testcendring-CW308_STM32F3.bin\n",
      ".\n",
      "Creating load file for EEPROM: simpleserial-kyber512-testcendring-CW308_STM32F3.eep\n",
      "arm-none-eabi-objcopy -j .eeprom --set-section-flags=.eeprom=\"alloc,load\" \\\n",
      "--change-section-lma .eeprom=0 --no-change-warnings -O ihex simpleserial-kyber512-testcendring-CW308_STM32F3.elf simpleserial-kyber512-testcendring-CW308_STM32F3.eep || exit 0\n",
      ".\n",
      "Creating Extended Listing: simpleserial-kyber512-testcendring-CW308_STM32F3.lss\n",
      "arm-none-eabi-objdump -h -S -z simpleserial-kyber512-testcendring-CW308_STM32F3.elf > simpleserial-kyber512-testcendring-CW308_STM32F3.lss\n",
      ".\n",
      "Creating Symbol Table: simpleserial-kyber512-testcendring-CW308_STM32F3.sym\n",
      "arm-none-eabi-nm -n simpleserial-kyber512-testcendring-CW308_STM32F3.elf > simpleserial-kyber512-testcendring-CW308_STM32F3.sym\n",
      "Size after:\n",
      "   text\t   data\t    bss\t    dec\t    hex\tfilename\n",
      "  14796\t    108\t   4836\t  19740\t   4d1c\tsimpleserial-kyber512-testcendring-CW308_STM32F3.elf\n",
      "+--------------------------------------------------------\n",
      "+ Default target does full rebuild each time.\n",
      "+ Specify buildtarget == allquick == to avoid full rebuild\n",
      "+--------------------------------------------------------\n",
      "+--------------------------------------------------------\n",
      "+ Built for platform CW308T: STM32F3 Target with:\n",
      "+ CRYPTO_TARGET = NONE\n",
      "+ CRYPTO_OPTIONS = AVRCRYPTOLIB\n",
      "+--------------------------------------------------------\n",
      "make[1]: Leaving directory '/home/vagrant/work/projects/chipwhisperer/hardware/victims/firmware/simpleserial-kyber512-testcendring'\n"
     ]
    }
   ],
   "source": [
    "%%bash\n",
    "cd ../hardware/victims/firmware/simpleserial-kyber512-testcendring/\n",
    "make PLATFORM=CW308_STM32F3 CRYPTO_TARGET=NONE"
   ]
  },
  {
   "cell_type": "code",
   "execution_count": 48,
   "id": "19184fe5",
   "metadata": {},
   "outputs": [
    {
     "name": "stdout",
     "output_type": "stream",
     "text": [
      "Detected known STMF32: STM32F302xB(C)/303xB(C)\n",
      "Extended erase (0x44), this can take ten seconds or more\n",
      "Attempting to program 14907 bytes at 0x8000000\n",
      "STM32F Programming flash...\n",
      "STM32F Reading flash...\n",
      "Verified flash OK, 14907 bytes\n"
     ]
    }
   ],
   "source": [
    "cw.program_target(scope, cw.programmers.STM32FProgrammer, \"../hardware/victims/firmware/simpleserial-kyber512-testcendring/simpleserial-kyber512-testcendring-CW308_STM32F3.hex\")"
   ]
  },
  {
   "cell_type": "markdown",
   "id": "fcf5fb5f",
   "metadata": {},
   "source": [
    "# Leser det sendt fra target manuelt"
   ]
  },
  {
   "cell_type": "markdown",
   "id": "846b9a87",
   "metadata": {},
   "source": [
    "1 tegn char identifiserer melding: p-public key, s-secret key, c-ciphertext, a-ss_a, b-ss_b\n",
    "\n",
    "body melding\n",
    "\n",
    "ack z00"
   ]
  },
  {
   "cell_type": "code",
   "execution_count": 50,
   "id": "7623d770",
   "metadata": {},
   "outputs": [],
   "source": [
    "recv_msg1 = \"\""
   ]
  },
  {
   "cell_type": "code",
   "execution_count": 81,
   "id": "e64b6784",
   "metadata": {
    "scrolled": false
   },
   "outputs": [
    {
     "name": "stdout",
     "output_type": "stream",
     "text": [
      "p0000000000000000000000000000000000000000000000000000000000000000\n",
      "z00\n",
      "s0000000000000000000000000000000000000000000000000000000000000000\n",
      "z00\n",
      "c0000000000000000000000000000000000000000000000000000000000000000\n",
      "z00\n",
      "a0000000000000000000000000000000000000000000000000000000000000000\n",
      "z00\n",
      "b0000000000000000000000000000000000000000000000000000000000000000\n",
      "z00\n",
      "p000000000000000000000000000000000000000000000000000000000000000000000000000000000000000000000000\n",
      "p747B0A937A6327387E8BE5048FA2BBA08B3F6EE805386BC16D2A2717507479D7C4200917561620DBC5557563C3106656\n",
      "z00c0000000000000000000000000000000000000000000000000000000000000000\n",
      "z00\n",
      "pB2D5B5AD43684F0A597820DC6F44E8528E735EB0966DDC6602FA041256B86992\n",
      "z00\n",
      "s747B0A937A6327387E8BE5048FA2BBA08B3F6EE805386BC16D2A2717507479D7\n",
      "z00\n",
      "p747B0A937A6327387E8BE5048FA2BBA08B3F6EE805386BC16D2A2717507479D7\n",
      "z00\n",
      "b0000000000000000000000000000000000000000000000000000000000000000\n",
      "z00\n",
      "a0000000000000000000000000000000000000000000000000000000000000000\n",
      "z00\n",
      "c0000000000000000000000000000000000000000000000000000000000000000\n",
      "z00\n",
      "\n"
     ]
    }
   ],
   "source": [
    "recv_msg1 += target.read() #Skriver det som har blitt printet i target, r: før keygen, f: etter key gen, z: ack på testkeys fullført. 2 char per byte (hex)\n",
    "print(recv_msg1)"
   ]
  },
  {
   "cell_type": "markdown",
   "id": "d049884b",
   "metadata": {},
   "source": [
    "# Alle definerte komandoene"
   ]
  },
  {
   "cell_type": "code",
   "execution_count": 41,
   "id": "abb22dd0",
   "metadata": {},
   "outputs": [],
   "source": [
    "#Henter simpleserial versjon v1 max 64 byte, v2 maks 192 byte\n",
    "target.simpleserial_write('v', bytearray())"
   ]
  },
  {
   "cell_type": "code",
   "execution_count": 72,
   "id": "35aaacb6",
   "metadata": {},
   "outputs": [],
   "source": [
    "#Resetter counter\n",
    "target.simpleserial_write('r', bytearray())"
   ]
  },
  {
   "cell_type": "code",
   "execution_count": 84,
   "id": "05452f14",
   "metadata": {},
   "outputs": [],
   "source": [
    "#kjører key gen og printer nøkkel før og etter key gen.\n",
    "target.simpleserial_write('k', bytearray())"
   ]
  },
  {
   "cell_type": "code",
   "execution_count": 44,
   "id": "478fccb7",
   "metadata": {},
   "outputs": [],
   "source": [
    "#Encrypt kem\n",
    "target.simpleserial_write('e', bytearray())"
   ]
  },
  {
   "cell_type": "code",
   "execution_count": null,
   "id": "79d7fa28",
   "metadata": {},
   "outputs": [],
   "source": [
    "#Decrypt kem\n",
    "target.simpleserial_write('k', bytearray())"
   ]
  },
  {
   "cell_type": "code",
   "execution_count": 73,
   "id": "e7d7beda",
   "metadata": {},
   "outputs": [],
   "source": [
    "#Printer hele public key 32 byte om gangen\n",
    "target.simpleserial_write('p', bytearray())"
   ]
  },
  {
   "cell_type": "code",
   "execution_count": 70,
   "id": "52e2980f",
   "metadata": {},
   "outputs": [],
   "source": [
    "#Printer hele secret key 32 byte om gangen\n",
    "target.simpleserial_write('s', bytearray())"
   ]
  },
  {
   "cell_type": "code",
   "execution_count": 80,
   "id": "3a5cb3fa",
   "metadata": {},
   "outputs": [],
   "source": [
    "#Printer hele cipher text 32 byte om gangen\n",
    "target.simpleserial_write('c', bytearray())"
   ]
  },
  {
   "cell_type": "code",
   "execution_count": 78,
   "id": "ec6ca953",
   "metadata": {},
   "outputs": [],
   "source": [
    "#Printer hele shared secret a\n",
    "target.simpleserial_write('a', bytearray())"
   ]
  },
  {
   "cell_type": "code",
   "execution_count": 76,
   "id": "69df21a9",
   "metadata": {},
   "outputs": [],
   "source": [
    "#Printer hele shared secret b\n",
    "target.simpleserial_write('b', bytearray())"
   ]
  },
  {
   "cell_type": "code",
   "execution_count": 11,
   "id": "83f688a7",
   "metadata": {},
   "outputs": [],
   "source": [
    "#prøver printe 255 chars  av public, vill bli bufferoverflow på 96 om ikke leses fortløpende\n",
    "target.simpleserial_write('f', bytearray())"
   ]
  },
  {
   "cell_type": "code",
   "execution_count": null,
   "id": "3f72cc52",
   "metadata": {},
   "outputs": [],
   "source": [
    "#prøver printe 255 chars  av secret key, vill bli bufferoverflow på 96 om ikke leses fortløpende\n",
    "target.simpleserial_write('g', bytearray())"
   ]
  },
  {
   "cell_type": "markdown",
   "id": "bcdf3fa1",
   "metadata": {},
   "source": [
    "# Script for å hente ut informasjon"
   ]
  },
  {
   "cell_type": "markdown",
   "id": "63e1efcc",
   "metadata": {},
   "source": [
    "## Public key"
   ]
  },
  {
   "cell_type": "code",
   "execution_count": 87,
   "id": "f3d93a83",
   "metadata": {},
   "outputs": [
    {
     "name": "stdout",
     "output_type": "stream",
     "text": [
      "0880A51926BDD6BA7C4FF69DB5C54487C15ACC60870FCC0C51691101501042477D3C295A18061616B91153E213B5620D20C46E7EE1143D7182CEC196629309D4A84608EB1F38C351C0B43B5FFAAAED4B4745C6BF7134BF8E47A23EC721D812CE855610AA8504920A67FC6210F08581F751AAEC4B0F87B3BC95AAAA86902722830A90222DFC54C92347C52244C624473AA095654AA74C56BC8688A253CCEC2CE01612CFB98B85F201AFEACE345A4B0A57448F626C308C0E292C70682890B71C1F57B38CC5D56140CCBCF21C83BBD306AF6C08F614292D049C6B2018EB386660D63857B82DD2709334F08B98735B00718785AA71F78792EB124E0805CBD70C56C23A5B66A5887D3B9DA3514E6530AB85A2946C946A5D51B579FB7476315C81A7710348C29A82190DF452E7D567ECB8C49D85C34CD226C60C51ABD7630FA1918D267F289B534E5C2564B19DB2C579EB29626AE37F8F54C6B9AACC556480A89C05DE48453B7CC2DFA3BBB39393B0B74D2A5C671475ABCEF489C1CB87DB37C2CB65A35AC71C32B96BE7C912C9C5B745192DA416AC5026530181944885A4DEC44A020227BE3825F9714F0F35C8FAF94A34D754F7E3086BEA57E0585FD8994D92B9AA5591A66FA20C5213CEFA988D917260AB8C78A754B265577BE55957ED8A24A7977BAD97B818202A81A74C171CBDB24C236090C74777CB83B6772BF21840DC9196D20C627B758D13713E053396B9669A4C36E6FC0ED7B26B8A14B34F4C60F00C9FBA5489180834A9AB1080BC375A070448253FA253794000A79544461D88A85C6411BA319F6F9012BA8724EC613E86AAC9230554AD9A403883B720DA2972DC22AB0590B3C9BF391906E1D6B14B8A8E486BA89768975EE5219B8246F7126DDFF6118AA7358D4404A634C994D638334C01D74464F0CB94B9AA52C8BB395792BF16F52A8C291E36A0B81963AD71930AB4436B07499FC3862DE5113C062735C0326691B999EB516B0D360C84CBC2BC5413B2651AD6EA7ACBF87E4152A749600F053170EEFB5E5F693727835291C6A32344CC787B16671221E9C75FE6C41E24A9570A114C5FCD820C5BAAEDAA0123D7D74D1FD9AC48C4CF16BA75757178E38AD315775CA0\n"
     ]
    }
   ],
   "source": [
    "#Printer hele public key\n",
    "msg = \"\"\n",
    "target.simpleserial_write('r', bytearray())\n",
    "target.read(timeout=0)\n",
    "recv_msg = \"\"\n",
    "\n",
    "while(len(msg)<1600):\n",
    "    target.simpleserial_write('p', bytearray()) \n",
    "    while(recv_msg[-5:]!='\\nz00\\n'):\n",
    "        recv_msg += target.read(timeout=0)\n",
    "\n",
    "    msg+=recv_msg[1:-5]\n",
    "    recv_msg = \"\"\n",
    "\n",
    "print(msg)"
   ]
  },
  {
   "cell_type": "code",
   "execution_count": 38,
   "id": "081f9334",
   "metadata": {
    "scrolled": true
   },
   "outputs": [
    {
     "name": "stdout",
     "output_type": "stream",
     "text": [
      "p0880A51926BDD6BA7C4FF69DB5C54487C15ACC60870FCC0C51691101501042477D3C295A18061616B91153E213B5620D20C46E7EE1143D7182CEC196629309D4A84608EB1F38C351C0B43B5FFAAAED4B4745C6BF7134BF8E47A23EC721D812CE855610AA8504920A67FC6210F08581F751AAEC4B0F87B3BC95AAAA86902722830A90222DFC54C92347C52244C624473AA095654AA74C56BC8688A253CCEC2CE01612CFB98B85F201AFEACE345A4B0A57448F626C308C0E292C70682890B71C1F57B38CC5D56140CCBCF21C83BBD306AF6C08F614292D049C6B2018EB386660D63857B82DD2709334F08B98735B00718785AA71F78792EB124E0805CBD70C56\n",
      "z00\n",
      "\n"
     ]
    }
   ],
   "source": [
    "#Printer første 255 byte av public key uten memcpy-tull verifiserer den over.\n",
    "msg = \"\"\n",
    "target.read(timeout=0)\n",
    "target.simpleserial_write('f', bytearray())\n",
    "\n",
    "while(msg[-5:]!='\\nz00\\n'):\n",
    "    msg += target.read(timeout=0)\n",
    "    \n",
    "print(msg)"
   ]
  },
  {
   "cell_type": "markdown",
   "id": "c394b0a7",
   "metadata": {},
   "source": [
    "## Secret key"
   ]
  },
  {
   "cell_type": "code",
   "execution_count": 86,
   "id": "f41b1c6d",
   "metadata": {},
   "outputs": [
    {
     "name": "stdout",
     "output_type": "stream",
     "text": [
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n"
     ]
    }
   ],
   "source": [
    "#Printer hele secret key\n",
    "msg = \"\"\n",
    "target.simpleserial_write('r', bytearray())\n",
    "target.read(timeout=0)\n",
    "recv_msg = \"\"\n",
    "\n",
    "while(len(msg)<1632*2):\n",
    "    target.simpleserial_write('s', bytearray()) \n",
    "    while(recv_msg[-5:]!='\\nz00\\n'):\n",
    "        recv_msg += target.read(timeout=0)\n",
    "\n",
    "    msg+=recv_msg[1:-5]\n",
    "    recv_msg = \"\"\n",
    "\n",
    "print(msg)"
   ]
  },
  {
   "cell_type": "markdown",
   "id": "88e3c2e5",
   "metadata": {},
   "source": [
    "## Cipher text"
   ]
  },
  {
   "cell_type": "code",
   "execution_count": 90,
   "id": "b28d0543",
   "metadata": {},
   "outputs": [
    {
     "name": "stdout",
     "output_type": "stream",
     "text": [
      "000000000000000000000000000000000000000000000000000000000000000000000000000000000000000000000000000000000000000000000000000000000000000000000000000000000000000000000000000000000000000000000000000000000000000000000000000000000000000000000000000000000000000000000000000000000000000000000000000000000000000000000000000000000000000000000000000000000000000000000000000000000000000000000000000000000000000000000000000000000000000000000000000000000000000000000000000000000000000000000000000000000000000000000000000000000000000000000000000000000000000000000000000000000000000000000000000000000000000000000000000000000000000000000000000000000000000000000000000000000000000000000000000000000000000000000000000000000000000000000000000000000000000000000000000000000000000000000000000000000000000000000000000000000000000000000000000000000000000000000000000000000000000000000000000000000000000000000000000000000000000000000000000000000000000000000000000000000000000000000000000000000000000000000000000000000000000000000000000000000000000000000000000000000000000000000000000000000000000000000000000000000000000000000000000000000000000000000000000000000000000000000000000000000000000000000000000000000000000000000000000000000000000000000000000000000000000000000000000000000000000000000000000000000000000000000000000000000000000000000000000000000000000000000000000000000000000000000000000000000000000000000000000000000000000000000000000000000000000000000000000000000000000000000000000000000000000000000000000000000000000000000000000000000000000000000000\n"
     ]
    }
   ],
   "source": [
    "#Printer hele cipher text\n",
    "msg = \"\"\n",
    "target.simpleserial_write('r', bytearray())\n",
    "target.read(timeout=0)\n",
    "recv_msg = \"\"\n",
    "\n",
    "while(len(msg)<768*2):\n",
    "    target.simpleserial_write('c', bytearray()) \n",
    "    while(recv_msg[-5:]!='\\nz00\\n'):\n",
    "        recv_msg += target.read(timeout=0)\n",
    "\n",
    "    msg+=recv_msg[1:-5]\n",
    "    recv_msg = \"\"\n",
    "\n",
    "print(msg)"
   ]
  },
  {
   "cell_type": "markdown",
   "id": "69729fce",
   "metadata": {},
   "source": [
    "## Shared secrets"
   ]
  },
  {
   "cell_type": "code",
   "execution_count": 93,
   "id": "006632df",
   "metadata": {},
   "outputs": [
    {
     "name": "stdout",
     "output_type": "stream",
     "text": [
      "shared secret a: 0000000000000000000000000000000000000000000000000000000000000000\n",
      "shared secret b: 0000000000000000000000000000000000000000000000000000000000000000\n"
     ]
    }
   ],
   "source": [
    "target.read()\n",
    "msg = \"\"\n",
    "target.simpleserial_write('a', bytearray())\n",
    "while(msg[-5:]!='\\nz00\\n'):\n",
    "    msg += target.read()\n",
    "print(\"shared secret a:\", msg[1:-5])\n",
    "\n",
    "msg = \"\"\n",
    "target.simpleserial_write('b', bytearray())\n",
    "while(msg[-5:]!='\\nz00\\n'):\n",
    "    msg += target.read()\n",
    "print(\"shared secret b:\", msg[1:-5])"
   ]
  }
 ],
 "metadata": {
  "kernelspec": {
   "display_name": "Python 3 (ipykernel)",
   "language": "python",
   "name": "python3"
  },
  "language_info": {
   "codemirror_mode": {
    "name": "ipython",
    "version": 3
   },
   "file_extension": ".py",
   "mimetype": "text/x-python",
   "name": "python",
   "nbconvert_exporter": "python",
   "pygments_lexer": "ipython3",
   "version": "3.9.7"
  }
 },
 "nbformat": 4,
 "nbformat_minor": 5
}
