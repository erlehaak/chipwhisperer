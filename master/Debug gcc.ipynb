{
 "cells": [
  {
   "cell_type": "markdown",
   "id": "55f59cae",
   "metadata": {},
   "source": [
    "### Plugg i kabler CW308:\n",
    "1. J5 Pin 12 (SCK)  -> J8 Pin 6 (J_TCK)\n",
    "2. J5 Pin 18 (PDID) -> J8 Pin 5 (J_TMS)\n",
    "3. J5 Pin 13 (MISO) -> J8 Pin 4 (J_TDO)\n",
    "4. J5 Pin 14 (MOSI) -> J8 Pin 3 (J_TDI)\n"
   ]
  },
  {
   "cell_type": "code",
   "execution_count": null,
   "id": "7899b611",
   "metadata": {},
   "outputs": [],
   "source": [
    "import chipwhisperer as cw\n",
    "scope = cw.scope()\n",
    "PID = hex(scope._getNAEUSB().usbtx.device.getProductID())\n",
    "scope.enable_MPSSE(1)\n",
    "print(PID)"
   ]
  },
  {
   "cell_type": "markdown",
   "id": "bff1eeef",
   "metadata": {},
   "source": [
    "### build firmware\n"
   ]
  },
  {
   "cell_type": "code",
   "execution_count": null,
   "id": "7619ca0a",
   "metadata": {},
   "outputs": [],
   "source": [
    "%%sh -s \"$PID\"\n",
    "\n",
    "# build firmware\n",
    "#cd ../hardware/victims/firmware/simpleserial-kyber512-clean/\n",
    "cd ../hardware/victims/firmware/simpleserial-kyber512-m4/\n",
    "\n",
    "make PLATFORM=CW308_STM32F3 CRYPTO_TARGET=NONE\n",
    "\n",
    "#openocd -f ../../../../cw_openocd.cfg -c \"transport select jtag\" -c \"ftdi vid_pid 0x2b3e $1\" -f \"target/stm32f3x.cfg\" -c \"init\" -c \"targets\" -c \"halt\" -c \"flash write_image erase simpleserial-kyber512-clean-CW308_STM32F3.elf\" -c \"flash verify_image simpleserial-kyber512-clean-CW308_STM32F3.elf\" -c \"reset run\" -c \"shutdown\"\n",
    "openocd -f ../../../../cw_openocd.cfg -c \"transport select jtag\" -c \"ftdi vid_pid 0x2b3e $1\" -f \"target/stm32f3x.cfg\" -c \"init\" -c \"targets\" -c \"halt\" -c \"flash write_image erase simpleserial-kyber512-m4-CW308_STM32F3.elf\" -c \"flash verify_image simpleserial-kyber512-m4-CW308_STM32F3.elf\" -c \"reset run\" -c \"shutdown\""
   ]
  },
  {
   "cell_type": "code",
   "execution_count": null,
   "id": "71701a60",
   "metadata": {
    "scrolled": false
   },
   "outputs": [],
   "source": [
    "%%sh -s \"$PID\"\n",
    "\n",
    "# build firmware\n",
    "#cd ../hardware/victims/firmware/simpleserial-kyber512-clean\n",
    "cd ../hardware/victims/firmware/simpleserial-kyber512-m4\n",
    "\n",
    "openocd -f ../../../../cw_openocd.cfg -c \"transport select jtag\" -c \"ftdi vid_pid 0x2b3e $1\" -f \"target/stm32f3x.cfg\""
   ]
  },
  {
   "cell_type": "markdown",
   "id": "cb59adf4",
   "metadata": {},
   "source": [
    "### Start terminal og kjør gdb\n",
    "cd hardware/victims/firmware/simpleserial-kyber512-m4\n",
    "\n",
    "arm-none-eabi-gdb simpleserial-kyber512-m4-CW308_STM32F3.elf -ex \"target extended-remote localhost:3333\" -ex \"monitor reset halt\" -ex \"load\"\n",
    "\n",
    "b main (prøv reconect om infinite loop)\n",
    "\n",
    "set print elements 0\n",
    "\n",
    "c\n",
    "\n",
    "#### Comandos\n",
    "bt - stack trace\n",
    "\n",
    "s inn i funksjon\n",
    "\n",
    "n neste linje\n",
    "\n",
    "p/x variable_name print som hexadesimal\n",
    "\n",
    "info registers eller p/x $r0  for register verdier\n",
    "\n",
    "display/i $pc"
   ]
  }
 ],
 "metadata": {
  "kernelspec": {
   "display_name": "Python 3 (ipykernel)",
   "language": "python",
   "name": "python3"
  },
  "language_info": {
   "codemirror_mode": {
    "name": "ipython",
    "version": 3
   },
   "file_extension": ".py",
   "mimetype": "text/x-python",
   "name": "python",
   "nbconvert_exporter": "python",
   "pygments_lexer": "ipython3",
   "version": "3.10.8"
  }
 },
 "nbformat": 4,
 "nbformat_minor": 5
}
