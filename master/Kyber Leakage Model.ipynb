{
 "cells": [
  {
   "cell_type": "markdown",
   "id": "55d49c58",
   "metadata": {},
   "source": [
    "# Leakage model of kyber"
   ]
  },
  {
   "cell_type": "code",
   "execution_count": 18,
   "id": "e2f0bb2c",
   "metadata": {},
   "outputs": [],
   "source": [
    "KYBER_N = 256\n",
    "KYBER_Q = 3329\n",
    "QINV = -3327"
   ]
  },
  {
   "cell_type": "code",
   "execution_count": 17,
   "id": "a4722c0c",
   "metadata": {
    "scrolled": true
   },
   "outputs": [
    {
     "data": {
      "text/plain": [
       "'\\nprint(poly_unpackdecompress_output)\\nprint()\\nprint(poly_ntt_output)\\nprint()\\nprint(poly_frombytes_mul_output)\\nprint()\\nprint(pt)\\nprint(ct)\\n'"
      ]
     },
     "execution_count": 17,
     "metadata": {},
     "output_type": "execute_result"
    }
   ],
   "source": [
    "#test data\n",
    "\n",
    "sk = [54, 234, 119, 184, 119, 11, 107, 165, 191, 181, 75, 41, 167, 48, 13, 173, 33, 199, 21, 168, 119, 101, 66, 127, 237, 119, 28, 224, 219, 136, 160, 36, 107, 228, 240, 150, 163, 210, 48, 55, 208, 137, 241, 56, 145, 11, 203, 126, 163, 22, 78, 115, 92, 120, 46, 59, 126, 9, 42, 80, 72, 139, 135, 117, 182, 64, 156, 32, 173, 189, 130, 4, 5, 161, 191, 222, 244, 24, 239, 101, 40, 214, 20, 176, 68, 160, 134, 59, 74, 181, 143, 17, 3, 122, 193, 205, 117, 65, 59, 1, 37, 44, 85, 102, 104, 125, 236, 201, 59, 70, 10, 150, 247, 185, 188, 37, 22, 243, 179, 34, 85, 59, 156, 67, 224, 201, 73, 17, 24, 194, 23, 124, 160, 76, 68, 102, 186, 46, 77, 37, 170, 181, 234, 164, 197, 121, 204, 35, 38, 101, 244, 120, 170, 53, 42, 20, 115, 193, 138, 80, 212, 171, 211, 146, 179, 78, 51, 22, 255, 18, 166, 86, 164, 66, 109, 224, 33, 122, 144, 130, 175, 248, 14, 193, 4, 27, 172, 88, 132, 7, 4, 10, 63, 245, 118, 32, 232, 181, 66, 4, 10, 13, 152, 141, 56, 35, 139, 131, 200, 76, 213, 21, 99, 54, 138, 185, 223, 49, 153, 160, 244, 34, 86, 10, 135, 161, 121, 144, 5, 234, 38, 36, 68, 98, 95, 0, 9, 90, 194, 184, 144, 161, 175, 52, 163, 142, 57, 124, 162, 6, 241, 163, 197, 149, 189, 230, 230, 51, 6, 230, 206, 240, 92, 63, 209, 124, 84, 24, 83, 133, 53, 44, 71, 245, 164, 86, 204, 152, 174, 224, 50, 84, 12, 213, 48, 92, 180, 155, 100, 90, 186, 109, 156, 151, 189, 106, 72, 31, 56, 188, 98, 209, 166, 223, 209, 182, 216, 184, 32, 78, 133, 26, 78, 203, 202, 3, 138, 163, 85, 50, 72, 233, 1, 39, 228, 16, 122, 183, 171, 27, 110, 249, 20, 157, 131, 134, 14, 17, 40, 168, 3, 9, 183, 183, 108, 120, 131, 89, 31, 92, 102, 33, 35, 94, 159, 2, 41, 23, 163, 163, 167, 211, 33, 97, 152, 97, 226, 86, 30, 130, 128, 10, 237, 51, 36, 218, 33, 23, 51, 115, 30, 60, 177, 207, 103, 170, 35, 174, 3, 170, 92, 27, 92, 189, 37, 99, 110, 25, 98, 137, 197, 39, 185, 178, 46, 225, 60, 75, 105, 193, 17, 138, 244, 183, 49, 83, 169, 127, 100, 78, 233, 55, 159, 8, 70, 17, 215, 57, 12, 160, 196, 130, 247, 17, 3, 227, 228, 132, 76, 165, 46, 192, 181, 191, 39, 120, 166, 111, 204, 149, 55, 10, 42, 134, 137, 159, 224, 215, 39, 13, 217, 9, 229, 76, 118, 91, 50, 155, 196, 113, 180, 212, 240, 95, 214, 35, 141, 49, 199, 151, 158, 72, 186, 128, 132, 43, 195, 66, 85, 246, 50, 199, 239, 183, 178, 113, 137, 107, 151, 49, 177, 173, 188, 19, 53, 182, 10, 172, 28, 190, 10, 0, 169, 176, 169, 49, 63, 184, 73, 192, 19, 30, 232, 220, 38, 222, 36, 175, 231, 169, 108, 183, 22, 180, 110, 10, 86, 205, 6, 26, 151, 215, 32, 146, 163, 128, 98, 145, 191, 87, 177, 9, 167, 119, 171, 44, 211, 98, 204, 151, 39, 201, 161, 44, 246, 197, 58, 236, 98, 19, 129, 24, 34, 209, 10, 114, 166, 96, 72, 114, 147, 84, 71, 147, 73, 155, 36, 15, 250, 137, 104, 35, 134, 101, 91, 36, 81, 169, 167, 12, 20, 76, 140, 239, 80, 191, 170, 165, 38, 48, 83, 36, 131, 172, 118, 39, 114, 197, 40, 135, 75, 247, 219, 62, 57, 196, 105, 134, 229, 136, 92, 81, 136, 21, 194, 98, 220, 247, 145, 82, 150, 7, 193, 136, 132, 219, 226, 95, 20, 181, 138, 154, 55, 195, 149, 152, 24, 0, 25, 30, 73, 213, 6, 208, 84, 113, 203, 241, 195, 60, 3, 58, 107, 59, 163, 174, 214, 110, 164, 38, 200, 244, 103, 35, 88, 86, 187, 223, 242, 25, 180, 132, 195, 0, 113, 173, 112, 50, 38, 243, 245, 3, 68, 53, 193, 27, 160, 104, 56, 185, 77, 33, 228, 14, 219, 242, 84, 69, 235, 176, 215, 2, 117, 174, 181, 89, 91, 138, 154, 11, 228, 47, 223, 160, 17, 172, 188, 170, 111, 59, 103, 155, 242, 60, 98, 246, 186, 142, 38, 55, 19, 236, 139, 2, 9, 49, 200, 24, 198, 238, 199, 165, 148, 217, 82, 120, 160, 150]\n",
    "pk = [236, 70, 23, 249, 128, 71, 17, 219, 205, 155, 33, 7, 201, 51, 12, 72, 199, 136, 238, 9, 36, 62, 25, 154, 143, 88, 8, 170, 82, 95, 114, 116, 204, 85, 180, 46, 244, 129, 111, 125, 34, 207, 5, 24, 97, 49, 84, 205, 226, 210, 155, 147, 131, 1, 69, 42, 53, 168, 169, 66, 147, 245, 117, 115, 36, 169, 228, 27, 189, 117, 43, 61, 40, 245, 154, 206, 116, 81, 108, 92, 39, 207, 176, 41, 49, 51, 123, 150, 136, 27, 75, 54, 181, 142, 58, 97, 88, 171, 161, 228, 149, 112, 88, 25, 43, 62, 72, 93, 78, 49, 112, 7, 69, 79, 63, 68, 84, 111, 48, 202, 148, 25, 24, 218, 244, 116, 1, 28, 84, 8, 243, 30, 12, 1, 122, 69, 171, 67, 85, 230, 80, 24, 84, 175, 149, 83, 114, 147, 139, 113, 226, 132, 19, 109, 163, 0, 75, 49, 184, 60, 96, 61, 14, 57, 151, 96, 148, 116, 25, 134, 8, 139, 248, 46, 29, 9, 182, 11, 252, 147, 188, 59, 161, 220, 124, 170, 16, 108, 12, 23, 37, 197, 83, 214, 92, 226, 161, 77, 93, 83, 187, 54, 214, 15, 157, 17, 183, 196, 154, 120, 91, 90, 89, 121, 3, 58, 228, 75, 16, 79, 209, 207, 175, 209, 193, 225, 135, 35, 211, 37, 168, 119, 6, 73, 15, 52, 111, 161, 16, 200, 48, 139, 27, 81, 213, 14, 143, 196, 122, 255, 144, 196, 247, 155, 40, 130, 156, 111, 190, 103, 136, 59, 92, 193, 95, 6, 198, 187, 169, 83, 3, 122, 67, 19, 89, 10, 162, 177, 142, 79, 235, 203, 244, 67, 127, 91, 53, 205, 141, 148, 47, 212, 180, 109, 135, 8, 39, 48, 75, 204, 1, 28, 139, 51, 36, 201, 228, 129, 43, 115, 115, 58, 249, 201, 203, 203, 164, 18, 18, 81, 73, 135, 203, 10, 63, 133, 159, 254, 241, 194, 103, 124, 57, 57, 20, 123, 213, 86, 26, 127, 33, 95, 169, 38, 165, 198, 19, 202, 218, 153, 179, 243, 58, 82, 101, 198, 82, 209, 178, 89, 130, 179, 147, 220, 248, 124, 36, 35, 148, 162, 178, 99, 88, 161, 88, 205, 124, 71, 77, 40, 136, 3, 66, 51, 37, 10, 59, 220, 59, 4, 255, 44, 157, 133, 83, 181, 110, 101, 98, 217, 66, 72, 105, 81, 98, 214, 148, 52, 54, 74, 151, 32, 180, 92, 29, 88, 66, 179, 201, 24, 183, 50, 194, 26, 117, 66, 128, 201, 165, 16, 3, 106, 237, 4, 58, 90, 33, 44, 108, 232, 119, 210, 250, 202, 51, 144, 183, 227, 169, 54, 217, 187, 71, 22, 198, 154, 203, 101, 51, 240, 58, 165, 157, 185, 187, 117, 86, 29, 116, 83, 33, 150, 70, 184, 247, 130, 153, 145, 75, 5, 114, 168, 38, 77, 67, 74, 12, 182, 141, 86, 112, 94, 139, 241, 206, 23, 8, 93, 39, 161, 126, 168, 169, 84, 31, 120, 146, 2, 117, 2, 248, 185, 193, 239, 70, 156, 183, 8, 131, 242, 136, 44, 217, 162, 182, 138, 33, 145, 87, 135, 29, 53, 156, 125, 142, 218, 9, 148, 137, 150, 233, 246, 96, 115, 34, 174, 69, 166, 162, 80, 148, 86, 140, 19, 35, 172, 195, 168, 175, 98, 90, 107, 52, 51, 209, 167, 169, 140, 43, 102, 186, 76, 74, 190, 246, 203, 254, 226, 112, 143, 249, 90, 43, 12, 103, 19, 9, 199, 199, 2, 10, 37, 92, 111, 131, 195, 47, 172, 54, 164, 118, 179, 123, 249, 164, 189, 109, 245, 153, 90, 163, 39, 13, 194, 137, 114, 58, 182, 176, 226, 161, 77, 96, 204, 192, 112, 149, 242, 34, 159, 148, 170, 160, 178, 220, 168, 159, 54, 78, 55, 169, 199, 161, 145, 166, 104, 68, 104, 184, 99, 58, 198, 3, 57, 52, 183, 189, 161, 177, 61, 212, 68, 15, 162, 140, 154, 103, 228, 25, 110, 248, 148, 62, 124, 189, 238, 156, 152, 216, 52, 85, 70, 167, 8, 250, 150, 111, 133, 160, 207, 6, 121, 166, 191, 162, 43, 180, 117, 138, 61, 80, 182, 99, 25, 84, 157, 22, 139, 203, 122, 163, 42, 43, 140, 58, 177, 18, 3, 18, 5, 201, 108, 51, 214, 177, 65, 56, 150, 157, 62, 184, 26, 1, 55, 173, 56, 138, 147, 165, 252, 76, 47, 3, 124, 245, 165, 195, 93, 166, 199, 60, 246, 79, 126, 99, 179, 213, 230, 132, 173, 219, 35, 190, 5, 74, 85, 137, 70, 249, 183, 203, 119, 214, 179, 133, 214, 152, 251, 45, 80, 106, 97, 161, 39, 231, 26, 175, 209, 181, 249, 96, 52, 168, 164, 222, 4, 242, 144, 11, 208]\n",
    "\n",
    "pt = [0xf1, 0x90, 0x32, 0xb3, 0x57, 0xf8, 0xc9, 0xa, 0xad, 0x59, 0x20, 0x7f, 0xf7, 0x13, 0x94, 0x22, 0xeb, 0xb6, 0x56, 0x7a, 0xeb, 0x73, 0x8f, 0xf2, 0xb, 0x27, 0x31, 0xae, 0x6c, 0x18, 0x90, 0x7c]\n",
    "ct = [0x15, 0x2d, 0xfb, 0x64, 0x10, 0x26, 0x71, 0x66, 0x7d, 0x88, 0x93, 0xcf, 0xc2, 0xff, 0xc4, 0x50, 0xe8, 0xb8, 0x6c, 0xaa, 0x32, 0x7c, 0x32, 0xf, 0xc, 0xbc, 0xe, 0x52, 0x28, 0x89, 0xdc, 0x84, 0xf2, 0xea, 0x96, 0x48, 0xaf, 0x3c, 0xe2, 0xdb, 0xdc, 0x21, 0xe5, 0x97, 0x7e, 0x60, 0xdc, 0x92, 0xe7, 0xdb, 0x5e, 0xaf, 0xd8, 0x2d, 0x69, 0xa3, 0x3, 0xcc, 0x5d, 0x34, 0x7a, 0xb5, 0x93, 0xa2, 0x3e, 0xa3, 0x4b, 0x8a, 0x24, 0x98, 0x91, 0xce, 0x2, 0x83, 0x23, 0x46, 0x17, 0x7c, 0x42, 0x53, 0xbe, 0xb, 0x70, 0x6c, 0xbb, 0x8e, 0x21, 0x16, 0xcf, 0x1a, 0xed, 0x79, 0x2f, 0x51, 0x37, 0x5, 0xe0, 0x4b, 0x25, 0x64, 0x4e, 0xd4, 0x8e, 0x73, 0x12, 0x61, 0xf3, 0x61, 0x9d, 0xc3, 0xd5, 0xe6, 0xca, 0x18, 0x2c, 0xef, 0xe1, 0x6a, 0x25, 0xd8, 0xe9, 0xb3, 0xcc, 0xe1, 0x77, 0xf6, 0xed, 0x93, 0xf7, 0xdf, 0x12, 0xad, 0x87, 0x65, 0x9, 0x2c, 0x36, 0x11, 0x42, 0xe2, 0xab, 0x3f, 0x8f, 0x43, 0xa8, 0xf2, 0x2f, 0xc1, 0xd0, 0x63, 0xd7, 0xf6, 0x1c, 0x21, 0x8a, 0x22, 0x1c, 0x5b, 0xe4, 0xc6, 0xfd, 0x58, 0x65, 0x2f, 0xfd, 0xf5, 0xfd, 0x47, 0x48, 0xf, 0x3, 0xbd, 0xc6, 0xf9, 0x51, 0x9, 0xa5, 0x91, 0xdd, 0x2c, 0x3, 0x18, 0xd9, 0xf2, 0xaa, 0x6b, 0xcf, 0x45, 0x4b, 0x23, 0xc6, 0x5b, 0xb0, 0xd8, 0x1a, 0x3e, 0x4, 0x7d, 0x6a, 0x3c, 0x5c, 0xff, 0x51, 0xa6, 0xc8, 0x4f, 0xa8, 0x99, 0x71, 0x6, 0x7a, 0x1b, 0x7b, 0x64, 0x63, 0x4f, 0x73, 0xd8, 0x7a, 0x5f, 0x0, 0xfb, 0xb7, 0xe4, 0xa0, 0xf, 0xe5, 0xd, 0x73, 0x5f, 0xf9, 0x37, 0x3e, 0xb2, 0xad, 0x3, 0x8e, 0xf0, 0xc5, 0x8f, 0xbf, 0xce, 0x81, 0x82, 0x95, 0x6e, 0x8b, 0xf7, 0x5f, 0x8b, 0x3d, 0x76, 0xd9, 0xa2, 0x7e, 0xc5, 0xf9, 0x31, 0x42, 0xb4, 0xca, 0x5a, 0xbc, 0x48, 0x7e, 0x63, 0x96, 0x73, 0x79, 0x68, 0x69, 0xc4, 0x75, 0xc4, 0xda, 0xf1, 0xa3, 0xbe, 0xc9, 0x5, 0x45, 0xb9, 0x54, 0x13, 0x87, 0xfe, 0xc7, 0xe0, 0x6e, 0xce, 0x27, 0xb0, 0x39, 0x9c, 0xb2, 0xe3, 0x42, 0x66, 0x75, 0x85, 0x9d, 0x38, 0x6b, 0x47, 0xee, 0x1c, 0x80, 0x86, 0x29, 0x3c, 0xf1, 0x84, 0x87, 0x55, 0xca, 0xc9, 0xe4, 0x59, 0x82, 0xef, 0xea, 0x51, 0xe4, 0x72, 0x58, 0x70, 0x49, 0xea, 0x86, 0x42, 0xc, 0x47, 0x4e, 0x1e, 0x89, 0x3, 0x47, 0xb1, 0x24, 0x34, 0x7d, 0xd1, 0xca, 0xa0, 0x86, 0x64, 0x1a, 0xfa, 0x85, 0xbe, 0x13, 0x83, 0x53, 0x6a, 0x72, 0x96, 0xfb, 0x8d, 0x60, 0x3e, 0x30, 0xda, 0xb1, 0xff, 0xdb, 0xc9, 0x74, 0x75, 0xf, 0x93, 0x39, 0x17, 0x97, 0x34, 0x76, 0x1, 0x20, 0xd7, 0xf0, 0x46, 0x77, 0x15, 0x75, 0xd4, 0x9e, 0x5a, 0x1d, 0xe6, 0xbf, 0x67, 0x95, 0xf1, 0x88, 0x15, 0x3d, 0xfe, 0x40, 0x3e, 0x1, 0x4a, 0xd1, 0x40, 0xa4, 0xd6, 0xba, 0x50, 0x60, 0x4d, 0x9, 0x41, 0x3a, 0x3, 0x89, 0xfb, 0x50, 0xe4, 0x8e, 0xa8, 0xb2, 0xbf, 0xcd, 0xcc, 0x6a, 0x18, 0x39, 0xe3, 0xdd, 0x63, 0xbe, 0x84, 0xea, 0x74, 0xa0, 0xcc, 0xd1, 0x35, 0xba, 0x6f, 0x87, 0xbe, 0x8f, 0xd6, 0xa4, 0xba, 0x66, 0xe, 0xe7, 0x1f, 0xcb, 0xab, 0xfc, 0x71, 0x51, 0xbd, 0xad, 0xaf, 0x6e, 0xe3, 0xb1, 0xd2, 0x37, 0xb, 0x50, 0xb3, 0x46, 0xa6, 0xeb, 0x66, 0x49, 0xfc, 0x78, 0x60, 0x24, 0x91, 0xa2, 0x27, 0x8f, 0x64, 0x2, 0xa9, 0x20, 0xac, 0x75, 0xa3, 0x9a, 0x3, 0x85, 0xaa, 0x54, 0xa4, 0x55, 0xda, 0xfa, 0xf2, 0xc6, 0x11, 0x14, 0x3d, 0xd1, 0xb1, 0x53, 0x38, 0x60, 0x98, 0x92, 0xa3, 0x6, 0xfa, 0xbe, 0x1f, 0xe1, 0xba, 0xfc, 0xf, 0xbd, 0x52, 0x44, 0x8e, 0x9d, 0xb5, 0xf6, 0xe1, 0xde, 0xd2, 0x7, 0x33, 0x3f, 0x1a, 0xcd, 0x91, 0x77, 0x32, 0x65, 0x5d, 0x46, 0xaf, 0x3b, 0xb6, 0x73, 0xe4, 0x52, 0x74, 0xe4, 0x1e, 0x92, 0xf3, 0xf4, 0x60, 0x5e, 0x9a, 0xa1, 0x78, 0x5e, 0x93, 0x9f, 0xce, 0x86, 0x77, 0xfd, 0x16, 0xa2, 0x99, 0xaa, 0x44, 0x46, 0xec, 0xa9, 0xa0, 0x9, 0xf0, 0xdb, 0x88, 0x32, 0xe2, 0xdd, 0x19, 0xc3, 0xf7, 0xe7, 0xbe, 0xcc, 0x9e, 0xf6, 0xcc, 0xd3, 0x8c, 0x84, 0x2a, 0x7f, 0x3f, 0xde, 0xb4, 0xa9, 0x2, 0xe3, 0xb8, 0xc5, 0x6e, 0x9b, 0x58, 0x25, 0xfe, 0x29, 0x77, 0x4b, 0xdf, 0xe9, 0xc2, 0x9f, 0x4b, 0x62, 0x14, 0x58, 0x2d, 0x8f, 0x6b, 0x7a, 0xb1, 0x4a, 0x35, 0xff, 0x62, 0xb7, 0xf4, 0xa1, 0x9f, 0x56, 0xc8, 0xf7, 0x10, 0x6c, 0x1e, 0xae, 0xad, 0x40, 0x39, 0xaf, 0xe4, 0xfe, 0x8b, 0x38, 0x20, 0xad, 0x7c, 0x2a, 0xba, 0x2, 0xc8, 0xed, 0x66, 0x3c, 0xcd, 0x83, 0x6d, 0x3d, 0xbb, 0xdd, 0x97, 0xbf, 0x92, 0x87, 0x90, 0x90, 0xb7, 0xa, 0xf2, 0x6b, 0xea, 0xb1, 0xc9, 0x5, 0x91, 0x28, 0x4e, 0x56, 0xe5, 0x9b, 0xdb, 0x73, 0x8b, 0x51, 0x8f, 0xf0, 0xda, 0x3f, 0x26, 0xe8, 0x2b, 0x5c, 0x7e, 0x29, 0x82, 0x5f, 0x35, 0x64, 0xf, 0x23, 0x39, 0x5d, 0x2c, 0xad, 0x9c, 0xb3, 0xaf, 0xae, 0xc1, 0x2, 0x90, 0xa5, 0x1d, 0x2c, 0x82, 0xab, 0x68, 0x3, 0x5b, 0x56, 0x9c, 0x68, 0x1c, 0xfd, 0x6e, 0xb1, 0xab, 0xc4, 0x26, 0xf7, 0x14, 0x59, 0xad, 0x5a, 0x9d, 0x47, 0xc8, 0x1f, 0xd4, 0x4d, 0x85, 0xc5, 0xa2, 0xa8, 0x45, 0x8, 0x66, 0x59, 0xfe, 0xbf, 0x90, 0x4e, 0xf1, 0xc7, 0xfe, 0xab, 0xed, 0x3c, 0x89, 0x2c, 0xf5, 0xd8, 0x49, 0x14, 0x2d, 0xbe, 0x57, 0xf7, 0xfd, 0x5, 0xb4]\n",
    "\n",
    "poly_unpackdecompress_output = [0x385, 0x914, 0x781, 0xd3, 0x3bc, 0x53b, 0xc78, 0x6ec, 0xb9f, 0x246, 0xcf4, 0x9ff, 0x104, 0x73d, 0x914, 0x8a6, 0xa3, 0x205, 0x316, 0x9c, 0x8e4, 0x1aa, 0x831, 0x6f6, 0x2cb, 0x20b, 0x8b9, 0x7a8, 0xaab, 0xa4d, 0x6f2, 0xb2a, 0x60b, 0x42a, 0x4da, 0x66d, 0x138, 0x253, 0x80a, 0xb2a, 0xaf2, 0x70c, 0x94f, 0x555, 0xbd3, 0x9c1, 0x60b, 0x2a7, 0x4cd, 0x302, 0x706, 0x32d, 0xbd3, 0x85b, 0x76b, 0x7b9, 0x858, 0x246, 0x9c, 0x1ce, 0xaa4, 0x9d1, 0x7f, 0x43b, 0xc2a, 0x7, 0x907, 0x983, 0x50e, 0x4fa, 0x30f, 0x15c, 0x643, 0xc92, 0x37b, 0x2ce, 0x10, 0x9a7, 0x792, 0x514, 0xfe, 0xc0d, 0xa77, 0xed, 0xafc, 0x193, 0x5f8, 0x9ee, 0x935, 0x8da, 0x507, 0x23c, 0x649, 0x8d7, 0x798, 0xaf9, 0xcb6, 0xa50, 0x6dc, 0x615, 0x660, 0x330, 0xb4a, 0xb5e, 0x37b, 0x63c, 0x79f, 0x78, 0x710, 0xfa, 0x6b, 0xb7e, 0xbed, 0xc62, 0xb6, 0x88c, 0xcd3, 0xf4, 0x367, 0x511, 0x93b, 0xa87, 0x6b8, 0x703, 0x6f, 0x907, 0x761, 0xa19, 0x336, 0x458, 0x9a0, 0xcda, 0x65d, 0x67d, 0x1ad, 0xc6, 0x34a, 0x579, 0xbbc, 0x427, 0x35e, 0x155, 0x602, 0x246, 0xa, 0x764, 0xa53, 0x8ac, 0xb1d, 0x4b6, 0x249, 0x1ca, 0xc44, 0x48, 0x504, 0x15c, 0xca, 0xa94, 0x89f, 0x30f, 0xaec, 0x19d, 0x7c9, 0xa2f, 0x101, 0x7d9, 0xa12, 0x51, 0xb4d, 0x904, 0x767, 0x50b, 0xac2, 0x6dc, 0xbf3, 0x4d7, 0x9c1, 0x67a, 0x774, 0x82a, 0x371, 0xb4a, 0xa5d, 0x4d7, 0xcea, 0xb8b, 0xa33, 0x8d0, 0x68a, 0x72, 0x135, 0x74d, 0x8ed, 0x176, 0x82, 0x798, 0xb26, 0x61f, 0x67d, 0x713, 0x747, 0x7af, 0x713, 0x66d, 0x5c1, 0x19a, 0x72, 0x928, 0x911, 0xa08, 0x1c4, 0x66a, 0x7c2, 0x2e8, 0xbac, 0x54c, 0x155, 0x4b0, 0xe7, 0xb1d, 0xcd0, 0xbe3, 0x1f8, 0x4b, 0x421, 0x3d6, 0x3ed, 0x6dc, 0xcfa, 0x9f, 0x986, 0xa7a, 0x7f, 0x7e0, 0x5ba, 0x911, 0x962, 0x514, 0xad8, 0x6c5, 0x1fe, 0x91e, 0x180, 0xc1a, 0x5b, 0x548, 0x86f, 0x30c, 0x30f, 0x61c, 0x45e, 0xa46, 0x28d, 0x80a, 0x78, 0xc2a]\n",
    "poly_ntt_output = [0xc14, 0x3ff, 0x9b2, 0x6bf, 0xa38, 0x1ba, 0x9e1, 0x3b6, 0x561, 0xc99, 0x44b, 0x500, 0xc5d, 0x1, 0x25f, 0x36a, 0x92d, 0x782, 0x32a, 0x7ea, 0x9b9, 0x1aa, 0x50d, 0x427, 0x97a, 0xb4, 0x59c, 0xad8, 0xca8, 0xadf, 0xa80, 0x92f, 0x70e, 0x5f5, 0x653, 0x8f0, 0x22b, 0x610, 0x610, 0x518, 0x7fa, 0x63c, 0x4ba, 0x944, 0xc42, 0x744, 0x31b, 0x9f, 0x559, 0xa95, 0x39b, 0x913, 0xc13, 0x6b9, 0x3da, 0x1d8, 0x323, 0x6fe, 0x1e2, 0x75f, 0xb90, 0x42a, 0x709, 0x370, 0x70a, 0xb7d, 0x7a4, 0xcc9, 0xa63, 0x2ef, 0xce3, 0xc88, 0x668, 0x8cf, 0x571, 0x80c, 0x59c, 0x74a, 0x4b7, 0xa7a, 0xcc6, 0x4f2, 0x96a, 0x50e, 0xc87, 0x8cd, 0x7f6, 0x3fd, 0x7d8, 0x92a, 0x6a, 0x784, 0x5b6, 0x6aa, 0x81d, 0x8e6, 0xb47, 0x687, 0x8a, 0x57b, 0x6c7, 0x75f, 0x4a3, 0x455, 0x380, 0x75c, 0xc65, 0xabb, 0xbc8, 0xcba, 0x492, 0xcde, 0x9d7, 0x6d, 0xa0e, 0x65a, 0x878, 0xc61, 0x27b, 0x425, 0xcd7, 0xf9, 0x1e6, 0x282, 0xa11, 0x6d9, 0xa48, 0x37e, 0xc17, 0x360, 0x4c3, 0x708, 0x985, 0xdd, 0x101, 0x129, 0x9c4, 0xc58, 0xa52, 0x1e2, 0x4e3, 0x478, 0xcd1, 0x36f, 0xcf2, 0x4d4, 0x485, 0x937, 0x9bb, 0x9d3, 0x3ca, 0x144, 0xac0, 0x939, 0xc00, 0x9f3, 0x20e, 0x73d, 0x9bb, 0x670, 0xbc2, 0x964, 0x847, 0x41, 0xbb6, 0x4b9, 0x212, 0x9c9, 0xda, 0xb08, 0x2be, 0xc9d, 0x8bc, 0x391, 0x727, 0x454, 0x1e4, 0x73, 0x445, 0x606, 0x494, 0x42f, 0xcc1, 0x8c1, 0x91c, 0x4a9, 0x112, 0x584, 0xa14, 0x647, 0x95d, 0x459, 0x307, 0xad6, 0x669, 0xcb5, 0x467, 0x3a4, 0x198, 0xcb4, 0xc8e, 0x9eb, 0x759, 0xc25, 0x21c, 0x54f, 0x43b, 0xbce, 0x6e9, 0x79, 0xc0, 0x9f8, 0xaef, 0x186, 0x2fd, 0xb31, 0x424, 0x7ba, 0x775, 0x9d0, 0xa21, 0xc03, 0x8bd, 0x6a2, 0xe6, 0x6, 0x28d, 0x8fe, 0x5f8, 0xa4e, 0x719, 0x9be, 0xb85, 0x334, 0xbd8, 0x249, 0x6b1, 0x2bd, 0xaa4, 0x5ac, 0x768, 0xbab, 0xb3e, 0x702, 0x14f, 0xc0a, 0x9ed, 0x576, 0x435, 0xc07, 0x869, 0x83b, 0x280, 0x211, 0x985, 0xb0a]\n",
    "poly_frombytes_mul_output = [0xff7b, 0xff9e, 0xcb, 0xfdaa, 0x3d6, 0xfe83, 0x1a6, 0xff78, 0xfdf8, 0x2a7, 0xfe7b, 0x519, 0x43f, 0xfd4b, 0xfbf7, 0xfcbc, 0x24c, 0xf9d4, 0xfe8d, 0x638, 0x6ba, 0xfc2d, 0xff8a, 0x66e, 0x1c6, 0xfc2b, 0xfb0d, 0x505, 0x420, 0x332, 0xfcf8, 0xfc4d, 0x3f6, 0xffb7, 0xfad9, 0x4bd, 0x33d, 0x29e, 0x2d1, 0x1d8, 0xfb02, 0xff9f, 0x386, 0x0, 0xfbd5, 0x673, 0x300, 0x23f, 0x4b, 0xfeba, 0x581, 0xffe3, 0xfd5d, 0x330, 0xfa57, 0x14c, 0x494, 0x343, 0x18f, 0xff5c, 0x3d9, 0xfada, 0xfe7c, 0xfecb, 0xf9cc, 0x3c4, 0xfe22, 0xfdf1, 0xf9d0, 0xffb8, 0x306, 0xfaec, 0x26e, 0x488, 0x3e3, 0xfa2d, 0xfc52, 0x38b, 0xfe5a, 0x638, 0x5f9, 0xfa3f, 0xfee6, 0xab, 0x4be, 0x206, 0x3ec, 0xfd5b, 0xfb97, 0x32, 0xff5b, 0x47b, 0x48c, 0xff3e, 0xfdde, 0xd4, 0xfdad, 0x2ca, 0xfd87, 0x2f0, 0x35c, 0xfa7a, 0x14b, 0x85, 0xfb60, 0x365, 0xfecb, 0xfc89, 0x2d9, 0xfcdb, 0xffc6, 0x62e, 0x670, 0x1c6, 0xfc17, 0x6bf, 0x494, 0xf9e0, 0x452, 0x164, 0x552, 0xfce2, 0x62d, 0xfadf, 0x18e, 0x473, 0x123, 0x3f8, 0x196, 0x2ee, 0x2d7, 0xfac4, 0xffa4, 0xfc12, 0x675, 0xfe4c, 0xffaf, 0x3dd, 0xff71, 0x508, 0xd, 0x69b, 0xfb79, 0x15, 0xff7a, 0x3ca, 0xff3b, 0xfde1, 0xfaa6, 0x5dd, 0x135, 0x4f1, 0xfd53, 0x646, 0x617, 0x503, 0xff14, 0xfd8d, 0xfaac, 0xfe55, 0x38a, 0x5dc, 0x34a, 0xfcae, 0xfe7b, 0x4cf, 0xfe5a, 0xfaef, 0x49f, 0xfa80, 0xb9, 0x86, 0xff07, 0xff80, 0xfa2c, 0xfc02, 0x176, 0xfdf9, 0xfeff, 0xff60, 0xfbc1, 0xfe6b, 0xfe8b, 0xfba2, 0x9f, 0xfc05, 0xfe8e, 0x360, 0xfc11, 0xc9, 0x2a, 0xfec2, 0x396, 0xfa6d, 0xfc70, 0x65b, 0x4c8, 0xfecf, 0x4, 0xfb5e, 0xfa68, 0xfef8, 0x264, 0xffc0, 0xfd7f, 0xff17, 0x2c5, 0xfbfb, 0x28c, 0x68a, 0x447, 0x47d, 0x220, 0x5c1, 0x3c, 0xb5, 0xfcf4, 0x537, 0x2ac, 0x342, 0xfb2b, 0xfb98, 0xfdbd, 0x456, 0x2ca, 0xfbbb, 0x390, 0xfc12, 0x5f, 0x4de, 0xf9be, 0x400, 0xfd5d, 0xfa27, 0x162, 0x616, 0xfcc1, 0x4d, 0xfbc6, 0xfb07, 0xfed7, 0xdf, 0xfb17, 0x451, 0xfa3a, 0x1bb, 0xfde1, 0xfae2, 0xfef1, 0xfe1f, 0x4af, 0xfafa, 0xff4d, 0x222, 0x434, 0xfa19]\n",
    "\n",
    "#Første doublebasemul_asm iterasjon\n",
    "tmp = [0xa36, 0x77e, 0x7b8, 0xb7]\n",
    "zetas_input = 0x8b2\n",
    "#registers start\n",
    "zeta_reg = 0x8b2\n",
    "poly0 = 0x3ff0c14 #c0c1c2c3\n",
    "poly1 = 0x77e0a36 #k0k1k2k3\n",
    "poly2 = 0x6bf09b2 #c0'c1'c2'c3'\n",
    "poly3 = 0xb707b8 #k0'k1'k2'k3'\n",
    "\n",
    "tmp_l38 = 0x1df082 # Etter \"smultt tmp, poly0, poly1\" linje 38\n",
    "tmp_l48 = 0xff9eff7b #Etter \"pkhtb tmp, tmp3, tmp, asr#16\" linje 48\n",
    "\n",
    "output_doublebasemul_asm_iteration1 = [0xff7b, 0xff9e, 0xcb, 0xfdaa]\n",
    "\"\"\"\n",
    "print(poly_unpackdecompress_output)\n",
    "print()\n",
    "print(poly_ntt_output)\n",
    "print()\n",
    "print(poly_frombytes_mul_output)\n",
    "print()\n",
    "print(pt)\n",
    "print(ct)\n",
    "\"\"\""
   ]
  },
  {
   "cell_type": "code",
   "execution_count": 19,
   "id": "9ddab2f7",
   "metadata": {},
   "outputs": [],
   "source": [
    "#HW = [bin(n).count(\"1\") for n in range(0, 2**32)]\n",
    "def hw(n):\n",
    "    return bin(n).count(\"1\")"
   ]
  },
  {
   "cell_type": "code",
   "execution_count": 32,
   "id": "f57d0b9a",
   "metadata": {},
   "outputs": [
    {
     "name": "stdout",
     "output_type": "stream",
     "text": [
      "65536\n"
     ]
    }
   ],
   "source": []
  },
  {
   "cell_type": "code",
   "execution_count": 20,
   "id": "10ee2832",
   "metadata": {},
   "outputs": [],
   "source": [
    "def montgomery_reduction_asm(a, q, qinv):\n",
    "    m = (a * qinv) & ((1 << 32) - 1)\n",
    "    u = (a + m * q) >> 32\n",
    "    if u >= q:\n",
    "        u -= q\n",
    "    return u"
   ]
  },
  {
   "cell_type": "code",
   "execution_count": 21,
   "id": "ab1f8981",
   "metadata": {},
   "outputs": [],
   "source": [
    "def doublebasemul_asm(poly0, poly1, poly2, poly3, zeta):\n",
    "    q = 3329\n",
    "    qinv = (1 << 32) // q\n",
    "\n",
    "    tmp = (poly0 >> 16) * (poly1 >> 16)  # smultt\n",
    "    tmp = montgomery_reduction_asm(tmp, q, qinv)\n",
    "    tmp2 = tmp * zeta\n",
    "    tmp2 += (poly0 & 0xFFFF) * (poly1 & 0xFFFF)  # smlabb (smultb)\n",
    "    tmp2 = montgomery_reduction_asm(tmp2, q, qinv)\n",
    "\n",
    "    tmp2_temp = ((poly0 & 0xFFFF) * (poly3 >> 16)) + ((poly0 >> 16) * (poly3 & 0xFFFF))  # smuadx\n",
    "    tmp3 = montgomery_reduction_asm(tmp2_temp, q, qinv)\n",
    "\n",
    "    tmp = (tmp3 << 16) | (tmp & 0xFFFF)  # pkhtb\n",
    "    \n",
    "    return tmp\n",
    "\n"
   ]
  },
  {
   "cell_type": "markdown",
   "id": "1432231c",
   "metadata": {},
   "source": [
    "poly1 = k0k1k2k3, poly3 = k0'k1'k2'k3', 2*4 byte\n",
    "\n",
    "poly0 = c0c1c2c3, poly2 = c0'c1'c2'c3', 2*4 byte\n",
    "\n",
    "zeta = int16_t"
   ]
  },
  {
   "cell_type": "code",
   "execution_count": 22,
   "id": "196bce8d",
   "metadata": {},
   "outputs": [
    {
     "data": {
      "text/plain": [
       "'0x32f0767'"
      ]
     },
     "execution_count": 22,
     "metadata": {},
     "output_type": "execute_result"
    }
   ],
   "source": [
    "# Test DOES NOT GIVE THE SAME AS RUNTIME\n",
    "poly0 = 0x9ab04d8 \n",
    "poly1 = 0x17406ec\n",
    "poly2 = 0x88c0a1a\n",
    "poly3 = 0x47800f9\n",
    "zeta = 0x8b2\n",
    "\n",
    "hex(doublebasemul_asm(poly0, poly1, poly2, poly3, zeta))"
   ]
  },
  {
   "cell_type": "markdown",
   "id": "d4854118",
   "metadata": {},
   "source": [
    "# TODO"
   ]
  },
  {
   "cell_type": "markdown",
   "id": "f9540c77",
   "metadata": {},
   "source": [
    "### For en ciphertext finn verdiene til poly0 og poly2\n",
    "\n",
    "Ciphertext -> poly_unpackdecompress -> poly_ntt = polynom[256]\n",
    "\n",
    "polinom er int16_t coeffs[KYBER_N] (256)\n",
    "\n",
    "a = list of integers[0,255] representing the bytearray.\n",
    "\n",
    "Gjør i c: gcc -o "
   ]
  },
  {
   "cell_type": "code",
   "execution_count": 23,
   "id": "7da2060e",
   "metadata": {},
   "outputs": [],
   "source": [
    "def poly_unpackdecompress(a, i): #Testet viker i runtime :)\n",
    "    r = [0] * KYBER_N\n",
    "    for j in range(KYBER_N // 4):\n",
    "        r[4 * j + 0] = (((a[320 * i + 5 * j + 0] | ((a[320 * i + 5 * j + 1] & 0x03) << 8)) * KYBER_Q) + 512) >> 10\n",
    "        r[4 * j + 1] = (((a[320 * i + 5 * j + 1] >> 2) | ((a[320 * i + 5 * j + 2] & 0x0f) << 6)) * KYBER_Q + 512) >> 10\n",
    "        r[4 * j + 2] = (((a[320 * i + 5 * j + 2] >> 4) | ((a[320 * i + 5 * j + 3] & 0x3f) << 4)) * KYBER_Q + 512) >> 10\n",
    "        r[4 * j + 3] = (((a[320 * i + 5 * j + 3] >> 6) | ((a[320 * i + 5 * j + 4] & 0xff) << 2)) * KYBER_Q + 512) >> 10\n",
    "    return r"
   ]
  },
  {
   "cell_type": "code",
   "execution_count": 24,
   "id": "9024ef43",
   "metadata": {},
   "outputs": [],
   "source": [
    "#NTT\n",
    "\n",
    "\n",
    "\n",
    "zetas_ntt = [-1044,  -758,  -359, -1517,  1493,  1422,   287,   202,\n",
    "        -171,   622,  1577,   182,   962, -1202, -1474,  1468,\n",
    "        573, -1325,   264,   383,  -829,  1458, -1602,  -130,\n",
    "        -681,  1017,   732,   608, -1542,   411,  -205, -1571,\n",
    "        1223,   652,  -552,  1015, -1293,  1491,  -282, -1544,\n",
    "        516,    -8,  -320,  -666, -1618, -1162,   126,  1469,\n",
    "        -853,   -90,  -271,   830,   107, -1421,  -247,  -951,\n",
    "        -398,   961, -1508,  -725,   448, -1065,   677, -1275,\n",
    "        -1103,   430,   555,   843, -1251,   871,  1550,   105,\n",
    "        422,   587,   177,  -235,  -291,  -460,  1574,  1653,\n",
    "        -246,   778,  1159,  -147,  -777,  1483,  -602,  1119,\n",
    "        -1590,   644,  -872,   349,   418,   329,  -156,   -75,\n",
    "        817,  1097,   603,   610,  1322, -1285, -1465,   384,\n",
    "        -1215,  -136,  1218, -1335,  -874,   220, -1187, -1659,\n",
    "        -1185, -1530, -1278,   794, -1510,  -854,  -870,   478,\n",
    "        -108,  -308,   996,   991,   958, -1460,  1522,  1628]\n",
    "\n",
    "\n",
    "\n",
    "def montgomery_reduce(a: int, q: int = KYBER_Q) -> int:\n",
    "    t = (a * QINV) % (1 << 16)\n",
    "    t = (a - t * q) >> 16\n",
    "    return t\n",
    "\n",
    "def fqmul(a: int, b: int) -> int:\n",
    "    #print(a, b, montgomery_reduce(a * b))\n",
    "    return montgomery_reduce(a * b)\n",
    "\n",
    "def ntt(r: list):\n",
    "    k = 1\n",
    "    len = 128\n",
    "    while len >= 2:\n",
    "        for start in range(0, KYBER_N, len * 2):\n",
    "            zeta = zetas_ntt[k]\n",
    "            k += 1\n",
    "            for j in range(start, start + len):\n",
    "                t = fqmul(zeta, r[j + len])\n",
    "                r[j + len] = (r[j] - t) % KYBER_Q\n",
    "                r[j] = (r[j] + t) % KYBER_Q\n",
    "        len >>= 1"
   ]
  },
  {
   "cell_type": "code",
   "execution_count": 25,
   "id": "82a1b0fa",
   "metadata": {},
   "outputs": [],
   "source": [
    "\n",
    "def poly_reduce(r):\n",
    "    for i in range(len(r)):\n",
    "        r[i] = barrett_reduce(r[i])\n",
    "        \n",
    "def barrett_reduce(a):\n",
    "    v = ((1 << 26) + KYBER_Q // 2) // KYBER_Q\n",
    "\n",
    "    t = ((v * a + (1 << 25)) >> 26) * KYBER_Q\n",
    "    return a - t\n"
   ]
  },
  {
   "cell_type": "code",
   "execution_count": 27,
   "id": "a669a3f8",
   "metadata": {},
   "outputs": [],
   "source": [
    "def always_positive(r):\n",
    "    for i in range(len(r)):\n",
    "        r[i] = (r[i] % KYBER_Q + KYBER_Q) % KYBER_Q"
   ]
  },
  {
   "cell_type": "code",
   "execution_count": 28,
   "id": "96a2835c",
   "metadata": {
    "scrolled": true
   },
   "outputs": [],
   "source": [
    "coeffs = poly_unpackdecompress(ct, 0)\n",
    "assert coeffs == poly_unpackdecompress_output\n",
    "\n",
    "ntt(coeffs)\n",
    "poly_reduce(coeffs)\n",
    "always_positive(coeffs)\n",
    "assert coeffs == poly_ntt_output\n",
    "\n",
    "\n",
    "#print([hex(x) for x in coeffs]) \n"
   ]
  },
  {
   "cell_type": "code",
   "execution_count": 29,
   "id": "9c7569b2",
   "metadata": {},
   "outputs": [],
   "source": [
    "#poly0 = 0x3ff0c14 = coeffs[1]|coeffs[0]\n",
    "#poly2 = 0x6bf09b2 = coeffs[3]|coeffs[2]\n",
    "\n",
    "#smultt tmp, poly0, poly1\n",
    "#ganger sammen top half av poly0 og poly1, poly 1 er keyguess men fasit er 0x77e0a36 top blir 0x77e\n",
    "tmp = coeffs[1] * 0x77e\n",
    "assert tmp == tmp_l38\n",
    "#print(hex(tmp))\n",
    "#print(getHammingSteg1(ct, 0))\n",
    "#print(bin(coeffs[1]*1025))\n",
    "#print(getHammingSteg1(ct, 0)[0x77e])\n",
    "#print(hex(smultt(0x3ff0c14, 0x77e0a36)))"
   ]
  },
  {
   "cell_type": "code",
   "execution_count": 30,
   "id": "2534b92b",
   "metadata": {},
   "outputs": [],
   "source": [
    "def ctPoly(ct, iteration):\n",
    "    poly=poly_unpackdecompress(ct, 0)\n",
    "    ntt(poly)\n",
    "    poly_reduce(poly)\n",
    "    always_positive(poly)\n",
    "    return poly"
   ]
  },
  {
   "cell_type": "code",
   "execution_count": 151,
   "id": "e8fe2d1f",
   "metadata": {
    "scrolled": false
   },
   "outputs": [],
   "source": [
    "zetas_basemul = [2226, 430, 555, 843, 2078, 871, 1550, 105, 422, 587, 177, 3094, 3038, 2869,\n",
    "1574, 1653, 3083, 778, 1159, 3182, 2552, 1483, 2727, 1119, 1739, 644, 2457, 349,\n",
    "418, 329, 3173, 3254, 817, 1097, 603, 610, 1322, 2044, 1864, 384, 2114, 3193,\n",
    "1218, 1994, 2455, 220, 2142, 1670, 2144, 1799, 2051, 794, 1819, 2475, 2459, 478,\n",
    "3221, 3021, 996, 991, 958, 1869, 1522, 1628]\n",
    "\n",
    "\n",
    "def smultt(a,b, poly):\n",
    "    negative = False\n",
    "    \n",
    "    if (not poly):\n",
    "        a = ((a >> 16) & 0xFFFF)\n",
    "        b = (b & 0xFFFF)\n",
    "    \n",
    "    if is_negative_twos_complement(a, 16):\n",
    "        negative = not negative\n",
    "        a = invert_twos_complement(a, 16)\n",
    "    \n",
    "    if is_negative_twos_complement(b, 16):\n",
    "        negative = not negative\n",
    "        b = invert_twos_complement(b, 16)\n",
    "    \n",
    "    prod = a * b\n",
    "    \n",
    "    if negative:\n",
    "        return invert_twos_complement(prod, 32)\n",
    "    return prod\n",
    "\n",
    "def smultb(a,b, poly):\n",
    "    negative = False\n",
    "    \n",
    "    if (not poly):\n",
    "        a = ((a >> 16) & 0xFFFF)\n",
    "        b = (b & 0xFFFF)\n",
    "    \n",
    "    if is_negative_twos_complement(a, 16):\n",
    "        negative = not negative\n",
    "        a = invert_twos_complement(a, 16)\n",
    "    \n",
    "    if is_negative_twos_complement(b, 16):\n",
    "        negative = not negative\n",
    "        b = invert_twos_complement(b, 16)\n",
    "    \n",
    "    prod = a * b\n",
    "    \n",
    "    if negative:\n",
    "        return invert_twos_complement(prod, 32)\n",
    "    return prod\n",
    "    \n",
    "\n",
    "def smulbt(a,b, poly):\n",
    "    negative = False\n",
    "    \n",
    "    if (not poly):\n",
    "        a = (a & 0xFFFF)\n",
    "        b = ((b >> 16) & 0xFFFF)\n",
    "    \n",
    "    if is_negative_twos_complement(a, 16):\n",
    "        negative = not negative\n",
    "        a = invert_twos_complement(a, 16)\n",
    "    \n",
    "    if is_negative_twos_complement(b, 16):\n",
    "        negative = not negative\n",
    "        b = invert_twos_complement(b, 16)\n",
    "    \n",
    "    prod = a * b\n",
    "    \n",
    "    if negative:\n",
    "        return invert_twos_complement(prod, 32)\n",
    "    return prod\n",
    "    \n",
    "def smlabb(a, b, c, poly):\n",
    "    negative = False\n",
    "    \n",
    "    if (not poly):\n",
    "        a = (a & 0xFFFF)\n",
    "        b = (b & 0xFFFF)\n",
    "    \n",
    "    if is_negative_twos_complement(a, 16):\n",
    "        negative = not negative\n",
    "        a = invert_twos_complement(a, 16)\n",
    "    \n",
    "    if is_negative_twos_complement(b, 16):\n",
    "        negative = not negative\n",
    "        b = invert_twos_complement(b, 16)\n",
    "    \n",
    "    prod = a * b\n",
    "    \n",
    "    if negative:\n",
    "        prod = invert_twos_complement(prod, 32)\n",
    "      \n",
    "    return (prod + c) & 0xFFFFFFFF\n",
    "\n",
    "    \n",
    "def smuadx2(a, b):\n",
    "    \n",
    "    return (smulbt(a,b,False) + smultb(a,b,False)) & 0xFFFFFFFF  # Keep the result to 32 bits\n",
    "\n",
    "def smuadx(a_top, a_bottom, b_top, b_bottom):\n",
    "    return (smulbt(a_bottom, b_top, True) + smultb(a_top, b_bottom, True)) & 0xFFFFFFFF  # Keep the result to 32 bits\n",
    "\n",
    "def pkhtb(a, b):\n",
    "    return (((a >> 16) & 0xFFFF) << 16) | ((b >> 16) & 0xFFFF)\n",
    "\n",
    "#Hjelpefunksjoner\n",
    "\n",
    "def is_negative_twos_complement(num, bits):\n",
    "    msb = (num >> (bits - 1)) & 1\n",
    "    return msb == 1\n",
    "\n",
    "def invert_twos_complement(num, bits):\n",
    "    inverted_num = (~num) & ((1 << bits) - 1)\n",
    "    inverted_num += 1\n",
    "    return inverted_num\n"
   ]
  },
  {
   "cell_type": "code",
   "execution_count": 31,
   "id": "97a64d70",
   "metadata": {},
   "outputs": [],
   "source": [
    "def getHammingSteg1(poly, keyguess, iteration):\n",
    "    return hw(smultt_poly(poly[1+4*iteration], keyguess))\n",
    "\n",
    "def getHammingSteg12(poly, keyguess, iteration):\n",
    "    return hw(smultt_poly(poly[3+4*iteration],keyguess))"
   ]
  },
  {
   "cell_type": "code",
   "execution_count": 160,
   "id": "949e693e",
   "metadata": {},
   "outputs": [],
   "source": [
    "def getHammingSteg2(poly, steg1key, keyguess, iteration):\n",
    "    q = 0xcff0d01\n",
    "    zeta = zetas_basemul[iteration]\n",
    "    \n",
    "    tmp = smultt(poly[1+4*iteration], steg1key, True)\n",
    "    tmp2 = smulbt(tmp,q, False)\n",
    "    tmp2 = smlabb(q, tmp2, tmp, False)\n",
    "    tmp2 = smultb(tmp2, zeta, False) \n",
    "    tmp2 = smlabb(poly[4*iteration], keyguess, tmp2, True)\n",
    "    tmp = smulbt(tmp2, q, False)\n",
    "    tmp = smlabb(q, tmp, tmp2, False)\n",
    "    tmp2 = smuadx(poly[1+4*iteration], poly[4*iteration], steg1key, keyguess)\n",
    "    tmp3 = smulbt(tmp2,q, False)\n",
    "    tmp3 = smlabb(q, tmp3, tmp2, False)\n",
    "    return hw(pkhtb(tmp3, tmp))\n",
    "\n",
    "def getHammingSteg22(poly, steg1key, keyguess, iteration):\n",
    "    q = 0xcff0d01\n",
    "    zeta = invert_twos_complement(zetas_basemul[iteration], 32)\n",
    "    \n",
    "    tmp = smultt(poly[3+4*iteration], steg1key, True)\n",
    "    tmp2 = smulbt(tmp,q, False)\n",
    "    tmp2 = smlabb(q, tmp2, tmp, False)\n",
    "    tmp2 = smultb(tmp2, zeta, False) \n",
    "    tmp2 = smlabb(poly[2+4*iteration], keyguess, tmp2, True)\n",
    "    tmp = smulbt(tmp2, q, False)\n",
    "    tmp = smlabb(q, tmp, tmp2, False)\n",
    "    tmp2 = smuadx(poly[3+4*iteration], poly[2+4*iteration], steg1key, keyguess)\n",
    "    tmp3 = smulbt(tmp2,q, False)\n",
    "    tmp3 = smlabb(q, tmp3, tmp2, False)\n",
    "    return hw(pkhtb(tmp3, tmp))"
   ]
  },
  {
   "cell_type": "code",
   "execution_count": 158,
   "id": "505327da",
   "metadata": {},
   "outputs": [
    {
     "data": {
      "text/plain": [
       "27"
      ]
     },
     "execution_count": 158,
     "metadata": {},
     "output_type": "execute_result"
    }
   ],
   "source": [
    "getHammingSteg2(ctPoly(ct, 0), 0x77e, 0xa36, 0)"
   ]
  },
  {
   "cell_type": "code",
   "execution_count": 152,
   "id": "97baa8d5",
   "metadata": {},
   "outputs": [
    {
     "data": {
      "text/plain": [
       "'0xff9eff7b'"
      ]
     },
     "execution_count": 152,
     "metadata": {},
     "output_type": "execute_result"
    }
   ],
   "source": []
  },
  {
   "cell_type": "markdown",
   "id": "848407fd",
   "metadata": {},
   "source": [
    "# Gjennomgang fastbasemul"
   ]
  },
  {
   "cell_type": "markdown",
   "id": "d0f47005",
   "metadata": {},
   "source": [
    "Startverdier"
   ]
  },
  {
   "cell_type": "code",
   "execution_count": 111,
   "id": "a4991c20",
   "metadata": {},
   "outputs": [],
   "source": [
    "zeta_reg = 0x8b2\n",
    "poly0 = 0x3ff0c14 #c0c1c2c3\n",
    "poly1 = 0x77e0a36 #k0k1k2k3\n",
    "poly2 = 0x6bf09b2 #c0'c1'c2'c3'\n",
    "poly3 = 0xb707b8 #k0'k1'k2'k3'\n",
    "q = 0xcff0d01"
   ]
  },
  {
   "cell_type": "code",
   "execution_count": 112,
   "id": "19862293",
   "metadata": {},
   "outputs": [],
   "source": [
    "tmp = 0\n",
    "tmp2 = 0\n",
    "tmp3 = 0"
   ]
  },
  {
   "cell_type": "markdown",
   "id": "c351821d",
   "metadata": {},
   "source": [
    "### 38: smultt tmp, poly0, poly1\n",
    "Fasit: tmp = 0x1df082\n",
    "Riktig!"
   ]
  },
  {
   "cell_type": "code",
   "execution_count": 113,
   "id": "5528cd4a",
   "metadata": {},
   "outputs": [
    {
     "name": "stdout",
     "output_type": "stream",
     "text": [
      "0x1df082\n"
     ]
    }
   ],
   "source": [
    "tmp = smultt(0x3ff,0x77e, True)\n",
    "print(hex(tmp))"
   ]
  },
  {
   "cell_type": "markdown",
   "id": "eb99e655",
   "metadata": {},
   "source": [
    "### 39 montgomery q, qinv, tmp, tmp2\n",
    "#### Steg 1 smulbt  r10, r9, r8 (smulbt  tmp2, tmp, q(inv))\n",
    "Fasit: tmp2 = 0xff36a97e = -13194882\n",
    "\n",
    "bottom tmp = f082 = 61570 eller -20334\n",
    "\n",
    "topp q = 0xcff = 3327 \n",
    "\n",
    "Nedre halvdel riktig"
   ]
  },
  {
   "cell_type": "code",
   "execution_count": 114,
   "id": "94662e88",
   "metadata": {},
   "outputs": [
    {
     "name": "stdout",
     "output_type": "stream",
     "text": [
      "0xff36a97e\n"
     ]
    }
   ],
   "source": [
    "tmp2 = smulbt(tmp,q, False)\n",
    "print(hex(tmp2))"
   ]
  },
  {
   "cell_type": "markdown",
   "id": "fdf7d18c",
   "metadata": {},
   "source": [
    "#### Steg 2 smlabb  r10, r8, r10, r9\n",
    "Fasit: tmp2 = 0xfbb90000 = -71761920"
   ]
  },
  {
   "cell_type": "code",
   "execution_count": 115,
   "id": "ed3f5bdb",
   "metadata": {},
   "outputs": [
    {
     "name": "stdout",
     "output_type": "stream",
     "text": [
      "0xfbb90000\n"
     ]
    }
   ],
   "source": [
    "tmp2 = smlabb(q, tmp2, tmp, False)\n",
    "print(hex(tmp2))"
   ]
  },
  {
   "cell_type": "markdown",
   "id": "bd699b91",
   "metadata": {},
   "source": [
    "### 40 smultb tmp2, tmp2, zeta\n",
    "\n",
    "Fasit: tmp2 = 0xffdacea2 = -2437470"
   ]
  },
  {
   "cell_type": "code",
   "execution_count": 116,
   "id": "4bbf9e3c",
   "metadata": {},
   "outputs": [
    {
     "name": "stdout",
     "output_type": "stream",
     "text": [
      "0xffdacea2\n"
     ]
    }
   ],
   "source": [
    "tmp2 = smultb(tmp2, zeta, False)\n",
    "print(hex(tmp2))"
   ]
  },
  {
   "cell_type": "markdown",
   "id": "eb4d6c79",
   "metadata": {},
   "source": [
    "### 41 smlabb tmp2, poly0, poly1, tmp2\n",
    "Fasit: tmp2 = 0x5622da = 5645018"
   ]
  },
  {
   "cell_type": "code",
   "execution_count": 117,
   "id": "7cf43db1",
   "metadata": {
    "scrolled": true
   },
   "outputs": [
    {
     "name": "stdout",
     "output_type": "stream",
     "text": [
      "0x5622da\n"
     ]
    }
   ],
   "source": [
    "tmp2 = smlabb(poly0, poly1, tmp2, False)\n",
    "print(hex(tmp2))"
   ]
  },
  {
   "cell_type": "code",
   "execution_count": 119,
   "id": "24d7d98e",
   "metadata": {},
   "outputs": [
    {
     "name": "stdout",
     "output_type": "stream",
     "text": [
      "0x5622da\n"
     ]
    }
   ],
   "source": [
    "tmp2 = 0xffdacea2\n",
    "tmp2 = smlabb(0x0c14, 0x0a36, tmp2, True)\n",
    "print(hex(tmp2))"
   ]
  },
  {
   "cell_type": "markdown",
   "id": "f06dce1f",
   "metadata": {},
   "source": [
    "### 42 montgomery q, qinv, tmp2, tmp\n",
    "#### Steg 1: smulbt  r9, r10, r8\n",
    "Fasit: tmp = 0x1c4ef26 = 29683494"
   ]
  },
  {
   "cell_type": "code",
   "execution_count": 120,
   "id": "b195b18b",
   "metadata": {},
   "outputs": [
    {
     "name": "stdout",
     "output_type": "stream",
     "text": [
      "0x1c4ef26\n"
     ]
    }
   ],
   "source": [
    "tmp = smulbt(tmp2, q, False)\n",
    "print(hex(tmp))"
   ]
  },
  {
   "cell_type": "markdown",
   "id": "70c057aa",
   "metadata": {},
   "source": [
    "#### Steg 2: smlabb  r9, r8, r9, r10\n",
    "Fasit: tmp = 0xff7b0000 = -8716288"
   ]
  },
  {
   "cell_type": "code",
   "execution_count": 121,
   "id": "ad33c841",
   "metadata": {},
   "outputs": [
    {
     "name": "stdout",
     "output_type": "stream",
     "text": [
      "0xff7b0000\n"
     ]
    }
   ],
   "source": [
    "tmp = smlabb(q, tmp, tmp2, False)\n",
    "print(hex(tmp))"
   ]
  },
  {
   "cell_type": "markdown",
   "id": "3797d65b",
   "metadata": {},
   "source": [
    "### 45 smuadx tmp2, poly0, poly1\n",
    "Fasit: tmp2 = 0x834ba2 = 8604578"
   ]
  },
  {
   "cell_type": "code",
   "execution_count": 122,
   "id": "99a781f8",
   "metadata": {},
   "outputs": [
    {
     "name": "stdout",
     "output_type": "stream",
     "text": [
      "0x834ba2\n"
     ]
    }
   ],
   "source": [
    "tmp2 = smuadx2(poly0, poly1)\n",
    "print(hex(tmp2))"
   ]
  },
  {
   "cell_type": "code",
   "execution_count": 130,
   "id": "5d7d18f4",
   "metadata": {},
   "outputs": [
    {
     "data": {
      "text/plain": [
       "'0x834ba2'"
      ]
     },
     "execution_count": 130,
     "metadata": {},
     "output_type": "execute_result"
    }
   ],
   "source": [
    "hex(smuadx((poly0 >> 16) & 0xFFFF, poly0 & 0xFFFF, (poly1 >> 16) & 0xFFFF, poly1 & 0xFFFF))"
   ]
  },
  {
   "cell_type": "markdown",
   "id": "7ac20dcf",
   "metadata": {},
   "source": [
    "### 46 montgomery q, qinv, tmp2, tmp3\n",
    "#### Steg 1: smulbt  r11, r10, r8\n",
    "Fasit: tmp3 = 0x3d6ee5e = 64417374"
   ]
  },
  {
   "cell_type": "code",
   "execution_count": 123,
   "id": "c4e64dab",
   "metadata": {},
   "outputs": [
    {
     "name": "stdout",
     "output_type": "stream",
     "text": [
      "0x3d6ee5e\n"
     ]
    }
   ],
   "source": [
    "tmp3 = smulbt(tmp2,q, False)\n",
    "print(hex(tmp3))"
   ]
  },
  {
   "cell_type": "markdown",
   "id": "d2234029",
   "metadata": {},
   "source": [
    "#### Steg 2: smlabb  r11, r8, r11, r10\n",
    "Fasit: tmp3 = 0xff9e0000 = -6422528"
   ]
  },
  {
   "cell_type": "code",
   "execution_count": 124,
   "id": "9302842f",
   "metadata": {},
   "outputs": [
    {
     "name": "stdout",
     "output_type": "stream",
     "text": [
      "0xff9e0000\n"
     ]
    }
   ],
   "source": [
    "tmp3 = smlabb(q, tmp3, tmp2, False)\n",
    "print(hex(tmp3))"
   ]
  },
  {
   "cell_type": "markdown",
   "id": "164d7316",
   "metadata": {},
   "source": [
    "### 48 pkhtb tmp, tmp3, tmp\n",
    "Fasit: tmp = 0xff9eff7b = -6357125"
   ]
  },
  {
   "cell_type": "code",
   "execution_count": 125,
   "id": "29fff63b",
   "metadata": {},
   "outputs": [
    {
     "name": "stdout",
     "output_type": "stream",
     "text": [
      "0xff9eff7b\n"
     ]
    }
   ],
   "source": [
    "tmp = pkhtb(tmp3, tmp)\n",
    "print(hex(tmp))"
   ]
  },
  {
   "cell_type": "markdown",
   "id": "2e64fb8f",
   "metadata": {},
   "source": [
    "### 51 neg zeta, zeta\n",
    "Før: zeta = 0x8b2 = 2226\n",
    "\n",
    "Etter: zeta =  0xfffff74e = -2226"
   ]
  },
  {
   "cell_type": "code",
   "execution_count": 67,
   "id": "1afff92b",
   "metadata": {},
   "outputs": [
    {
     "name": "stdout",
     "output_type": "stream",
     "text": [
      "2226\n",
      "0b00000000000000000000100010110010\n",
      "0b11111111111111111111011101001110\n"
     ]
    }
   ],
   "source": [
    "print(0x8b2)\n",
    "print(format(0x8b2, '#034b'))\n",
    "print(bin(0xfffff74e))"
   ]
  },
  {
   "cell_type": "markdown",
   "id": "75b4ebd2",
   "metadata": {},
   "source": [
    "# Hjelpefunksjon finne fasit"
   ]
  },
  {
   "cell_type": "code",
   "execution_count": 12,
   "id": "082c49c1",
   "metadata": {},
   "outputs": [],
   "source": [
    "#double 1\n",
    "#Steg 1 key = tmp[1]\n",
    "#Steg 2 key = tmp[0]\n",
    "\n",
    "#double 2\n",
    "#Steg 1 key = tmp[4]\n",
    "#Steg 2 key = tmp[3]\n",
    "\n",
    "def getTrueSk(sk, i):\n",
    "    tmp = [0] * 4   \n",
    "    tmp[0] = sk[6 * i] | ((sk[6 * i + 1] & 0x0f) << 8)\n",
    "    tmp[1] = (sk[6 * i + 1] >> 4) | ((sk[6 * i + 2] & 0xff) << 4)\n",
    "    tmp[2] = sk[6 * i + 3] | ((sk[6 * i + 4] & 0x0f) << 8)\n",
    "    tmp[3] = (sk[6 * i + 4] >> 4) | ((sk[6 * i + 5] & 0xff) << 4)\n",
    "    return tmp"
   ]
  },
  {
   "cell_type": "code",
   "execution_count": 10,
   "id": "3e690126",
   "metadata": {},
   "outputs": [
    {
     "name": "stdout",
     "output_type": "stream",
     "text": [
      "['0xa36', '0x77e', '0x7b8', '0xb7']\n"
     ]
    }
   ],
   "source": [
    "#print([hex(x) for x in getTrueSk(sk,0)])"
   ]
  },
  {
   "cell_type": "markdown",
   "id": "edd016e6",
   "metadata": {},
   "source": [
    "# Finne correleation første iterasjon"
   ]
  },
  {
   "cell_type": "markdown",
   "id": "c53144af",
   "metadata": {},
   "source": [
    "## Runetime fasit \n",
    "\n",
    "Første iterasjon \n",
    "\n",
    "378             doublebasemul_asm(&r->coeffs[4*i], &r->coeffs[4*i], tmp, zetas[i])\n",
    "\n",
    "tmp[] = {0xa36, 0x77e, 0x7b8, 0xb7}\n",
    "\n",
    "zetas[0] = 0x8b2 = zeta (r3) register\n",
    "\n",
    "Etter load:\n",
    "poly0 = 0x9ab04d8, poly1 = 0x77e0a36, poly2 = 0x88c0a1a, poly3 = 0xb707b8\n",
    "\n",
    "tmp etter linje 38 (smultt tmp, poly0, poly1): 0x486f2a \n",
    "\n",
    "tmp etter linje 48 (pkhtb tmp, tmp3, tmp, asr#16): 0x1a017b "
   ]
  }
 ],
 "metadata": {
  "kernelspec": {
   "display_name": "Python 3 (ipykernel)",
   "language": "python",
   "name": "python3"
  },
  "language_info": {
   "codemirror_mode": {
    "name": "ipython",
    "version": 3
   },
   "file_extension": ".py",
   "mimetype": "text/x-python",
   "name": "python",
   "nbconvert_exporter": "python",
   "pygments_lexer": "ipython3",
   "version": "3.10.8"
  }
 },
 "nbformat": 4,
 "nbformat_minor": 5
}
