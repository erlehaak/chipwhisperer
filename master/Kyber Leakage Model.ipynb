{
 "cells": [
  {
   "cell_type": "markdown",
   "id": "55d49c58",
   "metadata": {},
   "source": [
    "# Leakage model of kyber"
   ]
  },
  {
   "cell_type": "code",
   "execution_count": 4,
   "id": "e2f0bb2c",
   "metadata": {},
   "outputs": [],
   "source": [
    "KYBER_N = 256\n",
    "KYBER_Q = 3329\n",
    "QINV = -3327"
   ]
  },
  {
   "cell_type": "code",
   "execution_count": null,
   "id": "9ddab2f7",
   "metadata": {},
   "outputs": [],
   "source": [
    "HW = [bin(n).count(\"1\") for n in range(0, 256)]"
   ]
  },
  {
   "cell_type": "code",
   "execution_count": 14,
   "id": "10ee2832",
   "metadata": {},
   "outputs": [],
   "source": [
    "def montgomery_reduction(a, q, qinv):\n",
    "    m = (a * qinv) & ((1 << 32) - 1)\n",
    "    u = (a + m * q) >> 32\n",
    "    if u >= q:\n",
    "        u -= q\n",
    "    return u"
   ]
  },
  {
   "cell_type": "code",
   "execution_count": 13,
   "id": "ab1f8981",
   "metadata": {},
   "outputs": [],
   "source": [
    "def doublebasemul_asm(poly0, poly1, poly2, poly3, zeta):\n",
    "    q = 3329\n",
    "    qinv = (1 << 32) // q\n",
    "\n",
    "    tmp = (poly0 >> 16) * (poly1 >> 16)  # smultt\n",
    "    tmp = montgomery_reduction(tmp, q, qinv)\n",
    "    tmp2 = tmp * zeta\n",
    "    tmp2 += (poly0 & 0xFFFF) * (poly1 & 0xFFFF)  # smlabb (smultb)\n",
    "    tmp2 = montgomery_reduction(tmp2, q, qinv)\n",
    "\n",
    "    tmp2_temp = ((poly0 & 0xFFFF) * (poly3 >> 16)) + ((poly0 >> 16) * (poly3 & 0xFFFF))  # smuadx\n",
    "    tmp3 = montgomery_reduction(tmp2_temp, q, qinv)\n",
    "\n",
    "    tmp = (tmp3 << 16) | (tmp & 0xFFFF)  # pkhtb\n",
    "\n",
    "    zeta = -zeta\n",
    "\n",
    "    tmp_temp = (poly2 >> 16) * (poly3 >> 16)  # smultt\n",
    "    tmp_temp = montgomery_reduction(tmp_temp, q, qinv)\n",
    "    tmp2 = tmp_temp * zeta\n",
    "    tmp2 += (poly2 & 0xFFFF) * (poly3 & 0xFFFF)  # smlabb (smultb)\n",
    "    tmp2 = montgomery_reduction(tmp2, q, qinv)\n",
    "\n",
    "    tmp2_temp = ((poly2 & 0xFFFF) * (poly3 >> 16)) + ((poly2 >> 16) * (poly3 & 0xFFFF))  # smuadx\n",
    "    tmp3 = montgomery_reduction(tmp2_temp, q, qinv)\n",
    "\n",
    "    tmp2 = (tmp3 << 16) | (tmp2 & 0xFFFF)  # pkhtb\n",
    "\n",
    "    return tmp, tmp2"
   ]
  },
  {
   "cell_type": "markdown",
   "id": "1432231c",
   "metadata": {},
   "source": [
    "poly1 = k0k1k2k3, poly3 = k0'k1'k2'k3', 2*4 byte\n",
    "\n",
    "poly0 = c0c1c2c3, poly2 = c0'c1'c2'c3', 2*4 byte\n",
    "\n",
    "zeta = int16_t"
   ]
  },
  {
   "cell_type": "code",
   "execution_count": 20,
   "id": "196bce8d",
   "metadata": {},
   "outputs": [
    {
     "data": {
      "text/plain": [
       "'0x32f0767'"
      ]
     },
     "execution_count": 20,
     "metadata": {},
     "output_type": "execute_result"
    }
   ],
   "source": [
    "# Test DOES NOT GIVE THE SAME AS RUNTIME\n",
    "poly0 = 0x9ab04d8 \n",
    "poly1 = 0x17406ec\n",
    "poly2 = 0x88c0a1a\n",
    "poly3 = 0x47800f9\n",
    "zeta = 0x8b2\n",
    "\n",
    "hex(doublebasemul_asm(poly0, poly1, poly2, poly3, zeta)[0])"
   ]
  },
  {
   "cell_type": "markdown",
   "id": "d4854118",
   "metadata": {},
   "source": [
    "# TODO"
   ]
  },
  {
   "cell_type": "markdown",
   "id": "f9540c77",
   "metadata": {},
   "source": [
    "### For en ciphertext finn verdiene til poly0 og poly2\n",
    "\n",
    "Ciphertext -> poly_unpackdecompress -> poly_ntt = polynom[256]\n",
    "\n",
    "polinom er int16_t coeffs[KYBER_N] (256)\n",
    "\n",
    "a = list of integers[0,255] representing the bytearray.\n",
    "\n",
    "Gjør i c: gcc -o "
   ]
  },
  {
   "cell_type": "code",
   "execution_count": 2,
   "id": "7da2060e",
   "metadata": {},
   "outputs": [],
   "source": [
    "def poly_unpackdecompress(a, i): #Testet viker i runtime :)\n",
    "    r = [0] * KYBER_N\n",
    "    for j in range(KYBER_N // 4):\n",
    "        r[4 * j + 0] = (((a[320 * i + 5 * j + 0] | ((a[320 * i + 5 * j + 1] & 0x03) << 8)) * KYBER_Q) + 512) >> 10\n",
    "        r[4 * j + 1] = (((a[320 * i + 5 * j + 1] >> 2) | ((a[320 * i + 5 * j + 2] & 0x0f) << 6)) * KYBER_Q + 512) >> 10\n",
    "        r[4 * j + 2] = (((a[320 * i + 5 * j + 2] >> 4) | ((a[320 * i + 5 * j + 3] & 0x3f) << 4)) * KYBER_Q + 512) >> 10\n",
    "        r[4 * j + 3] = (((a[320 * i + 5 * j + 3] >> 6) | ((a[320 * i + 5 * j + 4] & 0xff) << 2)) * KYBER_Q + 512) >> 10\n",
    "    return r"
   ]
  },
  {
   "cell_type": "code",
   "execution_count": 10,
   "id": "82a1b0fa",
   "metadata": {},
   "outputs": [],
   "source": [
    "#NTT\n",
    "\n",
    "\"\"\"\n",
    "Runtime fasit ntt\n",
    "{coeffs = {0x4d8, 0x9ab, 0xa1a, 0x88c, 0x370, 0x26c, 0x101, 0x35c, 0x648,\n",
    "    0x173, 0x974, 0xb7a, 0x25e, 0xae8, 0xa2e, 0x420, 0x7f2, 0x2b3, 0x12b,\n",
    "    0x352, 0x5c1, 0x305, 0x681, 0x8f9, 0x33d, 0xf9, 0x228, 0xa8c, 0x46f, 0xb91,\n",
    "    0xc42, 0x48c, 0x80b, 0x4c7, 0xa69, 0xcab, 0x8eb, 0x46, 0xa2c, 0x7b9, 0x2e,\n",
    "    0x425, 0x72a, 0x7f3, 0x2ec, 0xcad, 0x84c, 0x4c0, 0x8fe, 0x52c, 0x2d6,\n",
    "    0x1fa, 0x68f, 0x5bf, 0x55, 0x6dd, 0x120, 0x197, 0x36b, 0x9cc, 0x574, 0x29c,\n",
    "    0x9e7, 0x83e, 0x7f7, 0x53, 0x153, 0xbb2, 0x6a0, 0x489, 0x263, 0xc21, 0x9e5,\n",
    "    0x745, 0x7de, 0x5d0, 0x6eb, 0xbbf, 0x34, 0x285, 0x7e2, 0x9dc, 0xa84, 0x8ca,\n",
    "    0xa28, 0x799, 0xc7f, 0x3ae, 0x8e8, 0x3c8, 0x6ea, 0x550, 0xc09, 0x407,\n",
    "    0x660, 0xbb6, 0x9b6, 0x616, 0x27c, 0x5b2, 0x3de, 0xacc, 0x501, 0x70, 0xca2,\n",
    "    0x92b, 0x25e, 0x46a, 0xb3d, 0xc8c, 0x6ea, 0x78e, 0x87e, 0x8f7, 0x1b9,\n",
    "    0xaa8, 0x6e8, 0x5e6, 0x6, 0xa0a, 0x2c4, 0x358, 0x46f, 0x6ce, 0xa1f, 0x4ce,\n",
    "    0x857, 0x4fd, 0x88e, 0xee, 0x91e, 0xbd7, 0xc9b, 0x3f3, 0x7c4, 0x2cf, 0x1e6,\n",
    "    0x90e, 0x59c, 0x4fd, 0x405, 0x1fb, 0x9db, 0x9ab, 0xacc, 0xacf, 0x254,\n",
    "    0x23c, 0x3a1, 0x5eb, 0xa32, 0x9c5, 0x97c, 0xa0d, 0x547, 0x11d, 0x5dd,\n",
    "    0x54c, 0xbcc, 0x6ea, 0xaa4, 0xb20, 0x5eb, 0x7cc, 0x4ff, 0x755, 0xa76,\n",
    "    0x7ee, 0xc2b, 0x6c1, 0xb0e, 0x845, 0xd9, 0x5b, 0x87e, 0x156, 0x64c, 0x1fb,\n",
    "    0x879, 0xb14, 0x491, 0xab7, 0x559, 0xc6c, 0x5a8, 0x255, 0x8ca, 0x6bb,\n",
    "    0x144, 0xb53, 0x9a, 0x8d3, 0x15d, 0xa7d, 0xc9e, 0x36, 0x1f1, 0xa48, 0xa2,\n",
    "    0x159...}}\n",
    "\n",
    "\n",
    "\"\"\"\n",
    "\n",
    "zetas = [\n",
    "    -1044, -758, -359, -1517, 1493, 1422, 287, 202,\n",
    "    -171, 622, 1577, 182, 962, -1202, -1474, 1468,\n",
    "    573, -1325, 264, 383, -829, 1458, -1602, -130,\n",
    "    -681, 1017, 732, 608, -1542, 411, -205, -1571,\n",
    "    1223, 652, -552, 1015, -1293, 1491, -282, -1544,\n",
    "    516, -8, -320, -666, -1618, -1162, 126, 1469,\n",
    "    -853, -90, -271, 830, 107, -1421, -247, -951,\n",
    "    -398, 961, -1508, -725, 448, -1065, 677, -1275,\n",
    "    -1103, 430, 555, 843, -1251, 871, 1550, 105,\n",
    "    422, 587, 177, -235, -291, -460, 1574, 1653,\n",
    "    -246, 778, 1159, -147, -777, 1483, -602, 1119,\n",
    "    -1590, 644, -872, 349, 418, 329, -156, -75,\n",
    "    817, 1097, 603, 610, 1322, -1285, -1465, 384,\n",
    "    -1215, -136, 1218, -1335, -874, 220, -1187, -1659,\n",
    "    -1185, -1530, -1278, 794, -1510, -854, -870, 478,\n",
    "    -108, -308, 996, 991, 958, -1460, 1522, 1628\n",
    "]\n",
    "\n",
    "def ntt(r):\n",
    "    k = 1\n",
    "    length = 128\n",
    "\n",
    "    while length >= 2:\n",
    "        for start in range(0, 256, length * 2):\n",
    "            zeta = zetas[k]\n",
    "            k += 1\n",
    "            for j in range(start, start + length):\n",
    "                t = fqmul(zeta, r[j + length])\n",
    "                r[j + length] = r[j] - t\n",
    "                r[j] = r[j] + t\n",
    "\n",
    "        length //= 2\n",
    "    return r\n",
    "\n",
    "def fqmul(a, b):\n",
    "    return montgomery_reduce(a * b)\n",
    "\n",
    "def montgomery_reduce(a):\n",
    "    t = a * QINV\n",
    "    t = (a - t * KYBER_Q) >> 16\n",
    "    return t"
   ]
  },
  {
   "cell_type": "code",
   "execution_count": 12,
   "id": "96a2835c",
   "metadata": {},
   "outputs": [
    {
     "name": "stdout",
     "output_type": "stream",
     "text": [
      "256\n"
     ]
    }
   ],
   "source": [
    "ct = [107, 148, 101, 37, 112, 224, 238, 29, 140, 28, 150, 123, 90, 160, 11, 27, 176, 11, 44, 155, 46, 85, 2, 85, 51, 175, 175, 245, 183, 174, 211, 54, 143, 98, 229, 134, 255, 142, 144, 139, 84, 158, 89, 146, 227, 78, 80, 67, 150, 149, 140, 232, 246, 255, 117, 121, 156, 2, 34, 12, 71, 72, 15, 178, 19, 69, 210, 39, 151, 42, 113, 167, 1, 20, 3, 19, 153, 208, 11, 42, 237, 218, 21, 8, 231, 158, 90, 32, 121, 81, 4, 175, 254, 49, 141, 12, 212, 98, 226, 5, 95, 222, 17, 130, 69, 95, 95, 29, 62, 180, 188, 166, 50, 43, 88, 4, 224, 18, 54, 93, 34, 235, 254, 162, 20, 37, 149, 123, 239, 170, 78, 136, 120, 60, 196, 48, 73, 138, 192, 183, 186, 223, 188, 2, 102, 75, 156, 136, 26, 101, 32, 73, 87, 209, 136, 59, 233, 35, 114, 16, 62, 137, 155, 243, 253, 139, 27, 202, 105, 16, 171, 163, 183, 48, 100, 135, 43, 220, 220, 228, 27, 109, 255, 135, 223, 238, 45, 74, 229, 163, 94, 216, 234, 114, 21, 119, 217, 245, 168, 147, 83, 89, 42, 41, 108, 78, 151, 44, 130, 38, 63, 213, 230, 229, 33, 250, 233, 145, 195, 155, 212, 114, 162, 169, 226, 18, 53, 5, 168, 1, 158, 249, 40, 130, 143, 215, 47, 55, 70, 49, 67, 73, 112, 31, 147, 154, 49, 157, 145, 17, 161, 235, 199, 134, 86, 79, 210, 206, 251, 209, 45, 6, 11, 77, 126, 5, 192, 26, 251, 205, 36, 205, 225, 251, 62, 138, 198, 224, 133, 75, 14, 94, 98, 131, 105, 136, 50, 241, 40, 226, 163, 7, 218, 237, 143, 24, 254, 138, 186, 14, 151, 92, 91, 45, 245, 10, 253, 240, 4, 175, 229, 228, 123, 12, 98, 169, 115, 194, 26, 77, 193, 216, 107, 218, 213, 209, 168, 45, 244, 191, 145, 213, 120, 16, 21, 44, 176, 121, 151, 129, 140, 250, 217, 110, 34, 66, 2, 158, 46, 72, 219, 194, 202, 23, 244, 70, 85, 200, 97, 80, 47, 243, 169, 32, 171, 238, 11, 252, 95, 171, 185, 131, 119, 83, 135, 43, 55, 0, 126, 198, 42, 79, 227, 236, 231, 208, 92, 146, 80, 206, 22, 234, 175, 149, 58, 19, 213, 230, 237, 90, 48, 6, 142, 90, 243, 225, 198, 122, 246, 242, 183, 52, 173, 17, 134, 133, 191, 239, 64, 249, 224, 53, 120, 237, 30, 172, 4, 22, 123, 64, 113, 66, 224, 50, 20, 97, 10, 61, 180, 48, 146, 63, 197, 53, 234, 10, 129, 74, 158, 248, 225, 71, 191, 2, 240, 137, 28, 45, 23, 56, 5, 156, 250, 228, 53, 153, 132, 220, 121, 54, 189, 108, 247, 238, 206, 187, 117, 8, 23, 47, 133, 80, 8, 57, 19, 69, 225, 209, 132, 224, 78, 68, 204, 221, 220, 39, 225, 223, 241, 4, 104, 50, 246, 214, 14, 146, 121, 182, 104, 86, 4, 10, 37, 202, 111, 211, 90, 129, 34, 68, 70, 38, 33, 165, 14, 197, 205, 43, 106, 229, 34, 75, 40, 16, 236, 34, 125, 138, 137, 227, 233, 23, 109, 83, 29, 221, 183, 240, 177, 110, 110, 85, 82, 135, 9, 234, 144, 206, 43, 107, 150, 35, 102, 188, 165, 181, 5, 46, 103, 107, 74, 4, 52, 105, 207, 151, 192, 33, 229, 72, 78, 23, 234, 171, 4, 49, 242, 230, 145, 208, 66, 168, 85, 145, 1, 174, 202, 170, 214, 146, 243, 86, 216, 206, 156, 19, 10, 121, 105, 241, 15, 15, 82, 139, 28, 21, 84, 58, 216, 31, 145, 68, 83, 19, 12, 164, 213, 130, 44, 165, 235, 248, 6, 48, 167, 211, 14, 243, 27, 14, 171, 229, 21, 86, 11, 153, 80, 162, 70, 96, 215, 198, 141, 227, 177, 163, 178, 160, 128, 220, 190, 62, 91, 8, 3, 125, 141, 153, 196, 152, 169, 158, 151, 19, 127, 186, 82, 141, 189, 139, 164, 56, 20, 91, 91, 185, 217, 218, 69, 88, 247, 240, 171, 29, 75, 127, 1, 118, 124, 158, 166, 240, 154, 82, 115, 166, 124, 149, 136, 28, 76, 17, 20, 215, 132, 25, 209, 236, 136, 120, 118, 203, 142, 221, 144, 155, 92, 119, 207, 233, 57, 112, 57, 214, 148, 101, 77, 125, 239, 163, 153, 48, 213, 16, 22, 94, 75, 160, 251, 82, 154, 10, 245, 241, 219, 218, 61, 231, 46, 206, 93, 163, 180, 17, 251, 77, 185, 75]\n",
    "\n",
    "coeffs = poly_unpackdecompress(ct, 0)\n",
    "ntt(coeffs)"
   ]
  },
  {
   "cell_type": "markdown",
   "id": "edd016e6",
   "metadata": {},
   "source": [
    "# Finne correleation første iterasjon"
   ]
  },
  {
   "cell_type": "markdown",
   "id": "c53144af",
   "metadata": {},
   "source": [
    "## Runetime fasit \n",
    "\n",
    "Første iterasjon \n",
    "\n",
    "378             doublebasemul_asm(&r->coeffs[4*i], &r->coeffs[4*i], tmp, zetas[i])\n",
    "\n",
    "tmp[] = {0x6ec, 0x174, 0xf9, 0x478}\n",
    "\n",
    "zetas[0] = 0x8b2 = zeta (r3) register\n",
    "\n",
    "Etter load:\n",
    "poly0 = 0x9ab04d8, poly1 = 0x17406ec, poly2 = 0x88c0a1a, poly3 = 0x47800f9\n",
    "\n",
    "tmp etter pkhtb linje 48: tmp = 0xfcf60529 "
   ]
  }
 ],
 "metadata": {
  "kernelspec": {
   "display_name": "Python 3 (ipykernel)",
   "language": "python",
   "name": "python3"
  },
  "language_info": {
   "codemirror_mode": {
    "name": "ipython",
    "version": 3
   },
   "file_extension": ".py",
   "mimetype": "text/x-python",
   "name": "python",
   "nbconvert_exporter": "python",
   "pygments_lexer": "ipython3",
   "version": "3.10.8"
  }
 },
 "nbformat": 4,
 "nbformat_minor": 5
}
