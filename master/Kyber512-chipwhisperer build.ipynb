{
 "cells": [
  {
   "cell_type": "markdown",
   "id": "806197e8",
   "metadata": {
    "scrolled": true
   },
   "source": [
    "## Importerer chipwhisperer, builder kode og sender til target"
   ]
  },
  {
   "cell_type": "code",
   "execution_count": 14,
   "id": "f5ca2f07",
   "metadata": {
    "scrolled": true
   },
   "outputs": [],
   "source": [
    "import chipwhisperer as cw\n",
    "scope = cw.scope()\n",
    "target = cw.target(scope, cw.targets.SimpleSerial) #cw.targets.SimpleSerial can be omitted\n",
    "scope.default_setup()"
   ]
  },
  {
   "cell_type": "code",
   "execution_count": 15,
   "id": "b4ee5b57",
   "metadata": {
    "scrolled": true
   },
   "outputs": [
    {
     "name": "stdout",
     "output_type": "stream",
     "text": [
      "SS_VER set to SS_VER_1_1\n",
      "C:/Users/erlen/CHIPWH~1/cw/home/portable/avrgcc/bin/make clean_objs .dep \n",
      "make[1]: Entering directory 'C:/Users/erlen/ChipWhisperer5_64/cw/home/portable/chipwhisperer/hardware/victims/firmware/simpleserial-kyber512'\n",
      "SS_VER set to SS_VER_1_1\n",
      "rm -f -- simpleserial-kyber512-CW308_STM32F3.hex\n",
      "rm -f -- simpleserial-kyber512-CW308_STM32F3.eep\n",
      "rm -f -- simpleserial-kyber512-CW308_STM32F3.cof\n",
      "rm -f -- simpleserial-kyber512-CW308_STM32F3.elf\n",
      "rm -f -- simpleserial-kyber512-CW308_STM32F3.map\n",
      "rm -f -- simpleserial-kyber512-CW308_STM32F3.sym\n",
      "rm -f -- simpleserial-kyber512-CW308_STM32F3.lss\n",
      "rm -f -- objdir-CW308_STM32F3/*.o\n",
      "rm -f -- objdir-CW308_STM32F3/*.lst\n",
      "rm -f -- kyber512.s indcpa.s randombytes.s fips202.s poly.s polyvec.s symmetric-fips202.s cbd.s ntt.s kem.s verify.s matacc.s simpleserial.s stm32f3_hal.s stm32f3_hal_lowlevel.s stm32f3_sysmem.s\n",
      "rm -f -- kyber512.d indcpa.d randombytes.d fips202.d poly.d polyvec.d symmetric-fips202.d cbd.d ntt.d kem.d verify.d matacc.d simpleserial.d stm32f3_hal.d stm32f3_hal_lowlevel.d stm32f3_sysmem.d\n",
      "rm -f -- kyber512.i indcpa.i randombytes.i fips202.i poly.i polyvec.i symmetric-fips202.i cbd.i ntt.i kem.i verify.i matacc.i simpleserial.i stm32f3_hal.i stm32f3_hal_lowlevel.i stm32f3_sysmem.i\n",
      "make[1]: '.dep' is up to date.\n",
      "make[1]: Leaving directory 'C:/Users/erlen/ChipWhisperer5_64/cw/home/portable/chipwhisperer/hardware/victims/firmware/simpleserial-kyber512'\n",
      "C:/Users/erlen/CHIPWH~1/cw/home/portable/avrgcc/bin/make begin gccversion build sizeafter fastnote end\n",
      "make[1]: Entering directory 'C:/Users/erlen/ChipWhisperer5_64/cw/home/portable/chipwhisperer/hardware/victims/firmware/simpleserial-kyber512'\n",
      "SS_VER set to SS_VER_1_1\n",
      ".\n",
      "Welcome to another exciting ChipWhisperer target build!!\n",
      "arm-none-eabi-gcc (GNU Arm Embedded Toolchain 10-2020-q4-major) 10.2.1 20201103 (release)\n",
      "Copyright (C) 2020 Free Software Foundation, Inc.\n",
      "This is free software; see the source for copying conditions.  There is NO\n",
      "warranty; not even for MERCHANTABILITY or FITNESS FOR A PARTICULAR PURPOSE.\n",
      "\n",
      ".\n",
      "Compiling C: kyber512.c\n",
      "arm-none-eabi-gcc -c -mcpu=cortex-m4 -mfpu=fpv4-sp-d16 -ggdb3 -MD -I. -mthumb -mfloat-abi=hard -fmessage-length=0 -ffunction-sections -gdwarf-2 -DSS_VER=SS_VER_1_1 -DSTM32F303xC -DSTM32F3 -DSTM32 -DDEBUG -DHAL_TYPE=HAL_stm32f3 -DPLATFORM=CW308_STM32F3 -DF_CPU=7372800UL -DSS_VER_2_0=2 -DSS_VER_2_1=3 -DSS_VER_1_1=1 -DSS_VER_1_0=0 -Os -funsigned-char -funsigned-bitfields -fshort-enums -Wall -Wstrict-prototypes -Wa,-adhlns=objdir-CW308_STM32F3/kyber512.lst -I.././simpleserial/ -I.././hal -I.././hal/stm32f3 -I.././hal/stm32f3/CMSIS -I.././hal/stm32f3/CMSIS/core -I.././hal/stm32f3/CMSIS/device -I.././hal/stm32f4/Legacy -I.././crypto/ -std=gnu99  -MMD -MP -MF .dep/kyber512.o.d kyber512.c -o objdir-CW308_STM32F3/kyber512.o\n",
      ".\n",
      "Compiling C: indcpa.c\n",
      "arm-none-eabi-gcc -c -mcpu=cortex-m4 -mfpu=fpv4-sp-d16 -ggdb3 -MD -I. -mthumb -mfloat-abi=hard -fmessage-length=0 -ffunction-sections -gdwarf-2 -DSS_VER=SS_VER_1_1 -DSTM32F303xC -DSTM32F3 -DSTM32 -DDEBUG -DHAL_TYPE=HAL_stm32f3 -DPLATFORM=CW308_STM32F3 -DF_CPU=7372800UL -DSS_VER_2_0=2 -DSS_VER_2_1=3 -DSS_VER_1_1=1 -DSS_VER_1_0=0 -Os -funsigned-char -funsigned-bitfields -fshort-enums -Wall -Wstrict-prototypes -Wa,-adhlns=objdir-CW308_STM32F3/indcpa.lst -I.././simpleserial/ -I.././hal -I.././hal/stm32f3 -I.././hal/stm32f3/CMSIS -I.././hal/stm32f3/CMSIS/core -I.././hal/stm32f3/CMSIS/device -I.././hal/stm32f4/Legacy -I.././crypto/ -std=gnu99  -MMD -MP -MF .dep/indcpa.o.d indcpa.c -o objdir-CW308_STM32F3/indcpa.o\n",
      ".\n",
      "Compiling C: randombytes.c\n",
      "arm-none-eabi-gcc -c -mcpu=cortex-m4 -mfpu=fpv4-sp-d16 -ggdb3 -MD -I. -mthumb -mfloat-abi=hard -fmessage-length=0 -ffunction-sections -gdwarf-2 -DSS_VER=SS_VER_1_1 -DSTM32F303xC -DSTM32F3 -DSTM32 -DDEBUG -DHAL_TYPE=HAL_stm32f3 -DPLATFORM=CW308_STM32F3 -DF_CPU=7372800UL -DSS_VER_2_0=2 -DSS_VER_2_1=3 -DSS_VER_1_1=1 -DSS_VER_1_0=0 -Os -funsigned-char -funsigned-bitfields -fshort-enums -Wall -Wstrict-prototypes -Wa,-adhlns=objdir-CW308_STM32F3/randombytes.lst -I.././simpleserial/ -I.././hal -I.././hal/stm32f3 -I.././hal/stm32f3/CMSIS -I.././hal/stm32f3/CMSIS/core -I.././hal/stm32f3/CMSIS/device -I.././hal/stm32f4/Legacy -I.././crypto/ -std=gnu99  -MMD -MP -MF .dep/randombytes.o.d randombytes.c -o objdir-CW308_STM32F3/randombytes.o\n"
     ]
    },
    {
     "name": "stderr",
     "output_type": "stream",
     "text": [
      "randombytes.c:2:2: warning: #warning Using a non-random randombytes [-Wcpp]\n",
      "    2 | #warning Using a non-random randombytes\n",
      "      |  ^~~~~~~\n"
     ]
    },
    {
     "name": "stdout",
     "output_type": "stream",
     "text": [
      ".\n",
      "Compiling C: fips202.c\n",
      "arm-none-eabi-gcc -c -mcpu=cortex-m4 -mfpu=fpv4-sp-d16 -ggdb3 -MD -I. -mthumb -mfloat-abi=hard -fmessage-length=0 -ffunction-sections -gdwarf-2 -DSS_VER=SS_VER_1_1 -DSTM32F303xC -DSTM32F3 -DSTM32 -DDEBUG -DHAL_TYPE=HAL_stm32f3 -DPLATFORM=CW308_STM32F3 -DF_CPU=7372800UL -DSS_VER_2_0=2 -DSS_VER_2_1=3 -DSS_VER_1_1=1 -DSS_VER_1_0=0 -Os -funsigned-char -funsigned-bitfields -fshort-enums -Wall -Wstrict-prototypes -Wa,-adhlns=objdir-CW308_STM32F3/fips202.lst -I.././simpleserial/ -I.././hal -I.././hal/stm32f3 -I.././hal/stm32f3/CMSIS -I.././hal/stm32f3/CMSIS/core -I.././hal/stm32f3/CMSIS/device -I.././hal/stm32f4/Legacy -I.././crypto/ -std=gnu99  -MMD -MP -MF .dep/fips202.o.d fips202.c -o objdir-CW308_STM32F3/fips202.o\n",
      ".\n",
      "Compiling C: poly.c\n",
      "arm-none-eabi-gcc -c -mcpu=cortex-m4 -mfpu=fpv4-sp-d16 -ggdb3 -MD -I. -mthumb -mfloat-abi=hard -fmessage-length=0 -ffunction-sections -gdwarf-2 -DSS_VER=SS_VER_1_1 -DSTM32F303xC -DSTM32F3 -DSTM32 -DDEBUG -DHAL_TYPE=HAL_stm32f3 -DPLATFORM=CW308_STM32F3 -DF_CPU=7372800UL -DSS_VER_2_0=2 -DSS_VER_2_1=3 -DSS_VER_1_1=1 -DSS_VER_1_0=0 -Os -funsigned-char -funsigned-bitfields -fshort-enums -Wall -Wstrict-prototypes -Wa,-adhlns=objdir-CW308_STM32F3/poly.lst -I.././simpleserial/ -I.././hal -I.././hal/stm32f3 -I.././hal/stm32f3/CMSIS -I.././hal/stm32f3/CMSIS/core -I.././hal/stm32f3/CMSIS/device -I.././hal/stm32f4/Legacy -I.././crypto/ -std=gnu99  -MMD -MP -MF .dep/poly.o.d poly.c -o objdir-CW308_STM32F3/poly.o\n",
      ".\n",
      "Compiling C: polyvec.c\n",
      "arm-none-eabi-gcc -c -mcpu=cortex-m4 -mfpu=fpv4-sp-d16 -ggdb3 -MD -I. -mthumb -mfloat-abi=hard -fmessage-length=0 -ffunction-sections -gdwarf-2 -DSS_VER=SS_VER_1_1 -DSTM32F303xC -DSTM32F3 -DSTM32 -DDEBUG -DHAL_TYPE=HAL_stm32f3 -DPLATFORM=CW308_STM32F3 -DF_CPU=7372800UL -DSS_VER_2_0=2 -DSS_VER_2_1=3 -DSS_VER_1_1=1 -DSS_VER_1_0=0 -Os -funsigned-char -funsigned-bitfields -fshort-enums -Wall -Wstrict-prototypes -Wa,-adhlns=objdir-CW308_STM32F3/polyvec.lst -I.././simpleserial/ -I.././hal -I.././hal/stm32f3 -I.././hal/stm32f3/CMSIS -I.././hal/stm32f3/CMSIS/core -I.././hal/stm32f3/CMSIS/device -I.././hal/stm32f4/Legacy -I.././crypto/ -std=gnu99  -MMD -MP -MF .dep/polyvec.o.d polyvec.c -o objdir-CW308_STM32F3/polyvec.o\n",
      ".\n",
      "Compiling C: symmetric-fips202.c\n",
      "arm-none-eabi-gcc -c -mcpu=cortex-m4 -mfpu=fpv4-sp-d16 -ggdb3 -MD -I. -mthumb -mfloat-abi=hard -fmessage-length=0 -ffunction-sections -gdwarf-2 -DSS_VER=SS_VER_1_1 -DSTM32F303xC -DSTM32F3 -DSTM32 -DDEBUG -DHAL_TYPE=HAL_stm32f3 -DPLATFORM=CW308_STM32F3 -DF_CPU=7372800UL -DSS_VER_2_0=2 -DSS_VER_2_1=3 -DSS_VER_1_1=1 -DSS_VER_1_0=0 -Os -funsigned-char -funsigned-bitfields -fshort-enums -Wall -Wstrict-prototypes -Wa,-adhlns=objdir-CW308_STM32F3/symmetric-fips202.lst -I.././simpleserial/ -I.././hal -I.././hal/stm32f3 -I.././hal/stm32f3/CMSIS -I.././hal/stm32f3/CMSIS/core -I.././hal/stm32f3/CMSIS/device -I.././hal/stm32f4/Legacy -I.././crypto/ -std=gnu99  -MMD -MP -MF .dep/symmetric-fips202.o.d symmetric-fips202.c -o objdir-CW308_STM32F3/symmetric-fips202.o\n",
      ".\n",
      "Compiling C: cbd.c\n",
      "arm-none-eabi-gcc -c -mcpu=cortex-m4 -mfpu=fpv4-sp-d16 -ggdb3 -MD -I. -mthumb -mfloat-abi=hard -fmessage-length=0 -ffunction-sections -gdwarf-2 -DSS_VER=SS_VER_1_1 -DSTM32F303xC -DSTM32F3 -DSTM32 -DDEBUG -DHAL_TYPE=HAL_stm32f3 -DPLATFORM=CW308_STM32F3 -DF_CPU=7372800UL -DSS_VER_2_0=2 -DSS_VER_2_1=3 -DSS_VER_1_1=1 -DSS_VER_1_0=0 -Os -funsigned-char -funsigned-bitfields -fshort-enums -Wall -Wstrict-prototypes -Wa,-adhlns=objdir-CW308_STM32F3/cbd.lst -I.././simpleserial/ -I.././hal -I.././hal/stm32f3 -I.././hal/stm32f3/CMSIS -I.././hal/stm32f3/CMSIS/core -I.././hal/stm32f3/CMSIS/device -I.././hal/stm32f4/Legacy -I.././crypto/ -std=gnu99  -MMD -MP -MF .dep/cbd.o.d cbd.c -o objdir-CW308_STM32F3/cbd.o\n",
      ".\n",
      "Compiling C: ntt.c\n",
      "arm-none-eabi-gcc -c -mcpu=cortex-m4 -mfpu=fpv4-sp-d16 -ggdb3 -MD -I. -mthumb -mfloat-abi=hard -fmessage-length=0 -ffunction-sections -gdwarf-2 -DSS_VER=SS_VER_1_1 -DSTM32F303xC -DSTM32F3 -DSTM32 -DDEBUG -DHAL_TYPE=HAL_stm32f3 -DPLATFORM=CW308_STM32F3 -DF_CPU=7372800UL -DSS_VER_2_0=2 -DSS_VER_2_1=3 -DSS_VER_1_1=1 -DSS_VER_1_0=0 -Os -funsigned-char -funsigned-bitfields -fshort-enums -Wall -Wstrict-prototypes -Wa,-adhlns=objdir-CW308_STM32F3/ntt.lst -I.././simpleserial/ -I.././hal -I.././hal/stm32f3 -I.././hal/stm32f3/CMSIS -I.././hal/stm32f3/CMSIS/core -I.././hal/stm32f3/CMSIS/device -I.././hal/stm32f4/Legacy -I.././crypto/ -std=gnu99  -MMD -MP -MF .dep/ntt.o.d ntt.c -o objdir-CW308_STM32F3/ntt.o\n",
      ".\n",
      "Compiling C: kem.c\n",
      "arm-none-eabi-gcc -c -mcpu=cortex-m4 -mfpu=fpv4-sp-d16 -ggdb3 -MD -I. -mthumb -mfloat-abi=hard -fmessage-length=0 -ffunction-sections -gdwarf-2 -DSS_VER=SS_VER_1_1 -DSTM32F303xC -DSTM32F3 -DSTM32 -DDEBUG -DHAL_TYPE=HAL_stm32f3 -DPLATFORM=CW308_STM32F3 -DF_CPU=7372800UL -DSS_VER_2_0=2 -DSS_VER_2_1=3 -DSS_VER_1_1=1 -DSS_VER_1_0=0 -Os -funsigned-char -funsigned-bitfields -fshort-enums -Wall -Wstrict-prototypes -Wa,-adhlns=objdir-CW308_STM32F3/kem.lst -I.././simpleserial/ -I.././hal -I.././hal/stm32f3 -I.././hal/stm32f3/CMSIS -I.././hal/stm32f3/CMSIS/core -I.././hal/stm32f3/CMSIS/device -I.././hal/stm32f4/Legacy -I.././crypto/ -std=gnu99  -MMD -MP -MF .dep/kem.o.d kem.c -o objdir-CW308_STM32F3/kem.o\n",
      ".\n",
      "Compiling C: verify.c\n",
      "arm-none-eabi-gcc -c -mcpu=cortex-m4 -mfpu=fpv4-sp-d16 -ggdb3 -MD -I. -mthumb -mfloat-abi=hard -fmessage-length=0 -ffunction-sections -gdwarf-2 -DSS_VER=SS_VER_1_1 -DSTM32F303xC -DSTM32F3 -DSTM32 -DDEBUG -DHAL_TYPE=HAL_stm32f3 -DPLATFORM=CW308_STM32F3 -DF_CPU=7372800UL -DSS_VER_2_0=2 -DSS_VER_2_1=3 -DSS_VER_1_1=1 -DSS_VER_1_0=0 -Os -funsigned-char -funsigned-bitfields -fshort-enums -Wall -Wstrict-prototypes -Wa,-adhlns=objdir-CW308_STM32F3/verify.lst -I.././simpleserial/ -I.././hal -I.././hal/stm32f3 -I.././hal/stm32f3/CMSIS -I.././hal/stm32f3/CMSIS/core -I.././hal/stm32f3/CMSIS/device -I.././hal/stm32f4/Legacy -I.././crypto/ -std=gnu99  -MMD -MP -MF .dep/verify.o.d verify.c -o objdir-CW308_STM32F3/verify.o\n",
      ".\n",
      "Compiling C: matacc.c\n",
      "arm-none-eabi-gcc -c -mcpu=cortex-m4 -mfpu=fpv4-sp-d16 -ggdb3 -MD -I. -mthumb -mfloat-abi=hard -fmessage-length=0 -ffunction-sections -gdwarf-2 -DSS_VER=SS_VER_1_1 -DSTM32F303xC -DSTM32F3 -DSTM32 -DDEBUG -DHAL_TYPE=HAL_stm32f3 -DPLATFORM=CW308_STM32F3 -DF_CPU=7372800UL -DSS_VER_2_0=2 -DSS_VER_2_1=3 -DSS_VER_1_1=1 -DSS_VER_1_0=0 -Os -funsigned-char -funsigned-bitfields -fshort-enums -Wall -Wstrict-prototypes -Wa,-adhlns=objdir-CW308_STM32F3/matacc.lst -I.././simpleserial/ -I.././hal -I.././hal/stm32f3 -I.././hal/stm32f3/CMSIS -I.././hal/stm32f3/CMSIS/core -I.././hal/stm32f3/CMSIS/device -I.././hal/stm32f4/Legacy -I.././crypto/ -std=gnu99  -MMD -MP -MF .dep/matacc.o.d matacc.c -o objdir-CW308_STM32F3/matacc.o\n",
      ".\n",
      "Compiling C: .././simpleserial/simpleserial.c\n",
      "arm-none-eabi-gcc -c -mcpu=cortex-m4 -mfpu=fpv4-sp-d16 -ggdb3 -MD -I. -mthumb -mfloat-abi=hard -fmessage-length=0 -ffunction-sections -gdwarf-2 -DSS_VER=SS_VER_1_1 -DSTM32F303xC -DSTM32F3 -DSTM32 -DDEBUG -DHAL_TYPE=HAL_stm32f3 -DPLATFORM=CW308_STM32F3 -DF_CPU=7372800UL -DSS_VER_2_0=2 -DSS_VER_2_1=3 -DSS_VER_1_1=1 -DSS_VER_1_0=0 -Os -funsigned-char -funsigned-bitfields -fshort-enums -Wall -Wstrict-prototypes -Wa,-adhlns=objdir-CW308_STM32F3/simpleserial.lst -I.././simpleserial/ -I.././hal -I.././hal/stm32f3 -I.././hal/stm32f3/CMSIS -I.././hal/stm32f3/CMSIS/core -I.././hal/stm32f3/CMSIS/device -I.././hal/stm32f4/Legacy -I.././crypto/ -std=gnu99  -MMD -MP -MF .dep/simpleserial.o.d .././simpleserial/simpleserial.c -o objdir-CW308_STM32F3/simpleserial.o\n"
     ]
    },
    {
     "name": "stderr",
     "output_type": "stream",
     "text": [
      ".././simpleserial/simpleserial.c: In function 'simpleserial_get':\n",
      ".././simpleserial/simpleserial.c:339:6: warning: implicit declaration of function 'getch' [-Wimplicit-function-declaration]\n",
      "  339 |  c = getch();\n",
      "      |      ^~~~~\n",
      ".././simpleserial/simpleserial.c: In function 'simpleserial_put':\n",
      ".././simpleserial/simpleserial.c:399:2: warning: implicit declaration of function 'putch' [-Wimplicit-function-declaration]\n",
      "  399 |  putch(c);\n",
      "      |  ^~~~~\n"
     ]
    },
    {
     "name": "stdout",
     "output_type": "stream",
     "text": [
      ".\n",
      "Compiling C: .././hal/stm32f3/stm32f3_hal.c\n",
      "arm-none-eabi-gcc -c -mcpu=cortex-m4 -mfpu=fpv4-sp-d16 -ggdb3 -MD -I. -mthumb -mfloat-abi=hard -fmessage-length=0 -ffunction-sections -gdwarf-2 -DSS_VER=SS_VER_1_1 -DSTM32F303xC -DSTM32F3 -DSTM32 -DDEBUG -DHAL_TYPE=HAL_stm32f3 -DPLATFORM=CW308_STM32F3 -DF_CPU=7372800UL -DSS_VER_2_0=2 -DSS_VER_2_1=3 -DSS_VER_1_1=1 -DSS_VER_1_0=0 -Os -funsigned-char -funsigned-bitfields -fshort-enums -Wall -Wstrict-prototypes -Wa,-adhlns=objdir-CW308_STM32F3/stm32f3_hal.lst -I.././simpleserial/ -I.././hal -I.././hal/stm32f3 -I.././hal/stm32f3/CMSIS -I.././hal/stm32f3/CMSIS/core -I.././hal/stm32f3/CMSIS/device -I.././hal/stm32f4/Legacy -I.././crypto/ -std=gnu99  -MMD -MP -MF .dep/stm32f3_hal.o.d .././hal/stm32f3/stm32f3_hal.c -o objdir-CW308_STM32F3/stm32f3_hal.o\n",
      ".\n",
      "Compiling C: .././hal/stm32f3/stm32f3_hal_lowlevel.c\n",
      "arm-none-eabi-gcc -c -mcpu=cortex-m4 -mfpu=fpv4-sp-d16 -ggdb3 -MD -I. -mthumb -mfloat-abi=hard -fmessage-length=0 -ffunction-sections -gdwarf-2 -DSS_VER=SS_VER_1_1 -DSTM32F303xC -DSTM32F3 -DSTM32 -DDEBUG -DHAL_TYPE=HAL_stm32f3 -DPLATFORM=CW308_STM32F3 -DF_CPU=7372800UL -DSS_VER_2_0=2 -DSS_VER_2_1=3 -DSS_VER_1_1=1 -DSS_VER_1_0=0 -Os -funsigned-char -funsigned-bitfields -fshort-enums -Wall -Wstrict-prototypes -Wa,-adhlns=objdir-CW308_STM32F3/stm32f3_hal_lowlevel.lst -I.././simpleserial/ -I.././hal -I.././hal/stm32f3 -I.././hal/stm32f3/CMSIS -I.././hal/stm32f3/CMSIS/core -I.././hal/stm32f3/CMSIS/device -I.././hal/stm32f4/Legacy -I.././crypto/ -std=gnu99  -MMD -MP -MF .dep/stm32f3_hal_lowlevel.o.d .././hal/stm32f3/stm32f3_hal_lowlevel.c -o objdir-CW308_STM32F3/stm32f3_hal_lowlevel.o\n",
      ".\n",
      "Compiling C: .././hal/stm32f3/stm32f3_sysmem.c\n",
      "arm-none-eabi-gcc -c -mcpu=cortex-m4 -mfpu=fpv4-sp-d16 -ggdb3 -MD -I. -mthumb -mfloat-abi=hard -fmessage-length=0 -ffunction-sections -gdwarf-2 -DSS_VER=SS_VER_1_1 -DSTM32F303xC -DSTM32F3 -DSTM32 -DDEBUG -DHAL_TYPE=HAL_stm32f3 -DPLATFORM=CW308_STM32F3 -DF_CPU=7372800UL -DSS_VER_2_0=2 -DSS_VER_2_1=3 -DSS_VER_1_1=1 -DSS_VER_1_0=0 -Os -funsigned-char -funsigned-bitfields -fshort-enums -Wall -Wstrict-prototypes -Wa,-adhlns=objdir-CW308_STM32F3/stm32f3_sysmem.lst -I.././simpleserial/ -I.././hal -I.././hal/stm32f3 -I.././hal/stm32f3/CMSIS -I.././hal/stm32f3/CMSIS/core -I.././hal/stm32f3/CMSIS/device -I.././hal/stm32f4/Legacy -I.././crypto/ -std=gnu99  -MMD -MP -MF .dep/stm32f3_sysmem.o.d .././hal/stm32f3/stm32f3_sysmem.c -o objdir-CW308_STM32F3/stm32f3_sysmem.o\n",
      ".\n",
      "Assembling: reduce.S\n",
      "arm-none-eabi-gcc -c -mcpu=cortex-m4 -mfpu=fpv4-sp-d16 -ggdb3 -MD -I. -x assembler-with-cpp -mthumb -mfloat-abi=hard -fmessage-length=0 -ffunction-sections -DF_CPU=7372800 -Wa,-gstabs,-adhlns=objdir-CW308_STM32F3/reduce.lst -I.././simpleserial/ -I.././hal -I.././hal/stm32f3 -I.././hal/stm32f3/CMSIS -I.././hal/stm32f3/CMSIS/core -I.././hal/stm32f3/CMSIS/device -I.././hal/stm32f4/Legacy -I.././crypto/ reduce.S -o objdir-CW308_STM32F3/reduce.o\n",
      ".\n",
      "Assembling: fastaddsub.S\n",
      "arm-none-eabi-gcc -c -mcpu=cortex-m4 -mfpu=fpv4-sp-d16 -ggdb3 -MD -I. -x assembler-with-cpp -mthumb -mfloat-abi=hard -fmessage-length=0 -ffunction-sections -DF_CPU=7372800 -Wa,-gstabs,-adhlns=objdir-CW308_STM32F3/fastaddsub.lst -I.././simpleserial/ -I.././hal -I.././hal/stm32f3 -I.././hal/stm32f3/CMSIS -I.././hal/stm32f3/CMSIS/core -I.././hal/stm32f3/CMSIS/device -I.././hal/stm32f4/Legacy -I.././crypto/ fastaddsub.S -o objdir-CW308_STM32F3/fastaddsub.o\n",
      ".\n",
      "Assembling: fastbasemul.S\n",
      "arm-none-eabi-gcc -c -mcpu=cortex-m4 -mfpu=fpv4-sp-d16 -ggdb3 -MD -I. -x assembler-with-cpp -mthumb -mfloat-abi=hard -fmessage-length=0 -ffunction-sections -DF_CPU=7372800 -Wa,-gstabs,-adhlns=objdir-CW308_STM32F3/fastbasemul.lst -I.././simpleserial/ -I.././hal -I.././hal/stm32f3 -I.././hal/stm32f3/CMSIS -I.././hal/stm32f3/CMSIS/core -I.././hal/stm32f3/CMSIS/device -I.././hal/stm32f4/Legacy -I.././crypto/ fastbasemul.S -o objdir-CW308_STM32F3/fastbasemul.o\n",
      ".\n",
      "Assembling: fastinvntt.S\n",
      "arm-none-eabi-gcc -c -mcpu=cortex-m4 -mfpu=fpv4-sp-d16 -ggdb3 -MD -I. -x assembler-with-cpp -mthumb -mfloat-abi=hard -fmessage-length=0 -ffunction-sections -DF_CPU=7372800 -Wa,-gstabs,-adhlns=objdir-CW308_STM32F3/fastinvntt.lst -I.././simpleserial/ -I.././hal -I.././hal/stm32f3 -I.././hal/stm32f3/CMSIS -I.././hal/stm32f3/CMSIS/core -I.././hal/stm32f3/CMSIS/device -I.././hal/stm32f4/Legacy -I.././crypto/ fastinvntt.S -o objdir-CW308_STM32F3/fastinvntt.o\n",
      ".\n",
      "Assembling: fastntt.S\n",
      "arm-none-eabi-gcc -c -mcpu=cortex-m4 -mfpu=fpv4-sp-d16 -ggdb3 -MD -I. -x assembler-with-cpp -mthumb -mfloat-abi=hard -fmessage-length=0 -ffunction-sections -DF_CPU=7372800 -Wa,-gstabs,-adhlns=objdir-CW308_STM32F3/fastntt.lst -I.././simpleserial/ -I.././hal -I.././hal/stm32f3 -I.././hal/stm32f3/CMSIS -I.././hal/stm32f3/CMSIS/core -I.././hal/stm32f3/CMSIS/device -I.././hal/stm32f4/Legacy -I.././crypto/ fastntt.S -o objdir-CW308_STM32F3/fastntt.o\n",
      ".\n",
      "Compiling C: keccakf1600.c\n",
      "arm-none-eabi-gcc -c -mcpu=cortex-m4 -mfpu=fpv4-sp-d16 -ggdb3 -MD -I. -mthumb -mfloat-abi=hard -fmessage-length=0 -ffunction-sections -gdwarf-2 -DSS_VER=SS_VER_1_1 -DSTM32F303xC -DSTM32F3 -DSTM32 -DDEBUG -DHAL_TYPE=HAL_stm32f3 -DPLATFORM=CW308_STM32F3 -DF_CPU=7372800UL -DSS_VER_2_0=2 -DSS_VER_2_1=3 -DSS_VER_1_1=1 -DSS_VER_1_0=0 -Os -funsigned-char -funsigned-bitfields -fshort-enums -Wall -Wstrict-prototypes -Wa,-adhlns=objdir-CW308_STM32F3/keccakf1600.lst -I.././simpleserial/ -I.././hal -I.././hal/stm32f3 -I.././hal/stm32f3/CMSIS -I.././hal/stm32f3/CMSIS/core -I.././hal/stm32f3/CMSIS/device -I.././hal/stm32f4/Legacy -I.././crypto/ -std=gnu99  -MMD -MP -MF .dep/keccakf1600.o.d keccakf1600.c -o objdir-CW308_STM32F3/keccakf1600.o\n",
      ".\n",
      "Assembling: poly_asm.S\n",
      "arm-none-eabi-gcc -c -mcpu=cortex-m4 -mfpu=fpv4-sp-d16 -ggdb3 -MD -I. -x assembler-with-cpp -mthumb -mfloat-abi=hard -fmessage-length=0 -ffunction-sections -DF_CPU=7372800 -Wa,-gstabs,-adhlns=objdir-CW308_STM32F3/poly_asm.lst -I.././simpleserial/ -I.././hal -I.././hal/stm32f3 -I.././hal/stm32f3/CMSIS -I.././hal/stm32f3/CMSIS/core -I.././hal/stm32f3/CMSIS/device -I.././hal/stm32f4/Legacy -I.././crypto/ poly_asm.S -o objdir-CW308_STM32F3/poly_asm.o\n",
      ".\n",
      "Assembling: matacc_asm.S\n",
      "arm-none-eabi-gcc -c -mcpu=cortex-m4 -mfpu=fpv4-sp-d16 -ggdb3 -MD -I. -x assembler-with-cpp -mthumb -mfloat-abi=hard -fmessage-length=0 -ffunction-sections -DF_CPU=7372800 -Wa,-gstabs,-adhlns=objdir-CW308_STM32F3/matacc_asm.lst -I.././simpleserial/ -I.././hal -I.././hal/stm32f3 -I.././hal/stm32f3/CMSIS -I.././hal/stm32f3/CMSIS/core -I.././hal/stm32f3/CMSIS/device -I.././hal/stm32f4/Legacy -I.././crypto/ matacc_asm.S -o objdir-CW308_STM32F3/matacc_asm.o\n",
      ".\n",
      "Assembling: .././hal/stm32f3/stm32f3_startup.S\n",
      "arm-none-eabi-gcc -c -mcpu=cortex-m4 -mfpu=fpv4-sp-d16 -ggdb3 -MD -I. -x assembler-with-cpp -mthumb -mfloat-abi=hard -fmessage-length=0 -ffunction-sections -DF_CPU=7372800 -Wa,-gstabs,-adhlns=objdir-CW308_STM32F3/stm32f3_startup.lst -I.././simpleserial/ -I.././hal -I.././hal/stm32f3 -I.././hal/stm32f3/CMSIS -I.././hal/stm32f3/CMSIS/core -I.././hal/stm32f3/CMSIS/device -I.././hal/stm32f4/Legacy -I.././crypto/ .././hal/stm32f3/stm32f3_startup.S -o objdir-CW308_STM32F3/stm32f3_startup.o\n",
      ".\n",
      "Linking: simpleserial-kyber512-CW308_STM32F3.elf\n",
      "arm-none-eabi-gcc -mcpu=cortex-m4 -mfpu=fpv4-sp-d16 -ggdb3 -MD -I. -mthumb -mfloat-abi=hard -fmessage-length=0 -ffunction-sections -gdwarf-2 -DSS_VER=SS_VER_1_1 -DSTM32F303xC -DSTM32F3 -DSTM32 -DDEBUG -DHAL_TYPE=HAL_stm32f3 -DPLATFORM=CW308_STM32F3 -DF_CPU=7372800UL -DSS_VER_2_0=2 -DSS_VER_2_1=3 -DSS_VER_1_1=1 -DSS_VER_1_0=0 -Os -funsigned-char -funsigned-bitfields -fshort-enums -Wall -Wstrict-prototypes -Wa,-adhlns=objdir-CW308_STM32F3/kyber512.o -I.././simpleserial/ -I.././hal -I.././hal/stm32f3 -I.././hal/stm32f3/CMSIS -I.././hal/stm32f3/CMSIS/core -I.././hal/stm32f3/CMSIS/device -I.././hal/stm32f4/Legacy -I.././crypto/ -std=gnu99  -MMD -MP -MF .dep/simpleserial-kyber512-CW308_STM32F3.elf.d objdir-CW308_STM32F3/kyber512.o objdir-CW308_STM32F3/indcpa.o objdir-CW308_STM32F3/randombytes.o objdir-CW308_STM32F3/fips202.o objdir-CW308_STM32F3/poly.o objdir-CW308_STM32F3/polyvec.o objdir-CW308_STM32F3/symmetric-fips202.o objdir-CW308_STM32F3/cbd.o objdir-CW308_STM32F3/ntt.o objdir-CW308_STM32F3/kem.o objdir-CW308_STM32F3/verify.o objdir-CW308_STM32F3/matacc.o objdir-CW308_STM32F3/simpleserial.o objdir-CW308_STM32F3/stm32f3_hal.o objdir-CW308_STM32F3/stm32f3_hal_lowlevel.o objdir-CW308_STM32F3/stm32f3_sysmem.o macros.i objdir-CW308_STM32F3/reduce.o objdir-CW308_STM32F3/fastaddsub.o objdir-CW308_STM32F3/fastbasemul.o objdir-CW308_STM32F3/fastinvntt.o objdir-CW308_STM32F3/fastntt.o objdir-CW308_STM32F3/keccakf1600.o objdir-CW308_STM32F3/poly_asm.o objdir-CW308_STM32F3/matacc_asm.o objdir-CW308_STM32F3/stm32f3_startup.o --output simpleserial-kyber512-CW308_STM32F3.elf --specs=nano.specs --specs=nosys.specs -T .././hal/stm32f3/LinkerScript.ld -Wl,--gc-sections -lm -Wl,-Map=simpleserial-kyber512-CW308_STM32F3.map,--cref   -lm  \n"
     ]
    },
    {
     "name": "stderr",
     "output_type": "stream",
     "text": [
      "macros.i:14:1: error: stray '#' in program\n",
      "   14 | #ifndef MACROS_I\n",
      "      | ^\n",
      "macros.i:14:2: error: unknown type name 'ifndef'\n",
      "   14 | #ifndef MACROS_I\n",
      "      |  ^~~~~~\n",
      "macros.i:17:1: error: expected '=', ',', ';', 'asm' or '__attribute__' before '.' token\n",
      "   17 | .macro load a, a0, a1, a2, a3, mem0, mem1, mem2, mem3\n",
      "      | ^\n",
      "macros.i:18:9: error: stray '\\' in program\n",
      "   18 |   ldr.w \\a0, [\\a, \\mem0]\n",
      "      |         ^\n",
      "macros.i:18:15: error: stray '\\' in program\n",
      "   18 |   ldr.w \\a0, [\\a, \\mem0]\n",
      "      |               ^\n",
      "macros.i:18:19: error: stray '\\' in program\n",
      "   18 |   ldr.w \\a0, [\\a, \\mem0]\n",
      "      |                   ^\n",
      "macros.i:19:9: error: stray '\\' in program\n",
      "   19 |   ldr.w \\a1, [\\a, \\mem1]\n",
      "      |         ^\n",
      "macros.i:19:15: error: stray '\\' in program\n",
      "   19 |   ldr.w \\a1, [\\a, \\mem1]\n",
      "      |               ^\n",
      "macros.i:19:19: error: stray '\\' in program\n",
      "   19 |   ldr.w \\a1, [\\a, \\mem1]\n",
      "      |                   ^\n",
      "macros.i:20:9: error: stray '\\' in program\n",
      "   20 |   ldr.w \\a2, [\\a, \\mem2]\n",
      "      |         ^\n",
      "macros.i:20:15: error: stray '\\' in program\n",
      "   20 |   ldr.w \\a2, [\\a, \\mem2]\n",
      "      |               ^\n",
      "macros.i:20:19: error: stray '\\' in program\n",
      "   20 |   ldr.w \\a2, [\\a, \\mem2]\n",
      "      |                   ^\n",
      "macros.i:21:9: error: stray '\\' in program\n",
      "   21 |   ldr.w \\a3, [\\a, \\mem3]\n",
      "      |         ^\n",
      "macros.i:21:15: error: stray '\\' in program\n",
      "   21 |   ldr.w \\a3, [\\a, \\mem3]\n",
      "      |               ^\n",
      "macros.i:21:19: error: stray '\\' in program\n",
      "   21 |   ldr.w \\a3, [\\a, \\mem3]\n",
      "      |                   ^\n",
      "macros.i:25:9: error: stray '\\' in program\n",
      "   25 |   str.w \\a0, [\\a, \\mem0]\n",
      "      |         ^\n",
      "macros.i:25:15: error: stray '\\' in program\n",
      "   25 |   str.w \\a0, [\\a, \\mem0]\n",
      "      |               ^\n",
      "macros.i:25:19: error: stray '\\' in program\n",
      "   25 |   str.w \\a0, [\\a, \\mem0]\n",
      "      |                   ^\n",
      "macros.i:26:9: error: stray '\\' in program\n",
      "   26 |   str.w \\a1, [\\a, \\mem1]\n",
      "      |         ^\n",
      "macros.i:26:15: error: stray '\\' in program\n",
      "   26 |   str.w \\a1, [\\a, \\mem1]\n",
      "      |               ^\n",
      "macros.i:26:19: error: stray '\\' in program\n",
      "   26 |   str.w \\a1, [\\a, \\mem1]\n",
      "      |                   ^\n",
      "macros.i:27:9: error: stray '\\' in program\n",
      "   27 |   str.w \\a2, [\\a, \\mem2]\n",
      "      |         ^\n",
      "macros.i:27:15: error: stray '\\' in program\n",
      "   27 |   str.w \\a2, [\\a, \\mem2]\n",
      "      |               ^\n",
      "macros.i:27:19: error: stray '\\' in program\n",
      "   27 |   str.w \\a2, [\\a, \\mem2]\n",
      "      |                   ^\n",
      "macros.i:28:9: error: stray '\\' in program\n",
      "   28 |   str.w \\a3, [\\a, \\mem3]\n",
      "      |         ^\n",
      "macros.i:28:15: error: stray '\\' in program\n",
      "   28 |   str.w \\a3, [\\a, \\mem3]\n",
      "      |               ^\n",
      "macros.i:28:19: error: stray '\\' in program\n",
      "   28 |   str.w \\a3, [\\a, \\mem3]\n",
      "      |                   ^\n",
      "macros.i:32:9: error: stray '\\' in program\n",
      "   32 |  smulwb \\tmp, \\plantconst, \\a\n",
      "      |         ^\n",
      "macros.i:32:15: error: stray '\\' in program\n",
      "   32 |  smulwb \\tmp, \\plantconst, \\a\n",
      "      |               ^\n",
      "macros.i:32:28: error: stray '\\' in program\n",
      "   32 |  smulwb \\tmp, \\plantconst, \\a\n",
      "      |                            ^\n",
      "macros.i:33:9: error: stray '\\' in program\n",
      "   33 |  smulwt \\a, \\plantconst, \\a\n",
      "      |         ^\n",
      "macros.i:33:13: error: stray '\\' in program\n",
      "   33 |  smulwt \\a, \\plantconst, \\a\n",
      "      |             ^\n",
      "macros.i:33:26: error: stray '\\' in program\n",
      "   33 |  smulwt \\a, \\plantconst, \\a\n",
      "      |                          ^\n",
      "macros.i:34:9: error: stray '\\' in program\n",
      "   34 |  smlabt \\tmp, \\tmp, \\q, \\qa\n",
      "      |         ^\n",
      "macros.i:34:15: error: stray '\\' in program\n",
      "   34 |  smlabt \\tmp, \\tmp, \\q, \\qa\n",
      "      |               ^\n",
      "macros.i:34:21: error: stray '\\' in program\n",
      "   34 |  smlabt \\tmp, \\tmp, \\q, \\qa\n",
      "      |                     ^\n",
      "macros.i:34:25: error: stray '\\' in program\n",
      "   34 |  smlabt \\tmp, \\tmp, \\q, \\qa\n",
      "      |                         ^\n",
      "macros.i:35:9: error: stray '\\' in program\n",
      "   35 |  smlabt \\a, \\a, \\q, \\qa\n",
      "      |         ^\n",
      "macros.i:35:13: error: stray '\\' in program\n",
      "   35 |  smlabt \\a, \\a, \\q, \\qa\n",
      "      |             ^\n",
      "macros.i:35:17: error: stray '\\' in program\n",
      "   35 |  smlabt \\a, \\a, \\q, \\qa\n",
      "      |                 ^\n",
      "macros.i:35:21: error: stray '\\' in program\n",
      "   35 |  smlabt \\a, \\a, \\q, \\qa\n",
      "      |                     ^\n",
      "macros.i:36:8: error: stray '\\' in program\n",
      "   36 |  pkhtb \\a, \\a, \\tmp, asr#16\n",
      "      |        ^\n",
      "macros.i:36:12: error: stray '\\' in program\n",
      "   36 |  pkhtb \\a, \\a, \\tmp, asr#16\n",
      "      |            ^\n",
      "macros.i:36:16: error: stray '\\' in program\n",
      "   36 |  pkhtb \\a, \\a, \\tmp, asr#16\n",
      "      |                ^\n",
      "macros.i:36:25: error: stray '#' in program\n",
      "   36 |  pkhtb \\a, \\a, \\tmp, asr#16\n",
      "      |                         ^\n",
      "macros.i:40:10: error: stray '\\' in program\n",
      "   40 |   smulbb \\tmp, \\a, \\barrettconst\n",
      "      |          ^\n",
      "macros.i:40:16: error: stray '\\' in program\n",
      "   40 |   smulbb \\tmp, \\a, \\barrettconst\n",
      "      |                ^\n",
      "macros.i:40:20: error: stray '\\' in program\n",
      "   40 |   smulbb \\tmp, \\a, \\barrettconst\n",
      "      |                    ^\n",
      "macros.i:41:10: error: stray '\\' in program\n",
      "   41 |   smultb \\tmp2, \\a, \\barrettconst\n",
      "      |          ^\n",
      "macros.i:41:17: error: stray '\\' in program\n",
      "   41 |   smultb \\tmp2, \\a, \\barrettconst\n",
      "      |                 ^\n",
      "macros.i:41:21: error: stray '\\' in program\n",
      "   41 |   smultb \\tmp2, \\a, \\barrettconst\n",
      "      |                     ^\n",
      "macros.i:42:7: error: stray '\\' in program\n",
      "   42 |   asr \\tmp, \\tmp, #26\n",
      "      |       ^\n",
      "macros.i:42:13: error: stray '\\' in program\n",
      "   42 |   asr \\tmp, \\tmp, #26\n",
      "      |             ^\n",
      "macros.i:42:19: error: stray '#' in program\n",
      "   42 |   asr \\tmp, \\tmp, #26\n",
      "      |                   ^\n",
      "macros.i:43:7: error: stray '\\' in program\n",
      "   43 |   asr \\tmp2, \\tmp2, #26\n",
      "      |       ^\n",
      "macros.i:43:14: error: stray '\\' in program\n",
      "   43 |   asr \\tmp2, \\tmp2, #26\n",
      "      |              ^\n",
      "macros.i:43:21: error: stray '#' in program\n",
      "   43 |   asr \\tmp2, \\tmp2, #26\n",
      "      |                     ^\n",
      "macros.i:44:10: error: stray '\\' in program\n",
      "   44 |   smulbb \\tmp, \\tmp, \\q\n",
      "      |          ^\n",
      "macros.i:44:16: error: stray '\\' in program\n",
      "   44 |   smulbb \\tmp, \\tmp, \\q\n",
      "      |                ^\n",
      "macros.i:44:22: error: stray '\\' in program\n",
      "   44 |   smulbb \\tmp, \\tmp, \\q\n",
      "      |                      ^\n",
      "macros.i:45:10: error: stray '\\' in program\n",
      "   45 |   smulbb \\tmp2, \\tmp2, \\q\n",
      "      |          ^\n",
      "macros.i:45:17: error: stray '\\' in program\n",
      "   45 |   smulbb \\tmp2, \\tmp2, \\q\n",
      "      |                 ^\n",
      "macros.i:45:24: error: stray '\\' in program\n",
      "   45 |   smulbb \\tmp2, \\tmp2, \\q\n",
      "      |                        ^\n",
      "macros.i:46:9: error: stray '\\' in program\n",
      "   46 |   pkhbt \\tmp, \\tmp, \\tmp2, lsl#16\n",
      "      |         ^\n",
      "macros.i:46:15: error: stray '\\' in program\n",
      "   46 |   pkhbt \\tmp, \\tmp, \\tmp2, lsl#16\n",
      "      |               ^\n",
      "macros.i:46:21: error: stray '\\' in program\n",
      "   46 |   pkhbt \\tmp, \\tmp, \\tmp2, lsl#16\n",
      "      |                     ^\n",
      "macros.i:46:31: error: stray '#' in program\n",
      "   46 |   pkhbt \\tmp, \\tmp, \\tmp2, lsl#16\n",
      "      |                               ^\n",
      "macros.i:47:10: error: stray '\\' in program\n",
      "   47 |   usub16 \\a, \\a, \\tmp\n",
      "      |          ^\n",
      "macros.i:47:14: error: stray '\\' in program\n",
      "   47 |   usub16 \\a, \\a, \\tmp\n",
      "      |              ^\n",
      "macros.i:47:18: error: stray '\\' in program\n",
      "   47 |   usub16 \\a, \\a, \\tmp\n",
      "      |                  ^\n",
      "macros.i:52:6: error: stray '\\' in program\n",
      "   52 |  mul \\tmp, \\tmp, \\qinv\n",
      "      |      ^\n",
      "macros.i:52:12: error: stray '\\' in program\n",
      "   52 |  mul \\tmp, \\tmp, \\qinv\n",
      "      |            ^\n",
      "macros.i:52:18: error: stray '\\' in program\n",
      "   52 |  mul \\tmp, \\tmp, \\qinv\n",
      "      |                  ^\n",
      "macros.i:54:9: error: stray '\\' in program\n",
      "   54 |  smlatt \\tmp, \\tmp, \\q, \\qa\n",
      "      |         ^\n",
      "macros.i:54:15: error: stray '\\' in program\n",
      "   54 |  smlatt \\tmp, \\tmp, \\q, \\qa\n",
      "      |               ^\n",
      "macros.i:54:21: error: stray '\\' in program\n",
      "   54 |  smlatt \\tmp, \\tmp, \\q, \\qa\n",
      "      |                     ^\n",
      "macros.i:54:25: error: stray '\\' in program\n",
      "   54 |  smlatt \\tmp, \\tmp, \\q, \\qa\n",
      "      |                         ^\n",
      "macros.i:60:1: error: stray '#' in program\n",
      "   60 | #endif /* MACROS_I */\n",
      "      | ^\n",
      "make[1]: *** [.././Makefile.inc:470: simpleserial-kyber512-CW308_STM32F3.elf] Error 1\n",
      "make: *** [.././Makefile.inc:324: all] Error 2\n"
     ]
    },
    {
     "name": "stdout",
     "output_type": "stream",
     "text": [
      "make[1]: Leaving directory 'C:/Users/erlen/ChipWhisperer5_64/cw/home/portable/chipwhisperer/hardware/victims/firmware/simpleserial-kyber512'\r\n"
     ]
    },
    {
     "ename": "CalledProcessError",
     "evalue": "Command 'b'cd ../hardware/victims/firmware/simpleserial-kyber512/\\nmake PLATFORM=CW308_STM32F3 CRYPTO_TARGET=NONE\\n'' returned non-zero exit status 2.",
     "output_type": "error",
     "traceback": [
      "\u001b[1;31m---------------------------------------------------------------------------\u001b[0m",
      "\u001b[1;31mCalledProcessError\u001b[0m                        Traceback (most recent call last)",
      "Cell \u001b[1;32mIn[15], line 1\u001b[0m\n\u001b[1;32m----> 1\u001b[0m \u001b[43mget_ipython\u001b[49m\u001b[43m(\u001b[49m\u001b[43m)\u001b[49m\u001b[38;5;241;43m.\u001b[39;49m\u001b[43mrun_cell_magic\u001b[49m\u001b[43m(\u001b[49m\u001b[38;5;124;43m'\u001b[39;49m\u001b[38;5;124;43msh\u001b[39;49m\u001b[38;5;124;43m'\u001b[39;49m\u001b[43m,\u001b[49m\u001b[43m \u001b[49m\u001b[38;5;124;43m'\u001b[39;49m\u001b[38;5;124;43m'\u001b[39;49m\u001b[43m,\u001b[49m\u001b[43m \u001b[49m\u001b[38;5;124;43m'\u001b[39;49m\u001b[38;5;124;43mcd ../hardware/victims/firmware/simpleserial-kyber512/\u001b[39;49m\u001b[38;5;130;43;01m\\n\u001b[39;49;00m\u001b[38;5;124;43mmake PLATFORM=CW308_STM32F3 CRYPTO_TARGET=NONE\u001b[39;49m\u001b[38;5;130;43;01m\\n\u001b[39;49;00m\u001b[38;5;124;43m'\u001b[39;49m\u001b[43m)\u001b[49m\n",
      "File \u001b[1;32m~\\CHIPWH~1\\cw\\home\\portable\\WPy64-31080\\python-3.10.8.amd64\\lib\\site-packages\\IPython\\core\\interactiveshell.py:2422\u001b[0m, in \u001b[0;36mInteractiveShell.run_cell_magic\u001b[1;34m(self, magic_name, line, cell)\u001b[0m\n\u001b[0;32m   2420\u001b[0m \u001b[38;5;28;01mwith\u001b[39;00m \u001b[38;5;28mself\u001b[39m\u001b[38;5;241m.\u001b[39mbuiltin_trap:\n\u001b[0;32m   2421\u001b[0m     args \u001b[38;5;241m=\u001b[39m (magic_arg_s, cell)\n\u001b[1;32m-> 2422\u001b[0m     result \u001b[38;5;241m=\u001b[39m fn(\u001b[38;5;241m*\u001b[39margs, \u001b[38;5;241m*\u001b[39m\u001b[38;5;241m*\u001b[39mkwargs)\n\u001b[0;32m   2423\u001b[0m \u001b[38;5;28;01mreturn\u001b[39;00m result\n",
      "File \u001b[1;32m~\\CHIPWH~1\\cw\\home\\portable\\WPy64-31080\\python-3.10.8.amd64\\lib\\site-packages\\IPython\\core\\magics\\script.py:153\u001b[0m, in \u001b[0;36mScriptMagics._make_script_magic.<locals>.named_script_magic\u001b[1;34m(line, cell)\u001b[0m\n\u001b[0;32m    151\u001b[0m \u001b[38;5;28;01melse\u001b[39;00m:\n\u001b[0;32m    152\u001b[0m     line \u001b[38;5;241m=\u001b[39m script\n\u001b[1;32m--> 153\u001b[0m \u001b[38;5;28;01mreturn\u001b[39;00m \u001b[38;5;28;43mself\u001b[39;49m\u001b[38;5;241;43m.\u001b[39;49m\u001b[43mshebang\u001b[49m\u001b[43m(\u001b[49m\u001b[43mline\u001b[49m\u001b[43m,\u001b[49m\u001b[43m \u001b[49m\u001b[43mcell\u001b[49m\u001b[43m)\u001b[49m\n",
      "File \u001b[1;32m~\\CHIPWH~1\\cw\\home\\portable\\WPy64-31080\\python-3.10.8.amd64\\lib\\site-packages\\IPython\\core\\magics\\script.py:305\u001b[0m, in \u001b[0;36mScriptMagics.shebang\u001b[1;34m(self, line, cell)\u001b[0m\n\u001b[0;32m    300\u001b[0m \u001b[38;5;28;01mif\u001b[39;00m args\u001b[38;5;241m.\u001b[39mraise_error \u001b[38;5;129;01mand\u001b[39;00m p\u001b[38;5;241m.\u001b[39mreturncode \u001b[38;5;241m!=\u001b[39m \u001b[38;5;241m0\u001b[39m:\n\u001b[0;32m    301\u001b[0m     \u001b[38;5;66;03m# If we get here and p.returncode is still None, we must have\u001b[39;00m\n\u001b[0;32m    302\u001b[0m     \u001b[38;5;66;03m# killed it but not yet seen its return code. We don't wait for it,\u001b[39;00m\n\u001b[0;32m    303\u001b[0m     \u001b[38;5;66;03m# in case it's stuck in uninterruptible sleep. -9 = SIGKILL\u001b[39;00m\n\u001b[0;32m    304\u001b[0m     rc \u001b[38;5;241m=\u001b[39m p\u001b[38;5;241m.\u001b[39mreturncode \u001b[38;5;129;01mor\u001b[39;00m \u001b[38;5;241m-\u001b[39m\u001b[38;5;241m9\u001b[39m\n\u001b[1;32m--> 305\u001b[0m     \u001b[38;5;28;01mraise\u001b[39;00m CalledProcessError(rc, cell)\n",
      "\u001b[1;31mCalledProcessError\u001b[0m: Command 'b'cd ../hardware/victims/firmware/simpleserial-kyber512/\\nmake PLATFORM=CW308_STM32F3 CRYPTO_TARGET=NONE\\n'' returned non-zero exit status 2."
     ]
    }
   ],
   "source": [
    "%%sh\n",
    "cd ../hardware/victims/firmware/simpleserial-kyber512/\n",
    "make PLATFORM=CW308_STM32F3 CRYPTO_TARGET=NONE"
   ]
  },
  {
   "cell_type": "code",
   "execution_count": 9,
   "id": "0dc64afa",
   "metadata": {
    "collapsed": true
   },
   "outputs": [
    {
     "name": "stdout",
     "output_type": "stream",
     "text": [
      "Detected known STMF32: STM32F302xB(C)/303xB(C)\n",
      "Extended erase (0x44), this can take ten seconds or more\n",
      "Attempting to program 23015 bytes at 0x8000000\n",
      "STM32F Programming flash...\n",
      "STM32F Reading flash...\n",
      "Verified flash OK, 23015 bytes\n"
     ]
    }
   ],
   "source": [
    "cw.program_target(scope, cw.programmers.STM32FProgrammer, \"../hardware/victims/firmware/simpleserial-kyber512/simpleserial-kyber512-CW308_STM32F3.hex\")"
   ]
  },
  {
   "cell_type": "markdown",
   "id": "a2798c93",
   "metadata": {},
   "source": [
    "# Leser det sendt fra target manuelt\n",
    "\n",
    "1 tegn char identifiserer melding: p-public key, s-secret key, c-ciphertext, a-ss_a, b-ss_b, $-coins\n",
    "\n",
    "body melding\n",
    "\n",
    "ack z00"
   ]
  },
  {
   "cell_type": "code",
   "execution_count": 10,
   "id": "34e16b34",
   "metadata": {},
   "outputs": [],
   "source": [
    "recv_msg1 = \"\""
   ]
  },
  {
   "cell_type": "code",
   "execution_count": 11,
   "id": "6feaf11d",
   "metadata": {},
   "outputs": [
    {
     "name": "stdout",
     "output_type": "stream",
     "text": [
      "ú²(\u0000   \u00000\n"
     ]
    }
   ],
   "source": [
    "recv_msg1 += target.read() #Skriver det som har blitt printet i target, r: før keygen, f: etter key gen, z: ack på testkeys fullført. 2 char per byte (hex)\n",
    "print(recv_msg1)"
   ]
  },
  {
   "cell_type": "markdown",
   "id": "eab352f0",
   "metadata": {},
   "source": [
    "# Alle definerte komandoene"
   ]
  },
  {
   "cell_type": "markdown",
   "id": "cf6d9509",
   "metadata": {},
   "source": [
    "### Funksjonelt:"
   ]
  },
  {
   "cell_type": "code",
   "execution_count": 195,
   "id": "14b823d3",
   "metadata": {},
   "outputs": [],
   "source": [
    "#Resetter counter\n",
    "target.simpleserial_write('r', bytearray())"
   ]
  },
  {
   "cell_type": "code",
   "execution_count": 171,
   "id": "eaeacfca",
   "metadata": {},
   "outputs": [],
   "source": [
    "#Key gen\n",
    "target.simpleserial_write('k', bytearray())"
   ]
  },
  {
   "cell_type": "code",
   "execution_count": 175,
   "id": "22179f20",
   "metadata": {},
   "outputs": [],
   "source": [
    "#Encrypt kem\n",
    "target.simpleserial_write('e', bytearray())"
   ]
  },
  {
   "cell_type": "code",
   "execution_count": null,
   "id": "82e65bce",
   "metadata": {},
   "outputs": [],
   "source": [
    "#Decrypt kem\n",
    "target.simpleserial_write('d', bytearray())"
   ]
  },
  {
   "cell_type": "markdown",
   "id": "90679f62",
   "metadata": {},
   "source": [
    "### Hente info:"
   ]
  },
  {
   "cell_type": "code",
   "execution_count": 202,
   "id": "4b5b28db",
   "metadata": {},
   "outputs": [],
   "source": [
    "#Printer hele public key 32 byte om gangen (reset for resette counter)\n",
    "target.simpleserial_write('p', bytearray())"
   ]
  },
  {
   "cell_type": "code",
   "execution_count": 204,
   "id": "ffe9db54",
   "metadata": {},
   "outputs": [],
   "source": [
    "#Printer hele secret key 32 byte om gangen (reset for resette counter)\n",
    "target.simpleserial_write('s', bytearray())"
   ]
  },
  {
   "cell_type": "code",
   "execution_count": 206,
   "id": "711a37ef",
   "metadata": {},
   "outputs": [],
   "source": [
    "#Printer hele cipher text 32 byte om gangen (reset for resette counter)\n",
    "target.simpleserial_write('c', bytearray())"
   ]
  },
  {
   "cell_type": "code",
   "execution_count": 208,
   "id": "8a067b09",
   "metadata": {},
   "outputs": [],
   "source": [
    "#Printer hele shared secret a\n",
    "target.simpleserial_write('a', bytearray())"
   ]
  },
  {
   "cell_type": "code",
   "execution_count": 210,
   "id": "b980bcd2",
   "metadata": {},
   "outputs": [],
   "source": [
    "#Printer hele shared secret b\n",
    "target.simpleserial_write('b', bytearray())"
   ]
  }
 ],
 "metadata": {
  "kernelspec": {
   "display_name": "Python 3 (ipykernel)",
   "language": "python",
   "name": "python3"
  },
  "language_info": {
   "codemirror_mode": {
    "name": "ipython",
    "version": 3
   },
   "file_extension": ".py",
   "mimetype": "text/x-python",
   "name": "python",
   "nbconvert_exporter": "python",
   "pygments_lexer": "ipython3",
   "version": "3.10.8"
  }
 },
 "nbformat": 4,
 "nbformat_minor": 5
}
