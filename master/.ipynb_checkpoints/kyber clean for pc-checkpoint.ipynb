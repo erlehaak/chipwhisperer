{
 "cells": [
  {
   "cell_type": "markdown",
   "id": "f29ed168",
   "metadata": {},
   "source": [
    "Åpne terminal naviger til kyber512clean\n",
    "\n",
    "Kjør kommando: gcc -o kyber512clean test.c kem.c fips202.c indcpa.c randombytes.c symmetric-shake.c poly.c polyvec.c cbd.c ntt.c reduce.c verify.c\n",
    "\n",
    "Kjør program: ./kyber512clean\n"
   ]
  }
 ],
 "metadata": {
  "kernelspec": {
   "display_name": "Python 3 (ipykernel)",
   "language": "python",
   "name": "python3"
  },
  "language_info": {
   "codemirror_mode": {
    "name": "ipython",
    "version": 3
   },
   "file_extension": ".py",
   "mimetype": "text/x-python",
   "name": "python",
   "nbconvert_exporter": "python",
   "pygments_lexer": "ipython3",
   "version": "3.10.8"
  }
 },
 "nbformat": 4,
 "nbformat_minor": 5
}
