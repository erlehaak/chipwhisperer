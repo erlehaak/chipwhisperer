{
 "cells": [
  {
   "cell_type": "markdown",
   "id": "14963160",
   "metadata": {},
   "source": [
    "Lage pqm4"
   ]
  },
  {
   "cell_type": "code",
   "execution_count": 22,
   "id": "f953f074",
   "metadata": {},
   "outputs": [
    {
     "name": "stderr",
     "output_type": "stream",
     "text": [
      "Cloning into 'pqm4'...\n",
      "Submodule 'libopencm3' (https://github.com/libopencm3/libopencm3.git) registered for path 'libopencm3'\n",
      "Submodule 'mupq' (https://github.com/mupq/mupq.git) registered for path 'mupq'\n",
      "Cloning into '/home/vagrant/work/projects/chipwhisperer/master/pqm4/libopencm3'...\n",
      "Cloning into '/home/vagrant/work/projects/chipwhisperer/master/pqm4/mupq'...\n"
     ]
    },
    {
     "name": "stdout",
     "output_type": "stream",
     "text": [
      "Submodule path 'libopencm3': checked out 'b1d8a4c546531d6a79f9a7be156205c6a40f215c'\n",
      "Submodule path 'mupq': checked out '3b48fa5aff6f5921df5b3444450281daca6d21d1'\n"
     ]
    },
    {
     "name": "stderr",
     "output_type": "stream",
     "text": [
      "Submodule 'pqclean' (https://github.com/pqclean/pqclean) registered for path 'mupq/pqclean'\n",
      "Cloning into '/home/vagrant/work/projects/chipwhisperer/master/pqm4/mupq/pqclean'...\n"
     ]
    },
    {
     "name": "stdout",
     "output_type": "stream",
     "text": [
      "Submodule path 'mupq/pqclean': checked out '734ea31bd4c655bd47dbd7b8c8cbb68b4cb1c269'\n"
     ]
    },
    {
     "name": "stderr",
     "output_type": "stream",
     "text": [
      "Submodule 'test/pycparser' (https://github.com/eliben/pycparser.git) registered for path 'mupq/pqclean/test/pycparser'\n",
      "Cloning into '/home/vagrant/work/projects/chipwhisperer/master/pqm4/mupq/pqclean/test/pycparser'...\n"
     ]
    },
    {
     "name": "stdout",
     "output_type": "stream",
     "text": [
      "Submodule path 'mupq/pqclean/test/pycparser': checked out '1166ea11785ce12cdfd5e8bf8b3a69b5e6b76f9c'\n"
     ]
    }
   ],
   "source": [
    "%%bash\n",
    "git clone --recursive https://github.com/mupq/pqm4.git"
   ]
  },
  {
   "cell_type": "markdown",
   "id": "84ae144a",
   "metadata": {},
   "source": [
    "Compile test programmer laget av pqm4:"
   ]
  },
  {
   "cell_type": "code",
   "execution_count": 17,
   "id": "eadfef28",
   "metadata": {
    "scrolled": true
   },
   "outputs": [
    {
     "name": "stdout",
     "output_type": "stream",
     "text": [
      "  GEN     obj/.config.mk\n",
      "make -C /home/vagrant/work/projects/chipwhisperer/master/pqm4/libopencm3\n",
      "  GENLNK  stm32f303rct7\n",
      "make[1]: Entering directory '/home/vagrant/work/projects/chipwhisperer/master/pqm4/libopencm3'\n",
      "  GENHDR  include/libopencm3/stm32/f1/irq.json\n",
      "  GENHDR  include/libopencm3/stm32/f0/irq.json\n",
      "  GENHDR  include/libopencm3/stm32/f2/irq.json\n",
      "  GENHDR  include/libopencm3/stm32/f3/irq.json\n",
      "  GENHDR  include/libopencm3/stm32/f4/irq.json\n",
      "  GENHDR  include/libopencm3/stm32/f7/irq.json\n",
      "  GENHDR  include/libopencm3/stm32/l0/irq.json\n",
      "  GENHDR  include/libopencm3/stm32/l1/irq.json\n",
      "  GENHDR  include/libopencm3/stm32/l4/irq.json\n",
      "  GENHDR  include/libopencm3/stm32/g0/irq.json\n",
      "  GENHDR  include/libopencm3/stm32/h7/irq.json\n",
      "  GENHDR  include/libopencm3/gd32/f1x0/irq.json\n",
      "  GENHDR  include/libopencm3/lpc13xx/irq.json\n",
      "  GENHDR  include/libopencm3/lpc17xx/irq.json\n",
      "  GENHDR  include/libopencm3/lpc43xx/m4/irq.json\n",
      "  GENHDR  include/libopencm3/lpc43xx/m0/irq.json\n",
      "  GENHDR  include/libopencm3/lm3s/irq.json\n",
      "  GENHDR  include/libopencm3/msp432/e4/irq.json\n",
      "  GENHDR  include/libopencm3/efm32/tg/irq.json\n",
      "  GENHDR  include/libopencm3/efm32/g/irq.json\n",
      "  GENHDR  include/libopencm3/efm32/lg/irq.json\n",
      "  GENHDR  include/libopencm3/efm32/gg/irq.json\n",
      "  GENHDR  include/libopencm3/efm32/hg/irq.json\n",
      "  GENHDR  include/libopencm3/efm32/wg/irq.json\n",
      "  GENHDR  include/libopencm3/efm32/ezr32wg/irq.json\n",
      "  GENHDR  include/libopencm3/sam/3a/irq.json\n",
      "  GENHDR  include/libopencm3/sam/3n/irq.json\n",
      "  GENHDR  include/libopencm3/sam/3s/irq.json\n",
      "  GENHDR  include/libopencm3/sam/3u/irq.json\n",
      "  GENHDR  include/libopencm3/sam/3x/irq.json\n",
      "  GENHDR  include/libopencm3/sam/4l/irq.json\n",
      "  GENHDR  include/libopencm3/sam/d/irq.json\n",
      "  GENHDR  include/libopencm3/vf6xx/irq.json\n",
      "  GENHDR  include/libopencm3/swm050/irq.json\n",
      "  GENHDR  include/libopencm3/pac55xx/irq.json\n",
      "  BUILD   lib/stm32/f0\n",
      "  BUILD   lib/stm32/f1\n",
      "  BUILD   lib/stm32/f2\n",
      "  CC      adc.c\n",
      "  CC      adc.c\n",
      "  BUILD   lib/stm32/f3\n",
      "  CC      crc_common_all.c\n",
      "  CC      adc.c\n",
      "  CC      crypto_common_f24.c\n",
      "  CC      dac_common_all.c\n",
      "  CC      adc_common_v1.c\n",
      "  CC      adc_common_v2.c\n",
      "  CC      adc_common_v2.c\n",
      "  CC      desig_common_all.c\n",
      "  CC      adc_common_v2_multi.c\n",
      "  CC      can.c\n",
      "  CC      can.c\n",
      "  CC      desig_common_v1.c\n",
      "  CC      can.c\n",
      "  CC      comparator.c\n",
      "  CC      dma_common_f24.c\n",
      "  CC      crc_common_all.c\n",
      "  CC      crc_common_all.c\n",
      "  CC      dac_common_all.c\n",
      "  CC      crc_common_all.c\n",
      "  CC      crc_v2.c\n",
      "  CC      crc_v2.c\n",
      "  CC      crs_common_all.c\n",
      "  CC      dac_common_all.c\n",
      "  CC      desig_common_all.c\n",
      "  CC      dac_common_all.c\n",
      "  CC      exti_common_all.c\n",
      "  CC      desig_common_v1.c\n",
      "  CC      flash.c\n",
      "  CC      desig_common_all.c\n",
      "  CC      desig_common_all.c\n",
      "  CC      dma_common_l1f013.c\n",
      "  CC      desig_common_v1.c\n",
      "  CC      flash_common_all.c\n",
      "  CC      dma_common_l1f013.c\n",
      "  CC      desig_common_v1.c\n",
      "  CC      flash_common_f.c\n",
      "  CC      flash_common_f24.c\n",
      "  CC      exti_common_all.c\n",
      "  CC      dma_common_csel.c\n",
      "  CC      dma_common_l1f013.c\n",
      "  CC      flash.c\n",
      "  CC      exti_common_all.c\n",
      "  CC      flash_common_idcache.c\n",
      "  CC      flash_common_all.c\n",
      "  CC      exti_common_all.c\n",
      "  CC      gpio_common_all.c\n",
      "  CC      flash.c\n",
      "  CC      flash_common_f.c\n",
      "  CC      flash.c\n",
      "  CC      flash_common_all.c\n",
      "  CC      gpio_common_f0234.c\n",
      "  CC      flash_common_f.c\n",
      "  CC      flash_common_f01.c\n",
      "  CC      flash_common_all.c\n",
      "  CC      flash_common_f01.c\n",
      "  CC      hash_common_f24.c\n",
      "  CC      flash_common_f.c\n",
      "  CC      gpio.c\n",
      "  CC      gpio_common_all.c\n",
      "  CC      gpio_common_all.c\n",
      "  CC      i2c_common_v1.c\n",
      "  CC      gpio_common_f0234.c\n",
      "  CC      gpio_common_all.c\n",
      "  CC      iwdg_common_all.c\n",
      "  CC      gpio_common_f0234.c\n",
      "  CC      iwdg_common_all.c\n",
      "  CC      i2c_common_v1.c\n",
      "  CC      i2c_common_v2.c\n",
      "  CC      rcc.c\n",
      "  CC      i2c_common_v2.c\n",
      "  CC      iwdg_common_all.c\n",
      "  CC      pwr_common_v1.c\n",
      "  CC      pwr_common_v1.c\n",
      "  CC      rcc_common_all.c\n",
      "  CC      iwdg_common_all.c\n",
      "  CC      pwr_common_v1.c\n",
      "  CC      rcc.c\n",
      "  CC      rcc.c\n",
      "  CC      rng_common_v1.c\n",
      "  CC      rcc.c\n",
      "  CC      rtc_common_l1f024.c\n",
      "  CC      rcc_common_all.c\n",
      "  CC      rcc_common_all.c\n",
      "  CC      rcc_common_all.c\n",
      "  CC      spi_common_all.c\n",
      "  CC      spi_common_all.c\n",
      "  CC      rtc_common_l1f024.c\n",
      "  CC      rtc.c\n",
      "  CC      spi_common_all.c\n",
      "  CC      spi_common_v1.c\n",
      "  CC      spi_common_v2.c\n",
      "  CC      spi_common_all.c\n",
      "  CC      spi_common_v2.c\n",
      "  CC      spi_common_v1_frf.c\n",
      "  CC      timer_common_all.c\n",
      "  CC      timer_common_all.c\n",
      "  CC      spi_common_v1.c\n",
      "  CC      timer_common_all.c\n",
      "  CC      timer_common_f0234.c\n",
      "  CC      timer_common_f0234.c\n",
      "  CC      usart_common_v2.c\n",
      "  CC      timer.c\n",
      "  CC      usart_common_all.c\n",
      "  CC      usart_common_all.c\n",
      "  CC      timer_common_all.c\n",
      "  CC      timer_common_f0234.c\n",
      "  CC      usb.c\n",
      "  CC      timer_common_f24.c\n",
      "  CC      usb_control.c\n",
      "  CC      usart_common_v2.c\n",
      "  CC      usb.c\n",
      "  CC      usart_common_all.c\n",
      "  CC      usart_common_all.c\n",
      "  CC      usb_standard.c\n",
      "  CC      usart_common_f124.c\n",
      "  CC      usb_control.c\n",
      "  CC      usart_common_f124.c\n",
      "  CC      mac.c\n",
      "  CC      usb.c\n",
      "  CC      usb_msc.c\n",
      "  CC      mac_stm32fxx7.c\n",
      "  CC      usb_standard.c\n",
      "  CC      usb_standard.c\n",
      "  CC      phy.c\n",
      "  CC      usb_hid.c\n",
      "  CC      st_usbfs_core.c\n",
      "  CC      phy_ksz80x1.c\n",
      "  CC      st_usbfs_v1.c\n",
      "  CC      vector.c\n",
      "  CC      usb.c\n",
      "  CC      usb_msc.c\n",
      "  CC      systick.c\n",
      "  CC      usb_control.c\n",
      "  CC      usb_control.c\n",
      "  CC      scb.c\n",
      "  CC      usb_hid.c\n",
      "  CC      usb_msc.c\n",
      "  CC      nvic.c\n",
      "  CC      usb_standard.c\n",
      "  CC      st_usbfs_core.c\n",
      "  CC      assert.c\n",
      "  CC      st_usbfs_v2.c\n",
      "  CC      usb_hid.c\n",
      "  CC      sync.c\n",
      "  CC      vector.c\n",
      "  CC      usb_msc.c\n",
      "  CC      dwt.c\n",
      "  CC      usb_dwc_common.c\n",
      "  CC      systick.c\n",
      "  CC      scb.c\n",
      "  AR      libopencm3_stm32f3.a\n",
      "  CC      usb_hid.c\n",
      "  CC      usb_f107.c\n",
      "  BUILD   lib/stm32/f4\n",
      "  CC      usb_dwc_common.c\n",
      "  CC      nvic.c\n",
      "  CC      adc_common_v1.c\n",
      "  CC      usb_f207.c\n",
      "  CC      assert.c\n",
      "  CC      sync.c\n",
      "  CC      dwt.c\n",
      "  CC      vector.c\n",
      "  CC      usb_f107.c\n",
      "  CC      adc_common_v1_multi.c\n",
      "  AR      libopencm3_stm32f0.a\n",
      "  CC      systick.c\n",
      "  BUILD   lib/stm32/f7\n",
      "  CC      adc_common_f47.c\n",
      "  CC      st_usbfs_core.c\n",
      "  CC      adc_common_v1.c\n",
      "  CC      can.c\n",
      "  CC      scb.c\n",
      "  CC      nvic.c\n",
      "  CC      st_usbfs_v1.c\n",
      "  CC      crc_common_all.c\n",
      "  CC      adc_common_v1_multi.c\n",
      "  CC      assert.c\n",
      "  CC      vector.c\n",
      "  CC      crypto_common_f24.c\n",
      "  CC      adc_common_f47.c\n",
      "  CC      sync.c\n",
      "  CC      crypto.c\n",
      "  CC      systick.c\n",
      "  CC      can.c\n",
      "  CC      dwt.c\n",
      "  CC      dac_common_all.c\n",
      "  CC      scb.c\n",
      "  CC      desig_common_all.c\n",
      "  AR      libopencm3_stm32f2.a\n",
      "  CC      nvic.c\n",
      "  CC      crc_common_all.c\n",
      "  CC      desig_common_v1.c\n",
      "  BUILD   lib/stm32/l0\n",
      "  CC      crc_v2.c\n",
      "  CC      dma_common_f24.c\n",
      "  CC      adc_common_v2.c\n",
      "  CC      assert.c\n",
      "  CC      dac_common_all.c\n",
      "  CC      sync.c\n",
      "  CC      desig_common_all.c\n",
      "  CC      dma2d_common_f47.c\n",
      "  CC      crc_common_all.c\n",
      "  CC      dwt.c\n",
      "  CC      dsi_common_f47.c\n",
      "  CC      desig.c\n",
      "  CC      crc_v2.c\n",
      "  CC      exti_common_all.c\n",
      "  AR      libopencm3_stm32f1.a\n",
      "  CC      dma_common_f24.c\n",
      "  BUILD   lib/stm32/l1\n",
      "  CC      crs_common_all.c\n",
      "  CC      flash.c\n",
      "  CC      desig_common_all.c\n",
      "  CC      adc.c\n",
      "  CC      flash_common_all.c\n",
      "  CC      desig_common_v1.c\n",
      "  CC      dma2d_common_f47.c\n",
      "  CC      adc_common_v1.c\n",
      "  CC      dsi_common_f47.c\n",
      "  CC      flash_common_f.c\n",
      "  CC      dma_common_l1f013.c\n",
      "  CC      exti_common_all.c\n",
      "  CC      flash_common_f24.c\n",
      "  CC      flash_common_all.c\n",
      "  CC      adc_common_v1_multi.c\n",
      "  CC      flash_common_idcache.c\n",
      "  CC      dma_common_csel.c\n",
      "  CC      flash.c\n",
      "  CC      flash_common_f.c\n",
      "  CC      fmc_common_f47.c\n",
      "  CC      exti_common_all.c\n",
      "  CC      crc_common_all.c\n",
      "  CC      flash_common_f24.c\n",
      "  CC      gpio_common_all.c\n",
      "  CC      dac_common_all.c\n",
      "  CC      flash.c\n",
      "  CC      flash_common_all.c\n",
      "  CC      gpio_common_f0234.c\n",
      "  CC      desig_common_all.c\n",
      "  CC      fmc_common_f47.c\n",
      "  CC      flash_common_l01.c\n",
      "  CC      hash_common_f24.c\n",
      "  CC      gpio_common_all.c\n",
      "  CC      desig.c\n",
      "  CC      gpio_common_all.c\n",
      "  CC      gpio_common_f0234.c\n",
      "  CC      i2c_common_v1.c\n",
      "  CC      gpio_common_f0234.c\n",
      "  CC      dma_common_l1f013.c\n",
      "  CC      i2c_common_v2.c\n",
      "  CC      i2c_common_v2.c\n"
     ]
    },
    {
     "name": "stdout",
     "output_type": "stream",
     "text": [
      "  CC      exti_common_all.c\n",
      "  CC      iwdg_common_all.c\n",
      "  CC      iwdg_common_all.c\n",
      "  CC      lptimer_common_all.c\n",
      "  CC      lptimer_common_all.c\n",
      "  CC      flash_common_all.c\n",
      "  CC      iwdg_common_all.c\n",
      "  CC      ltdc_common_f47.c\n",
      "  CC      flash_common_l01.c\n",
      "  CC      ltdc_common_f47.c\n",
      "  CC      lptimer_common_all.c\n",
      "  CC      pwr.c\n",
      "  CC      pwr_common_v1.c\n",
      "  CC      gpio_common_all.c\n",
      "  CC      rcc.c\n",
      "  CC      pwr_common_v1.c\n",
      "  CC      pwr.c\n",
      "  CC      pwr_common_v2.c\n",
      "  CC      gpio_common_f0234.c\n",
      "  CC      rcc_common_all.c\n",
      "  CC      rcc_common_all.c\n",
      "  CC      rcc.c\n",
      "  CC      i2c_common_v1.c\n",
      "  CC      rcc.c\n",
      "  CC      rng_common_v1.c\n",
      "  CC      rcc_common_all.c\n",
      "  CC      iwdg_common_all.c\n",
      "  CC      spi_common_all.c\n",
      "  CC      rng_common_v1.c\n",
      "  CC      lcd.c\n",
      "  CC      rng_common_v1.c\n",
      "  CC      rtc_common_l1f024.c\n",
      "  CC      spi_common_v2.c\n",
      "  CC      rtc_common_l1f024.c\n",
      "  CC      pwr_common_v1.c\n",
      "  CC      rtc.c\n",
      "  CC      timer_common_all.c\n",
      "  CC      spi_common_all.c\n",
      "  CC      pwr_common_v2.c\n",
      "  CC      spi_common_all.c\n",
      "  CC      rcc.c\n",
      "  CC      usart_common_all.c\n",
      "  CC      spi_common_v1.c\n",
      "  CC      spi_common_v1.c\n",
      "  CC      usart_common_v2.c\n",
      "  CC      spi_common_v1_frf.c\n",
      "  CC      spi_common_v1_frf.c\n",
      "  CC      rcc_common_all.c\n",
      "  CC      mac.c\n",
      "  CC      timer_common_all.c\n",
      "  CC      timer_common_all.c\n",
      "  CC      rtc_common_l1f024.c\n",
      "  CC      phy.c\n",
      "  CC      timer_common_f0234.c\n",
      "  CC      mac_stm32fxx7.c\n",
      "  CC      spi_common_all.c\n",
      "  CC      usart_common_all.c\n",
      "  CC      timer_common_f24.c\n",
      "  CC      phy_ksz80x1.c\n",
      "  CC      spi_common_v1.c\n",
      "  CC      usart_common_v2.c\n",
      "  CC      usart_common_all.c\n",
      "  CC      spi_common_v1_frf.c\n",
      "  CC      vector.c\n",
      "  CC      systick.c\n",
      "  CC      timer.c\n",
      "  CC      usart_common_f124.c\n",
      "  CC      usb.c\n",
      "  CC      timer_common_all.c\n",
      "  CC      scb.c\n",
      "  CC      usb.c\n",
      "  CC      nvic.c\n",
      "  CC      usb_control.c\n",
      "  CC      usb_standard.c\n",
      "  CC      usart_common_all.c\n",
      "  CC      assert.c\n",
      "  CC      usart_common_f124.c\n",
      "  CC      sync.c\n",
      "  CC      usb_standard.c\n",
      "  CC      usb.c\n",
      "  CC      dwt.c\n",
      "  CC      usb_control.c\n",
      "  CC      usb_control.c\n",
      "  CC      usb_msc.c\n",
      "  AR      libopencm3_stm32f7.a\n",
      "  CC      usb_hid.c\n",
      "  CC      usb_standard.c\n",
      "  CC      usb_msc.c\n",
      "  CC      st_usbfs_core.c\n",
      "  CC      st_usbfs_v2.c\n",
      "  CC      vector.c\n",
      "  CC      usb_hid.c\n",
      "  CC      usb_dwc_common.c\n",
      "  CC      usb_msc.c\n",
      "  CC      systick.c\n",
      "  CC      scb.c\n",
      "  CC      usb_f107.c\n",
      "  CC      usb_f207.c\n",
      "  CC      usb_hid.c\n",
      "  CC      nvic.c\n",
      "  CC      mac.c\n",
      "  CC      assert.c\n",
      "  CC      phy.c\n",
      "  CC      st_usbfs_core.c\n",
      "  CC      sync.c\n",
      "  CC      dwt.c\n",
      "  CC      mac_stm32fxx7.c\n",
      "  CC      phy_ksz80x1.c\n",
      "  AR      libopencm3_stm32l0.a\n",
      "  CC      vector.c\n",
      "  CC      st_usbfs_v1.c\n",
      "  BUILD   lib/stm32/l4\n",
      "  CC      systick.c\n",
      "  CC      scb.c\n",
      "  CC      vector.c\n",
      "  CC      adc.c\n",
      "  CC      nvic.c\n",
      "  CC      adc_common_v2.c\n",
      "  CC      assert.c\n",
      "  CC      systick.c\n",
      "  CC      adc_common_v2_multi.c\n",
      "  CC      sync.c\n",
      "  CC      can.c\n",
      "  CC      scb.c\n",
      "  CC      crc_common_all.c\n",
      "  CC      dwt.c\n",
      "  CC      nvic.c\n",
      "  CC      crc_v2.c\n",
      "  CC      assert.c\n",
      "  CC      crs_common_all.c\n",
      "  AR      libopencm3_stm32f4.a\n",
      "  CC      sync.c\n",
      "  BUILD   lib/stm32/g0\n",
      "  CC      dac_common_all.c\n",
      "  CC      adc.c\n",
      "  CC      dwt.c\n",
      "  CC      dma_common_l1f013.c\n",
      "  CC      dma_common_csel.c\n",
      "  AR      libopencm3_stm32l1.a\n",
      "  CC      adc_common_v2.c\n",
      "  BUILD   lib/stm32/h7\n",
      "  CC      dac_common_all.c\n",
      "  CC      exti_common_all.c\n",
      "  CC      flash.c\n",
      "  CC      flash_common_all.c\n",
      "  CC      crc_common_all.c\n",
      "  CC      flash_common_f.c\n",
      "  CC      exti_common_all.c\n",
      "  CC      dma_common_l1f013.c\n",
      "  CC      flash_common_idcache.c\n",
      "  CC      gpio_common_all.c\n",
      "  CC      flash_common_all.c\n",
      "  CC      gpio_common_f0234.c\n",
      "  CC      flash_common_f.c\n",
      "  CC      i2c_common_v2.c\n",
      "  CC      dmamux.c\n",
      "  CC      flash_common_f24.c\n",
      "  CC      iwdg_common_all.c\n",
      "  CC      exti_common_all.c\n",
      "  CC      fmc_common_f47.c\n",
      "  CC      lptimer_common_all.c\n",
      "  CC      pwr.c\n",
      "  CC      rcc.c\n",
      "  CC      gpio_common_all.c\n",
      "  CC      exti_common_v2.c\n",
      "  CC      rcc_common_all.c\n",
      "  CC      gpio_common_f0234.c\n",
      "  CC      flash.c\n",
      "  CC      rng_common_v1.c\n",
      "  CC      rtc_common_l1f024.c\n",
      "  CC      flash_common_all.c\n",
      "  CC      pwr.c\n",
      "  CC      spi_common_all.c\n",
      "  CC      spi_common_v2.c\n",
      "  CC      rcc.c\n",
      "  CC      gpio_common_all.c\n",
      "  CC      timer_common_all.c\n",
      "  CC      usart_common_all.c\n",
      "  CC      gpio_common_f0234.c\n",
      "  CC      rcc_common_all.c\n",
      "  CC      spi_common_all.c\n",
      "  CC      usart_common_v2.c\n",
      "  CC      spi_common_v2.c\n",
      "  CC      i2c_common_v2.c\n",
      "  CC      usb.c\n",
      "  CC      usb_control.c\n",
      "  CC      timer_common_all.c\n",
      "  CC      usart_common_v2.c\n",
      "  CC      iwdg_common_all.c\n",
      "  CC      usb_standard.c\n",
      "  CC      lptimer_common_all.c\n",
      "  CC      usart_common_fifos.c\n",
      "  CC      usb_msc.c\n",
      "  CC      usb_hid.c\n",
      "  CC      vector.c\n",
      "  CC      pwr.c\n",
      "  CC      st_usbfs_core.c\n",
      "  CC      systick.c\n",
      "  CC      rcc.c\n",
      "  BUILD   lib/gd32/f1x0\n",
      "  CC      flash.c\n",
      "  CC      st_usbfs_v2.c\n",
      "  CC      rcc_common_all.c\n",
      "  CC      scb.c\n",
      "  CC      flash_common_all.c\n",
      "  CC      nvic.c\n",
      "  CC      rng_common_v1.c\n",
      "  CC      vector.c\n",
      "  CC      flash_common_f.c\n",
      "  CC      systick.c\n",
      "  CC      spi_common_all.c\n",
      "  CC      assert.c\n",
      "  CC      flash_common_f01.c\n",
      "  CC      scb.c\n",
      "  CC      spi_common_v2.c\n",
      "  CC      sync.c\n",
      "  CC      gpio_common_all.c\n",
      "  CC      nvic.c\n",
      "  CC      timer_common_all.c\n",
      "  CC      dwt.c\n",
      "  CC      gpio_common_f0234.c\n",
      "  CC      assert.c\n",
      "  CC      sync.c\n",
      "  CC      rcc.c\n",
      "  AR      libopencm3_stm32h7.a\n",
      "  CC      dwt.c\n",
      "  CC      usart_common_all.c\n",
      "  CC      rcc_common_all.c\n",
      "  BUILD   lib/lpc13xx\n",
      "  AR      libopencm3_stm32l4.a\n",
      "  CC      gpio.c\n",
      "  CC      vector.c\n",
      "  CC      usart_common_v2.c\n",
      "  CC      vector.c\n",
      "  BUILD   lib/lpc17xx\n",
      "  CC      gpio.c\n",
      "  CC      systick.c\n",
      "  CC      vector.c\n",
      "  CC      systick.c\n",
      "  CC      pwr.c\n",
      "  CC      systick.c\n",
      "  CC      scb.c\n",
      "  CC      vector.c\n",
      "  CC      scb.c\n",
      "  CC      nvic.c\n",
      "  CC      scb.c\n",
      "  CC      systick.c\n",
      "  CC      nvic.c\n",
      "  CC      nvic.c\n",
      "  CC      scb.c\n",
      "  CC      assert.c\n",
      "  CC      assert.c\n",
      "  CC      assert.c\n",
      "  CC      nvic.c\n",
      "  CC      sync.c\n",
      "  CC      sync.c\n",
      "  CC      sync.c\n",
      "  CC      dwt.c\n",
      "  CC      assert.c\n",
      "  CC      dwt.c\n",
      "  CC      sync.c\n",
      "  CC      dwt.c\n",
      "  AR      libopencm3_gd32f1x0.a\n",
      "  BUILD   lib/lpc43xx/m4\n",
      "  AR      libopencm3_lpc13xx.a\n",
      "  AR      libopencm3_stm32g0.a\n",
      "  CC      gpio.c\n",
      "  CC      dwt.c\n",
      "  BUILD   lib/lpc43xx/m0\n",
      "  CC      gpio.c\n",
      "  BUILD   lib/lm3s\n",
      "  CC      scu.c\n",
      "  AR      libopencm3_lpc17xx.a\n",
      "  CC      scu.c\n",
      "  CC      assert.c\n",
      "  CC      i2c.c\n",
      "  BUILD   lib/lm4f\n",
      "  CC      i2c.c\n",
      "  CC      assert.c\n",
      "  CC      gpio.c\n",
      "  CC      gpio.c\n",
      "  CC      ssp.c\n",
      "  CC      ssp.c\n",
      "  CC      rcc.c\n",
      "  CC      usart.c\n",
      "  CC      uart.c\n",
      "  CC      rcc.c\n",
      "  CC      vector.c\n",
      "  CC      uart.c\n",
      "  CC      systick.c\n",
      "  CC      systemcontrol.c\n",
      "  CC      uart.c\n",
      "  CC      timer.c\n",
      "  CC      scb.c\n",
      "  CC      timer.c\n",
      "  CC      ipc.c\n",
      "  CC      vector.c\n",
      "  CC      vector.c\n",
      "  CC      vector.c\n",
      "  CC      nvic.c\n",
      "  CC      systick.c\n",
      "  CC      usb.c\n",
      "  CC      systick.c\n",
      "  CC      sync.c\n",
      "  CC      scb.c\n",
      "  CC      scb.c\n",
      "  CC      usb_control.c\n",
      "  CC      dwt.c\n",
      "  CC      nvic.c\n",
      "  CC      nvic.c\n",
      "  CC      usb_standard.c\n",
      "  AR      libopencm3_lm3s.a\n",
      "  BUILD   lib/msp432/e4\n",
      "  CC      assert.c\n",
      "  CC      assert.c\n",
      "  CC      gpio.c\n",
      "  CC      sync.c\n",
      "  CC      sync.c\n",
      "  CC      usb_msc.c\n",
      "  CC      dwt.c\n",
      "  CC      systemcontrol.c\n",
      "  CC      dwt.c\n",
      "  AR      libopencm3_lpc43xx_m0.a\n",
      "  AR      libopencm3_lpc43xx.a\n",
      "  BUILD   lib/efm32/tg\n",
      "  BUILD   lib/efm32/g\n",
      "  CC      vector.c\n",
      "  CC      vector.c\n",
      "  CC      vector.c\n",
      "  CC      systick.c\n",
      "  CC      usb_hid.c\n",
      "  CC      systick.c\n",
      "  CC      scb.c\n",
      "  CC      usb_lm4f.c\n",
      "  CC      systick.c\n",
      "  CC      scb.c\n",
      "  CC      scb.c\n",
      "  CC      nvic.c\n",
      "  CC      nvic.c\n",
      "  CC      systick.c\n",
      "  CC      nvic.c\n",
      "  CC      assert.c\n",
      "  CC      assert.c\n",
      "  CC      sync.c\n",
      "  CC      sync.c\n",
      "  CC      scb.c\n",
      "  CC      assert.c\n",
      "  CC      dwt.c\n",
      "  CC      nvic.c\n",
      "  CC      sync.c\n",
      "  AR      libopencm3_efm32g.a\n",
      "  CC      dwt.c\n",
      "  BUILD   lib/efm32/lg\n",
      "  CC      sync.c\n",
      "  CC      dwt.c\n",
      "  CC      acmp_common.c\n",
      "  AR      libopencm3_efm32tg.a\n",
      "  AR      libopencm3_msp432e4.a\n",
      "  CC      adc_common.c\n",
      "  BUILD   lib/efm32/gg\n",
      "  CC      dwt.c\n",
      "  BUILD   lib/efm32/hg\n",
      "  CC      cmu.c\n",
      "  CC      vector.c\n",
      "  CC      gpio_common.c\n",
      "  AR      libopencm3_lm4f.a\n",
      "  CC      systick.c\n",
      "  BUILD   lib/efm32/wg\n"
     ]
    },
    {
     "name": "stdout",
     "output_type": "stream",
     "text": [
      "  CC      burtc_common.c\n",
      "  CC      scb.c\n",
      "  CC      cmu_common.c\n",
      "  CC      acmp_common.c\n",
      "  CC      timer_common.c\n",
      "  CC      adc_common.c\n",
      "  CC      nvic.c\n",
      "  CC      usb.c\n",
      "  CC      dac_common.c\n",
      "  CC      assert.c\n",
      "  CC      usb_control.c\n",
      "  CC      burtc_common.c\n",
      "  CC      sync.c\n",
      "  CC      dma_common.c\n",
      "  CC      cmu_common.c\n",
      "  CC      usb_standard.c\n",
      "  CC      dac_common.c\n",
      "  CC      emu_common.c\n",
      "  CC      dwt.c\n",
      "  CC      dma_common.c\n",
      "  CC      gpio_common.c\n",
      "  AR      libopencm3_efm32gg.a\n",
      "  CC      usb_msc.c\n",
      "  CC      i2c_common.c\n",
      "  BUILD   lib/efm32/ezr32wg\n",
      "  CC      emu_common.c\n",
      "  CC      gpio_common.c\n",
      "  CC      acmp_common.c\n",
      "  CC      letimer_common.c\n",
      "  CC      i2c_common.c\n",
      "  CC      adc_common.c\n",
      "  CC      msc_common.c\n",
      "  CC      usb_hid.c\n",
      "  CC      letimer_common.c\n",
      "  CC      usb_dwc_common.c\n",
      "  CC      prs_common.c\n",
      "  CC      msc_common.c\n",
      "  CC      burtc_common.c\n",
      "  CC      rmu_common.c\n",
      "  CC      cmu_common.c\n",
      "  CC      rtc_common.c\n",
      "  CC      prs_common.c\n",
      "  CC      timer_common.c\n",
      "  CC      rmu_common.c\n",
      "  CC      dac_common.c\n",
      "  CC      usb_efm32hg.c\n",
      "  CC      rtc_common.c\n",
      "  CC      usart_common.c\n",
      "  CC      dma_common.c\n",
      "  CC      vector.c\n",
      "  CC      timer_common.c\n",
      "  CC      wdog_common.c\n",
      "  CC      usart_common.c\n",
      "  CC      usb.c\n",
      "  CC      systick.c\n",
      "  CC      wdog_common.c\n",
      "  CC      emu_common.c\n",
      "  CC      usb_control.c\n",
      "  CC      usb.c\n",
      "  CC      gpio_common.c\n",
      "  CC      scb.c\n",
      "  CC      usb_control.c\n",
      "  CC      usb_standard.c\n",
      "  CC      nvic.c\n",
      "  CC      i2c_common.c\n",
      "  CC      usb_standard.c\n",
      "  CC      usb_msc.c\n",
      "  CC      letimer_common.c\n",
      "  CC      assert.c\n",
      "  CC      sync.c\n",
      "  CC      usb_hid.c\n",
      "  CC      usb_msc.c\n",
      "  CC      msc_common.c\n",
      "  CC      usb_efm32.c\n",
      "  CC      prs_common.c\n",
      "  CC      dwt.c\n",
      "  CC      vector.c\n",
      "  CC      usb_hid.c\n",
      "  AR      libopencm3_efm32hg.a\n",
      "  CC      rmu_common.c\n",
      "  CC      systick.c\n",
      "  CC      rtc_common.c\n",
      "  CC      usb_efm32.c\n",
      "  CC      timer_common.c\n",
      "  CC      usart_common.c\n",
      "  CC      scb.c\n",
      "  CC      vector.c\n",
      "  CC      nvic.c\n",
      "  CC      wdog_common.c\n",
      "  CC      systick.c\n",
      "  CC      usb.c\n",
      "  CC      scb.c\n",
      "  CC      assert.c\n",
      "  CC      nvic.c\n",
      "  CC      assert.c\n",
      "  CC      sync.c\n",
      "  CC      usb_control.c\n",
      "  CC      sync.c\n",
      "  CC      dwt.c\n",
      "  CC      dwt.c\n",
      "  CC      usb_standard.c\n",
      "  CC      usb_msc.c\n",
      "  AR      libopencm3_efm32wg.a\n",
      "  BUILD   lib/sam/3a\n",
      "  AR      libopencm3_efm32lg.a\n",
      "  CC      usb_hid.c\n",
      "  CC      gpio_common_all.c\n",
      "  CC      usb_efm32.c\n",
      "  BUILD   lib/sam/3n\n",
      "  CC      gpio_common_all.c\n",
      "  CC      vector.c\n",
      "  CC      gpio_common_3a3u3x.c\n",
      "  CC      gpio_common_3n3s.c\n",
      "  CC      pmc.c\n",
      "  CC      pmc.c\n",
      "  CC      systick.c\n",
      "  CC      usart_common_all.c\n",
      "  CC      usart_common_3.c\n",
      "  CC      usart_common_all.c\n",
      "  CC      scb.c\n",
      "  CC      vector.c\n",
      "  CC      systick.c\n",
      "  CC      usart_common_3.c\n",
      "  CC      nvic.c\n",
      "  CC      scb.c\n",
      "  CC      nvic.c\n",
      "  CC      vector.c\n",
      "  CC      assert.c\n",
      "  CC      assert.c\n",
      "  CC      sync.c\n",
      "  CC      dwt.c\n",
      "  CC      sync.c\n",
      "  CC      systick.c\n",
      "  AR      libopencm3_sam3n.a\n",
      "  BUILD   lib/sam/3s\n",
      "  CC      dwt.c\n",
      "  CC      gpio_common_all.c\n",
      "  BUILD   lib/sam/3u\n",
      "  CC      scb.c\n",
      "  CC      gpio_common_all.c\n",
      "  CC      gpio_common_3n3s.c\n",
      "  AR      libopencm3_ezr32wg.a\n",
      "  CC      gpio_common_3a3u3x.c\n",
      "  BUILD   lib/sam/3x\n",
      "  CC      pmc.c\n",
      "  CC      nvic.c\n",
      "  CC      gpio_common_all.c\n",
      "  CC      gpio_common_3a3u3x.c\n",
      "  CC      pmc.c\n",
      "  CC      pmc.c\n",
      "  CC      usart_common_all.c\n",
      "  CC      assert.c\n",
      "  CC      usart_common_all.c\n",
      "  CC      usart_common_3.c\n",
      "  CC      usart_common_all.c\n",
      "  CC      vector.c\n",
      "  CC      sync.c\n",
      "  CC      usart_common_3.c\n",
      "  CC      usart_common_3.c\n",
      "  CC      systick.c\n",
      "  CC      dwt.c\n",
      "  CC      vector.c\n",
      "  AR      libopencm3_sam3a.a\n",
      "  CC      scb.c\n",
      "  CC      vector.c\n",
      "  BUILD   lib/sam/4l\n",
      "  CC      systick.c\n",
      "  CC      nvic.c\n",
      "  CC      adcife.c\n",
      "  CC      systick.c\n",
      "  CC      scb.c\n",
      "  CC      scb.c\n",
      "  CC      gpio.c\n",
      "  CC      assert.c\n",
      "  CC      nvic.c\n",
      "  CC      nvic.c\n",
      "  CC      sync.c\n",
      "  CC      pm.c\n",
      "  CC      dwt.c\n",
      "  CC      assert.c\n",
      "  CC      scif.c\n",
      "  CC      assert.c\n",
      "  CC      sync.c\n",
      "  AR      libopencm3_sam3x.a\n",
      "  CC      usart_common_all.c\n",
      "  CC      sync.c\n",
      "  BUILD   lib/sam/d\n",
      "  CC      dwt.c\n",
      "  CC      vector.c\n",
      "  CC      usart.c\n",
      "  AR      libopencm3_sam3u.a\n",
      "  CC      dwt.c\n",
      "  CC      vector.c\n",
      "  BUILD   lib/vf6xx\n",
      "  CC      systick.c\n",
      "  CC      ccm.c\n",
      "  AR      libopencm3_sam3s.a\n",
      "  CC      scb.c\n",
      "  CC      systick.c\n",
      "  BUILD   lib/swm050\n",
      "  CC      clk.c\n",
      "  CC      nvic.c\n",
      "  CC      gpio.c\n",
      "  CC      scb.c\n",
      "  CC      assert.c\n",
      "  CC      nvic.c\n",
      "  CC      sync.c\n",
      "  CC      flash.c\n",
      "  CC      iomuxc.c\n",
      "  CC      gpio.c\n",
      "  CC      assert.c\n",
      "  CC      dwt.c\n",
      "  CC      uart.c\n",
      "  AR      libopencm3_samd.a\n",
      "  CC      pwr.c\n",
      "  CC      sync.c\n",
      "  CC      syscon.c\n",
      "  BUILD   lib/pac55xx\n",
      "  CC      gpio.c\n",
      "  CC      vector.c\n",
      "  CC      timer.c\n",
      "  CC      systick.c\n",
      "  CC      dwt.c\n",
      "  CC      scb.c\n",
      "  CC      nvic.c\n",
      "  CC      vector.c\n",
      "  CC      wdt.c\n",
      "  AR      libopencm3_sam4l.a\n",
      "  CC      vector.c\n",
      "  CC      systick.c\n",
      "  CC      assert.c\n",
      "  CC      systick.c\n",
      "  CC      scb.c\n",
      "  CC      nvic.c\n",
      "  CC      sync.c\n",
      "  CC      scb.c\n",
      "  CC      assert.c\n",
      "  CC      sync.c\n",
      "  CC      nvic.c\n",
      "  CC      dwt.c\n",
      "  CC      dwt.c\n",
      "  CC      assert.c\n",
      "  AR      libopencm3_vf6xx.a\n",
      "  CC      sync.c\n",
      "  AR      libopencm3_swm050.a\n",
      "  CC      dwt.c\n",
      "  AR      libopencm3_pac55xx.a\n",
      "make[1]: Leaving directory '/home/vagrant/work/projects/chipwhisperer/master/pqm4/libopencm3'\n",
      "  CC      elf/crypto_kem_kyber1024-90s_m4fspeed_test.elf\n",
      "  CC      elf/crypto_kem_kyber1024-90s_m4fspeed_speed.elf\n",
      "  CC      elf/crypto_kem_kyber1024-90s_m4fspeed_hashing.elf\n"
     ]
    },
    {
     "name": "stderr",
     "output_type": "stream",
     "text": [
      "In file included from mupq/crypto_kem/test.c:5:\n",
      "mupq/crypto_kem/../../../../hardware/victims/firmware/simpleserial/simpleserial.h:16:3: warning: #warning \"SS_VER undefined! Setting SS_VER=SS_VER_1_1\" [-Wcpp]\n",
      "  #warning \"SS_VER undefined! Setting SS_VER=SS_VER_1_1\"\n",
      "   ^~~~~~~\n"
     ]
    },
    {
     "name": "stdout",
     "output_type": "stream",
     "text": [
      "  CC      elf/crypto_kem_kyber1024-90s_m4fspeed_stack.elf\n"
     ]
    },
    {
     "name": "stderr",
     "output_type": "stream",
     "text": [
      "common/hal-opencm3.c: In function 'clock_setup':\n",
      "common/hal-opencm3.c:104:41: warning: unused parameter 'clock' [-Wunused-parameter]\n",
      " static void clock_setup(enum clock_mode clock)\n",
      "                         ~~~~~~~~~~~~~~~~^~~~~\n",
      "common/randombytes.c:38:2: warning: #warning Using a non-random randombytes [-Wcpp]\n",
      " #warning Using a non-random randombytes\n",
      "  ^~~~~~~\n",
      "common/hal-opencm3.c: In function 'clock_setup':\n",
      "common/hal-opencm3.c:104:41: warning: unused parameter 'clock' [-Wunused-parameter]\n",
      " static void clock_setup(enum clock_mode clock)\n",
      "                         ~~~~~~~~~~~~~~~~^~~~~\n",
      "common/hal-opencm3.c: In function 'clock_setup':\n",
      "common/hal-opencm3.c:104:41: warning: unused parameter 'clock' [-Wunused-parameter]\n",
      " static void clock_setup(enum clock_mode clock)\n",
      "                         ~~~~~~~~~~~~~~~~^~~~~\n",
      "common/randombytes.c:38:2: warning: #warning Using a non-random randombytes [-Wcpp]\n",
      " #warning Using a non-random randombytes\n",
      "  ^~~~~~~\n",
      "common/randombytes.c:38:2: warning: #warning Using a non-random randombytes [-Wcpp]\n",
      " #warning Using a non-random randombytes\n",
      "  ^~~~~~~\n",
      "common/hal-opencm3.c: In function 'clock_setup':\n",
      "common/hal-opencm3.c:104:41: warning: unused parameter 'clock' [-Wunused-parameter]\n",
      " static void clock_setup(enum clock_mode clock)\n",
      "                         ~~~~~~~~~~~~~~~~^~~~~\n",
      "common/randombytes.c:38:2: warning: #warning Using a non-random randombytes [-Wcpp]\n",
      " #warning Using a non-random randombytes\n",
      "  ^~~~~~~\n"
     ]
    },
    {
     "name": "stdout",
     "output_type": "stream",
     "text": [
      "  CC      elf/crypto_kem_kyber1024-90s_m4fspeed_testvectors.elf\n"
     ]
    },
    {
     "name": "stderr",
     "output_type": "stream",
     "text": [
      "common/hal-opencm3.c: In function 'clock_setup':\n"
     ]
    },
    {
     "name": "stdout",
     "output_type": "stream",
     "text": [
      "  CC      elf/crypto_kem_kyber1024-90s_m4fstack_test.elf\n"
     ]
    },
    {
     "name": "stderr",
     "output_type": "stream",
     "text": [
      "common/hal-opencm3.c:104:41: warning: unused parameter 'clock' [-Wunused-parameter]\n",
      " static void clock_setup(enum clock_mode clock)\n",
      "                         ~~~~~~~~~~~~~~~~^~~~~\n",
      "In file included from mupq/crypto_kem/test.c:5:\n",
      "mupq/crypto_kem/../../../../hardware/victims/firmware/simpleserial/simpleserial.h:16:3: warning: #warning \"SS_VER undefined! Setting SS_VER=SS_VER_1_1\" [-Wcpp]\n",
      "  #warning \"SS_VER undefined! Setting SS_VER=SS_VER_1_1\"\n",
      "   ^~~~~~~\n"
     ]
    },
    {
     "name": "stdout",
     "output_type": "stream",
     "text": [
      "  CC      elf/crypto_kem_kyber1024-90s_m4fstack_speed.elf\n"
     ]
    },
    {
     "name": "stderr",
     "output_type": "stream",
     "text": [
      "common/hal-opencm3.c: In function 'clock_setup':\n",
      "common/hal-opencm3.c:104:41: warning: unused parameter 'clock' [-Wunused-parameter]\n",
      " static void clock_setup(enum clock_mode clock)\n",
      "                         ~~~~~~~~~~~~~~~~^~~~~\n"
     ]
    },
    {
     "name": "stdout",
     "output_type": "stream",
     "text": [
      "  CC      elf/crypto_kem_kyber1024-90s_m4fstack_hashing.elf\n"
     ]
    },
    {
     "name": "stderr",
     "output_type": "stream",
     "text": [
      "common/hal-opencm3.c: In function 'clock_setup':\n",
      "common/hal-opencm3.c:104:41: warning: unused parameter 'clock' [-Wunused-parameter]\n",
      " static void clock_setup(enum clock_mode clock)\n",
      "                         ~~~~~~~~~~~~~~~~^~~~~\n",
      "common/randombytes.c:38:2: warning: #warning Using a non-random randombytes [-Wcpp]\n",
      " #warning Using a non-random randombytes\n",
      "  ^~~~~~~\n",
      "common/hal-opencm3.c: In function 'clock_setup':\n",
      "common/randombytes.c:38:2: warning: #warning Using a non-random randombytes [-Wcpp]\n",
      " #warning Using a non-random randombytes\n",
      "  ^~~~~~~\n",
      "common/hal-opencm3.c:104:41: warning: unused parameter 'clock' [-Wunused-parameter]\n",
      " static void clock_setup(enum clock_mode clock)\n",
      "                         ~~~~~~~~~~~~~~~~^~~~~\n",
      "common/randombytes.c:38:2: warning: #warning Using a non-random randombytes [-Wcpp]\n",
      " #warning Using a non-random randombytes\n",
      "  ^~~~~~~\n"
     ]
    },
    {
     "name": "stdout",
     "output_type": "stream",
     "text": [
      "  CC      elf/crypto_kem_kyber1024-90s_m4fstack_stack.elf\n"
     ]
    },
    {
     "name": "stderr",
     "output_type": "stream",
     "text": [
      "common/hal-opencm3.c: In function 'clock_setup':\n",
      "common/hal-opencm3.c:104:41: warning: unused parameter 'clock' [-Wunused-parameter]\n",
      " static void clock_setup(enum clock_mode clock)\n",
      "                         ~~~~~~~~~~~~~~~~^~~~~\n",
      "common/randombytes.c:38:2: warning: #warning Using a non-random randombytes [-Wcpp]\n",
      " #warning Using a non-random randombytes\n",
      "  ^~~~~~~\n"
     ]
    },
    {
     "name": "stdout",
     "output_type": "stream",
     "text": [
      "  CC      elf/crypto_kem_kyber1024-90s_m4fstack_testvectors.elf\n"
     ]
    },
    {
     "name": "stderr",
     "output_type": "stream",
     "text": [
      "common/hal-opencm3.c: In function 'clock_setup':\n",
      "common/hal-opencm3.c:104:41: warning: unused parameter 'clock' [-Wunused-parameter]\n",
      " static void clock_setup(enum clock_mode clock)\n",
      "                         ~~~~~~~~~~~~~~~~^~~~~\n"
     ]
    },
    {
     "name": "stdout",
     "output_type": "stream",
     "text": [
      "  CC      elf/crypto_kem_kyber512_m4fspeed_test.elf\n"
     ]
    },
    {
     "name": "stderr",
     "output_type": "stream",
     "text": [
      "In file included from mupq/crypto_kem/test.c:5:\n",
      "mupq/crypto_kem/../../../../hardware/victims/firmware/simpleserial/simpleserial.h:16:3: warning: #warning \"SS_VER undefined! Setting SS_VER=SS_VER_1_1\" [-Wcpp]\n",
      "  #warning \"SS_VER undefined! Setting SS_VER=SS_VER_1_1\"\n",
      "   ^~~~~~~\n"
     ]
    },
    {
     "name": "stdout",
     "output_type": "stream",
     "text": [
      "  CC      elf/crypto_kem_kyber512_m4fspeed_speed.elf\n"
     ]
    },
    {
     "name": "stderr",
     "output_type": "stream",
     "text": [
      "common/hal-opencm3.c: In function 'clock_setup':\n",
      "common/hal-opencm3.c:104:41: warning: unused parameter 'clock' [-Wunused-parameter]\n",
      " static void clock_setup(enum clock_mode clock)\n",
      "                         ~~~~~~~~~~~~~~~~^~~~~\n",
      "common/hal-opencm3.c: In function 'clock_setup':\n",
      "common/hal-opencm3.c:104:41: warning: unused parameter 'clock' [-Wunused-parameter]\n",
      " static void clock_setup(enum clock_mode clock)\n",
      "                         ~~~~~~~~~~~~~~~~^~~~~\n",
      "common/randombytes.c:38:2: warning: #warning Using a non-random randombytes [-Wcpp]\n",
      " #warning Using a non-random randombytes\n",
      "  ^~~~~~~\n",
      "common/randombytes.c:38:2: warning: #warning Using a non-random randombytes [-Wcpp]\n",
      " #warning Using a non-random randombytes\n",
      "  ^~~~~~~\n"
     ]
    },
    {
     "name": "stdout",
     "output_type": "stream",
     "text": [
      "  CC      elf/crypto_kem_kyber512_m4fspeed_hashing.elf\n"
     ]
    },
    {
     "name": "stderr",
     "output_type": "stream",
     "text": [
      "common/hal-opencm3.c: In function 'clock_setup':\n",
      "common/hal-opencm3.c:104:41: warning: unused parameter 'clock' [-Wunused-parameter]\n",
      " static void clock_setup(enum clock_mode clock)\n",
      "                         ~~~~~~~~~~~~~~~~^~~~~\n",
      "common/randombytes.c:38:2: warning: #warning Using a non-random randombytes [-Wcpp]\n",
      " #warning Using a non-random randombytes\n",
      "  ^~~~~~~\n"
     ]
    },
    {
     "name": "stdout",
     "output_type": "stream",
     "text": [
      "  CC      elf/crypto_kem_kyber512_m4fspeed_stack.elf\n",
      "  CC      elf/crypto_kem_kyber512_m4fspeed_testvectors.elf\n"
     ]
    },
    {
     "name": "stderr",
     "output_type": "stream",
     "text": [
      "common/hal-opencm3.c: In function 'clock_setup':\n",
      "common/hal-opencm3.c:104:41: warning: unused parameter 'clock' [-Wunused-parameter]\n",
      " static void clock_setup(enum clock_mode clock)\n",
      "                         ~~~~~~~~~~~~~~~~^~~~~\n",
      "common/hal-opencm3.c: In function 'clock_setup':\n",
      "common/hal-opencm3.c:104:41: warning: unused parameter 'clock' [-Wunused-parameter]\n",
      " static void clock_setup(enum clock_mode clock)\n",
      "                         ~~~~~~~~~~~~~~~~^~~~~\n",
      "common/randombytes.c:38:2: warning: #warning Using a non-random randombytes [-Wcpp]\n",
      " #warning Using a non-random randombytes\n",
      "  ^~~~~~~\n"
     ]
    },
    {
     "name": "stdout",
     "output_type": "stream",
     "text": [
      "  CC      elf/crypto_kem_kyber512_m4fstack_test.elf\n"
     ]
    },
    {
     "name": "stderr",
     "output_type": "stream",
     "text": [
      "In file included from mupq/crypto_kem/test.c:5:\n",
      "mupq/crypto_kem/../../../../hardware/victims/firmware/simpleserial/simpleserial.h:16:3: warning: #warning \"SS_VER undefined! Setting SS_VER=SS_VER_1_1\" [-Wcpp]\n",
      "  #warning \"SS_VER undefined! Setting SS_VER=SS_VER_1_1\"\n",
      "   ^~~~~~~\n",
      "common/hal-opencm3.c: In function 'clock_setup':\n",
      "common/hal-opencm3.c:104:41: warning: unused parameter 'clock' [-Wunused-parameter]\n",
      " static void clock_setup(enum clock_mode clock)\n",
      "                         ~~~~~~~~~~~~~~~~^~~~~\n",
      "common/randombytes.c:38:2: warning: #warning Using a non-random randombytes [-Wcpp]\n",
      " #warning Using a non-random randombytes\n",
      "  ^~~~~~~\n"
     ]
    },
    {
     "name": "stdout",
     "output_type": "stream",
     "text": [
      "  CC      elf/crypto_kem_kyber512_m4fstack_speed.elf\n",
      "  CC      elf/crypto_kem_kyber512_m4fstack_hashing.elf\n"
     ]
    },
    {
     "name": "stderr",
     "output_type": "stream",
     "text": [
      "common/hal-opencm3.c: In function 'clock_setup':\n",
      "common/hal-opencm3.c:104:41: warning: unused parameter 'clock' [-Wunused-parameter]\n",
      " static void clock_setup(enum clock_mode clock)\n",
      "                         ~~~~~~~~~~~~~~~~^~~~~\n",
      "common/hal-opencm3.c: In function 'clock_setup':\n",
      "common/hal-opencm3.c:104:41: warning: unused parameter 'clock' [-Wunused-parameter]\n",
      " static void clock_setup(enum clock_mode clock)\n",
      "                         ~~~~~~~~~~~~~~~~^~~~~\n",
      "common/randombytes.c:38:2: warning: #warning Using a non-random randombytes [-Wcpp]\n",
      " #warning Using a non-random randombytes\n",
      "  ^~~~~~~\n",
      "common/randombytes.c:38:2: warning: #warning Using a non-random randombytes [-Wcpp]\n",
      " #warning Using a non-random randombytes\n",
      "  ^~~~~~~\n"
     ]
    },
    {
     "name": "stdout",
     "output_type": "stream",
     "text": [
      "  CC      elf/crypto_kem_kyber512_m4fstack_stack.elf\n"
     ]
    },
    {
     "name": "stderr",
     "output_type": "stream",
     "text": [
      "common/hal-opencm3.c: In function 'clock_setup':\n",
      "common/hal-opencm3.c:104:41: warning: unused parameter 'clock' [-Wunused-parameter]\n",
      " static void clock_setup(enum clock_mode clock)\n",
      "                         ~~~~~~~~~~~~~~~~^~~~~\n",
      "common/randombytes.c:38:2: warning: #warning Using a non-random randombytes [-Wcpp]\n",
      " #warning Using a non-random randombytes\n",
      "  ^~~~~~~\n"
     ]
    },
    {
     "name": "stdout",
     "output_type": "stream",
     "text": [
      "  CC      elf/crypto_kem_kyber512_m4fstack_testvectors.elf\n"
     ]
    },
    {
     "name": "stderr",
     "output_type": "stream",
     "text": [
      "common/hal-opencm3.c: In function 'clock_setup':\n",
      "common/hal-opencm3.c:104:41: warning: unused parameter 'clock' [-Wunused-parameter]\n",
      " static void clock_setup(enum clock_mode clock)\n",
      "                         ~~~~~~~~~~~~~~~~^~~~~\n"
     ]
    },
    {
     "name": "stdout",
     "output_type": "stream",
     "text": [
      "  CC      elf/crypto_kem_bikel3_m4f_test.elf\n"
     ]
    },
    {
     "name": "stderr",
     "output_type": "stream",
     "text": [
      "In file included from mupq/crypto_kem/test.c:5:\n",
      "mupq/crypto_kem/../../../../hardware/victims/firmware/simpleserial/simpleserial.h:16:3: warning: #warning \"SS_VER undefined! Setting SS_VER=SS_VER_1_1\" [-Wcpp]\n",
      "  #warning \"SS_VER undefined! Setting SS_VER=SS_VER_1_1\"\n",
      "   ^~~~~~~\n",
      "mupq/crypto_kem/test.c: In function 'test_keys':\n",
      "mupq/crypto_kem/test.c:23:43: warning: implicit declaration of function 'crypto_kem_keypair'; did you mean 'MUPQ_crypto_kem_keypair'? [-Wimplicit-function-declaration]\n",
      " #define MUPQ_crypto_kem_keypair NAMESPACE(crypto_kem_keypair)\n",
      "                                           ^~~~~~~~~~~~~~~~~~\n",
      "mupq/crypto_kem/test.c:12:25: note: in definition of macro 'PASTER'\n",
      " #define PASTER(x, y) x##y\n",
      "                         ^\n",
      "mupq/crypto_kem/test.c:14:24: note: in expansion of macro 'EVALUATOR'\n",
      " #define NAMESPACE(fun) EVALUATOR(MUPQ_NAMESPACE, fun)\n",
      "                        ^~~~~~~~~\n",
      "mupq/crypto_kem/test.c:23:33: note: in expansion of macro 'NAMESPACE'\n",
      " #define MUPQ_crypto_kem_keypair NAMESPACE(crypto_kem_keypair)\n",
      "                                 ^~~~~~~~~\n",
      "mupq/crypto_kem/test.c:68:5: note: in expansion of macro 'MUPQ_crypto_kem_keypair'\n",
      "     MUPQ_crypto_kem_keypair(pk+8, sk_a+8);\n",
      "     ^~~~~~~~~~~~~~~~~~~~~~~\n",
      "mupq/crypto_kem/test.c:24:39: warning: implicit declaration of function 'crypto_kem_enc'; did you mean 'MUPQ_crypto_kem_enc'? [-Wimplicit-function-declaration]\n",
      " #define MUPQ_crypto_kem_enc NAMESPACE(crypto_kem_enc)\n",
      "                                       ^~~~~~~~~~~~~~\n",
      "mupq/crypto_kem/test.c:12:25: note: in definition of macro 'PASTER'\n",
      " #define PASTER(x, y) x##y\n",
      "                         ^\n",
      "mupq/crypto_kem/test.c:14:24: note: in expansion of macro 'EVALUATOR'\n",
      " #define NAMESPACE(fun) EVALUATOR(MUPQ_NAMESPACE, fun)\n",
      "                        ^~~~~~~~~\n",
      "mupq/crypto_kem/test.c:24:29: note: in expansion of macro 'NAMESPACE'\n",
      " #define MUPQ_crypto_kem_enc NAMESPACE(crypto_kem_enc)\n",
      "                             ^~~~~~~~~\n",
      "mupq/crypto_kem/test.c:72:5: note: in expansion of macro 'MUPQ_crypto_kem_enc'\n",
      "     MUPQ_crypto_kem_enc(sendb+8, key_b+8, pk+8);\n",
      "     ^~~~~~~~~~~~~~~~~~~\n",
      "mupq/crypto_kem/test.c:25:39: warning: implicit declaration of function 'crypto_kem_dec'; did you mean 'MUPQ_crypto_kem_dec'? [-Wimplicit-function-declaration]\n",
      " #define MUPQ_crypto_kem_dec NAMESPACE(crypto_kem_dec)\n",
      "                                       ^~~~~~~~~~~~~~\n",
      "mupq/crypto_kem/test.c:12:25: note: in definition of macro 'PASTER'\n",
      " #define PASTER(x, y) x##y\n",
      "                         ^\n",
      "mupq/crypto_kem/test.c:14:24: note: in expansion of macro 'EVALUATOR'\n",
      " #define NAMESPACE(fun) EVALUATOR(MUPQ_NAMESPACE, fun)\n",
      "                        ^~~~~~~~~\n",
      "mupq/crypto_kem/test.c:25:29: note: in expansion of macro 'NAMESPACE'\n",
      " #define MUPQ_crypto_kem_dec NAMESPACE(crypto_kem_dec)\n",
      "                             ^~~~~~~~~\n",
      "mupq/crypto_kem/test.c:76:5: note: in expansion of macro 'MUPQ_crypto_kem_dec'\n",
      "     MUPQ_crypto_kem_dec(key_a+8, sendb+8, sk_a+8);\n",
      "     ^~~~~~~~~~~~~~~~~~~\n",
      "common/hal-opencm3.c: In function 'clock_setup':\n",
      "common/hal-opencm3.c:104:41: warning: unused parameter 'clock' [-Wunused-parameter]\n",
      " static void clock_setup(enum clock_mode clock)\n",
      "                         ~~~~~~~~~~~~~~~~^~~~~\n"
     ]
    },
    {
     "name": "stdout",
     "output_type": "stream",
     "text": [
      "  CC      elf/crypto_kem_bikel3_m4f_speed.elf\n"
     ]
    },
    {
     "name": "stderr",
     "output_type": "stream",
     "text": [
      "common/randombytes.c:38:2: warning: #warning Using a non-random randombytes [-Wcpp]\n",
      " #warning Using a non-random randombytes\n",
      "  ^~~~~~~\n",
      "mupq/crypto_kem/speed.c: In function 'main':\n",
      "mupq/crypto_kem/speed.c:20:43: warning: implicit declaration of function 'crypto_kem_keypair'; did you mean 'MUPQ_crypto_kem_keypair'? [-Wimplicit-function-declaration]\n",
      " #define MUPQ_crypto_kem_keypair NAMESPACE(crypto_kem_keypair)\n",
      "                                           ^~~~~~~~~~~~~~~~~~\n",
      "mupq/crypto_kem/speed.c:9:25: note: in definition of macro 'PASTER'\n",
      " #define PASTER(x, y) x##y\n",
      "                         ^\n",
      "mupq/crypto_kem/speed.c:11:24: note: in expansion of macro 'EVALUATOR'\n",
      " #define NAMESPACE(fun) EVALUATOR(MUPQ_NAMESPACE, fun)\n",
      "                        ^~~~~~~~~\n",
      "mupq/crypto_kem/speed.c:20:33: note: in expansion of macro 'NAMESPACE'\n",
      " #define MUPQ_crypto_kem_keypair NAMESPACE(crypto_kem_keypair)\n",
      "                                 ^~~~~~~~~\n",
      "mupq/crypto_kem/speed.c:43:5: note: in expansion of macro 'MUPQ_crypto_kem_keypair'\n",
      "     MUPQ_crypto_kem_keypair(pk, sk);\n",
      "     ^~~~~~~~~~~~~~~~~~~~~~~\n",
      "mupq/crypto_kem/speed.c:21:39: warning: implicit declaration of function 'crypto_kem_enc'; did you mean 'MUPQ_crypto_kem_enc'? [-Wimplicit-function-declaration]\n",
      " #define MUPQ_crypto_kem_enc NAMESPACE(crypto_kem_enc)\n",
      "                                       ^~~~~~~~~~~~~~\n",
      "mupq/crypto_kem/speed.c:9:25: note: in definition of macro 'PASTER'\n",
      " #define PASTER(x, y) x##y\n",
      "                         ^\n",
      "mupq/crypto_kem/speed.c:11:24: note: in expansion of macro 'EVALUATOR'\n",
      " #define NAMESPACE(fun) EVALUATOR(MUPQ_NAMESPACE, fun)\n",
      "                        ^~~~~~~~~\n",
      "mupq/crypto_kem/speed.c:21:29: note: in expansion of macro 'NAMESPACE'\n",
      " #define MUPQ_crypto_kem_enc NAMESPACE(crypto_kem_enc)\n",
      "                             ^~~~~~~~~\n",
      "mupq/crypto_kem/speed.c:49:5: note: in expansion of macro 'MUPQ_crypto_kem_enc'\n",
      "     MUPQ_crypto_kem_enc(ct, key_a, pk);\n",
      "     ^~~~~~~~~~~~~~~~~~~\n",
      "mupq/crypto_kem/speed.c:22:39: warning: implicit declaration of function 'crypto_kem_dec'; did you mean 'MUPQ_crypto_kem_dec'? [-Wimplicit-function-declaration]\n",
      " #define MUPQ_crypto_kem_dec NAMESPACE(crypto_kem_dec)\n",
      "                                       ^~~~~~~~~~~~~~\n",
      "mupq/crypto_kem/speed.c:9:25: note: in definition of macro 'PASTER'\n",
      " #define PASTER(x, y) x##y\n",
      "                         ^\n",
      "mupq/crypto_kem/speed.c:11:24: note: in expansion of macro 'EVALUATOR'\n",
      " #define NAMESPACE(fun) EVALUATOR(MUPQ_NAMESPACE, fun)\n",
      "                        ^~~~~~~~~\n",
      "mupq/crypto_kem/speed.c:22:29: note: in expansion of macro 'NAMESPACE'\n",
      " #define MUPQ_crypto_kem_dec NAMESPACE(crypto_kem_dec)\n",
      "                             ^~~~~~~~~\n",
      "mupq/crypto_kem/speed.c:55:5: note: in expansion of macro 'MUPQ_crypto_kem_dec'\n",
      "     MUPQ_crypto_kem_dec(key_b, ct, sk);\n",
      "     ^~~~~~~~~~~~~~~~~~~\n",
      "common/hal-opencm3.c: In function 'clock_setup':\n",
      "common/hal-opencm3.c:104:41: warning: unused parameter 'clock' [-Wunused-parameter]\n",
      " static void clock_setup(enum clock_mode clock)\n",
      "                         ~~~~~~~~~~~~~~~~^~~~~\n",
      "common/randombytes.c:38:2: warning: #warning Using a non-random randombytes [-Wcpp]\n",
      " #warning Using a non-random randombytes\n",
      "  ^~~~~~~\n"
     ]
    },
    {
     "name": "stdout",
     "output_type": "stream",
     "text": [
      "  CC      elf/crypto_kem_bikel3_m4f_hashing.elf\n"
     ]
    },
    {
     "name": "stderr",
     "output_type": "stream",
     "text": [
      "mupq/crypto_kem/hashing.c: In function 'main':\n",
      "mupq/crypto_kem/hashing.c:20:43: warning: implicit declaration of function 'crypto_kem_keypair'; did you mean 'MUPQ_crypto_kem_keypair'? [-Wimplicit-function-declaration]\n",
      " #define MUPQ_crypto_kem_keypair NAMESPACE(crypto_kem_keypair)\n",
      "                                           ^~~~~~~~~~~~~~~~~~\n",
      "mupq/crypto_kem/hashing.c:9:25: note: in definition of macro 'PASTER'\n",
      " #define PASTER(x, y) x##y\n",
      "                         ^\n",
      "mupq/crypto_kem/hashing.c:11:24: note: in expansion of macro 'EVALUATOR'\n",
      " #define NAMESPACE(fun) EVALUATOR(MUPQ_NAMESPACE, fun)\n",
      "                        ^~~~~~~~~\n",
      "mupq/crypto_kem/hashing.c:20:33: note: in expansion of macro 'NAMESPACE'\n",
      " #define MUPQ_crypto_kem_keypair NAMESPACE(crypto_kem_keypair)\n",
      "                                 ^~~~~~~~~\n",
      "mupq/crypto_kem/hashing.c:46:5: note: in expansion of macro 'MUPQ_crypto_kem_keypair'\n",
      "     MUPQ_crypto_kem_keypair(pk, sk);\n",
      "     ^~~~~~~~~~~~~~~~~~~~~~~\n",
      "mupq/crypto_kem/hashing.c:21:39: warning: implicit declaration of function 'crypto_kem_enc'; did you mean 'MUPQ_crypto_kem_enc'? [-Wimplicit-function-declaration]\n",
      " #define MUPQ_crypto_kem_enc NAMESPACE(crypto_kem_enc)\n",
      "                                       ^~~~~~~~~~~~~~\n",
      "mupq/crypto_kem/hashing.c:9:25: note: in definition of macro 'PASTER'\n",
      " #define PASTER(x, y) x##y\n",
      "                         ^\n",
      "mupq/crypto_kem/hashing.c:11:24: note: in expansion of macro 'EVALUATOR'\n",
      " #define NAMESPACE(fun) EVALUATOR(MUPQ_NAMESPACE, fun)\n",
      "                        ^~~~~~~~~\n",
      "mupq/crypto_kem/hashing.c:21:29: note: in expansion of macro 'NAMESPACE'\n",
      " #define MUPQ_crypto_kem_enc NAMESPACE(crypto_kem_enc)\n",
      "                             ^~~~~~~~~\n",
      "mupq/crypto_kem/hashing.c:54:5: note: in expansion of macro 'MUPQ_crypto_kem_enc'\n",
      "     MUPQ_crypto_kem_enc(ct, key_a, pk);\n",
      "     ^~~~~~~~~~~~~~~~~~~\n",
      "mupq/crypto_kem/hashing.c:22:39: warning: implicit declaration of function 'crypto_kem_dec'; did you mean 'MUPQ_crypto_kem_dec'? [-Wimplicit-function-declaration]\n",
      " #define MUPQ_crypto_kem_dec NAMESPACE(crypto_kem_dec)\n",
      "                                       ^~~~~~~~~~~~~~\n",
      "mupq/crypto_kem/hashing.c:9:25: note: in definition of macro 'PASTER'\n",
      " #define PASTER(x, y) x##y\n",
      "                         ^\n",
      "mupq/crypto_kem/hashing.c:11:24: note: in expansion of macro 'EVALUATOR'\n",
      " #define NAMESPACE(fun) EVALUATOR(MUPQ_NAMESPACE, fun)\n",
      "                        ^~~~~~~~~\n",
      "mupq/crypto_kem/hashing.c:22:29: note: in expansion of macro 'NAMESPACE'\n",
      " #define MUPQ_crypto_kem_dec NAMESPACE(crypto_kem_dec)\n",
      "                             ^~~~~~~~~\n",
      "mupq/crypto_kem/hashing.c:62:5: note: in expansion of macro 'MUPQ_crypto_kem_dec'\n",
      "     MUPQ_crypto_kem_dec(key_b, ct, sk);\n",
      "     ^~~~~~~~~~~~~~~~~~~\n",
      "common/hal-opencm3.c: In function 'clock_setup':\n",
      "common/hal-opencm3.c:104:41: warning: unused parameter 'clock' [-Wunused-parameter]\n",
      " static void clock_setup(enum clock_mode clock)\n",
      "                         ~~~~~~~~~~~~~~~~^~~~~\n",
      "common/randombytes.c:38:2: warning: #warning Using a non-random randombytes [-Wcpp]\n",
      " #warning Using a non-random randombytes\n",
      "  ^~~~~~~\n"
     ]
    },
    {
     "name": "stdout",
     "output_type": "stream",
     "text": [
      "  CC      elf/crypto_kem_bikel3_m4f_stack.elf\n"
     ]
    },
    {
     "name": "stderr",
     "output_type": "stream",
     "text": [
      "mupq/crypto_kem/stack.c: In function 'test_keys':\n",
      "mupq/crypto_kem/stack.c:28:43: warning: implicit declaration of function 'crypto_kem_keypair'; did you mean 'MUPQ_crypto_kem_keypair'? [-Wimplicit-function-declaration]\n",
      " #define MUPQ_crypto_kem_keypair NAMESPACE(crypto_kem_keypair)\n",
      "                                           ^~~~~~~~~~~~~~~~~~\n",
      "mupq/crypto_kem/stack.c:17:25: note: in definition of macro 'PASTER'\n",
      " #define PASTER(x, y) x##y\n",
      "                         ^\n",
      "mupq/crypto_kem/stack.c:19:24: note: in expansion of macro 'EVALUATOR'\n",
      " #define NAMESPACE(fun) EVALUATOR(MUPQ_NAMESPACE, fun)\n",
      "                        ^~~~~~~~~\n",
      "mupq/crypto_kem/stack.c:28:33: note: in expansion of macro 'NAMESPACE'\n",
      " #define MUPQ_crypto_kem_keypair NAMESPACE(crypto_kem_keypair)\n",
      "                                 ^~~~~~~~~\n",
      "mupq/crypto_kem/stack.c:61:3: note: in expansion of macro 'MUPQ_crypto_kem_keypair'\n",
      "   MUPQ_crypto_kem_keypair(pk, sk_a);\n",
      "   ^~~~~~~~~~~~~~~~~~~~~~~\n",
      "mupq/crypto_kem/stack.c:29:39: warning: implicit declaration of function 'crypto_kem_enc'; did you mean 'MUPQ_crypto_kem_enc'? [-Wimplicit-function-declaration]\n",
      " #define MUPQ_crypto_kem_enc NAMESPACE(crypto_kem_enc)\n",
      "                                       ^~~~~~~~~~~~~~\n",
      "mupq/crypto_kem/stack.c:17:25: note: in definition of macro 'PASTER'\n",
      " #define PASTER(x, y) x##y\n",
      "                         ^\n",
      "mupq/crypto_kem/stack.c:19:24: note: in expansion of macro 'EVALUATOR'\n",
      " #define NAMESPACE(fun) EVALUATOR(MUPQ_NAMESPACE, fun)\n",
      "                        ^~~~~~~~~\n",
      "mupq/crypto_kem/stack.c:29:29: note: in expansion of macro 'NAMESPACE'\n",
      " #define MUPQ_crypto_kem_enc NAMESPACE(crypto_kem_enc)\n",
      "                             ^~~~~~~~~\n",
      "mupq/crypto_kem/stack.c:68:3: note: in expansion of macro 'MUPQ_crypto_kem_enc'\n",
      "   MUPQ_crypto_kem_enc(sendb, key_b, pk);\n",
      "   ^~~~~~~~~~~~~~~~~~~\n",
      "mupq/crypto_kem/stack.c:30:39: warning: implicit declaration of function 'crypto_kem_dec'; did you mean 'MUPQ_crypto_kem_dec'? [-Wimplicit-function-declaration]\n",
      " #define MUPQ_crypto_kem_dec NAMESPACE(crypto_kem_dec)\n",
      "                                       ^~~~~~~~~~~~~~\n",
      "mupq/crypto_kem/stack.c:17:25: note: in definition of macro 'PASTER'\n",
      " #define PASTER(x, y) x##y\n",
      "                         ^\n",
      "mupq/crypto_kem/stack.c:19:24: note: in expansion of macro 'EVALUATOR'\n",
      " #define NAMESPACE(fun) EVALUATOR(MUPQ_NAMESPACE, fun)\n",
      "                        ^~~~~~~~~\n",
      "mupq/crypto_kem/stack.c:30:29: note: in expansion of macro 'NAMESPACE'\n",
      " #define MUPQ_crypto_kem_dec NAMESPACE(crypto_kem_dec)\n",
      "                             ^~~~~~~~~\n",
      "mupq/crypto_kem/stack.c:75:3: note: in expansion of macro 'MUPQ_crypto_kem_dec'\n",
      "   MUPQ_crypto_kem_dec(key_a, sendb, sk_a);\n",
      "   ^~~~~~~~~~~~~~~~~~~\n",
      "common/hal-opencm3.c: In function 'clock_setup':\n",
      "common/hal-opencm3.c:104:41: warning: unused parameter 'clock' [-Wunused-parameter]\n",
      " static void clock_setup(enum clock_mode clock)\n",
      "                         ~~~~~~~~~~~~~~~~^~~~~\n",
      "common/randombytes.c:38:2: warning: #warning Using a non-random randombytes [-Wcpp]\n",
      " #warning Using a non-random randombytes\n",
      "  ^~~~~~~\n",
      "crypto_kem/bikel3/m4f/encode.c: In function 'encode_to_gft':\n",
      "crypto_kem/bikel3/m4f/encode.c:12:65: warning: unused variable 'f25' [-Wunused-variable]\n",
      " uint32_t f12,f13,f14,f15, f16,f17,f18,f19, f20,f21,f22,f23, f24,f25,f26,f27, f28,f29,f30,f31;\n",
      "                                                                 ^~~\n",
      "crypto_kem/bikel3/m4f/encode.c:12:48: warning: unused variable 'f21' [-Wunused-variable]\n",
      " uint32_t f12,f13,f14,f15, f16,f17,f18,f19, f20,f21,f22,f23, f24,f25,f26,f27, f28,f29,f30,f31;\n",
      "                                                ^~~\n",
      "crypto_kem/bikel3/m4f/encode.c:12:14: warning: unused variable 'f13' [-Wunused-variable]\n",
      " uint32_t f12,f13,f14,f15, f16,f17,f18,f19, f20,f21,f22,f23, f24,f25,f26,f27, f28,f29,f30,f31;\n",
      "              ^~~\n",
      "crypto_kem/bikel3/m4f/encode.c:11:19: warning: unused variable 'f3' [-Wunused-variable]\n",
      " uint32_t f0,f1,f2,f3, f4,f5,f6,f7, f8,f9,f10,f11;\n",
      "                   ^~\n",
      "crypto_kem/bikel3/m4f/gf2x_inv.c: In function 'repeated_squaring':\n",
      "crypto_kem/bikel3/m4f/gf2x_inv.c:28:50: warning: unused parameter 'sec_buf' [-Wunused-parameter]\n",
      "                                 OUT dbl_pad_r_t *sec_buf)\n",
      "                                     ~~~~~~~~~~~~~^~~~~~~\n",
      "crypto_kem/bikel3/m4f/gf2x_inv.c: In function 'gf2x_mod_inv':\n",
      "crypto_kem/bikel3/m4f/gf2x_inv.c:153:16: warning: unused variable 'exp1_l' [-Wunused-variable]\n",
      "   const size_t exp1_l[MAX_I] = {EXP1_L_VALS};\n",
      "                ^~~~~~\n",
      "crypto_kem/bikel3/m4f/encode.c: In function 'encode_to_gft':\n",
      "crypto_kem/bikel3/m4f/encode.c:12:65: warning: unused variable 'f25' [-Wunused-variable]\n",
      " uint32_t f12,f13,f14,f15, f16,f17,f18,f19, f20,f21,f22,f23, f24,f25,f26,f27, f28,f29,f30,f31;\n",
      "                                                                 ^~~\n",
      "crypto_kem/bikel3/m4f/encode.c:12:48: warning: unused variable 'f21' [-Wunused-variable]\n",
      " uint32_t f12,f13,f14,f15, f16,f17,f18,f19, f20,f21,f22,f23, f24,f25,f26,f27, f28,f29,f30,f31;\n",
      "                                                ^~~\n",
      "crypto_kem/bikel3/m4f/encode.c:12:14: warning: unused variable 'f13' [-Wunused-variable]\n",
      " uint32_t f12,f13,f14,f15, f16,f17,f18,f19, f20,f21,f22,f23, f24,f25,f26,f27, f28,f29,f30,f31;\n",
      "              ^~~\n",
      "crypto_kem/bikel3/m4f/encode.c:11:19: warning: unused variable 'f3' [-Wunused-variable]\n",
      " uint32_t f0,f1,f2,f3, f4,f5,f6,f7, f8,f9,f10,f11;\n",
      "                   ^~\n",
      "crypto_kem/bikel3/m4f/gf2x_inv.c: In function 'repeated_squaring':\n",
      "crypto_kem/bikel3/m4f/gf2x_inv.c:28:50: warning: unused parameter 'sec_buf' [-Wunused-parameter]\n",
      "                                 OUT dbl_pad_r_t *sec_buf)\n",
      "                                     ~~~~~~~~~~~~~^~~~~~~\n",
      "crypto_kem/bikel3/m4f/gf2x_inv.c: In function 'gf2x_mod_inv':\n",
      "crypto_kem/bikel3/m4f/gf2x_inv.c:153:16: warning: unused variable 'exp1_l' [-Wunused-variable]\n",
      "   const size_t exp1_l[MAX_I] = {EXP1_L_VALS};\n",
      "                ^~~~~~\n",
      "crypto_kem/bikel3/m4f/rotr_cshift_24659.c: In function 'cshift':\n",
      "crypto_kem/bikel3/m4f/rotr_cshift_24659.c:12:39: warning: implicit declaration of function 'cshift_asm'; did you mean 'cshift'? [-Wimplicit-function-declaration]\n",
      " void cshift(uint32_t *array, int s) { cshift_asm(array,s); }\n",
      "                                       ^~~~~~~~~~\n",
      "                                       cshift\n",
      "crypto_kem/bikel3/m4f/rotr_cshift_24659.c: In function 'cshift_small':\n",
      "crypto_kem/bikel3/m4f/rotr_cshift_24659.c:719:3: warning: implicit declaration of function 'shiftright_small_umlal'; did you mean 'shiftright_small_umlal_C'? [-Wimplicit-function-declaration]\n",
      "   shiftright_small_umlal(array1, s, (r+31)/32);\n",
      "   ^~~~~~~~~~~~~~~~~~~~~~\n",
      "   shiftright_small_umlal_C\n",
      "crypto_kem/bikel3/m4f/rotr_cshift_24659.c: In function 'cshift':\n",
      "crypto_kem/bikel3/m4f/rotr_cshift_24659.c:12:39: warning: implicit declaration of function 'cshift_asm'; did you mean 'cshift'? [-Wimplicit-function-declaration]\n",
      " void cshift(uint32_t *array, int s) { cshift_asm(array,s); }\n",
      "                                       ^~~~~~~~~~\n",
      "                                       cshift\n",
      "crypto_kem/bikel3/m4f/rotr_cshift_24659.c: In function 'cshift_small':\n",
      "crypto_kem/bikel3/m4f/rotr_cshift_24659.c:719:3: warning: implicit declaration of function 'shiftright_small_umlal'; did you mean 'shiftright_small_umlal_C'? [-Wimplicit-function-declaration]\n",
      "   shiftright_small_umlal(array1, s, (r+31)/32);\n",
      "   ^~~~~~~~~~~~~~~~~~~~~~\n",
      "   shiftright_small_umlal_C\n",
      "crypto_kem/bikel3/m4f/encode.c: In function 'encode_to_gft':\n",
      "crypto_kem/bikel3/m4f/encode.c:12:65: warning: unused variable 'f25' [-Wunused-variable]\n",
      " uint32_t f12,f13,f14,f15, f16,f17,f18,f19, f20,f21,f22,f23, f24,f25,f26,f27, f28,f29,f30,f31;\n",
      "                                                                 ^~~\n",
      "crypto_kem/bikel3/m4f/encode.c:12:48: warning: unused variable 'f21' [-Wunused-variable]\n",
      " uint32_t f12,f13,f14,f15, f16,f17,f18,f19, f20,f21,f22,f23, f24,f25,f26,f27, f28,f29,f30,f31;\n",
      "                                                ^~~\n",
      "crypto_kem/bikel3/m4f/encode.c:12:14: warning: unused variable 'f13' [-Wunused-variable]\n",
      " uint32_t f12,f13,f14,f15, f16,f17,f18,f19, f20,f21,f22,f23, f24,f25,f26,f27, f28,f29,f30,f31;\n",
      "              ^~~\n",
      "crypto_kem/bikel3/m4f/encode.c:11:19: warning: unused variable 'f3' [-Wunused-variable]\n"
     ]
    },
    {
     "name": "stderr",
     "output_type": "stream",
     "text": [
      " uint32_t f0,f1,f2,f3, f4,f5,f6,f7, f8,f9,f10,f11;\n",
      "                   ^~\n"
     ]
    },
    {
     "name": "stdout",
     "output_type": "stream",
     "text": [
      "  CC      elf/crypto_kem_bikel3_m4f_testvectors.elf\n"
     ]
    },
    {
     "name": "stderr",
     "output_type": "stream",
     "text": [
      "crypto_kem/bikel3/m4f/gf2x_inv.c: In function 'repeated_squaring':\n",
      "crypto_kem/bikel3/m4f/gf2x_inv.c:28:50: warning: unused parameter 'sec_buf' [-Wunused-parameter]\n",
      "                                 OUT dbl_pad_r_t *sec_buf)\n",
      "                                     ~~~~~~~~~~~~~^~~~~~~\n",
      "crypto_kem/bikel3/m4f/gf2x_inv.c: In function 'gf2x_mod_inv':\n",
      "crypto_kem/bikel3/m4f/gf2x_inv.c:153:16: warning: unused variable 'exp1_l' [-Wunused-variable]\n",
      "   const size_t exp1_l[MAX_I] = {EXP1_L_VALS};\n",
      "                ^~~~~~\n",
      "mupq/crypto_kem/testvectors.c: In function 'main':\n",
      "mupq/crypto_kem/testvectors.c:25:43: warning: implicit declaration of function 'crypto_kem_keypair'; did you mean 'MUPQ_crypto_kem_keypair'? [-Wimplicit-function-declaration]\n",
      " #define MUPQ_crypto_kem_keypair NAMESPACE(crypto_kem_keypair)\n",
      "                                           ^~~~~~~~~~~~~~~~~~\n",
      "mupq/crypto_kem/testvectors.c:14:25: note: in definition of macro 'PASTER'\n",
      " #define PASTER(x, y) x##y\n",
      "                         ^\n",
      "mupq/crypto_kem/testvectors.c:16:24: note: in expansion of macro 'EVALUATOR'\n",
      " #define NAMESPACE(fun) EVALUATOR(MUPQ_NAMESPACE, fun)\n",
      "                        ^~~~~~~~~\n",
      "mupq/crypto_kem/testvectors.c:25:33: note: in expansion of macro 'NAMESPACE'\n",
      " #define MUPQ_crypto_kem_keypair NAMESPACE(crypto_kem_keypair)\n",
      "                                 ^~~~~~~~~\n",
      "mupq/crypto_kem/testvectors.c:100:5: note: in expansion of macro 'MUPQ_crypto_kem_keypair'\n",
      "     MUPQ_crypto_kem_keypair(pk, sk_a);\n",
      "     ^~~~~~~~~~~~~~~~~~~~~~~\n",
      "mupq/crypto_kem/testvectors.c:26:39: warning: implicit declaration of function 'crypto_kem_enc'; did you mean 'MUPQ_crypto_kem_enc'? [-Wimplicit-function-declaration]\n",
      " #define MUPQ_crypto_kem_enc NAMESPACE(crypto_kem_enc)\n",
      "                                       ^~~~~~~~~~~~~~\n",
      "mupq/crypto_kem/testvectors.c:14:25: note: in definition of macro 'PASTER'\n",
      " #define PASTER(x, y) x##y\n",
      "                         ^\n",
      "mupq/crypto_kem/testvectors.c:16:24: note: in expansion of macro 'EVALUATOR'\n",
      " #define NAMESPACE(fun) EVALUATOR(MUPQ_NAMESPACE, fun)\n",
      "                        ^~~~~~~~~\n",
      "mupq/crypto_kem/testvectors.c:26:29: note: in expansion of macro 'NAMESPACE'\n",
      " #define MUPQ_crypto_kem_enc NAMESPACE(crypto_kem_enc)\n",
      "                             ^~~~~~~~~\n",
      "mupq/crypto_kem/testvectors.c:106:5: note: in expansion of macro 'MUPQ_crypto_kem_enc'\n",
      "     MUPQ_crypto_kem_enc(sendb, key_b, pk);\n",
      "     ^~~~~~~~~~~~~~~~~~~\n",
      "mupq/crypto_kem/testvectors.c:27:39: warning: implicit declaration of function 'crypto_kem_dec'; did you mean 'MUPQ_crypto_kem_dec'? [-Wimplicit-function-declaration]\n",
      " #define MUPQ_crypto_kem_dec NAMESPACE(crypto_kem_dec)\n",
      "                                       ^~~~~~~~~~~~~~\n",
      "mupq/crypto_kem/testvectors.c:14:25: note: in definition of macro 'PASTER'\n",
      " #define PASTER(x, y) x##y\n",
      "                         ^\n",
      "mupq/crypto_kem/testvectors.c:16:24: note: in expansion of macro 'EVALUATOR'\n",
      " #define NAMESPACE(fun) EVALUATOR(MUPQ_NAMESPACE, fun)\n",
      "                        ^~~~~~~~~\n",
      "mupq/crypto_kem/testvectors.c:27:29: note: in expansion of macro 'NAMESPACE'\n",
      " #define MUPQ_crypto_kem_dec NAMESPACE(crypto_kem_dec)\n",
      "                             ^~~~~~~~~\n",
      "mupq/crypto_kem/testvectors.c:112:5: note: in expansion of macro 'MUPQ_crypto_kem_dec'\n",
      "     MUPQ_crypto_kem_dec(key_a, sendb, sk_a);\n",
      "     ^~~~~~~~~~~~~~~~~~~\n",
      "mupq/crypto_kem/testvectors.c:116:14: warning: comparison of integer expressions of different signedness: 'int' and 'unsigned int' [-Wsign-compare]\n",
      "     for(j=0;j<MUPQ_CRYPTO_BYTES;j++)\n",
      "              ^\n",
      "common/hal-opencm3.c: In function 'clock_setup':\n",
      "common/hal-opencm3.c:104:41: warning: unused parameter 'clock' [-Wunused-parameter]\n",
      " static void clock_setup(enum clock_mode clock)\n",
      "                         ~~~~~~~~~~~~~~~~^~~~~\n"
     ]
    },
    {
     "name": "stdout",
     "output_type": "stream",
     "text": [
      "  CC      elf/crypto_kem_kyber512-90s_m4fspeed_test.elf\n"
     ]
    },
    {
     "name": "stderr",
     "output_type": "stream",
     "text": [
      "crypto_kem/bikel3/m4f/rotr_cshift_24659.c: In function 'cshift':\n",
      "crypto_kem/bikel3/m4f/rotr_cshift_24659.c:12:39: warning: implicit declaration of function 'cshift_asm'; did you mean 'cshift'? [-Wimplicit-function-declaration]\n",
      " void cshift(uint32_t *array, int s) { cshift_asm(array,s); }\n",
      "                                       ^~~~~~~~~~\n",
      "                                       cshift\n",
      "crypto_kem/bikel3/m4f/rotr_cshift_24659.c: In function 'cshift_small':\n",
      "crypto_kem/bikel3/m4f/rotr_cshift_24659.c:719:3: warning: implicit declaration of function 'shiftright_small_umlal'; did you mean 'shiftright_small_umlal_C'? [-Wimplicit-function-declaration]\n",
      "   shiftright_small_umlal(array1, s, (r+31)/32);\n",
      "   ^~~~~~~~~~~~~~~~~~~~~~\n",
      "   shiftright_small_umlal_C\n",
      "In file included from mupq/crypto_kem/test.c:5:\n",
      "mupq/crypto_kem/../../../../hardware/victims/firmware/simpleserial/simpleserial.h:16:3: warning: #warning \"SS_VER undefined! Setting SS_VER=SS_VER_1_1\" [-Wcpp]\n",
      "  #warning \"SS_VER undefined! Setting SS_VER=SS_VER_1_1\"\n",
      "   ^~~~~~~\n",
      "common/hal-opencm3.c: In function 'clock_setup':\n",
      "common/hal-opencm3.c:104:41: warning: unused parameter 'clock' [-Wunused-parameter]\n",
      " static void clock_setup(enum clock_mode clock)\n",
      "                         ~~~~~~~~~~~~~~~~^~~~~\n",
      "common/randombytes.c:38:2: warning: #warning Using a non-random randombytes [-Wcpp]\n",
      " #warning Using a non-random randombytes\n",
      "  ^~~~~~~\n"
     ]
    },
    {
     "name": "stdout",
     "output_type": "stream",
     "text": [
      "  CC      elf/crypto_kem_kyber512-90s_m4fspeed_speed.elf\n"
     ]
    },
    {
     "name": "stderr",
     "output_type": "stream",
     "text": [
      "common/hal-opencm3.c: In function 'clock_setup':\n",
      "common/hal-opencm3.c:104:41: warning: unused parameter 'clock' [-Wunused-parameter]\n",
      " static void clock_setup(enum clock_mode clock)\n",
      "                         ~~~~~~~~~~~~~~~~^~~~~\n",
      "common/randombytes.c:38:2: warning: #warning Using a non-random randombytes [-Wcpp]\n",
      " #warning Using a non-random randombytes\n",
      "  ^~~~~~~\n",
      "crypto_kem/bikel3/m4f/encode.c: In function 'encode_to_gft':\n",
      "crypto_kem/bikel3/m4f/encode.c:12:65: warning: unused variable 'f25' [-Wunused-variable]\n",
      " uint32_t f12,f13,f14,f15, f16,f17,f18,f19, f20,f21,f22,f23, f24,f25,f26,f27, f28,f29,f30,f31;\n",
      "                                                                 ^~~\n",
      "crypto_kem/bikel3/m4f/encode.c:12:48: warning: unused variable 'f21' [-Wunused-variable]\n",
      " uint32_t f12,f13,f14,f15, f16,f17,f18,f19, f20,f21,f22,f23, f24,f25,f26,f27, f28,f29,f30,f31;\n",
      "                                                ^~~\n",
      "crypto_kem/bikel3/m4f/encode.c:12:14: warning: unused variable 'f13' [-Wunused-variable]\n",
      " uint32_t f12,f13,f14,f15, f16,f17,f18,f19, f20,f21,f22,f23, f24,f25,f26,f27, f28,f29,f30,f31;\n",
      "              ^~~\n",
      "crypto_kem/bikel3/m4f/encode.c:11:19: warning: unused variable 'f3' [-Wunused-variable]\n",
      " uint32_t f0,f1,f2,f3, f4,f5,f6,f7, f8,f9,f10,f11;\n",
      "                   ^~\n",
      "crypto_kem/bikel3/m4f/gf2x_inv.c: In function 'repeated_squaring':\n",
      "crypto_kem/bikel3/m4f/gf2x_inv.c:28:50: warning: unused parameter 'sec_buf' [-Wunused-parameter]\n",
      "                                 OUT dbl_pad_r_t *sec_buf)\n",
      "                                     ~~~~~~~~~~~~~^~~~~~~\n",
      "crypto_kem/bikel3/m4f/gf2x_inv.c: In function 'gf2x_mod_inv':\n",
      "crypto_kem/bikel3/m4f/gf2x_inv.c:153:16: warning: unused variable 'exp1_l' [-Wunused-variable]\n",
      "   const size_t exp1_l[MAX_I] = {EXP1_L_VALS};\n",
      "                ^~~~~~\n",
      "crypto_kem/bikel3/m4f/rotr_cshift_24659.c: In function 'cshift':\n",
      "crypto_kem/bikel3/m4f/rotr_cshift_24659.c:12:39: warning: implicit declaration of function 'cshift_asm'; did you mean 'cshift'? [-Wimplicit-function-declaration]\n",
      " void cshift(uint32_t *array, int s) { cshift_asm(array,s); }\n",
      "                                       ^~~~~~~~~~\n",
      "                                       cshift\n",
      "crypto_kem/bikel3/m4f/rotr_cshift_24659.c: In function 'cshift_small':\n",
      "crypto_kem/bikel3/m4f/rotr_cshift_24659.c:719:3: warning: implicit declaration of function 'shiftright_small_umlal'; did you mean 'shiftright_small_umlal_C'? [-Wimplicit-function-declaration]\n",
      "   shiftright_small_umlal(array1, s, (r+31)/32);\n",
      "   ^~~~~~~~~~~~~~~~~~~~~~\n",
      "   shiftright_small_umlal_C\n"
     ]
    },
    {
     "name": "stdout",
     "output_type": "stream",
     "text": [
      "  CC      elf/crypto_kem_kyber512-90s_m4fspeed_hashing.elf\n"
     ]
    },
    {
     "name": "stderr",
     "output_type": "stream",
     "text": [
      "common/hal-opencm3.c: In function 'clock_setup':\n",
      "common/hal-opencm3.c:104:41: warning: unused parameter 'clock' [-Wunused-parameter]\n",
      " static void clock_setup(enum clock_mode clock)\n",
      "                         ~~~~~~~~~~~~~~~~^~~~~\n",
      "common/randombytes.c:38:2: warning: #warning Using a non-random randombytes [-Wcpp]\n",
      " #warning Using a non-random randombytes\n",
      "  ^~~~~~~\n"
     ]
    },
    {
     "name": "stdout",
     "output_type": "stream",
     "text": [
      "  CC      elf/crypto_kem_kyber512-90s_m4fspeed_stack.elf\n"
     ]
    },
    {
     "name": "stderr",
     "output_type": "stream",
     "text": [
      "common/hal-opencm3.c: In function 'clock_setup':\n",
      "common/hal-opencm3.c:104:41: warning: unused parameter 'clock' [-Wunused-parameter]\n",
      " static void clock_setup(enum clock_mode clock)\n",
      "                         ~~~~~~~~~~~~~~~~^~~~~\n",
      "common/randombytes.c:38:2: warning: #warning Using a non-random randombytes [-Wcpp]\n",
      " #warning Using a non-random randombytes\n",
      "  ^~~~~~~\n"
     ]
    },
    {
     "name": "stdout",
     "output_type": "stream",
     "text": [
      "  CC      elf/crypto_kem_kyber512-90s_m4fspeed_testvectors.elf\n"
     ]
    },
    {
     "name": "stderr",
     "output_type": "stream",
     "text": [
      "common/hal-opencm3.c: In function 'clock_setup':\n",
      "common/hal-opencm3.c:104:41: warning: unused parameter 'clock' [-Wunused-parameter]\n",
      " static void clock_setup(enum clock_mode clock)\n",
      "                         ~~~~~~~~~~~~~~~~^~~~~\n",
      "crypto_kem/bikel3/m4f/encode.c: In function 'encode_to_gft':\n",
      "crypto_kem/bikel3/m4f/encode.c:12:65: warning: unused variable 'f25' [-Wunused-variable]\n",
      " uint32_t f12,f13,f14,f15, f16,f17,f18,f19, f20,f21,f22,f23, f24,f25,f26,f27, f28,f29,f30,f31;\n",
      "                                                                 ^~~\n",
      "crypto_kem/bikel3/m4f/encode.c:12:48: warning: unused variable 'f21' [-Wunused-variable]\n",
      " uint32_t f12,f13,f14,f15, f16,f17,f18,f19, f20,f21,f22,f23, f24,f25,f26,f27, f28,f29,f30,f31;\n",
      "                                                ^~~\n",
      "crypto_kem/bikel3/m4f/encode.c:12:14: warning: unused variable 'f13' [-Wunused-variable]\n",
      " uint32_t f12,f13,f14,f15, f16,f17,f18,f19, f20,f21,f22,f23, f24,f25,f26,f27, f28,f29,f30,f31;\n",
      "              ^~~\n",
      "crypto_kem/bikel3/m4f/encode.c:11:19: warning: unused variable 'f3' [-Wunused-variable]\n",
      " uint32_t f0,f1,f2,f3, f4,f5,f6,f7, f8,f9,f10,f11;\n",
      "                   ^~\n",
      "crypto_kem/bikel3/m4f/gf2x_inv.c: In function 'repeated_squaring':\n",
      "crypto_kem/bikel3/m4f/gf2x_inv.c:28:50: warning: unused parameter 'sec_buf' [-Wunused-parameter]\n",
      "                                 OUT dbl_pad_r_t *sec_buf)\n",
      "                                     ~~~~~~~~~~~~~^~~~~~~\n",
      "crypto_kem/bikel3/m4f/gf2x_inv.c: In function 'gf2x_mod_inv':\n",
      "crypto_kem/bikel3/m4f/gf2x_inv.c:153:16: warning: unused variable 'exp1_l' [-Wunused-variable]\n",
      "   const size_t exp1_l[MAX_I] = {EXP1_L_VALS};\n",
      "                ^~~~~~\n",
      "crypto_kem/bikel3/m4f/rotr_cshift_24659.c: In function 'cshift':\n",
      "crypto_kem/bikel3/m4f/rotr_cshift_24659.c:12:39: warning: implicit declaration of function 'cshift_asm'; did you mean 'cshift'? [-Wimplicit-function-declaration]\n",
      " void cshift(uint32_t *array, int s) { cshift_asm(array,s); }\n",
      "                                       ^~~~~~~~~~\n",
      "                                       cshift\n",
      "crypto_kem/bikel3/m4f/rotr_cshift_24659.c: In function 'cshift_small':\n",
      "crypto_kem/bikel3/m4f/rotr_cshift_24659.c:719:3: warning: implicit declaration of function 'shiftright_small_umlal'; did you mean 'shiftright_small_umlal_C'? [-Wimplicit-function-declaration]\n",
      "   shiftright_small_umlal(array1, s, (r+31)/32);\n",
      "   ^~~~~~~~~~~~~~~~~~~~~~\n",
      "   shiftright_small_umlal_C\n"
     ]
    },
    {
     "name": "stdout",
     "output_type": "stream",
     "text": [
      "  CC      elf/crypto_kem_kyber512-90s_m4fstack_test.elf\n"
     ]
    },
    {
     "name": "stderr",
     "output_type": "stream",
     "text": [
      "In file included from mupq/crypto_kem/test.c:5:\n",
      "mupq/crypto_kem/../../../../hardware/victims/firmware/simpleserial/simpleserial.h:16:3: warning: #warning \"SS_VER undefined! Setting SS_VER=SS_VER_1_1\" [-Wcpp]\n",
      "  #warning \"SS_VER undefined! Setting SS_VER=SS_VER_1_1\"\n",
      "   ^~~~~~~\n",
      "common/hal-opencm3.c: In function 'clock_setup':\n",
      "common/hal-opencm3.c:104:41: warning: unused parameter 'clock' [-Wunused-parameter]\n",
      " static void clock_setup(enum clock_mode clock)\n",
      "                         ~~~~~~~~~~~~~~~~^~~~~\n",
      "common/randombytes.c:38:2: warning: #warning Using a non-random randombytes [-Wcpp]\n",
      " #warning Using a non-random randombytes\n",
      "  ^~~~~~~\n"
     ]
    },
    {
     "name": "stdout",
     "output_type": "stream",
     "text": [
      "  CC      elf/crypto_kem_kyber512-90s_m4fstack_speed.elf\n"
     ]
    },
    {
     "name": "stderr",
     "output_type": "stream",
     "text": [
      "common/hal-opencm3.c: In function 'clock_setup':\n",
      "common/hal-opencm3.c:104:41: warning: unused parameter 'clock' [-Wunused-parameter]\n",
      " static void clock_setup(enum clock_mode clock)\n",
      "                         ~~~~~~~~~~~~~~~~^~~~~\n",
      "common/randombytes.c:38:2: warning: #warning Using a non-random randombytes [-Wcpp]\n",
      " #warning Using a non-random randombytes\n",
      "  ^~~~~~~\n"
     ]
    },
    {
     "name": "stdout",
     "output_type": "stream",
     "text": [
      "  CC      elf/crypto_kem_kyber512-90s_m4fstack_hashing.elf\n"
     ]
    },
    {
     "name": "stderr",
     "output_type": "stream",
     "text": [
      "common/hal-opencm3.c: In function 'clock_setup':\n",
      "common/hal-opencm3.c:104:41: warning: unused parameter 'clock' [-Wunused-parameter]\n",
      " static void clock_setup(enum clock_mode clock)\n",
      "                         ~~~~~~~~~~~~~~~~^~~~~\n",
      "common/randombytes.c:38:2: warning: #warning Using a non-random randombytes [-Wcpp]\n",
      " #warning Using a non-random randombytes\n",
      "  ^~~~~~~\n"
     ]
    },
    {
     "name": "stdout",
     "output_type": "stream",
     "text": [
      "  CC      elf/crypto_kem_kyber512-90s_m4fstack_stack.elf\n"
     ]
    },
    {
     "name": "stderr",
     "output_type": "stream",
     "text": [
      "common/hal-opencm3.c: In function 'clock_setup':\n",
      "common/hal-opencm3.c:104:41: warning: unused parameter 'clock' [-Wunused-parameter]\n",
      " static void clock_setup(enum clock_mode clock)\n",
      "                         ~~~~~~~~~~~~~~~~^~~~~\n",
      "common/randombytes.c:38:2: warning: #warning Using a non-random randombytes [-Wcpp]\n",
      " #warning Using a non-random randombytes\n",
      "  ^~~~~~~\n"
     ]
    },
    {
     "name": "stdout",
     "output_type": "stream",
     "text": [
      "  CC      elf/crypto_kem_kyber512-90s_m4fstack_testvectors.elf\n"
     ]
    },
    {
     "name": "stderr",
     "output_type": "stream",
     "text": [
      "common/hal-opencm3.c: In function 'clock_setup':\n",
      "common/hal-opencm3.c:104:41: warning: unused parameter 'clock' [-Wunused-parameter]\n",
      " static void clock_setup(enum clock_mode clock)\n",
      "                         ~~~~~~~~~~~~~~~~^~~~~\n"
     ]
    },
    {
     "name": "stdout",
     "output_type": "stream",
     "text": [
      "  CC      elf/crypto_kem_kyber1024_m4fspeed_test.elf\n"
     ]
    },
    {
     "name": "stderr",
     "output_type": "stream",
     "text": [
      "In file included from mupq/crypto_kem/test.c:5:\n",
      "mupq/crypto_kem/../../../../hardware/victims/firmware/simpleserial/simpleserial.h:16:3: warning: #warning \"SS_VER undefined! Setting SS_VER=SS_VER_1_1\" [-Wcpp]\n",
      "  #warning \"SS_VER undefined! Setting SS_VER=SS_VER_1_1\"\n",
      "   ^~~~~~~\n"
     ]
    },
    {
     "name": "stdout",
     "output_type": "stream",
     "text": [
      "  CC      elf/crypto_kem_kyber1024_m4fspeed_speed.elf\n"
     ]
    },
    {
     "name": "stderr",
     "output_type": "stream",
     "text": [
      "common/hal-opencm3.c: In function 'clock_setup':\n",
      "common/hal-opencm3.c:104:41: warning: unused parameter 'clock' [-Wunused-parameter]\n",
      " static void clock_setup(enum clock_mode clock)\n",
      "                         ~~~~~~~~~~~~~~~~^~~~~\n"
     ]
    },
    {
     "name": "stdout",
     "output_type": "stream",
     "text": [
      "  CC      elf/crypto_kem_kyber1024_m4fspeed_hashing.elf\n"
     ]
    },
    {
     "name": "stderr",
     "output_type": "stream",
     "text": [
      "common/randombytes.c:38:2: warning: #warning Using a non-random randombytes [-Wcpp]\n",
      " #warning Using a non-random randombytes\n",
      "  ^~~~~~~\n",
      "common/hal-opencm3.c: In function 'clock_setup':\n",
      "common/hal-opencm3.c:104:41: warning: unused parameter 'clock' [-Wunused-parameter]\n",
      " static void clock_setup(enum clock_mode clock)\n",
      "                         ~~~~~~~~~~~~~~~~^~~~~\n",
      "common/randombytes.c:38:2: warning: #warning Using a non-random randombytes [-Wcpp]\n",
      " #warning Using a non-random randombytes\n",
      "  ^~~~~~~\n",
      "common/hal-opencm3.c: In function 'clock_setup':\n",
      "common/hal-opencm3.c:104:41: warning: unused parameter 'clock' [-Wunused-parameter]\n",
      " static void clock_setup(enum clock_mode clock)\n",
      "                         ~~~~~~~~~~~~~~~~^~~~~\n",
      "common/randombytes.c:38:2: warning: #warning Using a non-random randombytes [-Wcpp]\n",
      " #warning Using a non-random randombytes\n",
      "  ^~~~~~~\n"
     ]
    },
    {
     "name": "stdout",
     "output_type": "stream",
     "text": [
      "  CC      elf/crypto_kem_kyber1024_m4fspeed_stack.elf\n",
      "  CC      elf/crypto_kem_kyber1024_m4fspeed_testvectors.elf\n",
      "  CC      elf/crypto_kem_kyber1024_m4fstack_test.elf\n"
     ]
    },
    {
     "name": "stderr",
     "output_type": "stream",
     "text": [
      "common/hal-opencm3.c: In function 'clock_setup':\n",
      "common/hal-opencm3.c:104:41: warning: unused parameter 'clock' [-Wunused-parameter]\n",
      " static void clock_setup(enum clock_mode clock)\n",
      "                         ~~~~~~~~~~~~~~~~^~~~~\n",
      "In file included from mupq/crypto_kem/test.c:5:\n",
      "mupq/crypto_kem/../../../../hardware/victims/firmware/simpleserial/simpleserial.h:16:3: warning: #warning \"SS_VER undefined! Setting SS_VER=SS_VER_1_1\" [-Wcpp]\n",
      "  #warning \"SS_VER undefined! Setting SS_VER=SS_VER_1_1\"\n",
      "   ^~~~~~~\n",
      "common/hal-opencm3.c: In function 'clock_setup':\n",
      "common/hal-opencm3.c:104:41: warning: unused parameter 'clock' [-Wunused-parameter]\n",
      " static void clock_setup(enum clock_mode clock)\n",
      "                         ~~~~~~~~~~~~~~~~^~~~~\n",
      "common/hal-opencm3.c: In function 'clock_setup':\n",
      "common/hal-opencm3.c:104:41: warning: unused parameter 'clock' [-Wunused-parameter]\n",
      " static void clock_setup(enum clock_mode clock)\n",
      "                         ~~~~~~~~~~~~~~~~^~~~~\n",
      "common/randombytes.c:38:2: warning: #warning Using a non-random randombytes [-Wcpp]\n",
      " #warning Using a non-random randombytes\n",
      "  ^~~~~~~\n",
      "common/randombytes.c:38:2: warning: #warning Using a non-random randombytes [-Wcpp]\n",
      " #warning Using a non-random randombytes\n",
      "  ^~~~~~~\n"
     ]
    },
    {
     "name": "stdout",
     "output_type": "stream",
     "text": [
      "  CC      elf/crypto_kem_kyber1024_m4fstack_speed.elf\n"
     ]
    },
    {
     "name": "stderr",
     "output_type": "stream",
     "text": [
      "common/hal-opencm3.c: In function 'clock_setup':\n",
      "common/hal-opencm3.c:104:41: warning: unused parameter 'clock' [-Wunused-parameter]\n",
      " static void clock_setup(enum clock_mode clock)\n",
      "                         ~~~~~~~~~~~~~~~~^~~~~\n",
      "common/randombytes.c:38:2: warning: #warning Using a non-random randombytes [-Wcpp]\n",
      " #warning Using a non-random randombytes\n",
      "  ^~~~~~~\n"
     ]
    },
    {
     "name": "stdout",
     "output_type": "stream",
     "text": [
      "  CC      elf/crypto_kem_kyber1024_m4fstack_hashing.elf\n",
      "  CC      elf/crypto_kem_kyber1024_m4fstack_stack.elf\n"
     ]
    },
    {
     "name": "stderr",
     "output_type": "stream",
     "text": [
      "common/hal-opencm3.c: In function 'clock_setup':\n",
      "common/hal-opencm3.c:104:41: warning: unused parameter 'clock' [-Wunused-parameter]\n",
      " static void clock_setup(enum clock_mode clock)\n",
      "                         ~~~~~~~~~~~~~~~~^~~~~\n",
      "common/randombytes.c:38:2: warning: #warning Using a non-random randombytes [-Wcpp]\n",
      " #warning Using a non-random randombytes\n",
      "  ^~~~~~~\n",
      "common/hal-opencm3.c: In function 'clock_setup':\n",
      "common/hal-opencm3.c:104:41: warning: unused parameter 'clock' [-Wunused-parameter]\n",
      " static void clock_setup(enum clock_mode clock)\n",
      "                         ~~~~~~~~~~~~~~~~^~~~~\n",
      "common/randombytes.c:38:2: warning: #warning Using a non-random randombytes [-Wcpp]\n",
      " #warning Using a non-random randombytes\n",
      "  ^~~~~~~\n"
     ]
    },
    {
     "name": "stdout",
     "output_type": "stream",
     "text": [
      "  CC      elf/crypto_kem_kyber1024_m4fstack_testvectors.elf\n"
     ]
    },
    {
     "name": "stderr",
     "output_type": "stream",
     "text": [
      "common/hal-opencm3.c: In function 'clock_setup':\n",
      "common/hal-opencm3.c:104:41: warning: unused parameter 'clock' [-Wunused-parameter]\n",
      " static void clock_setup(enum clock_mode clock)\n",
      "                         ~~~~~~~~~~~~~~~~^~~~~\n"
     ]
    },
    {
     "name": "stdout",
     "output_type": "stream",
     "text": [
      "  CC      elf/crypto_kem_bikel1_m4f_test.elf\n"
     ]
    },
    {
     "name": "stderr",
     "output_type": "stream",
     "text": [
      "In file included from mupq/crypto_kem/test.c:5:\n",
      "mupq/crypto_kem/../../../../hardware/victims/firmware/simpleserial/simpleserial.h:16:3: warning: #warning \"SS_VER undefined! Setting SS_VER=SS_VER_1_1\" [-Wcpp]\n",
      "  #warning \"SS_VER undefined! Setting SS_VER=SS_VER_1_1\"\n",
      "   ^~~~~~~\n",
      "mupq/crypto_kem/test.c: In function 'test_keys':\n",
      "mupq/crypto_kem/test.c:23:43: warning: implicit declaration of function 'crypto_kem_keypair'; did you mean 'MUPQ_crypto_kem_keypair'? [-Wimplicit-function-declaration]\n",
      " #define MUPQ_crypto_kem_keypair NAMESPACE(crypto_kem_keypair)\n",
      "                                           ^~~~~~~~~~~~~~~~~~\n",
      "mupq/crypto_kem/test.c:12:25: note: in definition of macro 'PASTER'\n",
      " #define PASTER(x, y) x##y\n",
      "                         ^\n",
      "mupq/crypto_kem/test.c:14:24: note: in expansion of macro 'EVALUATOR'\n",
      " #define NAMESPACE(fun) EVALUATOR(MUPQ_NAMESPACE, fun)\n",
      "                        ^~~~~~~~~\n",
      "mupq/crypto_kem/test.c:23:33: note: in expansion of macro 'NAMESPACE'\n",
      " #define MUPQ_crypto_kem_keypair NAMESPACE(crypto_kem_keypair)\n",
      "                                 ^~~~~~~~~\n",
      "mupq/crypto_kem/test.c:68:5: note: in expansion of macro 'MUPQ_crypto_kem_keypair'\n",
      "     MUPQ_crypto_kem_keypair(pk+8, sk_a+8);\n",
      "     ^~~~~~~~~~~~~~~~~~~~~~~\n",
      "mupq/crypto_kem/test.c:24:39: warning: implicit declaration of function 'crypto_kem_enc'; did you mean 'MUPQ_crypto_kem_enc'? [-Wimplicit-function-declaration]\n",
      " #define MUPQ_crypto_kem_enc NAMESPACE(crypto_kem_enc)\n",
      "                                       ^~~~~~~~~~~~~~\n",
      "mupq/crypto_kem/test.c:12:25: note: in definition of macro 'PASTER'\n",
      " #define PASTER(x, y) x##y\n",
      "                         ^\n",
      "mupq/crypto_kem/test.c:14:24: note: in expansion of macro 'EVALUATOR'\n",
      " #define NAMESPACE(fun) EVALUATOR(MUPQ_NAMESPACE, fun)\n",
      "                        ^~~~~~~~~\n",
      "mupq/crypto_kem/test.c:24:29: note: in expansion of macro 'NAMESPACE'\n",
      " #define MUPQ_crypto_kem_enc NAMESPACE(crypto_kem_enc)\n",
      "                             ^~~~~~~~~\n",
      "mupq/crypto_kem/test.c:72:5: note: in expansion of macro 'MUPQ_crypto_kem_enc'\n",
      "     MUPQ_crypto_kem_enc(sendb+8, key_b+8, pk+8);\n",
      "     ^~~~~~~~~~~~~~~~~~~\n",
      "mupq/crypto_kem/test.c:25:39: warning: implicit declaration of function 'crypto_kem_dec'; did you mean 'MUPQ_crypto_kem_dec'? [-Wimplicit-function-declaration]\n",
      " #define MUPQ_crypto_kem_dec NAMESPACE(crypto_kem_dec)\n",
      "                                       ^~~~~~~~~~~~~~\n",
      "mupq/crypto_kem/test.c:12:25: note: in definition of macro 'PASTER'\n",
      " #define PASTER(x, y) x##y\n",
      "                         ^\n",
      "mupq/crypto_kem/test.c:14:24: note: in expansion of macro 'EVALUATOR'\n",
      " #define NAMESPACE(fun) EVALUATOR(MUPQ_NAMESPACE, fun)\n",
      "                        ^~~~~~~~~\n",
      "mupq/crypto_kem/test.c:25:29: note: in expansion of macro 'NAMESPACE'\n",
      " #define MUPQ_crypto_kem_dec NAMESPACE(crypto_kem_dec)\n",
      "                             ^~~~~~~~~\n",
      "mupq/crypto_kem/test.c:76:5: note: in expansion of macro 'MUPQ_crypto_kem_dec'\n",
      "     MUPQ_crypto_kem_dec(key_a+8, sendb+8, sk_a+8);\n",
      "     ^~~~~~~~~~~~~~~~~~~\n",
      "common/hal-opencm3.c: In function 'clock_setup':\n",
      "common/hal-opencm3.c:104:41: warning: unused parameter 'clock' [-Wunused-parameter]\n",
      " static void clock_setup(enum clock_mode clock)\n",
      "                         ~~~~~~~~~~~~~~~~^~~~~\n",
      "common/randombytes.c:38:2: warning: #warning Using a non-random randombytes [-Wcpp]\n",
      " #warning Using a non-random randombytes\n",
      "  ^~~~~~~\n"
     ]
    },
    {
     "name": "stdout",
     "output_type": "stream",
     "text": [
      "  CC      elf/crypto_kem_bikel1_m4f_speed.elf\n",
      "  CC      elf/crypto_kem_bikel1_m4f_hashing.elf\n"
     ]
    },
    {
     "name": "stderr",
     "output_type": "stream",
     "text": [
      "mupq/crypto_kem/speed.c: In function 'main':\n",
      "mupq/crypto_kem/speed.c:20:43: warning: implicit declaration of function 'crypto_kem_keypair'; did you mean 'MUPQ_crypto_kem_keypair'? [-Wimplicit-function-declaration]\n",
      " #define MUPQ_crypto_kem_keypair NAMESPACE(crypto_kem_keypair)\n",
      "                                           ^~~~~~~~~~~~~~~~~~\n",
      "mupq/crypto_kem/speed.c:9:25: note: in definition of macro 'PASTER'\n",
      " #define PASTER(x, y) x##y\n",
      "                         ^\n",
      "mupq/crypto_kem/speed.c:11:24: note: in expansion of macro 'EVALUATOR'\n",
      " #define NAMESPACE(fun) EVALUATOR(MUPQ_NAMESPACE, fun)\n",
      "                        ^~~~~~~~~\n",
      "mupq/crypto_kem/speed.c:20:33: note: in expansion of macro 'NAMESPACE'\n",
      " #define MUPQ_crypto_kem_keypair NAMESPACE(crypto_kem_keypair)\n",
      "                                 ^~~~~~~~~\n",
      "mupq/crypto_kem/speed.c:43:5: note: in expansion of macro 'MUPQ_crypto_kem_keypair'\n",
      "     MUPQ_crypto_kem_keypair(pk, sk);\n",
      "     ^~~~~~~~~~~~~~~~~~~~~~~\n",
      "mupq/crypto_kem/speed.c:21:39: warning: implicit declaration of function 'crypto_kem_enc'; did you mean 'MUPQ_crypto_kem_enc'? [-Wimplicit-function-declaration]\n",
      " #define MUPQ_crypto_kem_enc NAMESPACE(crypto_kem_enc)\n",
      "                                       ^~~~~~~~~~~~~~\n",
      "mupq/crypto_kem/speed.c:9:25: note: in definition of macro 'PASTER'\n",
      " #define PASTER(x, y) x##y\n",
      "                         ^\n",
      "mupq/crypto_kem/speed.c:11:24: note: in expansion of macro 'EVALUATOR'\n",
      " #define NAMESPACE(fun) EVALUATOR(MUPQ_NAMESPACE, fun)\n",
      "                        ^~~~~~~~~\n",
      "mupq/crypto_kem/speed.c:21:29: note: in expansion of macro 'NAMESPACE'\n",
      " #define MUPQ_crypto_kem_enc NAMESPACE(crypto_kem_enc)\n",
      "                             ^~~~~~~~~\n",
      "mupq/crypto_kem/speed.c:49:5: note: in expansion of macro 'MUPQ_crypto_kem_enc'\n",
      "     MUPQ_crypto_kem_enc(ct, key_a, pk);\n",
      "     ^~~~~~~~~~~~~~~~~~~\n",
      "mupq/crypto_kem/hashing.c: In function 'main':\n",
      "mupq/crypto_kem/speed.c:22:39: warning: implicit declaration of function 'crypto_kem_dec'; did you mean 'MUPQ_crypto_kem_dec'? [-Wimplicit-function-declaration]\n",
      " #define MUPQ_crypto_kem_dec NAMESPACE(crypto_kem_dec)\n",
      "                                       ^~~~~~~~~~~~~~\n",
      "mupq/crypto_kem/speed.c:9:25: note: in definition of macro 'PASTER'\n",
      " #define PASTER(x, y) x##y\n",
      "                         ^\n",
      "mupq/crypto_kem/speed.c:11:24: note: in expansion of macro 'EVALUATOR'\n",
      " #define NAMESPACE(fun) EVALUATOR(MUPQ_NAMESPACE, fun)\n",
      "                        ^~~~~~~~~\n",
      "mupq/crypto_kem/speed.c:22:29: note: in expansion of macro 'NAMESPACE'\n",
      " #define MUPQ_crypto_kem_dec NAMESPACE(crypto_kem_dec)\n",
      "                             ^~~~~~~~~\n",
      "mupq/crypto_kem/speed.c:55:5: note: in expansion of macro 'MUPQ_crypto_kem_dec'\n",
      "     MUPQ_crypto_kem_dec(key_b, ct, sk);\n",
      "     ^~~~~~~~~~~~~~~~~~~\n",
      "mupq/crypto_kem/hashing.c:20:43: warning: implicit declaration of function 'crypto_kem_keypair'; did you mean 'MUPQ_crypto_kem_keypair'? [-Wimplicit-function-declaration]\n",
      " #define MUPQ_crypto_kem_keypair NAMESPACE(crypto_kem_keypair)\n",
      "                                           ^~~~~~~~~~~~~~~~~~\n",
      "mupq/crypto_kem/hashing.c:9:25: note: in definition of macro 'PASTER'\n",
      " #define PASTER(x, y) x##y\n",
      "                         ^\n",
      "mupq/crypto_kem/hashing.c:11:24: note: in expansion of macro 'EVALUATOR'\n",
      " #define NAMESPACE(fun) EVALUATOR(MUPQ_NAMESPACE, fun)\n",
      "                        ^~~~~~~~~\n",
      "mupq/crypto_kem/hashing.c:20:33: note: in expansion of macro 'NAMESPACE'\n",
      " #define MUPQ_crypto_kem_keypair NAMESPACE(crypto_kem_keypair)\n",
      "                                 ^~~~~~~~~\n",
      "mupq/crypto_kem/hashing.c:46:5: note: in expansion of macro 'MUPQ_crypto_kem_keypair'\n",
      "     MUPQ_crypto_kem_keypair(pk, sk);\n",
      "     ^~~~~~~~~~~~~~~~~~~~~~~\n",
      "mupq/crypto_kem/hashing.c:21:39: warning: implicit declaration of function 'crypto_kem_enc'; did you mean 'MUPQ_crypto_kem_enc'? [-Wimplicit-function-declaration]\n",
      " #define MUPQ_crypto_kem_enc NAMESPACE(crypto_kem_enc)\n",
      "                                       ^~~~~~~~~~~~~~\n",
      "mupq/crypto_kem/hashing.c:9:25: note: in definition of macro 'PASTER'\n",
      " #define PASTER(x, y) x##y\n",
      "                         ^\n",
      "mupq/crypto_kem/hashing.c:11:24: note: in expansion of macro 'EVALUATOR'\n",
      " #define NAMESPACE(fun) EVALUATOR(MUPQ_NAMESPACE, fun)\n",
      "                        ^~~~~~~~~\n",
      "mupq/crypto_kem/hashing.c:21:29: note: in expansion of macro 'NAMESPACE'\n",
      " #define MUPQ_crypto_kem_enc NAMESPACE(crypto_kem_enc)\n",
      "                             ^~~~~~~~~\n",
      "mupq/crypto_kem/hashing.c:54:5: note: in expansion of macro 'MUPQ_crypto_kem_enc'\n",
      "     MUPQ_crypto_kem_enc(ct, key_a, pk);\n",
      "     ^~~~~~~~~~~~~~~~~~~\n",
      "mupq/crypto_kem/hashing.c:22:39: warning: implicit declaration of function 'crypto_kem_dec'; did you mean 'MUPQ_crypto_kem_dec'? [-Wimplicit-function-declaration]\n",
      " #define MUPQ_crypto_kem_dec NAMESPACE(crypto_kem_dec)\n",
      "                                       ^~~~~~~~~~~~~~\n",
      "mupq/crypto_kem/hashing.c:9:25: note: in definition of macro 'PASTER'\n",
      " #define PASTER(x, y) x##y\n",
      "                         ^\n",
      "mupq/crypto_kem/hashing.c:11:24: note: in expansion of macro 'EVALUATOR'\n",
      " #define NAMESPACE(fun) EVALUATOR(MUPQ_NAMESPACE, fun)\n",
      "                        ^~~~~~~~~\n",
      "mupq/crypto_kem/hashing.c:22:29: note: in expansion of macro 'NAMESPACE'\n",
      " #define MUPQ_crypto_kem_dec NAMESPACE(crypto_kem_dec)\n",
      "                             ^~~~~~~~~\n",
      "mupq/crypto_kem/hashing.c:62:5: note: in expansion of macro 'MUPQ_crypto_kem_dec'\n",
      "     MUPQ_crypto_kem_dec(key_b, ct, sk);\n",
      "     ^~~~~~~~~~~~~~~~~~~\n",
      "common/hal-opencm3.c: In function 'clock_setup':\n",
      "common/hal-opencm3.c: In function 'clock_setup':\n",
      "common/hal-opencm3.c:104:41: warning: unused parameter 'clock' [-Wunused-parameter]\n",
      " static void clock_setup(enum clock_mode clock)\n",
      "                         ~~~~~~~~~~~~~~~~^~~~~\n",
      "common/hal-opencm3.c:104:41: warning: unused parameter 'clock' [-Wunused-parameter]\n",
      " static void clock_setup(enum clock_mode clock)\n",
      "                         ~~~~~~~~~~~~~~~~^~~~~\n",
      "common/randombytes.c:38:2: warning: #warning Using a non-random randombytes [-Wcpp]\n",
      " #warning Using a non-random randombytes\n",
      "  ^~~~~~~\n",
      "common/randombytes.c:38:2: warning: #warning Using a non-random randombytes [-Wcpp]\n",
      " #warning Using a non-random randombytes\n",
      "  ^~~~~~~\n"
     ]
    },
    {
     "name": "stdout",
     "output_type": "stream",
     "text": [
      "  CC      elf/crypto_kem_bikel1_m4f_stack.elf\n"
     ]
    },
    {
     "name": "stderr",
     "output_type": "stream",
     "text": [
      "mupq/crypto_kem/stack.c: In function 'test_keys':\n",
      "mupq/crypto_kem/stack.c:28:43: warning: implicit declaration of function 'crypto_kem_keypair'; did you mean 'MUPQ_crypto_kem_keypair'? [-Wimplicit-function-declaration]\n",
      " #define MUPQ_crypto_kem_keypair NAMESPACE(crypto_kem_keypair)\n",
      "                                           ^~~~~~~~~~~~~~~~~~\n",
      "mupq/crypto_kem/stack.c:17:25: note: in definition of macro 'PASTER'\n",
      " #define PASTER(x, y) x##y\n",
      "                         ^\n",
      "mupq/crypto_kem/stack.c:19:24: note: in expansion of macro 'EVALUATOR'\n",
      " #define NAMESPACE(fun) EVALUATOR(MUPQ_NAMESPACE, fun)\n",
      "                        ^~~~~~~~~\n",
      "mupq/crypto_kem/stack.c:28:33: note: in expansion of macro 'NAMESPACE'\n",
      " #define MUPQ_crypto_kem_keypair NAMESPACE(crypto_kem_keypair)\n",
      "                                 ^~~~~~~~~\n",
      "mupq/crypto_kem/stack.c:61:3: note: in expansion of macro 'MUPQ_crypto_kem_keypair'\n",
      "   MUPQ_crypto_kem_keypair(pk, sk_a);\n",
      "   ^~~~~~~~~~~~~~~~~~~~~~~\n",
      "mupq/crypto_kem/stack.c:29:39: warning: implicit declaration of function 'crypto_kem_enc'; did you mean 'MUPQ_crypto_kem_enc'? [-Wimplicit-function-declaration]\n",
      " #define MUPQ_crypto_kem_enc NAMESPACE(crypto_kem_enc)\n",
      "                                       ^~~~~~~~~~~~~~\n",
      "mupq/crypto_kem/stack.c:17:25: note: in definition of macro 'PASTER'\n",
      " #define PASTER(x, y) x##y\n",
      "                         ^\n",
      "mupq/crypto_kem/stack.c:19:24: note: in expansion of macro 'EVALUATOR'\n",
      " #define NAMESPACE(fun) EVALUATOR(MUPQ_NAMESPACE, fun)\n",
      "                        ^~~~~~~~~\n",
      "mupq/crypto_kem/stack.c:29:29: note: in expansion of macro 'NAMESPACE'\n",
      " #define MUPQ_crypto_kem_enc NAMESPACE(crypto_kem_enc)\n",
      "                             ^~~~~~~~~\n",
      "mupq/crypto_kem/stack.c:68:3: note: in expansion of macro 'MUPQ_crypto_kem_enc'\n",
      "   MUPQ_crypto_kem_enc(sendb, key_b, pk);\n",
      "   ^~~~~~~~~~~~~~~~~~~\n",
      "mupq/crypto_kem/stack.c:30:39: warning: implicit declaration of function 'crypto_kem_dec'; did you mean 'MUPQ_crypto_kem_dec'? [-Wimplicit-function-declaration]\n",
      " #define MUPQ_crypto_kem_dec NAMESPACE(crypto_kem_dec)\n",
      "                                       ^~~~~~~~~~~~~~\n",
      "mupq/crypto_kem/stack.c:17:25: note: in definition of macro 'PASTER'\n",
      " #define PASTER(x, y) x##y\n",
      "                         ^\n",
      "mupq/crypto_kem/stack.c:19:24: note: in expansion of macro 'EVALUATOR'\n",
      " #define NAMESPACE(fun) EVALUATOR(MUPQ_NAMESPACE, fun)\n",
      "                        ^~~~~~~~~\n",
      "mupq/crypto_kem/stack.c:30:29: note: in expansion of macro 'NAMESPACE'\n",
      " #define MUPQ_crypto_kem_dec NAMESPACE(crypto_kem_dec)\n",
      "                             ^~~~~~~~~\n",
      "mupq/crypto_kem/stack.c:75:3: note: in expansion of macro 'MUPQ_crypto_kem_dec'\n",
      "   MUPQ_crypto_kem_dec(key_a, sendb, sk_a);\n",
      "   ^~~~~~~~~~~~~~~~~~~\n",
      "common/hal-opencm3.c: In function 'clock_setup':\n",
      "common/hal-opencm3.c:104:41: warning: unused parameter 'clock' [-Wunused-parameter]\n",
      " static void clock_setup(enum clock_mode clock)\n",
      "                         ~~~~~~~~~~~~~~~~^~~~~\n",
      "common/randombytes.c:38:2: warning: #warning Using a non-random randombytes [-Wcpp]\n",
      " #warning Using a non-random randombytes\n",
      "  ^~~~~~~\n",
      "crypto_kem/bikel1/m4f/encode.c: In function 'encode_to_gft':\n",
      "crypto_kem/bikel1/m4f/encode.c:12:65: warning: unused variable 'f25' [-Wunused-variable]\n",
      " uint32_t f12,f13,f14,f15, f16,f17,f18,f19, f20,f21,f22,f23, f24,f25,f26,f27, f28,f29,f30,f31;\n",
      "                                                                 ^~~\n",
      "crypto_kem/bikel1/m4f/encode.c:12:48: warning: unused variable 'f21' [-Wunused-variable]\n",
      " uint32_t f12,f13,f14,f15, f16,f17,f18,f19, f20,f21,f22,f23, f24,f25,f26,f27, f28,f29,f30,f31;\n",
      "                                                ^~~\n",
      "crypto_kem/bikel1/m4f/encode.c:12:14: warning: unused variable 'f13' [-Wunused-variable]\n",
      " uint32_t f12,f13,f14,f15, f16,f17,f18,f19, f20,f21,f22,f23, f24,f25,f26,f27, f28,f29,f30,f31;\n",
      "              ^~~\n",
      "crypto_kem/bikel1/m4f/encode.c:11:19: warning: unused variable 'f3' [-Wunused-variable]\n",
      " uint32_t f0,f1,f2,f3, f4,f5,f6,f7, f8,f9,f10,f11;\n",
      "                   ^~\n",
      "crypto_kem/bikel1/m4f/gf2x_inv.c: In function 'repeated_squaring':\n",
      "crypto_kem/bikel1/m4f/gf2x_inv.c:28:50: warning: unused parameter 'sec_buf' [-Wunused-parameter]\n",
      "                                 OUT dbl_pad_r_t *sec_buf)\n",
      "                                     ~~~~~~~~~~~~~^~~~~~~\n",
      "crypto_kem/bikel1/m4f/gf2x_inv.c: In function 'gf2x_mod_inv':\n",
      "crypto_kem/bikel1/m4f/gf2x_inv.c:153:16: warning: unused variable 'exp1_l' [-Wunused-variable]\n",
      "   const size_t exp1_l[MAX_I] = {EXP1_L_VALS};\n",
      "                ^~~~~~\n",
      "crypto_kem/bikel1/m4f/encode.c: In function 'encode_to_gft':\n",
      "crypto_kem/bikel1/m4f/encode.c: In function 'encode_to_gft':\n",
      "crypto_kem/bikel1/m4f/encode.c:12:65: warning: unused variable 'f25' [-Wunused-variable]\n",
      " uint32_t f12,f13,f14,f15, f16,f17,f18,f19, f20,f21,f22,f23, f24,f25,f26,f27, f28,f29,f30,f31;\n",
      "                                                                 ^~~\n",
      "crypto_kem/bikel1/m4f/encode.c:12:48: warning: unused variable 'f21' [-Wunused-variable]\n",
      " uint32_t f12,f13,f14,f15, f16,f17,f18,f19, f20,f21,f22,f23, f24,f25,f26,f27, f28,f29,f30,f31;\n",
      "                                                ^~~\n",
      "crypto_kem/bikel1/m4f/encode.c:12:14: warning: unused variable 'f13' [-Wunused-variable]\n",
      " uint32_t f12,f13,f14,f15, f16,f17,f18,f19, f20,f21,f22,f23, f24,f25,f26,f27, f28,f29,f30,f31;\n",
      "              ^~~\n",
      "crypto_kem/bikel1/m4f/encode.c:11:19: warning: unused variable 'f3' [-Wunused-variable]\n",
      " uint32_t f0,f1,f2,f3, f4,f5,f6,f7, f8,f9,f10,f11;\n",
      "                   ^~\n",
      "crypto_kem/bikel1/m4f/encode.c:12:65: warning: unused variable 'f25' [-Wunused-variable]\n",
      " uint32_t f12,f13,f14,f15, f16,f17,f18,f19, f20,f21,f22,f23, f24,f25,f26,f27, f28,f29,f30,f31;\n",
      "                                                                 ^~~\n",
      "crypto_kem/bikel1/m4f/encode.c:12:48: warning: unused variable 'f21' [-Wunused-variable]\n",
      " uint32_t f12,f13,f14,f15, f16,f17,f18,f19, f20,f21,f22,f23, f24,f25,f26,f27, f28,f29,f30,f31;\n",
      "                                                ^~~\n",
      "crypto_kem/bikel1/m4f/encode.c:12:14: warning: unused variable 'f13' [-Wunused-variable]\n",
      " uint32_t f12,f13,f14,f15, f16,f17,f18,f19, f20,f21,f22,f23, f24,f25,f26,f27, f28,f29,f30,f31;\n",
      "              ^~~\n",
      "crypto_kem/bikel1/m4f/encode.c:11:19: warning: unused variable 'f3' [-Wunused-variable]\n",
      " uint32_t f0,f1,f2,f3, f4,f5,f6,f7, f8,f9,f10,f11;\n",
      "                   ^~\n",
      "crypto_kem/bikel1/m4f/gf2x_inv.c: In function 'repeated_squaring':\n",
      "crypto_kem/bikel1/m4f/gf2x_inv.c:28:50: warning: unused parameter 'sec_buf' [-Wunused-parameter]\n",
      "                                 OUT dbl_pad_r_t *sec_buf)\n",
      "                                     ~~~~~~~~~~~~~^~~~~~~\n",
      "crypto_kem/bikel1/m4f/gf2x_inv.c: In function 'gf2x_mod_inv':\n",
      "crypto_kem/bikel1/m4f/gf2x_inv.c:153:16: warning: unused variable 'exp1_l' [-Wunused-variable]\n",
      "   const size_t exp1_l[MAX_I] = {EXP1_L_VALS};\n",
      "                ^~~~~~\n",
      "crypto_kem/bikel1/m4f/gf2x_inv.c: In function 'repeated_squaring':\n",
      "crypto_kem/bikel1/m4f/gf2x_inv.c:28:50: warning: unused parameter 'sec_buf' [-Wunused-parameter]\n",
      "                                 OUT dbl_pad_r_t *sec_buf)\n",
      "                                     ~~~~~~~~~~~~~^~~~~~~\n",
      "crypto_kem/bikel1/m4f/gf2x_inv.c: In function 'gf2x_mod_inv':\n",
      "crypto_kem/bikel1/m4f/gf2x_inv.c:153:16: warning: unused variable 'exp1_l' [-Wunused-variable]\n",
      "   const size_t exp1_l[MAX_I] = {EXP1_L_VALS};\n",
      "                ^~~~~~\n",
      "crypto_kem/bikel1/m4f/rotr_cshift_12323.c: In function 'cshift':\n",
      "crypto_kem/bikel1/m4f/rotr_cshift_12323.c:12:39: warning: implicit declaration of function 'cshift_asm'; did you mean 'cshift'? [-Wimplicit-function-declaration]\n",
      " void cshift(uint32_t *array, int s) { cshift_asm(array,s); }\n",
      "                                       ^~~~~~~~~~\n",
      "                                       cshift\n",
      "crypto_kem/bikel1/m4f/rotr_cshift_12323.c: In function 'cshift_small':\n",
      "crypto_kem/bikel1/m4f/rotr_cshift_12323.c:638:3: warning: implicit declaration of function 'shiftright_small_umlal'; did you mean 'shiftright_small_umlal_C'? [-Wimplicit-function-declaration]\n",
      "   shiftright_small_umlal(array1, s , (r+31)/32 );\n",
      "   ^~~~~~~~~~~~~~~~~~~~~~\n",
      "   shiftright_small_umlal_C\n",
      "crypto_kem/bikel1/m4f/rotr_cshift_12323.c: In function 'cshift':\n",
      "crypto_kem/bikel1/m4f/rotr_cshift_12323.c:12:39: warning: implicit declaration of function 'cshift_asm'; did you mean 'cshift'? [-Wimplicit-function-declaration]\n"
     ]
    },
    {
     "name": "stderr",
     "output_type": "stream",
     "text": [
      " void cshift(uint32_t *array, int s) { cshift_asm(array,s); }\n",
      "                                       ^~~~~~~~~~\n",
      "                                       cshift\n",
      "crypto_kem/bikel1/m4f/rotr_cshift_12323.c: In function 'cshift_small':\n",
      "crypto_kem/bikel1/m4f/rotr_cshift_12323.c:638:3: warning: implicit declaration of function 'shiftright_small_umlal'; did you mean 'shiftright_small_umlal_C'? [-Wimplicit-function-declaration]\n",
      "   shiftright_small_umlal(array1, s , (r+31)/32 );\n",
      "   ^~~~~~~~~~~~~~~~~~~~~~\n",
      "   shiftright_small_umlal_C\n",
      "crypto_kem/bikel1/m4f/rotr_cshift_12323.c: In function 'cshift':\n",
      "crypto_kem/bikel1/m4f/rotr_cshift_12323.c:12:39: warning: implicit declaration of function 'cshift_asm'; did you mean 'cshift'? [-Wimplicit-function-declaration]\n",
      " void cshift(uint32_t *array, int s) { cshift_asm(array,s); }\n",
      "                                       ^~~~~~~~~~\n",
      "                                       cshift\n",
      "crypto_kem/bikel1/m4f/rotr_cshift_12323.c: In function 'cshift_small':\n",
      "crypto_kem/bikel1/m4f/rotr_cshift_12323.c:638:3: warning: implicit declaration of function 'shiftright_small_umlal'; did you mean 'shiftright_small_umlal_C'? [-Wimplicit-function-declaration]\n",
      "   shiftright_small_umlal(array1, s , (r+31)/32 );\n",
      "   ^~~~~~~~~~~~~~~~~~~~~~\n",
      "   shiftright_small_umlal_C\n"
     ]
    },
    {
     "name": "stdout",
     "output_type": "stream",
     "text": [
      "  CC      elf/crypto_kem_bikel1_m4f_testvectors.elf\n",
      "  CC      elf/crypto_kem_kyber768-90s_m4fspeed_test.elf\n"
     ]
    },
    {
     "name": "stderr",
     "output_type": "stream",
     "text": [
      "In file included from mupq/crypto_kem/test.c:5:\n",
      "mupq/crypto_kem/../../../../hardware/victims/firmware/simpleserial/simpleserial.h:16:3: warning: #warning \"SS_VER undefined! Setting SS_VER=SS_VER_1_1\" [-Wcpp]\n",
      "  #warning \"SS_VER undefined! Setting SS_VER=SS_VER_1_1\"\n",
      "   ^~~~~~~\n",
      "common/hal-opencm3.c: In function 'clock_setup':\n",
      "common/hal-opencm3.c:104:41: warning: unused parameter 'clock' [-Wunused-parameter]\n",
      " static void clock_setup(enum clock_mode clock)\n",
      "                         ~~~~~~~~~~~~~~~~^~~~~\n",
      "mupq/crypto_kem/testvectors.c: In function 'main':\n",
      "mupq/crypto_kem/testvectors.c:25:43: warning: implicit declaration of function 'crypto_kem_keypair'; did you mean 'MUPQ_crypto_kem_keypair'? [-Wimplicit-function-declaration]\n",
      " #define MUPQ_crypto_kem_keypair NAMESPACE(crypto_kem_keypair)\n",
      "                                           ^~~~~~~~~~~~~~~~~~\n",
      "mupq/crypto_kem/testvectors.c:14:25: note: in definition of macro 'PASTER'\n",
      " #define PASTER(x, y) x##y\n",
      "                         ^\n",
      "mupq/crypto_kem/testvectors.c:16:24: note: in expansion of macro 'EVALUATOR'\n",
      " #define NAMESPACE(fun) EVALUATOR(MUPQ_NAMESPACE, fun)\n",
      "                        ^~~~~~~~~\n",
      "mupq/crypto_kem/testvectors.c:25:33: note: in expansion of macro 'NAMESPACE'\n",
      " #define MUPQ_crypto_kem_keypair NAMESPACE(crypto_kem_keypair)\n",
      "                                 ^~~~~~~~~\n",
      "mupq/crypto_kem/testvectors.c:100:5: note: in expansion of macro 'MUPQ_crypto_kem_keypair'\n",
      "     MUPQ_crypto_kem_keypair(pk, sk_a);\n",
      "     ^~~~~~~~~~~~~~~~~~~~~~~\n",
      "mupq/crypto_kem/testvectors.c:26:39: warning: implicit declaration of function 'crypto_kem_enc'; did you mean 'MUPQ_crypto_kem_enc'? [-Wimplicit-function-declaration]\n",
      " #define MUPQ_crypto_kem_enc NAMESPACE(crypto_kem_enc)\n",
      "                                       ^~~~~~~~~~~~~~\n",
      "mupq/crypto_kem/testvectors.c:14:25: note: in definition of macro 'PASTER'\n",
      " #define PASTER(x, y) x##y\n",
      "                         ^\n",
      "mupq/crypto_kem/testvectors.c:16:24: note: in expansion of macro 'EVALUATOR'\n",
      " #define NAMESPACE(fun) EVALUATOR(MUPQ_NAMESPACE, fun)\n",
      "                        ^~~~~~~~~\n",
      "mupq/crypto_kem/testvectors.c:26:29: note: in expansion of macro 'NAMESPACE'\n",
      " #define MUPQ_crypto_kem_enc NAMESPACE(crypto_kem_enc)\n",
      "                             ^~~~~~~~~\n",
      "mupq/crypto_kem/testvectors.c:106:5: note: in expansion of macro 'MUPQ_crypto_kem_enc'\n",
      "     MUPQ_crypto_kem_enc(sendb, key_b, pk);\n",
      "     ^~~~~~~~~~~~~~~~~~~\n",
      "mupq/crypto_kem/testvectors.c:27:39: warning: implicit declaration of function 'crypto_kem_dec'; did you mean 'MUPQ_crypto_kem_dec'? [-Wimplicit-function-declaration]\n",
      " #define MUPQ_crypto_kem_dec NAMESPACE(crypto_kem_dec)\n",
      "                                       ^~~~~~~~~~~~~~\n",
      "mupq/crypto_kem/testvectors.c:14:25: note: in definition of macro 'PASTER'\n",
      " #define PASTER(x, y) x##y\n",
      "                         ^\n",
      "mupq/crypto_kem/testvectors.c:16:24: note: in expansion of macro 'EVALUATOR'\n",
      " #define NAMESPACE(fun) EVALUATOR(MUPQ_NAMESPACE, fun)\n",
      "                        ^~~~~~~~~\n",
      "mupq/crypto_kem/testvectors.c:27:29: note: in expansion of macro 'NAMESPACE'\n",
      " #define MUPQ_crypto_kem_dec NAMESPACE(crypto_kem_dec)\n",
      "                             ^~~~~~~~~\n",
      "mupq/crypto_kem/testvectors.c:112:5: note: in expansion of macro 'MUPQ_crypto_kem_dec'\n",
      "     MUPQ_crypto_kem_dec(key_a, sendb, sk_a);\n",
      "     ^~~~~~~~~~~~~~~~~~~\n",
      "mupq/crypto_kem/testvectors.c:116:14: warning: comparison of integer expressions of different signedness: 'int' and 'unsigned int' [-Wsign-compare]\n",
      "     for(j=0;j<MUPQ_CRYPTO_BYTES;j++)\n",
      "              ^\n",
      "common/randombytes.c:38:2: warning: #warning Using a non-random randombytes [-Wcpp]\n",
      " #warning Using a non-random randombytes\n",
      "  ^~~~~~~\n",
      "common/hal-opencm3.c: In function 'clock_setup':\n",
      "common/hal-opencm3.c:104:41: warning: unused parameter 'clock' [-Wunused-parameter]\n",
      " static void clock_setup(enum clock_mode clock)\n",
      "                         ~~~~~~~~~~~~~~~~^~~~~\n"
     ]
    },
    {
     "name": "stdout",
     "output_type": "stream",
     "text": [
      "  CC      elf/crypto_kem_kyber768-90s_m4fspeed_speed.elf\n"
     ]
    },
    {
     "name": "stderr",
     "output_type": "stream",
     "text": [
      "common/hal-opencm3.c: In function 'clock_setup':\n",
      "common/hal-opencm3.c:104:41: warning: unused parameter 'clock' [-Wunused-parameter]\n",
      " static void clock_setup(enum clock_mode clock)\n",
      "                         ~~~~~~~~~~~~~~~~^~~~~\n",
      "common/randombytes.c:38:2: warning: #warning Using a non-random randombytes [-Wcpp]\n",
      " #warning Using a non-random randombytes\n",
      "  ^~~~~~~\n",
      "crypto_kem/bikel1/m4f/encode.c: In function 'encode_to_gft':\n",
      "crypto_kem/bikel1/m4f/encode.c:12:65: warning: unused variable 'f25' [-Wunused-variable]\n",
      " uint32_t f12,f13,f14,f15, f16,f17,f18,f19, f20,f21,f22,f23, f24,f25,f26,f27, f28,f29,f30,f31;\n",
      "                                                                 ^~~\n",
      "crypto_kem/bikel1/m4f/encode.c:12:48: warning: unused variable 'f21' [-Wunused-variable]\n",
      " uint32_t f12,f13,f14,f15, f16,f17,f18,f19, f20,f21,f22,f23, f24,f25,f26,f27, f28,f29,f30,f31;\n",
      "                                                ^~~\n",
      "crypto_kem/bikel1/m4f/encode.c:12:14: warning: unused variable 'f13' [-Wunused-variable]\n",
      " uint32_t f12,f13,f14,f15, f16,f17,f18,f19, f20,f21,f22,f23, f24,f25,f26,f27, f28,f29,f30,f31;\n",
      "              ^~~\n",
      "crypto_kem/bikel1/m4f/encode.c:11:19: warning: unused variable 'f3' [-Wunused-variable]\n",
      " uint32_t f0,f1,f2,f3, f4,f5,f6,f7, f8,f9,f10,f11;\n",
      "                   ^~\n",
      "crypto_kem/bikel1/m4f/gf2x_inv.c: In function 'repeated_squaring':\n",
      "crypto_kem/bikel1/m4f/gf2x_inv.c:28:50: warning: unused parameter 'sec_buf' [-Wunused-parameter]\n",
      "                                 OUT dbl_pad_r_t *sec_buf)\n",
      "                                     ~~~~~~~~~~~~~^~~~~~~\n",
      "crypto_kem/bikel1/m4f/gf2x_inv.c: In function 'gf2x_mod_inv':\n",
      "crypto_kem/bikel1/m4f/gf2x_inv.c:153:16: warning: unused variable 'exp1_l' [-Wunused-variable]\n",
      "   const size_t exp1_l[MAX_I] = {EXP1_L_VALS};\n",
      "                ^~~~~~\n"
     ]
    },
    {
     "name": "stdout",
     "output_type": "stream",
     "text": [
      "  CC      elf/crypto_kem_kyber768-90s_m4fspeed_hashing.elf\n"
     ]
    },
    {
     "name": "stderr",
     "output_type": "stream",
     "text": [
      "common/hal-opencm3.c: In function 'clock_setup':\n",
      "common/hal-opencm3.c:104:41: warning: unused parameter 'clock' [-Wunused-parameter]\n",
      " static void clock_setup(enum clock_mode clock)\n",
      "                         ~~~~~~~~~~~~~~~~^~~~~\n",
      "crypto_kem/bikel1/m4f/rotr_cshift_12323.c: In function 'cshift':\n",
      "crypto_kem/bikel1/m4f/rotr_cshift_12323.c:12:39: warning: implicit declaration of function 'cshift_asm'; did you mean 'cshift'? [-Wimplicit-function-declaration]\n",
      " void cshift(uint32_t *array, int s) { cshift_asm(array,s); }\n",
      "                                       ^~~~~~~~~~\n",
      "                                       cshift\n",
      "common/randombytes.c:38:2: warning: #warning Using a non-random randombytes [-Wcpp]\n",
      " #warning Using a non-random randombytes\n",
      "  ^~~~~~~\n",
      "crypto_kem/bikel1/m4f/rotr_cshift_12323.c: In function 'cshift_small':\n",
      "crypto_kem/bikel1/m4f/rotr_cshift_12323.c:638:3: warning: implicit declaration of function 'shiftright_small_umlal'; did you mean 'shiftright_small_umlal_C'? [-Wimplicit-function-declaration]\n",
      "   shiftright_small_umlal(array1, s , (r+31)/32 );\n",
      "   ^~~~~~~~~~~~~~~~~~~~~~\n",
      "   shiftright_small_umlal_C\n"
     ]
    },
    {
     "name": "stdout",
     "output_type": "stream",
     "text": [
      "  CC      elf/crypto_kem_kyber768-90s_m4fspeed_stack.elf\n",
      "  CC      elf/crypto_kem_kyber768-90s_m4fspeed_testvectors.elf\n"
     ]
    },
    {
     "name": "stderr",
     "output_type": "stream",
     "text": [
      "common/hal-opencm3.c: In function 'clock_setup':\n",
      "common/hal-opencm3.c:104:41: warning: unused parameter 'clock' [-Wunused-parameter]\n",
      " static void clock_setup(enum clock_mode clock)\n",
      "                         ~~~~~~~~~~~~~~~~^~~~~\n",
      "common/hal-opencm3.c: In function 'clock_setup':\n",
      "common/hal-opencm3.c:104:41: warning: unused parameter 'clock' [-Wunused-parameter]\n",
      " static void clock_setup(enum clock_mode clock)\n",
      "                         ~~~~~~~~~~~~~~~~^~~~~\n",
      "common/randombytes.c:38:2: warning: #warning Using a non-random randombytes [-Wcpp]\n",
      " #warning Using a non-random randombytes\n",
      "  ^~~~~~~\n",
      "crypto_kem/bikel1/m4f/encode.c: In function 'encode_to_gft':\n",
      "crypto_kem/bikel1/m4f/encode.c:12:65: warning: unused variable 'f25' [-Wunused-variable]\n",
      " uint32_t f12,f13,f14,f15, f16,f17,f18,f19, f20,f21,f22,f23, f24,f25,f26,f27, f28,f29,f30,f31;\n",
      "                                                                 ^~~\n",
      "crypto_kem/bikel1/m4f/encode.c:12:48: warning: unused variable 'f21' [-Wunused-variable]\n",
      " uint32_t f12,f13,f14,f15, f16,f17,f18,f19, f20,f21,f22,f23, f24,f25,f26,f27, f28,f29,f30,f31;\n",
      "                                                ^~~\n",
      "crypto_kem/bikel1/m4f/encode.c:12:14: warning: unused variable 'f13' [-Wunused-variable]\n",
      " uint32_t f12,f13,f14,f15, f16,f17,f18,f19, f20,f21,f22,f23, f24,f25,f26,f27, f28,f29,f30,f31;\n",
      "              ^~~\n",
      "crypto_kem/bikel1/m4f/encode.c:11:19: warning: unused variable 'f3' [-Wunused-variable]\n",
      " uint32_t f0,f1,f2,f3, f4,f5,f6,f7, f8,f9,f10,f11;\n",
      "                   ^~\n",
      "crypto_kem/bikel1/m4f/gf2x_inv.c: In function 'repeated_squaring':\n",
      "crypto_kem/bikel1/m4f/gf2x_inv.c:28:50: warning: unused parameter 'sec_buf' [-Wunused-parameter]\n",
      "                                 OUT dbl_pad_r_t *sec_buf)\n",
      "                                     ~~~~~~~~~~~~~^~~~~~~\n",
      "crypto_kem/bikel1/m4f/gf2x_inv.c: In function 'gf2x_mod_inv':\n",
      "crypto_kem/bikel1/m4f/gf2x_inv.c:153:16: warning: unused variable 'exp1_l' [-Wunused-variable]\n",
      "   const size_t exp1_l[MAX_I] = {EXP1_L_VALS};\n",
      "                ^~~~~~\n",
      "crypto_kem/bikel1/m4f/rotr_cshift_12323.c: In function 'cshift':\n",
      "crypto_kem/bikel1/m4f/rotr_cshift_12323.c:12:39: warning: implicit declaration of function 'cshift_asm'; did you mean 'cshift'? [-Wimplicit-function-declaration]\n",
      " void cshift(uint32_t *array, int s) { cshift_asm(array,s); }\n",
      "                                       ^~~~~~~~~~\n",
      "                                       cshift\n",
      "crypto_kem/bikel1/m4f/rotr_cshift_12323.c: In function 'cshift_small':\n",
      "crypto_kem/bikel1/m4f/rotr_cshift_12323.c:638:3: warning: implicit declaration of function 'shiftright_small_umlal'; did you mean 'shiftright_small_umlal_C'? [-Wimplicit-function-declaration]\n",
      "   shiftright_small_umlal(array1, s , (r+31)/32 );\n",
      "   ^~~~~~~~~~~~~~~~~~~~~~\n",
      "   shiftright_small_umlal_C\n"
     ]
    },
    {
     "name": "stdout",
     "output_type": "stream",
     "text": [
      "  CC      elf/crypto_kem_kyber768-90s_m4fstack_test.elf\n"
     ]
    },
    {
     "name": "stderr",
     "output_type": "stream",
     "text": [
      "In file included from mupq/crypto_kem/test.c:5:\n",
      "mupq/crypto_kem/../../../../hardware/victims/firmware/simpleserial/simpleserial.h:16:3: warning: #warning \"SS_VER undefined! Setting SS_VER=SS_VER_1_1\" [-Wcpp]\n",
      "  #warning \"SS_VER undefined! Setting SS_VER=SS_VER_1_1\"\n",
      "   ^~~~~~~\n"
     ]
    },
    {
     "name": "stdout",
     "output_type": "stream",
     "text": [
      "  CC      elf/crypto_kem_kyber768-90s_m4fstack_speed.elf\n"
     ]
    },
    {
     "name": "stderr",
     "output_type": "stream",
     "text": [
      "common/hal-opencm3.c: In function 'clock_setup':\n",
      "common/hal-opencm3.c:104:41: warning: unused parameter 'clock' [-Wunused-parameter]\n",
      " static void clock_setup(enum clock_mode clock)\n",
      "                         ~~~~~~~~~~~~~~~~^~~~~\n",
      "common/hal-opencm3.c: In function 'clock_setup':\n",
      "common/hal-opencm3.c:104:41: warning: unused parameter 'clock' [-Wunused-parameter]\n",
      " static void clock_setup(enum clock_mode clock)\n",
      "                         ~~~~~~~~~~~~~~~~^~~~~\n",
      "common/randombytes.c:38:2: warning: #warning Using a non-random randombytes [-Wcpp]\n",
      " #warning Using a non-random randombytes\n",
      "  ^~~~~~~\n",
      "common/randombytes.c:38:2: warning: #warning Using a non-random randombytes [-Wcpp]\n",
      " #warning Using a non-random randombytes\n",
      "  ^~~~~~~\n"
     ]
    },
    {
     "name": "stdout",
     "output_type": "stream",
     "text": [
      "  CC      elf/crypto_kem_kyber768-90s_m4fstack_hashing.elf\n",
      "  CC      elf/crypto_kem_kyber768-90s_m4fstack_stack.elf\n"
     ]
    },
    {
     "name": "stderr",
     "output_type": "stream",
     "text": [
      "common/hal-opencm3.c: In function 'clock_setup':\n",
      "common/hal-opencm3.c:104:41: warning: unused parameter 'clock' [-Wunused-parameter]\n",
      " static void clock_setup(enum clock_mode clock)\n",
      "                         ~~~~~~~~~~~~~~~~^~~~~\n",
      "common/randombytes.c:38:2: warning: #warning Using a non-random randombytes [-Wcpp]\n",
      " #warning Using a non-random randombytes\n",
      "  ^~~~~~~\n",
      "common/hal-opencm3.c: In function 'clock_setup':\n",
      "common/hal-opencm3.c:104:41: warning: unused parameter 'clock' [-Wunused-parameter]\n",
      " static void clock_setup(enum clock_mode clock)\n",
      "                         ~~~~~~~~~~~~~~~~^~~~~\n",
      "common/randombytes.c:38:2: warning: #warning Using a non-random randombytes [-Wcpp]\n",
      " #warning Using a non-random randombytes\n",
      "  ^~~~~~~\n"
     ]
    },
    {
     "name": "stdout",
     "output_type": "stream",
     "text": [
      "  CC      elf/crypto_kem_kyber768-90s_m4fstack_testvectors.elf\n"
     ]
    },
    {
     "name": "stderr",
     "output_type": "stream",
     "text": [
      "common/hal-opencm3.c: In function 'clock_setup':\n",
      "common/hal-opencm3.c:104:41: warning: unused parameter 'clock' [-Wunused-parameter]\n",
      " static void clock_setup(enum clock_mode clock)\n",
      "                         ~~~~~~~~~~~~~~~~^~~~~\n"
     ]
    },
    {
     "name": "stdout",
     "output_type": "stream",
     "text": [
      "  CC      elf/crypto_kem_kyber768_m4fspeed_test.elf\n"
     ]
    },
    {
     "name": "stderr",
     "output_type": "stream",
     "text": [
      "In file included from mupq/crypto_kem/test.c:5:\n",
      "mupq/crypto_kem/../../../../hardware/victims/firmware/simpleserial/simpleserial.h:16:3: warning: #warning \"SS_VER undefined! Setting SS_VER=SS_VER_1_1\" [-Wcpp]\n",
      "  #warning \"SS_VER undefined! Setting SS_VER=SS_VER_1_1\"\n",
      "   ^~~~~~~\n",
      "common/hal-opencm3.c: In function 'clock_setup':\n",
      "common/hal-opencm3.c:104:41: warning: unused parameter 'clock' [-Wunused-parameter]\n",
      " static void clock_setup(enum clock_mode clock)\n",
      "                         ~~~~~~~~~~~~~~~~^~~~~\n"
     ]
    },
    {
     "name": "stdout",
     "output_type": "stream",
     "text": [
      "  CC      elf/crypto_kem_kyber768_m4fspeed_speed.elf\n"
     ]
    },
    {
     "name": "stderr",
     "output_type": "stream",
     "text": [
      "common/randombytes.c:38:2: warning: #warning Using a non-random randombytes [-Wcpp]\n",
      " #warning Using a non-random randombytes\n",
      "  ^~~~~~~\n",
      "common/hal-opencm3.c: In function 'clock_setup':\n",
      "common/hal-opencm3.c:104:41: warning: unused parameter 'clock' [-Wunused-parameter]\n",
      " static void clock_setup(enum clock_mode clock)\n",
      "                         ~~~~~~~~~~~~~~~~^~~~~\n",
      "common/randombytes.c:38:2: warning: #warning Using a non-random randombytes [-Wcpp]\n",
      " #warning Using a non-random randombytes\n",
      "  ^~~~~~~\n"
     ]
    },
    {
     "name": "stdout",
     "output_type": "stream",
     "text": [
      "  CC      elf/crypto_kem_kyber768_m4fspeed_hashing.elf\n"
     ]
    },
    {
     "name": "stderr",
     "output_type": "stream",
     "text": [
      "common/hal-opencm3.c: In function 'clock_setup':\n",
      "common/hal-opencm3.c:104:41: warning: unused parameter 'clock' [-Wunused-parameter]\n",
      " static void clock_setup(enum clock_mode clock)\n",
      "                         ~~~~~~~~~~~~~~~~^~~~~\n",
      "common/randombytes.c:38:2: warning: #warning Using a non-random randombytes [-Wcpp]\n",
      " #warning Using a non-random randombytes\n",
      "  ^~~~~~~\n"
     ]
    },
    {
     "name": "stdout",
     "output_type": "stream",
     "text": [
      "  CC      elf/crypto_kem_kyber768_m4fspeed_stack.elf\n"
     ]
    },
    {
     "name": "stderr",
     "output_type": "stream",
     "text": [
      "common/hal-opencm3.c: In function 'clock_setup':\n",
      "common/hal-opencm3.c:104:41: warning: unused parameter 'clock' [-Wunused-parameter]\n",
      " static void clock_setup(enum clock_mode clock)\n",
      "                         ~~~~~~~~~~~~~~~~^~~~~\n"
     ]
    },
    {
     "name": "stdout",
     "output_type": "stream",
     "text": [
      "  CC      elf/crypto_kem_kyber768_m4fspeed_testvectors.elf\n"
     ]
    },
    {
     "name": "stderr",
     "output_type": "stream",
     "text": [
      "common/randombytes.c:38:2: warning: #warning Using a non-random randombytes [-Wcpp]\n",
      " #warning Using a non-random randombytes\n",
      "  ^~~~~~~\n"
     ]
    },
    {
     "name": "stdout",
     "output_type": "stream",
     "text": [
      "  CC      elf/crypto_kem_kyber768_m4fstack_test.elf\n"
     ]
    },
    {
     "name": "stderr",
     "output_type": "stream",
     "text": [
      "common/hal-opencm3.c: In function 'clock_setup':\n",
      "common/hal-opencm3.c:104:41: warning: unused parameter 'clock' [-Wunused-parameter]\n",
      " static void clock_setup(enum clock_mode clock)\n",
      "                         ~~~~~~~~~~~~~~~~^~~~~\n",
      "In file included from mupq/crypto_kem/test.c:5:\n",
      "mupq/crypto_kem/../../../../hardware/victims/firmware/simpleserial/simpleserial.h:16:3: warning: #warning \"SS_VER undefined! Setting SS_VER=SS_VER_1_1\" [-Wcpp]\n",
      "  #warning \"SS_VER undefined! Setting SS_VER=SS_VER_1_1\"\n",
      "   ^~~~~~~\n",
      "common/hal-opencm3.c: In function 'clock_setup':\n",
      "common/hal-opencm3.c:104:41: warning: unused parameter 'clock' [-Wunused-parameter]\n",
      " static void clock_setup(enum clock_mode clock)\n",
      "                         ~~~~~~~~~~~~~~~~^~~~~\n",
      "common/randombytes.c:38:2: warning: #warning Using a non-random randombytes [-Wcpp]\n",
      " #warning Using a non-random randombytes\n",
      "  ^~~~~~~\n"
     ]
    },
    {
     "name": "stdout",
     "output_type": "stream",
     "text": [
      "  CC      elf/crypto_kem_kyber768_m4fstack_speed.elf\n"
     ]
    },
    {
     "name": "stderr",
     "output_type": "stream",
     "text": [
      "common/hal-opencm3.c: In function 'clock_setup':\n",
      "common/hal-opencm3.c:104:41: warning: unused parameter 'clock' [-Wunused-parameter]\n",
      " static void clock_setup(enum clock_mode clock)\n",
      "                         ~~~~~~~~~~~~~~~~^~~~~\n",
      "common/randombytes.c:38:2: warning: #warning Using a non-random randombytes [-Wcpp]\n",
      " #warning Using a non-random randombytes\n",
      "  ^~~~~~~\n"
     ]
    },
    {
     "name": "stdout",
     "output_type": "stream",
     "text": [
      "  CC      elf/crypto_kem_kyber768_m4fstack_hashing.elf\n"
     ]
    },
    {
     "name": "stderr",
     "output_type": "stream",
     "text": [
      "common/hal-opencm3.c: In function 'clock_setup':\n",
      "common/hal-opencm3.c:104:41: warning: unused parameter 'clock' [-Wunused-parameter]\n",
      " static void clock_setup(enum clock_mode clock)\n",
      "                         ~~~~~~~~~~~~~~~~^~~~~\n",
      "common/randombytes.c:38:2: warning: #warning Using a non-random randombytes [-Wcpp]\n",
      " #warning Using a non-random randombytes\n",
      "  ^~~~~~~\n"
     ]
    },
    {
     "name": "stdout",
     "output_type": "stream",
     "text": [
      "  CC      elf/crypto_kem_kyber768_m4fstack_stack.elf\n"
     ]
    },
    {
     "name": "stderr",
     "output_type": "stream",
     "text": [
      "common/hal-opencm3.c: In function 'clock_setup':\n",
      "common/hal-opencm3.c:104:41: warning: unused parameter 'clock' [-Wunused-parameter]\n",
      " static void clock_setup(enum clock_mode clock)\n",
      "                         ~~~~~~~~~~~~~~~~^~~~~\n",
      "common/randombytes.c:38:2: warning: #warning Using a non-random randombytes [-Wcpp]\n",
      " #warning Using a non-random randombytes\n",
      "  ^~~~~~~\n"
     ]
    },
    {
     "name": "stdout",
     "output_type": "stream",
     "text": [
      "  CC      elf/crypto_kem_kyber768_m4fstack_testvectors.elf\n"
     ]
    },
    {
     "name": "stderr",
     "output_type": "stream",
     "text": [
      "common/hal-opencm3.c: In function 'clock_setup':\n",
      "common/hal-opencm3.c:104:41: warning: unused parameter 'clock' [-Wunused-parameter]\n",
      " static void clock_setup(enum clock_mode clock)\n",
      "                         ~~~~~~~~~~~~~~~~^~~~~\n"
     ]
    },
    {
     "name": "stdout",
     "output_type": "stream",
     "text": [
      "  CC      elf/mupq_crypto_kem_bikel3_opt_test.elf\n"
     ]
    },
    {
     "name": "stderr",
     "output_type": "stream",
     "text": [
      "In file included from mupq/crypto_kem/test.c:5:\n",
      "mupq/crypto_kem/../../../../hardware/victims/firmware/simpleserial/simpleserial.h:16:3: warning: #warning \"SS_VER undefined! Setting SS_VER=SS_VER_1_1\" [-Wcpp]\n",
      "  #warning \"SS_VER undefined! Setting SS_VER=SS_VER_1_1\"\n",
      "   ^~~~~~~\n",
      "mupq/crypto_kem/test.c: In function 'test_keys':\n",
      "mupq/crypto_kem/test.c:23:43: warning: implicit declaration of function 'crypto_kem_keypair'; did you mean 'MUPQ_crypto_kem_keypair'? [-Wimplicit-function-declaration]\n",
      " #define MUPQ_crypto_kem_keypair NAMESPACE(crypto_kem_keypair)\n",
      "                                           ^~~~~~~~~~~~~~~~~~\n",
      "mupq/crypto_kem/test.c:12:25: note: in definition of macro 'PASTER'\n",
      " #define PASTER(x, y) x##y\n",
      "                         ^\n",
      "mupq/crypto_kem/test.c:14:24: note: in expansion of macro 'EVALUATOR'\n",
      " #define NAMESPACE(fun) EVALUATOR(MUPQ_NAMESPACE, fun)\n",
      "                        ^~~~~~~~~\n",
      "mupq/crypto_kem/test.c:23:33: note: in expansion of macro 'NAMESPACE'\n",
      " #define MUPQ_crypto_kem_keypair NAMESPACE(crypto_kem_keypair)\n",
      "                                 ^~~~~~~~~\n",
      "mupq/crypto_kem/test.c:68:5: note: in expansion of macro 'MUPQ_crypto_kem_keypair'\n",
      "     MUPQ_crypto_kem_keypair(pk+8, sk_a+8);\n",
      "     ^~~~~~~~~~~~~~~~~~~~~~~\n",
      "mupq/crypto_kem/test.c:24:39: warning: implicit declaration of function 'crypto_kem_enc'; did you mean 'MUPQ_crypto_kem_enc'? [-Wimplicit-function-declaration]\n",
      " #define MUPQ_crypto_kem_enc NAMESPACE(crypto_kem_enc)\n",
      "                                       ^~~~~~~~~~~~~~\n",
      "mupq/crypto_kem/test.c:12:25: note: in definition of macro 'PASTER'\n",
      " #define PASTER(x, y) x##y\n",
      "                         ^\n",
      "mupq/crypto_kem/test.c:14:24: note: in expansion of macro 'EVALUATOR'\n",
      " #define NAMESPACE(fun) EVALUATOR(MUPQ_NAMESPACE, fun)\n",
      "                        ^~~~~~~~~\n",
      "mupq/crypto_kem/test.c:24:29: note: in expansion of macro 'NAMESPACE'\n",
      " #define MUPQ_crypto_kem_enc NAMESPACE(crypto_kem_enc)\n",
      "                             ^~~~~~~~~\n",
      "mupq/crypto_kem/test.c:72:5: note: in expansion of macro 'MUPQ_crypto_kem_enc'\n",
      "     MUPQ_crypto_kem_enc(sendb+8, key_b+8, pk+8);\n",
      "     ^~~~~~~~~~~~~~~~~~~\n",
      "mupq/crypto_kem/test.c:25:39: warning: implicit declaration of function 'crypto_kem_dec'; did you mean 'MUPQ_crypto_kem_dec'? [-Wimplicit-function-declaration]\n",
      " #define MUPQ_crypto_kem_dec NAMESPACE(crypto_kem_dec)\n",
      "                                       ^~~~~~~~~~~~~~\n",
      "mupq/crypto_kem/test.c:12:25: note: in definition of macro 'PASTER'\n",
      " #define PASTER(x, y) x##y\n",
      "                         ^\n",
      "mupq/crypto_kem/test.c:14:24: note: in expansion of macro 'EVALUATOR'\n",
      " #define NAMESPACE(fun) EVALUATOR(MUPQ_NAMESPACE, fun)\n",
      "                        ^~~~~~~~~\n",
      "mupq/crypto_kem/test.c:25:29: note: in expansion of macro 'NAMESPACE'\n",
      " #define MUPQ_crypto_kem_dec NAMESPACE(crypto_kem_dec)\n",
      "                             ^~~~~~~~~\n",
      "mupq/crypto_kem/test.c:76:5: note: in expansion of macro 'MUPQ_crypto_kem_dec'\n",
      "     MUPQ_crypto_kem_dec(key_a+8, sendb+8, sk_a+8);\n",
      "     ^~~~~~~~~~~~~~~~~~~\n",
      "common/hal-opencm3.c: In function 'clock_setup':\n",
      "common/hal-opencm3.c:104:41: warning: unused parameter 'clock' [-Wunused-parameter]\n",
      " static void clock_setup(enum clock_mode clock)\n",
      "                         ~~~~~~~~~~~~~~~~^~~~~\n",
      "common/randombytes.c:38:2: warning: #warning Using a non-random randombytes [-Wcpp]\n",
      " #warning Using a non-random randombytes\n",
      "  ^~~~~~~\n"
     ]
    },
    {
     "name": "stdout",
     "output_type": "stream",
     "text": [
      "  CC      elf/mupq_crypto_kem_bikel3_opt_speed.elf\n"
     ]
    },
    {
     "name": "stderr",
     "output_type": "stream",
     "text": [
      "mupq/crypto_kem/speed.c: In function 'main':\n",
      "mupq/crypto_kem/speed.c:20:43: warning: implicit declaration of function 'crypto_kem_keypair'; did you mean 'MUPQ_crypto_kem_keypair'? [-Wimplicit-function-declaration]\n",
      " #define MUPQ_crypto_kem_keypair NAMESPACE(crypto_kem_keypair)\n",
      "                                           ^~~~~~~~~~~~~~~~~~\n",
      "mupq/crypto_kem/speed.c:9:25: note: in definition of macro 'PASTER'\n",
      " #define PASTER(x, y) x##y\n",
      "                         ^\n",
      "mupq/crypto_kem/speed.c:11:24: note: in expansion of macro 'EVALUATOR'\n",
      " #define NAMESPACE(fun) EVALUATOR(MUPQ_NAMESPACE, fun)\n",
      "                        ^~~~~~~~~\n",
      "mupq/crypto_kem/speed.c:20:33: note: in expansion of macro 'NAMESPACE'\n",
      " #define MUPQ_crypto_kem_keypair NAMESPACE(crypto_kem_keypair)\n",
      "                                 ^~~~~~~~~\n",
      "mupq/crypto_kem/speed.c:43:5: note: in expansion of macro 'MUPQ_crypto_kem_keypair'\n",
      "     MUPQ_crypto_kem_keypair(pk, sk);\n",
      "     ^~~~~~~~~~~~~~~~~~~~~~~\n",
      "mupq/crypto_kem/speed.c:21:39: warning: implicit declaration of function 'crypto_kem_enc'; did you mean 'MUPQ_crypto_kem_enc'? [-Wimplicit-function-declaration]\n",
      " #define MUPQ_crypto_kem_enc NAMESPACE(crypto_kem_enc)\n",
      "                                       ^~~~~~~~~~~~~~\n",
      "mupq/crypto_kem/speed.c:9:25: note: in definition of macro 'PASTER'\n",
      " #define PASTER(x, y) x##y\n",
      "                         ^\n",
      "mupq/crypto_kem/speed.c:11:24: note: in expansion of macro 'EVALUATOR'\n",
      " #define NAMESPACE(fun) EVALUATOR(MUPQ_NAMESPACE, fun)\n",
      "                        ^~~~~~~~~\n",
      "mupq/crypto_kem/speed.c:21:29: note: in expansion of macro 'NAMESPACE'\n",
      " #define MUPQ_crypto_kem_enc NAMESPACE(crypto_kem_enc)\n",
      "                             ^~~~~~~~~\n",
      "mupq/crypto_kem/speed.c:49:5: note: in expansion of macro 'MUPQ_crypto_kem_enc'\n",
      "     MUPQ_crypto_kem_enc(ct, key_a, pk);\n",
      "     ^~~~~~~~~~~~~~~~~~~\n",
      "mupq/crypto_kem/speed.c:22:39: warning: implicit declaration of function 'crypto_kem_dec'; did you mean 'MUPQ_crypto_kem_dec'? [-Wimplicit-function-declaration]\n",
      " #define MUPQ_crypto_kem_dec NAMESPACE(crypto_kem_dec)\n",
      "                                       ^~~~~~~~~~~~~~\n",
      "mupq/crypto_kem/speed.c:9:25: note: in definition of macro 'PASTER'\n",
      " #define PASTER(x, y) x##y\n",
      "                         ^\n",
      "mupq/crypto_kem/speed.c:11:24: note: in expansion of macro 'EVALUATOR'\n",
      " #define NAMESPACE(fun) EVALUATOR(MUPQ_NAMESPACE, fun)\n",
      "                        ^~~~~~~~~\n",
      "mupq/crypto_kem/speed.c:22:29: note: in expansion of macro 'NAMESPACE'\n",
      " #define MUPQ_crypto_kem_dec NAMESPACE(crypto_kem_dec)\n",
      "                             ^~~~~~~~~\n",
      "mupq/crypto_kem/speed.c:55:5: note: in expansion of macro 'MUPQ_crypto_kem_dec'\n",
      "     MUPQ_crypto_kem_dec(key_b, ct, sk);\n",
      "     ^~~~~~~~~~~~~~~~~~~\n"
     ]
    },
    {
     "name": "stdout",
     "output_type": "stream",
     "text": [
      "  CC      elf/mupq_crypto_kem_bikel3_opt_hashing.elf\n"
     ]
    },
    {
     "name": "stderr",
     "output_type": "stream",
     "text": [
      "common/hal-opencm3.c: In function 'clock_setup':\n",
      "mupq/crypto_kem/hashing.c: In function 'main':\n",
      "common/hal-opencm3.c:104:41: warning: unused parameter 'clock' [-Wunused-parameter]\n",
      " static void clock_setup(enum clock_mode clock)\n",
      "                         ~~~~~~~~~~~~~~~~^~~~~\n",
      "mupq/crypto_kem/hashing.c:20:43: warning: implicit declaration of function 'crypto_kem_keypair'; did you mean 'MUPQ_crypto_kem_keypair'? [-Wimplicit-function-declaration]\n",
      " #define MUPQ_crypto_kem_keypair NAMESPACE(crypto_kem_keypair)\n",
      "                                           ^~~~~~~~~~~~~~~~~~\n",
      "mupq/crypto_kem/hashing.c:9:25: note: in definition of macro 'PASTER'\n",
      " #define PASTER(x, y) x##y\n",
      "                         ^\n",
      "mupq/crypto_kem/hashing.c:11:24: note: in expansion of macro 'EVALUATOR'\n",
      " #define NAMESPACE(fun) EVALUATOR(MUPQ_NAMESPACE, fun)\n",
      "                        ^~~~~~~~~\n",
      "mupq/crypto_kem/hashing.c:20:33: note: in expansion of macro 'NAMESPACE'\n",
      " #define MUPQ_crypto_kem_keypair NAMESPACE(crypto_kem_keypair)\n",
      "                                 ^~~~~~~~~\n",
      "mupq/crypto_kem/hashing.c:46:5: note: in expansion of macro 'MUPQ_crypto_kem_keypair'\n",
      "     MUPQ_crypto_kem_keypair(pk, sk);\n",
      "     ^~~~~~~~~~~~~~~~~~~~~~~\n"
     ]
    },
    {
     "name": "stdout",
     "output_type": "stream",
     "text": [
      "  CC      elf/mupq_crypto_kem_bikel3_opt_stack.elf\n"
     ]
    },
    {
     "name": "stderr",
     "output_type": "stream",
     "text": [
      "mupq/crypto_kem/hashing.c:21:39: warning: implicit declaration of function 'crypto_kem_enc'; did you mean 'MUPQ_crypto_kem_enc'? [-Wimplicit-function-declaration]\n",
      " #define MUPQ_crypto_kem_enc NAMESPACE(crypto_kem_enc)\n",
      "                                       ^~~~~~~~~~~~~~\n",
      "mupq/crypto_kem/hashing.c:9:25: note: in definition of macro 'PASTER'\n",
      " #define PASTER(x, y) x##y\n",
      "                         ^\n",
      "mupq/crypto_kem/hashing.c:11:24: note: in expansion of macro 'EVALUATOR'\n",
      " #define NAMESPACE(fun) EVALUATOR(MUPQ_NAMESPACE, fun)\n",
      "                        ^~~~~~~~~\n",
      "mupq/crypto_kem/hashing.c:21:29: note: in expansion of macro 'NAMESPACE'\n",
      " #define MUPQ_crypto_kem_enc NAMESPACE(crypto_kem_enc)\n",
      "                             ^~~~~~~~~\n",
      "mupq/crypto_kem/hashing.c:54:5: note: in expansion of macro 'MUPQ_crypto_kem_enc'\n",
      "     MUPQ_crypto_kem_enc(ct, key_a, pk);\n",
      "     ^~~~~~~~~~~~~~~~~~~\n",
      "mupq/crypto_kem/hashing.c:22:39: warning: implicit declaration of function 'crypto_kem_dec'; did you mean 'MUPQ_crypto_kem_dec'? [-Wimplicit-function-declaration]\n",
      " #define MUPQ_crypto_kem_dec NAMESPACE(crypto_kem_dec)\n",
      "                                       ^~~~~~~~~~~~~~\n",
      "mupq/crypto_kem/hashing.c:9:25: note: in definition of macro 'PASTER'\n",
      " #define PASTER(x, y) x##y\n",
      "                         ^\n",
      "mupq/crypto_kem/hashing.c:11:24: note: in expansion of macro 'EVALUATOR'\n",
      " #define NAMESPACE(fun) EVALUATOR(MUPQ_NAMESPACE, fun)\n",
      "                        ^~~~~~~~~\n",
      "mupq/crypto_kem/hashing.c:22:29: note: in expansion of macro 'NAMESPACE'\n",
      " #define MUPQ_crypto_kem_dec NAMESPACE(crypto_kem_dec)\n",
      "                             ^~~~~~~~~\n",
      "mupq/crypto_kem/hashing.c:62:5: note: in expansion of macro 'MUPQ_crypto_kem_dec'\n",
      "     MUPQ_crypto_kem_dec(key_b, ct, sk);\n",
      "     ^~~~~~~~~~~~~~~~~~~\n",
      "mupq/crypto_kem/stack.c: In function 'test_keys':\n",
      "mupq/crypto_kem/stack.c:28:43: warning: implicit declaration of function 'crypto_kem_keypair'; did you mean 'MUPQ_crypto_kem_keypair'? [-Wimplicit-function-declaration]\n",
      " #define MUPQ_crypto_kem_keypair NAMESPACE(crypto_kem_keypair)\n",
      "                                           ^~~~~~~~~~~~~~~~~~\n",
      "mupq/crypto_kem/stack.c:17:25: note: in definition of macro 'PASTER'\n",
      " #define PASTER(x, y) x##y\n",
      "                         ^\n",
      "mupq/crypto_kem/stack.c:19:24: note: in expansion of macro 'EVALUATOR'\n",
      " #define NAMESPACE(fun) EVALUATOR(MUPQ_NAMESPACE, fun)\n",
      "                        ^~~~~~~~~\n",
      "mupq/crypto_kem/stack.c:28:33: note: in expansion of macro 'NAMESPACE'\n",
      " #define MUPQ_crypto_kem_keypair NAMESPACE(crypto_kem_keypair)\n",
      "                                 ^~~~~~~~~\n",
      "mupq/crypto_kem/stack.c:61:3: note: in expansion of macro 'MUPQ_crypto_kem_keypair'\n",
      "   MUPQ_crypto_kem_keypair(pk, sk_a);\n",
      "   ^~~~~~~~~~~~~~~~~~~~~~~\n",
      "mupq/crypto_kem/stack.c:29:39: warning: implicit declaration of function 'crypto_kem_enc'; did you mean 'MUPQ_crypto_kem_enc'? [-Wimplicit-function-declaration]\n",
      " #define MUPQ_crypto_kem_enc NAMESPACE(crypto_kem_enc)\n",
      "                                       ^~~~~~~~~~~~~~\n",
      "mupq/crypto_kem/stack.c:17:25: note: in definition of macro 'PASTER'\n",
      " #define PASTER(x, y) x##y\n",
      "                         ^\n",
      "mupq/crypto_kem/stack.c:19:24: note: in expansion of macro 'EVALUATOR'\n",
      " #define NAMESPACE(fun) EVALUATOR(MUPQ_NAMESPACE, fun)\n",
      "                        ^~~~~~~~~\n",
      "mupq/crypto_kem/stack.c:29:29: note: in expansion of macro 'NAMESPACE'\n",
      " #define MUPQ_crypto_kem_enc NAMESPACE(crypto_kem_enc)\n",
      "                             ^~~~~~~~~\n",
      "mupq/crypto_kem/stack.c:68:3: note: in expansion of macro 'MUPQ_crypto_kem_enc'\n",
      "   MUPQ_crypto_kem_enc(sendb, key_b, pk);\n",
      "   ^~~~~~~~~~~~~~~~~~~\n",
      "mupq/crypto_kem/stack.c:30:39: warning: implicit declaration of function 'crypto_kem_dec'; did you mean 'MUPQ_crypto_kem_dec'? [-Wimplicit-function-declaration]\n",
      " #define MUPQ_crypto_kem_dec NAMESPACE(crypto_kem_dec)\n",
      "                                       ^~~~~~~~~~~~~~\n",
      "mupq/crypto_kem/stack.c:17:25: note: in definition of macro 'PASTER'\n",
      " #define PASTER(x, y) x##y\n",
      "                         ^\n",
      "mupq/crypto_kem/stack.c:19:24: note: in expansion of macro 'EVALUATOR'\n",
      " #define NAMESPACE(fun) EVALUATOR(MUPQ_NAMESPACE, fun)\n",
      "                        ^~~~~~~~~\n",
      "mupq/crypto_kem/stack.c:30:29: note: in expansion of macro 'NAMESPACE'\n",
      " #define MUPQ_crypto_kem_dec NAMESPACE(crypto_kem_dec)\n",
      "                             ^~~~~~~~~\n",
      "mupq/crypto_kem/stack.c:75:3: note: in expansion of macro 'MUPQ_crypto_kem_dec'\n",
      "   MUPQ_crypto_kem_dec(key_a, sendb, sk_a);\n",
      "   ^~~~~~~~~~~~~~~~~~~\n",
      "common/randombytes.c:38:2: warning: #warning Using a non-random randombytes [-Wcpp]\n",
      " #warning Using a non-random randombytes\n",
      "  ^~~~~~~\n",
      "common/hal-opencm3.c: In function 'clock_setup':\n",
      "common/hal-opencm3.c: In function 'clock_setup':\n",
      "common/hal-opencm3.c:104:41: warning: unused parameter 'clock' [-Wunused-parameter]\n",
      " static void clock_setup(enum clock_mode clock)\n",
      "                         ~~~~~~~~~~~~~~~~^~~~~\n",
      "common/hal-opencm3.c:104:41: warning: unused parameter 'clock' [-Wunused-parameter]\n",
      " static void clock_setup(enum clock_mode clock)\n",
      "                         ~~~~~~~~~~~~~~~~^~~~~\n",
      "common/randombytes.c:38:2: warning: #warning Using a non-random randombytes [-Wcpp]\n",
      " #warning Using a non-random randombytes\n",
      "  ^~~~~~~\n",
      "common/randombytes.c:38:2: warning: #warning Using a non-random randombytes [-Wcpp]\n",
      " #warning Using a non-random randombytes\n",
      "  ^~~~~~~\n"
     ]
    },
    {
     "name": "stdout",
     "output_type": "stream",
     "text": [
      "  CC      elf/mupq_crypto_kem_bikel3_opt_testvectors.elf\n"
     ]
    },
    {
     "name": "stderr",
     "output_type": "stream",
     "text": [
      "mupq/crypto_kem/testvectors.c: In function 'main':\n",
      "mupq/crypto_kem/testvectors.c:25:43: warning: implicit declaration of function 'crypto_kem_keypair'; did you mean 'MUPQ_crypto_kem_keypair'? [-Wimplicit-function-declaration]\n",
      " #define MUPQ_crypto_kem_keypair NAMESPACE(crypto_kem_keypair)\n",
      "                                           ^~~~~~~~~~~~~~~~~~\n",
      "mupq/crypto_kem/testvectors.c:14:25: note: in definition of macro 'PASTER'\n",
      " #define PASTER(x, y) x##y\n",
      "                         ^\n",
      "mupq/crypto_kem/testvectors.c:16:24: note: in expansion of macro 'EVALUATOR'\n",
      " #define NAMESPACE(fun) EVALUATOR(MUPQ_NAMESPACE, fun)\n",
      "                        ^~~~~~~~~\n",
      "mupq/crypto_kem/testvectors.c:25:33: note: in expansion of macro 'NAMESPACE'\n",
      " #define MUPQ_crypto_kem_keypair NAMESPACE(crypto_kem_keypair)\n",
      "                                 ^~~~~~~~~\n",
      "mupq/crypto_kem/testvectors.c:100:5: note: in expansion of macro 'MUPQ_crypto_kem_keypair'\n",
      "     MUPQ_crypto_kem_keypair(pk, sk_a);\n",
      "     ^~~~~~~~~~~~~~~~~~~~~~~\n",
      "mupq/crypto_kem/testvectors.c:26:39: warning: implicit declaration of function 'crypto_kem_enc'; did you mean 'MUPQ_crypto_kem_enc'? [-Wimplicit-function-declaration]\n",
      " #define MUPQ_crypto_kem_enc NAMESPACE(crypto_kem_enc)\n",
      "                                       ^~~~~~~~~~~~~~\n",
      "mupq/crypto_kem/testvectors.c:14:25: note: in definition of macro 'PASTER'\n",
      " #define PASTER(x, y) x##y\n",
      "                         ^\n",
      "mupq/crypto_kem/testvectors.c:16:24: note: in expansion of macro 'EVALUATOR'\n",
      " #define NAMESPACE(fun) EVALUATOR(MUPQ_NAMESPACE, fun)\n",
      "                        ^~~~~~~~~\n",
      "mupq/crypto_kem/testvectors.c:26:29: note: in expansion of macro 'NAMESPACE'\n",
      " #define MUPQ_crypto_kem_enc NAMESPACE(crypto_kem_enc)\n",
      "                             ^~~~~~~~~\n",
      "mupq/crypto_kem/testvectors.c:106:5: note: in expansion of macro 'MUPQ_crypto_kem_enc'\n",
      "     MUPQ_crypto_kem_enc(sendb, key_b, pk);\n",
      "     ^~~~~~~~~~~~~~~~~~~\n",
      "mupq/crypto_kem/testvectors.c:27:39: warning: implicit declaration of function 'crypto_kem_dec'; did you mean 'MUPQ_crypto_kem_dec'? [-Wimplicit-function-declaration]\n",
      " #define MUPQ_crypto_kem_dec NAMESPACE(crypto_kem_dec)\n",
      "                                       ^~~~~~~~~~~~~~\n",
      "mupq/crypto_kem/testvectors.c:14:25: note: in definition of macro 'PASTER'\n",
      " #define PASTER(x, y) x##y\n",
      "                         ^\n",
      "mupq/crypto_kem/testvectors.c:16:24: note: in expansion of macro 'EVALUATOR'\n",
      " #define NAMESPACE(fun) EVALUATOR(MUPQ_NAMESPACE, fun)\n",
      "                        ^~~~~~~~~\n",
      "mupq/crypto_kem/testvectors.c:27:29: note: in expansion of macro 'NAMESPACE'\n",
      " #define MUPQ_crypto_kem_dec NAMESPACE(crypto_kem_dec)\n",
      "                             ^~~~~~~~~\n",
      "mupq/crypto_kem/testvectors.c:112:5: note: in expansion of macro 'MUPQ_crypto_kem_dec'\n",
      "     MUPQ_crypto_kem_dec(key_a, sendb, sk_a);\n",
      "     ^~~~~~~~~~~~~~~~~~~\n",
      "mupq/crypto_kem/testvectors.c:116:14: warning: comparison of integer expressions of different signedness: 'int' and 'unsigned int' [-Wsign-compare]\n",
      "     for(j=0;j<MUPQ_CRYPTO_BYTES;j++)\n",
      "              ^\n",
      "common/hal-opencm3.c: In function 'clock_setup':\n",
      "common/hal-opencm3.c:104:41: warning: unused parameter 'clock' [-Wunused-parameter]\n",
      " static void clock_setup(enum clock_mode clock)\n",
      "                         ~~~~~~~~~~~~~~~~^~~~~\n"
     ]
    },
    {
     "name": "stdout",
     "output_type": "stream",
     "text": [
      "  CC      elf/mupq_crypto_kem_bikel1_opt_test.elf\n"
     ]
    },
    {
     "name": "stderr",
     "output_type": "stream",
     "text": [
      "In file included from mupq/crypto_kem/test.c:5:\n",
      "mupq/crypto_kem/../../../../hardware/victims/firmware/simpleserial/simpleserial.h:16:3: warning: #warning \"SS_VER undefined! Setting SS_VER=SS_VER_1_1\" [-Wcpp]\n",
      "  #warning \"SS_VER undefined! Setting SS_VER=SS_VER_1_1\"\n",
      "   ^~~~~~~\n",
      "mupq/crypto_kem/test.c: In function 'test_keys':\n",
      "mupq/crypto_kem/test.c:23:43: warning: implicit declaration of function 'crypto_kem_keypair'; did you mean 'MUPQ_crypto_kem_keypair'? [-Wimplicit-function-declaration]\n",
      " #define MUPQ_crypto_kem_keypair NAMESPACE(crypto_kem_keypair)\n",
      "                                           ^~~~~~~~~~~~~~~~~~\n",
      "mupq/crypto_kem/test.c:12:25: note: in definition of macro 'PASTER'\n",
      " #define PASTER(x, y) x##y\n",
      "                         ^\n",
      "mupq/crypto_kem/test.c:14:24: note: in expansion of macro 'EVALUATOR'\n",
      " #define NAMESPACE(fun) EVALUATOR(MUPQ_NAMESPACE, fun)\n",
      "                        ^~~~~~~~~\n",
      "mupq/crypto_kem/test.c:23:33: note: in expansion of macro 'NAMESPACE'\n",
      " #define MUPQ_crypto_kem_keypair NAMESPACE(crypto_kem_keypair)\n",
      "                                 ^~~~~~~~~\n",
      "mupq/crypto_kem/test.c:68:5: note: in expansion of macro 'MUPQ_crypto_kem_keypair'\n",
      "     MUPQ_crypto_kem_keypair(pk+8, sk_a+8);\n",
      "     ^~~~~~~~~~~~~~~~~~~~~~~\n",
      "mupq/crypto_kem/test.c:24:39: warning: implicit declaration of function 'crypto_kem_enc'; did you mean 'MUPQ_crypto_kem_enc'? [-Wimplicit-function-declaration]\n",
      " #define MUPQ_crypto_kem_enc NAMESPACE(crypto_kem_enc)\n",
      "                                       ^~~~~~~~~~~~~~\n",
      "mupq/crypto_kem/test.c:12:25: note: in definition of macro 'PASTER'\n",
      " #define PASTER(x, y) x##y\n",
      "                         ^\n",
      "mupq/crypto_kem/test.c:14:24: note: in expansion of macro 'EVALUATOR'\n",
      " #define NAMESPACE(fun) EVALUATOR(MUPQ_NAMESPACE, fun)\n",
      "                        ^~~~~~~~~\n",
      "mupq/crypto_kem/test.c:24:29: note: in expansion of macro 'NAMESPACE'\n",
      " #define MUPQ_crypto_kem_enc NAMESPACE(crypto_kem_enc)\n",
      "                             ^~~~~~~~~\n",
      "mupq/crypto_kem/test.c:72:5: note: in expansion of macro 'MUPQ_crypto_kem_enc'\n",
      "     MUPQ_crypto_kem_enc(sendb+8, key_b+8, pk+8);\n",
      "     ^~~~~~~~~~~~~~~~~~~\n",
      "mupq/crypto_kem/test.c:25:39: warning: implicit declaration of function 'crypto_kem_dec'; did you mean 'MUPQ_crypto_kem_dec'? [-Wimplicit-function-declaration]\n",
      " #define MUPQ_crypto_kem_dec NAMESPACE(crypto_kem_dec)\n",
      "                                       ^~~~~~~~~~~~~~\n",
      "mupq/crypto_kem/test.c:12:25: note: in definition of macro 'PASTER'\n",
      " #define PASTER(x, y) x##y\n",
      "                         ^\n",
      "mupq/crypto_kem/test.c:14:24: note: in expansion of macro 'EVALUATOR'\n",
      " #define NAMESPACE(fun) EVALUATOR(MUPQ_NAMESPACE, fun)\n",
      "                        ^~~~~~~~~\n",
      "mupq/crypto_kem/test.c:25:29: note: in expansion of macro 'NAMESPACE'\n",
      " #define MUPQ_crypto_kem_dec NAMESPACE(crypto_kem_dec)\n",
      "                             ^~~~~~~~~\n",
      "mupq/crypto_kem/test.c:76:5: note: in expansion of macro 'MUPQ_crypto_kem_dec'\n",
      "     MUPQ_crypto_kem_dec(key_a+8, sendb+8, sk_a+8);\n",
      "     ^~~~~~~~~~~~~~~~~~~\n",
      "common/hal-opencm3.c: In function 'clock_setup':\n",
      "common/hal-opencm3.c:104:41: warning: unused parameter 'clock' [-Wunused-parameter]\n",
      " static void clock_setup(enum clock_mode clock)\n",
      "                         ~~~~~~~~~~~~~~~~^~~~~\n",
      "common/randombytes.c:38:2: warning: #warning Using a non-random randombytes [-Wcpp]\n",
      " #warning Using a non-random randombytes\n",
      "  ^~~~~~~\n"
     ]
    },
    {
     "name": "stdout",
     "output_type": "stream",
     "text": [
      "  CC      elf/mupq_crypto_kem_bikel1_opt_speed.elf\n"
     ]
    },
    {
     "name": "stderr",
     "output_type": "stream",
     "text": [
      "mupq/crypto_kem/speed.c: In function 'main':\n",
      "mupq/crypto_kem/speed.c:20:43: warning: implicit declaration of function 'crypto_kem_keypair'; did you mean 'MUPQ_crypto_kem_keypair'? [-Wimplicit-function-declaration]\n",
      " #define MUPQ_crypto_kem_keypair NAMESPACE(crypto_kem_keypair)\n",
      "                                           ^~~~~~~~~~~~~~~~~~\n",
      "mupq/crypto_kem/speed.c:9:25: note: in definition of macro 'PASTER'\n",
      " #define PASTER(x, y) x##y\n",
      "                         ^\n",
      "mupq/crypto_kem/speed.c:11:24: note: in expansion of macro 'EVALUATOR'\n",
      " #define NAMESPACE(fun) EVALUATOR(MUPQ_NAMESPACE, fun)\n",
      "                        ^~~~~~~~~\n",
      "mupq/crypto_kem/speed.c:20:33: note: in expansion of macro 'NAMESPACE'\n",
      " #define MUPQ_crypto_kem_keypair NAMESPACE(crypto_kem_keypair)\n",
      "                                 ^~~~~~~~~\n",
      "mupq/crypto_kem/speed.c:43:5: note: in expansion of macro 'MUPQ_crypto_kem_keypair'\n",
      "     MUPQ_crypto_kem_keypair(pk, sk);\n",
      "     ^~~~~~~~~~~~~~~~~~~~~~~\n",
      "mupq/crypto_kem/speed.c:21:39: warning: implicit declaration of function 'crypto_kem_enc'; did you mean 'MUPQ_crypto_kem_enc'? [-Wimplicit-function-declaration]\n",
      " #define MUPQ_crypto_kem_enc NAMESPACE(crypto_kem_enc)\n",
      "                                       ^~~~~~~~~~~~~~\n",
      "mupq/crypto_kem/speed.c:9:25: note: in definition of macro 'PASTER'\n",
      " #define PASTER(x, y) x##y\n",
      "                         ^\n",
      "mupq/crypto_kem/speed.c:11:24: note: in expansion of macro 'EVALUATOR'\n",
      " #define NAMESPACE(fun) EVALUATOR(MUPQ_NAMESPACE, fun)\n",
      "                        ^~~~~~~~~\n",
      "mupq/crypto_kem/speed.c:21:29: note: in expansion of macro 'NAMESPACE'\n",
      " #define MUPQ_crypto_kem_enc NAMESPACE(crypto_kem_enc)\n",
      "                             ^~~~~~~~~\n",
      "mupq/crypto_kem/speed.c:49:5: note: in expansion of macro 'MUPQ_crypto_kem_enc'\n",
      "     MUPQ_crypto_kem_enc(ct, key_a, pk);\n",
      "     ^~~~~~~~~~~~~~~~~~~\n",
      "mupq/crypto_kem/speed.c:22:39: warning: implicit declaration of function 'crypto_kem_dec'; did you mean 'MUPQ_crypto_kem_dec'? [-Wimplicit-function-declaration]\n",
      " #define MUPQ_crypto_kem_dec NAMESPACE(crypto_kem_dec)\n",
      "                                       ^~~~~~~~~~~~~~\n",
      "mupq/crypto_kem/speed.c:9:25: note: in definition of macro 'PASTER'\n",
      " #define PASTER(x, y) x##y\n",
      "                         ^\n",
      "mupq/crypto_kem/speed.c:11:24: note: in expansion of macro 'EVALUATOR'\n",
      " #define NAMESPACE(fun) EVALUATOR(MUPQ_NAMESPACE, fun)\n",
      "                        ^~~~~~~~~\n",
      "mupq/crypto_kem/speed.c:22:29: note: in expansion of macro 'NAMESPACE'\n",
      " #define MUPQ_crypto_kem_dec NAMESPACE(crypto_kem_dec)\n",
      "                             ^~~~~~~~~\n",
      "mupq/crypto_kem/speed.c:55:5: note: in expansion of macro 'MUPQ_crypto_kem_dec'\n",
      "     MUPQ_crypto_kem_dec(key_b, ct, sk);\n",
      "     ^~~~~~~~~~~~~~~~~~~\n",
      "common/hal-opencm3.c: In function 'clock_setup':\n",
      "common/hal-opencm3.c:104:41: warning: unused parameter 'clock' [-Wunused-parameter]\n",
      " static void clock_setup(enum clock_mode clock)\n",
      "                         ~~~~~~~~~~~~~~~~^~~~~\n",
      "common/randombytes.c:38:2: warning: #warning Using a non-random randombytes [-Wcpp]\n",
      " #warning Using a non-random randombytes\n",
      "  ^~~~~~~\n"
     ]
    },
    {
     "name": "stdout",
     "output_type": "stream",
     "text": [
      "  CC      elf/mupq_crypto_kem_bikel1_opt_hashing.elf\n"
     ]
    },
    {
     "name": "stderr",
     "output_type": "stream",
     "text": [
      "mupq/crypto_kem/hashing.c: In function 'main':\n",
      "mupq/crypto_kem/hashing.c:20:43: warning: implicit declaration of function 'crypto_kem_keypair'; did you mean 'MUPQ_crypto_kem_keypair'? [-Wimplicit-function-declaration]\n",
      " #define MUPQ_crypto_kem_keypair NAMESPACE(crypto_kem_keypair)\n",
      "                                           ^~~~~~~~~~~~~~~~~~\n",
      "mupq/crypto_kem/hashing.c:9:25: note: in definition of macro 'PASTER'\n",
      " #define PASTER(x, y) x##y\n",
      "                         ^\n",
      "mupq/crypto_kem/hashing.c:11:24: note: in expansion of macro 'EVALUATOR'\n",
      " #define NAMESPACE(fun) EVALUATOR(MUPQ_NAMESPACE, fun)\n",
      "                        ^~~~~~~~~\n",
      "mupq/crypto_kem/hashing.c:20:33: note: in expansion of macro 'NAMESPACE'\n",
      " #define MUPQ_crypto_kem_keypair NAMESPACE(crypto_kem_keypair)\n",
      "                                 ^~~~~~~~~\n",
      "mupq/crypto_kem/hashing.c:46:5: note: in expansion of macro 'MUPQ_crypto_kem_keypair'\n",
      "     MUPQ_crypto_kem_keypair(pk, sk);\n",
      "     ^~~~~~~~~~~~~~~~~~~~~~~\n",
      "mupq/crypto_kem/hashing.c:21:39: warning: implicit declaration of function 'crypto_kem_enc'; did you mean 'MUPQ_crypto_kem_enc'? [-Wimplicit-function-declaration]\n",
      " #define MUPQ_crypto_kem_enc NAMESPACE(crypto_kem_enc)\n",
      "                                       ^~~~~~~~~~~~~~\n",
      "mupq/crypto_kem/hashing.c:9:25: note: in definition of macro 'PASTER'\n",
      " #define PASTER(x, y) x##y\n",
      "                         ^\n",
      "mupq/crypto_kem/hashing.c:11:24: note: in expansion of macro 'EVALUATOR'\n",
      " #define NAMESPACE(fun) EVALUATOR(MUPQ_NAMESPACE, fun)\n",
      "                        ^~~~~~~~~\n",
      "mupq/crypto_kem/hashing.c:21:29: note: in expansion of macro 'NAMESPACE'\n",
      " #define MUPQ_crypto_kem_enc NAMESPACE(crypto_kem_enc)\n",
      "                             ^~~~~~~~~\n",
      "mupq/crypto_kem/hashing.c:54:5: note: in expansion of macro 'MUPQ_crypto_kem_enc'\n",
      "     MUPQ_crypto_kem_enc(ct, key_a, pk);\n",
      "     ^~~~~~~~~~~~~~~~~~~\n",
      "mupq/crypto_kem/hashing.c:22:39: warning: implicit declaration of function 'crypto_kem_dec'; did you mean 'MUPQ_crypto_kem_dec'? [-Wimplicit-function-declaration]\n",
      " #define MUPQ_crypto_kem_dec NAMESPACE(crypto_kem_dec)\n",
      "                                       ^~~~~~~~~~~~~~\n",
      "mupq/crypto_kem/hashing.c:9:25: note: in definition of macro 'PASTER'\n",
      " #define PASTER(x, y) x##y\n",
      "                         ^\n",
      "mupq/crypto_kem/hashing.c:11:24: note: in expansion of macro 'EVALUATOR'\n",
      " #define NAMESPACE(fun) EVALUATOR(MUPQ_NAMESPACE, fun)\n",
      "                        ^~~~~~~~~\n",
      "mupq/crypto_kem/hashing.c:22:29: note: in expansion of macro 'NAMESPACE'\n",
      " #define MUPQ_crypto_kem_dec NAMESPACE(crypto_kem_dec)\n",
      "                             ^~~~~~~~~\n",
      "mupq/crypto_kem/hashing.c:62:5: note: in expansion of macro 'MUPQ_crypto_kem_dec'\n",
      "     MUPQ_crypto_kem_dec(key_b, ct, sk);\n",
      "     ^~~~~~~~~~~~~~~~~~~\n",
      "common/hal-opencm3.c: In function 'clock_setup':\n",
      "common/hal-opencm3.c:104:41: warning: unused parameter 'clock' [-Wunused-parameter]\n",
      " static void clock_setup(enum clock_mode clock)\n",
      "                         ~~~~~~~~~~~~~~~~^~~~~\n",
      "common/randombytes.c:38:2: warning: #warning Using a non-random randombytes [-Wcpp]\n",
      " #warning Using a non-random randombytes\n",
      "  ^~~~~~~\n"
     ]
    },
    {
     "name": "stdout",
     "output_type": "stream",
     "text": [
      "  CC      elf/mupq_crypto_kem_bikel1_opt_stack.elf\n"
     ]
    },
    {
     "name": "stderr",
     "output_type": "stream",
     "text": [
      "mupq/crypto_kem/stack.c: In function 'test_keys':\n",
      "mupq/crypto_kem/stack.c:28:43: warning: implicit declaration of function 'crypto_kem_keypair'; did you mean 'MUPQ_crypto_kem_keypair'? [-Wimplicit-function-declaration]\n",
      " #define MUPQ_crypto_kem_keypair NAMESPACE(crypto_kem_keypair)\n",
      "                                           ^~~~~~~~~~~~~~~~~~\n",
      "mupq/crypto_kem/stack.c:17:25: note: in definition of macro 'PASTER'\n",
      " #define PASTER(x, y) x##y\n",
      "                         ^\n",
      "mupq/crypto_kem/stack.c:19:24: note: in expansion of macro 'EVALUATOR'\n",
      " #define NAMESPACE(fun) EVALUATOR(MUPQ_NAMESPACE, fun)\n",
      "                        ^~~~~~~~~\n",
      "mupq/crypto_kem/stack.c:28:33: note: in expansion of macro 'NAMESPACE'\n",
      " #define MUPQ_crypto_kem_keypair NAMESPACE(crypto_kem_keypair)\n",
      "                                 ^~~~~~~~~\n",
      "mupq/crypto_kem/stack.c:61:3: note: in expansion of macro 'MUPQ_crypto_kem_keypair'\n",
      "   MUPQ_crypto_kem_keypair(pk, sk_a);\n",
      "   ^~~~~~~~~~~~~~~~~~~~~~~\n",
      "mupq/crypto_kem/stack.c:29:39: warning: implicit declaration of function 'crypto_kem_enc'; did you mean 'MUPQ_crypto_kem_enc'? [-Wimplicit-function-declaration]\n",
      " #define MUPQ_crypto_kem_enc NAMESPACE(crypto_kem_enc)\n",
      "                                       ^~~~~~~~~~~~~~\n",
      "mupq/crypto_kem/stack.c:17:25: note: in definition of macro 'PASTER'\n",
      " #define PASTER(x, y) x##y\n",
      "                         ^\n",
      "mupq/crypto_kem/stack.c:19:24: note: in expansion of macro 'EVALUATOR'\n",
      " #define NAMESPACE(fun) EVALUATOR(MUPQ_NAMESPACE, fun)\n",
      "                        ^~~~~~~~~\n",
      "mupq/crypto_kem/stack.c:29:29: note: in expansion of macro 'NAMESPACE'\n",
      " #define MUPQ_crypto_kem_enc NAMESPACE(crypto_kem_enc)\n",
      "                             ^~~~~~~~~\n",
      "mupq/crypto_kem/stack.c:68:3: note: in expansion of macro 'MUPQ_crypto_kem_enc'\n",
      "   MUPQ_crypto_kem_enc(sendb, key_b, pk);\n",
      "   ^~~~~~~~~~~~~~~~~~~\n",
      "mupq/crypto_kem/stack.c:30:39: warning: implicit declaration of function 'crypto_kem_dec'; did you mean 'MUPQ_crypto_kem_dec'? [-Wimplicit-function-declaration]\n",
      " #define MUPQ_crypto_kem_dec NAMESPACE(crypto_kem_dec)\n",
      "                                       ^~~~~~~~~~~~~~\n",
      "mupq/crypto_kem/stack.c:17:25: note: in definition of macro 'PASTER'\n",
      " #define PASTER(x, y) x##y\n",
      "                         ^\n",
      "mupq/crypto_kem/stack.c:19:24: note: in expansion of macro 'EVALUATOR'\n",
      " #define NAMESPACE(fun) EVALUATOR(MUPQ_NAMESPACE, fun)\n",
      "                        ^~~~~~~~~\n",
      "mupq/crypto_kem/stack.c:30:29: note: in expansion of macro 'NAMESPACE'\n",
      " #define MUPQ_crypto_kem_dec NAMESPACE(crypto_kem_dec)\n",
      "                             ^~~~~~~~~\n",
      "mupq/crypto_kem/stack.c:75:3: note: in expansion of macro 'MUPQ_crypto_kem_dec'\n",
      "   MUPQ_crypto_kem_dec(key_a, sendb, sk_a);\n",
      "   ^~~~~~~~~~~~~~~~~~~\n",
      "common/hal-opencm3.c: In function 'clock_setup':\n",
      "common/hal-opencm3.c:104:41: warning: unused parameter 'clock' [-Wunused-parameter]\n",
      " static void clock_setup(enum clock_mode clock)\n",
      "                         ~~~~~~~~~~~~~~~~^~~~~\n",
      "common/randombytes.c:38:2: warning: #warning Using a non-random randombytes [-Wcpp]\n",
      " #warning Using a non-random randombytes\n",
      "  ^~~~~~~\n"
     ]
    },
    {
     "name": "stdout",
     "output_type": "stream",
     "text": [
      "  CC      elf/mupq_crypto_kem_bikel1_opt_testvectors.elf\n"
     ]
    },
    {
     "name": "stderr",
     "output_type": "stream",
     "text": [
      "mupq/crypto_kem/testvectors.c: In function 'main':\n",
      "mupq/crypto_kem/testvectors.c:25:43: warning: implicit declaration of function 'crypto_kem_keypair'; did you mean 'MUPQ_crypto_kem_keypair'? [-Wimplicit-function-declaration]\n",
      " #define MUPQ_crypto_kem_keypair NAMESPACE(crypto_kem_keypair)\n",
      "                                           ^~~~~~~~~~~~~~~~~~\n",
      "mupq/crypto_kem/testvectors.c:14:25: note: in definition of macro 'PASTER'\n",
      " #define PASTER(x, y) x##y\n",
      "                         ^\n",
      "mupq/crypto_kem/testvectors.c:16:24: note: in expansion of macro 'EVALUATOR'\n",
      " #define NAMESPACE(fun) EVALUATOR(MUPQ_NAMESPACE, fun)\n",
      "                        ^~~~~~~~~\n",
      "mupq/crypto_kem/testvectors.c:25:33: note: in expansion of macro 'NAMESPACE'\n",
      " #define MUPQ_crypto_kem_keypair NAMESPACE(crypto_kem_keypair)\n",
      "                                 ^~~~~~~~~\n",
      "mupq/crypto_kem/testvectors.c:100:5: note: in expansion of macro 'MUPQ_crypto_kem_keypair'\n",
      "     MUPQ_crypto_kem_keypair(pk, sk_a);\n",
      "     ^~~~~~~~~~~~~~~~~~~~~~~\n",
      "mupq/crypto_kem/testvectors.c:26:39: warning: implicit declaration of function 'crypto_kem_enc'; did you mean 'MUPQ_crypto_kem_enc'? [-Wimplicit-function-declaration]\n",
      " #define MUPQ_crypto_kem_enc NAMESPACE(crypto_kem_enc)\n",
      "                                       ^~~~~~~~~~~~~~\n",
      "mupq/crypto_kem/testvectors.c:14:25: note: in definition of macro 'PASTER'\n",
      " #define PASTER(x, y) x##y\n",
      "                         ^\n",
      "mupq/crypto_kem/testvectors.c:16:24: note: in expansion of macro 'EVALUATOR'\n",
      " #define NAMESPACE(fun) EVALUATOR(MUPQ_NAMESPACE, fun)\n",
      "                        ^~~~~~~~~\n",
      "mupq/crypto_kem/testvectors.c:26:29: note: in expansion of macro 'NAMESPACE'\n",
      " #define MUPQ_crypto_kem_enc NAMESPACE(crypto_kem_enc)\n",
      "                             ^~~~~~~~~\n",
      "mupq/crypto_kem/testvectors.c:106:5: note: in expansion of macro 'MUPQ_crypto_kem_enc'\n",
      "     MUPQ_crypto_kem_enc(sendb, key_b, pk);\n",
      "     ^~~~~~~~~~~~~~~~~~~\n",
      "mupq/crypto_kem/testvectors.c:27:39: warning: implicit declaration of function 'crypto_kem_dec'; did you mean 'MUPQ_crypto_kem_dec'? [-Wimplicit-function-declaration]\n",
      " #define MUPQ_crypto_kem_dec NAMESPACE(crypto_kem_dec)\n",
      "                                       ^~~~~~~~~~~~~~\n",
      "mupq/crypto_kem/testvectors.c:14:25: note: in definition of macro 'PASTER'\n",
      " #define PASTER(x, y) x##y\n",
      "                         ^\n",
      "mupq/crypto_kem/testvectors.c:16:24: note: in expansion of macro 'EVALUATOR'\n",
      " #define NAMESPACE(fun) EVALUATOR(MUPQ_NAMESPACE, fun)\n",
      "                        ^~~~~~~~~\n",
      "mupq/crypto_kem/testvectors.c:27:29: note: in expansion of macro 'NAMESPACE'\n",
      " #define MUPQ_crypto_kem_dec NAMESPACE(crypto_kem_dec)\n",
      "                             ^~~~~~~~~\n",
      "mupq/crypto_kem/testvectors.c:112:5: note: in expansion of macro 'MUPQ_crypto_kem_dec'\n",
      "     MUPQ_crypto_kem_dec(key_a, sendb, sk_a);\n",
      "     ^~~~~~~~~~~~~~~~~~~\n",
      "mupq/crypto_kem/testvectors.c:116:14: warning: comparison of integer expressions of different signedness: 'int' and 'unsigned int' [-Wsign-compare]\n",
      "     for(j=0;j<MUPQ_CRYPTO_BYTES;j++)\n",
      "              ^\n",
      "common/hal-opencm3.c: In function 'clock_setup':\n",
      "common/hal-opencm3.c:104:41: warning: unused parameter 'clock' [-Wunused-parameter]\n",
      " static void clock_setup(enum clock_mode clock)\n",
      "                         ~~~~~~~~~~~~~~~~^~~~~\n"
     ]
    },
    {
     "name": "stdout",
     "output_type": "stream",
     "text": [
      "  CC      elf/mupq_pqclean_crypto_kem_kyber1024-90s_clean_test.elf\n",
      "  CC      elf/mupq_pqclean_crypto_kem_kyber1024-90s_clean_speed.elf\n"
     ]
    },
    {
     "name": "stderr",
     "output_type": "stream",
     "text": [
      "In file included from mupq/crypto_kem/test.c:5:\n",
      "mupq/crypto_kem/../../../../hardware/victims/firmware/simpleserial/simpleserial.h:16:3: warning: #warning \"SS_VER undefined! Setting SS_VER=SS_VER_1_1\" [-Wcpp]\n",
      "  #warning \"SS_VER undefined! Setting SS_VER=SS_VER_1_1\"\n",
      "   ^~~~~~~\n",
      "common/hal-opencm3.c: In function 'clock_setup':\n",
      "common/hal-opencm3.c:104:41: warning: unused parameter 'clock' [-Wunused-parameter]\n",
      " static void clock_setup(enum clock_mode clock)\n",
      "                         ~~~~~~~~~~~~~~~~^~~~~\n",
      "common/hal-opencm3.c: In function 'clock_setup':\n",
      "common/hal-opencm3.c:104:41: warning: unused parameter 'clock' [-Wunused-parameter]\n",
      " static void clock_setup(enum clock_mode clock)\n",
      "                         ~~~~~~~~~~~~~~~~^~~~~\n",
      "common/randombytes.c:38:2: warning: #warning Using a non-random randombytes [-Wcpp]\n",
      " #warning Using a non-random randombytes\n",
      "  ^~~~~~~\n",
      "common/randombytes.c:38:2: warning: #warning Using a non-random randombytes [-Wcpp]\n",
      " #warning Using a non-random randombytes\n",
      "  ^~~~~~~\n"
     ]
    },
    {
     "name": "stdout",
     "output_type": "stream",
     "text": [
      "  CC      elf/mupq_pqclean_crypto_kem_kyber1024-90s_clean_hashing.elf\n"
     ]
    },
    {
     "name": "stderr",
     "output_type": "stream",
     "text": [
      "common/hal-opencm3.c: In function 'clock_setup':\n",
      "common/hal-opencm3.c:104:41: warning: unused parameter 'clock' [-Wunused-parameter]\n",
      " static void clock_setup(enum clock_mode clock)\n",
      "                         ~~~~~~~~~~~~~~~~^~~~~\n",
      "common/randombytes.c:38:2: warning: #warning Using a non-random randombytes [-Wcpp]\n",
      " #warning Using a non-random randombytes\n",
      "  ^~~~~~~\n"
     ]
    },
    {
     "name": "stdout",
     "output_type": "stream",
     "text": [
      "  CC      elf/mupq_pqclean_crypto_kem_kyber1024-90s_clean_stack.elf\n"
     ]
    },
    {
     "name": "stderr",
     "output_type": "stream",
     "text": [
      "common/hal-opencm3.c: In function 'clock_setup':\n",
      "common/hal-opencm3.c:104:41: warning: unused parameter 'clock' [-Wunused-parameter]\n",
      " static void clock_setup(enum clock_mode clock)\n",
      "                         ~~~~~~~~~~~~~~~~^~~~~\n",
      "common/randombytes.c:38:2: warning: #warning Using a non-random randombytes [-Wcpp]\n",
      " #warning Using a non-random randombytes\n",
      "  ^~~~~~~\n"
     ]
    },
    {
     "name": "stdout",
     "output_type": "stream",
     "text": [
      "  CC      elf/mupq_pqclean_crypto_kem_kyber1024-90s_clean_testvectors.elf\n",
      "  CC      elf/mupq_pqclean_crypto_kem_kyber512_clean_test.elf\n"
     ]
    },
    {
     "name": "stderr",
     "output_type": "stream",
     "text": [
      "common/hal-opencm3.c: In function 'clock_setup':\n",
      "common/hal-opencm3.c:104:41: warning: unused parameter 'clock' [-Wunused-parameter]\n",
      " static void clock_setup(enum clock_mode clock)\n",
      "                         ~~~~~~~~~~~~~~~~^~~~~\n",
      "In file included from mupq/crypto_kem/test.c:5:\n",
      "mupq/crypto_kem/../../../../hardware/victims/firmware/simpleserial/simpleserial.h:16:3: warning: #warning \"SS_VER undefined! Setting SS_VER=SS_VER_1_1\" [-Wcpp]\n",
      "  #warning \"SS_VER undefined! Setting SS_VER=SS_VER_1_1\"\n",
      "   ^~~~~~~\n",
      "common/hal-opencm3.c: In function 'clock_setup':\n",
      "common/hal-opencm3.c:104:41: warning: unused parameter 'clock' [-Wunused-parameter]\n",
      " static void clock_setup(enum clock_mode clock)\n",
      "                         ~~~~~~~~~~~~~~~~^~~~~\n",
      "common/randombytes.c:38:2: warning: #warning Using a non-random randombytes [-Wcpp]\n",
      " #warning Using a non-random randombytes\n",
      "  ^~~~~~~\n"
     ]
    },
    {
     "name": "stdout",
     "output_type": "stream",
     "text": [
      "  CC      elf/mupq_pqclean_crypto_kem_kyber512_clean_speed.elf\n"
     ]
    },
    {
     "name": "stderr",
     "output_type": "stream",
     "text": [
      "common/hal-opencm3.c: In function 'clock_setup':\n",
      "common/hal-opencm3.c:104:41: warning: unused parameter 'clock' [-Wunused-parameter]\n",
      " static void clock_setup(enum clock_mode clock)\n",
      "                         ~~~~~~~~~~~~~~~~^~~~~\n",
      "common/randombytes.c:38:2: warning: #warning Using a non-random randombytes [-Wcpp]\n",
      " #warning Using a non-random randombytes\n",
      "  ^~~~~~~\n"
     ]
    },
    {
     "name": "stdout",
     "output_type": "stream",
     "text": [
      "  CC      elf/mupq_pqclean_crypto_kem_kyber512_clean_hashing.elf\n"
     ]
    },
    {
     "name": "stderr",
     "output_type": "stream",
     "text": [
      "common/hal-opencm3.c: In function 'clock_setup':\n",
      "common/hal-opencm3.c:104:41: warning: unused parameter 'clock' [-Wunused-parameter]\n",
      " static void clock_setup(enum clock_mode clock)\n",
      "                         ~~~~~~~~~~~~~~~~^~~~~\n",
      "common/randombytes.c:38:2: warning: #warning Using a non-random randombytes [-Wcpp]\n",
      " #warning Using a non-random randombytes\n",
      "  ^~~~~~~\n"
     ]
    },
    {
     "name": "stdout",
     "output_type": "stream",
     "text": [
      "  CC      elf/mupq_pqclean_crypto_kem_kyber512_clean_stack.elf\n",
      "  CC      elf/mupq_pqclean_crypto_kem_kyber512_clean_testvectors.elf\n"
     ]
    },
    {
     "name": "stderr",
     "output_type": "stream",
     "text": [
      "common/hal-opencm3.c: In function 'clock_setup':\n",
      "common/hal-opencm3.c:104:41: warning: unused parameter 'clock' [-Wunused-parameter]\n",
      " static void clock_setup(enum clock_mode clock)\n",
      "                         ~~~~~~~~~~~~~~~~^~~~~\n",
      "common/randombytes.c:38:2: warning: #warning Using a non-random randombytes [-Wcpp]\n",
      " #warning Using a non-random randombytes\n",
      "  ^~~~~~~\n",
      "common/hal-opencm3.c: In function 'clock_setup':\n",
      "common/hal-opencm3.c:104:41: warning: unused parameter 'clock' [-Wunused-parameter]\n",
      " static void clock_setup(enum clock_mode clock)\n",
      "                         ~~~~~~~~~~~~~~~~^~~~~\n"
     ]
    },
    {
     "name": "stdout",
     "output_type": "stream",
     "text": [
      "  CC      elf/mupq_pqclean_crypto_kem_hqc-rmrs-192_clean_test.elf\n"
     ]
    },
    {
     "name": "stderr",
     "output_type": "stream",
     "text": [
      "In file included from mupq/crypto_kem/test.c:5:\n",
      "mupq/crypto_kem/../../../../hardware/victims/firmware/simpleserial/simpleserial.h:16:3: warning: #warning \"SS_VER undefined! Setting SS_VER=SS_VER_1_1\" [-Wcpp]\n",
      "  #warning \"SS_VER undefined! Setting SS_VER=SS_VER_1_1\"\n",
      "   ^~~~~~~\n",
      "common/hal-opencm3.c: In function 'clock_setup':\n",
      "common/hal-opencm3.c:104:41: warning: unused parameter 'clock' [-Wunused-parameter]\n",
      " static void clock_setup(enum clock_mode clock)\n",
      "                         ~~~~~~~~~~~~~~~~^~~~~\n",
      "common/randombytes.c:38:2: warning: #warning Using a non-random randombytes [-Wcpp]\n",
      " #warning Using a non-random randombytes\n",
      "  ^~~~~~~\n"
     ]
    },
    {
     "name": "stdout",
     "output_type": "stream",
     "text": [
      "  CC      elf/mupq_pqclean_crypto_kem_hqc-rmrs-192_clean_speed.elf\n",
      "  CC      elf/mupq_pqclean_crypto_kem_hqc-rmrs-192_clean_hashing.elf\n"
     ]
    },
    {
     "name": "stderr",
     "output_type": "stream",
     "text": [
      "common/hal-opencm3.c: In function 'clock_setup':\n",
      "common/hal-opencm3.c:104:41: warning: unused parameter 'clock' [-Wunused-parameter]\n",
      " static void clock_setup(enum clock_mode clock)\n",
      "                         ~~~~~~~~~~~~~~~~^~~~~\n",
      "common/hal-opencm3.c: In function 'clock_setup':\n",
      "common/hal-opencm3.c:104:41: warning: unused parameter 'clock' [-Wunused-parameter]\n",
      " static void clock_setup(enum clock_mode clock)\n",
      "                         ~~~~~~~~~~~~~~~~^~~~~\n"
     ]
    },
    {
     "name": "stdout",
     "output_type": "stream",
     "text": [
      "  CC      elf/mupq_pqclean_crypto_kem_hqc-rmrs-192_clean_stack.elf\n"
     ]
    },
    {
     "name": "stderr",
     "output_type": "stream",
     "text": [
      "common/randombytes.c:38:2: warning: #warning Using a non-random randombytes [-Wcpp]\n",
      " #warning Using a non-random randombytes\n",
      "  ^~~~~~~\n",
      "common/randombytes.c:38:2: warning: #warning Using a non-random randombytes [-Wcpp]\n",
      " #warning Using a non-random randombytes\n",
      "  ^~~~~~~\n",
      "common/hal-opencm3.c: In function 'clock_setup':\n",
      "common/hal-opencm3.c:104:41: warning: unused parameter 'clock' [-Wunused-parameter]\n",
      " static void clock_setup(enum clock_mode clock)\n",
      "                         ~~~~~~~~~~~~~~~~^~~~~\n",
      "common/randombytes.c:38:2: warning: #warning Using a non-random randombytes [-Wcpp]\n",
      " #warning Using a non-random randombytes\n",
      "  ^~~~~~~\n"
     ]
    },
    {
     "name": "stdout",
     "output_type": "stream",
     "text": [
      "  CC      elf/mupq_pqclean_crypto_kem_hqc-rmrs-192_clean_testvectors.elf\n"
     ]
    },
    {
     "name": "stderr",
     "output_type": "stream",
     "text": [
      "common/hal-opencm3.c: In function 'clock_setup':\n",
      "common/hal-opencm3.c:104:41: warning: unused parameter 'clock' [-Wunused-parameter]\n",
      " static void clock_setup(enum clock_mode clock)\n",
      "                         ~~~~~~~~~~~~~~~~^~~~~\n"
     ]
    },
    {
     "name": "stdout",
     "output_type": "stream",
     "text": [
      "  CC      elf/mupq_pqclean_crypto_kem_hqc-rmrs-128_clean_test.elf\n",
      "  CC      elf/mupq_pqclean_crypto_kem_hqc-rmrs-128_clean_speed.elf\n"
     ]
    },
    {
     "name": "stderr",
     "output_type": "stream",
     "text": [
      "In file included from mupq/crypto_kem/test.c:5:\n",
      "mupq/crypto_kem/../../../../hardware/victims/firmware/simpleserial/simpleserial.h:16:3: warning: #warning \"SS_VER undefined! Setting SS_VER=SS_VER_1_1\" [-Wcpp]\n",
      "  #warning \"SS_VER undefined! Setting SS_VER=SS_VER_1_1\"\n",
      "   ^~~~~~~\n",
      "common/hal-opencm3.c: In function 'clock_setup':\n",
      "common/hal-opencm3.c:104:41: warning: unused parameter 'clock' [-Wunused-parameter]\n",
      " static void clock_setup(enum clock_mode clock)\n",
      "                         ~~~~~~~~~~~~~~~~^~~~~\n"
     ]
    },
    {
     "name": "stdout",
     "output_type": "stream",
     "text": [
      "  CC      elf/mupq_pqclean_crypto_kem_hqc-rmrs-128_clean_hashing.elf\n"
     ]
    },
    {
     "name": "stderr",
     "output_type": "stream",
     "text": [
      "common/hal-opencm3.c: In function 'clock_setup':\n",
      "common/hal-opencm3.c:104:41: warning: unused parameter 'clock' [-Wunused-parameter]\n",
      " static void clock_setup(enum clock_mode clock)\n",
      "                         ~~~~~~~~~~~~~~~~^~~~~\n",
      "common/randombytes.c:38:2: warning: #warning Using a non-random randombytes [-Wcpp]\n",
      " #warning Using a non-random randombytes\n",
      "  ^~~~~~~\n",
      "common/hal-opencm3.c: In function 'clock_setup':\n",
      "common/hal-opencm3.c:104:41: warning: unused parameter 'clock' [-Wunused-parameter]\n",
      " static void clock_setup(enum clock_mode clock)\n",
      "                         ~~~~~~~~~~~~~~~~^~~~~\n",
      "common/randombytes.c:38:2: warning: #warning Using a non-random randombytes [-Wcpp]\n",
      " #warning Using a non-random randombytes\n",
      "  ^~~~~~~\n",
      "common/randombytes.c:38:2: warning: #warning Using a non-random randombytes [-Wcpp]\n",
      " #warning Using a non-random randombytes\n",
      "  ^~~~~~~\n"
     ]
    },
    {
     "name": "stdout",
     "output_type": "stream",
     "text": [
      "  CC      elf/mupq_pqclean_crypto_kem_hqc-rmrs-128_clean_stack.elf\n"
     ]
    },
    {
     "name": "stderr",
     "output_type": "stream",
     "text": [
      "common/hal-opencm3.c: In function 'clock_setup':\n",
      "common/hal-opencm3.c:104:41: warning: unused parameter 'clock' [-Wunused-parameter]\n",
      " static void clock_setup(enum clock_mode clock)\n",
      "                         ~~~~~~~~~~~~~~~~^~~~~\n",
      "common/randombytes.c:38:2: warning: #warning Using a non-random randombytes [-Wcpp]\n",
      " #warning Using a non-random randombytes\n",
      "  ^~~~~~~\n"
     ]
    },
    {
     "name": "stdout",
     "output_type": "stream",
     "text": [
      "  CC      elf/mupq_pqclean_crypto_kem_hqc-rmrs-128_clean_testvectors.elf\n",
      "  CC      elf/mupq_pqclean_crypto_kem_kyber512-90s_clean_test.elf\n"
     ]
    },
    {
     "name": "stderr",
     "output_type": "stream",
     "text": [
      "common/hal-opencm3.c: In function 'clock_setup':\n",
      "common/hal-opencm3.c:104:41: warning: unused parameter 'clock' [-Wunused-parameter]\n",
      " static void clock_setup(enum clock_mode clock)\n",
      "                         ~~~~~~~~~~~~~~~~^~~~~\n",
      "In file included from mupq/crypto_kem/test.c:5:\n",
      "mupq/crypto_kem/../../../../hardware/victims/firmware/simpleserial/simpleserial.h:16:3: warning: #warning \"SS_VER undefined! Setting SS_VER=SS_VER_1_1\" [-Wcpp]\n",
      "  #warning \"SS_VER undefined! Setting SS_VER=SS_VER_1_1\"\n",
      "   ^~~~~~~\n"
     ]
    },
    {
     "name": "stdout",
     "output_type": "stream",
     "text": [
      "  CC      elf/mupq_pqclean_crypto_kem_kyber512-90s_clean_speed.elf\n"
     ]
    },
    {
     "name": "stderr",
     "output_type": "stream",
     "text": [
      "common/hal-opencm3.c: In function 'clock_setup':\n",
      "common/hal-opencm3.c:104:41: warning: unused parameter 'clock' [-Wunused-parameter]\n",
      " static void clock_setup(enum clock_mode clock)\n",
      "                         ~~~~~~~~~~~~~~~~^~~~~\n",
      "common/randombytes.c:38:2: warning: #warning Using a non-random randombytes [-Wcpp]\n",
      " #warning Using a non-random randombytes\n",
      "  ^~~~~~~\n",
      "common/hal-opencm3.c: In function 'clock_setup':\n",
      "common/hal-opencm3.c:104:41: warning: unused parameter 'clock' [-Wunused-parameter]\n",
      " static void clock_setup(enum clock_mode clock)\n",
      "                         ~~~~~~~~~~~~~~~~^~~~~\n",
      "common/randombytes.c:38:2: warning: #warning Using a non-random randombytes [-Wcpp]\n",
      " #warning Using a non-random randombytes\n",
      "  ^~~~~~~\n"
     ]
    },
    {
     "name": "stdout",
     "output_type": "stream",
     "text": [
      "  CC      elf/mupq_pqclean_crypto_kem_kyber512-90s_clean_hashing.elf\n"
     ]
    },
    {
     "name": "stderr",
     "output_type": "stream",
     "text": [
      "common/hal-opencm3.c: In function 'clock_setup':\n",
      "common/hal-opencm3.c:104:41: warning: unused parameter 'clock' [-Wunused-parameter]\n",
      " static void clock_setup(enum clock_mode clock)\n",
      "                         ~~~~~~~~~~~~~~~~^~~~~\n",
      "common/randombytes.c:38:2: warning: #warning Using a non-random randombytes [-Wcpp]\n",
      " #warning Using a non-random randombytes\n",
      "  ^~~~~~~\n"
     ]
    },
    {
     "name": "stdout",
     "output_type": "stream",
     "text": [
      "  CC      elf/mupq_pqclean_crypto_kem_kyber512-90s_clean_stack.elf\n",
      "  CC      elf/mupq_pqclean_crypto_kem_kyber512-90s_clean_testvectors.elf\n",
      "  CC      elf/mupq_pqclean_crypto_kem_hqc-rmrs-256_clean_test.elf\n"
     ]
    },
    {
     "name": "stderr",
     "output_type": "stream",
     "text": [
      "common/hal-opencm3.c: In function 'clock_setup':\n",
      "common/hal-opencm3.c:104:41: warning: unused parameter 'clock' [-Wunused-parameter]\n",
      " static void clock_setup(enum clock_mode clock)\n",
      "                         ~~~~~~~~~~~~~~~~^~~~~\n",
      "In file included from mupq/crypto_kem/test.c:5:\n",
      "mupq/crypto_kem/../../../../hardware/victims/firmware/simpleserial/simpleserial.h:16:3: warning: #warning \"SS_VER undefined! Setting SS_VER=SS_VER_1_1\" [-Wcpp]\n",
      "  #warning \"SS_VER undefined! Setting SS_VER=SS_VER_1_1\"\n",
      "   ^~~~~~~\n",
      "common/randombytes.c:38:2: warning: #warning Using a non-random randombytes [-Wcpp]\n",
      " #warning Using a non-random randombytes\n",
      "  ^~~~~~~\n",
      "common/hal-opencm3.c: In function 'clock_setup':\n",
      "common/hal-opencm3.c: In function 'clock_setup':\n",
      "common/hal-opencm3.c:104:41: warning: unused parameter 'clock' [-Wunused-parameter]\n",
      " static void clock_setup(enum clock_mode clock)\n",
      "                         ~~~~~~~~~~~~~~~~^~~~~\n",
      "common/hal-opencm3.c:104:41: warning: unused parameter 'clock' [-Wunused-parameter]\n",
      " static void clock_setup(enum clock_mode clock)\n",
      "                         ~~~~~~~~~~~~~~~~^~~~~\n",
      "common/randombytes.c:38:2: warning: #warning Using a non-random randombytes [-Wcpp]\n",
      " #warning Using a non-random randombytes\n",
      "  ^~~~~~~\n"
     ]
    },
    {
     "name": "stdout",
     "output_type": "stream",
     "text": [
      "  CC      elf/mupq_pqclean_crypto_kem_hqc-rmrs-256_clean_speed.elf\n"
     ]
    },
    {
     "name": "stderr",
     "output_type": "stream",
     "text": [
      "common/hal-opencm3.c: In function 'clock_setup':\n",
      "common/hal-opencm3.c:104:41: warning: unused parameter 'clock' [-Wunused-parameter]\n",
      " static void clock_setup(enum clock_mode clock)\n",
      "                         ~~~~~~~~~~~~~~~~^~~~~\n",
      "common/randombytes.c:38:2: warning: #warning Using a non-random randombytes [-Wcpp]\n",
      " #warning Using a non-random randombytes\n",
      "  ^~~~~~~\n"
     ]
    },
    {
     "name": "stdout",
     "output_type": "stream",
     "text": [
      "  CC      elf/mupq_pqclean_crypto_kem_hqc-rmrs-256_clean_hashing.elf\n"
     ]
    },
    {
     "name": "stderr",
     "output_type": "stream",
     "text": [
      "common/hal-opencm3.c: In function 'clock_setup':\n",
      "common/hal-opencm3.c:104:41: warning: unused parameter 'clock' [-Wunused-parameter]\n",
      " static void clock_setup(enum clock_mode clock)\n",
      "                         ~~~~~~~~~~~~~~~~^~~~~\n",
      "common/randombytes.c:38:2: warning: #warning Using a non-random randombytes [-Wcpp]\n",
      " #warning Using a non-random randombytes\n",
      "  ^~~~~~~\n"
     ]
    },
    {
     "name": "stdout",
     "output_type": "stream",
     "text": [
      "  CC      elf/mupq_pqclean_crypto_kem_hqc-rmrs-256_clean_stack.elf\n",
      "  CC      elf/mupq_pqclean_crypto_kem_hqc-rmrs-256_clean_testvectors.elf\n"
     ]
    },
    {
     "name": "stderr",
     "output_type": "stream",
     "text": [
      "common/hal-opencm3.c: In function 'clock_setup':\n",
      "common/hal-opencm3.c:104:41: warning: unused parameter 'clock' [-Wunused-parameter]\n",
      " static void clock_setup(enum clock_mode clock)\n",
      "                         ~~~~~~~~~~~~~~~~^~~~~\n",
      "common/hal-opencm3.c: In function 'clock_setup':\n",
      "common/hal-opencm3.c:104:41: warning: unused parameter 'clock' [-Wunused-parameter]\n",
      " static void clock_setup(enum clock_mode clock)\n",
      "                         ~~~~~~~~~~~~~~~~^~~~~\n",
      "common/randombytes.c:38:2: warning: #warning Using a non-random randombytes [-Wcpp]\n",
      " #warning Using a non-random randombytes\n",
      "  ^~~~~~~\n"
     ]
    },
    {
     "name": "stdout",
     "output_type": "stream",
     "text": [
      "  CC      elf/mupq_pqclean_crypto_kem_kyber1024_clean_test.elf\n"
     ]
    },
    {
     "name": "stderr",
     "output_type": "stream",
     "text": [
      "In file included from mupq/crypto_kem/test.c:5:\n",
      "mupq/crypto_kem/../../../../hardware/victims/firmware/simpleserial/simpleserial.h:16:3: warning: #warning \"SS_VER undefined! Setting SS_VER=SS_VER_1_1\" [-Wcpp]\n",
      "  #warning \"SS_VER undefined! Setting SS_VER=SS_VER_1_1\"\n",
      "   ^~~~~~~\n",
      "common/hal-opencm3.c: In function 'clock_setup':\n",
      "common/hal-opencm3.c:104:41: warning: unused parameter 'clock' [-Wunused-parameter]\n",
      " static void clock_setup(enum clock_mode clock)\n",
      "                         ~~~~~~~~~~~~~~~~^~~~~\n",
      "common/randombytes.c:38:2: warning: #warning Using a non-random randombytes [-Wcpp]\n",
      " #warning Using a non-random randombytes\n",
      "  ^~~~~~~\n"
     ]
    },
    {
     "name": "stdout",
     "output_type": "stream",
     "text": [
      "  CC      elf/mupq_pqclean_crypto_kem_kyber1024_clean_speed.elf\n"
     ]
    },
    {
     "name": "stderr",
     "output_type": "stream",
     "text": [
      "common/hal-opencm3.c: In function 'clock_setup':\n",
      "common/hal-opencm3.c:104:41: warning: unused parameter 'clock' [-Wunused-parameter]\n",
      " static void clock_setup(enum clock_mode clock)\n",
      "                         ~~~~~~~~~~~~~~~~^~~~~\n",
      "common/randombytes.c:38:2: warning: #warning Using a non-random randombytes [-Wcpp]\n",
      " #warning Using a non-random randombytes\n",
      "  ^~~~~~~\n"
     ]
    },
    {
     "name": "stdout",
     "output_type": "stream",
     "text": [
      "  CC      elf/mupq_pqclean_crypto_kem_kyber1024_clean_hashing.elf\n",
      "  CC      elf/mupq_pqclean_crypto_kem_kyber1024_clean_stack.elf\n"
     ]
    },
    {
     "name": "stderr",
     "output_type": "stream",
     "text": [
      "common/hal-opencm3.c: In function 'clock_setup':\n",
      "common/hal-opencm3.c:104:41: warning: unused parameter 'clock' [-Wunused-parameter]\n",
      " static void clock_setup(enum clock_mode clock)\n",
      "                         ~~~~~~~~~~~~~~~~^~~~~\n",
      "common/randombytes.c:38:2: warning: #warning Using a non-random randombytes [-Wcpp]\n",
      " #warning Using a non-random randombytes\n",
      "  ^~~~~~~\n",
      "common/hal-opencm3.c: In function 'clock_setup':\n",
      "common/hal-opencm3.c:104:41: warning: unused parameter 'clock' [-Wunused-parameter]\n",
      " static void clock_setup(enum clock_mode clock)\n",
      "                         ~~~~~~~~~~~~~~~~^~~~~\n",
      "common/randombytes.c:38:2: warning: #warning Using a non-random randombytes [-Wcpp]\n",
      " #warning Using a non-random randombytes\n",
      "  ^~~~~~~\n"
     ]
    },
    {
     "name": "stdout",
     "output_type": "stream",
     "text": [
      "  CC      elf/mupq_pqclean_crypto_kem_kyber1024_clean_testvectors.elf\n"
     ]
    },
    {
     "name": "stderr",
     "output_type": "stream",
     "text": [
      "common/hal-opencm3.c: In function 'clock_setup':\n",
      "common/hal-opencm3.c:104:41: warning: unused parameter 'clock' [-Wunused-parameter]\n",
      " static void clock_setup(enum clock_mode clock)\n",
      "                         ~~~~~~~~~~~~~~~~^~~~~\n"
     ]
    },
    {
     "name": "stdout",
     "output_type": "stream",
     "text": [
      "  CC      elf/mupq_pqclean_crypto_kem_kyber768-90s_clean_test.elf\n"
     ]
    },
    {
     "name": "stderr",
     "output_type": "stream",
     "text": [
      "In file included from mupq/crypto_kem/test.c:5:\n",
      "mupq/crypto_kem/../../../../hardware/victims/firmware/simpleserial/simpleserial.h:16:3: warning: #warning \"SS_VER undefined! Setting SS_VER=SS_VER_1_1\" [-Wcpp]\n",
      "  #warning \"SS_VER undefined! Setting SS_VER=SS_VER_1_1\"\n",
      "   ^~~~~~~\n"
     ]
    },
    {
     "name": "stdout",
     "output_type": "stream",
     "text": [
      "  CC      elf/mupq_pqclean_crypto_kem_kyber768-90s_clean_speed.elf\n"
     ]
    },
    {
     "name": "stderr",
     "output_type": "stream",
     "text": [
      "common/hal-opencm3.c: In function 'clock_setup':\n",
      "common/hal-opencm3.c:104:41: warning: unused parameter 'clock' [-Wunused-parameter]\n",
      " static void clock_setup(enum clock_mode clock)\n",
      "                         ~~~~~~~~~~~~~~~~^~~~~\n",
      "common/randombytes.c:38:2: warning: #warning Using a non-random randombytes [-Wcpp]\n",
      " #warning Using a non-random randombytes\n",
      "  ^~~~~~~\n",
      "common/hal-opencm3.c: In function 'clock_setup':\n",
      "common/hal-opencm3.c:104:41: warning: unused parameter 'clock' [-Wunused-parameter]\n",
      " static void clock_setup(enum clock_mode clock)\n",
      "                         ~~~~~~~~~~~~~~~~^~~~~\n"
     ]
    },
    {
     "name": "stdout",
     "output_type": "stream",
     "text": [
      "  CC      elf/mupq_pqclean_crypto_kem_kyber768-90s_clean_hashing.elf\n"
     ]
    },
    {
     "name": "stderr",
     "output_type": "stream",
     "text": [
      "common/randombytes.c:38:2: warning: #warning Using a non-random randombytes [-Wcpp]\n",
      " #warning Using a non-random randombytes\n",
      "  ^~~~~~~\n",
      "common/hal-opencm3.c: In function 'clock_setup':\n",
      "common/hal-opencm3.c:104:41: warning: unused parameter 'clock' [-Wunused-parameter]\n",
      " static void clock_setup(enum clock_mode clock)\n",
      "                         ~~~~~~~~~~~~~~~~^~~~~\n",
      "common/randombytes.c:38:2: warning: #warning Using a non-random randombytes [-Wcpp]\n",
      " #warning Using a non-random randombytes\n",
      "  ^~~~~~~\n"
     ]
    },
    {
     "name": "stdout",
     "output_type": "stream",
     "text": [
      "  CC      elf/mupq_pqclean_crypto_kem_kyber768-90s_clean_stack.elf\n"
     ]
    },
    {
     "name": "stderr",
     "output_type": "stream",
     "text": [
      "common/hal-opencm3.c: In function 'clock_setup':\n",
      "common/hal-opencm3.c:104:41: warning: unused parameter 'clock' [-Wunused-parameter]\n",
      " static void clock_setup(enum clock_mode clock)\n",
      "                         ~~~~~~~~~~~~~~~~^~~~~\n",
      "common/randombytes.c:38:2: warning: #warning Using a non-random randombytes [-Wcpp]\n",
      " #warning Using a non-random randombytes\n",
      "  ^~~~~~~\n"
     ]
    },
    {
     "name": "stdout",
     "output_type": "stream",
     "text": [
      "  CC      elf/mupq_pqclean_crypto_kem_kyber768-90s_clean_testvectors.elf\n",
      "  CC      elf/mupq_pqclean_crypto_kem_kyber768_clean_test.elf\n"
     ]
    },
    {
     "name": "stderr",
     "output_type": "stream",
     "text": [
      "common/hal-opencm3.c: In function 'clock_setup':\n",
      "common/hal-opencm3.c:104:41: warning: unused parameter 'clock' [-Wunused-parameter]\n",
      " static void clock_setup(enum clock_mode clock)\n",
      "                         ~~~~~~~~~~~~~~~~^~~~~\n",
      "In file included from mupq/crypto_kem/test.c:5:\n",
      "mupq/crypto_kem/../../../../hardware/victims/firmware/simpleserial/simpleserial.h:16:3: warning: #warning \"SS_VER undefined! Setting SS_VER=SS_VER_1_1\" [-Wcpp]\n",
      "  #warning \"SS_VER undefined! Setting SS_VER=SS_VER_1_1\"\n",
      "   ^~~~~~~\n",
      "common/hal-opencm3.c: In function 'clock_setup':\n",
      "common/hal-opencm3.c:104:41: warning: unused parameter 'clock' [-Wunused-parameter]\n",
      " static void clock_setup(enum clock_mode clock)\n",
      "                         ~~~~~~~~~~~~~~~~^~~~~\n",
      "common/randombytes.c:38:2: warning: #warning Using a non-random randombytes [-Wcpp]\n",
      " #warning Using a non-random randombytes\n",
      "  ^~~~~~~\n"
     ]
    },
    {
     "name": "stdout",
     "output_type": "stream",
     "text": [
      "  CC      elf/mupq_pqclean_crypto_kem_kyber768_clean_speed.elf\n"
     ]
    },
    {
     "name": "stderr",
     "output_type": "stream",
     "text": [
      "common/hal-opencm3.c: In function 'clock_setup':\n",
      "common/hal-opencm3.c:104:41: warning: unused parameter 'clock' [-Wunused-parameter]\n",
      " static void clock_setup(enum clock_mode clock)\n",
      "                         ~~~~~~~~~~~~~~~~^~~~~\n",
      "common/randombytes.c:38:2: warning: #warning Using a non-random randombytes [-Wcpp]\n",
      " #warning Using a non-random randombytes\n",
      "  ^~~~~~~\n"
     ]
    },
    {
     "name": "stdout",
     "output_type": "stream",
     "text": [
      "  CC      elf/mupq_pqclean_crypto_kem_kyber768_clean_hashing.elf\n"
     ]
    },
    {
     "name": "stderr",
     "output_type": "stream",
     "text": [
      "common/hal-opencm3.c: In function 'clock_setup':\n"
     ]
    },
    {
     "name": "stdout",
     "output_type": "stream",
     "text": [
      "  CC      elf/mupq_pqclean_crypto_kem_kyber768_clean_stack.elf\n"
     ]
    },
    {
     "name": "stderr",
     "output_type": "stream",
     "text": [
      "common/hal-opencm3.c:104:41: warning: unused parameter 'clock' [-Wunused-parameter]\n",
      " static void clock_setup(enum clock_mode clock)\n",
      "                         ~~~~~~~~~~~~~~~~^~~~~\n",
      "common/randombytes.c:38:2: warning: #warning Using a non-random randombytes [-Wcpp]\n",
      " #warning Using a non-random randombytes\n",
      "  ^~~~~~~\n",
      "common/hal-opencm3.c: In function 'clock_setup':\n",
      "common/hal-opencm3.c:104:41: warning: unused parameter 'clock' [-Wunused-parameter]\n",
      " static void clock_setup(enum clock_mode clock)\n",
      "                         ~~~~~~~~~~~~~~~~^~~~~\n",
      "common/randombytes.c:38:2: warning: #warning Using a non-random randombytes [-Wcpp]\n",
      " #warning Using a non-random randombytes\n",
      "  ^~~~~~~\n"
     ]
    },
    {
     "name": "stdout",
     "output_type": "stream",
     "text": [
      "  CC      elf/mupq_pqclean_crypto_kem_kyber768_clean_testvectors.elf\n",
      "  CC      elf/crypto_sign_dilithium5_m4f_test.elf\n"
     ]
    },
    {
     "name": "stderr",
     "output_type": "stream",
     "text": [
      "common/hal-opencm3.c: In function 'clock_setup':\n",
      "common/hal-opencm3.c:104:41: warning: unused parameter 'clock' [-Wunused-parameter]\n",
      " static void clock_setup(enum clock_mode clock)\n",
      "                         ~~~~~~~~~~~~~~~~^~~~~\n",
      "common/hal-opencm3.c: In function 'clock_setup':\n",
      "common/hal-opencm3.c:104:41: warning: unused parameter 'clock' [-Wunused-parameter]\n",
      " static void clock_setup(enum clock_mode clock)\n",
      "                         ~~~~~~~~~~~~~~~~^~~~~\n",
      "common/randombytes.c:38:2: warning: #warning Using a non-random randombytes [-Wcpp]\n",
      " #warning Using a non-random randombytes\n",
      "  ^~~~~~~\n"
     ]
    },
    {
     "name": "stdout",
     "output_type": "stream",
     "text": [
      "  CC      elf/crypto_sign_dilithium5_m4f_speed.elf\n"
     ]
    },
    {
     "name": "stderr",
     "output_type": "stream",
     "text": [
      "common/hal-opencm3.c: In function 'clock_setup':\n",
      "common/hal-opencm3.c:104:41: warning: unused parameter 'clock' [-Wunused-parameter]\n",
      " static void clock_setup(enum clock_mode clock)\n",
      "                         ~~~~~~~~~~~~~~~~^~~~~\n"
     ]
    },
    {
     "name": "stdout",
     "output_type": "stream",
     "text": [
      "  CC      elf/crypto_sign_dilithium5_m4f_hashing.elf\n"
     ]
    },
    {
     "name": "stderr",
     "output_type": "stream",
     "text": [
      "common/randombytes.c:38:2: warning: #warning Using a non-random randombytes [-Wcpp]\n",
      " #warning Using a non-random randombytes\n",
      "  ^~~~~~~\n",
      "common/hal-opencm3.c: In function 'clock_setup':\n",
      "common/hal-opencm3.c:104:41: warning: unused parameter 'clock' [-Wunused-parameter]\n",
      " static void clock_setup(enum clock_mode clock)\n",
      "                         ~~~~~~~~~~~~~~~~^~~~~\n",
      "common/randombytes.c:38:2: warning: #warning Using a non-random randombytes [-Wcpp]\n",
      " #warning Using a non-random randombytes\n",
      "  ^~~~~~~\n"
     ]
    },
    {
     "name": "stdout",
     "output_type": "stream",
     "text": [
      "  CC      elf/crypto_sign_dilithium5_m4f_stack.elf\n"
     ]
    },
    {
     "name": "stderr",
     "output_type": "stream",
     "text": [
      "common/hal-opencm3.c: In function 'clock_setup':\n",
      "common/hal-opencm3.c:104:41: warning: unused parameter 'clock' [-Wunused-parameter]\n",
      " static void clock_setup(enum clock_mode clock)\n",
      "                         ~~~~~~~~~~~~~~~~^~~~~\n",
      "common/randombytes.c:38:2: warning: #warning Using a non-random randombytes [-Wcpp]\n",
      " #warning Using a non-random randombytes\n",
      "  ^~~~~~~\n"
     ]
    },
    {
     "name": "stdout",
     "output_type": "stream",
     "text": [
      "  CC      elf/crypto_sign_dilithium5_m4f_testvectors.elf\n"
     ]
    },
    {
     "name": "stderr",
     "output_type": "stream",
     "text": [
      "common/hal-opencm3.c: In function 'clock_setup':\n",
      "common/hal-opencm3.c:104:41: warning: unused parameter 'clock' [-Wunused-parameter]\n",
      " static void clock_setup(enum clock_mode clock)\n",
      "                         ~~~~~~~~~~~~~~~~^~~~~\n"
     ]
    },
    {
     "name": "stdout",
     "output_type": "stream",
     "text": [
      "  CC      elf/crypto_sign_dilithium3_m4f_test.elf\n"
     ]
    },
    {
     "name": "stderr",
     "output_type": "stream",
     "text": [
      "common/hal-opencm3.c: In function 'clock_setup':\n",
      "common/hal-opencm3.c:104:41: warning: unused parameter 'clock' [-Wunused-parameter]\n",
      " static void clock_setup(enum clock_mode clock)\n",
      "                         ~~~~~~~~~~~~~~~~^~~~~\n",
      "common/randombytes.c:38:2: warning: #warning Using a non-random randombytes [-Wcpp]\n",
      " #warning Using a non-random randombytes\n",
      "  ^~~~~~~\n"
     ]
    },
    {
     "name": "stdout",
     "output_type": "stream",
     "text": [
      "  CC      elf/crypto_sign_dilithium3_m4f_speed.elf\n"
     ]
    },
    {
     "name": "stderr",
     "output_type": "stream",
     "text": [
      "common/hal-opencm3.c: In function 'clock_setup':\n",
      "common/hal-opencm3.c:104:41: warning: unused parameter 'clock' [-Wunused-parameter]\n",
      " static void clock_setup(enum clock_mode clock)\n",
      "                         ~~~~~~~~~~~~~~~~^~~~~\n",
      "common/randombytes.c:38:2: warning: #warning Using a non-random randombytes [-Wcpp]\n",
      " #warning Using a non-random randombytes\n",
      "  ^~~~~~~\n"
     ]
    },
    {
     "name": "stdout",
     "output_type": "stream",
     "text": [
      "  CC      elf/crypto_sign_dilithium3_m4f_hashing.elf\n"
     ]
    },
    {
     "name": "stderr",
     "output_type": "stream",
     "text": [
      "common/hal-opencm3.c: In function 'clock_setup':\n",
      "common/hal-opencm3.c:104:41: warning: unused parameter 'clock' [-Wunused-parameter]\n",
      " static void clock_setup(enum clock_mode clock)\n",
      "                         ~~~~~~~~~~~~~~~~^~~~~\n"
     ]
    },
    {
     "name": "stdout",
     "output_type": "stream",
     "text": [
      "  CC      elf/crypto_sign_dilithium3_m4f_stack.elf\n"
     ]
    },
    {
     "name": "stderr",
     "output_type": "stream",
     "text": [
      "common/randombytes.c:38:2: warning: #warning Using a non-random randombytes [-Wcpp]\n",
      " #warning Using a non-random randombytes\n",
      "  ^~~~~~~\n",
      "common/hal-opencm3.c: In function 'clock_setup':\n",
      "common/hal-opencm3.c:104:41: warning: unused parameter 'clock' [-Wunused-parameter]\n",
      " static void clock_setup(enum clock_mode clock)\n",
      "                         ~~~~~~~~~~~~~~~~^~~~~\n",
      "common/randombytes.c:38:2: warning: #warning Using a non-random randombytes [-Wcpp]\n",
      " #warning Using a non-random randombytes\n",
      "  ^~~~~~~\n"
     ]
    },
    {
     "name": "stdout",
     "output_type": "stream",
     "text": [
      "  CC      elf/crypto_sign_dilithium3_m4f_testvectors.elf\n"
     ]
    },
    {
     "name": "stderr",
     "output_type": "stream",
     "text": [
      "common/hal-opencm3.c: In function 'clock_setup':\n",
      "common/hal-opencm3.c:104:41: warning: unused parameter 'clock' [-Wunused-parameter]\n",
      " static void clock_setup(enum clock_mode clock)\n",
      "                         ~~~~~~~~~~~~~~~~^~~~~\n"
     ]
    },
    {
     "name": "stdout",
     "output_type": "stream",
     "text": [
      "  CC      elf/crypto_sign_dilithium2_m4f_test.elf\n",
      "  CC      elf/crypto_sign_dilithium2_m4f_speed.elf\n"
     ]
    },
    {
     "name": "stderr",
     "output_type": "stream",
     "text": [
      "common/hal-opencm3.c: In function 'clock_setup':\n",
      "common/hal-opencm3.c:104:41: warning: unused parameter 'clock' [-Wunused-parameter]\n",
      " static void clock_setup(enum clock_mode clock)\n",
      "                         ~~~~~~~~~~~~~~~~^~~~~\n",
      "common/randombytes.c:38:2: warning: #warning Using a non-random randombytes [-Wcpp]\n",
      " #warning Using a non-random randombytes\n",
      "  ^~~~~~~\n",
      "common/hal-opencm3.c: In function 'clock_setup':\n",
      "common/hal-opencm3.c:104:41: warning: unused parameter 'clock' [-Wunused-parameter]\n",
      " static void clock_setup(enum clock_mode clock)\n",
      "                         ~~~~~~~~~~~~~~~~^~~~~\n",
      "common/randombytes.c:38:2: warning: #warning Using a non-random randombytes [-Wcpp]\n",
      " #warning Using a non-random randombytes\n",
      "  ^~~~~~~\n"
     ]
    },
    {
     "name": "stdout",
     "output_type": "stream",
     "text": [
      "  CC      elf/crypto_sign_dilithium2_m4f_hashing.elf\n"
     ]
    },
    {
     "name": "stderr",
     "output_type": "stream",
     "text": [
      "common/hal-opencm3.c: In function 'clock_setup':\n",
      "common/hal-opencm3.c:104:41: warning: unused parameter 'clock' [-Wunused-parameter]\n",
      " static void clock_setup(enum clock_mode clock)\n",
      "                         ~~~~~~~~~~~~~~~~^~~~~\n",
      "common/randombytes.c:38:2: warning: #warning Using a non-random randombytes [-Wcpp]\n",
      " #warning Using a non-random randombytes\n",
      "  ^~~~~~~\n"
     ]
    },
    {
     "name": "stdout",
     "output_type": "stream",
     "text": [
      "  CC      elf/crypto_sign_dilithium2_m4f_stack.elf\n"
     ]
    },
    {
     "name": "stderr",
     "output_type": "stream",
     "text": [
      "common/hal-opencm3.c: In function 'clock_setup':\n",
      "common/hal-opencm3.c:104:41: warning: unused parameter 'clock' [-Wunused-parameter]\n",
      " static void clock_setup(enum clock_mode clock)\n",
      "                         ~~~~~~~~~~~~~~~~^~~~~\n",
      "common/randombytes.c:38:2: warning: #warning Using a non-random randombytes [-Wcpp]\n",
      " #warning Using a non-random randombytes\n",
      "  ^~~~~~~\n"
     ]
    },
    {
     "name": "stdout",
     "output_type": "stream",
     "text": [
      "  CC      elf/crypto_sign_dilithium2_m4f_testvectors.elf\n"
     ]
    },
    {
     "name": "stderr",
     "output_type": "stream",
     "text": [
      "common/hal-opencm3.c: In function 'clock_setup':\n",
      "common/hal-opencm3.c:104:41: warning: unused parameter 'clock' [-Wunused-parameter]\n",
      " static void clock_setup(enum clock_mode clock)\n",
      "                         ~~~~~~~~~~~~~~~~^~~~~\n"
     ]
    },
    {
     "name": "stdout",
     "output_type": "stream",
     "text": [
      "  CC      elf/mupq_pqclean_crypto_sign_sphincs-haraka-192s-robust_clean_test.elf\n"
     ]
    },
    {
     "name": "stderr",
     "output_type": "stream",
     "text": [
      "common/hal-opencm3.c: In function 'clock_setup':\n",
      "common/hal-opencm3.c:104:41: warning: unused parameter 'clock' [-Wunused-parameter]\n",
      " static void clock_setup(enum clock_mode clock)\n",
      "                         ~~~~~~~~~~~~~~~~^~~~~\n",
      "common/randombytes.c:38:2: warning: #warning Using a non-random randombytes [-Wcpp]\n",
      " #warning Using a non-random randombytes\n",
      "  ^~~~~~~\n"
     ]
    },
    {
     "name": "stdout",
     "output_type": "stream",
     "text": [
      "  CC      elf/mupq_pqclean_crypto_sign_sphincs-haraka-192s-robust_clean_speed.elf\n"
     ]
    },
    {
     "name": "stderr",
     "output_type": "stream",
     "text": [
      "common/hal-opencm3.c: In function 'clock_setup':\n",
      "common/hal-opencm3.c:104:41: warning: unused parameter 'clock' [-Wunused-parameter]\n",
      " static void clock_setup(enum clock_mode clock)\n",
      "                         ~~~~~~~~~~~~~~~~^~~~~\n",
      "common/randombytes.c:38:2: warning: #warning Using a non-random randombytes [-Wcpp]\n",
      " #warning Using a non-random randombytes\n",
      "  ^~~~~~~\n"
     ]
    },
    {
     "name": "stdout",
     "output_type": "stream",
     "text": [
      "  CC      elf/mupq_pqclean_crypto_sign_sphincs-haraka-192s-robust_clean_hashing.elf\n"
     ]
    },
    {
     "name": "stderr",
     "output_type": "stream",
     "text": [
      "common/hal-opencm3.c: In function 'clock_setup':\n",
      "common/hal-opencm3.c:104:41: warning: unused parameter 'clock' [-Wunused-parameter]\n",
      " static void clock_setup(enum clock_mode clock)\n",
      "                         ~~~~~~~~~~~~~~~~^~~~~\n",
      "common/randombytes.c:38:2: warning: #warning Using a non-random randombytes [-Wcpp]\n",
      " #warning Using a non-random randombytes\n",
      "  ^~~~~~~\n"
     ]
    },
    {
     "name": "stdout",
     "output_type": "stream",
     "text": [
      "  CC      elf/mupq_pqclean_crypto_sign_sphincs-haraka-192s-robust_clean_stack.elf\n"
     ]
    },
    {
     "name": "stderr",
     "output_type": "stream",
     "text": [
      "common/hal-opencm3.c: In function 'clock_setup':\n",
      "common/hal-opencm3.c:104:41: warning: unused parameter 'clock' [-Wunused-parameter]\n",
      " static void clock_setup(enum clock_mode clock)\n",
      "                         ~~~~~~~~~~~~~~~~^~~~~\n",
      "common/randombytes.c:38:2: warning: #warning Using a non-random randombytes [-Wcpp]\n",
      " #warning Using a non-random randombytes\n",
      "  ^~~~~~~\n"
     ]
    },
    {
     "name": "stdout",
     "output_type": "stream",
     "text": [
      "  CC      elf/mupq_pqclean_crypto_sign_sphincs-haraka-192s-robust_clean_testvectors.elf\n",
      "  CC      elf/mupq_pqclean_crypto_sign_falcon-1024_clean_test.elf\n"
     ]
    },
    {
     "name": "stderr",
     "output_type": "stream",
     "text": [
      "common/hal-opencm3.c: In function 'clock_setup':\n",
      "common/hal-opencm3.c:104:41: warning: unused parameter 'clock' [-Wunused-parameter]\n",
      " static void clock_setup(enum clock_mode clock)\n",
      "                         ~~~~~~~~~~~~~~~~^~~~~\n",
      "common/hal-opencm3.c: In function 'clock_setup':\n",
      "common/hal-opencm3.c:104:41: warning: unused parameter 'clock' [-Wunused-parameter]\n",
      " static void clock_setup(enum clock_mode clock)\n",
      "                         ~~~~~~~~~~~~~~~~^~~~~\n",
      "common/randombytes.c:38:2: warning: #warning Using a non-random randombytes [-Wcpp]\n",
      " #warning Using a non-random randombytes\n",
      "  ^~~~~~~\n"
     ]
    },
    {
     "name": "stdout",
     "output_type": "stream",
     "text": [
      "  CC      elf/mupq_pqclean_crypto_sign_falcon-1024_clean_speed.elf\n"
     ]
    },
    {
     "name": "stderr",
     "output_type": "stream",
     "text": [
      "common/hal-opencm3.c: In function 'clock_setup':\n",
      "common/hal-opencm3.c:104:41: warning: unused parameter 'clock' [-Wunused-parameter]\n",
      " static void clock_setup(enum clock_mode clock)\n",
      "                         ~~~~~~~~~~~~~~~~^~~~~\n",
      "common/randombytes.c:38:2: warning: #warning Using a non-random randombytes [-Wcpp]\n",
      " #warning Using a non-random randombytes\n",
      "  ^~~~~~~\n"
     ]
    },
    {
     "name": "stdout",
     "output_type": "stream",
     "text": [
      "  CC      elf/mupq_pqclean_crypto_sign_falcon-1024_clean_hashing.elf\n"
     ]
    },
    {
     "name": "stderr",
     "output_type": "stream",
     "text": [
      "common/hal-opencm3.c: In function 'clock_setup':\n",
      "common/hal-opencm3.c:104:41: warning: unused parameter 'clock' [-Wunused-parameter]\n",
      " static void clock_setup(enum clock_mode clock)\n",
      "                         ~~~~~~~~~~~~~~~~^~~~~\n",
      "common/randombytes.c:38:2: warning: #warning Using a non-random randombytes [-Wcpp]\n",
      " #warning Using a non-random randombytes\n",
      "  ^~~~~~~\n"
     ]
    },
    {
     "name": "stdout",
     "output_type": "stream",
     "text": [
      "  CC      elf/mupq_pqclean_crypto_sign_falcon-1024_clean_stack.elf\n"
     ]
    },
    {
     "name": "stderr",
     "output_type": "stream",
     "text": [
      "common/hal-opencm3.c: In function 'clock_setup':\n",
      "common/hal-opencm3.c:104:41: warning: unused parameter 'clock' [-Wunused-parameter]\n",
      " static void clock_setup(enum clock_mode clock)\n",
      "                         ~~~~~~~~~~~~~~~~^~~~~\n",
      "common/randombytes.c:38:2: warning: #warning Using a non-random randombytes [-Wcpp]\n",
      " #warning Using a non-random randombytes\n",
      "  ^~~~~~~\n"
     ]
    },
    {
     "name": "stdout",
     "output_type": "stream",
     "text": [
      "  CC      elf/mupq_pqclean_crypto_sign_falcon-1024_clean_testvectors.elf\n"
     ]
    },
    {
     "name": "stderr",
     "output_type": "stream",
     "text": [
      "common/hal-opencm3.c: In function 'clock_setup':\n",
      "common/hal-opencm3.c:104:41: warning: unused parameter 'clock' [-Wunused-parameter]\n",
      " static void clock_setup(enum clock_mode clock)\n",
      "                         ~~~~~~~~~~~~~~~~^~~~~\n"
     ]
    },
    {
     "name": "stdout",
     "output_type": "stream",
     "text": [
      "  CC      elf/mupq_pqclean_crypto_sign_sphincs-shake256-256s-simple_clean_test.elf\n"
     ]
    },
    {
     "name": "stderr",
     "output_type": "stream",
     "text": [
      "common/hal-opencm3.c: In function 'clock_setup':\n",
      "common/hal-opencm3.c:104:41: warning: unused parameter 'clock' [-Wunused-parameter]\n",
      " static void clock_setup(enum clock_mode clock)\n",
      "                         ~~~~~~~~~~~~~~~~^~~~~\n",
      "common/randombytes.c:38:2: warning: #warning Using a non-random randombytes [-Wcpp]\n",
      " #warning Using a non-random randombytes\n",
      "  ^~~~~~~\n"
     ]
    },
    {
     "name": "stdout",
     "output_type": "stream",
     "text": [
      "  CC      elf/mupq_pqclean_crypto_sign_sphincs-shake256-256s-simple_clean_speed.elf\n"
     ]
    },
    {
     "name": "stderr",
     "output_type": "stream",
     "text": [
      "common/hal-opencm3.c: In function 'clock_setup':\n",
      "common/hal-opencm3.c:104:41: warning: unused parameter 'clock' [-Wunused-parameter]\n",
      " static void clock_setup(enum clock_mode clock)\n",
      "                         ~~~~~~~~~~~~~~~~^~~~~\n",
      "common/randombytes.c:38:2: warning: #warning Using a non-random randombytes [-Wcpp]\n",
      " #warning Using a non-random randombytes\n",
      "  ^~~~~~~\n"
     ]
    },
    {
     "name": "stdout",
     "output_type": "stream",
     "text": [
      "  CC      elf/mupq_pqclean_crypto_sign_sphincs-shake256-256s-simple_clean_hashing.elf\n"
     ]
    },
    {
     "name": "stderr",
     "output_type": "stream",
     "text": [
      "common/hal-opencm3.c: In function 'clock_setup':\n",
      "common/hal-opencm3.c:104:41: warning: unused parameter 'clock' [-Wunused-parameter]\n",
      " static void clock_setup(enum clock_mode clock)\n",
      "                         ~~~~~~~~~~~~~~~~^~~~~\n",
      "common/randombytes.c:38:2: warning: #warning Using a non-random randombytes [-Wcpp]\n",
      " #warning Using a non-random randombytes\n",
      "  ^~~~~~~\n"
     ]
    },
    {
     "name": "stdout",
     "output_type": "stream",
     "text": [
      "  CC      elf/mupq_pqclean_crypto_sign_sphincs-shake256-256s-simple_clean_stack.elf\n"
     ]
    },
    {
     "name": "stderr",
     "output_type": "stream",
     "text": [
      "common/hal-opencm3.c: In function 'clock_setup':\n",
      "common/hal-opencm3.c:104:41: warning: unused parameter 'clock' [-Wunused-parameter]\n",
      " static void clock_setup(enum clock_mode clock)\n",
      "                         ~~~~~~~~~~~~~~~~^~~~~\n",
      "common/randombytes.c:38:2: warning: #warning Using a non-random randombytes [-Wcpp]\n",
      " #warning Using a non-random randombytes\n",
      "  ^~~~~~~\n"
     ]
    },
    {
     "name": "stdout",
     "output_type": "stream",
     "text": [
      "  CC      elf/mupq_pqclean_crypto_sign_sphincs-shake256-256s-simple_clean_testvectors.elf\n"
     ]
    },
    {
     "name": "stderr",
     "output_type": "stream",
     "text": [
      "common/hal-opencm3.c: In function 'clock_setup':\n",
      "common/hal-opencm3.c:104:41: warning: unused parameter 'clock' [-Wunused-parameter]\n",
      " static void clock_setup(enum clock_mode clock)\n",
      "                         ~~~~~~~~~~~~~~~~^~~~~\n"
     ]
    },
    {
     "name": "stdout",
     "output_type": "stream",
     "text": [
      "  CC      elf/mupq_pqclean_crypto_sign_sphincs-haraka-128f-robust_clean_test.elf\n"
     ]
    },
    {
     "name": "stderr",
     "output_type": "stream",
     "text": [
      "common/hal-opencm3.c: In function 'clock_setup':\n",
      "common/hal-opencm3.c:104:41: warning: unused parameter 'clock' [-Wunused-parameter]\n",
      " static void clock_setup(enum clock_mode clock)\n",
      "                         ~~~~~~~~~~~~~~~~^~~~~\n",
      "common/randombytes.c:38:2: warning: #warning Using a non-random randombytes [-Wcpp]\n",
      " #warning Using a non-random randombytes\n",
      "  ^~~~~~~\n"
     ]
    },
    {
     "name": "stdout",
     "output_type": "stream",
     "text": [
      "  CC      elf/mupq_pqclean_crypto_sign_sphincs-haraka-128f-robust_clean_speed.elf\n"
     ]
    },
    {
     "name": "stderr",
     "output_type": "stream",
     "text": [
      "common/hal-opencm3.c: In function 'clock_setup':\n",
      "common/hal-opencm3.c:104:41: warning: unused parameter 'clock' [-Wunused-parameter]\n",
      " static void clock_setup(enum clock_mode clock)\n",
      "                         ~~~~~~~~~~~~~~~~^~~~~\n",
      "common/randombytes.c:38:2: warning: #warning Using a non-random randombytes [-Wcpp]\n",
      " #warning Using a non-random randombytes\n",
      "  ^~~~~~~\n"
     ]
    },
    {
     "name": "stdout",
     "output_type": "stream",
     "text": [
      "  CC      elf/mupq_pqclean_crypto_sign_sphincs-haraka-128f-robust_clean_hashing.elf\n"
     ]
    },
    {
     "name": "stderr",
     "output_type": "stream",
     "text": [
      "common/hal-opencm3.c: In function 'clock_setup':\n",
      "common/hal-opencm3.c:104:41: warning: unused parameter 'clock' [-Wunused-parameter]\n",
      " static void clock_setup(enum clock_mode clock)\n",
      "                         ~~~~~~~~~~~~~~~~^~~~~\n",
      "common/randombytes.c:38:2: warning: #warning Using a non-random randombytes [-Wcpp]\n",
      " #warning Using a non-random randombytes\n",
      "  ^~~~~~~\n"
     ]
    },
    {
     "name": "stdout",
     "output_type": "stream",
     "text": [
      "  CC      elf/mupq_pqclean_crypto_sign_sphincs-haraka-128f-robust_clean_stack.elf\n"
     ]
    },
    {
     "name": "stderr",
     "output_type": "stream",
     "text": [
      "common/hal-opencm3.c: In function 'clock_setup':\n",
      "common/hal-opencm3.c:104:41: warning: unused parameter 'clock' [-Wunused-parameter]\n",
      " static void clock_setup(enum clock_mode clock)\n",
      "                         ~~~~~~~~~~~~~~~~^~~~~\n",
      "common/randombytes.c:38:2: warning: #warning Using a non-random randombytes [-Wcpp]\n",
      " #warning Using a non-random randombytes\n",
      "  ^~~~~~~\n"
     ]
    },
    {
     "name": "stdout",
     "output_type": "stream",
     "text": [
      "  CC      elf/mupq_pqclean_crypto_sign_sphincs-haraka-128f-robust_clean_testvectors.elf\n"
     ]
    },
    {
     "name": "stderr",
     "output_type": "stream",
     "text": [
      "common/hal-opencm3.c: In function 'clock_setup':\n",
      "common/hal-opencm3.c:104:41: warning: unused parameter 'clock' [-Wunused-parameter]\n",
      " static void clock_setup(enum clock_mode clock)\n",
      "                         ~~~~~~~~~~~~~~~~^~~~~\n"
     ]
    },
    {
     "name": "stdout",
     "output_type": "stream",
     "text": [
      "  CC      elf/mupq_pqclean_crypto_sign_sphincs-haraka-128s-robust_clean_test.elf\n"
     ]
    },
    {
     "name": "stderr",
     "output_type": "stream",
     "text": [
      "common/hal-opencm3.c: In function 'clock_setup':\n",
      "common/hal-opencm3.c:104:41: warning: unused parameter 'clock' [-Wunused-parameter]\n",
      " static void clock_setup(enum clock_mode clock)\n",
      "                         ~~~~~~~~~~~~~~~~^~~~~\n",
      "common/randombytes.c:38:2: warning: #warning Using a non-random randombytes [-Wcpp]\n",
      " #warning Using a non-random randombytes\n",
      "  ^~~~~~~\n"
     ]
    },
    {
     "name": "stdout",
     "output_type": "stream",
     "text": [
      "  CC      elf/mupq_pqclean_crypto_sign_sphincs-haraka-128s-robust_clean_speed.elf\n"
     ]
    },
    {
     "name": "stderr",
     "output_type": "stream",
     "text": [
      "common/hal-opencm3.c: In function 'clock_setup':\n",
      "common/hal-opencm3.c:104:41: warning: unused parameter 'clock' [-Wunused-parameter]\n",
      " static void clock_setup(enum clock_mode clock)\n",
      "                         ~~~~~~~~~~~~~~~~^~~~~\n",
      "common/randombytes.c:38:2: warning: #warning Using a non-random randombytes [-Wcpp]\n",
      " #warning Using a non-random randombytes\n",
      "  ^~~~~~~\n"
     ]
    },
    {
     "name": "stdout",
     "output_type": "stream",
     "text": [
      "  CC      elf/mupq_pqclean_crypto_sign_sphincs-haraka-128s-robust_clean_hashing.elf\n"
     ]
    },
    {
     "name": "stderr",
     "output_type": "stream",
     "text": [
      "common/hal-opencm3.c: In function 'clock_setup':\n",
      "common/hal-opencm3.c:104:41: warning: unused parameter 'clock' [-Wunused-parameter]\n",
      " static void clock_setup(enum clock_mode clock)\n",
      "                         ~~~~~~~~~~~~~~~~^~~~~\n",
      "common/randombytes.c:38:2: warning: #warning Using a non-random randombytes [-Wcpp]\n",
      " #warning Using a non-random randombytes\n",
      "  ^~~~~~~\n"
     ]
    },
    {
     "name": "stdout",
     "output_type": "stream",
     "text": [
      "  CC      elf/mupq_pqclean_crypto_sign_sphincs-haraka-128s-robust_clean_stack.elf\n"
     ]
    },
    {
     "name": "stderr",
     "output_type": "stream",
     "text": [
      "common/hal-opencm3.c: In function 'clock_setup':\n",
      "common/hal-opencm3.c:104:41: warning: unused parameter 'clock' [-Wunused-parameter]\n",
      " static void clock_setup(enum clock_mode clock)\n",
      "                         ~~~~~~~~~~~~~~~~^~~~~\n",
      "common/randombytes.c:38:2: warning: #warning Using a non-random randombytes [-Wcpp]\n",
      " #warning Using a non-random randombytes\n",
      "  ^~~~~~~\n"
     ]
    },
    {
     "name": "stdout",
     "output_type": "stream",
     "text": [
      "  CC      elf/mupq_pqclean_crypto_sign_sphincs-haraka-128s-robust_clean_testvectors.elf\n",
      "  CC      elf/mupq_pqclean_crypto_sign_sphincs-sha256-128s-simple_clean_test.elf\n"
     ]
    },
    {
     "name": "stderr",
     "output_type": "stream",
     "text": [
      "common/hal-opencm3.c: In function 'clock_setup':\n",
      "common/hal-opencm3.c:104:41: warning: unused parameter 'clock' [-Wunused-parameter]\n",
      " static void clock_setup(enum clock_mode clock)\n",
      "                         ~~~~~~~~~~~~~~~~^~~~~\n",
      "common/hal-opencm3.c: In function 'clock_setup':\n",
      "common/hal-opencm3.c:104:41: warning: unused parameter 'clock' [-Wunused-parameter]\n",
      " static void clock_setup(enum clock_mode clock)\n",
      "                         ~~~~~~~~~~~~~~~~^~~~~\n",
      "common/randombytes.c:38:2: warning: #warning Using a non-random randombytes [-Wcpp]\n",
      " #warning Using a non-random randombytes\n",
      "  ^~~~~~~\n"
     ]
    },
    {
     "name": "stdout",
     "output_type": "stream",
     "text": [
      "  CC      elf/mupq_pqclean_crypto_sign_sphincs-sha256-128s-simple_clean_speed.elf\n"
     ]
    },
    {
     "name": "stderr",
     "output_type": "stream",
     "text": [
      "common/hal-opencm3.c: In function 'clock_setup':\n",
      "common/hal-opencm3.c:104:41: warning: unused parameter 'clock' [-Wunused-parameter]\n",
      " static void clock_setup(enum clock_mode clock)\n",
      "                         ~~~~~~~~~~~~~~~~^~~~~\n",
      "common/randombytes.c:38:2: warning: #warning Using a non-random randombytes [-Wcpp]\n",
      " #warning Using a non-random randombytes\n",
      "  ^~~~~~~\n"
     ]
    },
    {
     "name": "stdout",
     "output_type": "stream",
     "text": [
      "  CC      elf/mupq_pqclean_crypto_sign_sphincs-sha256-128s-simple_clean_hashing.elf\n"
     ]
    },
    {
     "name": "stderr",
     "output_type": "stream",
     "text": [
      "common/hal-opencm3.c: In function 'clock_setup':\n",
      "common/hal-opencm3.c:104:41: warning: unused parameter 'clock' [-Wunused-parameter]\n",
      " static void clock_setup(enum clock_mode clock)\n",
      "                         ~~~~~~~~~~~~~~~~^~~~~\n",
      "common/randombytes.c:38:2: warning: #warning Using a non-random randombytes [-Wcpp]\n",
      " #warning Using a non-random randombytes\n",
      "  ^~~~~~~\n"
     ]
    },
    {
     "name": "stdout",
     "output_type": "stream",
     "text": [
      "  CC      elf/mupq_pqclean_crypto_sign_sphincs-sha256-128s-simple_clean_stack.elf\n",
      "  CC      elf/mupq_pqclean_crypto_sign_sphincs-sha256-128s-simple_clean_testvectors.elf\n"
     ]
    },
    {
     "name": "stderr",
     "output_type": "stream",
     "text": [
      "common/hal-opencm3.c: In function 'clock_setup':\n",
      "common/hal-opencm3.c:104:41: warning: unused parameter 'clock' [-Wunused-parameter]\n",
      " static void clock_setup(enum clock_mode clock)\n",
      "                         ~~~~~~~~~~~~~~~~^~~~~\n",
      "common/randombytes.c:38:2: warning: #warning Using a non-random randombytes [-Wcpp]\n",
      " #warning Using a non-random randombytes\n",
      "  ^~~~~~~\n",
      "common/hal-opencm3.c: In function 'clock_setup':\n",
      "common/hal-opencm3.c:104:41: warning: unused parameter 'clock' [-Wunused-parameter]\n",
      " static void clock_setup(enum clock_mode clock)\n",
      "                         ~~~~~~~~~~~~~~~~^~~~~\n"
     ]
    },
    {
     "name": "stdout",
     "output_type": "stream",
     "text": [
      "  CC      elf/mupq_pqclean_crypto_sign_dilithium5_clean_test.elf\n"
     ]
    },
    {
     "name": "stderr",
     "output_type": "stream",
     "text": [
      "common/hal-opencm3.c: In function 'clock_setup':\n",
      "common/hal-opencm3.c:104:41: warning: unused parameter 'clock' [-Wunused-parameter]\n",
      " static void clock_setup(enum clock_mode clock)\n",
      "                         ~~~~~~~~~~~~~~~~^~~~~\n",
      "common/randombytes.c:38:2: warning: #warning Using a non-random randombytes [-Wcpp]\n",
      " #warning Using a non-random randombytes\n",
      "  ^~~~~~~\n"
     ]
    },
    {
     "name": "stdout",
     "output_type": "stream",
     "text": [
      "  CC      elf/mupq_pqclean_crypto_sign_dilithium5_clean_speed.elf\n"
     ]
    },
    {
     "name": "stderr",
     "output_type": "stream",
     "text": [
      "common/hal-opencm3.c: In function 'clock_setup':\n",
      "common/hal-opencm3.c:104:41: warning: unused parameter 'clock' [-Wunused-parameter]\n",
      " static void clock_setup(enum clock_mode clock)\n",
      "                         ~~~~~~~~~~~~~~~~^~~~~\n",
      "common/randombytes.c:38:2: warning: #warning Using a non-random randombytes [-Wcpp]\n",
      " #warning Using a non-random randombytes\n",
      "  ^~~~~~~\n"
     ]
    },
    {
     "name": "stdout",
     "output_type": "stream",
     "text": [
      "  CC      elf/mupq_pqclean_crypto_sign_dilithium5_clean_hashing.elf\n"
     ]
    },
    {
     "name": "stderr",
     "output_type": "stream",
     "text": [
      "common/hal-opencm3.c: In function 'clock_setup':\n",
      "common/hal-opencm3.c:104:41: warning: unused parameter 'clock' [-Wunused-parameter]\n",
      " static void clock_setup(enum clock_mode clock)\n",
      "                         ~~~~~~~~~~~~~~~~^~~~~\n"
     ]
    },
    {
     "name": "stdout",
     "output_type": "stream",
     "text": [
      "  CC      elf/mupq_pqclean_crypto_sign_dilithium5_clean_stack.elf\n"
     ]
    },
    {
     "name": "stderr",
     "output_type": "stream",
     "text": [
      "common/randombytes.c:38:2: warning: #warning Using a non-random randombytes [-Wcpp]\n",
      " #warning Using a non-random randombytes\n",
      "  ^~~~~~~\n",
      "common/hal-opencm3.c: In function 'clock_setup':\n",
      "common/hal-opencm3.c:104:41: warning: unused parameter 'clock' [-Wunused-parameter]\n",
      " static void clock_setup(enum clock_mode clock)\n",
      "                         ~~~~~~~~~~~~~~~~^~~~~\n",
      "common/randombytes.c:38:2: warning: #warning Using a non-random randombytes [-Wcpp]\n",
      " #warning Using a non-random randombytes\n",
      "  ^~~~~~~\n"
     ]
    },
    {
     "name": "stdout",
     "output_type": "stream",
     "text": [
      "  CC      elf/mupq_pqclean_crypto_sign_dilithium5_clean_testvectors.elf\n"
     ]
    },
    {
     "name": "stderr",
     "output_type": "stream",
     "text": [
      "common/hal-opencm3.c: In function 'clock_setup':\n",
      "common/hal-opencm3.c:104:41: warning: unused parameter 'clock' [-Wunused-parameter]\n",
      " static void clock_setup(enum clock_mode clock)\n",
      "                         ~~~~~~~~~~~~~~~~^~~~~\n"
     ]
    },
    {
     "name": "stdout",
     "output_type": "stream",
     "text": [
      "  CC      elf/mupq_pqclean_crypto_sign_sphincs-sha256-192s-simple_clean_test.elf\n",
      "  CC      elf/mupq_pqclean_crypto_sign_sphincs-sha256-192s-simple_clean_speed.elf\n"
     ]
    },
    {
     "name": "stderr",
     "output_type": "stream",
     "text": [
      "common/hal-opencm3.c: In function 'clock_setup':\n",
      "common/hal-opencm3.c:104:41: warning: unused parameter 'clock' [-Wunused-parameter]\n",
      " static void clock_setup(enum clock_mode clock)\n",
      "                         ~~~~~~~~~~~~~~~~^~~~~\n",
      "common/randombytes.c:38:2: warning: #warning Using a non-random randombytes [-Wcpp]\n",
      " #warning Using a non-random randombytes\n",
      "  ^~~~~~~\n",
      "common/hal-opencm3.c: In function 'clock_setup':\n",
      "common/hal-opencm3.c:104:41: warning: unused parameter 'clock' [-Wunused-parameter]\n",
      " static void clock_setup(enum clock_mode clock)\n",
      "                         ~~~~~~~~~~~~~~~~^~~~~\n",
      "common/randombytes.c:38:2: warning: #warning Using a non-random randombytes [-Wcpp]\n",
      " #warning Using a non-random randombytes\n",
      "  ^~~~~~~\n"
     ]
    },
    {
     "name": "stdout",
     "output_type": "stream",
     "text": [
      "  CC      elf/mupq_pqclean_crypto_sign_sphincs-sha256-192s-simple_clean_hashing.elf\n"
     ]
    },
    {
     "name": "stderr",
     "output_type": "stream",
     "text": [
      "common/hal-opencm3.c: In function 'clock_setup':\n",
      "common/hal-opencm3.c:104:41: warning: unused parameter 'clock' [-Wunused-parameter]\n",
      " static void clock_setup(enum clock_mode clock)\n",
      "                         ~~~~~~~~~~~~~~~~^~~~~\n",
      "common/randombytes.c:38:2: warning: #warning Using a non-random randombytes [-Wcpp]\n",
      " #warning Using a non-random randombytes\n",
      "  ^~~~~~~\n"
     ]
    },
    {
     "name": "stdout",
     "output_type": "stream",
     "text": [
      "  CC      elf/mupq_pqclean_crypto_sign_sphincs-sha256-192s-simple_clean_stack.elf\n"
     ]
    },
    {
     "name": "stderr",
     "output_type": "stream",
     "text": [
      "common/hal-opencm3.c: In function 'clock_setup':\n",
      "common/hal-opencm3.c:104:41: warning: unused parameter 'clock' [-Wunused-parameter]\n",
      " static void clock_setup(enum clock_mode clock)\n",
      "                         ~~~~~~~~~~~~~~~~^~~~~\n"
     ]
    },
    {
     "name": "stdout",
     "output_type": "stream",
     "text": [
      "  CC      elf/mupq_pqclean_crypto_sign_sphincs-sha256-192s-simple_clean_testvectors.elf\n"
     ]
    },
    {
     "name": "stderr",
     "output_type": "stream",
     "text": [
      "common/randombytes.c:38:2: warning: #warning Using a non-random randombytes [-Wcpp]\n",
      " #warning Using a non-random randombytes\n",
      "  ^~~~~~~\n"
     ]
    },
    {
     "name": "stdout",
     "output_type": "stream",
     "text": [
      "  CC      elf/mupq_pqclean_crypto_sign_falcon-512_clean_test.elf\n"
     ]
    },
    {
     "name": "stderr",
     "output_type": "stream",
     "text": [
      "common/hal-opencm3.c: In function 'clock_setup':\n",
      "common/hal-opencm3.c:104:41: warning: unused parameter 'clock' [-Wunused-parameter]\n",
      " static void clock_setup(enum clock_mode clock)\n",
      "                         ~~~~~~~~~~~~~~~~^~~~~\n",
      "common/hal-opencm3.c: In function 'clock_setup':\n",
      "common/hal-opencm3.c:104:41: warning: unused parameter 'clock' [-Wunused-parameter]\n",
      " static void clock_setup(enum clock_mode clock)\n",
      "                         ~~~~~~~~~~~~~~~~^~~~~\n",
      "common/randombytes.c:38:2: warning: #warning Using a non-random randombytes [-Wcpp]\n",
      " #warning Using a non-random randombytes\n",
      "  ^~~~~~~\n"
     ]
    },
    {
     "name": "stdout",
     "output_type": "stream",
     "text": [
      "  CC      elf/mupq_pqclean_crypto_sign_falcon-512_clean_speed.elf\n"
     ]
    },
    {
     "name": "stderr",
     "output_type": "stream",
     "text": [
      "common/hal-opencm3.c: In function 'clock_setup':\n",
      "common/hal-opencm3.c:104:41: warning: unused parameter 'clock' [-Wunused-parameter]\n",
      " static void clock_setup(enum clock_mode clock)\n",
      "                         ~~~~~~~~~~~~~~~~^~~~~\n",
      "common/randombytes.c:38:2: warning: #warning Using a non-random randombytes [-Wcpp]\n",
      " #warning Using a non-random randombytes\n",
      "  ^~~~~~~\n"
     ]
    },
    {
     "name": "stdout",
     "output_type": "stream",
     "text": [
      "  CC      elf/mupq_pqclean_crypto_sign_falcon-512_clean_hashing.elf\n",
      "  CC      elf/mupq_pqclean_crypto_sign_falcon-512_clean_stack.elf\n"
     ]
    },
    {
     "name": "stderr",
     "output_type": "stream",
     "text": [
      "common/hal-opencm3.c: In function 'clock_setup':\n",
      "common/hal-opencm3.c:104:41: warning: unused parameter 'clock' [-Wunused-parameter]\n",
      " static void clock_setup(enum clock_mode clock)\n",
      "                         ~~~~~~~~~~~~~~~~^~~~~\n",
      "common/hal-opencm3.c: In function 'clock_setup':\n",
      "common/hal-opencm3.c:104:41: warning: unused parameter 'clock' [-Wunused-parameter]\n",
      " static void clock_setup(enum clock_mode clock)\n",
      "                         ~~~~~~~~~~~~~~~~^~~~~\n",
      "common/randombytes.c:38:2: warning: #warning Using a non-random randombytes [-Wcpp]\n",
      " #warning Using a non-random randombytes\n",
      "  ^~~~~~~\n",
      "common/randombytes.c:38:2: warning: #warning Using a non-random randombytes [-Wcpp]\n",
      " #warning Using a non-random randombytes\n",
      "  ^~~~~~~\n"
     ]
    },
    {
     "name": "stdout",
     "output_type": "stream",
     "text": [
      "  CC      elf/mupq_pqclean_crypto_sign_falcon-512_clean_testvectors.elf\n"
     ]
    },
    {
     "name": "stderr",
     "output_type": "stream",
     "text": [
      "common/hal-opencm3.c: In function 'clock_setup':\n",
      "common/hal-opencm3.c:104:41: warning: unused parameter 'clock' [-Wunused-parameter]\n",
      " static void clock_setup(enum clock_mode clock)\n",
      "                         ~~~~~~~~~~~~~~~~^~~~~\n"
     ]
    },
    {
     "name": "stdout",
     "output_type": "stream",
     "text": [
      "  CC      elf/mupq_pqclean_crypto_sign_sphincs-sha256-192s-robust_clean_test.elf\n"
     ]
    },
    {
     "name": "stderr",
     "output_type": "stream",
     "text": [
      "common/hal-opencm3.c: In function 'clock_setup':\n",
      "common/hal-opencm3.c:104:41: warning: unused parameter 'clock' [-Wunused-parameter]\n",
      " static void clock_setup(enum clock_mode clock)\n",
      "                         ~~~~~~~~~~~~~~~~^~~~~\n",
      "common/randombytes.c:38:2: warning: #warning Using a non-random randombytes [-Wcpp]\n",
      " #warning Using a non-random randombytes\n",
      "  ^~~~~~~\n"
     ]
    },
    {
     "name": "stdout",
     "output_type": "stream",
     "text": [
      "  CC      elf/mupq_pqclean_crypto_sign_sphincs-sha256-192s-robust_clean_speed.elf\n"
     ]
    },
    {
     "name": "stderr",
     "output_type": "stream",
     "text": [
      "common/hal-opencm3.c: In function 'clock_setup':\n",
      "common/hal-opencm3.c:104:41: warning: unused parameter 'clock' [-Wunused-parameter]\n",
      " static void clock_setup(enum clock_mode clock)\n",
      "                         ~~~~~~~~~~~~~~~~^~~~~\n"
     ]
    },
    {
     "name": "stdout",
     "output_type": "stream",
     "text": [
      "  CC      elf/mupq_pqclean_crypto_sign_sphincs-sha256-192s-robust_clean_hashing.elf\n"
     ]
    },
    {
     "name": "stderr",
     "output_type": "stream",
     "text": [
      "common/randombytes.c:38:2: warning: #warning Using a non-random randombytes [-Wcpp]\n",
      " #warning Using a non-random randombytes\n",
      "  ^~~~~~~\n",
      "common/hal-opencm3.c: In function 'clock_setup':\n",
      "common/hal-opencm3.c:104:41: warning: unused parameter 'clock' [-Wunused-parameter]\n",
      " static void clock_setup(enum clock_mode clock)\n",
      "                         ~~~~~~~~~~~~~~~~^~~~~\n",
      "common/randombytes.c:38:2: warning: #warning Using a non-random randombytes [-Wcpp]\n",
      " #warning Using a non-random randombytes\n",
      "  ^~~~~~~\n"
     ]
    },
    {
     "name": "stdout",
     "output_type": "stream",
     "text": [
      "  CC      elf/mupq_pqclean_crypto_sign_sphincs-sha256-192s-robust_clean_stack.elf\n"
     ]
    },
    {
     "name": "stderr",
     "output_type": "stream",
     "text": [
      "common/hal-opencm3.c: In function 'clock_setup':\n",
      "common/hal-opencm3.c:104:41: warning: unused parameter 'clock' [-Wunused-parameter]\n",
      " static void clock_setup(enum clock_mode clock)\n",
      "                         ~~~~~~~~~~~~~~~~^~~~~\n",
      "common/randombytes.c:38:2: warning: #warning Using a non-random randombytes [-Wcpp]\n",
      " #warning Using a non-random randombytes\n",
      "  ^~~~~~~\n"
     ]
    },
    {
     "name": "stdout",
     "output_type": "stream",
     "text": [
      "  CC      elf/mupq_pqclean_crypto_sign_sphincs-sha256-192s-robust_clean_testvectors.elf\n"
     ]
    },
    {
     "name": "stderr",
     "output_type": "stream",
     "text": [
      "common/hal-opencm3.c: In function 'clock_setup':\n",
      "common/hal-opencm3.c:104:41: warning: unused parameter 'clock' [-Wunused-parameter]\n",
      " static void clock_setup(enum clock_mode clock)\n",
      "                         ~~~~~~~~~~~~~~~~^~~~~\n"
     ]
    },
    {
     "name": "stdout",
     "output_type": "stream",
     "text": [
      "  CC      elf/mupq_pqclean_crypto_sign_sphincs-sha256-128f-robust_clean_test.elf\n"
     ]
    },
    {
     "name": "stderr",
     "output_type": "stream",
     "text": [
      "common/hal-opencm3.c: In function 'clock_setup':\n",
      "common/hal-opencm3.c:104:41: warning: unused parameter 'clock' [-Wunused-parameter]\n",
      " static void clock_setup(enum clock_mode clock)\n",
      "                         ~~~~~~~~~~~~~~~~^~~~~\n",
      "common/randombytes.c:38:2: warning: #warning Using a non-random randombytes [-Wcpp]\n",
      " #warning Using a non-random randombytes\n",
      "  ^~~~~~~\n"
     ]
    },
    {
     "name": "stdout",
     "output_type": "stream",
     "text": [
      "  CC      elf/mupq_pqclean_crypto_sign_sphincs-sha256-128f-robust_clean_speed.elf\n"
     ]
    },
    {
     "name": "stderr",
     "output_type": "stream",
     "text": [
      "common/hal-opencm3.c: In function 'clock_setup':\n",
      "common/hal-opencm3.c:104:41: warning: unused parameter 'clock' [-Wunused-parameter]\n",
      " static void clock_setup(enum clock_mode clock)\n",
      "                         ~~~~~~~~~~~~~~~~^~~~~\n",
      "common/randombytes.c:38:2: warning: #warning Using a non-random randombytes [-Wcpp]\n",
      " #warning Using a non-random randombytes\n",
      "  ^~~~~~~\n"
     ]
    },
    {
     "name": "stdout",
     "output_type": "stream",
     "text": [
      "  CC      elf/mupq_pqclean_crypto_sign_sphincs-sha256-128f-robust_clean_hashing.elf\n"
     ]
    },
    {
     "name": "stderr",
     "output_type": "stream",
     "text": [
      "common/hal-opencm3.c: In function 'clock_setup':\n",
      "common/hal-opencm3.c:104:41: warning: unused parameter 'clock' [-Wunused-parameter]\n",
      " static void clock_setup(enum clock_mode clock)\n",
      "                         ~~~~~~~~~~~~~~~~^~~~~\n",
      "common/randombytes.c:38:2: warning: #warning Using a non-random randombytes [-Wcpp]\n",
      " #warning Using a non-random randombytes\n",
      "  ^~~~~~~\n"
     ]
    },
    {
     "name": "stdout",
     "output_type": "stream",
     "text": [
      "  CC      elf/mupq_pqclean_crypto_sign_sphincs-sha256-128f-robust_clean_stack.elf\n"
     ]
    },
    {
     "name": "stderr",
     "output_type": "stream",
     "text": [
      "common/hal-opencm3.c: In function 'clock_setup':\n",
      "common/hal-opencm3.c:104:41: warning: unused parameter 'clock' [-Wunused-parameter]\n",
      " static void clock_setup(enum clock_mode clock)\n",
      "                         ~~~~~~~~~~~~~~~~^~~~~\n",
      "common/randombytes.c:38:2: warning: #warning Using a non-random randombytes [-Wcpp]\n",
      " #warning Using a non-random randombytes\n",
      "  ^~~~~~~\n"
     ]
    },
    {
     "name": "stdout",
     "output_type": "stream",
     "text": [
      "  CC      elf/mupq_pqclean_crypto_sign_sphincs-sha256-128f-robust_clean_testvectors.elf\n",
      "  CC      elf/mupq_pqclean_crypto_sign_sphincs-shake256-128s-robust_clean_test.elf\n"
     ]
    },
    {
     "name": "stderr",
     "output_type": "stream",
     "text": [
      "common/hal-opencm3.c: In function 'clock_setup':\n",
      "common/hal-opencm3.c: In function 'clock_setup':\n",
      "common/hal-opencm3.c:104:41: warning: unused parameter 'clock' [-Wunused-parameter]\n",
      " static void clock_setup(enum clock_mode clock)\n",
      "                         ~~~~~~~~~~~~~~~~^~~~~\n",
      "common/hal-opencm3.c:104:41: warning: unused parameter 'clock' [-Wunused-parameter]\n",
      " static void clock_setup(enum clock_mode clock)\n",
      "                         ~~~~~~~~~~~~~~~~^~~~~\n",
      "common/randombytes.c:38:2: warning: #warning Using a non-random randombytes [-Wcpp]\n",
      " #warning Using a non-random randombytes\n",
      "  ^~~~~~~\n"
     ]
    },
    {
     "name": "stdout",
     "output_type": "stream",
     "text": [
      "  CC      elf/mupq_pqclean_crypto_sign_sphincs-shake256-128s-robust_clean_speed.elf\n"
     ]
    },
    {
     "name": "stderr",
     "output_type": "stream",
     "text": [
      "common/hal-opencm3.c: In function 'clock_setup':\n",
      "common/hal-opencm3.c:104:41: warning: unused parameter 'clock' [-Wunused-parameter]\n",
      " static void clock_setup(enum clock_mode clock)\n",
      "                         ~~~~~~~~~~~~~~~~^~~~~\n",
      "common/randombytes.c:38:2: warning: #warning Using a non-random randombytes [-Wcpp]\n",
      " #warning Using a non-random randombytes\n",
      "  ^~~~~~~\n"
     ]
    },
    {
     "name": "stdout",
     "output_type": "stream",
     "text": [
      "  CC      elf/mupq_pqclean_crypto_sign_sphincs-shake256-128s-robust_clean_hashing.elf\n"
     ]
    },
    {
     "name": "stderr",
     "output_type": "stream",
     "text": [
      "common/hal-opencm3.c: In function 'clock_setup':\n",
      "common/hal-opencm3.c:104:41: warning: unused parameter 'clock' [-Wunused-parameter]\n",
      " static void clock_setup(enum clock_mode clock)\n",
      "                         ~~~~~~~~~~~~~~~~^~~~~\n",
      "common/randombytes.c:38:2: warning: #warning Using a non-random randombytes [-Wcpp]\n",
      " #warning Using a non-random randombytes\n",
      "  ^~~~~~~\n"
     ]
    },
    {
     "name": "stdout",
     "output_type": "stream",
     "text": [
      "  CC      elf/mupq_pqclean_crypto_sign_sphincs-shake256-128s-robust_clean_stack.elf\n"
     ]
    },
    {
     "name": "stderr",
     "output_type": "stream",
     "text": [
      "common/hal-opencm3.c: In function 'clock_setup':\n",
      "common/hal-opencm3.c:104:41: warning: unused parameter 'clock' [-Wunused-parameter]\n",
      " static void clock_setup(enum clock_mode clock)\n",
      "                         ~~~~~~~~~~~~~~~~^~~~~\n"
     ]
    },
    {
     "name": "stdout",
     "output_type": "stream",
     "text": [
      "  CC      elf/mupq_pqclean_crypto_sign_sphincs-shake256-128s-robust_clean_testvectors.elf\n"
     ]
    },
    {
     "name": "stderr",
     "output_type": "stream",
     "text": [
      "common/randombytes.c:38:2: warning: #warning Using a non-random randombytes [-Wcpp]\n",
      " #warning Using a non-random randombytes\n",
      "  ^~~~~~~\n",
      "common/hal-opencm3.c: In function 'clock_setup':\n",
      "common/hal-opencm3.c:104:41: warning: unused parameter 'clock' [-Wunused-parameter]\n",
      " static void clock_setup(enum clock_mode clock)\n",
      "                         ~~~~~~~~~~~~~~~~^~~~~\n"
     ]
    },
    {
     "name": "stdout",
     "output_type": "stream",
     "text": [
      "  CC      elf/mupq_pqclean_crypto_sign_sphincs-shake256-128s-simple_clean_test.elf\n"
     ]
    },
    {
     "name": "stderr",
     "output_type": "stream",
     "text": [
      "common/hal-opencm3.c: In function 'clock_setup':\n",
      "common/hal-opencm3.c:104:41: warning: unused parameter 'clock' [-Wunused-parameter]\n",
      " static void clock_setup(enum clock_mode clock)\n",
      "                         ~~~~~~~~~~~~~~~~^~~~~\n",
      "common/randombytes.c:38:2: warning: #warning Using a non-random randombytes [-Wcpp]\n",
      " #warning Using a non-random randombytes\n",
      "  ^~~~~~~\n"
     ]
    },
    {
     "name": "stdout",
     "output_type": "stream",
     "text": [
      "  CC      elf/mupq_pqclean_crypto_sign_sphincs-shake256-128s-simple_clean_speed.elf\n",
      "  CC      elf/mupq_pqclean_crypto_sign_sphincs-shake256-128s-simple_clean_hashing.elf\n"
     ]
    },
    {
     "name": "stderr",
     "output_type": "stream",
     "text": [
      "common/hal-opencm3.c: In function 'clock_setup':\n",
      "common/hal-opencm3.c:104:41: warning: unused parameter 'clock' [-Wunused-parameter]\n",
      " static void clock_setup(enum clock_mode clock)\n",
      "                         ~~~~~~~~~~~~~~~~^~~~~\n",
      "common/hal-opencm3.c: In function 'clock_setup':\n",
      "common/hal-opencm3.c:104:41: warning: unused parameter 'clock' [-Wunused-parameter]\n",
      " static void clock_setup(enum clock_mode clock)\n",
      "                         ~~~~~~~~~~~~~~~~^~~~~\n",
      "common/randombytes.c:38:2: warning: #warning Using a non-random randombytes [-Wcpp]\n",
      " #warning Using a non-random randombytes\n",
      "  ^~~~~~~\n",
      "common/randombytes.c:38:2: warning: #warning Using a non-random randombytes [-Wcpp]\n",
      " #warning Using a non-random randombytes\n",
      "  ^~~~~~~\n"
     ]
    },
    {
     "name": "stdout",
     "output_type": "stream",
     "text": [
      "  CC      elf/mupq_pqclean_crypto_sign_sphincs-shake256-128s-simple_clean_stack.elf\n"
     ]
    },
    {
     "name": "stderr",
     "output_type": "stream",
     "text": [
      "common/hal-opencm3.c: In function 'clock_setup':\n",
      "common/hal-opencm3.c:104:41: warning: unused parameter 'clock' [-Wunused-parameter]\n",
      " static void clock_setup(enum clock_mode clock)\n",
      "                         ~~~~~~~~~~~~~~~~^~~~~\n",
      "common/randombytes.c:38:2: warning: #warning Using a non-random randombytes [-Wcpp]\n",
      " #warning Using a non-random randombytes\n",
      "  ^~~~~~~\n"
     ]
    },
    {
     "name": "stdout",
     "output_type": "stream",
     "text": [
      "  CC      elf/mupq_pqclean_crypto_sign_sphincs-shake256-128s-simple_clean_testvectors.elf\n"
     ]
    },
    {
     "name": "stderr",
     "output_type": "stream",
     "text": [
      "common/hal-opencm3.c: In function 'clock_setup':\n",
      "common/hal-opencm3.c:104:41: warning: unused parameter 'clock' [-Wunused-parameter]\n",
      " static void clock_setup(enum clock_mode clock)\n",
      "                         ~~~~~~~~~~~~~~~~^~~~~\n"
     ]
    },
    {
     "name": "stdout",
     "output_type": "stream",
     "text": [
      "  CC      elf/mupq_pqclean_crypto_sign_sphincs-haraka-192f-robust_clean_test.elf\n",
      "  CC      elf/mupq_pqclean_crypto_sign_sphincs-haraka-192f-robust_clean_speed.elf\n"
     ]
    },
    {
     "name": "stderr",
     "output_type": "stream",
     "text": [
      "common/hal-opencm3.c: In function 'clock_setup':\n",
      "common/hal-opencm3.c:104:41: warning: unused parameter 'clock' [-Wunused-parameter]\n",
      " static void clock_setup(enum clock_mode clock)\n",
      "                         ~~~~~~~~~~~~~~~~^~~~~\n",
      "common/randombytes.c:38:2: warning: #warning Using a non-random randombytes [-Wcpp]\n",
      " #warning Using a non-random randombytes\n",
      "  ^~~~~~~\n"
     ]
    },
    {
     "name": "stdout",
     "output_type": "stream",
     "text": [
      "  CC      elf/mupq_pqclean_crypto_sign_sphincs-haraka-192f-robust_clean_hashing.elf\n"
     ]
    },
    {
     "name": "stderr",
     "output_type": "stream",
     "text": [
      "common/hal-opencm3.c: In function 'clock_setup':\n",
      "common/hal-opencm3.c:104:41: warning: unused parameter 'clock' [-Wunused-parameter]\n",
      " static void clock_setup(enum clock_mode clock)\n",
      "                         ~~~~~~~~~~~~~~~~^~~~~\n",
      "common/hal-opencm3.c: In function 'clock_setup':\n",
      "common/hal-opencm3.c:104:41: warning: unused parameter 'clock' [-Wunused-parameter]\n",
      " static void clock_setup(enum clock_mode clock)\n",
      "                         ~~~~~~~~~~~~~~~~^~~~~\n",
      "common/randombytes.c:38:2: warning: #warning Using a non-random randombytes [-Wcpp]\n",
      " #warning Using a non-random randombytes\n",
      "  ^~~~~~~\n",
      "common/randombytes.c:38:2: warning: #warning Using a non-random randombytes [-Wcpp]\n",
      " #warning Using a non-random randombytes\n",
      "  ^~~~~~~\n"
     ]
    },
    {
     "name": "stdout",
     "output_type": "stream",
     "text": [
      "  CC      elf/mupq_pqclean_crypto_sign_sphincs-haraka-192f-robust_clean_stack.elf\n"
     ]
    },
    {
     "name": "stderr",
     "output_type": "stream",
     "text": [
      "common/hal-opencm3.c: In function 'clock_setup':\n",
      "common/hal-opencm3.c:104:41: warning: unused parameter 'clock' [-Wunused-parameter]\n",
      " static void clock_setup(enum clock_mode clock)\n",
      "                         ~~~~~~~~~~~~~~~~^~~~~\n",
      "common/randombytes.c:38:2: warning: #warning Using a non-random randombytes [-Wcpp]\n",
      " #warning Using a non-random randombytes\n",
      "  ^~~~~~~\n"
     ]
    },
    {
     "name": "stdout",
     "output_type": "stream",
     "text": [
      "  CC      elf/mupq_pqclean_crypto_sign_sphincs-haraka-192f-robust_clean_testvectors.elf\n",
      "  CC      elf/mupq_pqclean_crypto_sign_sphincs-sha256-256s-simple_clean_test.elf\n"
     ]
    },
    {
     "name": "stderr",
     "output_type": "stream",
     "text": [
      "common/hal-opencm3.c: In function 'clock_setup':\n",
      "common/hal-opencm3.c:104:41: warning: unused parameter 'clock' [-Wunused-parameter]\n",
      " static void clock_setup(enum clock_mode clock)\n",
      "                         ~~~~~~~~~~~~~~~~^~~~~\n",
      "common/hal-opencm3.c: In function 'clock_setup':\n",
      "common/hal-opencm3.c:104:41: warning: unused parameter 'clock' [-Wunused-parameter]\n",
      " static void clock_setup(enum clock_mode clock)\n",
      "                         ~~~~~~~~~~~~~~~~^~~~~\n",
      "common/randombytes.c:38:2: warning: #warning Using a non-random randombytes [-Wcpp]\n",
      " #warning Using a non-random randombytes\n",
      "  ^~~~~~~\n"
     ]
    },
    {
     "name": "stdout",
     "output_type": "stream",
     "text": [
      "  CC      elf/mupq_pqclean_crypto_sign_sphincs-sha256-256s-simple_clean_speed.elf\n"
     ]
    },
    {
     "name": "stderr",
     "output_type": "stream",
     "text": [
      "common/hal-opencm3.c: In function 'clock_setup':\n",
      "common/hal-opencm3.c:104:41: warning: unused parameter 'clock' [-Wunused-parameter]\n",
      " static void clock_setup(enum clock_mode clock)\n",
      "                         ~~~~~~~~~~~~~~~~^~~~~\n",
      "common/randombytes.c:38:2: warning: #warning Using a non-random randombytes [-Wcpp]\n",
      " #warning Using a non-random randombytes\n",
      "  ^~~~~~~\n"
     ]
    },
    {
     "name": "stdout",
     "output_type": "stream",
     "text": [
      "  CC      elf/mupq_pqclean_crypto_sign_sphincs-sha256-256s-simple_clean_hashing.elf\n",
      "  CC      elf/mupq_pqclean_crypto_sign_sphincs-sha256-256s-simple_clean_stack.elf\n"
     ]
    },
    {
     "name": "stderr",
     "output_type": "stream",
     "text": [
      "common/hal-opencm3.c: In function 'clock_setup':\n",
      "common/hal-opencm3.c: In function 'clock_setup':\n",
      "common/hal-opencm3.c:104:41: warning: unused parameter 'clock' [-Wunused-parameter]\n",
      " static void clock_setup(enum clock_mode clock)\n",
      "                         ~~~~~~~~~~~~~~~~^~~~~\n",
      "common/hal-opencm3.c:104:41: warning: unused parameter 'clock' [-Wunused-parameter]\n",
      " static void clock_setup(enum clock_mode clock)\n",
      "                         ~~~~~~~~~~~~~~~~^~~~~\n",
      "common/randombytes.c:38:2: warning: #warning Using a non-random randombytes [-Wcpp]\n",
      " #warning Using a non-random randombytes\n",
      "  ^~~~~~~\n",
      "common/randombytes.c:38:2: warning: #warning Using a non-random randombytes [-Wcpp]\n",
      " #warning Using a non-random randombytes\n",
      "  ^~~~~~~\n"
     ]
    },
    {
     "name": "stdout",
     "output_type": "stream",
     "text": [
      "  CC      elf/mupq_pqclean_crypto_sign_sphincs-sha256-256s-simple_clean_testvectors.elf\n"
     ]
    },
    {
     "name": "stderr",
     "output_type": "stream",
     "text": [
      "common/hal-opencm3.c: In function 'clock_setup':\n",
      "common/hal-opencm3.c:104:41: warning: unused parameter 'clock' [-Wunused-parameter]\n",
      " static void clock_setup(enum clock_mode clock)\n",
      "                         ~~~~~~~~~~~~~~~~^~~~~\n"
     ]
    },
    {
     "name": "stdout",
     "output_type": "stream",
     "text": [
      "  CC      elf/mupq_pqclean_crypto_sign_sphincs-sha256-256s-robust_clean_test.elf\n"
     ]
    },
    {
     "name": "stderr",
     "output_type": "stream",
     "text": [
      "common/hal-opencm3.c: In function 'clock_setup':\n",
      "common/hal-opencm3.c:104:41: warning: unused parameter 'clock' [-Wunused-parameter]\n",
      " static void clock_setup(enum clock_mode clock)\n",
      "                         ~~~~~~~~~~~~~~~~^~~~~\n",
      "common/randombytes.c:38:2: warning: #warning Using a non-random randombytes [-Wcpp]\n",
      " #warning Using a non-random randombytes\n",
      "  ^~~~~~~\n"
     ]
    },
    {
     "name": "stdout",
     "output_type": "stream",
     "text": [
      "  CC      elf/mupq_pqclean_crypto_sign_sphincs-sha256-256s-robust_clean_speed.elf\n"
     ]
    },
    {
     "name": "stderr",
     "output_type": "stream",
     "text": [
      "common/hal-opencm3.c: In function 'clock_setup':\n",
      "common/hal-opencm3.c:104:41: warning: unused parameter 'clock' [-Wunused-parameter]\n",
      " static void clock_setup(enum clock_mode clock)\n",
      "                         ~~~~~~~~~~~~~~~~^~~~~\n",
      "common/randombytes.c:38:2: warning: #warning Using a non-random randombytes [-Wcpp]\n",
      " #warning Using a non-random randombytes\n",
      "  ^~~~~~~\n"
     ]
    },
    {
     "name": "stdout",
     "output_type": "stream",
     "text": [
      "  CC      elf/mupq_pqclean_crypto_sign_sphincs-sha256-256s-robust_clean_hashing.elf\n",
      "  CC      elf/mupq_pqclean_crypto_sign_sphincs-sha256-256s-robust_clean_stack.elf\n"
     ]
    },
    {
     "name": "stderr",
     "output_type": "stream",
     "text": [
      "common/hal-opencm3.c: In function 'clock_setup':\n",
      "common/hal-opencm3.c:104:41: warning: unused parameter 'clock' [-Wunused-parameter]\n",
      " static void clock_setup(enum clock_mode clock)\n",
      "                         ~~~~~~~~~~~~~~~~^~~~~\n",
      "common/randombytes.c:38:2: warning: #warning Using a non-random randombytes [-Wcpp]\n",
      " #warning Using a non-random randombytes\n",
      "  ^~~~~~~\n",
      "common/hal-opencm3.c: In function 'clock_setup':\n",
      "common/hal-opencm3.c:104:41: warning: unused parameter 'clock' [-Wunused-parameter]\n",
      " static void clock_setup(enum clock_mode clock)\n",
      "                         ~~~~~~~~~~~~~~~~^~~~~\n",
      "common/randombytes.c:38:2: warning: #warning Using a non-random randombytes [-Wcpp]\n",
      " #warning Using a non-random randombytes\n",
      "  ^~~~~~~\n"
     ]
    },
    {
     "name": "stdout",
     "output_type": "stream",
     "text": [
      "  CC      elf/mupq_pqclean_crypto_sign_sphincs-sha256-256s-robust_clean_testvectors.elf\n"
     ]
    },
    {
     "name": "stderr",
     "output_type": "stream",
     "text": [
      "common/hal-opencm3.c: In function 'clock_setup':\n",
      "common/hal-opencm3.c:104:41: warning: unused parameter 'clock' [-Wunused-parameter]\n",
      " static void clock_setup(enum clock_mode clock)\n",
      "                         ~~~~~~~~~~~~~~~~^~~~~\n"
     ]
    },
    {
     "name": "stdout",
     "output_type": "stream",
     "text": [
      "  CC      elf/mupq_pqclean_crypto_sign_sphincs-sha256-192f-simple_clean_test.elf\n"
     ]
    },
    {
     "name": "stderr",
     "output_type": "stream",
     "text": [
      "common/hal-opencm3.c: In function 'clock_setup':\n",
      "common/hal-opencm3.c:104:41: warning: unused parameter 'clock' [-Wunused-parameter]\n",
      " static void clock_setup(enum clock_mode clock)\n",
      "                         ~~~~~~~~~~~~~~~~^~~~~\n",
      "common/randombytes.c:38:2: warning: #warning Using a non-random randombytes [-Wcpp]\n",
      " #warning Using a non-random randombytes\n",
      "  ^~~~~~~\n"
     ]
    },
    {
     "name": "stdout",
     "output_type": "stream",
     "text": [
      "  CC      elf/mupq_pqclean_crypto_sign_sphincs-sha256-192f-simple_clean_speed.elf\n"
     ]
    },
    {
     "name": "stderr",
     "output_type": "stream",
     "text": [
      "common/hal-opencm3.c: In function 'clock_setup':\n",
      "common/hal-opencm3.c:104:41: warning: unused parameter 'clock' [-Wunused-parameter]\n",
      " static void clock_setup(enum clock_mode clock)\n",
      "                         ~~~~~~~~~~~~~~~~^~~~~\n",
      "common/randombytes.c:38:2: warning: #warning Using a non-random randombytes [-Wcpp]\n",
      " #warning Using a non-random randombytes\n",
      "  ^~~~~~~\n"
     ]
    },
    {
     "name": "stdout",
     "output_type": "stream",
     "text": [
      "  CC      elf/mupq_pqclean_crypto_sign_sphincs-sha256-192f-simple_clean_hashing.elf\n",
      "  CC      elf/mupq_pqclean_crypto_sign_sphincs-sha256-192f-simple_clean_stack.elf\n"
     ]
    },
    {
     "name": "stderr",
     "output_type": "stream",
     "text": [
      "common/hal-opencm3.c: In function 'clock_setup':\n",
      "common/hal-opencm3.c:104:41: warning: unused parameter 'clock' [-Wunused-parameter]\n",
      " static void clock_setup(enum clock_mode clock)\n",
      "                         ~~~~~~~~~~~~~~~~^~~~~\n",
      "common/hal-opencm3.c: In function 'clock_setup':\n",
      "common/hal-opencm3.c:104:41: warning: unused parameter 'clock' [-Wunused-parameter]\n",
      " static void clock_setup(enum clock_mode clock)\n",
      "                         ~~~~~~~~~~~~~~~~^~~~~\n",
      "common/randombytes.c:38:2: warning: #warning Using a non-random randombytes [-Wcpp]\n",
      " #warning Using a non-random randombytes\n",
      "  ^~~~~~~\n",
      "common/randombytes.c:38:2: warning: #warning Using a non-random randombytes [-Wcpp]\n",
      " #warning Using a non-random randombytes\n",
      "  ^~~~~~~\n"
     ]
    },
    {
     "name": "stdout",
     "output_type": "stream",
     "text": [
      "  CC      elf/mupq_pqclean_crypto_sign_sphincs-sha256-192f-simple_clean_testvectors.elf\n"
     ]
    },
    {
     "name": "stderr",
     "output_type": "stream",
     "text": [
      "common/hal-opencm3.c: In function 'clock_setup':\n",
      "common/hal-opencm3.c:104:41: warning: unused parameter 'clock' [-Wunused-parameter]\n",
      " static void clock_setup(enum clock_mode clock)\n",
      "                         ~~~~~~~~~~~~~~~~^~~~~\n"
     ]
    },
    {
     "name": "stdout",
     "output_type": "stream",
     "text": [
      "  CC      elf/mupq_pqclean_crypto_sign_sphincs-shake256-192s-simple_clean_test.elf\n"
     ]
    },
    {
     "name": "stderr",
     "output_type": "stream",
     "text": [
      "common/hal-opencm3.c: In function 'clock_setup':\n",
      "common/hal-opencm3.c:104:41: warning: unused parameter 'clock' [-Wunused-parameter]\n",
      " static void clock_setup(enum clock_mode clock)\n",
      "                         ~~~~~~~~~~~~~~~~^~~~~\n",
      "common/randombytes.c:38:2: warning: #warning Using a non-random randombytes [-Wcpp]\n",
      " #warning Using a non-random randombytes\n",
      "  ^~~~~~~\n"
     ]
    },
    {
     "name": "stdout",
     "output_type": "stream",
     "text": [
      "  CC      elf/mupq_pqclean_crypto_sign_sphincs-shake256-192s-simple_clean_speed.elf\n"
     ]
    },
    {
     "name": "stderr",
     "output_type": "stream",
     "text": [
      "common/hal-opencm3.c: In function 'clock_setup':\n",
      "common/hal-opencm3.c:104:41: warning: unused parameter 'clock' [-Wunused-parameter]\n",
      " static void clock_setup(enum clock_mode clock)\n",
      "                         ~~~~~~~~~~~~~~~~^~~~~\n"
     ]
    },
    {
     "name": "stdout",
     "output_type": "stream",
     "text": [
      "  CC      elf/mupq_pqclean_crypto_sign_sphincs-shake256-192s-simple_clean_hashing.elf\n"
     ]
    },
    {
     "name": "stderr",
     "output_type": "stream",
     "text": [
      "common/randombytes.c:38:2: warning: #warning Using a non-random randombytes [-Wcpp]\n",
      " #warning Using a non-random randombytes\n",
      "  ^~~~~~~\n",
      "common/hal-opencm3.c: In function 'clock_setup':\n",
      "common/hal-opencm3.c:104:41: warning: unused parameter 'clock' [-Wunused-parameter]\n",
      " static void clock_setup(enum clock_mode clock)\n",
      "                         ~~~~~~~~~~~~~~~~^~~~~\n",
      "common/randombytes.c:38:2: warning: #warning Using a non-random randombytes [-Wcpp]\n",
      " #warning Using a non-random randombytes\n",
      "  ^~~~~~~\n"
     ]
    },
    {
     "name": "stdout",
     "output_type": "stream",
     "text": [
      "  CC      elf/mupq_pqclean_crypto_sign_sphincs-shake256-192s-simple_clean_stack.elf\n"
     ]
    },
    {
     "name": "stderr",
     "output_type": "stream",
     "text": [
      "common/hal-opencm3.c: In function 'clock_setup':\n",
      "common/hal-opencm3.c:104:41: warning: unused parameter 'clock' [-Wunused-parameter]\n",
      " static void clock_setup(enum clock_mode clock)\n",
      "                         ~~~~~~~~~~~~~~~~^~~~~\n",
      "common/randombytes.c:38:2: warning: #warning Using a non-random randombytes [-Wcpp]\n",
      " #warning Using a non-random randombytes\n",
      "  ^~~~~~~\n"
     ]
    },
    {
     "name": "stdout",
     "output_type": "stream",
     "text": [
      "  CC      elf/mupq_pqclean_crypto_sign_sphincs-shake256-192s-simple_clean_testvectors.elf\n"
     ]
    },
    {
     "name": "stderr",
     "output_type": "stream",
     "text": [
      "common/hal-opencm3.c: In function 'clock_setup':\n",
      "common/hal-opencm3.c:104:41: warning: unused parameter 'clock' [-Wunused-parameter]\n",
      " static void clock_setup(enum clock_mode clock)\n",
      "                         ~~~~~~~~~~~~~~~~^~~~~\n"
     ]
    },
    {
     "name": "stdout",
     "output_type": "stream",
     "text": [
      "  CC      elf/mupq_pqclean_crypto_sign_dilithium5aes_clean_test.elf\n"
     ]
    },
    {
     "name": "stderr",
     "output_type": "stream",
     "text": [
      "common/hal-opencm3.c: In function 'clock_setup':\n",
      "common/hal-opencm3.c:104:41: warning: unused parameter 'clock' [-Wunused-parameter]\n",
      " static void clock_setup(enum clock_mode clock)\n",
      "                         ~~~~~~~~~~~~~~~~^~~~~\n"
     ]
    },
    {
     "name": "stdout",
     "output_type": "stream",
     "text": [
      "  CC      elf/mupq_pqclean_crypto_sign_dilithium5aes_clean_speed.elf\n"
     ]
    },
    {
     "name": "stderr",
     "output_type": "stream",
     "text": [
      "common/randombytes.c:38:2: warning: #warning Using a non-random randombytes [-Wcpp]\n",
      " #warning Using a non-random randombytes\n",
      "  ^~~~~~~\n",
      "common/hal-opencm3.c: In function 'clock_setup':\n",
      "common/hal-opencm3.c:104:41: warning: unused parameter 'clock' [-Wunused-parameter]\n",
      " static void clock_setup(enum clock_mode clock)\n",
      "                         ~~~~~~~~~~~~~~~~^~~~~\n",
      "common/randombytes.c:38:2: warning: #warning Using a non-random randombytes [-Wcpp]\n",
      " #warning Using a non-random randombytes\n",
      "  ^~~~~~~\n"
     ]
    },
    {
     "name": "stdout",
     "output_type": "stream",
     "text": [
      "  CC      elf/mupq_pqclean_crypto_sign_dilithium5aes_clean_hashing.elf\n"
     ]
    },
    {
     "name": "stderr",
     "output_type": "stream",
     "text": [
      "common/hal-opencm3.c: In function 'clock_setup':\n",
      "common/hal-opencm3.c:104:41: warning: unused parameter 'clock' [-Wunused-parameter]\n",
      " static void clock_setup(enum clock_mode clock)\n",
      "                         ~~~~~~~~~~~~~~~~^~~~~\n",
      "common/randombytes.c:38:2: warning: #warning Using a non-random randombytes [-Wcpp]\n",
      " #warning Using a non-random randombytes\n",
      "  ^~~~~~~\n"
     ]
    },
    {
     "name": "stdout",
     "output_type": "stream",
     "text": [
      "  CC      elf/mupq_pqclean_crypto_sign_dilithium5aes_clean_stack.elf\n"
     ]
    },
    {
     "name": "stderr",
     "output_type": "stream",
     "text": [
      "common/hal-opencm3.c: In function 'clock_setup':\n",
      "common/hal-opencm3.c:104:41: warning: unused parameter 'clock' [-Wunused-parameter]\n",
      " static void clock_setup(enum clock_mode clock)\n",
      "                         ~~~~~~~~~~~~~~~~^~~~~\n",
      "common/randombytes.c:38:2: warning: #warning Using a non-random randombytes [-Wcpp]\n",
      " #warning Using a non-random randombytes\n",
      "  ^~~~~~~\n"
     ]
    },
    {
     "name": "stdout",
     "output_type": "stream",
     "text": [
      "  CC      elf/mupq_pqclean_crypto_sign_dilithium5aes_clean_testvectors.elf\n",
      "  CC      elf/mupq_pqclean_crypto_sign_dilithium3_clean_test.elf\n"
     ]
    },
    {
     "name": "stderr",
     "output_type": "stream",
     "text": [
      "common/hal-opencm3.c: In function 'clock_setup':\n",
      "common/hal-opencm3.c:104:41: warning: unused parameter 'clock' [-Wunused-parameter]\n",
      " static void clock_setup(enum clock_mode clock)\n",
      "                         ~~~~~~~~~~~~~~~~^~~~~\n",
      "common/hal-opencm3.c: In function 'clock_setup':\n",
      "common/hal-opencm3.c:104:41: warning: unused parameter 'clock' [-Wunused-parameter]\n",
      " static void clock_setup(enum clock_mode clock)\n",
      "                         ~~~~~~~~~~~~~~~~^~~~~\n",
      "common/randombytes.c:38:2: warning: #warning Using a non-random randombytes [-Wcpp]\n",
      " #warning Using a non-random randombytes\n",
      "  ^~~~~~~\n"
     ]
    },
    {
     "name": "stdout",
     "output_type": "stream",
     "text": [
      "  CC      elf/mupq_pqclean_crypto_sign_dilithium3_clean_speed.elf\n"
     ]
    },
    {
     "name": "stderr",
     "output_type": "stream",
     "text": [
      "common/hal-opencm3.c: In function 'clock_setup':\n",
      "common/hal-opencm3.c:104:41: warning: unused parameter 'clock' [-Wunused-parameter]\n",
      " static void clock_setup(enum clock_mode clock)\n",
      "                         ~~~~~~~~~~~~~~~~^~~~~\n",
      "common/randombytes.c:38:2: warning: #warning Using a non-random randombytes [-Wcpp]\n",
      " #warning Using a non-random randombytes\n",
      "  ^~~~~~~\n"
     ]
    },
    {
     "name": "stdout",
     "output_type": "stream",
     "text": [
      "  CC      elf/mupq_pqclean_crypto_sign_dilithium3_clean_hashing.elf\n"
     ]
    },
    {
     "name": "stderr",
     "output_type": "stream",
     "text": [
      "common/hal-opencm3.c: In function 'clock_setup':\n",
      "common/hal-opencm3.c:104:41: warning: unused parameter 'clock' [-Wunused-parameter]\n",
      " static void clock_setup(enum clock_mode clock)\n",
      "                         ~~~~~~~~~~~~~~~~^~~~~\n",
      "common/randombytes.c:38:2: warning: #warning Using a non-random randombytes [-Wcpp]\n",
      " #warning Using a non-random randombytes\n",
      "  ^~~~~~~\n"
     ]
    },
    {
     "name": "stdout",
     "output_type": "stream",
     "text": [
      "  CC      elf/mupq_pqclean_crypto_sign_dilithium3_clean_stack.elf\n"
     ]
    },
    {
     "name": "stderr",
     "output_type": "stream",
     "text": [
      "common/hal-opencm3.c: In function 'clock_setup':\n",
      "common/hal-opencm3.c:104:41: warning: unused parameter 'clock' [-Wunused-parameter]\n",
      " static void clock_setup(enum clock_mode clock)\n",
      "                         ~~~~~~~~~~~~~~~~^~~~~\n",
      "common/randombytes.c:38:2: warning: #warning Using a non-random randombytes [-Wcpp]\n",
      " #warning Using a non-random randombytes\n",
      "  ^~~~~~~\n"
     ]
    },
    {
     "name": "stdout",
     "output_type": "stream",
     "text": [
      "  CC      elf/mupq_pqclean_crypto_sign_dilithium3_clean_testvectors.elf\n"
     ]
    },
    {
     "name": "stderr",
     "output_type": "stream",
     "text": [
      "common/hal-opencm3.c: In function 'clock_setup':\n",
      "common/hal-opencm3.c:104:41: warning: unused parameter 'clock' [-Wunused-parameter]\n",
      " static void clock_setup(enum clock_mode clock)\n",
      "                         ~~~~~~~~~~~~~~~~^~~~~\n"
     ]
    },
    {
     "name": "stdout",
     "output_type": "stream",
     "text": [
      "  CC      elf/mupq_pqclean_crypto_sign_sphincs-sha256-128f-simple_clean_test.elf\n"
     ]
    },
    {
     "name": "stderr",
     "output_type": "stream",
     "text": [
      "common/hal-opencm3.c: In function 'clock_setup':\n",
      "common/hal-opencm3.c:104:41: warning: unused parameter 'clock' [-Wunused-parameter]\n",
      " static void clock_setup(enum clock_mode clock)\n",
      "                         ~~~~~~~~~~~~~~~~^~~~~\n",
      "common/randombytes.c:38:2: warning: #warning Using a non-random randombytes [-Wcpp]\n",
      " #warning Using a non-random randombytes\n",
      "  ^~~~~~~\n"
     ]
    },
    {
     "name": "stdout",
     "output_type": "stream",
     "text": [
      "  CC      elf/mupq_pqclean_crypto_sign_sphincs-sha256-128f-simple_clean_speed.elf\n"
     ]
    },
    {
     "name": "stderr",
     "output_type": "stream",
     "text": [
      "common/hal-opencm3.c: In function 'clock_setup':\n",
      "common/hal-opencm3.c:104:41: warning: unused parameter 'clock' [-Wunused-parameter]\n",
      " static void clock_setup(enum clock_mode clock)\n",
      "                         ~~~~~~~~~~~~~~~~^~~~~\n"
     ]
    },
    {
     "name": "stdout",
     "output_type": "stream",
     "text": [
      "  CC      elf/mupq_pqclean_crypto_sign_sphincs-sha256-128f-simple_clean_hashing.elf\n"
     ]
    },
    {
     "name": "stderr",
     "output_type": "stream",
     "text": [
      "common/randombytes.c:38:2: warning: #warning Using a non-random randombytes [-Wcpp]\n",
      " #warning Using a non-random randombytes\n",
      "  ^~~~~~~\n",
      "common/hal-opencm3.c: In function 'clock_setup':\n",
      "common/hal-opencm3.c:104:41: warning: unused parameter 'clock' [-Wunused-parameter]\n",
      " static void clock_setup(enum clock_mode clock)\n",
      "                         ~~~~~~~~~~~~~~~~^~~~~\n",
      "common/randombytes.c:38:2: warning: #warning Using a non-random randombytes [-Wcpp]\n",
      " #warning Using a non-random randombytes\n",
      "  ^~~~~~~\n"
     ]
    },
    {
     "name": "stdout",
     "output_type": "stream",
     "text": [
      "  CC      elf/mupq_pqclean_crypto_sign_sphincs-sha256-128f-simple_clean_stack.elf\n",
      "  CC      elf/mupq_pqclean_crypto_sign_sphincs-sha256-128f-simple_clean_testvectors.elf\n"
     ]
    },
    {
     "name": "stderr",
     "output_type": "stream",
     "text": [
      "common/hal-opencm3.c: In function 'clock_setup':\n",
      "common/hal-opencm3.c:104:41: warning: unused parameter 'clock' [-Wunused-parameter]\n",
      " static void clock_setup(enum clock_mode clock)\n",
      "                         ~~~~~~~~~~~~~~~~^~~~~\n",
      "common/hal-opencm3.c: In function 'clock_setup':\n",
      "common/hal-opencm3.c:104:41: warning: unused parameter 'clock' [-Wunused-parameter]\n",
      " static void clock_setup(enum clock_mode clock)\n",
      "                         ~~~~~~~~~~~~~~~~^~~~~\n",
      "common/randombytes.c:38:2: warning: #warning Using a non-random randombytes [-Wcpp]\n",
      " #warning Using a non-random randombytes\n",
      "  ^~~~~~~\n"
     ]
    },
    {
     "name": "stdout",
     "output_type": "stream",
     "text": [
      "  CC      elf/mupq_pqclean_crypto_sign_sphincs-shake256-256s-robust_clean_test.elf\n"
     ]
    },
    {
     "name": "stderr",
     "output_type": "stream",
     "text": [
      "common/hal-opencm3.c: In function 'clock_setup':\n",
      "common/hal-opencm3.c:104:41: warning: unused parameter 'clock' [-Wunused-parameter]\n",
      " static void clock_setup(enum clock_mode clock)\n",
      "                         ~~~~~~~~~~~~~~~~^~~~~\n",
      "common/randombytes.c:38:2: warning: #warning Using a non-random randombytes [-Wcpp]\n",
      " #warning Using a non-random randombytes\n",
      "  ^~~~~~~\n"
     ]
    },
    {
     "name": "stdout",
     "output_type": "stream",
     "text": [
      "  CC      elf/mupq_pqclean_crypto_sign_sphincs-shake256-256s-robust_clean_speed.elf\n"
     ]
    },
    {
     "name": "stderr",
     "output_type": "stream",
     "text": [
      "common/hal-opencm3.c: In function 'clock_setup':\n",
      "common/hal-opencm3.c:104:41: warning: unused parameter 'clock' [-Wunused-parameter]\n",
      " static void clock_setup(enum clock_mode clock)\n",
      "                         ~~~~~~~~~~~~~~~~^~~~~\n",
      "common/randombytes.c:38:2: warning: #warning Using a non-random randombytes [-Wcpp]\n",
      " #warning Using a non-random randombytes\n",
      "  ^~~~~~~\n"
     ]
    },
    {
     "name": "stdout",
     "output_type": "stream",
     "text": [
      "  CC      elf/mupq_pqclean_crypto_sign_sphincs-shake256-256s-robust_clean_hashing.elf\n"
     ]
    },
    {
     "name": "stderr",
     "output_type": "stream",
     "text": [
      "common/hal-opencm3.c: In function 'clock_setup':\n",
      "common/hal-opencm3.c:104:41: warning: unused parameter 'clock' [-Wunused-parameter]\n",
      " static void clock_setup(enum clock_mode clock)\n",
      "                         ~~~~~~~~~~~~~~~~^~~~~\n",
      "common/randombytes.c:38:2: warning: #warning Using a non-random randombytes [-Wcpp]\n",
      " #warning Using a non-random randombytes\n",
      "  ^~~~~~~\n"
     ]
    },
    {
     "name": "stdout",
     "output_type": "stream",
     "text": [
      "  CC      elf/mupq_pqclean_crypto_sign_sphincs-shake256-256s-robust_clean_stack.elf\n"
     ]
    },
    {
     "name": "stderr",
     "output_type": "stream",
     "text": [
      "common/hal-opencm3.c: In function 'clock_setup':\n",
      "common/hal-opencm3.c:104:41: warning: unused parameter 'clock' [-Wunused-parameter]\n",
      " static void clock_setup(enum clock_mode clock)\n",
      "                         ~~~~~~~~~~~~~~~~^~~~~\n",
      "common/randombytes.c:38:2: warning: #warning Using a non-random randombytes [-Wcpp]\n",
      " #warning Using a non-random randombytes\n",
      "  ^~~~~~~\n"
     ]
    },
    {
     "name": "stdout",
     "output_type": "stream",
     "text": [
      "  CC      elf/mupq_pqclean_crypto_sign_sphincs-shake256-256s-robust_clean_testvectors.elf\n"
     ]
    },
    {
     "name": "stderr",
     "output_type": "stream",
     "text": [
      "common/hal-opencm3.c: In function 'clock_setup':\n",
      "common/hal-opencm3.c:104:41: warning: unused parameter 'clock' [-Wunused-parameter]\n",
      " static void clock_setup(enum clock_mode clock)\n",
      "                         ~~~~~~~~~~~~~~~~^~~~~\n"
     ]
    },
    {
     "name": "stdout",
     "output_type": "stream",
     "text": [
      "  CC      elf/mupq_pqclean_crypto_sign_sphincs-haraka-192f-simple_clean_test.elf\n"
     ]
    },
    {
     "name": "stderr",
     "output_type": "stream",
     "text": [
      "common/hal-opencm3.c: In function 'clock_setup':\n",
      "common/hal-opencm3.c:104:41: warning: unused parameter 'clock' [-Wunused-parameter]\n",
      " static void clock_setup(enum clock_mode clock)\n",
      "                         ~~~~~~~~~~~~~~~~^~~~~\n",
      "common/randombytes.c:38:2: warning: #warning Using a non-random randombytes [-Wcpp]\n",
      " #warning Using a non-random randombytes\n",
      "  ^~~~~~~\n"
     ]
    },
    {
     "name": "stdout",
     "output_type": "stream",
     "text": [
      "  CC      elf/mupq_pqclean_crypto_sign_sphincs-haraka-192f-simple_clean_speed.elf\n",
      "  CC      elf/mupq_pqclean_crypto_sign_sphincs-haraka-192f-simple_clean_hashing.elf\n"
     ]
    },
    {
     "name": "stderr",
     "output_type": "stream",
     "text": [
      "common/hal-opencm3.c: In function 'clock_setup':\n",
      "common/hal-opencm3.c:104:41: warning: unused parameter 'clock' [-Wunused-parameter]\n",
      " static void clock_setup(enum clock_mode clock)\n",
      "                         ~~~~~~~~~~~~~~~~^~~~~\n",
      "common/hal-opencm3.c: In function 'clock_setup':\n",
      "common/hal-opencm3.c:104:41: warning: unused parameter 'clock' [-Wunused-parameter]\n",
      " static void clock_setup(enum clock_mode clock)\n",
      "                         ~~~~~~~~~~~~~~~~^~~~~\n",
      "common/randombytes.c:38:2: warning: #warning Using a non-random randombytes [-Wcpp]\n",
      " #warning Using a non-random randombytes\n",
      "  ^~~~~~~\n"
     ]
    },
    {
     "name": "stdout",
     "output_type": "stream",
     "text": [
      "  CC      elf/mupq_pqclean_crypto_sign_sphincs-haraka-192f-simple_clean_stack.elf\n"
     ]
    },
    {
     "name": "stderr",
     "output_type": "stream",
     "text": [
      "common/randombytes.c:38:2: warning: #warning Using a non-random randombytes [-Wcpp]\n",
      " #warning Using a non-random randombytes\n",
      "  ^~~~~~~\n",
      "common/hal-opencm3.c: In function 'clock_setup':\n",
      "common/hal-opencm3.c:104:41: warning: unused parameter 'clock' [-Wunused-parameter]\n",
      " static void clock_setup(enum clock_mode clock)\n",
      "                         ~~~~~~~~~~~~~~~~^~~~~\n",
      "common/randombytes.c:38:2: warning: #warning Using a non-random randombytes [-Wcpp]\n",
      " #warning Using a non-random randombytes\n",
      "  ^~~~~~~\n"
     ]
    },
    {
     "name": "stdout",
     "output_type": "stream",
     "text": [
      "  CC      elf/mupq_pqclean_crypto_sign_sphincs-haraka-192f-simple_clean_testvectors.elf\n"
     ]
    },
    {
     "name": "stderr",
     "output_type": "stream",
     "text": [
      "common/hal-opencm3.c: In function 'clock_setup':\n",
      "common/hal-opencm3.c:104:41: warning: unused parameter 'clock' [-Wunused-parameter]\n",
      " static void clock_setup(enum clock_mode clock)\n",
      "                         ~~~~~~~~~~~~~~~~^~~~~\n"
     ]
    },
    {
     "name": "stdout",
     "output_type": "stream",
     "text": [
      "  CC      elf/mupq_pqclean_crypto_sign_dilithium2aes_clean_test.elf\n",
      "  CC      elf/mupq_pqclean_crypto_sign_dilithium2aes_clean_speed.elf\n",
      "  CC      elf/mupq_pqclean_crypto_sign_dilithium2aes_clean_hashing.elf\n"
     ]
    },
    {
     "name": "stderr",
     "output_type": "stream",
     "text": [
      "common/hal-opencm3.c: In function 'clock_setup':\n",
      "common/hal-opencm3.c: In function 'clock_setup':\n",
      "common/hal-opencm3.c:104:41: warning: unused parameter 'clock' [-Wunused-parameter]\n",
      " static void clock_setup(enum clock_mode clock)\n",
      "                         ~~~~~~~~~~~~~~~~^~~~~\n",
      "common/hal-opencm3.c:104:41: warning: unused parameter 'clock' [-Wunused-parameter]\n",
      " static void clock_setup(enum clock_mode clock)\n",
      "                         ~~~~~~~~~~~~~~~~^~~~~\n",
      "common/randombytes.c:38:2: warning: #warning Using a non-random randombytes [-Wcpp]\n",
      " #warning Using a non-random randombytes\n",
      "  ^~~~~~~\n",
      "common/hal-opencm3.c: In function 'clock_setup':\n",
      "common/hal-opencm3.c:104:41: warning: unused parameter 'clock' [-Wunused-parameter]\n",
      " static void clock_setup(enum clock_mode clock)\n",
      "                         ~~~~~~~~~~~~~~~~^~~~~\n",
      "common/randombytes.c:38:2: warning: #warning Using a non-random randombytes [-Wcpp]\n",
      " #warning Using a non-random randombytes\n",
      "  ^~~~~~~\n",
      "common/randombytes.c:38:2: warning: #warning Using a non-random randombytes [-Wcpp]\n",
      " #warning Using a non-random randombytes\n",
      "  ^~~~~~~\n"
     ]
    },
    {
     "name": "stdout",
     "output_type": "stream",
     "text": [
      "  CC      elf/mupq_pqclean_crypto_sign_dilithium2aes_clean_stack.elf\n"
     ]
    },
    {
     "name": "stderr",
     "output_type": "stream",
     "text": [
      "common/hal-opencm3.c: In function 'clock_setup':\n",
      "common/hal-opencm3.c:104:41: warning: unused parameter 'clock' [-Wunused-parameter]\n",
      " static void clock_setup(enum clock_mode clock)\n",
      "                         ~~~~~~~~~~~~~~~~^~~~~\n",
      "common/randombytes.c:38:2: warning: #warning Using a non-random randombytes [-Wcpp]\n",
      " #warning Using a non-random randombytes\n",
      "  ^~~~~~~\n"
     ]
    },
    {
     "name": "stdout",
     "output_type": "stream",
     "text": [
      "  CC      elf/mupq_pqclean_crypto_sign_dilithium2aes_clean_testvectors.elf\n"
     ]
    },
    {
     "name": "stderr",
     "output_type": "stream",
     "text": [
      "common/hal-opencm3.c: In function 'clock_setup':\n",
      "common/hal-opencm3.c:104:41: warning: unused parameter 'clock' [-Wunused-parameter]\n",
      " static void clock_setup(enum clock_mode clock)\n",
      "                         ~~~~~~~~~~~~~~~~^~~~~\n"
     ]
    },
    {
     "name": "stdout",
     "output_type": "stream",
     "text": [
      "  CC      elf/mupq_pqclean_crypto_sign_sphincs-shake256-192f-simple_clean_test.elf\n"
     ]
    },
    {
     "name": "stderr",
     "output_type": "stream",
     "text": [
      "common/hal-opencm3.c: In function 'clock_setup':\n",
      "common/hal-opencm3.c:104:41: warning: unused parameter 'clock' [-Wunused-parameter]\n",
      " static void clock_setup(enum clock_mode clock)\n",
      "                         ~~~~~~~~~~~~~~~~^~~~~\n",
      "common/randombytes.c:38:2: warning: #warning Using a non-random randombytes [-Wcpp]\n",
      " #warning Using a non-random randombytes\n",
      "  ^~~~~~~\n"
     ]
    },
    {
     "name": "stdout",
     "output_type": "stream",
     "text": [
      "  CC      elf/mupq_pqclean_crypto_sign_sphincs-shake256-192f-simple_clean_speed.elf\n"
     ]
    },
    {
     "name": "stderr",
     "output_type": "stream",
     "text": [
      "common/hal-opencm3.c: In function 'clock_setup':\n",
      "common/hal-opencm3.c:104:41: warning: unused parameter 'clock' [-Wunused-parameter]\n",
      " static void clock_setup(enum clock_mode clock)\n",
      "                         ~~~~~~~~~~~~~~~~^~~~~\n",
      "common/randombytes.c:38:2: warning: #warning Using a non-random randombytes [-Wcpp]\n",
      " #warning Using a non-random randombytes\n",
      "  ^~~~~~~\n"
     ]
    },
    {
     "name": "stdout",
     "output_type": "stream",
     "text": [
      "  CC      elf/mupq_pqclean_crypto_sign_sphincs-shake256-192f-simple_clean_hashing.elf\n"
     ]
    },
    {
     "name": "stderr",
     "output_type": "stream",
     "text": [
      "common/hal-opencm3.c: In function 'clock_setup':\n",
      "common/hal-opencm3.c:104:41: warning: unused parameter 'clock' [-Wunused-parameter]\n",
      " static void clock_setup(enum clock_mode clock)\n",
      "                         ~~~~~~~~~~~~~~~~^~~~~\n",
      "common/randombytes.c:38:2: warning: #warning Using a non-random randombytes [-Wcpp]\n",
      " #warning Using a non-random randombytes\n",
      "  ^~~~~~~\n"
     ]
    },
    {
     "name": "stdout",
     "output_type": "stream",
     "text": [
      "  CC      elf/mupq_pqclean_crypto_sign_sphincs-shake256-192f-simple_clean_stack.elf\n"
     ]
    },
    {
     "name": "stderr",
     "output_type": "stream",
     "text": [
      "common/hal-opencm3.c: In function 'clock_setup':\n",
      "common/hal-opencm3.c:104:41: warning: unused parameter 'clock' [-Wunused-parameter]\n",
      " static void clock_setup(enum clock_mode clock)\n",
      "                         ~~~~~~~~~~~~~~~~^~~~~\n",
      "common/randombytes.c:38:2: warning: #warning Using a non-random randombytes [-Wcpp]\n",
      " #warning Using a non-random randombytes\n",
      "  ^~~~~~~\n"
     ]
    },
    {
     "name": "stdout",
     "output_type": "stream",
     "text": [
      "  CC      elf/mupq_pqclean_crypto_sign_sphincs-shake256-192f-simple_clean_testvectors.elf\n",
      "  CC      elf/mupq_pqclean_crypto_sign_sphincs-shake256-192s-robust_clean_test.elf\n"
     ]
    },
    {
     "name": "stderr",
     "output_type": "stream",
     "text": [
      "common/hal-opencm3.c: In function 'clock_setup':\n",
      "common/hal-opencm3.c:104:41: warning: unused parameter 'clock' [-Wunused-parameter]\n",
      " static void clock_setup(enum clock_mode clock)\n",
      "                         ~~~~~~~~~~~~~~~~^~~~~\n",
      "common/hal-opencm3.c: In function 'clock_setup':\n",
      "common/hal-opencm3.c:104:41: warning: unused parameter 'clock' [-Wunused-parameter]\n",
      " static void clock_setup(enum clock_mode clock)\n",
      "                         ~~~~~~~~~~~~~~~~^~~~~\n",
      "common/randombytes.c:38:2: warning: #warning Using a non-random randombytes [-Wcpp]\n",
      " #warning Using a non-random randombytes\n",
      "  ^~~~~~~\n"
     ]
    },
    {
     "name": "stdout",
     "output_type": "stream",
     "text": [
      "  CC      elf/mupq_pqclean_crypto_sign_sphincs-shake256-192s-robust_clean_speed.elf\n"
     ]
    },
    {
     "name": "stderr",
     "output_type": "stream",
     "text": [
      "common/hal-opencm3.c: In function 'clock_setup':\n",
      "common/hal-opencm3.c:104:41: warning: unused parameter 'clock' [-Wunused-parameter]\n",
      " static void clock_setup(enum clock_mode clock)\n",
      "                         ~~~~~~~~~~~~~~~~^~~~~\n",
      "common/randombytes.c:38:2: warning: #warning Using a non-random randombytes [-Wcpp]\n",
      " #warning Using a non-random randombytes\n",
      "  ^~~~~~~\n"
     ]
    },
    {
     "name": "stdout",
     "output_type": "stream",
     "text": [
      "  CC      elf/mupq_pqclean_crypto_sign_sphincs-shake256-192s-robust_clean_hashing.elf\n"
     ]
    },
    {
     "name": "stderr",
     "output_type": "stream",
     "text": [
      "common/hal-opencm3.c: In function 'clock_setup':\n",
      "common/hal-opencm3.c:104:41: warning: unused parameter 'clock' [-Wunused-parameter]\n",
      " static void clock_setup(enum clock_mode clock)\n",
      "                         ~~~~~~~~~~~~~~~~^~~~~\n",
      "common/randombytes.c:38:2: warning: #warning Using a non-random randombytes [-Wcpp]\n",
      " #warning Using a non-random randombytes\n",
      "  ^~~~~~~\n"
     ]
    },
    {
     "name": "stdout",
     "output_type": "stream",
     "text": [
      "  CC      elf/mupq_pqclean_crypto_sign_sphincs-shake256-192s-robust_clean_stack.elf\n",
      "  CC      elf/mupq_pqclean_crypto_sign_sphincs-shake256-192s-robust_clean_testvectors.elf\n"
     ]
    },
    {
     "name": "stderr",
     "output_type": "stream",
     "text": [
      "common/hal-opencm3.c: In function 'clock_setup':\n",
      "common/hal-opencm3.c:104:41: warning: unused parameter 'clock' [-Wunused-parameter]\n",
      " static void clock_setup(enum clock_mode clock)\n",
      "                         ~~~~~~~~~~~~~~~~^~~~~\n",
      "common/hal-opencm3.c: In function 'clock_setup':\n",
      "common/hal-opencm3.c:104:41: warning: unused parameter 'clock' [-Wunused-parameter]\n",
      " static void clock_setup(enum clock_mode clock)\n",
      "                         ~~~~~~~~~~~~~~~~^~~~~\n",
      "common/randombytes.c:38:2: warning: #warning Using a non-random randombytes [-Wcpp]\n",
      " #warning Using a non-random randombytes\n",
      "  ^~~~~~~\n"
     ]
    },
    {
     "name": "stdout",
     "output_type": "stream",
     "text": [
      "  CC      elf/mupq_pqclean_crypto_sign_dilithium2_clean_test.elf\n"
     ]
    },
    {
     "name": "stderr",
     "output_type": "stream",
     "text": [
      "common/hal-opencm3.c: In function 'clock_setup':\n",
      "common/hal-opencm3.c:104:41: warning: unused parameter 'clock' [-Wunused-parameter]\n",
      " static void clock_setup(enum clock_mode clock)\n",
      "                         ~~~~~~~~~~~~~~~~^~~~~\n",
      "common/randombytes.c:38:2: warning: #warning Using a non-random randombytes [-Wcpp]\n",
      " #warning Using a non-random randombytes\n",
      "  ^~~~~~~\n"
     ]
    },
    {
     "name": "stdout",
     "output_type": "stream",
     "text": [
      "  CC      elf/mupq_pqclean_crypto_sign_dilithium2_clean_speed.elf\n",
      "  CC      elf/mupq_pqclean_crypto_sign_dilithium2_clean_hashing.elf\n",
      "  CC      elf/mupq_pqclean_crypto_sign_dilithium2_clean_stack.elf\n"
     ]
    },
    {
     "name": "stderr",
     "output_type": "stream",
     "text": [
      "common/hal-opencm3.c: In function 'clock_setup':\n",
      "common/hal-opencm3.c:104:41: warning: unused parameter 'clock' [-Wunused-parameter]\n",
      " static void clock_setup(enum clock_mode clock)\n",
      "                         ~~~~~~~~~~~~~~~~^~~~~\n",
      "common/hal-opencm3.c: In function 'clock_setup':\n",
      "common/hal-opencm3.c:104:41: warning: unused parameter 'clock' [-Wunused-parameter]\n",
      " static void clock_setup(enum clock_mode clock)\n",
      "                         ~~~~~~~~~~~~~~~~^~~~~\n",
      "common/randombytes.c:38:2: warning: #warning Using a non-random randombytes [-Wcpp]\n",
      " #warning Using a non-random randombytes\n",
      "  ^~~~~~~\n",
      "common/randombytes.c:38:2: warning: #warning Using a non-random randombytes [-Wcpp]\n",
      " #warning Using a non-random randombytes\n",
      "  ^~~~~~~\n",
      "common/hal-opencm3.c: In function 'clock_setup':\n",
      "common/hal-opencm3.c:104:41: warning: unused parameter 'clock' [-Wunused-parameter]\n",
      " static void clock_setup(enum clock_mode clock)\n",
      "                         ~~~~~~~~~~~~~~~~^~~~~\n",
      "common/randombytes.c:38:2: warning: #warning Using a non-random randombytes [-Wcpp]\n",
      " #warning Using a non-random randombytes\n",
      "  ^~~~~~~\n"
     ]
    },
    {
     "name": "stdout",
     "output_type": "stream",
     "text": [
      "  CC      elf/mupq_pqclean_crypto_sign_dilithium2_clean_testvectors.elf\n"
     ]
    },
    {
     "name": "stderr",
     "output_type": "stream",
     "text": [
      "common/hal-opencm3.c: In function 'clock_setup':\n",
      "common/hal-opencm3.c:104:41: warning: unused parameter 'clock' [-Wunused-parameter]\n",
      " static void clock_setup(enum clock_mode clock)\n",
      "                         ~~~~~~~~~~~~~~~~^~~~~\n"
     ]
    },
    {
     "name": "stdout",
     "output_type": "stream",
     "text": [
      "  CC      elf/mupq_pqclean_crypto_sign_sphincs-sha256-192f-robust_clean_test.elf\n",
      "  CC      elf/mupq_pqclean_crypto_sign_sphincs-sha256-192f-robust_clean_speed.elf\n"
     ]
    },
    {
     "name": "stderr",
     "output_type": "stream",
     "text": [
      "common/hal-opencm3.c: In function 'clock_setup':\n",
      "common/hal-opencm3.c:104:41: warning: unused parameter 'clock' [-Wunused-parameter]\n",
      " static void clock_setup(enum clock_mode clock)\n",
      "                         ~~~~~~~~~~~~~~~~^~~~~\n"
     ]
    },
    {
     "name": "stdout",
     "output_type": "stream",
     "text": [
      "  CC      elf/mupq_pqclean_crypto_sign_sphincs-sha256-192f-robust_clean_hashing.elf\n"
     ]
    },
    {
     "name": "stderr",
     "output_type": "stream",
     "text": [
      "common/hal-opencm3.c: In function 'clock_setup':\n",
      "common/hal-opencm3.c:104:41: warning: unused parameter 'clock' [-Wunused-parameter]\n",
      " static void clock_setup(enum clock_mode clock)\n",
      "                         ~~~~~~~~~~~~~~~~^~~~~\n",
      "common/randombytes.c:38:2: warning: #warning Using a non-random randombytes [-Wcpp]\n",
      " #warning Using a non-random randombytes\n",
      "  ^~~~~~~\n",
      "common/randombytes.c:38:2: warning: #warning Using a non-random randombytes [-Wcpp]\n",
      " #warning Using a non-random randombytes\n",
      "  ^~~~~~~\n",
      "common/hal-opencm3.c: In function 'clock_setup':\n",
      "common/hal-opencm3.c:104:41: warning: unused parameter 'clock' [-Wunused-parameter]\n",
      " static void clock_setup(enum clock_mode clock)\n",
      "                         ~~~~~~~~~~~~~~~~^~~~~\n",
      "common/randombytes.c:38:2: warning: #warning Using a non-random randombytes [-Wcpp]\n",
      " #warning Using a non-random randombytes\n",
      "  ^~~~~~~\n"
     ]
    },
    {
     "name": "stdout",
     "output_type": "stream",
     "text": [
      "  CC      elf/mupq_pqclean_crypto_sign_sphincs-sha256-192f-robust_clean_stack.elf\n"
     ]
    },
    {
     "name": "stderr",
     "output_type": "stream",
     "text": [
      "common/hal-opencm3.c: In function 'clock_setup':\n",
      "common/hal-opencm3.c:104:41: warning: unused parameter 'clock' [-Wunused-parameter]\n",
      " static void clock_setup(enum clock_mode clock)\n",
      "                         ~~~~~~~~~~~~~~~~^~~~~\n",
      "common/randombytes.c:38:2: warning: #warning Using a non-random randombytes [-Wcpp]\n",
      " #warning Using a non-random randombytes\n",
      "  ^~~~~~~\n"
     ]
    },
    {
     "name": "stdout",
     "output_type": "stream",
     "text": [
      "  CC      elf/mupq_pqclean_crypto_sign_sphincs-sha256-192f-robust_clean_testvectors.elf\n",
      "  CC      elf/mupq_pqclean_crypto_sign_sphincs-haraka-128f-simple_clean_test.elf\n"
     ]
    },
    {
     "name": "stderr",
     "output_type": "stream",
     "text": [
      "common/hal-opencm3.c: In function 'clock_setup':\n",
      "common/hal-opencm3.c:104:41: warning: unused parameter 'clock' [-Wunused-parameter]\n",
      " static void clock_setup(enum clock_mode clock)\n",
      "                         ~~~~~~~~~~~~~~~~^~~~~\n",
      "common/hal-opencm3.c: In function 'clock_setup':\n",
      "common/hal-opencm3.c:104:41: warning: unused parameter 'clock' [-Wunused-parameter]\n",
      " static void clock_setup(enum clock_mode clock)\n",
      "                         ~~~~~~~~~~~~~~~~^~~~~\n",
      "common/randombytes.c:38:2: warning: #warning Using a non-random randombytes [-Wcpp]\n",
      " #warning Using a non-random randombytes\n",
      "  ^~~~~~~\n"
     ]
    },
    {
     "name": "stdout",
     "output_type": "stream",
     "text": [
      "  CC      elf/mupq_pqclean_crypto_sign_sphincs-haraka-128f-simple_clean_speed.elf\n"
     ]
    },
    {
     "name": "stderr",
     "output_type": "stream",
     "text": [
      "common/hal-opencm3.c: In function 'clock_setup':\n",
      "common/hal-opencm3.c:104:41: warning: unused parameter 'clock' [-Wunused-parameter]\n",
      " static void clock_setup(enum clock_mode clock)\n",
      "                         ~~~~~~~~~~~~~~~~^~~~~\n",
      "common/randombytes.c:38:2: warning: #warning Using a non-random randombytes [-Wcpp]\n",
      " #warning Using a non-random randombytes\n",
      "  ^~~~~~~\n"
     ]
    },
    {
     "name": "stdout",
     "output_type": "stream",
     "text": [
      "  CC      elf/mupq_pqclean_crypto_sign_sphincs-haraka-128f-simple_clean_hashing.elf\n"
     ]
    },
    {
     "name": "stderr",
     "output_type": "stream",
     "text": [
      "common/hal-opencm3.c: In function 'clock_setup':\n",
      "common/hal-opencm3.c:104:41: warning: unused parameter 'clock' [-Wunused-parameter]\n",
      " static void clock_setup(enum clock_mode clock)\n",
      "                         ~~~~~~~~~~~~~~~~^~~~~\n",
      "common/randombytes.c:38:2: warning: #warning Using a non-random randombytes [-Wcpp]\n",
      " #warning Using a non-random randombytes\n",
      "  ^~~~~~~\n"
     ]
    },
    {
     "name": "stdout",
     "output_type": "stream",
     "text": [
      "  CC      elf/mupq_pqclean_crypto_sign_sphincs-haraka-128f-simple_clean_stack.elf\n"
     ]
    },
    {
     "name": "stderr",
     "output_type": "stream",
     "text": [
      "common/hal-opencm3.c: In function 'clock_setup':\n",
      "common/hal-opencm3.c:104:41: warning: unused parameter 'clock' [-Wunused-parameter]\n",
      " static void clock_setup(enum clock_mode clock)\n",
      "                         ~~~~~~~~~~~~~~~~^~~~~\n"
     ]
    },
    {
     "name": "stdout",
     "output_type": "stream",
     "text": [
      "  CC      elf/mupq_pqclean_crypto_sign_sphincs-haraka-128f-simple_clean_testvectors.elf\n"
     ]
    },
    {
     "name": "stderr",
     "output_type": "stream",
     "text": [
      "common/randombytes.c:38:2: warning: #warning Using a non-random randombytes [-Wcpp]\n",
      " #warning Using a non-random randombytes\n",
      "  ^~~~~~~\n",
      "common/hal-opencm3.c: In function 'clock_setup':\n",
      "common/hal-opencm3.c:104:41: warning: unused parameter 'clock' [-Wunused-parameter]\n",
      " static void clock_setup(enum clock_mode clock)\n",
      "                         ~~~~~~~~~~~~~~~~^~~~~\n"
     ]
    },
    {
     "name": "stdout",
     "output_type": "stream",
     "text": [
      "  CC      elf/mupq_pqclean_crypto_sign_sphincs-haraka-192s-simple_clean_test.elf\n"
     ]
    },
    {
     "name": "stderr",
     "output_type": "stream",
     "text": [
      "common/hal-opencm3.c: In function 'clock_setup':\n"
     ]
    },
    {
     "name": "stdout",
     "output_type": "stream",
     "text": [
      "  CC      elf/mupq_pqclean_crypto_sign_sphincs-haraka-192s-simple_clean_speed.elf\n"
     ]
    },
    {
     "name": "stderr",
     "output_type": "stream",
     "text": [
      "common/hal-opencm3.c:104:41: warning: unused parameter 'clock' [-Wunused-parameter]\n",
      " static void clock_setup(enum clock_mode clock)\n",
      "                         ~~~~~~~~~~~~~~~~^~~~~\n",
      "common/randombytes.c:38:2: warning: #warning Using a non-random randombytes [-Wcpp]\n",
      " #warning Using a non-random randombytes\n",
      "  ^~~~~~~\n",
      "common/hal-opencm3.c: In function 'clock_setup':\n",
      "common/hal-opencm3.c:104:41: warning: unused parameter 'clock' [-Wunused-parameter]\n",
      " static void clock_setup(enum clock_mode clock)\n",
      "                         ~~~~~~~~~~~~~~~~^~~~~\n",
      "common/randombytes.c:38:2: warning: #warning Using a non-random randombytes [-Wcpp]\n",
      " #warning Using a non-random randombytes\n",
      "  ^~~~~~~\n"
     ]
    },
    {
     "name": "stdout",
     "output_type": "stream",
     "text": [
      "  CC      elf/mupq_pqclean_crypto_sign_sphincs-haraka-192s-simple_clean_hashing.elf\n"
     ]
    },
    {
     "name": "stderr",
     "output_type": "stream",
     "text": [
      "common/hal-opencm3.c: In function 'clock_setup':\n",
      "common/hal-opencm3.c:104:41: warning: unused parameter 'clock' [-Wunused-parameter]\n",
      " static void clock_setup(enum clock_mode clock)\n",
      "                         ~~~~~~~~~~~~~~~~^~~~~\n",
      "common/randombytes.c:38:2: warning: #warning Using a non-random randombytes [-Wcpp]\n",
      " #warning Using a non-random randombytes\n",
      "  ^~~~~~~\n"
     ]
    },
    {
     "name": "stdout",
     "output_type": "stream",
     "text": [
      "  CC      elf/mupq_pqclean_crypto_sign_sphincs-haraka-192s-simple_clean_stack.elf\n"
     ]
    },
    {
     "name": "stderr",
     "output_type": "stream",
     "text": [
      "common/hal-opencm3.c: In function 'clock_setup':\n",
      "common/hal-opencm3.c:104:41: warning: unused parameter 'clock' [-Wunused-parameter]\n",
      " static void clock_setup(enum clock_mode clock)\n",
      "                         ~~~~~~~~~~~~~~~~^~~~~\n",
      "common/randombytes.c:38:2: warning: #warning Using a non-random randombytes [-Wcpp]\n",
      " #warning Using a non-random randombytes\n",
      "  ^~~~~~~\n"
     ]
    },
    {
     "name": "stdout",
     "output_type": "stream",
     "text": [
      "  CC      elf/mupq_pqclean_crypto_sign_sphincs-haraka-192s-simple_clean_testvectors.elf\n",
      "  CC      elf/mupq_pqclean_crypto_sign_sphincs-haraka-256s-robust_clean_test.elf\n"
     ]
    },
    {
     "name": "stderr",
     "output_type": "stream",
     "text": [
      "common/hal-opencm3.c: In function 'clock_setup':\n",
      "common/hal-opencm3.c:104:41: warning: unused parameter 'clock' [-Wunused-parameter]\n",
      " static void clock_setup(enum clock_mode clock)\n",
      "                         ~~~~~~~~~~~~~~~~^~~~~\n",
      "common/hal-opencm3.c: In function 'clock_setup':\n",
      "common/hal-opencm3.c:104:41: warning: unused parameter 'clock' [-Wunused-parameter]\n",
      " static void clock_setup(enum clock_mode clock)\n",
      "                         ~~~~~~~~~~~~~~~~^~~~~\n",
      "common/randombytes.c:38:2: warning: #warning Using a non-random randombytes [-Wcpp]\n",
      " #warning Using a non-random randombytes\n",
      "  ^~~~~~~\n"
     ]
    },
    {
     "name": "stdout",
     "output_type": "stream",
     "text": [
      "  CC      elf/mupq_pqclean_crypto_sign_sphincs-haraka-256s-robust_clean_speed.elf\n"
     ]
    },
    {
     "name": "stderr",
     "output_type": "stream",
     "text": [
      "common/hal-opencm3.c: In function 'clock_setup':\n",
      "common/hal-opencm3.c:104:41: warning: unused parameter 'clock' [-Wunused-parameter]\n",
      " static void clock_setup(enum clock_mode clock)\n",
      "                         ~~~~~~~~~~~~~~~~^~~~~\n",
      "common/randombytes.c:38:2: warning: #warning Using a non-random randombytes [-Wcpp]\n",
      " #warning Using a non-random randombytes\n",
      "  ^~~~~~~\n"
     ]
    },
    {
     "name": "stdout",
     "output_type": "stream",
     "text": [
      "  CC      elf/mupq_pqclean_crypto_sign_sphincs-haraka-256s-robust_clean_hashing.elf\n"
     ]
    },
    {
     "name": "stderr",
     "output_type": "stream",
     "text": [
      "common/hal-opencm3.c: In function 'clock_setup':\n",
      "common/hal-opencm3.c:104:41: warning: unused parameter 'clock' [-Wunused-parameter]\n",
      " static void clock_setup(enum clock_mode clock)\n",
      "                         ~~~~~~~~~~~~~~~~^~~~~\n",
      "common/randombytes.c:38:2: warning: #warning Using a non-random randombytes [-Wcpp]\n",
      " #warning Using a non-random randombytes\n",
      "  ^~~~~~~\n"
     ]
    },
    {
     "name": "stdout",
     "output_type": "stream",
     "text": [
      "  CC      elf/mupq_pqclean_crypto_sign_sphincs-haraka-256s-robust_clean_stack.elf\n"
     ]
    },
    {
     "name": "stderr",
     "output_type": "stream",
     "text": [
      "common/hal-opencm3.c: In function 'clock_setup':\n",
      "common/hal-opencm3.c:104:41: warning: unused parameter 'clock' [-Wunused-parameter]\n",
      " static void clock_setup(enum clock_mode clock)\n",
      "                         ~~~~~~~~~~~~~~~~^~~~~\n"
     ]
    },
    {
     "name": "stdout",
     "output_type": "stream",
     "text": [
      "  CC      elf/mupq_pqclean_crypto_sign_sphincs-haraka-256s-robust_clean_testvectors.elf\n"
     ]
    },
    {
     "name": "stderr",
     "output_type": "stream",
     "text": [
      "common/randombytes.c:38:2: warning: #warning Using a non-random randombytes [-Wcpp]\n",
      " #warning Using a non-random randombytes\n",
      "  ^~~~~~~\n",
      "common/hal-opencm3.c: In function 'clock_setup':\n",
      "common/hal-opencm3.c:104:41: warning: unused parameter 'clock' [-Wunused-parameter]\n",
      " static void clock_setup(enum clock_mode clock)\n",
      "                         ~~~~~~~~~~~~~~~~^~~~~\n"
     ]
    },
    {
     "name": "stdout",
     "output_type": "stream",
     "text": [
      "  CC      elf/mupq_pqclean_crypto_sign_sphincs-shake256-192f-robust_clean_test.elf\n"
     ]
    },
    {
     "name": "stderr",
     "output_type": "stream",
     "text": [
      "common/hal-opencm3.c: In function 'clock_setup':\n",
      "common/hal-opencm3.c:104:41: warning: unused parameter 'clock' [-Wunused-parameter]\n",
      " static void clock_setup(enum clock_mode clock)\n",
      "                         ~~~~~~~~~~~~~~~~^~~~~\n",
      "common/randombytes.c:38:2: warning: #warning Using a non-random randombytes [-Wcpp]\n",
      " #warning Using a non-random randombytes\n",
      "  ^~~~~~~\n"
     ]
    },
    {
     "name": "stdout",
     "output_type": "stream",
     "text": [
      "  CC      elf/mupq_pqclean_crypto_sign_sphincs-shake256-192f-robust_clean_speed.elf\n"
     ]
    },
    {
     "name": "stderr",
     "output_type": "stream",
     "text": [
      "common/hal-opencm3.c: In function 'clock_setup':\n",
      "common/hal-opencm3.c:104:41: warning: unused parameter 'clock' [-Wunused-parameter]\n",
      " static void clock_setup(enum clock_mode clock)\n",
      "                         ~~~~~~~~~~~~~~~~^~~~~\n",
      "common/randombytes.c:38:2: warning: #warning Using a non-random randombytes [-Wcpp]\n",
      " #warning Using a non-random randombytes\n",
      "  ^~~~~~~\n"
     ]
    },
    {
     "name": "stdout",
     "output_type": "stream",
     "text": [
      "  CC      elf/mupq_pqclean_crypto_sign_sphincs-shake256-192f-robust_clean_hashing.elf\n",
      "  CC      elf/mupq_pqclean_crypto_sign_sphincs-shake256-192f-robust_clean_stack.elf\n"
     ]
    },
    {
     "name": "stderr",
     "output_type": "stream",
     "text": [
      "common/hal-opencm3.c: In function 'clock_setup':\n",
      "common/hal-opencm3.c:104:41: warning: unused parameter 'clock' [-Wunused-parameter]\n",
      " static void clock_setup(enum clock_mode clock)\n",
      "                         ~~~~~~~~~~~~~~~~^~~~~\n",
      "common/randombytes.c:38:2: warning: #warning Using a non-random randombytes [-Wcpp]\n",
      " #warning Using a non-random randombytes\n",
      "  ^~~~~~~\n",
      "common/hal-opencm3.c: In function 'clock_setup':\n",
      "common/hal-opencm3.c:104:41: warning: unused parameter 'clock' [-Wunused-parameter]\n",
      " static void clock_setup(enum clock_mode clock)\n",
      "                         ~~~~~~~~~~~~~~~~^~~~~\n",
      "common/randombytes.c:38:2: warning: #warning Using a non-random randombytes [-Wcpp]\n",
      " #warning Using a non-random randombytes\n",
      "  ^~~~~~~\n"
     ]
    },
    {
     "name": "stdout",
     "output_type": "stream",
     "text": [
      "  CC      elf/mupq_pqclean_crypto_sign_sphincs-shake256-192f-robust_clean_testvectors.elf\n"
     ]
    },
    {
     "name": "stderr",
     "output_type": "stream",
     "text": [
      "common/hal-opencm3.c: In function 'clock_setup':\n",
      "common/hal-opencm3.c:104:41: warning: unused parameter 'clock' [-Wunused-parameter]\n",
      " static void clock_setup(enum clock_mode clock)\n",
      "                         ~~~~~~~~~~~~~~~~^~~~~\n"
     ]
    },
    {
     "name": "stdout",
     "output_type": "stream",
     "text": [
      "  CC      elf/mupq_pqclean_crypto_sign_dilithium3aes_clean_test.elf\n"
     ]
    },
    {
     "name": "stderr",
     "output_type": "stream",
     "text": [
      "common/hal-opencm3.c: In function 'clock_setup':\n",
      "common/hal-opencm3.c:104:41: warning: unused parameter 'clock' [-Wunused-parameter]\n",
      " static void clock_setup(enum clock_mode clock)\n",
      "                         ~~~~~~~~~~~~~~~~^~~~~\n",
      "common/randombytes.c:38:2: warning: #warning Using a non-random randombytes [-Wcpp]\n",
      " #warning Using a non-random randombytes\n",
      "  ^~~~~~~\n"
     ]
    },
    {
     "name": "stdout",
     "output_type": "stream",
     "text": [
      "  CC      elf/mupq_pqclean_crypto_sign_dilithium3aes_clean_speed.elf\n"
     ]
    },
    {
     "name": "stderr",
     "output_type": "stream",
     "text": [
      "common/hal-opencm3.c: In function 'clock_setup':\n",
      "common/hal-opencm3.c:104:41: warning: unused parameter 'clock' [-Wunused-parameter]\n",
      " static void clock_setup(enum clock_mode clock)\n",
      "                         ~~~~~~~~~~~~~~~~^~~~~\n",
      "common/randombytes.c:38:2: warning: #warning Using a non-random randombytes [-Wcpp]\n",
      " #warning Using a non-random randombytes\n",
      "  ^~~~~~~\n"
     ]
    },
    {
     "name": "stdout",
     "output_type": "stream",
     "text": [
      "  CC      elf/mupq_pqclean_crypto_sign_dilithium3aes_clean_hashing.elf\n"
     ]
    },
    {
     "name": "stderr",
     "output_type": "stream",
     "text": [
      "common/hal-opencm3.c: In function 'clock_setup':\n",
      "common/hal-opencm3.c:104:41: warning: unused parameter 'clock' [-Wunused-parameter]\n",
      " static void clock_setup(enum clock_mode clock)\n",
      "                         ~~~~~~~~~~~~~~~~^~~~~\n",
      "common/randombytes.c:38:2: warning: #warning Using a non-random randombytes [-Wcpp]\n",
      " #warning Using a non-random randombytes\n",
      "  ^~~~~~~\n"
     ]
    },
    {
     "name": "stdout",
     "output_type": "stream",
     "text": [
      "  CC      elf/mupq_pqclean_crypto_sign_dilithium3aes_clean_stack.elf\n"
     ]
    },
    {
     "name": "stderr",
     "output_type": "stream",
     "text": [
      "common/hal-opencm3.c: In function 'clock_setup':\n",
      "common/hal-opencm3.c:104:41: warning: unused parameter 'clock' [-Wunused-parameter]\n",
      " static void clock_setup(enum clock_mode clock)\n",
      "                         ~~~~~~~~~~~~~~~~^~~~~\n",
      "common/randombytes.c:38:2: warning: #warning Using a non-random randombytes [-Wcpp]\n",
      " #warning Using a non-random randombytes\n",
      "  ^~~~~~~\n"
     ]
    },
    {
     "name": "stdout",
     "output_type": "stream",
     "text": [
      "  CC      elf/mupq_pqclean_crypto_sign_dilithium3aes_clean_testvectors.elf\n"
     ]
    },
    {
     "name": "stderr",
     "output_type": "stream",
     "text": [
      "common/hal-opencm3.c: In function 'clock_setup':\n",
      "common/hal-opencm3.c:104:41: warning: unused parameter 'clock' [-Wunused-parameter]\n",
      " static void clock_setup(enum clock_mode clock)\n",
      "                         ~~~~~~~~~~~~~~~~^~~~~\n"
     ]
    },
    {
     "name": "stdout",
     "output_type": "stream",
     "text": [
      "  CC      elf/mupq_pqclean_crypto_sign_sphincs-sha256-128s-robust_clean_test.elf\n",
      "  CC      elf/mupq_pqclean_crypto_sign_sphincs-sha256-128s-robust_clean_speed.elf\n"
     ]
    },
    {
     "name": "stderr",
     "output_type": "stream",
     "text": [
      "common/hal-opencm3.c: In function 'clock_setup':\n",
      "common/hal-opencm3.c:104:41: warning: unused parameter 'clock' [-Wunused-parameter]\n",
      " static void clock_setup(enum clock_mode clock)\n",
      "                         ~~~~~~~~~~~~~~~~^~~~~\n",
      "common/hal-opencm3.c: In function 'clock_setup':\n",
      "common/hal-opencm3.c:104:41: warning: unused parameter 'clock' [-Wunused-parameter]\n",
      " static void clock_setup(enum clock_mode clock)\n",
      "                         ~~~~~~~~~~~~~~~~^~~~~\n",
      "common/randombytes.c:38:2: warning: #warning Using a non-random randombytes [-Wcpp]\n",
      " #warning Using a non-random randombytes\n",
      "  ^~~~~~~\n",
      "common/randombytes.c:38:2: warning: #warning Using a non-random randombytes [-Wcpp]\n",
      " #warning Using a non-random randombytes\n",
      "  ^~~~~~~\n"
     ]
    },
    {
     "name": "stdout",
     "output_type": "stream",
     "text": [
      "  CC      elf/mupq_pqclean_crypto_sign_sphincs-sha256-128s-robust_clean_hashing.elf\n"
     ]
    },
    {
     "name": "stderr",
     "output_type": "stream",
     "text": [
      "common/hal-opencm3.c: In function 'clock_setup':\n",
      "common/hal-opencm3.c:104:41: warning: unused parameter 'clock' [-Wunused-parameter]\n",
      " static void clock_setup(enum clock_mode clock)\n",
      "                         ~~~~~~~~~~~~~~~~^~~~~\n",
      "common/randombytes.c:38:2: warning: #warning Using a non-random randombytes [-Wcpp]\n",
      " #warning Using a non-random randombytes\n",
      "  ^~~~~~~\n"
     ]
    },
    {
     "name": "stdout",
     "output_type": "stream",
     "text": [
      "  CC      elf/mupq_pqclean_crypto_sign_sphincs-sha256-128s-robust_clean_stack.elf\n",
      "  CC      elf/mupq_pqclean_crypto_sign_sphincs-sha256-128s-robust_clean_testvectors.elf\n",
      "  CC      elf/mupq_pqclean_crypto_sign_sphincs-shake256-128f-robust_clean_test.elf\n"
     ]
    },
    {
     "name": "stderr",
     "output_type": "stream",
     "text": [
      "common/hal-opencm3.c: In function 'clock_setup':\n",
      "common/hal-opencm3.c:104:41: warning: unused parameter 'clock' [-Wunused-parameter]\n",
      " static void clock_setup(enum clock_mode clock)\n",
      "                         ~~~~~~~~~~~~~~~~^~~~~\n",
      "common/hal-opencm3.c: In function 'clock_setup':\n",
      "common/randombytes.c:38:2: warning: #warning Using a non-random randombytes [-Wcpp]\n",
      " #warning Using a non-random randombytes\n",
      "  ^~~~~~~\n",
      "common/hal-opencm3.c: In function 'clock_setup':\n",
      "common/hal-opencm3.c:104:41: warning: unused parameter 'clock' [-Wunused-parameter]\n",
      " static void clock_setup(enum clock_mode clock)\n",
      "                         ~~~~~~~~~~~~~~~~^~~~~\n",
      "common/hal-opencm3.c:104:41: warning: unused parameter 'clock' [-Wunused-parameter]\n",
      " static void clock_setup(enum clock_mode clock)\n",
      "                         ~~~~~~~~~~~~~~~~^~~~~\n",
      "common/randombytes.c:38:2: warning: #warning Using a non-random randombytes [-Wcpp]\n",
      " #warning Using a non-random randombytes\n",
      "  ^~~~~~~\n"
     ]
    },
    {
     "name": "stdout",
     "output_type": "stream",
     "text": [
      "  CC      elf/mupq_pqclean_crypto_sign_sphincs-shake256-128f-robust_clean_speed.elf\n"
     ]
    },
    {
     "name": "stderr",
     "output_type": "stream",
     "text": [
      "common/hal-opencm3.c: In function 'clock_setup':\n",
      "common/hal-opencm3.c:104:41: warning: unused parameter 'clock' [-Wunused-parameter]\n",
      " static void clock_setup(enum clock_mode clock)\n",
      "                         ~~~~~~~~~~~~~~~~^~~~~\n",
      "common/randombytes.c:38:2: warning: #warning Using a non-random randombytes [-Wcpp]\n",
      " #warning Using a non-random randombytes\n",
      "  ^~~~~~~\n"
     ]
    },
    {
     "name": "stdout",
     "output_type": "stream",
     "text": [
      "  CC      elf/mupq_pqclean_crypto_sign_sphincs-shake256-128f-robust_clean_hashing.elf\n",
      "  CC      elf/mupq_pqclean_crypto_sign_sphincs-shake256-128f-robust_clean_stack.elf\n"
     ]
    },
    {
     "name": "stderr",
     "output_type": "stream",
     "text": [
      "common/hal-opencm3.c: In function 'clock_setup':\n",
      "common/hal-opencm3.c:104:41: warning: unused parameter 'clock' [-Wunused-parameter]\n",
      " static void clock_setup(enum clock_mode clock)\n",
      "                         ~~~~~~~~~~~~~~~~^~~~~\n",
      "common/randombytes.c:38:2: warning: #warning Using a non-random randombytes [-Wcpp]\n",
      " #warning Using a non-random randombytes\n",
      "  ^~~~~~~\n"
     ]
    },
    {
     "name": "stdout",
     "output_type": "stream",
     "text": [
      "  CC      elf/mupq_pqclean_crypto_sign_sphincs-shake256-128f-robust_clean_testvectors.elf\n"
     ]
    },
    {
     "name": "stderr",
     "output_type": "stream",
     "text": [
      "common/hal-opencm3.c: In function 'clock_setup':\n",
      "common/hal-opencm3.c:104:41: warning: unused parameter 'clock' [-Wunused-parameter]\n",
      " static void clock_setup(enum clock_mode clock)\n",
      "                         ~~~~~~~~~~~~~~~~^~~~~\n",
      "common/hal-opencm3.c: In function 'clock_setup':\n",
      "common/hal-opencm3.c:104:41: warning: unused parameter 'clock' [-Wunused-parameter]\n",
      " static void clock_setup(enum clock_mode clock)\n",
      "                         ~~~~~~~~~~~~~~~~^~~~~\n",
      "common/randombytes.c:38:2: warning: #warning Using a non-random randombytes [-Wcpp]\n",
      " #warning Using a non-random randombytes\n",
      "  ^~~~~~~\n"
     ]
    },
    {
     "name": "stdout",
     "output_type": "stream",
     "text": [
      "  CC      elf/mupq_pqclean_crypto_sign_sphincs-haraka-128s-simple_clean_test.elf\n"
     ]
    },
    {
     "name": "stderr",
     "output_type": "stream",
     "text": [
      "common/hal-opencm3.c: In function 'clock_setup':\n",
      "common/hal-opencm3.c:104:41: warning: unused parameter 'clock' [-Wunused-parameter]\n",
      " static void clock_setup(enum clock_mode clock)\n",
      "                         ~~~~~~~~~~~~~~~~^~~~~\n",
      "common/randombytes.c:38:2: warning: #warning Using a non-random randombytes [-Wcpp]\n",
      " #warning Using a non-random randombytes\n",
      "  ^~~~~~~\n"
     ]
    },
    {
     "name": "stdout",
     "output_type": "stream",
     "text": [
      "  CC      elf/mupq_pqclean_crypto_sign_sphincs-haraka-128s-simple_clean_speed.elf\n"
     ]
    },
    {
     "name": "stderr",
     "output_type": "stream",
     "text": [
      "common/hal-opencm3.c: In function 'clock_setup':\n",
      "common/hal-opencm3.c:104:41: warning: unused parameter 'clock' [-Wunused-parameter]\n",
      " static void clock_setup(enum clock_mode clock)\n",
      "                         ~~~~~~~~~~~~~~~~^~~~~\n",
      "common/randombytes.c:38:2: warning: #warning Using a non-random randombytes [-Wcpp]\n",
      " #warning Using a non-random randombytes\n",
      "  ^~~~~~~\n"
     ]
    },
    {
     "name": "stdout",
     "output_type": "stream",
     "text": [
      "  CC      elf/mupq_pqclean_crypto_sign_sphincs-haraka-128s-simple_clean_hashing.elf\n",
      "  CC      elf/mupq_pqclean_crypto_sign_sphincs-haraka-128s-simple_clean_stack.elf\n"
     ]
    },
    {
     "name": "stderr",
     "output_type": "stream",
     "text": [
      "common/hal-opencm3.c: In function 'clock_setup':\n",
      "common/hal-opencm3.c:104:41: warning: unused parameter 'clock' [-Wunused-parameter]\n",
      " static void clock_setup(enum clock_mode clock)\n",
      "                         ~~~~~~~~~~~~~~~~^~~~~\n",
      "common/randombytes.c:38:2: warning: #warning Using a non-random randombytes [-Wcpp]\n",
      " #warning Using a non-random randombytes\n",
      "  ^~~~~~~\n",
      "common/hal-opencm3.c: In function 'clock_setup':\n",
      "common/hal-opencm3.c:104:41: warning: unused parameter 'clock' [-Wunused-parameter]\n",
      " static void clock_setup(enum clock_mode clock)\n",
      "                         ~~~~~~~~~~~~~~~~^~~~~\n",
      "common/randombytes.c:38:2: warning: #warning Using a non-random randombytes [-Wcpp]\n",
      " #warning Using a non-random randombytes\n",
      "  ^~~~~~~\n"
     ]
    },
    {
     "name": "stdout",
     "output_type": "stream",
     "text": [
      "  CC      elf/mupq_pqclean_crypto_sign_sphincs-haraka-128s-simple_clean_testvectors.elf\n"
     ]
    },
    {
     "name": "stderr",
     "output_type": "stream",
     "text": [
      "common/hal-opencm3.c: In function 'clock_setup':\n",
      "common/hal-opencm3.c:104:41: warning: unused parameter 'clock' [-Wunused-parameter]\n",
      " static void clock_setup(enum clock_mode clock)\n",
      "                         ~~~~~~~~~~~~~~~~^~~~~\n"
     ]
    },
    {
     "name": "stdout",
     "output_type": "stream",
     "text": [
      "  CC      elf/mupq_pqclean_crypto_sign_sphincs-shake256-128f-simple_clean_test.elf\n",
      "  CC      elf/mupq_pqclean_crypto_sign_sphincs-shake256-128f-simple_clean_speed.elf\n",
      "  CC      elf/mupq_pqclean_crypto_sign_sphincs-shake256-128f-simple_clean_hashing.elf\n"
     ]
    },
    {
     "name": "stderr",
     "output_type": "stream",
     "text": [
      "common/hal-opencm3.c: In function 'clock_setup':\n",
      "common/hal-opencm3.c:104:41: warning: unused parameter 'clock' [-Wunused-parameter]\n",
      " static void clock_setup(enum clock_mode clock)\n",
      "                         ~~~~~~~~~~~~~~~~^~~~~\n",
      "common/hal-opencm3.c: In function 'clock_setup':\n",
      "common/hal-opencm3.c:104:41: warning: unused parameter 'clock' [-Wunused-parameter]\n",
      " static void clock_setup(enum clock_mode clock)\n",
      "                         ~~~~~~~~~~~~~~~~^~~~~\n",
      "common/randombytes.c:38:2: warning: #warning Using a non-random randombytes [-Wcpp]\n",
      " #warning Using a non-random randombytes\n",
      "  ^~~~~~~\n",
      "common/randombytes.c:38:2: warning: #warning Using a non-random randombytes [-Wcpp]\n",
      " #warning Using a non-random randombytes\n",
      "  ^~~~~~~\n",
      "common/hal-opencm3.c: In function 'clock_setup':\n",
      "common/hal-opencm3.c:104:41: warning: unused parameter 'clock' [-Wunused-parameter]\n",
      " static void clock_setup(enum clock_mode clock)\n",
      "                         ~~~~~~~~~~~~~~~~^~~~~\n",
      "common/randombytes.c:38:2: warning: #warning Using a non-random randombytes [-Wcpp]\n",
      " #warning Using a non-random randombytes\n",
      "  ^~~~~~~\n"
     ]
    },
    {
     "name": "stdout",
     "output_type": "stream",
     "text": [
      "  CC      elf/mupq_pqclean_crypto_sign_sphincs-shake256-128f-simple_clean_stack.elf\n"
     ]
    },
    {
     "name": "stderr",
     "output_type": "stream",
     "text": [
      "common/hal-opencm3.c: In function 'clock_setup':\n",
      "common/hal-opencm3.c:104:41: warning: unused parameter 'clock' [-Wunused-parameter]\n",
      " static void clock_setup(enum clock_mode clock)\n",
      "                         ~~~~~~~~~~~~~~~~^~~~~\n",
      "common/randombytes.c:38:2: warning: #warning Using a non-random randombytes [-Wcpp]\n",
      " #warning Using a non-random randombytes\n",
      "  ^~~~~~~\n"
     ]
    },
    {
     "name": "stdout",
     "output_type": "stream",
     "text": [
      "  CC      elf/mupq_pqclean_crypto_sign_sphincs-shake256-128f-simple_clean_testvectors.elf\n",
      "  CC      elf/mupq_pqclean_crypto_sign_sphincs-haraka-256s-simple_clean_test.elf\n"
     ]
    },
    {
     "name": "stderr",
     "output_type": "stream",
     "text": [
      "common/hal-opencm3.c: In function 'clock_setup':\n",
      "common/hal-opencm3.c: In function 'clock_setup':\n",
      "common/hal-opencm3.c:104:41: warning: unused parameter 'clock' [-Wunused-parameter]\n",
      " static void clock_setup(enum clock_mode clock)\n",
      "                         ~~~~~~~~~~~~~~~~^~~~~\n",
      "common/hal-opencm3.c:104:41: warning: unused parameter 'clock' [-Wunused-parameter]\n",
      " static void clock_setup(enum clock_mode clock)\n",
      "                         ~~~~~~~~~~~~~~~~^~~~~\n",
      "common/randombytes.c:38:2: warning: #warning Using a non-random randombytes [-Wcpp]\n",
      " #warning Using a non-random randombytes\n",
      "  ^~~~~~~\n"
     ]
    },
    {
     "name": "stdout",
     "output_type": "stream",
     "text": [
      "  CC      elf/mupq_pqclean_crypto_sign_sphincs-haraka-256s-simple_clean_speed.elf\n"
     ]
    },
    {
     "name": "stderr",
     "output_type": "stream",
     "text": [
      "common/hal-opencm3.c: In function 'clock_setup':\n",
      "common/hal-opencm3.c:104:41: warning: unused parameter 'clock' [-Wunused-parameter]\n",
      " static void clock_setup(enum clock_mode clock)\n",
      "                         ~~~~~~~~~~~~~~~~^~~~~\n",
      "common/randombytes.c:38:2: warning: #warning Using a non-random randombytes [-Wcpp]\n",
      " #warning Using a non-random randombytes\n",
      "  ^~~~~~~\n"
     ]
    },
    {
     "name": "stdout",
     "output_type": "stream",
     "text": [
      "  CC      elf/mupq_pqclean_crypto_sign_sphincs-haraka-256s-simple_clean_hashing.elf\n"
     ]
    },
    {
     "name": "stderr",
     "output_type": "stream",
     "text": [
      "common/hal-opencm3.c: In function 'clock_setup':\n",
      "common/hal-opencm3.c:104:41: warning: unused parameter 'clock' [-Wunused-parameter]\n",
      " static void clock_setup(enum clock_mode clock)\n",
      "                         ~~~~~~~~~~~~~~~~^~~~~\n",
      "common/randombytes.c:38:2: warning: #warning Using a non-random randombytes [-Wcpp]\n",
      " #warning Using a non-random randombytes\n",
      "  ^~~~~~~\n"
     ]
    },
    {
     "name": "stdout",
     "output_type": "stream",
     "text": [
      "  CC      elf/mupq_pqclean_crypto_sign_sphincs-haraka-256s-simple_clean_stack.elf\n"
     ]
    },
    {
     "name": "stderr",
     "output_type": "stream",
     "text": [
      "common/hal-opencm3.c: In function 'clock_setup':\n",
      "common/hal-opencm3.c:104:41: warning: unused parameter 'clock' [-Wunused-parameter]\n",
      " static void clock_setup(enum clock_mode clock)\n",
      "                         ~~~~~~~~~~~~~~~~^~~~~\n",
      "common/randombytes.c:38:2: warning: #warning Using a non-random randombytes [-Wcpp]\n",
      " #warning Using a non-random randombytes\n",
      "  ^~~~~~~\n"
     ]
    },
    {
     "name": "stdout",
     "output_type": "stream",
     "text": [
      "  CC      elf/mupq_pqclean_crypto_sign_sphincs-haraka-256s-simple_clean_testvectors.elf\n"
     ]
    },
    {
     "name": "stderr",
     "output_type": "stream",
     "text": [
      "common/hal-opencm3.c: In function 'clock_setup':\n",
      "common/hal-opencm3.c:104:41: warning: unused parameter 'clock' [-Wunused-parameter]\n",
      " static void clock_setup(enum clock_mode clock)\n",
      "                         ~~~~~~~~~~~~~~~~^~~~~\n"
     ]
    },
    {
     "name": "stdout",
     "output_type": "stream",
     "text": [
      "  CC      elf/boardtest.elf\n"
     ]
    },
    {
     "name": "stderr",
     "output_type": "stream",
     "text": [
      "common/hal-opencm3.c: In function 'clock_setup':\n",
      "common/hal-opencm3.c:104:41: warning: unused parameter 'clock' [-Wunused-parameter]\n",
      " static void clock_setup(enum clock_mode clock)\n",
      "                         ~~~~~~~~~~~~~~~~^~~~~\n",
      "common/randombytes.c:38:2: warning: #warning Using a non-random randombytes [-Wcpp]\n",
      " #warning Using a non-random randombytes\n",
      "  ^~~~~~~\n"
     ]
    },
    {
     "name": "stdout",
     "output_type": "stream",
     "text": [
      "  CC      elf/aestest.elf\n"
     ]
    },
    {
     "name": "stderr",
     "output_type": "stream",
     "text": [
      "common/hal-opencm3.c: In function 'clock_setup':\n",
      "common/hal-opencm3.c:104:41: warning: unused parameter 'clock' [-Wunused-parameter]\n",
      " static void clock_setup(enum clock_mode clock)\n",
      "                         ~~~~~~~~~~~~~~~~^~~~~\n",
      "common/randombytes.c:38:2: warning: #warning Using a non-random randombytes [-Wcpp]\n",
      " #warning Using a non-random randombytes\n",
      "  ^~~~~~~\n"
     ]
    },
    {
     "name": "stdout",
     "output_type": "stream",
     "text": [
      "  OBJCOPY bin/crypto_kem_kyber1024-90s_m4fspeed_test.bin\n",
      "  OBJCOPY bin/crypto_kem_kyber1024-90s_m4fspeed_speed.bin\n",
      "  OBJCOPY bin/crypto_kem_kyber1024-90s_m4fspeed_hashing.bin\n",
      "  OBJCOPY bin/crypto_kem_kyber1024-90s_m4fspeed_stack.bin\n",
      "  OBJCOPY bin/crypto_kem_kyber1024-90s_m4fspeed_testvectors.bin\n",
      "  OBJCOPY bin/crypto_kem_kyber1024-90s_m4fstack_test.bin\n",
      "  OBJCOPY bin/crypto_kem_kyber1024-90s_m4fstack_speed.bin\n",
      "  OBJCOPY bin/crypto_kem_kyber1024-90s_m4fstack_hashing.bin\n",
      "  OBJCOPY bin/crypto_kem_kyber1024-90s_m4fstack_stack.bin\n",
      "  OBJCOPY bin/crypto_kem_kyber1024-90s_m4fstack_testvectors.bin\n",
      "  OBJCOPY bin/crypto_kem_kyber512_m4fspeed_test.bin\n",
      "  OBJCOPY bin/crypto_kem_kyber512_m4fspeed_speed.bin\n",
      "  OBJCOPY bin/crypto_kem_kyber512_m4fspeed_hashing.bin\n",
      "  OBJCOPY bin/crypto_kem_kyber512_m4fspeed_stack.bin\n",
      "  OBJCOPY bin/crypto_kem_kyber512_m4fspeed_testvectors.bin\n",
      "  OBJCOPY bin/crypto_kem_kyber512_m4fstack_test.bin\n",
      "  OBJCOPY bin/crypto_kem_kyber512_m4fstack_speed.bin\n",
      "  OBJCOPY bin/crypto_kem_kyber512_m4fstack_hashing.bin\n",
      "  OBJCOPY bin/crypto_kem_kyber512_m4fstack_stack.bin\n",
      "  OBJCOPY bin/crypto_kem_kyber512_m4fstack_testvectors.bin\n",
      "  OBJCOPY bin/crypto_kem_bikel3_m4f_test.bin\n",
      "  OBJCOPY bin/crypto_kem_bikel3_m4f_speed.bin\n",
      "  OBJCOPY bin/crypto_kem_bikel3_m4f_hashing.bin\n",
      "  OBJCOPY bin/crypto_kem_bikel3_m4f_stack.bin\n",
      "  OBJCOPY bin/crypto_kem_bikel3_m4f_testvectors.bin\n",
      "  OBJCOPY bin/crypto_kem_kyber512-90s_m4fspeed_test.bin\n",
      "  OBJCOPY bin/crypto_kem_kyber512-90s_m4fspeed_speed.bin\n",
      "  OBJCOPY bin/crypto_kem_kyber512-90s_m4fspeed_hashing.bin\n",
      "  OBJCOPY bin/crypto_kem_kyber512-90s_m4fspeed_stack.bin\n",
      "  OBJCOPY bin/crypto_kem_kyber512-90s_m4fspeed_testvectors.bin\n",
      "  OBJCOPY bin/crypto_kem_kyber512-90s_m4fstack_test.bin\n",
      "  OBJCOPY bin/crypto_kem_kyber512-90s_m4fstack_speed.bin\n",
      "  OBJCOPY bin/crypto_kem_kyber512-90s_m4fstack_hashing.bin\n",
      "  OBJCOPY bin/crypto_kem_kyber512-90s_m4fstack_stack.bin\n",
      "  OBJCOPY bin/crypto_kem_kyber512-90s_m4fstack_testvectors.bin\n",
      "  OBJCOPY bin/crypto_kem_kyber1024_m4fspeed_test.bin\n",
      "  OBJCOPY bin/crypto_kem_kyber1024_m4fspeed_speed.bin\n",
      "  OBJCOPY bin/crypto_kem_kyber1024_m4fspeed_hashing.bin\n",
      "  OBJCOPY bin/crypto_kem_kyber1024_m4fspeed_stack.bin\n",
      "  OBJCOPY bin/crypto_kem_kyber1024_m4fspeed_testvectors.bin\n",
      "  OBJCOPY bin/crypto_kem_kyber1024_m4fstack_test.bin\n",
      "  OBJCOPY bin/crypto_kem_kyber1024_m4fstack_speed.bin\n",
      "  OBJCOPY bin/crypto_kem_kyber1024_m4fstack_hashing.bin\n",
      "  OBJCOPY bin/crypto_kem_kyber1024_m4fstack_stack.bin\n",
      "  OBJCOPY bin/crypto_kem_kyber1024_m4fstack_testvectors.bin\n",
      "  OBJCOPY bin/crypto_kem_bikel1_m4f_test.bin\n",
      "  OBJCOPY bin/crypto_kem_bikel1_m4f_speed.bin\n",
      "  OBJCOPY bin/crypto_kem_bikel1_m4f_hashing.bin\n",
      "  OBJCOPY bin/crypto_kem_bikel1_m4f_stack.bin\n",
      "  OBJCOPY bin/crypto_kem_bikel1_m4f_testvectors.bin\n",
      "  OBJCOPY bin/crypto_kem_kyber768-90s_m4fspeed_test.bin\n",
      "  OBJCOPY bin/crypto_kem_kyber768-90s_m4fspeed_speed.bin\n",
      "  OBJCOPY bin/crypto_kem_kyber768-90s_m4fspeed_hashing.bin\n",
      "  OBJCOPY bin/crypto_kem_kyber768-90s_m4fspeed_stack.bin\n",
      "  OBJCOPY bin/crypto_kem_kyber768-90s_m4fspeed_testvectors.bin\n",
      "  OBJCOPY bin/crypto_kem_kyber768-90s_m4fstack_test.bin\n",
      "  OBJCOPY bin/crypto_kem_kyber768-90s_m4fstack_speed.bin\n",
      "  OBJCOPY bin/crypto_kem_kyber768-90s_m4fstack_hashing.bin\n",
      "  OBJCOPY bin/crypto_kem_kyber768-90s_m4fstack_stack.bin\n",
      "  OBJCOPY bin/crypto_kem_kyber768-90s_m4fstack_testvectors.bin\n",
      "  OBJCOPY bin/crypto_kem_kyber768_m4fspeed_test.bin\n",
      "  OBJCOPY bin/crypto_kem_kyber768_m4fspeed_speed.bin\n",
      "  OBJCOPY bin/crypto_kem_kyber768_m4fspeed_stack.bin\n",
      "  OBJCOPY bin/crypto_kem_kyber768_m4fspeed_hashing.bin\n",
      "  OBJCOPY bin/crypto_kem_kyber768_m4fspeed_testvectors.bin\n",
      "  OBJCOPY bin/crypto_kem_kyber768_m4fstack_test.bin\n",
      "  OBJCOPY bin/crypto_kem_kyber768_m4fstack_speed.bin\n",
      "  OBJCOPY bin/crypto_kem_kyber768_m4fstack_hashing.bin\n",
      "  OBJCOPY bin/crypto_kem_kyber768_m4fstack_stack.bin\n",
      "  OBJCOPY bin/crypto_kem_kyber768_m4fstack_testvectors.bin\n",
      "  OBJCOPY bin/mupq_crypto_kem_bikel3_opt_test.bin\n",
      "  OBJCOPY bin/mupq_crypto_kem_bikel3_opt_speed.bin\n",
      "  OBJCOPY bin/mupq_crypto_kem_bikel3_opt_hashing.bin\n",
      "  OBJCOPY bin/mupq_crypto_kem_bikel3_opt_stack.bin\n",
      "  OBJCOPY bin/mupq_crypto_kem_bikel3_opt_testvectors.bin\n",
      "  OBJCOPY bin/mupq_crypto_kem_bikel1_opt_test.bin\n",
      "  OBJCOPY bin/mupq_crypto_kem_bikel1_opt_speed.bin\n",
      "  OBJCOPY bin/mupq_crypto_kem_bikel1_opt_hashing.bin\n",
      "  OBJCOPY bin/mupq_crypto_kem_bikel1_opt_stack.bin\n",
      "  OBJCOPY bin/mupq_crypto_kem_bikel1_opt_testvectors.bin\n",
      "  OBJCOPY bin/mupq_pqclean_crypto_kem_kyber1024-90s_clean_test.bin\n",
      "  OBJCOPY bin/mupq_pqclean_crypto_kem_kyber1024-90s_clean_speed.bin\n",
      "  OBJCOPY bin/mupq_pqclean_crypto_kem_kyber1024-90s_clean_hashing.bin\n",
      "  OBJCOPY bin/mupq_pqclean_crypto_kem_kyber1024-90s_clean_stack.bin\n",
      "  OBJCOPY bin/mupq_pqclean_crypto_kem_kyber1024-90s_clean_testvectors.bin\n",
      "  OBJCOPY bin/mupq_pqclean_crypto_kem_kyber512_clean_test.bin\n",
      "  OBJCOPY bin/mupq_pqclean_crypto_kem_kyber512_clean_speed.bin\n",
      "  OBJCOPY bin/mupq_pqclean_crypto_kem_kyber512_clean_hashing.bin\n",
      "  OBJCOPY bin/mupq_pqclean_crypto_kem_kyber512_clean_stack.bin\n",
      "  OBJCOPY bin/mupq_pqclean_crypto_kem_kyber512_clean_testvectors.bin\n",
      "  OBJCOPY bin/mupq_pqclean_crypto_kem_hqc-rmrs-192_clean_test.bin\n",
      "  OBJCOPY bin/mupq_pqclean_crypto_kem_hqc-rmrs-192_clean_speed.bin\n",
      "  OBJCOPY bin/mupq_pqclean_crypto_kem_hqc-rmrs-192_clean_hashing.bin\n",
      "  OBJCOPY bin/mupq_pqclean_crypto_kem_hqc-rmrs-192_clean_stack.bin\n",
      "  OBJCOPY bin/mupq_pqclean_crypto_kem_hqc-rmrs-192_clean_testvectors.bin\n",
      "  OBJCOPY bin/mupq_pqclean_crypto_kem_hqc-rmrs-128_clean_speed.bin\n",
      "  OBJCOPY bin/mupq_pqclean_crypto_kem_hqc-rmrs-128_clean_test.bin\n",
      "  OBJCOPY bin/mupq_pqclean_crypto_kem_hqc-rmrs-128_clean_hashing.bin\n",
      "  OBJCOPY bin/mupq_pqclean_crypto_kem_hqc-rmrs-128_clean_stack.bin\n",
      "  OBJCOPY bin/mupq_pqclean_crypto_kem_hqc-rmrs-128_clean_testvectors.bin\n",
      "  OBJCOPY bin/mupq_pqclean_crypto_kem_kyber512-90s_clean_test.bin\n",
      "  OBJCOPY bin/mupq_pqclean_crypto_kem_kyber512-90s_clean_speed.bin\n",
      "  OBJCOPY bin/mupq_pqclean_crypto_kem_kyber512-90s_clean_hashing.bin\n",
      "  OBJCOPY bin/mupq_pqclean_crypto_kem_kyber512-90s_clean_stack.bin\n",
      "  OBJCOPY bin/mupq_pqclean_crypto_kem_kyber512-90s_clean_testvectors.bin\n",
      "  OBJCOPY bin/mupq_pqclean_crypto_kem_hqc-rmrs-256_clean_test.bin\n",
      "  OBJCOPY bin/mupq_pqclean_crypto_kem_hqc-rmrs-256_clean_speed.bin\n",
      "  OBJCOPY bin/mupq_pqclean_crypto_kem_hqc-rmrs-256_clean_hashing.bin\n",
      "  OBJCOPY bin/mupq_pqclean_crypto_kem_hqc-rmrs-256_clean_stack.bin\n",
      "  OBJCOPY bin/mupq_pqclean_crypto_kem_hqc-rmrs-256_clean_testvectors.bin\n",
      "  OBJCOPY bin/mupq_pqclean_crypto_kem_kyber1024_clean_test.bin\n",
      "  OBJCOPY bin/mupq_pqclean_crypto_kem_kyber1024_clean_speed.bin\n",
      "  OBJCOPY bin/mupq_pqclean_crypto_kem_kyber1024_clean_hashing.bin\n",
      "  OBJCOPY bin/mupq_pqclean_crypto_kem_kyber1024_clean_stack.bin\n",
      "  OBJCOPY bin/mupq_pqclean_crypto_kem_kyber1024_clean_testvectors.bin\n",
      "  OBJCOPY bin/mupq_pqclean_crypto_kem_kyber768-90s_clean_test.bin\n",
      "  OBJCOPY bin/mupq_pqclean_crypto_kem_kyber768-90s_clean_speed.bin\n",
      "  OBJCOPY bin/mupq_pqclean_crypto_kem_kyber768-90s_clean_hashing.bin\n",
      "  OBJCOPY bin/mupq_pqclean_crypto_kem_kyber768-90s_clean_stack.bin\n",
      "  OBJCOPY bin/mupq_pqclean_crypto_kem_kyber768-90s_clean_testvectors.bin\n",
      "  OBJCOPY bin/mupq_pqclean_crypto_kem_kyber768_clean_speed.bin\n",
      "  OBJCOPY bin/mupq_pqclean_crypto_kem_kyber768_clean_test.bin\n",
      "  OBJCOPY bin/mupq_pqclean_crypto_kem_kyber768_clean_hashing.bin\n",
      "  OBJCOPY bin/mupq_pqclean_crypto_kem_kyber768_clean_stack.bin\n",
      "  OBJCOPY bin/mupq_pqclean_crypto_kem_kyber768_clean_testvectors.bin\n",
      "  OBJCOPY bin/crypto_sign_dilithium5_m4f_test.bin\n",
      "  OBJCOPY bin/crypto_sign_dilithium5_m4f_speed.bin\n",
      "  OBJCOPY bin/crypto_sign_dilithium5_m4f_hashing.bin\n",
      "  OBJCOPY bin/crypto_sign_dilithium5_m4f_stack.bin\n",
      "  OBJCOPY bin/crypto_sign_dilithium5_m4f_testvectors.bin\n",
      "  OBJCOPY bin/crypto_sign_dilithium3_m4f_test.bin\n",
      "  OBJCOPY bin/crypto_sign_dilithium3_m4f_speed.bin\n",
      "  OBJCOPY bin/crypto_sign_dilithium3_m4f_hashing.bin\n",
      "  OBJCOPY bin/crypto_sign_dilithium3_m4f_stack.bin\n",
      "  OBJCOPY bin/crypto_sign_dilithium3_m4f_testvectors.bin\n",
      "  OBJCOPY bin/crypto_sign_dilithium2_m4f_test.bin\n",
      "  OBJCOPY bin/crypto_sign_dilithium2_m4f_hashing.bin\n",
      "  OBJCOPY bin/crypto_sign_dilithium2_m4f_speed.bin\n",
      "  OBJCOPY bin/crypto_sign_dilithium2_m4f_stack.bin\n",
      "  OBJCOPY bin/crypto_sign_dilithium2_m4f_testvectors.bin\n"
     ]
    },
    {
     "name": "stdout",
     "output_type": "stream",
     "text": [
      "  OBJCOPY bin/mupq_pqclean_crypto_sign_sphincs-haraka-192s-robust_clean_test.bin\n",
      "  OBJCOPY bin/mupq_pqclean_crypto_sign_sphincs-haraka-192s-robust_clean_speed.bin\n",
      "  OBJCOPY bin/mupq_pqclean_crypto_sign_sphincs-haraka-192s-robust_clean_hashing.bin\n",
      "  OBJCOPY bin/mupq_pqclean_crypto_sign_sphincs-haraka-192s-robust_clean_stack.bin\n",
      "  OBJCOPY bin/mupq_pqclean_crypto_sign_sphincs-haraka-192s-robust_clean_testvectors.bin\n",
      "  OBJCOPY bin/mupq_pqclean_crypto_sign_falcon-1024_clean_test.bin\n",
      "  OBJCOPY bin/mupq_pqclean_crypto_sign_falcon-1024_clean_speed.bin\n",
      "  OBJCOPY bin/mupq_pqclean_crypto_sign_falcon-1024_clean_hashing.bin\n",
      "  OBJCOPY bin/mupq_pqclean_crypto_sign_falcon-1024_clean_stack.bin\n",
      "  OBJCOPY bin/mupq_pqclean_crypto_sign_falcon-1024_clean_testvectors.bin\n",
      "  OBJCOPY bin/mupq_pqclean_crypto_sign_sphincs-shake256-256s-simple_clean_test.bin\n",
      "  OBJCOPY bin/mupq_pqclean_crypto_sign_sphincs-shake256-256s-simple_clean_hashing.bin\n",
      "  OBJCOPY bin/mupq_pqclean_crypto_sign_sphincs-shake256-256s-simple_clean_speed.bin\n",
      "  OBJCOPY bin/mupq_pqclean_crypto_sign_sphincs-shake256-256s-simple_clean_stack.bin\n",
      "  OBJCOPY bin/mupq_pqclean_crypto_sign_sphincs-shake256-256s-simple_clean_testvectors.bin\n",
      "  OBJCOPY bin/mupq_pqclean_crypto_sign_sphincs-haraka-128f-robust_clean_test.bin\n",
      "  OBJCOPY bin/mupq_pqclean_crypto_sign_sphincs-haraka-128f-robust_clean_speed.bin\n",
      "  OBJCOPY bin/mupq_pqclean_crypto_sign_sphincs-haraka-128f-robust_clean_hashing.bin\n",
      "  OBJCOPY bin/mupq_pqclean_crypto_sign_sphincs-haraka-128f-robust_clean_stack.bin\n",
      "  OBJCOPY bin/mupq_pqclean_crypto_sign_sphincs-haraka-128s-robust_clean_test.bin\n",
      "  OBJCOPY bin/mupq_pqclean_crypto_sign_sphincs-haraka-128f-robust_clean_testvectors.bin\n",
      "  OBJCOPY bin/mupq_pqclean_crypto_sign_sphincs-haraka-128s-robust_clean_speed.bin\n",
      "  OBJCOPY bin/mupq_pqclean_crypto_sign_sphincs-haraka-128s-robust_clean_hashing.bin\n",
      "  OBJCOPY bin/mupq_pqclean_crypto_sign_sphincs-haraka-128s-robust_clean_stack.bin\n",
      "  OBJCOPY bin/mupq_pqclean_crypto_sign_sphincs-haraka-128s-robust_clean_testvectors.bin\n",
      "  OBJCOPY bin/mupq_pqclean_crypto_sign_sphincs-sha256-128s-simple_clean_test.bin\n",
      "  OBJCOPY bin/mupq_pqclean_crypto_sign_sphincs-sha256-128s-simple_clean_speed.bin\n",
      "  OBJCOPY bin/mupq_pqclean_crypto_sign_sphincs-sha256-128s-simple_clean_hashing.bin\n",
      "  OBJCOPY bin/mupq_pqclean_crypto_sign_sphincs-sha256-128s-simple_clean_stack.bin\n",
      "  OBJCOPY bin/mupq_pqclean_crypto_sign_sphincs-sha256-128s-simple_clean_testvectors.bin\n",
      "  OBJCOPY bin/mupq_pqclean_crypto_sign_dilithium5_clean_test.bin\n",
      "  OBJCOPY bin/mupq_pqclean_crypto_sign_dilithium5_clean_hashing.bin\n",
      "  OBJCOPY bin/mupq_pqclean_crypto_sign_dilithium5_clean_speed.bin\n",
      "  OBJCOPY bin/mupq_pqclean_crypto_sign_dilithium5_clean_stack.bin\n",
      "  OBJCOPY bin/mupq_pqclean_crypto_sign_dilithium5_clean_testvectors.bin\n",
      "  OBJCOPY bin/mupq_pqclean_crypto_sign_sphincs-sha256-192s-simple_clean_test.bin\n",
      "  OBJCOPY bin/mupq_pqclean_crypto_sign_sphincs-sha256-192s-simple_clean_speed.bin\n",
      "  OBJCOPY bin/mupq_pqclean_crypto_sign_sphincs-sha256-192s-simple_clean_hashing.bin\n",
      "  OBJCOPY bin/mupq_pqclean_crypto_sign_sphincs-sha256-192s-simple_clean_stack.bin\n",
      "  OBJCOPY bin/mupq_pqclean_crypto_sign_sphincs-sha256-192s-simple_clean_testvectors.bin\n",
      "  OBJCOPY bin/mupq_pqclean_crypto_sign_falcon-512_clean_test.bin\n",
      "  OBJCOPY bin/mupq_pqclean_crypto_sign_falcon-512_clean_speed.bin\n",
      "  OBJCOPY bin/mupq_pqclean_crypto_sign_falcon-512_clean_hashing.bin\n",
      "  OBJCOPY bin/mupq_pqclean_crypto_sign_falcon-512_clean_stack.bin\n",
      "  OBJCOPY bin/mupq_pqclean_crypto_sign_falcon-512_clean_testvectors.bin\n",
      "  OBJCOPY bin/mupq_pqclean_crypto_sign_sphincs-sha256-192s-robust_clean_test.bin\n",
      "  OBJCOPY bin/mupq_pqclean_crypto_sign_sphincs-sha256-192s-robust_clean_speed.bin\n",
      "  OBJCOPY bin/mupq_pqclean_crypto_sign_sphincs-sha256-192s-robust_clean_hashing.bin\n",
      "  OBJCOPY bin/mupq_pqclean_crypto_sign_sphincs-sha256-192s-robust_clean_stack.bin\n",
      "  OBJCOPY bin/mupq_pqclean_crypto_sign_sphincs-sha256-192s-robust_clean_testvectors.bin\n",
      "  OBJCOPY bin/mupq_pqclean_crypto_sign_sphincs-sha256-128f-robust_clean_test.bin\n",
      "  OBJCOPY bin/mupq_pqclean_crypto_sign_sphincs-sha256-128f-robust_clean_speed.bin\n",
      "  OBJCOPY bin/mupq_pqclean_crypto_sign_sphincs-sha256-128f-robust_clean_hashing.bin\n",
      "  OBJCOPY bin/mupq_pqclean_crypto_sign_sphincs-sha256-128f-robust_clean_stack.bin\n",
      "  OBJCOPY bin/mupq_pqclean_crypto_sign_sphincs-sha256-128f-robust_clean_testvectors.bin\n",
      "  OBJCOPY bin/mupq_pqclean_crypto_sign_sphincs-shake256-128s-robust_clean_test.bin\n",
      "  OBJCOPY bin/mupq_pqclean_crypto_sign_sphincs-shake256-128s-robust_clean_speed.bin\n",
      "  OBJCOPY bin/mupq_pqclean_crypto_sign_sphincs-shake256-128s-robust_clean_hashing.bin\n",
      "  OBJCOPY bin/mupq_pqclean_crypto_sign_sphincs-shake256-128s-robust_clean_testvectors.bin\n",
      "  OBJCOPY bin/mupq_pqclean_crypto_sign_sphincs-shake256-128s-robust_clean_stack.bin\n",
      "  OBJCOPY bin/mupq_pqclean_crypto_sign_sphincs-shake256-128s-simple_clean_test.bin\n",
      "  OBJCOPY bin/mupq_pqclean_crypto_sign_sphincs-shake256-128s-simple_clean_speed.bin\n",
      "  OBJCOPY bin/mupq_pqclean_crypto_sign_sphincs-shake256-128s-simple_clean_hashing.bin\n",
      "  OBJCOPY bin/mupq_pqclean_crypto_sign_sphincs-shake256-128s-simple_clean_stack.bin\n",
      "  OBJCOPY bin/mupq_pqclean_crypto_sign_sphincs-shake256-128s-simple_clean_testvectors.bin\n",
      "  OBJCOPY bin/mupq_pqclean_crypto_sign_sphincs-haraka-192f-robust_clean_test.bin\n",
      "  OBJCOPY bin/mupq_pqclean_crypto_sign_sphincs-haraka-192f-robust_clean_speed.bin\n",
      "  OBJCOPY bin/mupq_pqclean_crypto_sign_sphincs-haraka-192f-robust_clean_stack.bin\n",
      "  OBJCOPY bin/mupq_pqclean_crypto_sign_sphincs-haraka-192f-robust_clean_hashing.bin\n",
      "  OBJCOPY bin/mupq_pqclean_crypto_sign_sphincs-haraka-192f-robust_clean_testvectors.bin\n",
      "  OBJCOPY bin/mupq_pqclean_crypto_sign_sphincs-sha256-256s-simple_clean_test.bin\n",
      "  OBJCOPY bin/mupq_pqclean_crypto_sign_sphincs-sha256-256s-simple_clean_speed.bin\n",
      "  OBJCOPY bin/mupq_pqclean_crypto_sign_sphincs-sha256-256s-simple_clean_hashing.bin\n",
      "  OBJCOPY bin/mupq_pqclean_crypto_sign_sphincs-sha256-256s-simple_clean_stack.bin\n",
      "  OBJCOPY bin/mupq_pqclean_crypto_sign_sphincs-sha256-256s-simple_clean_testvectors.bin\n",
      "  OBJCOPY bin/mupq_pqclean_crypto_sign_sphincs-sha256-256s-robust_clean_test.bin\n",
      "  OBJCOPY bin/mupq_pqclean_crypto_sign_sphincs-sha256-256s-robust_clean_speed.bin\n",
      "  OBJCOPY bin/mupq_pqclean_crypto_sign_sphincs-sha256-256s-robust_clean_hashing.bin\n",
      "  OBJCOPY bin/mupq_pqclean_crypto_sign_sphincs-sha256-256s-robust_clean_stack.bin\n",
      "  OBJCOPY bin/mupq_pqclean_crypto_sign_sphincs-sha256-256s-robust_clean_testvectors.bin\n",
      "  OBJCOPY bin/mupq_pqclean_crypto_sign_sphincs-sha256-192f-simple_clean_speed.bin\n",
      "  OBJCOPY bin/mupq_pqclean_crypto_sign_sphincs-sha256-192f-simple_clean_test.bin\n",
      "  OBJCOPY bin/mupq_pqclean_crypto_sign_sphincs-sha256-192f-simple_clean_hashing.bin\n",
      "  OBJCOPY bin/mupq_pqclean_crypto_sign_sphincs-sha256-192f-simple_clean_stack.bin\n",
      "  OBJCOPY bin/mupq_pqclean_crypto_sign_sphincs-sha256-192f-simple_clean_testvectors.bin\n",
      "  OBJCOPY bin/mupq_pqclean_crypto_sign_sphincs-shake256-192s-simple_clean_test.bin\n",
      "  OBJCOPY bin/mupq_pqclean_crypto_sign_sphincs-shake256-192s-simple_clean_speed.bin\n",
      "  OBJCOPY bin/mupq_pqclean_crypto_sign_sphincs-shake256-192s-simple_clean_hashing.bin\n",
      "  OBJCOPY bin/mupq_pqclean_crypto_sign_sphincs-shake256-192s-simple_clean_stack.bin\n",
      "  OBJCOPY bin/mupq_pqclean_crypto_sign_sphincs-shake256-192s-simple_clean_testvectors.bin\n",
      "  OBJCOPY bin/mupq_pqclean_crypto_sign_dilithium5aes_clean_test.bin\n",
      "  OBJCOPY bin/mupq_pqclean_crypto_sign_dilithium5aes_clean_speed.bin\n",
      "  OBJCOPY bin/mupq_pqclean_crypto_sign_dilithium5aes_clean_hashing.bin\n",
      "  OBJCOPY bin/mupq_pqclean_crypto_sign_dilithium5aes_clean_stack.bin\n",
      "  OBJCOPY bin/mupq_pqclean_crypto_sign_dilithium5aes_clean_testvectors.bin\n",
      "  OBJCOPY bin/mupq_pqclean_crypto_sign_dilithium3_clean_speed.bin\n",
      "  OBJCOPY bin/mupq_pqclean_crypto_sign_dilithium3_clean_test.bin\n",
      "  OBJCOPY bin/mupq_pqclean_crypto_sign_dilithium3_clean_hashing.bin\n",
      "  OBJCOPY bin/mupq_pqclean_crypto_sign_dilithium3_clean_stack.bin\n",
      "  OBJCOPY bin/mupq_pqclean_crypto_sign_dilithium3_clean_testvectors.bin\n",
      "  OBJCOPY bin/mupq_pqclean_crypto_sign_sphincs-sha256-128f-simple_clean_test.bin\n",
      "  OBJCOPY bin/mupq_pqclean_crypto_sign_sphincs-sha256-128f-simple_clean_speed.bin\n",
      "  OBJCOPY bin/mupq_pqclean_crypto_sign_sphincs-sha256-128f-simple_clean_hashing.bin\n"
     ]
    },
    {
     "name": "stdout",
     "output_type": "stream",
     "text": [
      "  OBJCOPY bin/mupq_pqclean_crypto_sign_sphincs-sha256-128f-simple_clean_stack.bin\n",
      "  OBJCOPY bin/mupq_pqclean_crypto_sign_sphincs-sha256-128f-simple_clean_testvectors.bin\n",
      "  OBJCOPY bin/mupq_pqclean_crypto_sign_sphincs-shake256-256s-robust_clean_test.bin\n",
      "  OBJCOPY bin/mupq_pqclean_crypto_sign_sphincs-shake256-256s-robust_clean_speed.bin\n",
      "  OBJCOPY bin/mupq_pqclean_crypto_sign_sphincs-shake256-256s-robust_clean_hashing.bin\n",
      "  OBJCOPY bin/mupq_pqclean_crypto_sign_sphincs-shake256-256s-robust_clean_stack.bin\n",
      "  OBJCOPY bin/mupq_pqclean_crypto_sign_sphincs-shake256-256s-robust_clean_testvectors.bin\n",
      "  OBJCOPY bin/mupq_pqclean_crypto_sign_sphincs-haraka-192f-simple_clean_test.bin\n",
      "  OBJCOPY bin/mupq_pqclean_crypto_sign_sphincs-haraka-192f-simple_clean_speed.bin\n",
      "  OBJCOPY bin/mupq_pqclean_crypto_sign_sphincs-haraka-192f-simple_clean_hashing.bin\n",
      "  OBJCOPY bin/mupq_pqclean_crypto_sign_sphincs-haraka-192f-simple_clean_stack.bin\n",
      "  OBJCOPY bin/mupq_pqclean_crypto_sign_sphincs-haraka-192f-simple_clean_testvectors.bin\n",
      "  OBJCOPY bin/mupq_pqclean_crypto_sign_dilithium2aes_clean_test.bin\n",
      "  OBJCOPY bin/mupq_pqclean_crypto_sign_dilithium2aes_clean_hashing.bin\n",
      "  OBJCOPY bin/mupq_pqclean_crypto_sign_dilithium2aes_clean_speed.bin\n",
      "  OBJCOPY bin/mupq_pqclean_crypto_sign_dilithium2aes_clean_stack.bin\n",
      "  OBJCOPY bin/mupq_pqclean_crypto_sign_dilithium2aes_clean_testvectors.bin\n",
      "  OBJCOPY bin/mupq_pqclean_crypto_sign_sphincs-shake256-192f-simple_clean_test.bin\n",
      "  OBJCOPY bin/mupq_pqclean_crypto_sign_sphincs-shake256-192f-simple_clean_speed.bin\n",
      "  OBJCOPY bin/mupq_pqclean_crypto_sign_sphincs-shake256-192f-simple_clean_hashing.bin\n",
      "  OBJCOPY bin/mupq_pqclean_crypto_sign_sphincs-shake256-192f-simple_clean_stack.bin\n",
      "  OBJCOPY bin/mupq_pqclean_crypto_sign_sphincs-shake256-192f-simple_clean_testvectors.bin\n",
      "  OBJCOPY bin/mupq_pqclean_crypto_sign_sphincs-shake256-192s-robust_clean_test.bin\n",
      "  OBJCOPY bin/mupq_pqclean_crypto_sign_sphincs-shake256-192s-robust_clean_speed.bin\n",
      "  OBJCOPY bin/mupq_pqclean_crypto_sign_sphincs-shake256-192s-robust_clean_hashing.bin\n",
      "  OBJCOPY bin/mupq_pqclean_crypto_sign_sphincs-shake256-192s-robust_clean_stack.bin\n",
      "  OBJCOPY bin/mupq_pqclean_crypto_sign_sphincs-shake256-192s-robust_clean_testvectors.bin\n",
      "  OBJCOPY bin/mupq_pqclean_crypto_sign_dilithium2_clean_test.bin\n",
      "  OBJCOPY bin/mupq_pqclean_crypto_sign_dilithium2_clean_hashing.bin\n",
      "  OBJCOPY bin/mupq_pqclean_crypto_sign_dilithium2_clean_speed.bin\n",
      "  OBJCOPY bin/mupq_pqclean_crypto_sign_dilithium2_clean_stack.bin\n",
      "  OBJCOPY bin/mupq_pqclean_crypto_sign_dilithium2_clean_testvectors.bin\n",
      "  OBJCOPY bin/mupq_pqclean_crypto_sign_sphincs-sha256-192f-robust_clean_test.bin\n",
      "  OBJCOPY bin/mupq_pqclean_crypto_sign_sphincs-sha256-192f-robust_clean_speed.bin\n",
      "  OBJCOPY bin/mupq_pqclean_crypto_sign_sphincs-sha256-192f-robust_clean_hashing.bin\n",
      "  OBJCOPY bin/mupq_pqclean_crypto_sign_sphincs-sha256-192f-robust_clean_stack.bin\n",
      "  OBJCOPY bin/mupq_pqclean_crypto_sign_sphincs-sha256-192f-robust_clean_testvectors.bin\n",
      "  OBJCOPY bin/mupq_pqclean_crypto_sign_sphincs-haraka-128f-simple_clean_test.bin\n",
      "  OBJCOPY bin/mupq_pqclean_crypto_sign_sphincs-haraka-128f-simple_clean_speed.bin\n",
      "  OBJCOPY bin/mupq_pqclean_crypto_sign_sphincs-haraka-128f-simple_clean_hashing.bin\n",
      "  OBJCOPY bin/mupq_pqclean_crypto_sign_sphincs-haraka-128f-simple_clean_stack.bin\n",
      "  OBJCOPY bin/mupq_pqclean_crypto_sign_sphincs-haraka-128f-simple_clean_testvectors.bin\n",
      "  OBJCOPY bin/mupq_pqclean_crypto_sign_sphincs-haraka-192s-simple_clean_test.bin\n",
      "  OBJCOPY bin/mupq_pqclean_crypto_sign_sphincs-haraka-192s-simple_clean_hashing.bin\n",
      "  OBJCOPY bin/mupq_pqclean_crypto_sign_sphincs-haraka-192s-simple_clean_speed.bin\n",
      "  OBJCOPY bin/mupq_pqclean_crypto_sign_sphincs-haraka-192s-simple_clean_stack.bin\n",
      "  OBJCOPY bin/mupq_pqclean_crypto_sign_sphincs-haraka-192s-simple_clean_testvectors.bin\n",
      "  OBJCOPY bin/mupq_pqclean_crypto_sign_sphincs-haraka-256s-robust_clean_test.bin\n",
      "  OBJCOPY bin/mupq_pqclean_crypto_sign_sphincs-haraka-256s-robust_clean_speed.bin\n",
      "  OBJCOPY bin/mupq_pqclean_crypto_sign_sphincs-haraka-256s-robust_clean_hashing.bin\n",
      "  OBJCOPY bin/mupq_pqclean_crypto_sign_sphincs-haraka-256s-robust_clean_stack.bin\n",
      "  OBJCOPY bin/mupq_pqclean_crypto_sign_sphincs-shake256-192f-robust_clean_test.bin\n",
      "  OBJCOPY bin/mupq_pqclean_crypto_sign_sphincs-haraka-256s-robust_clean_testvectors.bin\n",
      "  OBJCOPY bin/mupq_pqclean_crypto_sign_sphincs-shake256-192f-robust_clean_speed.bin\n",
      "  OBJCOPY bin/mupq_pqclean_crypto_sign_sphincs-shake256-192f-robust_clean_hashing.bin\n",
      "  OBJCOPY bin/mupq_pqclean_crypto_sign_sphincs-shake256-192f-robust_clean_stack.bin\n",
      "  OBJCOPY bin/mupq_pqclean_crypto_sign_sphincs-shake256-192f-robust_clean_testvectors.bin\n",
      "  OBJCOPY bin/mupq_pqclean_crypto_sign_dilithium3aes_clean_speed.bin\n",
      "  OBJCOPY bin/mupq_pqclean_crypto_sign_dilithium3aes_clean_test.bin\n",
      "  OBJCOPY bin/mupq_pqclean_crypto_sign_dilithium3aes_clean_hashing.bin\n",
      "  OBJCOPY bin/mupq_pqclean_crypto_sign_dilithium3aes_clean_stack.bin\n",
      "  OBJCOPY bin/mupq_pqclean_crypto_sign_dilithium3aes_clean_testvectors.bin\n",
      "  OBJCOPY bin/mupq_pqclean_crypto_sign_sphincs-sha256-128s-robust_clean_test.bin\n",
      "  OBJCOPY bin/mupq_pqclean_crypto_sign_sphincs-sha256-128s-robust_clean_speed.bin\n",
      "  OBJCOPY bin/mupq_pqclean_crypto_sign_sphincs-sha256-128s-robust_clean_hashing.bin\n",
      "  OBJCOPY bin/mupq_pqclean_crypto_sign_sphincs-sha256-128s-robust_clean_stack.bin\n",
      "  OBJCOPY bin/mupq_pqclean_crypto_sign_sphincs-shake256-128f-robust_clean_test.bin\n",
      "  OBJCOPY bin/mupq_pqclean_crypto_sign_sphincs-sha256-128s-robust_clean_testvectors.bin\n",
      "  OBJCOPY bin/mupq_pqclean_crypto_sign_sphincs-shake256-128f-robust_clean_speed.bin\n",
      "  OBJCOPY bin/mupq_pqclean_crypto_sign_sphincs-shake256-128f-robust_clean_hashing.bin\n",
      "  OBJCOPY bin/mupq_pqclean_crypto_sign_sphincs-shake256-128f-robust_clean_stack.bin\n",
      "  OBJCOPY bin/mupq_pqclean_crypto_sign_sphincs-shake256-128f-robust_clean_testvectors.bin\n",
      "  OBJCOPY bin/mupq_pqclean_crypto_sign_sphincs-haraka-128s-simple_clean_test.bin\n",
      "  OBJCOPY bin/mupq_pqclean_crypto_sign_sphincs-haraka-128s-simple_clean_speed.bin\n",
      "  OBJCOPY bin/mupq_pqclean_crypto_sign_sphincs-haraka-128s-simple_clean_hashing.bin\n",
      "  OBJCOPY bin/mupq_pqclean_crypto_sign_sphincs-haraka-128s-simple_clean_stack.bin\n",
      "  OBJCOPY bin/mupq_pqclean_crypto_sign_sphincs-haraka-128s-simple_clean_testvectors.bin\n",
      "  OBJCOPY bin/mupq_pqclean_crypto_sign_sphincs-shake256-128f-simple_clean_speed.bin\n",
      "  OBJCOPY bin/mupq_pqclean_crypto_sign_sphincs-shake256-128f-simple_clean_test.bin\n",
      "  OBJCOPY bin/mupq_pqclean_crypto_sign_sphincs-shake256-128f-simple_clean_hashing.bin\n",
      "  OBJCOPY bin/mupq_pqclean_crypto_sign_sphincs-shake256-128f-simple_clean_stack.bin\n",
      "  OBJCOPY bin/mupq_pqclean_crypto_sign_sphincs-shake256-128f-simple_clean_testvectors.bin\n",
      "  OBJCOPY bin/mupq_pqclean_crypto_sign_sphincs-haraka-256s-simple_clean_test.bin\n",
      "  OBJCOPY bin/mupq_pqclean_crypto_sign_sphincs-haraka-256s-simple_clean_speed.bin\n",
      "  OBJCOPY bin/mupq_pqclean_crypto_sign_sphincs-haraka-256s-simple_clean_hashing.bin\n",
      "  OBJCOPY bin/mupq_pqclean_crypto_sign_sphincs-haraka-256s-simple_clean_stack.bin\n",
      "  OBJCOPY bin/boardtest.bin\n",
      "  OBJCOPY bin/mupq_pqclean_crypto_sign_sphincs-haraka-256s-simple_clean_testvectors.bin\n",
      "  OBJCOPY bin/aestest.bin\n"
     ]
    }
   ],
   "source": [
    "%%bash\n",
    "cd pqm4/\n",
    "make -j4 PLATFORM=cw308t-stm32f3"
   ]
  },
  {
   "cell_type": "code",
   "execution_count": null,
   "id": "1ac58177",
   "metadata": {},
   "outputs": [],
   "source": [
    "%run testvectors.py kyber512 -p cw308t-stm32f3"
   ]
  },
  {
   "cell_type": "markdown",
   "id": "806197e8",
   "metadata": {
    "scrolled": true
   },
   "source": [
    "Compile egen kode i firmware mappa:"
   ]
  },
  {
   "cell_type": "code",
   "execution_count": 19,
   "id": "f5ca2f07",
   "metadata": {},
   "outputs": [],
   "source": [
    "import chipwhisperer as cw\n",
    "scope = cw.scope()\n",
    "target = cw.target(scope, cw.targets.SimpleSerial) #cw.targets.SimpleSerial can be omitted\n",
    "scope.default_setup()"
   ]
  },
  {
   "cell_type": "code",
   "execution_count": 21,
   "id": "b4ee5b57",
   "metadata": {},
   "outputs": [
    {
     "name": "stdout",
     "output_type": "stream",
     "text": [
      "SS_VER set to SS_VER_1_1\n"
     ]
    },
    {
     "name": "stderr",
     "output_type": "stream",
     "text": [
      "error: pathspec '/home/vagrant/work/projects/chipwhisperer/hardware/victims/firmware/simpleserial-kyber512/libopencm3' did not match any file(s) known to git\n",
      "../../../../master/pqm4/mk/opencm3.mk:23: no DEVICE specified for linker script generator\n",
      "make: /home/vagrant/work/projects/chipwhisperer/hardware/victims/firmware/simpleserial-kyber512/libopencm3/scripts/genlink.py: No such file or directory\n",
      "make: /home/vagrant/work/projects/chipwhisperer/hardware/victims/firmware/simpleserial-kyber512/libopencm3/scripts/genlink.py: No such file or directory\n",
      "make: /home/vagrant/work/projects/chipwhisperer/hardware/victims/firmware/simpleserial-kyber512/libopencm3/scripts/genlink.py: No such file or directory\n",
      "make: /home/vagrant/work/projects/chipwhisperer/hardware/victims/firmware/simpleserial-kyber512/libopencm3/scripts/genlink.py: No such file or directory\n",
      "make: /home/vagrant/work/projects/chipwhisperer/hardware/victims/firmware/simpleserial-kyber512/libopencm3/scripts/genlink.py: No such file or directory\n",
      "../../../../master/pqm4/mk/opencm3.mk:35:  not found in /home/vagrant/work/projects/chipwhisperer/hardware/victims/firmware/simpleserial-kyber512/libopencm3/ld/devices.data\n",
      "../../../../master/pqm4/mk/opencm3.mk:52: No match for the FPU flags\n"
     ]
    },
    {
     "name": "stdout",
     "output_type": "stream",
     "text": [
      ".\n",
      "Compiling C: simpleserial-kyber512.c\n",
      "arm-none-eabi-gcc -c -mcpu=cortex-m4 -I. -mcpu= -mthumb  -mthumb -mfloat-abi=soft -fmessage-length=0 -ffunction-sections -gdwarf-2 -DSS_VER=SS_VER_1_1 -DSTM32F303xC -DSTM32F3 -DSTM32 -DDEBUG -DHAL_TYPE=HAL_stm32f3 -DPLATFORM=CW308_STM32F3 -DF_CPU=7372800UL -DSS_VER_2_0=2 -DSS_VER_2_1=3 -DSS_VER_1_1=1 -DSS_VER_1_0=0 -Os -funsigned-char -funsigned-bitfields -fshort-enums -Wall -Wstrict-prototypes -Wa,-adhlns=objdir-CW308_STM32F3/simpleserial-kyber512.lst -I.././simpleserial/ -I.././hal -I.././hal/stm32f3 -I.././hal/stm32f3/CMSIS -I.././hal/stm32f3/CMSIS/core -I.././hal/stm32f3/CMSIS/device -I.././hal/stm32f4/Legacy -I.././crypto/ -std=gnu99  -MMD -MP -MF .dep/simpleserial-kyber512.o.d simpleserial-kyber512.c -o objdir-CW308_STM32F3/simpleserial-kyber512.o\n"
     ]
    },
    {
     "name": "stderr",
     "output_type": "stream",
     "text": [
      "arm-none-eabi-gcc: error: missing argument to '-mcpu='\n",
      "make: *** [.././Makefile.inc:477: objdir-CW308_STM32F3/simpleserial-kyber512.o] Error 1\n"
     ]
    },
    {
     "ename": "CalledProcessError",
     "evalue": "Command 'b'cd ../hardware/victims/firmware/simpleserial-kyber512/\\nmake PLATFORM=CW308_STM32F3 CRYPTO_TARGET=NONE\\n'' returned non-zero exit status 2.",
     "output_type": "error",
     "traceback": [
      "\u001b[0;31m---------------------------------------------------------------------------\u001b[0m",
      "\u001b[0;31mCalledProcessError\u001b[0m                        Traceback (most recent call last)",
      "Input \u001b[0;32mIn [21]\u001b[0m, in \u001b[0;36m<cell line: 1>\u001b[0;34m()\u001b[0m\n\u001b[0;32m----> 1\u001b[0m \u001b[43mget_ipython\u001b[49m\u001b[43m(\u001b[49m\u001b[43m)\u001b[49m\u001b[38;5;241;43m.\u001b[39;49m\u001b[43mrun_cell_magic\u001b[49m\u001b[43m(\u001b[49m\u001b[38;5;124;43m'\u001b[39;49m\u001b[38;5;124;43mbash\u001b[39;49m\u001b[38;5;124;43m'\u001b[39;49m\u001b[43m,\u001b[49m\u001b[43m \u001b[49m\u001b[38;5;124;43m'\u001b[39;49m\u001b[38;5;124;43m'\u001b[39;49m\u001b[43m,\u001b[49m\u001b[43m \u001b[49m\u001b[38;5;124;43m'\u001b[39;49m\u001b[38;5;124;43mcd ../hardware/victims/firmware/simpleserial-kyber512/\u001b[39;49m\u001b[38;5;130;43;01m\\n\u001b[39;49;00m\u001b[38;5;124;43mmake PLATFORM=CW308_STM32F3 CRYPTO_TARGET=NONE\u001b[39;49m\u001b[38;5;130;43;01m\\n\u001b[39;49;00m\u001b[38;5;124;43m'\u001b[39;49m\u001b[43m)\u001b[49m\n",
      "File \u001b[0;32m~/.pyenv/versions/3.9.7/envs/cw/lib/python3.9/site-packages/IPython/core/interactiveshell.py:2358\u001b[0m, in \u001b[0;36mInteractiveShell.run_cell_magic\u001b[0;34m(self, magic_name, line, cell)\u001b[0m\n\u001b[1;32m   2356\u001b[0m \u001b[38;5;28;01mwith\u001b[39;00m \u001b[38;5;28mself\u001b[39m\u001b[38;5;241m.\u001b[39mbuiltin_trap:\n\u001b[1;32m   2357\u001b[0m     args \u001b[38;5;241m=\u001b[39m (magic_arg_s, cell)\n\u001b[0;32m-> 2358\u001b[0m     result \u001b[38;5;241m=\u001b[39m \u001b[43mfn\u001b[49m\u001b[43m(\u001b[49m\u001b[38;5;241;43m*\u001b[39;49m\u001b[43margs\u001b[49m\u001b[43m,\u001b[49m\u001b[43m \u001b[49m\u001b[38;5;241;43m*\u001b[39;49m\u001b[38;5;241;43m*\u001b[39;49m\u001b[43mkwargs\u001b[49m\u001b[43m)\u001b[49m\n\u001b[1;32m   2359\u001b[0m \u001b[38;5;28;01mreturn\u001b[39;00m result\n",
      "File \u001b[0;32m~/.pyenv/versions/3.9.7/envs/cw/lib/python3.9/site-packages/IPython/core/magics/script.py:153\u001b[0m, in \u001b[0;36mScriptMagics._make_script_magic.<locals>.named_script_magic\u001b[0;34m(line, cell)\u001b[0m\n\u001b[1;32m    151\u001b[0m \u001b[38;5;28;01melse\u001b[39;00m:\n\u001b[1;32m    152\u001b[0m     line \u001b[38;5;241m=\u001b[39m script\n\u001b[0;32m--> 153\u001b[0m \u001b[38;5;28;01mreturn\u001b[39;00m \u001b[38;5;28;43mself\u001b[39;49m\u001b[38;5;241;43m.\u001b[39;49m\u001b[43mshebang\u001b[49m\u001b[43m(\u001b[49m\u001b[43mline\u001b[49m\u001b[43m,\u001b[49m\u001b[43m \u001b[49m\u001b[43mcell\u001b[49m\u001b[43m)\u001b[49m\n",
      "File \u001b[0;32m~/.pyenv/versions/3.9.7/envs/cw/lib/python3.9/site-packages/IPython/core/magics/script.py:305\u001b[0m, in \u001b[0;36mScriptMagics.shebang\u001b[0;34m(self, line, cell)\u001b[0m\n\u001b[1;32m    300\u001b[0m \u001b[38;5;28;01mif\u001b[39;00m args\u001b[38;5;241m.\u001b[39mraise_error \u001b[38;5;129;01mand\u001b[39;00m p\u001b[38;5;241m.\u001b[39mreturncode \u001b[38;5;241m!=\u001b[39m \u001b[38;5;241m0\u001b[39m:\n\u001b[1;32m    301\u001b[0m     \u001b[38;5;66;03m# If we get here and p.returncode is still None, we must have\u001b[39;00m\n\u001b[1;32m    302\u001b[0m     \u001b[38;5;66;03m# killed it but not yet seen its return code. We don't wait for it,\u001b[39;00m\n\u001b[1;32m    303\u001b[0m     \u001b[38;5;66;03m# in case it's stuck in uninterruptible sleep. -9 = SIGKILL\u001b[39;00m\n\u001b[1;32m    304\u001b[0m     rc \u001b[38;5;241m=\u001b[39m p\u001b[38;5;241m.\u001b[39mreturncode \u001b[38;5;129;01mor\u001b[39;00m \u001b[38;5;241m-\u001b[39m\u001b[38;5;241m9\u001b[39m\n\u001b[0;32m--> 305\u001b[0m     \u001b[38;5;28;01mraise\u001b[39;00m CalledProcessError(rc, cell)\n",
      "\u001b[0;31mCalledProcessError\u001b[0m: Command 'b'cd ../hardware/victims/firmware/simpleserial-kyber512/\\nmake PLATFORM=CW308_STM32F3 CRYPTO_TARGET=NONE\\n'' returned non-zero exit status 2."
     ]
    }
   ],
   "source": [
    "%%bash\n",
    "cd ../hardware/victims/firmware/simpleserial-kyber512/\n",
    "make PLATFORM=CW308_STM32F3 CRYPTO_TARGET=NONE"
   ]
  }
 ],
 "metadata": {
  "kernelspec": {
   "display_name": "Python 3 (ipykernel)",
   "language": "python",
   "name": "python3"
  },
  "language_info": {
   "codemirror_mode": {
    "name": "ipython",
    "version": 3
   },
   "file_extension": ".py",
   "mimetype": "text/x-python",
   "name": "python",
   "nbconvert_exporter": "python",
   "pygments_lexer": "ipython3",
   "version": "3.9.7"
  }
 },
 "nbformat": 4,
 "nbformat_minor": 5
}
