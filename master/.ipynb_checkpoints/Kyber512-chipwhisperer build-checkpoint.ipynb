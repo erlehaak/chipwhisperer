{
 "cells": [
  {
   "cell_type": "markdown",
   "id": "806197e8",
   "metadata": {
    "scrolled": true
   },
   "source": [
    "## Importerer chipwhisperer, builder kode og sender til target"
   ]
  },
  {
   "cell_type": "code",
   "execution_count": 99,
   "id": "f5ca2f07",
   "metadata": {
    "scrolled": true
   },
   "outputs": [],
   "source": [
    "import chipwhisperer as cw\n",
    "scope = cw.scope()\n",
    "target = cw.target(scope, cw.targets.SimpleSerial) #cw.targets.SimpleSerial can be omitted\n",
    "scope.default_setup()"
   ]
  },
  {
   "cell_type": "code",
   "execution_count": 197,
   "id": "b4ee5b57",
   "metadata": {
    "scrolled": true
   },
   "outputs": [
    {
     "name": "stdout",
     "output_type": "stream",
     "text": [
      "SS_VER set to SS_VER_1_1\n",
      "C:/Users/erlen/CHIPWH~1/cw/home/portable/avrgcc/bin/make clean_objs .dep \n",
      "make[1]: Entering directory 'C:/Users/erlen/ChipWhisperer5_64/cw/home/portable/chipwhisperer/hardware/victims/firmware/simpleserial-kyber512'\n",
      "SS_VER set to SS_VER_1_1\n",
      "rm -f -- simpleserial-kyber512-CW308_STM32F3.hex\n",
      "rm -f -- simpleserial-kyber512-CW308_STM32F3.eep\n",
      "rm -f -- simpleserial-kyber512-CW308_STM32F3.cof\n",
      "rm -f -- simpleserial-kyber512-CW308_STM32F3.elf\n",
      "rm -f -- simpleserial-kyber512-CW308_STM32F3.map\n",
      "rm -f -- simpleserial-kyber512-CW308_STM32F3.sym\n",
      "rm -f -- simpleserial-kyber512-CW308_STM32F3.lss\n",
      "rm -f -- objdir-CW308_STM32F3/*.o\n",
      "rm -f -- objdir-CW308_STM32F3/*.lst\n",
      "rm -f -- kyber512.s indcpa.s randombytes.s fips202.s poly.s polyvec.s symmetric-fips202.s cbd.s ntt.s kem.s verify.s matacc.s simpleserial.s stm32f3_hal.s stm32f3_hal_lowlevel.s stm32f3_sysmem.s\n",
      "rm -f -- kyber512.d indcpa.d randombytes.d fips202.d poly.d polyvec.d symmetric-fips202.d cbd.d ntt.d kem.d verify.d matacc.d simpleserial.d stm32f3_hal.d stm32f3_hal_lowlevel.d stm32f3_sysmem.d\n",
      "rm -f -- kyber512.i indcpa.i randombytes.i fips202.i poly.i polyvec.i symmetric-fips202.i cbd.i ntt.i kem.i verify.i matacc.i simpleserial.i stm32f3_hal.i stm32f3_hal_lowlevel.i stm32f3_sysmem.i\n",
      "make[1]: '.dep' is up to date.\n",
      "make[1]: Leaving directory 'C:/Users/erlen/ChipWhisperer5_64/cw/home/portable/chipwhisperer/hardware/victims/firmware/simpleserial-kyber512'\n",
      "C:/Users/erlen/CHIPWH~1/cw/home/portable/avrgcc/bin/make begin gccversion build sizeafter fastnote end\n",
      "make[1]: Entering directory 'C:/Users/erlen/ChipWhisperer5_64/cw/home/portable/chipwhisperer/hardware/victims/firmware/simpleserial-kyber512'\n",
      "SS_VER set to SS_VER_1_1\n",
      ".\n",
      "Welcome to another exciting ChipWhisperer target build!!\n",
      "arm-none-eabi-gcc (GNU Arm Embedded Toolchain 10-2020-q4-major) 10.2.1 20201103 (release)\n",
      "Copyright (C) 2020 Free Software Foundation, Inc.\n",
      "This is free software; see the source for copying conditions.  There is NO\n",
      "warranty; not even for MERCHANTABILITY or FITNESS FOR A PARTICULAR PURPOSE.\n",
      "\n",
      ".\n",
      "Compiling C: kyber512.c\n",
      "arm-none-eabi-gcc -c -mcpu=cortex-m4 -I. -mthumb -mfloat-abi=soft -fmessage-length=0 -ffunction-sections -gdwarf-2 -DSS_VER=SS_VER_1_1 -DSTM32F303xC -DSTM32F3 -DSTM32 -DDEBUG -DHAL_TYPE=HAL_stm32f3 -DPLATFORM=CW308_STM32F3 -DF_CPU=7372800UL -DSS_VER_2_0=2 -DSS_VER_2_1=3 -DSS_VER_1_1=1 -DSS_VER_1_0=0 -Os -funsigned-char -funsigned-bitfields -fshort-enums -Wall -Wstrict-prototypes -Wa,-adhlns=objdir-CW308_STM32F3/kyber512.lst -I.././simpleserial/ -I.././hal -I.././hal/stm32f3 -I.././hal/stm32f3/CMSIS -I.././hal/stm32f3/CMSIS/core -I.././hal/stm32f3/CMSIS/device -I.././hal/stm32f4/Legacy -I.././crypto/ -std=gnu99  -MMD -MP -MF .dep/kyber512.o.d kyber512.c -o objdir-CW308_STM32F3/kyber512.o\n",
      ".\n",
      "Compiling C: indcpa.c\n",
      "arm-none-eabi-gcc -c -mcpu=cortex-m4 -I. -mthumb -mfloat-abi=soft -fmessage-length=0 -ffunction-sections -gdwarf-2 -DSS_VER=SS_VER_1_1 -DSTM32F303xC -DSTM32F3 -DSTM32 -DDEBUG -DHAL_TYPE=HAL_stm32f3 -DPLATFORM=CW308_STM32F3 -DF_CPU=7372800UL -DSS_VER_2_0=2 -DSS_VER_2_1=3 -DSS_VER_1_1=1 -DSS_VER_1_0=0 -Os -funsigned-char -funsigned-bitfields -fshort-enums -Wall -Wstrict-prototypes -Wa,-adhlns=objdir-CW308_STM32F3/indcpa.lst -I.././simpleserial/ -I.././hal -I.././hal/stm32f3 -I.././hal/stm32f3/CMSIS -I.././hal/stm32f3/CMSIS/core -I.././hal/stm32f3/CMSIS/device -I.././hal/stm32f4/Legacy -I.././crypto/ -std=gnu99  -MMD -MP -MF .dep/indcpa.o.d indcpa.c -o objdir-CW308_STM32F3/indcpa.o\n",
      ".\n",
      "Compiling C: randombytes.c\n",
      "arm-none-eabi-gcc -c -mcpu=cortex-m4 -I. -mthumb -mfloat-abi=soft -fmessage-length=0 -ffunction-sections -gdwarf-2 -DSS_VER=SS_VER_1_1 -DSTM32F303xC -DSTM32F3 -DSTM32 -DDEBUG -DHAL_TYPE=HAL_stm32f3 -DPLATFORM=CW308_STM32F3 -DF_CPU=7372800UL -DSS_VER_2_0=2 -DSS_VER_2_1=3 -DSS_VER_1_1=1 -DSS_VER_1_0=0 -Os -funsigned-char -funsigned-bitfields -fshort-enums -Wall -Wstrict-prototypes -Wa,-adhlns=objdir-CW308_STM32F3/randombytes.lst -I.././simpleserial/ -I.././hal -I.././hal/stm32f3 -I.././hal/stm32f3/CMSIS -I.././hal/stm32f3/CMSIS/core -I.././hal/stm32f3/CMSIS/device -I.././hal/stm32f4/Legacy -I.././crypto/ -std=gnu99  -MMD -MP -MF .dep/randombytes.o.d randombytes.c -o objdir-CW308_STM32F3/randombytes.o\n"
     ]
    },
    {
     "name": "stderr",
     "output_type": "stream",
     "text": [
      "randombytes.c:2:2: warning: #warning Using a non-random randombytes [-Wcpp]\n",
      "    2 | #warning Using a non-random randombytes\n",
      "      |  ^~~~~~~\n"
     ]
    },
    {
     "name": "stdout",
     "output_type": "stream",
     "text": [
      ".\n",
      "Compiling C: fips202.c\n",
      "arm-none-eabi-gcc -c -mcpu=cortex-m4 -I. -mthumb -mfloat-abi=soft -fmessage-length=0 -ffunction-sections -gdwarf-2 -DSS_VER=SS_VER_1_1 -DSTM32F303xC -DSTM32F3 -DSTM32 -DDEBUG -DHAL_TYPE=HAL_stm32f3 -DPLATFORM=CW308_STM32F3 -DF_CPU=7372800UL -DSS_VER_2_0=2 -DSS_VER_2_1=3 -DSS_VER_1_1=1 -DSS_VER_1_0=0 -Os -funsigned-char -funsigned-bitfields -fshort-enums -Wall -Wstrict-prototypes -Wa,-adhlns=objdir-CW308_STM32F3/fips202.lst -I.././simpleserial/ -I.././hal -I.././hal/stm32f3 -I.././hal/stm32f3/CMSIS -I.././hal/stm32f3/CMSIS/core -I.././hal/stm32f3/CMSIS/device -I.././hal/stm32f4/Legacy -I.././crypto/ -std=gnu99  -MMD -MP -MF .dep/fips202.o.d fips202.c -o objdir-CW308_STM32F3/fips202.o\n",
      ".\n",
      "Compiling C: poly.c\n",
      "arm-none-eabi-gcc -c -mcpu=cortex-m4 -I. -mthumb -mfloat-abi=soft -fmessage-length=0 -ffunction-sections -gdwarf-2 -DSS_VER=SS_VER_1_1 -DSTM32F303xC -DSTM32F3 -DSTM32 -DDEBUG -DHAL_TYPE=HAL_stm32f3 -DPLATFORM=CW308_STM32F3 -DF_CPU=7372800UL -DSS_VER_2_0=2 -DSS_VER_2_1=3 -DSS_VER_1_1=1 -DSS_VER_1_0=0 -Os -funsigned-char -funsigned-bitfields -fshort-enums -Wall -Wstrict-prototypes -Wa,-adhlns=objdir-CW308_STM32F3/poly.lst -I.././simpleserial/ -I.././hal -I.././hal/stm32f3 -I.././hal/stm32f3/CMSIS -I.././hal/stm32f3/CMSIS/core -I.././hal/stm32f3/CMSIS/device -I.././hal/stm32f4/Legacy -I.././crypto/ -std=gnu99  -MMD -MP -MF .dep/poly.o.d poly.c -o objdir-CW308_STM32F3/poly.o\n",
      ".\n",
      "Compiling C: polyvec.c\n",
      "arm-none-eabi-gcc -c -mcpu=cortex-m4 -I. -mthumb -mfloat-abi=soft -fmessage-length=0 -ffunction-sections -gdwarf-2 -DSS_VER=SS_VER_1_1 -DSTM32F303xC -DSTM32F3 -DSTM32 -DDEBUG -DHAL_TYPE=HAL_stm32f3 -DPLATFORM=CW308_STM32F3 -DF_CPU=7372800UL -DSS_VER_2_0=2 -DSS_VER_2_1=3 -DSS_VER_1_1=1 -DSS_VER_1_0=0 -Os -funsigned-char -funsigned-bitfields -fshort-enums -Wall -Wstrict-prototypes -Wa,-adhlns=objdir-CW308_STM32F3/polyvec.lst -I.././simpleserial/ -I.././hal -I.././hal/stm32f3 -I.././hal/stm32f3/CMSIS -I.././hal/stm32f3/CMSIS/core -I.././hal/stm32f3/CMSIS/device -I.././hal/stm32f4/Legacy -I.././crypto/ -std=gnu99  -MMD -MP -MF .dep/polyvec.o.d polyvec.c -o objdir-CW308_STM32F3/polyvec.o\n",
      ".\n",
      "Compiling C: symmetric-fips202.c\n",
      "arm-none-eabi-gcc -c -mcpu=cortex-m4 -I. -mthumb -mfloat-abi=soft -fmessage-length=0 -ffunction-sections -gdwarf-2 -DSS_VER=SS_VER_1_1 -DSTM32F303xC -DSTM32F3 -DSTM32 -DDEBUG -DHAL_TYPE=HAL_stm32f3 -DPLATFORM=CW308_STM32F3 -DF_CPU=7372800UL -DSS_VER_2_0=2 -DSS_VER_2_1=3 -DSS_VER_1_1=1 -DSS_VER_1_0=0 -Os -funsigned-char -funsigned-bitfields -fshort-enums -Wall -Wstrict-prototypes -Wa,-adhlns=objdir-CW308_STM32F3/symmetric-fips202.lst -I.././simpleserial/ -I.././hal -I.././hal/stm32f3 -I.././hal/stm32f3/CMSIS -I.././hal/stm32f3/CMSIS/core -I.././hal/stm32f3/CMSIS/device -I.././hal/stm32f4/Legacy -I.././crypto/ -std=gnu99  -MMD -MP -MF .dep/symmetric-fips202.o.d symmetric-fips202.c -o objdir-CW308_STM32F3/symmetric-fips202.o\n",
      ".\n",
      "Compiling C: cbd.c\n",
      "arm-none-eabi-gcc -c -mcpu=cortex-m4 -I. -mthumb -mfloat-abi=soft -fmessage-length=0 -ffunction-sections -gdwarf-2 -DSS_VER=SS_VER_1_1 -DSTM32F303xC -DSTM32F3 -DSTM32 -DDEBUG -DHAL_TYPE=HAL_stm32f3 -DPLATFORM=CW308_STM32F3 -DF_CPU=7372800UL -DSS_VER_2_0=2 -DSS_VER_2_1=3 -DSS_VER_1_1=1 -DSS_VER_1_0=0 -Os -funsigned-char -funsigned-bitfields -fshort-enums -Wall -Wstrict-prototypes -Wa,-adhlns=objdir-CW308_STM32F3/cbd.lst -I.././simpleserial/ -I.././hal -I.././hal/stm32f3 -I.././hal/stm32f3/CMSIS -I.././hal/stm32f3/CMSIS/core -I.././hal/stm32f3/CMSIS/device -I.././hal/stm32f4/Legacy -I.././crypto/ -std=gnu99  -MMD -MP -MF .dep/cbd.o.d cbd.c -o objdir-CW308_STM32F3/cbd.o\n",
      ".\n",
      "Compiling C: ntt.c\n",
      "arm-none-eabi-gcc -c -mcpu=cortex-m4 -I. -mthumb -mfloat-abi=soft -fmessage-length=0 -ffunction-sections -gdwarf-2 -DSS_VER=SS_VER_1_1 -DSTM32F303xC -DSTM32F3 -DSTM32 -DDEBUG -DHAL_TYPE=HAL_stm32f3 -DPLATFORM=CW308_STM32F3 -DF_CPU=7372800UL -DSS_VER_2_0=2 -DSS_VER_2_1=3 -DSS_VER_1_1=1 -DSS_VER_1_0=0 -Os -funsigned-char -funsigned-bitfields -fshort-enums -Wall -Wstrict-prototypes -Wa,-adhlns=objdir-CW308_STM32F3/ntt.lst -I.././simpleserial/ -I.././hal -I.././hal/stm32f3 -I.././hal/stm32f3/CMSIS -I.././hal/stm32f3/CMSIS/core -I.././hal/stm32f3/CMSIS/device -I.././hal/stm32f4/Legacy -I.././crypto/ -std=gnu99  -MMD -MP -MF .dep/ntt.o.d ntt.c -o objdir-CW308_STM32F3/ntt.o\n",
      ".\n",
      "Compiling C: kem.c\n",
      "arm-none-eabi-gcc -c -mcpu=cortex-m4 -I. -mthumb -mfloat-abi=soft -fmessage-length=0 -ffunction-sections -gdwarf-2 -DSS_VER=SS_VER_1_1 -DSTM32F303xC -DSTM32F3 -DSTM32 -DDEBUG -DHAL_TYPE=HAL_stm32f3 -DPLATFORM=CW308_STM32F3 -DF_CPU=7372800UL -DSS_VER_2_0=2 -DSS_VER_2_1=3 -DSS_VER_1_1=1 -DSS_VER_1_0=0 -Os -funsigned-char -funsigned-bitfields -fshort-enums -Wall -Wstrict-prototypes -Wa,-adhlns=objdir-CW308_STM32F3/kem.lst -I.././simpleserial/ -I.././hal -I.././hal/stm32f3 -I.././hal/stm32f3/CMSIS -I.././hal/stm32f3/CMSIS/core -I.././hal/stm32f3/CMSIS/device -I.././hal/stm32f4/Legacy -I.././crypto/ -std=gnu99  -MMD -MP -MF .dep/kem.o.d kem.c -o objdir-CW308_STM32F3/kem.o\n",
      ".\n",
      "Compiling C: verify.c\n",
      "arm-none-eabi-gcc -c -mcpu=cortex-m4 -I. -mthumb -mfloat-abi=soft -fmessage-length=0 -ffunction-sections -gdwarf-2 -DSS_VER=SS_VER_1_1 -DSTM32F303xC -DSTM32F3 -DSTM32 -DDEBUG -DHAL_TYPE=HAL_stm32f3 -DPLATFORM=CW308_STM32F3 -DF_CPU=7372800UL -DSS_VER_2_0=2 -DSS_VER_2_1=3 -DSS_VER_1_1=1 -DSS_VER_1_0=0 -Os -funsigned-char -funsigned-bitfields -fshort-enums -Wall -Wstrict-prototypes -Wa,-adhlns=objdir-CW308_STM32F3/verify.lst -I.././simpleserial/ -I.././hal -I.././hal/stm32f3 -I.././hal/stm32f3/CMSIS -I.././hal/stm32f3/CMSIS/core -I.././hal/stm32f3/CMSIS/device -I.././hal/stm32f4/Legacy -I.././crypto/ -std=gnu99  -MMD -MP -MF .dep/verify.o.d verify.c -o objdir-CW308_STM32F3/verify.o\n",
      ".\n",
      "Compiling C: matacc.c\n",
      "arm-none-eabi-gcc -c -mcpu=cortex-m4 -I. -mthumb -mfloat-abi=soft -fmessage-length=0 -ffunction-sections -gdwarf-2 -DSS_VER=SS_VER_1_1 -DSTM32F303xC -DSTM32F3 -DSTM32 -DDEBUG -DHAL_TYPE=HAL_stm32f3 -DPLATFORM=CW308_STM32F3 -DF_CPU=7372800UL -DSS_VER_2_0=2 -DSS_VER_2_1=3 -DSS_VER_1_1=1 -DSS_VER_1_0=0 -Os -funsigned-char -funsigned-bitfields -fshort-enums -Wall -Wstrict-prototypes -Wa,-adhlns=objdir-CW308_STM32F3/matacc.lst -I.././simpleserial/ -I.././hal -I.././hal/stm32f3 -I.././hal/stm32f3/CMSIS -I.././hal/stm32f3/CMSIS/core -I.././hal/stm32f3/CMSIS/device -I.././hal/stm32f4/Legacy -I.././crypto/ -std=gnu99  -MMD -MP -MF .dep/matacc.o.d matacc.c -o objdir-CW308_STM32F3/matacc.o\n",
      ".\n",
      "Compiling C: .././simpleserial/simpleserial.c\n",
      "arm-none-eabi-gcc -c -mcpu=cortex-m4 -I. -mthumb -mfloat-abi=soft -fmessage-length=0 -ffunction-sections -gdwarf-2 -DSS_VER=SS_VER_1_1 -DSTM32F303xC -DSTM32F3 -DSTM32 -DDEBUG -DHAL_TYPE=HAL_stm32f3 -DPLATFORM=CW308_STM32F3 -DF_CPU=7372800UL -DSS_VER_2_0=2 -DSS_VER_2_1=3 -DSS_VER_1_1=1 -DSS_VER_1_0=0 -Os -funsigned-char -funsigned-bitfields -fshort-enums -Wall -Wstrict-prototypes -Wa,-adhlns=objdir-CW308_STM32F3/simpleserial.lst -I.././simpleserial/ -I.././hal -I.././hal/stm32f3 -I.././hal/stm32f3/CMSIS -I.././hal/stm32f3/CMSIS/core -I.././hal/stm32f3/CMSIS/device -I.././hal/stm32f4/Legacy -I.././crypto/ -std=gnu99  -MMD -MP -MF .dep/simpleserial.o.d .././simpleserial/simpleserial.c -o objdir-CW308_STM32F3/simpleserial.o\n"
     ]
    },
    {
     "name": "stderr",
     "output_type": "stream",
     "text": [
      ".././simpleserial/simpleserial.c: In function 'simpleserial_get':\n",
      ".././simpleserial/simpleserial.c:339:6: warning: implicit declaration of function 'getch' [-Wimplicit-function-declaration]\n",
      "  339 |  c = getch();\n",
      "      |      ^~~~~\n",
      ".././simpleserial/simpleserial.c: In function 'simpleserial_put':\n",
      ".././simpleserial/simpleserial.c:399:2: warning: implicit declaration of function 'putch' [-Wimplicit-function-declaration]\n",
      "  399 |  putch(c);\n",
      "      |  ^~~~~\n"
     ]
    },
    {
     "name": "stdout",
     "output_type": "stream",
     "text": [
      ".\n",
      "Compiling C: .././hal/stm32f3/stm32f3_hal.c\n",
      "arm-none-eabi-gcc -c -mcpu=cortex-m4 -I. -mthumb -mfloat-abi=soft -fmessage-length=0 -ffunction-sections -gdwarf-2 -DSS_VER=SS_VER_1_1 -DSTM32F303xC -DSTM32F3 -DSTM32 -DDEBUG -DHAL_TYPE=HAL_stm32f3 -DPLATFORM=CW308_STM32F3 -DF_CPU=7372800UL -DSS_VER_2_0=2 -DSS_VER_2_1=3 -DSS_VER_1_1=1 -DSS_VER_1_0=0 -Os -funsigned-char -funsigned-bitfields -fshort-enums -Wall -Wstrict-prototypes -Wa,-adhlns=objdir-CW308_STM32F3/stm32f3_hal.lst -I.././simpleserial/ -I.././hal -I.././hal/stm32f3 -I.././hal/stm32f3/CMSIS -I.././hal/stm32f3/CMSIS/core -I.././hal/stm32f3/CMSIS/device -I.././hal/stm32f4/Legacy -I.././crypto/ -std=gnu99  -MMD -MP -MF .dep/stm32f3_hal.o.d .././hal/stm32f3/stm32f3_hal.c -o objdir-CW308_STM32F3/stm32f3_hal.o\n",
      ".\n",
      "Compiling C: .././hal/stm32f3/stm32f3_hal_lowlevel.c\n",
      "arm-none-eabi-gcc -c -mcpu=cortex-m4 -I. -mthumb -mfloat-abi=soft -fmessage-length=0 -ffunction-sections -gdwarf-2 -DSS_VER=SS_VER_1_1 -DSTM32F303xC -DSTM32F3 -DSTM32 -DDEBUG -DHAL_TYPE=HAL_stm32f3 -DPLATFORM=CW308_STM32F3 -DF_CPU=7372800UL -DSS_VER_2_0=2 -DSS_VER_2_1=3 -DSS_VER_1_1=1 -DSS_VER_1_0=0 -Os -funsigned-char -funsigned-bitfields -fshort-enums -Wall -Wstrict-prototypes -Wa,-adhlns=objdir-CW308_STM32F3/stm32f3_hal_lowlevel.lst -I.././simpleserial/ -I.././hal -I.././hal/stm32f3 -I.././hal/stm32f3/CMSIS -I.././hal/stm32f3/CMSIS/core -I.././hal/stm32f3/CMSIS/device -I.././hal/stm32f4/Legacy -I.././crypto/ -std=gnu99  -MMD -MP -MF .dep/stm32f3_hal_lowlevel.o.d .././hal/stm32f3/stm32f3_hal_lowlevel.c -o objdir-CW308_STM32F3/stm32f3_hal_lowlevel.o\n",
      ".\n",
      "Compiling C: .././hal/stm32f3/stm32f3_sysmem.c\n",
      "arm-none-eabi-gcc -c -mcpu=cortex-m4 -I. -mthumb -mfloat-abi=soft -fmessage-length=0 -ffunction-sections -gdwarf-2 -DSS_VER=SS_VER_1_1 -DSTM32F303xC -DSTM32F3 -DSTM32 -DDEBUG -DHAL_TYPE=HAL_stm32f3 -DPLATFORM=CW308_STM32F3 -DF_CPU=7372800UL -DSS_VER_2_0=2 -DSS_VER_2_1=3 -DSS_VER_1_1=1 -DSS_VER_1_0=0 -Os -funsigned-char -funsigned-bitfields -fshort-enums -Wall -Wstrict-prototypes -Wa,-adhlns=objdir-CW308_STM32F3/stm32f3_sysmem.lst -I.././simpleserial/ -I.././hal -I.././hal/stm32f3 -I.././hal/stm32f3/CMSIS -I.././hal/stm32f3/CMSIS/core -I.././hal/stm32f3/CMSIS/device -I.././hal/stm32f4/Legacy -I.././crypto/ -std=gnu99  -MMD -MP -MF .dep/stm32f3_sysmem.o.d .././hal/stm32f3/stm32f3_sysmem.c -o objdir-CW308_STM32F3/stm32f3_sysmem.o\n",
      ".\n",
      "Assembling: reduce.S\n",
      "arm-none-eabi-gcc -c -mcpu=cortex-m4 -I. -x assembler-with-cpp -mthumb -mfloat-abi=soft -fmessage-length=0 -ffunction-sections -mfpu=fpv4-sp-d16 -DF_CPU=7372800 -Wa,-gstabs,-adhlns=objdir-CW308_STM32F3/reduce.lst -I.././simpleserial/ -I.././hal -I.././hal/stm32f3 -I.././hal/stm32f3/CMSIS -I.././hal/stm32f3/CMSIS/core -I.././hal/stm32f3/CMSIS/device -I.././hal/stm32f4/Legacy -I.././crypto/ reduce.S -o objdir-CW308_STM32F3/reduce.o\n",
      ".\n",
      "Assembling: fastaddsub.S\n",
      "arm-none-eabi-gcc -c -mcpu=cortex-m4 -I. -x assembler-with-cpp -mthumb -mfloat-abi=soft -fmessage-length=0 -ffunction-sections -mfpu=fpv4-sp-d16 -DF_CPU=7372800 -Wa,-gstabs,-adhlns=objdir-CW308_STM32F3/fastaddsub.lst -I.././simpleserial/ -I.././hal -I.././hal/stm32f3 -I.././hal/stm32f3/CMSIS -I.././hal/stm32f3/CMSIS/core -I.././hal/stm32f3/CMSIS/device -I.././hal/stm32f4/Legacy -I.././crypto/ fastaddsub.S -o objdir-CW308_STM32F3/fastaddsub.o\n",
      ".\n",
      "Assembling: fastbasemul.S\n",
      "arm-none-eabi-gcc -c -mcpu=cortex-m4 -I. -x assembler-with-cpp -mthumb -mfloat-abi=soft -fmessage-length=0 -ffunction-sections -mfpu=fpv4-sp-d16 -DF_CPU=7372800 -Wa,-gstabs,-adhlns=objdir-CW308_STM32F3/fastbasemul.lst -I.././simpleserial/ -I.././hal -I.././hal/stm32f3 -I.././hal/stm32f3/CMSIS -I.././hal/stm32f3/CMSIS/core -I.././hal/stm32f3/CMSIS/device -I.././hal/stm32f4/Legacy -I.././crypto/ fastbasemul.S -o objdir-CW308_STM32F3/fastbasemul.o\n",
      ".\n",
      "Assembling: fastinvntt.S\n",
      "arm-none-eabi-gcc -c -mcpu=cortex-m4 -I. -x assembler-with-cpp -mthumb -mfloat-abi=soft -fmessage-length=0 -ffunction-sections -mfpu=fpv4-sp-d16 -DF_CPU=7372800 -Wa,-gstabs,-adhlns=objdir-CW308_STM32F3/fastinvntt.lst -I.././simpleserial/ -I.././hal -I.././hal/stm32f3 -I.././hal/stm32f3/CMSIS -I.././hal/stm32f3/CMSIS/core -I.././hal/stm32f3/CMSIS/device -I.././hal/stm32f4/Legacy -I.././crypto/ fastinvntt.S -o objdir-CW308_STM32F3/fastinvntt.o\n",
      ".\n",
      "Assembling: fastntt.S\n",
      "arm-none-eabi-gcc -c -mcpu=cortex-m4 -I. -x assembler-with-cpp -mthumb -mfloat-abi=soft -fmessage-length=0 -ffunction-sections -mfpu=fpv4-sp-d16 -DF_CPU=7372800 -Wa,-gstabs,-adhlns=objdir-CW308_STM32F3/fastntt.lst -I.././simpleserial/ -I.././hal -I.././hal/stm32f3 -I.././hal/stm32f3/CMSIS -I.././hal/stm32f3/CMSIS/core -I.././hal/stm32f3/CMSIS/device -I.././hal/stm32f4/Legacy -I.././crypto/ fastntt.S -o objdir-CW308_STM32F3/fastntt.o\n",
      ".\n",
      "Compiling C: keccakf1600.c\n",
      "arm-none-eabi-gcc -c -mcpu=cortex-m4 -I. -mthumb -mfloat-abi=soft -fmessage-length=0 -ffunction-sections -gdwarf-2 -DSS_VER=SS_VER_1_1 -DSTM32F303xC -DSTM32F3 -DSTM32 -DDEBUG -DHAL_TYPE=HAL_stm32f3 -DPLATFORM=CW308_STM32F3 -DF_CPU=7372800UL -DSS_VER_2_0=2 -DSS_VER_2_1=3 -DSS_VER_1_1=1 -DSS_VER_1_0=0 -Os -funsigned-char -funsigned-bitfields -fshort-enums -Wall -Wstrict-prototypes -Wa,-adhlns=objdir-CW308_STM32F3/keccakf1600.lst -I.././simpleserial/ -I.././hal -I.././hal/stm32f3 -I.././hal/stm32f3/CMSIS -I.././hal/stm32f3/CMSIS/core -I.././hal/stm32f3/CMSIS/device -I.././hal/stm32f4/Legacy -I.././crypto/ -std=gnu99  -MMD -MP -MF .dep/keccakf1600.o.d keccakf1600.c -o objdir-CW308_STM32F3/keccakf1600.o\n",
      ".\n",
      "Assembling: poly_asm.S\n",
      "arm-none-eabi-gcc -c -mcpu=cortex-m4 -I. -x assembler-with-cpp -mthumb -mfloat-abi=soft -fmessage-length=0 -ffunction-sections -mfpu=fpv4-sp-d16 -DF_CPU=7372800 -Wa,-gstabs,-adhlns=objdir-CW308_STM32F3/poly_asm.lst -I.././simpleserial/ -I.././hal -I.././hal/stm32f3 -I.././hal/stm32f3/CMSIS -I.././hal/stm32f3/CMSIS/core -I.././hal/stm32f3/CMSIS/device -I.././hal/stm32f4/Legacy -I.././crypto/ poly_asm.S -o objdir-CW308_STM32F3/poly_asm.o\n",
      ".\n",
      "Assembling: matacc_asm.S\n",
      "arm-none-eabi-gcc -c -mcpu=cortex-m4 -I. -x assembler-with-cpp -mthumb -mfloat-abi=soft -fmessage-length=0 -ffunction-sections -mfpu=fpv4-sp-d16 -DF_CPU=7372800 -Wa,-gstabs,-adhlns=objdir-CW308_STM32F3/matacc_asm.lst -I.././simpleserial/ -I.././hal -I.././hal/stm32f3 -I.././hal/stm32f3/CMSIS -I.././hal/stm32f3/CMSIS/core -I.././hal/stm32f3/CMSIS/device -I.././hal/stm32f4/Legacy -I.././crypto/ matacc_asm.S -o objdir-CW308_STM32F3/matacc_asm.o\n",
      ".\n",
      "Assembling: .././hal/stm32f3/stm32f3_startup.S\n",
      "arm-none-eabi-gcc -c -mcpu=cortex-m4 -I. -x assembler-with-cpp -mthumb -mfloat-abi=soft -fmessage-length=0 -ffunction-sections -mfpu=fpv4-sp-d16 -DF_CPU=7372800 -Wa,-gstabs,-adhlns=objdir-CW308_STM32F3/stm32f3_startup.lst -I.././simpleserial/ -I.././hal -I.././hal/stm32f3 -I.././hal/stm32f3/CMSIS -I.././hal/stm32f3/CMSIS/core -I.././hal/stm32f3/CMSIS/device -I.././hal/stm32f4/Legacy -I.././crypto/ .././hal/stm32f3/stm32f3_startup.S -o objdir-CW308_STM32F3/stm32f3_startup.o\n",
      ".\n",
      "Linking: simpleserial-kyber512-CW308_STM32F3.elf\n",
      "arm-none-eabi-gcc -mcpu=cortex-m4 -I. -mthumb -mfloat-abi=soft -fmessage-length=0 -ffunction-sections -gdwarf-2 -DSS_VER=SS_VER_1_1 -DSTM32F303xC -DSTM32F3 -DSTM32 -DDEBUG -DHAL_TYPE=HAL_stm32f3 -DPLATFORM=CW308_STM32F3 -DF_CPU=7372800UL -DSS_VER_2_0=2 -DSS_VER_2_1=3 -DSS_VER_1_1=1 -DSS_VER_1_0=0 -Os -funsigned-char -funsigned-bitfields -fshort-enums -Wall -Wstrict-prototypes -Wa,-adhlns=objdir-CW308_STM32F3/kyber512.o -I.././simpleserial/ -I.././hal -I.././hal/stm32f3 -I.././hal/stm32f3/CMSIS -I.././hal/stm32f3/CMSIS/core -I.././hal/stm32f3/CMSIS/device -I.././hal/stm32f4/Legacy -I.././crypto/ -std=gnu99  -MMD -MP -MF .dep/simpleserial-kyber512-CW308_STM32F3.elf.d objdir-CW308_STM32F3/kyber512.o objdir-CW308_STM32F3/indcpa.o objdir-CW308_STM32F3/randombytes.o objdir-CW308_STM32F3/fips202.o objdir-CW308_STM32F3/poly.o objdir-CW308_STM32F3/polyvec.o objdir-CW308_STM32F3/symmetric-fips202.o objdir-CW308_STM32F3/cbd.o objdir-CW308_STM32F3/ntt.o objdir-CW308_STM32F3/kem.o objdir-CW308_STM32F3/verify.o objdir-CW308_STM32F3/matacc.o objdir-CW308_STM32F3/simpleserial.o objdir-CW308_STM32F3/stm32f3_hal.o objdir-CW308_STM32F3/stm32f3_hal_lowlevel.o objdir-CW308_STM32F3/stm32f3_sysmem.o objdir-CW308_STM32F3/reduce.o objdir-CW308_STM32F3/fastaddsub.o objdir-CW308_STM32F3/fastbasemul.o objdir-CW308_STM32F3/fastinvntt.o objdir-CW308_STM32F3/fastntt.o objdir-CW308_STM32F3/keccakf1600.o objdir-CW308_STM32F3/poly_asm.o objdir-CW308_STM32F3/matacc_asm.o objdir-CW308_STM32F3/stm32f3_startup.o --output simpleserial-kyber512-CW308_STM32F3.elf --specs=nano.specs --specs=nosys.specs -T .././hal/stm32f3/LinkerScript.ld -Wl,--gc-sections -lm -Wl,-Map=simpleserial-kyber512-CW308_STM32F3.map,--cref   -lm  \n"
     ]
    },
    {
     "name": "stdout",
     "output_type": "stream",
     "text": [
      ".\n",
      "Creating load file for Flash: simpleserial-kyber512-CW308_STM32F3.hex\n",
      "arm-none-eabi-objcopy -O ihex -R .eeprom -R .fuse -R .lock -R .signature simpleserial-kyber512-CW308_STM32F3.elf simpleserial-kyber512-CW308_STM32F3.hex\n",
      ".\n",
      "Creating load file for Flash: simpleserial-kyber512-CW308_STM32F3.bin\n",
      "arm-none-eabi-objcopy -O binary -R .eeprom -R .fuse -R .lock -R .signature simpleserial-kyber512-CW308_STM32F3.elf simpleserial-kyber512-CW308_STM32F3.bin\n",
      ".\n",
      "Creating load file for EEPROM: simpleserial-kyber512-CW308_STM32F3.eep\n",
      "arm-none-eabi-objcopy -j .eeprom --set-section-flags=.eeprom=\"alloc,load\" \\\n",
      "--change-section-lma .eeprom=0 --no-change-warnings -O ihex simpleserial-kyber512-CW308_STM32F3.elf simpleserial-kyber512-CW308_STM32F3.eep || exit 0\n",
      ".\n",
      "Creating Extended Listing: simpleserial-kyber512-CW308_STM32F3.lss\n",
      "arm-none-eabi-objdump -h -S -z simpleserial-kyber512-CW308_STM32F3.elf > simpleserial-kyber512-CW308_STM32F3.lss\n",
      ".\n",
      "Creating Symbol Table: simpleserial-kyber512-CW308_STM32F3.sym\n",
      "arm-none-eabi-nm -n simpleserial-kyber512-CW308_STM32F3.elf > simpleserial-kyber512-CW308_STM32F3.sym\n",
      "Size after:\n",
      "   text\t   data\t    bss\t    dec\t    hex\tfilename\n",
      "  23944\t      8\t   4816\t  28768\t   7060\tsimpleserial-kyber512-CW308_STM32F3.elf\n",
      "+--------------------------------------------------------\n",
      "+ Default target does full rebuild each time.\n",
      "+ Specify buildtarget == allquick == to avoid full rebuild\n",
      "+--------------------------------------------------------\n",
      "+--------------------------------------------------------\n",
      "+ Built for platform CW308T: STM32F3 Target with:\n",
      "+ CRYPTO_TARGET = NONE\n",
      "+ CRYPTO_OPTIONS = NONE\n",
      "+--------------------------------------------------------\n",
      "make[1]: Leaving directory 'C:/Users/erlen/ChipWhisperer5_64/cw/home/portable/chipwhisperer/hardware/victims/firmware/simpleserial-kyber512'\n"
     ]
    }
   ],
   "source": [
    "%%sh\n",
    "cd ../hardware/victims/firmware/simpleserial-kyber512/\n",
    "make PLATFORM=CW308_STM32F3 CRYPTO_TARGET=NONE"
   ]
  },
  {
   "cell_type": "code",
   "execution_count": 198,
   "id": "0dc64afa",
   "metadata": {
    "scrolled": true
   },
   "outputs": [
    {
     "name": "stdout",
     "output_type": "stream",
     "text": [
      "Detected known STMF32: STM32F302xB(C)/303xB(C)\n",
      "Extended erase (0x44), this can take ten seconds or more\n",
      "Attempting to program 23951 bytes at 0x8000000\n",
      "STM32F Programming flash...\n",
      "STM32F Reading flash...\n",
      "Verified flash OK, 23951 bytes\n"
     ]
    }
   ],
   "source": [
    "cw.program_target(scope, cw.programmers.STM32FProgrammer, \"../hardware/victims/firmware/simpleserial-kyber512/simpleserial-kyber512-CW308_STM32F3.hex\")"
   ]
  },
  {
   "cell_type": "markdown",
   "id": "a2798c93",
   "metadata": {},
   "source": [
    "# Leser det sendt fra target manuelt\n",
    "\n",
    "1 tegn char identifiserer melding: p-public key, s-secret key, c-ciphertext, a-ss_a, b-ss_b, $-coins\n",
    "\n",
    "body melding\n",
    "\n",
    "ack z00"
   ]
  },
  {
   "cell_type": "code",
   "execution_count": 200,
   "id": "34e16b34",
   "metadata": {},
   "outputs": [],
   "source": [
    "recv_msg1 = \"\""
   ]
  },
  {
   "cell_type": "code",
   "execution_count": 211,
   "id": "6feaf11d",
   "metadata": {},
   "outputs": [
    {
     "name": "stdout",
     "output_type": "stream",
     "text": [
      "p0000000000000000000000000000000000000000000000000000000000000000\n",
      "z00\n",
      "s0000000000000000000000000000000000000000000000000000000000000000\n",
      "z00\n",
      "c0000000000000000000000000000000000000000000000000000000000000000\n",
      "z00\n",
      "a0000000000000000000000000000000000000000000000000000000000000000\n",
      "z00\n",
      "b0000000000000000000000000000000000000000000000000000000000000000\n",
      "z00\n",
      "\n"
     ]
    }
   ],
   "source": [
    "recv_msg1 += target.read() #Skriver det som har blitt printet i target, r: før keygen, f: etter key gen, z: ack på testkeys fullført. 2 char per byte (hex)\n",
    "print(recv_msg1)"
   ]
  },
  {
   "cell_type": "markdown",
   "id": "eab352f0",
   "metadata": {},
   "source": [
    "# Alle definerte komandoene"
   ]
  },
  {
   "cell_type": "markdown",
   "id": "cf6d9509",
   "metadata": {},
   "source": [
    "### Funksjonelt:"
   ]
  },
  {
   "cell_type": "code",
   "execution_count": 195,
   "id": "14b823d3",
   "metadata": {},
   "outputs": [],
   "source": [
    "#Resetter counter\n",
    "target.simpleserial_write('r', bytearray())"
   ]
  },
  {
   "cell_type": "code",
   "execution_count": 171,
   "id": "eaeacfca",
   "metadata": {},
   "outputs": [],
   "source": [
    "#Key gen\n",
    "target.simpleserial_write('k', bytearray())"
   ]
  },
  {
   "cell_type": "code",
   "execution_count": 175,
   "id": "22179f20",
   "metadata": {},
   "outputs": [],
   "source": [
    "#Encrypt kem\n",
    "target.simpleserial_write('e', bytearray())"
   ]
  },
  {
   "cell_type": "code",
   "execution_count": null,
   "id": "82e65bce",
   "metadata": {},
   "outputs": [],
   "source": [
    "#Decrypt kem\n",
    "target.simpleserial_write('d', bytearray())"
   ]
  },
  {
   "cell_type": "markdown",
   "id": "90679f62",
   "metadata": {},
   "source": [
    "### Hente info:"
   ]
  },
  {
   "cell_type": "code",
   "execution_count": 202,
   "id": "4b5b28db",
   "metadata": {},
   "outputs": [],
   "source": [
    "#Printer hele public key 32 byte om gangen (reset for resette counter)\n",
    "target.simpleserial_write('p', bytearray())"
   ]
  },
  {
   "cell_type": "code",
   "execution_count": 204,
   "id": "ffe9db54",
   "metadata": {},
   "outputs": [],
   "source": [
    "#Printer hele secret key 32 byte om gangen (reset for resette counter)\n",
    "target.simpleserial_write('s', bytearray())"
   ]
  },
  {
   "cell_type": "code",
   "execution_count": 206,
   "id": "711a37ef",
   "metadata": {},
   "outputs": [],
   "source": [
    "#Printer hele cipher text 32 byte om gangen (reset for resette counter)\n",
    "target.simpleserial_write('c', bytearray())"
   ]
  },
  {
   "cell_type": "code",
   "execution_count": 208,
   "id": "8a067b09",
   "metadata": {},
   "outputs": [],
   "source": [
    "#Printer hele shared secret a\n",
    "target.simpleserial_write('a', bytearray())"
   ]
  },
  {
   "cell_type": "code",
   "execution_count": 210,
   "id": "b980bcd2",
   "metadata": {},
   "outputs": [],
   "source": [
    "#Printer hele shared secret b\n",
    "target.simpleserial_write('b', bytearray())"
   ]
  }
 ],
 "metadata": {
  "kernelspec": {
   "display_name": "Python 3 (ipykernel)",
   "language": "python",
   "name": "python3"
  },
  "language_info": {
   "codemirror_mode": {
    "name": "ipython",
    "version": 3
   },
   "file_extension": ".py",
   "mimetype": "text/x-python",
   "name": "python",
   "nbconvert_exporter": "python",
   "pygments_lexer": "ipython3",
   "version": "3.10.8"
  }
 },
 "nbformat": 4,
 "nbformat_minor": 5
}
