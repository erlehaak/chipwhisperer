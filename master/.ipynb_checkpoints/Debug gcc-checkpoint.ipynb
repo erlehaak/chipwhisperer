{
 "cells": [
  {
   "cell_type": "markdown",
   "id": "55f59cae",
   "metadata": {},
   "source": [
    "### Plugg i kabler CW308:\n",
    "1. J5 Pin 12 (SCK)  -> J8 Pin 6 (J_TCK)\n",
    "2. J5 Pin 18 (PDID) -> J8 Pin 5 (J_TMS)\n",
    "3. J5 Pin 13 (MISO) -> J8 Pin 4 (J_TDO)\n",
    "4. J5 Pin 14 (MOSI) -> J8 Pin 3 (J_TDI)\n"
   ]
  },
  {
   "cell_type": "code",
   "execution_count": 1,
   "id": "7899b611",
   "metadata": {},
   "outputs": [
    {
     "name": "stderr",
     "output_type": "stream",
     "text": [
      "(ChipWhisperer Other WARNING|File __init__.py:69) ChipWhisperer update available! See https://chipwhisperer.readthedocs.io/en/latest/installing.html for updating instructions\n"
     ]
    },
    {
     "name": "stdout",
     "output_type": "stream",
     "text": [
      "0xace2\n"
     ]
    }
   ],
   "source": [
    "import chipwhisperer as cw\n",
    "scope = cw.scope()\n",
    "PID = hex(scope._getNAEUSB().usbtx.device.getProductID())\n",
    "scope.enable_MPSSE(1)\n",
    "print(PID)"
   ]
  },
  {
   "cell_type": "markdown",
   "id": "bff1eeef",
   "metadata": {},
   "source": [
    "### build firmware\n"
   ]
  },
  {
   "cell_type": "code",
   "execution_count": 2,
   "id": "7619ca0a",
   "metadata": {},
   "outputs": [
    {
     "name": "stdout",
     "output_type": "stream",
     "text": [
      "SS_VER set to SS_VER_1_1\n",
      "C:/Users/erlen/CHIPWH~1/cw/home/portable/avrgcc/bin/make clean_objs .dep \n",
      "make[1]: Entering directory 'C:/Users/erlen/ChipWhisperer5_64/cw/home/portable/chipwhisperer/hardware/victims/firmware/simpleserial-kyber512-m4'\n",
      "SS_VER set to SS_VER_1_1\n",
      "rm -f -- simpleserial-kyber512-m4-CW308_STM32F3.hex\n",
      "rm -f -- simpleserial-kyber512-m4-CW308_STM32F3.eep\n",
      "rm -f -- simpleserial-kyber512-m4-CW308_STM32F3.cof\n",
      "rm -f -- simpleserial-kyber512-m4-CW308_STM32F3.elf\n",
      "rm -f -- simpleserial-kyber512-m4-CW308_STM32F3.map\n",
      "rm -f -- simpleserial-kyber512-m4-CW308_STM32F3.sym\n",
      "rm -f -- simpleserial-kyber512-m4-CW308_STM32F3.lss\n",
      "rm -f -- objdir-CW308_STM32F3/*.o\n",
      "rm -f -- objdir-CW308_STM32F3/*.lst\n",
      "rm -f -- kyber512.s indcpa.s randombytes.s fips202.s poly.s polyvec.s symmetric-fips202.s cbd.s ntt.s kem.s verify.s simpleserial.s stm32f3_hal.s stm32f3_hal_lowlevel.s stm32f3_sysmem.s\n",
      "rm -f -- kyber512.d indcpa.d randombytes.d fips202.d poly.d polyvec.d symmetric-fips202.d cbd.d ntt.d kem.d verify.d simpleserial.d stm32f3_hal.d stm32f3_hal_lowlevel.d stm32f3_sysmem.d\n",
      "rm -f -- kyber512.i indcpa.i randombytes.i fips202.i poly.i polyvec.i symmetric-fips202.i cbd.i ntt.i kem.i verify.i simpleserial.i stm32f3_hal.i stm32f3_hal_lowlevel.i stm32f3_sysmem.i\n",
      "make[1]: '.dep' is up to date.\n",
      "make[1]: Leaving directory 'C:/Users/erlen/ChipWhisperer5_64/cw/home/portable/chipwhisperer/hardware/victims/firmware/simpleserial-kyber512-m4'\n",
      "C:/Users/erlen/CHIPWH~1/cw/home/portable/avrgcc/bin/make begin gccversion build sizeafter fastnote end\n",
      "make[1]: Entering directory 'C:/Users/erlen/ChipWhisperer5_64/cw/home/portable/chipwhisperer/hardware/victims/firmware/simpleserial-kyber512-m4'\n",
      "SS_VER set to SS_VER_1_1\n",
      ".\n",
      "Welcome to another exciting ChipWhisperer target build!!\n",
      "arm-none-eabi-gcc (GNU Arm Embedded Toolchain 10-2020-q4-major) 10.2.1 20201103 (release)\n",
      "Copyright (C) 2020 Free Software Foundation, Inc.\n",
      "This is free software; see the source for copying conditions.  There is NO\n",
      "warranty; not even for MERCHANTABILITY or FITNESS FOR A PARTICULAR PURPOSE.\n",
      "\n",
      ".\n",
      "Compiling C: kyber512.c\n",
      "arm-none-eabi-gcc -c -mcpu=cortex-m4  -I. -mthumb -mfloat-abi=hard -fmessage-length=0 -ffunction-sections -gdwarf-2 -DSS_VER=SS_VER_1_1 -DSTM32F303xC -DSTM32F3 -DSTM32 -DDEBUG -DHAL_TYPE=HAL_stm32f3 -DPLATFORM=CW308_STM32F3 -DF_CPU=7372800UL -DSS_VER_2_0=2 -DSS_VER_2_1=3 -DSS_VER_1_1=1 -DSS_VER_1_0=0 -Os -funsigned-char -funsigned-bitfields -fshort-enums -Wall -Wstrict-prototypes -Wa,-adhlns=objdir-CW308_STM32F3/kyber512.lst -I.././simpleserial/ -I.././hal -I.././hal/stm32f3 -I.././hal/stm32f3/CMSIS -I.././hal/stm32f3/CMSIS/core -I.././hal/stm32f3/CMSIS/device -I.././hal/stm32f4/Legacy -I.././crypto/ -std=gnu99  -MMD -MP -MF .dep/kyber512.o.d kyber512.c -o objdir-CW308_STM32F3/kyber512.o\n"
     ]
    },
    {
     "name": "stderr",
     "output_type": "stream",
     "text": [
      "kyber512.c: In function 'main':\n",
      "kyber512.c:139:3: warning: \"/*\" within comment [-Wcomment]\n",
      "  139 |   /*\n",
      "      |    \n",
      "kyber512.c:143:3: warning: \"/*\" within comment [-Wcomment]\n",
      "  143 |   /*\n",
      "      |    \n",
      "At top level:\n",
      "kyber512.c:113:16: warning: 'reset_counter' defined but not used [-Wunused-function]\n",
      "  113 | static uint8_t reset_counter(uint8_t* m, uint8_t len)\n",
      "      |                ^~~~~~~~~~~~~\n",
      "kyber512.c:108:16: warning: 'get_plaintext_output' defined but not used [-Wunused-function]\n",
      "  108 | static uint8_t get_plaintext_output(uint8_t* m, uint8_t len){\n",
      "      |                ^~~~~~~~~~~~~~~~~~~~\n",
      "kyber512.c:102:16: warning: 'get_plaintext_input' defined but not used [-Wunused-function]\n",
      "  102 | static uint8_t get_plaintext_input(uint8_t* m, uint8_t len){\n",
      "      |                ^~~~~~~~~~~~~~~~~~~\n",
      "kyber512.c:88:16: warning: 'get_ct' defined but not used [-Wunused-function]\n",
      "   88 | static uint8_t get_ct(uint8_t* m, uint8_t inputLen)\n",
      "      |                ^~~~~~\n",
      "kyber512.c:74:16: warning: 'get_sk' defined but not used [-Wunused-function]\n",
      "   74 | static uint8_t get_sk(uint8_t* m, uint8_t inputLen)\n",
      "      |                ^~~~~~\n",
      "kyber512.c:60:16: warning: 'get_pk' defined but not used [-Wunused-function]\n",
      "   60 | static uint8_t get_pk(uint8_t* m, uint8_t inputLen)\n",
      "      |                ^~~~~~\n",
      "kyber512.c:51:16: warning: 'decrypt' defined but not used [-Wunused-function]\n",
      "   51 | static uint8_t decrypt(uint8_t* m, uint8_t len)\n",
      "      |                ^~~~~~~\n",
      "kyber512.c:44:16: warning: 'encrypt' defined but not used [-Wunused-function]\n",
      "   44 | static uint8_t encrypt(uint8_t* m, uint8_t len)\n",
      "      |                ^~~~~~~\n",
      "kyber512.c:38:16: warning: 'key_gen' defined but not used [-Wunused-function]\n",
      "   38 | static uint8_t key_gen(uint8_t* m, uint8_t len)\n",
      "      |                ^~~~~~~\n"
     ]
    },
    {
     "name": "stdout",
     "output_type": "stream",
     "text": [
      ".\n",
      "Compiling C: indcpa.c\n",
      "arm-none-eabi-gcc -c -mcpu=cortex-m4  -I. -mthumb -mfloat-abi=hard -fmessage-length=0 -ffunction-sections -gdwarf-2 -DSS_VER=SS_VER_1_1 -DSTM32F303xC -DSTM32F3 -DSTM32 -DDEBUG -DHAL_TYPE=HAL_stm32f3 -DPLATFORM=CW308_STM32F3 -DF_CPU=7372800UL -DSS_VER_2_0=2 -DSS_VER_2_1=3 -DSS_VER_1_1=1 -DSS_VER_1_0=0 -Os -funsigned-char -funsigned-bitfields -fshort-enums -Wall -Wstrict-prototypes -Wa,-adhlns=objdir-CW308_STM32F3/indcpa.lst -I.././simpleserial/ -I.././hal -I.././hal/stm32f3 -I.././hal/stm32f3/CMSIS -I.././hal/stm32f3/CMSIS/core -I.././hal/stm32f3/CMSIS/device -I.././hal/stm32f4/Legacy -I.././crypto/ -std=gnu99  -MMD -MP -MF .dep/indcpa.o.d indcpa.c -o objdir-CW308_STM32F3/indcpa.o\n",
      ".\n",
      "Compiling C: randombytes.c\n",
      "arm-none-eabi-gcc -c -mcpu=cortex-m4  -I. -mthumb -mfloat-abi=hard -fmessage-length=0 -ffunction-sections -gdwarf-2 -DSS_VER=SS_VER_1_1 -DSTM32F303xC -DSTM32F3 -DSTM32 -DDEBUG -DHAL_TYPE=HAL_stm32f3 -DPLATFORM=CW308_STM32F3 -DF_CPU=7372800UL -DSS_VER_2_0=2 -DSS_VER_2_1=3 -DSS_VER_1_1=1 -DSS_VER_1_0=0 -Os -funsigned-char -funsigned-bitfields -fshort-enums -Wall -Wstrict-prototypes -Wa,-adhlns=objdir-CW308_STM32F3/randombytes.lst -I.././simpleserial/ -I.././hal -I.././hal/stm32f3 -I.././hal/stm32f3/CMSIS -I.././hal/stm32f3/CMSIS/core -I.././hal/stm32f3/CMSIS/device -I.././hal/stm32f4/Legacy -I.././crypto/ -std=gnu99  -MMD -MP -MF .dep/randombytes.o.d randombytes.c -o objdir-CW308_STM32F3/randombytes.o\n"
     ]
    },
    {
     "name": "stderr",
     "output_type": "stream",
     "text": [
      "randombytes.c:2:2: warning: #warning Using a non-random randombytes [-Wcpp]\n",
      "    2 | #warning Using a non-random randombytes\n",
      "      |  ^~~~~~~\n"
     ]
    },
    {
     "name": "stdout",
     "output_type": "stream",
     "text": [
      ".\n",
      "Compiling C: fips202.c\n",
      "arm-none-eabi-gcc -c -mcpu=cortex-m4  -I. -mthumb -mfloat-abi=hard -fmessage-length=0 -ffunction-sections -gdwarf-2 -DSS_VER=SS_VER_1_1 -DSTM32F303xC -DSTM32F3 -DSTM32 -DDEBUG -DHAL_TYPE=HAL_stm32f3 -DPLATFORM=CW308_STM32F3 -DF_CPU=7372800UL -DSS_VER_2_0=2 -DSS_VER_2_1=3 -DSS_VER_1_1=1 -DSS_VER_1_0=0 -Os -funsigned-char -funsigned-bitfields -fshort-enums -Wall -Wstrict-prototypes -Wa,-adhlns=objdir-CW308_STM32F3/fips202.lst -I.././simpleserial/ -I.././hal -I.././hal/stm32f3 -I.././hal/stm32f3/CMSIS -I.././hal/stm32f3/CMSIS/core -I.././hal/stm32f3/CMSIS/device -I.././hal/stm32f4/Legacy -I.././crypto/ -std=gnu99  -MMD -MP -MF .dep/fips202.o.d fips202.c -o objdir-CW308_STM32F3/fips202.o\n",
      ".\n",
      "Compiling C: poly.c\n",
      "arm-none-eabi-gcc -c -mcpu=cortex-m4  -I. -mthumb -mfloat-abi=hard -fmessage-length=0 -ffunction-sections -gdwarf-2 -DSS_VER=SS_VER_1_1 -DSTM32F303xC -DSTM32F3 -DSTM32 -DDEBUG -DHAL_TYPE=HAL_stm32f3 -DPLATFORM=CW308_STM32F3 -DF_CPU=7372800UL -DSS_VER_2_0=2 -DSS_VER_2_1=3 -DSS_VER_1_1=1 -DSS_VER_1_0=0 -Os -funsigned-char -funsigned-bitfields -fshort-enums -Wall -Wstrict-prototypes -Wa,-adhlns=objdir-CW308_STM32F3/poly.lst -I.././simpleserial/ -I.././hal -I.././hal/stm32f3 -I.././hal/stm32f3/CMSIS -I.././hal/stm32f3/CMSIS/core -I.././hal/stm32f3/CMSIS/device -I.././hal/stm32f4/Legacy -I.././crypto/ -std=gnu99  -MMD -MP -MF .dep/poly.o.d poly.c -o objdir-CW308_STM32F3/poly.o\n",
      ".\n",
      "Compiling C: polyvec.c\n",
      "arm-none-eabi-gcc -c -mcpu=cortex-m4  -I. -mthumb -mfloat-abi=hard -fmessage-length=0 -ffunction-sections -gdwarf-2 -DSS_VER=SS_VER_1_1 -DSTM32F303xC -DSTM32F3 -DSTM32 -DDEBUG -DHAL_TYPE=HAL_stm32f3 -DPLATFORM=CW308_STM32F3 -DF_CPU=7372800UL -DSS_VER_2_0=2 -DSS_VER_2_1=3 -DSS_VER_1_1=1 -DSS_VER_1_0=0 -Os -funsigned-char -funsigned-bitfields -fshort-enums -Wall -Wstrict-prototypes -Wa,-adhlns=objdir-CW308_STM32F3/polyvec.lst -I.././simpleserial/ -I.././hal -I.././hal/stm32f3 -I.././hal/stm32f3/CMSIS -I.././hal/stm32f3/CMSIS/core -I.././hal/stm32f3/CMSIS/device -I.././hal/stm32f4/Legacy -I.././crypto/ -std=gnu99  -MMD -MP -MF .dep/polyvec.o.d polyvec.c -o objdir-CW308_STM32F3/polyvec.o\n",
      ".\n",
      "Compiling C: symmetric-fips202.c\n",
      "arm-none-eabi-gcc -c -mcpu=cortex-m4  -I. -mthumb -mfloat-abi=hard -fmessage-length=0 -ffunction-sections -gdwarf-2 -DSS_VER=SS_VER_1_1 -DSTM32F303xC -DSTM32F3 -DSTM32 -DDEBUG -DHAL_TYPE=HAL_stm32f3 -DPLATFORM=CW308_STM32F3 -DF_CPU=7372800UL -DSS_VER_2_0=2 -DSS_VER_2_1=3 -DSS_VER_1_1=1 -DSS_VER_1_0=0 -Os -funsigned-char -funsigned-bitfields -fshort-enums -Wall -Wstrict-prototypes -Wa,-adhlns=objdir-CW308_STM32F3/symmetric-fips202.lst -I.././simpleserial/ -I.././hal -I.././hal/stm32f3 -I.././hal/stm32f3/CMSIS -I.././hal/stm32f3/CMSIS/core -I.././hal/stm32f3/CMSIS/device -I.././hal/stm32f4/Legacy -I.././crypto/ -std=gnu99  -MMD -MP -MF .dep/symmetric-fips202.o.d symmetric-fips202.c -o objdir-CW308_STM32F3/symmetric-fips202.o\n",
      ".\n",
      "Compiling C: cbd.c\n",
      "arm-none-eabi-gcc -c -mcpu=cortex-m4  -I. -mthumb -mfloat-abi=hard -fmessage-length=0 -ffunction-sections -gdwarf-2 -DSS_VER=SS_VER_1_1 -DSTM32F303xC -DSTM32F3 -DSTM32 -DDEBUG -DHAL_TYPE=HAL_stm32f3 -DPLATFORM=CW308_STM32F3 -DF_CPU=7372800UL -DSS_VER_2_0=2 -DSS_VER_2_1=3 -DSS_VER_1_1=1 -DSS_VER_1_0=0 -Os -funsigned-char -funsigned-bitfields -fshort-enums -Wall -Wstrict-prototypes -Wa,-adhlns=objdir-CW308_STM32F3/cbd.lst -I.././simpleserial/ -I.././hal -I.././hal/stm32f3 -I.././hal/stm32f3/CMSIS -I.././hal/stm32f3/CMSIS/core -I.././hal/stm32f3/CMSIS/device -I.././hal/stm32f4/Legacy -I.././crypto/ -std=gnu99  -MMD -MP -MF .dep/cbd.o.d cbd.c -o objdir-CW308_STM32F3/cbd.o\n",
      ".\n",
      "Compiling C: ntt.c\n",
      "arm-none-eabi-gcc -c -mcpu=cortex-m4  -I. -mthumb -mfloat-abi=hard -fmessage-length=0 -ffunction-sections -gdwarf-2 -DSS_VER=SS_VER_1_1 -DSTM32F303xC -DSTM32F3 -DSTM32 -DDEBUG -DHAL_TYPE=HAL_stm32f3 -DPLATFORM=CW308_STM32F3 -DF_CPU=7372800UL -DSS_VER_2_0=2 -DSS_VER_2_1=3 -DSS_VER_1_1=1 -DSS_VER_1_0=0 -Os -funsigned-char -funsigned-bitfields -fshort-enums -Wall -Wstrict-prototypes -Wa,-adhlns=objdir-CW308_STM32F3/ntt.lst -I.././simpleserial/ -I.././hal -I.././hal/stm32f3 -I.././hal/stm32f3/CMSIS -I.././hal/stm32f3/CMSIS/core -I.././hal/stm32f3/CMSIS/device -I.././hal/stm32f4/Legacy -I.././crypto/ -std=gnu99  -MMD -MP -MF .dep/ntt.o.d ntt.c -o objdir-CW308_STM32F3/ntt.o\n",
      ".\n",
      "Compiling C: kem.c\n",
      "arm-none-eabi-gcc -c -mcpu=cortex-m4  -I. -mthumb -mfloat-abi=hard -fmessage-length=0 -ffunction-sections -gdwarf-2 -DSS_VER=SS_VER_1_1 -DSTM32F303xC -DSTM32F3 -DSTM32 -DDEBUG -DHAL_TYPE=HAL_stm32f3 -DPLATFORM=CW308_STM32F3 -DF_CPU=7372800UL -DSS_VER_2_0=2 -DSS_VER_2_1=3 -DSS_VER_1_1=1 -DSS_VER_1_0=0 -Os -funsigned-char -funsigned-bitfields -fshort-enums -Wall -Wstrict-prototypes -Wa,-adhlns=objdir-CW308_STM32F3/kem.lst -I.././simpleserial/ -I.././hal -I.././hal/stm32f3 -I.././hal/stm32f3/CMSIS -I.././hal/stm32f3/CMSIS/core -I.././hal/stm32f3/CMSIS/device -I.././hal/stm32f4/Legacy -I.././crypto/ -std=gnu99  -MMD -MP -MF .dep/kem.o.d kem.c -o objdir-CW308_STM32F3/kem.o\n",
      ".\n",
      "Compiling C: verify.c\n",
      "arm-none-eabi-gcc -c -mcpu=cortex-m4  -I. -mthumb -mfloat-abi=hard -fmessage-length=0 -ffunction-sections -gdwarf-2 -DSS_VER=SS_VER_1_1 -DSTM32F303xC -DSTM32F3 -DSTM32 -DDEBUG -DHAL_TYPE=HAL_stm32f3 -DPLATFORM=CW308_STM32F3 -DF_CPU=7372800UL -DSS_VER_2_0=2 -DSS_VER_2_1=3 -DSS_VER_1_1=1 -DSS_VER_1_0=0 -Os -funsigned-char -funsigned-bitfields -fshort-enums -Wall -Wstrict-prototypes -Wa,-adhlns=objdir-CW308_STM32F3/verify.lst -I.././simpleserial/ -I.././hal -I.././hal/stm32f3 -I.././hal/stm32f3/CMSIS -I.././hal/stm32f3/CMSIS/core -I.././hal/stm32f3/CMSIS/device -I.././hal/stm32f4/Legacy -I.././crypto/ -std=gnu99  -MMD -MP -MF .dep/verify.o.d verify.c -o objdir-CW308_STM32F3/verify.o\n",
      ".\n",
      "Compiling C: .././simpleserial/simpleserial.c\n",
      "arm-none-eabi-gcc -c -mcpu=cortex-m4  -I. -mthumb -mfloat-abi=hard -fmessage-length=0 -ffunction-sections -gdwarf-2 -DSS_VER=SS_VER_1_1 -DSTM32F303xC -DSTM32F3 -DSTM32 -DDEBUG -DHAL_TYPE=HAL_stm32f3 -DPLATFORM=CW308_STM32F3 -DF_CPU=7372800UL -DSS_VER_2_0=2 -DSS_VER_2_1=3 -DSS_VER_1_1=1 -DSS_VER_1_0=0 -Os -funsigned-char -funsigned-bitfields -fshort-enums -Wall -Wstrict-prototypes -Wa,-adhlns=objdir-CW308_STM32F3/simpleserial.lst -I.././simpleserial/ -I.././hal -I.././hal/stm32f3 -I.././hal/stm32f3/CMSIS -I.././hal/stm32f3/CMSIS/core -I.././hal/stm32f3/CMSIS/device -I.././hal/stm32f4/Legacy -I.././crypto/ -std=gnu99  -MMD -MP -MF .dep/simpleserial.o.d .././simpleserial/simpleserial.c -o objdir-CW308_STM32F3/simpleserial.o\n",
      ".\n",
      "Compiling C: .././hal/stm32f3/stm32f3_hal.c\n",
      "arm-none-eabi-gcc -c -mcpu=cortex-m4  -I. -mthumb -mfloat-abi=hard -fmessage-length=0 -ffunction-sections -gdwarf-2 -DSS_VER=SS_VER_1_1 -DSTM32F303xC -DSTM32F3 -DSTM32 -DDEBUG -DHAL_TYPE=HAL_stm32f3 -DPLATFORM=CW308_STM32F3 -DF_CPU=7372800UL -DSS_VER_2_0=2 -DSS_VER_2_1=3 -DSS_VER_1_1=1 -DSS_VER_1_0=0 -Os -funsigned-char -funsigned-bitfields -fshort-enums -Wall -Wstrict-prototypes -Wa,-adhlns=objdir-CW308_STM32F3/stm32f3_hal.lst -I.././simpleserial/ -I.././hal -I.././hal/stm32f3 -I.././hal/stm32f3/CMSIS -I.././hal/stm32f3/CMSIS/core -I.././hal/stm32f3/CMSIS/device -I.././hal/stm32f4/Legacy -I.././crypto/ -std=gnu99  -MMD -MP -MF .dep/stm32f3_hal.o.d .././hal/stm32f3/stm32f3_hal.c -o objdir-CW308_STM32F3/stm32f3_hal.o\n",
      ".\n",
      "Compiling C: .././hal/stm32f3/stm32f3_hal_lowlevel.c\n",
      "arm-none-eabi-gcc -c -mcpu=cortex-m4  -I. -mthumb -mfloat-abi=hard -fmessage-length=0 -ffunction-sections -gdwarf-2 -DSS_VER=SS_VER_1_1 -DSTM32F303xC -DSTM32F3 -DSTM32 -DDEBUG -DHAL_TYPE=HAL_stm32f3 -DPLATFORM=CW308_STM32F3 -DF_CPU=7372800UL -DSS_VER_2_0=2 -DSS_VER_2_1=3 -DSS_VER_1_1=1 -DSS_VER_1_0=0 -Os -funsigned-char -funsigned-bitfields -fshort-enums -Wall -Wstrict-prototypes -Wa,-adhlns=objdir-CW308_STM32F3/stm32f3_hal_lowlevel.lst -I.././simpleserial/ -I.././hal -I.././hal/stm32f3 -I.././hal/stm32f3/CMSIS -I.././hal/stm32f3/CMSIS/core -I.././hal/stm32f3/CMSIS/device -I.././hal/stm32f4/Legacy -I.././crypto/ -std=gnu99  -MMD -MP -MF .dep/stm32f3_hal_lowlevel.o.d .././hal/stm32f3/stm32f3_hal_lowlevel.c -o objdir-CW308_STM32F3/stm32f3_hal_lowlevel.o\n",
      ".\n",
      "Compiling C: .././hal/stm32f3/stm32f3_sysmem.c\n",
      "arm-none-eabi-gcc -c -mcpu=cortex-m4  -I. -mthumb -mfloat-abi=hard -fmessage-length=0 -ffunction-sections -gdwarf-2 -DSS_VER=SS_VER_1_1 -DSTM32F303xC -DSTM32F3 -DSTM32 -DDEBUG -DHAL_TYPE=HAL_stm32f3 -DPLATFORM=CW308_STM32F3 -DF_CPU=7372800UL -DSS_VER_2_0=2 -DSS_VER_2_1=3 -DSS_VER_1_1=1 -DSS_VER_1_0=0 -Os -funsigned-char -funsigned-bitfields -fshort-enums -Wall -Wstrict-prototypes -Wa,-adhlns=objdir-CW308_STM32F3/stm32f3_sysmem.lst -I.././simpleserial/ -I.././hal -I.././hal/stm32f3 -I.././hal/stm32f3/CMSIS -I.././hal/stm32f3/CMSIS/core -I.././hal/stm32f3/CMSIS/device -I.././hal/stm32f4/Legacy -I.././crypto/ -std=gnu99  -MMD -MP -MF .dep/stm32f3_sysmem.o.d .././hal/stm32f3/stm32f3_sysmem.c -o objdir-CW308_STM32F3/stm32f3_sysmem.o\n"
     ]
    },
    {
     "name": "stdout",
     "output_type": "stream",
     "text": [
      ".\n",
      "Assembling: reduce.S\n",
      "arm-none-eabi-gcc -c -mcpu=cortex-m4  -I. -x assembler-with-cpp -mthumb -mfloat-abi=hard -fmessage-length=0 -ffunction-sections -DF_CPU=7372800 -Wa,-gstabs,-adhlns=objdir-CW308_STM32F3/reduce.lst -I.././simpleserial/ -I.././hal -I.././hal/stm32f3 -I.././hal/stm32f3/CMSIS -I.././hal/stm32f3/CMSIS/core -I.././hal/stm32f3/CMSIS/device -I.././hal/stm32f4/Legacy -I.././crypto/ reduce.S -o objdir-CW308_STM32F3/reduce.o\n",
      ".\n",
      "Assembling: fastaddsub.S\n",
      "arm-none-eabi-gcc -c -mcpu=cortex-m4  -I. -x assembler-with-cpp -mthumb -mfloat-abi=hard -fmessage-length=0 -ffunction-sections -DF_CPU=7372800 -Wa,-gstabs,-adhlns=objdir-CW308_STM32F3/fastaddsub.lst -I.././simpleserial/ -I.././hal -I.././hal/stm32f3 -I.././hal/stm32f3/CMSIS -I.././hal/stm32f3/CMSIS/core -I.././hal/stm32f3/CMSIS/device -I.././hal/stm32f4/Legacy -I.././crypto/ fastaddsub.S -o objdir-CW308_STM32F3/fastaddsub.o\n",
      ".\n",
      "Assembling: fastbasemul.S\n",
      "arm-none-eabi-gcc -c -mcpu=cortex-m4  -I. -x assembler-with-cpp -mthumb -mfloat-abi=hard -fmessage-length=0 -ffunction-sections -DF_CPU=7372800 -Wa,-gstabs,-adhlns=objdir-CW308_STM32F3/fastbasemul.lst -I.././simpleserial/ -I.././hal -I.././hal/stm32f3 -I.././hal/stm32f3/CMSIS -I.././hal/stm32f3/CMSIS/core -I.././hal/stm32f3/CMSIS/device -I.././hal/stm32f4/Legacy -I.././crypto/ fastbasemul.S -o objdir-CW308_STM32F3/fastbasemul.o\n",
      ".\n",
      "Assembling: fastinvntt.S\n",
      "arm-none-eabi-gcc -c -mcpu=cortex-m4  -I. -x assembler-with-cpp -mthumb -mfloat-abi=hard -fmessage-length=0 -ffunction-sections -DF_CPU=7372800 -Wa,-gstabs,-adhlns=objdir-CW308_STM32F3/fastinvntt.lst -I.././simpleserial/ -I.././hal -I.././hal/stm32f3 -I.././hal/stm32f3/CMSIS -I.././hal/stm32f3/CMSIS/core -I.././hal/stm32f3/CMSIS/device -I.././hal/stm32f4/Legacy -I.././crypto/ fastinvntt.S -o objdir-CW308_STM32F3/fastinvntt.o\n",
      ".\n",
      "Assembling: fastntt.S\n",
      "arm-none-eabi-gcc -c -mcpu=cortex-m4  -I. -x assembler-with-cpp -mthumb -mfloat-abi=hard -fmessage-length=0 -ffunction-sections -DF_CPU=7372800 -Wa,-gstabs,-adhlns=objdir-CW308_STM32F3/fastntt.lst -I.././simpleserial/ -I.././hal -I.././hal/stm32f3 -I.././hal/stm32f3/CMSIS -I.././hal/stm32f3/CMSIS/core -I.././hal/stm32f3/CMSIS/device -I.././hal/stm32f4/Legacy -I.././crypto/ fastntt.S -o objdir-CW308_STM32F3/fastntt.o\n",
      ".\n",
      "Compiling C: keccakf1600.c\n",
      "arm-none-eabi-gcc -c -mcpu=cortex-m4  -I. -mthumb -mfloat-abi=hard -fmessage-length=0 -ffunction-sections -gdwarf-2 -DSS_VER=SS_VER_1_1 -DSTM32F303xC -DSTM32F3 -DSTM32 -DDEBUG -DHAL_TYPE=HAL_stm32f3 -DPLATFORM=CW308_STM32F3 -DF_CPU=7372800UL -DSS_VER_2_0=2 -DSS_VER_2_1=3 -DSS_VER_1_1=1 -DSS_VER_1_0=0 -Os -funsigned-char -funsigned-bitfields -fshort-enums -Wall -Wstrict-prototypes -Wa,-adhlns=objdir-CW308_STM32F3/keccakf1600.lst -I.././simpleserial/ -I.././hal -I.././hal/stm32f3 -I.././hal/stm32f3/CMSIS -I.././hal/stm32f3/CMSIS/core -I.././hal/stm32f3/CMSIS/device -I.././hal/stm32f4/Legacy -I.././crypto/ -std=gnu99  -MMD -MP -MF .dep/keccakf1600.o.d keccakf1600.c -o objdir-CW308_STM32F3/keccakf1600.o\n",
      ".\n",
      "Assembling: .././hal/stm32f3/stm32f3_startup.S\n",
      "arm-none-eabi-gcc -c -mcpu=cortex-m4  -I. -x assembler-with-cpp -mthumb -mfloat-abi=hard -fmessage-length=0 -ffunction-sections -DF_CPU=7372800 -Wa,-gstabs,-adhlns=objdir-CW308_STM32F3/stm32f3_startup.lst -I.././simpleserial/ -I.././hal -I.././hal/stm32f3 -I.././hal/stm32f3/CMSIS -I.././hal/stm32f3/CMSIS/core -I.././hal/stm32f3/CMSIS/device -I.././hal/stm32f4/Legacy -I.././crypto/ .././hal/stm32f3/stm32f3_startup.S -o objdir-CW308_STM32F3/stm32f3_startup.o\n",
      ".\n",
      "Linking: simpleserial-kyber512-m4-CW308_STM32F3.elf\n",
      "arm-none-eabi-gcc -mcpu=cortex-m4  -I. -mthumb -mfloat-abi=hard -fmessage-length=0 -ffunction-sections -gdwarf-2 -DSS_VER=SS_VER_1_1 -DSTM32F303xC -DSTM32F3 -DSTM32 -DDEBUG -DHAL_TYPE=HAL_stm32f3 -DPLATFORM=CW308_STM32F3 -DF_CPU=7372800UL -DSS_VER_2_0=2 -DSS_VER_2_1=3 -DSS_VER_1_1=1 -DSS_VER_1_0=0 -Os -funsigned-char -funsigned-bitfields -fshort-enums -Wall -Wstrict-prototypes -Wa,-adhlns=objdir-CW308_STM32F3/kyber512.o -I.././simpleserial/ -I.././hal -I.././hal/stm32f3 -I.././hal/stm32f3/CMSIS -I.././hal/stm32f3/CMSIS/core -I.././hal/stm32f3/CMSIS/device -I.././hal/stm32f4/Legacy -I.././crypto/ -std=gnu99  -MMD -MP -MF .dep/simpleserial-kyber512-m4-CW308_STM32F3.elf.d objdir-CW308_STM32F3/kyber512.o objdir-CW308_STM32F3/indcpa.o objdir-CW308_STM32F3/randombytes.o objdir-CW308_STM32F3/fips202.o objdir-CW308_STM32F3/poly.o objdir-CW308_STM32F3/polyvec.o objdir-CW308_STM32F3/symmetric-fips202.o objdir-CW308_STM32F3/cbd.o objdir-CW308_STM32F3/ntt.o objdir-CW308_STM32F3/kem.o objdir-CW308_STM32F3/verify.o objdir-CW308_STM32F3/simpleserial.o objdir-CW308_STM32F3/stm32f3_hal.o objdir-CW308_STM32F3/stm32f3_hal_lowlevel.o objdir-CW308_STM32F3/stm32f3_sysmem.o objdir-CW308_STM32F3/reduce.o objdir-CW308_STM32F3/fastaddsub.o objdir-CW308_STM32F3/fastbasemul.o objdir-CW308_STM32F3/fastinvntt.o objdir-CW308_STM32F3/fastntt.o objdir-CW308_STM32F3/keccakf1600.o objdir-CW308_STM32F3/stm32f3_startup.o --output simpleserial-kyber512-m4-CW308_STM32F3.elf --specs=nano.specs --specs=nosys.specs -T .././hal/stm32f3/LinkerScript.ld -Wl,--gc-sections -lm -Wl,-Map=simpleserial-kyber512-m4-CW308_STM32F3.map,--cref   -lm  \n",
      ".\n",
      "Creating load file for Flash: simpleserial-kyber512-m4-CW308_STM32F3.hex\n",
      "arm-none-eabi-objcopy -O ihex -R .eeprom -R .fuse -R .lock -R .signature simpleserial-kyber512-m4-CW308_STM32F3.elf simpleserial-kyber512-m4-CW308_STM32F3.hex\n",
      ".\n",
      "Creating load file for Flash: simpleserial-kyber512-m4-CW308_STM32F3.bin\n",
      "arm-none-eabi-objcopy -O binary -R .eeprom -R .fuse -R .lock -R .signature simpleserial-kyber512-m4-CW308_STM32F3.elf simpleserial-kyber512-m4-CW308_STM32F3.bin\n",
      ".\n",
      "Creating load file for EEPROM: simpleserial-kyber512-m4-CW308_STM32F3.eep\n",
      "arm-none-eabi-objcopy -j .eeprom --set-section-flags=.eeprom=\"alloc,load\" \\\n",
      "--change-section-lma .eeprom=0 --no-change-warnings -O ihex simpleserial-kyber512-m4-CW308_STM32F3.elf simpleserial-kyber512-m4-CW308_STM32F3.eep || exit 0\n",
      ".\n",
      "Creating Extended Listing: simpleserial-kyber512-m4-CW308_STM32F3.lss\n",
      "arm-none-eabi-objdump -h -S -z simpleserial-kyber512-m4-CW308_STM32F3.elf > simpleserial-kyber512-m4-CW308_STM32F3.lss\n",
      ".\n",
      "Creating Symbol Table: simpleserial-kyber512-m4-CW308_STM32F3.sym\n",
      "arm-none-eabi-nm -n simpleserial-kyber512-m4-CW308_STM32F3.elf > simpleserial-kyber512-m4-CW308_STM32F3.sym\n",
      "Size after:\n",
      "   text\t   data\t    bss\t    dec\t    hex\tfilename\n",
      "  11360\t   1576\t   2304\t  15240\t   3b88\tsimpleserial-kyber512-m4-CW308_STM32F3.elf\n",
      "+--------------------------------------------------------\n",
      "+ Default target does full rebuild each time.\n",
      "+ Specify buildtarget == allquick == to avoid full rebuild\n",
      "+--------------------------------------------------------\n",
      "+--------------------------------------------------------\n",
      "+ Built for platform CW308T: STM32F3 Target with:\n",
      "+ CRYPTO_TARGET = NONE\n",
      "+ CRYPTO_OPTIONS = NONE\n",
      "+--------------------------------------------------------\n",
      "make[1]: Leaving directory 'C:/Users/erlen/ChipWhisperer5_64/cw/home/portable/chipwhisperer/hardware/victims/firmware/simpleserial-kyber512-m4'\n"
     ]
    },
    {
     "name": "stderr",
     "output_type": "stream",
     "text": [
      "xPack OpenOCD x86_64 Open On-Chip Debugger 0.11.0+dev (2022-03-25-17:32)\n",
      "Licensed under GNU GPL v2\n",
      "For bug reports, read\n",
      "\thttp://openocd.org/doc/doxygen/bugs.html\n",
      "jtag\n",
      "Info : DEPRECATED target event trace-config; use TPIU events {pre,post}-{enable,disable}\n",
      "Info : clock speed 1000 kHz\n",
      "Info : JTAG tap: stm32f3x.cpu tap/device found: 0x4ba00477 (mfg: 0x23b (ARM Ltd), part: 0xba00, ver: 0x4)\n",
      "Info : JTAG tap: stm32f3x.bs tap/device found: 0x06422041 (mfg: 0x020 (STMicroelectronics), part: 0x6422, ver: 0x0)\n",
      "Info : [stm32f3x.cpu] Cortex-M4 r0p1 processor detected\n",
      "Info : [stm32f3x.cpu] target has 6 breakpoints, 4 watchpoints\n",
      "Info : [stm32f3x.cpu] external reset detected\n",
      "Info : starting gdb server for stm32f3x.cpu on 3333\n",
      "Info : Listening on port 3333 for gdb connections\n",
      "    TargetName         Type       Endian TapName            State       \n",
      "--  ------------------ ---------- ------ ------------------ ------------\n",
      " 0* stm32f3x.cpu       cortex_m   little stm32f3x.cpu       running\n",
      "\n",
      "target halted due to debug-request, current mode: Thread \n",
      "xPSR: 0x610f0000 pc: 0x08002636 msp: 0x20003000\n",
      "Info : device id = 0x10036422\n",
      "Info : flash size = 128kbytes\n",
      "auto erase enabled\n",
      "wrote 14336 bytes from file simpleserial-kyber512-m4-CW308_STM32F3.elf in 1.168985s (11.976 KiB/s)\n",
      "\n",
      "verified 12936 bytes from file simpleserial-kyber512-m4-CW308_STM32F3.elf in 0.285534s (44.243 KiB/s)\n",
      "\n",
      "Info : JTAG tap: stm32f3x.cpu tap/device found: 0x4ba00477 (mfg: 0x23b (ARM Ltd), part: 0xba00, ver: 0x4)\n",
      "Info : JTAG tap: stm32f3x.bs tap/device found: 0x06422041 (mfg: 0x020 (STMicroelectronics), part: 0x6422, ver: 0x0)\n",
      "target halted due to breakpoint, current mode: Thread \n",
      "xPSR: 0x61000000 pc: 0x2000002e msp: 0x20003000\n",
      "shutdown command invoked\n"
     ]
    }
   ],
   "source": [
    "%%sh -s \"$PID\"\n",
    "\n",
    "# build firmware\n",
    "#cd ../hardware/victims/firmware/simpleserial-kyber512-clean/\n",
    "cd ../hardware/victims/firmware/simpleserial-kyber512-m4/\n",
    "\n",
    "make PLATFORM=CW308_STM32F3 CRYPTO_TARGET=NONE\n",
    "\n",
    "#openocd -f ../../../../cw_openocd.cfg -c \"transport select jtag\" -c \"ftdi vid_pid 0x2b3e $1\" -f \"target/stm32f3x.cfg\" -c \"init\" -c \"targets\" -c \"halt\" -c \"flash write_image erase simpleserial-kyber512-clean-CW308_STM32F3.elf\" -c \"flash verify_image simpleserial-kyber512-clean-CW308_STM32F3.elf\" -c \"reset run\" -c \"shutdown\"\n",
    "openocd -f ../../../../cw_openocd.cfg -c \"transport select jtag\" -c \"ftdi vid_pid 0x2b3e $1\" -f \"target/stm32f3x.cfg\" -c \"init\" -c \"targets\" -c \"halt\" -c \"flash write_image erase simpleserial-kyber512-m4-CW308_STM32F3.elf\" -c \"flash verify_image simpleserial-kyber512-m4-CW308_STM32F3.elf\" -c \"reset run\" -c \"shutdown\""
   ]
  },
  {
   "cell_type": "code",
   "execution_count": null,
   "id": "71701a60",
   "metadata": {
    "scrolled": false
   },
   "outputs": [
    {
     "name": "stderr",
     "output_type": "stream",
     "text": [
      "xPack OpenOCD x86_64 Open On-Chip Debugger 0.11.0+dev (2022-03-25-17:32)\n",
      "Licensed under GNU GPL v2\n",
      "For bug reports, read\n",
      "\thttp://openocd.org/doc/doxygen/bugs.html\n",
      "jtag\n",
      "Info : DEPRECATED target event trace-config; use TPIU events {pre,post}-{enable,disable}\n",
      "Info : Listening on port 6666 for tcl connections\n",
      "Info : Listening on port 4444 for telnet connections\n",
      "Info : clock speed 1000 kHz\n",
      "Info : JTAG tap: stm32f3x.cpu tap/device found: 0x4ba00477 (mfg: 0x23b (ARM Ltd), part: 0xba00, ver: 0x4)\n",
      "Info : JTAG tap: stm32f3x.bs tap/device found: 0x06422041 (mfg: 0x020 (STMicroelectronics), part: 0x6422, ver: 0x0)\n",
      "Info : [stm32f3x.cpu] Cortex-M4 r0p1 processor detected\n",
      "Info : [stm32f3x.cpu] target has 6 breakpoints, 4 watchpoints\n",
      "Info : [stm32f3x.cpu] external reset detected\n",
      "Info : starting gdb server for stm32f3x.cpu on 3333\n",
      "Info : Listening on port 3333 for gdb connections\n",
      "Info : accepting 'gdb' connection on tcp/3333\n",
      "target halted due to debug-request, current mode: Thread \n",
      "xPSR: 0x610f0000 pc: 0x08002636 msp: 0x20003000\n",
      "Info : device id = 0x10036422\n",
      "Info : flash size = 128kbytes\n",
      "Info : JTAG tap: stm32f3x.cpu tap/device found: 0x4ba00477 (mfg: 0x23b (ARM Ltd), part: 0xba00, ver: 0x4)\n",
      "Info : JTAG tap: stm32f3x.bs tap/device found: 0x06422041 (mfg: 0x020 (STMicroelectronics), part: 0x6422, ver: 0x0)\n",
      "target halted due to debug-request, current mode: Thread \n",
      "xPSR: 0x610f0000 pc: 0x08002636 msp: 0x20003000\n",
      "Info : JTAG tap: stm32f3x.cpu tap/device found: 0x4ba00477 (mfg: 0x23b (ARM Ltd), part: 0xba00, ver: 0x4)\n",
      "Info : JTAG tap: stm32f3x.bs tap/device found: 0x06422041 (mfg: 0x020 (STMicroelectronics), part: 0x6422, ver: 0x0)\n",
      "target halted due to debug-request, current mode: Thread \n",
      "xPSR: 0x610f0000 pc: 0x08002636 msp: 0x20003000\n",
      "Info : JTAG tap: stm32f3x.cpu tap/device found: 0x4ba00477 (mfg: 0x23b (ARM Ltd), part: 0xba00, ver: 0x4)\n",
      "Info : JTAG tap: stm32f3x.bs tap/device found: 0x06422041 (mfg: 0x020 (STMicroelectronics), part: 0x6422, ver: 0x0)\n",
      "target halted due to debug-request, current mode: Thread \n",
      "xPSR: 0x61000000 pc: 0x2000003a msp: 0x20003000\n"
     ]
    }
   ],
   "source": [
    "%%sh -s \"$PID\"\n",
    "\n",
    "# build firmware\n",
    "#cd ../hardware/victims/firmware/simpleserial-kyber512-clean\n",
    "cd ../hardware/victims/firmware/simpleserial-kyber512-m4\n",
    "\n",
    "openocd -f ../../../../cw_openocd.cfg -c \"transport select jtag\" -c \"ftdi vid_pid 0x2b3e $1\" -f \"target/stm32f3x.cfg\""
   ]
  },
  {
   "cell_type": "markdown",
   "id": "cb59adf4",
   "metadata": {},
   "source": [
    "### Start terminal og kjør gdb\n",
    "cd hardware/victims/firmware/simpleserial-kyber512-m4\n",
    "\n",
    "arm-none-eabi-gdb simpleserial-kyber512-m4-CW308_STM32F3.elf -ex \"target extended-remote localhost:3333\" -ex \"monitor reset halt\" -ex \"load\"\n",
    "\n",
    "b main (prøv reconect om infinite loop)\n",
    "\n",
    "set print elements 0\n",
    "\n",
    "c\n",
    "\n",
    "#### Comandos\n",
    "bt - stack trace\n",
    "\n",
    "s inn i funksjon\n",
    "\n",
    "n neste linje\n",
    "\n",
    "p/x variable_name.coeffs print som hexadesimal\n",
    "\n",
    "info registers eller p/x $r0  for register verdier\n",
    "\n",
    "display/i $pc\n",
    "\n",
    "fin - kjører gjennom funksjon stopper når hopper ut"
   ]
  }
 ],
 "metadata": {
  "kernelspec": {
   "display_name": "Python 3 (ipykernel)",
   "language": "python",
   "name": "python3"
  },
  "language_info": {
   "codemirror_mode": {
    "name": "ipython",
    "version": 3
   },
   "file_extension": ".py",
   "mimetype": "text/x-python",
   "name": "python",
   "nbconvert_exporter": "python",
   "pygments_lexer": "ipython3",
   "version": "3.10.8"
  }
 },
 "nbformat": 4,
 "nbformat_minor": 5
}
